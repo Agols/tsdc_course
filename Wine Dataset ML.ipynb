{
 "cells": [
  {
   "cell_type": "markdown",
   "id": "8b2807a7-5ca1-47e3-8687-996accb035a0",
   "metadata": {
    "tags": []
   },
   "source": [
    "# Wines Points prediction "
   ]
  },
  {
   "cell_type": "markdown",
   "id": "3637ff3e-859f-445f-953e-9e4bdfb2360a",
   "metadata": {},
   "source": [
    "Submission Date : 3.6.2023\n",
    "Task: Predict the wine score given the inputs\n",
    "Instructions:\n",
    " * Use logistic regression as benchmark model\n",
    " * Use sklearn pipeliens + cv + grid search with sklearn models (e.g. KNNs, RandomForest, etc.)\n",
    " * Compare all models on proper metric (your choice)"
   ]
  },
  {
   "cell_type": "markdown",
   "id": "7bcc4b13-695f-4bde-a10a-6880711e64d5",
   "metadata": {},
   "source": [
    "For DNN course project:\n",
    "* Use sklearn pipeliens with tensorflow models (w/wo embeddings, LSTMs, RNNs, Transformers etc.)\n",
    "* Compare all models on proper metric (your choice)"
   ]
  },
  {
   "cell_type": "code",
   "execution_count": 2,
   "id": "be60edbc-2c4d-43ce-baba-bcbdea5639dc",
   "metadata": {},
   "outputs": [],
   "source": [
    "import nltk\n",
    "import sys; sys.path.append('../')"
   ]
  },
  {
   "cell_type": "code",
   "execution_count": 3,
   "id": "575055c6-fbe4-4e96-a92b-d1d56c03c1a2",
   "metadata": {},
   "outputs": [],
   "source": [
    "import string\n",
    "import emoji\n",
    "import re as regex\n",
    "from pandas import * "
   ]
  },
  {
   "cell_type": "code",
   "execution_count": 4,
   "id": "571dc0ef-49e4-4a11-86b0-6f78184d77ab",
   "metadata": {},
   "outputs": [
    {
     "data": {
      "text/html": [
       "        <script type=\"text/javascript\">\n",
       "        window.PlotlyConfig = {MathJaxConfig: 'local'};\n",
       "        if (window.MathJax && window.MathJax.Hub && window.MathJax.Hub.Config) {window.MathJax.Hub.Config({SVG: {font: \"STIX-Web\"}});}\n",
       "        if (typeof require !== 'undefined') {\n",
       "        require.undef(\"plotly\");\n",
       "        requirejs.config({\n",
       "            paths: {\n",
       "                'plotly': ['https://cdn.plot.ly/plotly-2.18.0.min']\n",
       "            }\n",
       "        });\n",
       "        require(['plotly'], function(Plotly) {\n",
       "            window._Plotly = Plotly;\n",
       "        });\n",
       "        }\n",
       "        </script>\n",
       "        "
      ]
     },
     "metadata": {},
     "output_type": "display_data"
    }
   ],
   "source": [
    "from sklearn.pipeline import Pipeline\n",
    "from sklearn.impute import SimpleImputer\n",
    "from sklearn.preprocessing import StandardScaler, OneHotEncoder, MinMaxScaler, RobustScaler\n",
    "from sklearn import set_config\n",
    "import pandas as pd\n",
    "import cufflinks as cf; cf.go_offline()\n",
    "from sklearn.model_selection import train_test_split\n",
    "from sklearn.feature_extraction.text import CountVectorizer\n",
    "from sklearn.feature_extraction.text import TfidfVectorizer\n",
    "import numpy as np\n",
    "from sklearn.model_selection import train_test_split, cross_val_score\n",
    "from sklearn.metrics import roc_auc_score, precision_score, recall_score, accuracy_score\n",
    "from sklearn.linear_model import LogisticRegression\n",
    "from sklearn.linear_model import LogisticRegressionCV\n",
    "from sklearn.impute import SimpleImputer, KNNImputer\n",
    "from sklearn.compose import ColumnTransformer\n",
    "from sklearn.linear_model import Ridge, Lasso\n",
    "import seaborn as sns\n",
    "from sklearn.decomposition import PCA\n",
    "from sklearn.metrics import mean_squared_error, r2_score"
   ]
  },
  {
   "cell_type": "markdown",
   "id": "7e333b65-ea79-4b81-969c-cb28ec9a1015",
   "metadata": {
    "tags": []
   },
   "source": [
    "# Try categorical and numeric columns only preprocessing"
   ]
  },
  {
   "cell_type": "code",
   "execution_count": 5,
   "id": "331d3b56-9624-4c85-9706-973f142d591a",
   "metadata": {},
   "outputs": [
    {
     "data": {
      "text/plain": [
       "(119924, 8)"
      ]
     },
     "execution_count": 5,
     "metadata": {},
     "output_type": "execute_result"
    }
   ],
   "source": [
    "wine_reviews = pd.read_csv(\"data/wine_reviews.csv\", index_col=0)\n",
    "wine_reviews.shape"
   ]
  },
  {
   "cell_type": "code",
   "execution_count": 6,
   "id": "fbd4134c-e2ec-4af5-ac5b-1cae28919d3d",
   "metadata": {},
   "outputs": [
    {
     "data": {
      "text/html": [
       "<div>\n",
       "<style scoped>\n",
       "    .dataframe tbody tr th:only-of-type {\n",
       "        vertical-align: middle;\n",
       "    }\n",
       "\n",
       "    .dataframe tbody tr th {\n",
       "        vertical-align: top;\n",
       "    }\n",
       "\n",
       "    .dataframe thead th {\n",
       "        text-align: right;\n",
       "    }\n",
       "</style>\n",
       "<table border=\"1\" class=\"dataframe\">\n",
       "  <thead>\n",
       "    <tr style=\"text-align: right;\">\n",
       "      <th></th>\n",
       "      <th>country</th>\n",
       "      <th>description</th>\n",
       "      <th>points</th>\n",
       "      <th>price</th>\n",
       "      <th>province</th>\n",
       "      <th>taster_name</th>\n",
       "      <th>variety</th>\n",
       "      <th>year</th>\n",
       "    </tr>\n",
       "  </thead>\n",
       "  <tbody>\n",
       "    <tr>\n",
       "      <th>22163</th>\n",
       "      <td>France</td>\n",
       "      <td>Pure notes of Conference pear define both nose...</td>\n",
       "      <td>91</td>\n",
       "      <td>20.0</td>\n",
       "      <td>Alsace</td>\n",
       "      <td>Anne Krebiehl MW</td>\n",
       "      <td>Pinot Gris</td>\n",
       "      <td>2015.0</td>\n",
       "    </tr>\n",
       "    <tr>\n",
       "      <th>91257</th>\n",
       "      <td>Chile</td>\n",
       "      <td>Angular and piquant on the nose, with tight ar...</td>\n",
       "      <td>86</td>\n",
       "      <td>24.0</td>\n",
       "      <td>Leyda Valley</td>\n",
       "      <td>Michael Schachner</td>\n",
       "      <td>Pinot Noir</td>\n",
       "      <td>2007.0</td>\n",
       "    </tr>\n",
       "    <tr>\n",
       "      <th>39569</th>\n",
       "      <td>US</td>\n",
       "      <td>In 2011, the fifth vintage of this Riesling, t...</td>\n",
       "      <td>88</td>\n",
       "      <td>13.0</td>\n",
       "      <td>Washington</td>\n",
       "      <td>Paul Gregutt</td>\n",
       "      <td>Riesling</td>\n",
       "      <td>2011.0</td>\n",
       "    </tr>\n",
       "    <tr>\n",
       "      <th>120064</th>\n",
       "      <td>US</td>\n",
       "      <td>Dusty, earthy mineral tones blow off to reveal...</td>\n",
       "      <td>89</td>\n",
       "      <td>25.0</td>\n",
       "      <td>New York</td>\n",
       "      <td>Anna Lee C. Iijima</td>\n",
       "      <td>Riesling</td>\n",
       "      <td>2013.0</td>\n",
       "    </tr>\n",
       "    <tr>\n",
       "      <th>123401</th>\n",
       "      <td>US</td>\n",
       "      <td>Bright black cherry animates the aromas and fl...</td>\n",
       "      <td>88</td>\n",
       "      <td>24.0</td>\n",
       "      <td>California</td>\n",
       "      <td>Jim Gordon</td>\n",
       "      <td>Syrah</td>\n",
       "      <td>2013.0</td>\n",
       "    </tr>\n",
       "  </tbody>\n",
       "</table>\n",
       "</div>"
      ],
      "text/plain": [
       "       country                                        description  points  \\\n",
       "22163   France  Pure notes of Conference pear define both nose...      91   \n",
       "91257    Chile  Angular and piquant on the nose, with tight ar...      86   \n",
       "39569       US  In 2011, the fifth vintage of this Riesling, t...      88   \n",
       "120064      US  Dusty, earthy mineral tones blow off to reveal...      89   \n",
       "123401      US  Bright black cherry animates the aromas and fl...      88   \n",
       "\n",
       "        price      province         taster_name     variety    year  \n",
       "22163    20.0        Alsace    Anne Krebiehl MW  Pinot Gris  2015.0  \n",
       "91257    24.0  Leyda Valley   Michael Schachner  Pinot Noir  2007.0  \n",
       "39569    13.0    Washington        Paul Gregutt    Riesling  2011.0  \n",
       "120064   25.0      New York  Anna Lee C. Iijima    Riesling  2013.0  \n",
       "123401   24.0    California          Jim Gordon       Syrah  2013.0  "
      ]
     },
     "execution_count": 6,
     "metadata": {},
     "output_type": "execute_result"
    }
   ],
   "source": [
    "reviews = wine_reviews\n",
    "reviews.sample(5)"
   ]
  },
  {
   "cell_type": "code",
   "execution_count": 7,
   "id": "30325e12-ea4e-4306-a42e-d6bcb85e3f61",
   "metadata": {},
   "outputs": [
    {
     "name": "stdout",
     "output_type": "stream",
     "text": [
      "(701,)\n"
     ]
    },
    {
     "data": {
      "text/plain": [
       "0.9474000200126746"
      ]
     },
     "execution_count": 7,
     "metadata": {},
     "output_type": "execute_result"
    }
   ],
   "source": [
    "#veriety\n",
    "print(wine_reviews.variety.value_counts().shape)\n",
    "veriety_count = wine_reviews.variety.value_counts().sort_values(ascending=False)\n",
    "veriety_count_sum = veriety_count.sum()\n",
    "#print(veriety_count.head(50))\n",
    "veriety_count.head(100).sum()/veriety_count_sum"
   ]
  },
  {
   "cell_type": "code",
   "execution_count": 8,
   "id": "a3c1a599-b28b-4138-bbea-0b5d7d2355f8",
   "metadata": {},
   "outputs": [
    {
     "name": "stdout",
     "output_type": "stream",
     "text": [
      "(425,)\n"
     ]
    },
    {
     "data": {
      "text/plain": [
       "0.9114105600213469"
      ]
     },
     "execution_count": 8,
     "metadata": {},
     "output_type": "execute_result"
    }
   ],
   "source": [
    "#province\n",
    "print(wine_reviews.province.value_counts().shape)\n",
    "province_count = wine_reviews.province.value_counts().sort_values(ascending=False)\n",
    "province_count_sum = province_count.sum()\n",
    "#print(province_count.head(50))\n",
    "province_count.head(50).sum()/province_count_sum"
   ]
  },
  {
   "cell_type": "code",
   "execution_count": 9,
   "id": "daaec435-2675-4a48-9683-21726cbbbf34",
   "metadata": {},
   "outputs": [
    {
     "data": {
      "text/html": [
       "<div>\n",
       "<style scoped>\n",
       "    .dataframe tbody tr th:only-of-type {\n",
       "        vertical-align: middle;\n",
       "    }\n",
       "\n",
       "    .dataframe tbody tr th {\n",
       "        vertical-align: top;\n",
       "    }\n",
       "\n",
       "    .dataframe thead th {\n",
       "        text-align: right;\n",
       "    }\n",
       "</style>\n",
       "<table border=\"1\" class=\"dataframe\">\n",
       "  <thead>\n",
       "    <tr style=\"text-align: right;\">\n",
       "      <th></th>\n",
       "      <th>country</th>\n",
       "      <th>description</th>\n",
       "      <th>points</th>\n",
       "      <th>price</th>\n",
       "      <th>province</th>\n",
       "      <th>taster_name</th>\n",
       "      <th>variety</th>\n",
       "      <th>year</th>\n",
       "    </tr>\n",
       "  </thead>\n",
       "  <tbody>\n",
       "  </tbody>\n",
       "</table>\n",
       "</div>"
      ],
      "text/plain": [
       "Empty DataFrame\n",
       "Columns: [country, description, points, price, province, taster_name, variety, year]\n",
       "Index: []"
      ]
     },
     "execution_count": 9,
     "metadata": {},
     "output_type": "execute_result"
    }
   ],
   "source": [
    "reviews.year[wine_reviews.year.isna()] = 1800\n",
    "reviews.sample(5)\n",
    "reviews[reviews.year.isna()]"
   ]
  },
  {
   "cell_type": "code",
   "execution_count": 10,
   "id": "039729a5-d076-4d9f-b407-b01eafdd8923",
   "metadata": {},
   "outputs": [
    {
     "data": {
      "text/plain": [
       "(95939, 6)"
      ]
     },
     "execution_count": 10,
     "metadata": {},
     "output_type": "execute_result"
    }
   ],
   "source": [
    "x_train = reviews.drop(columns={'description', 'points'})\n",
    "y_train = reviews['points']\n",
    "X_train, X_test, y_train, y_test = train_test_split(x_train, y_train, test_size=0.2, random_state=42)\n",
    "X_train.shape"
   ]
  },
  {
   "cell_type": "code",
   "execution_count": 11,
   "id": "1f3e9bf2-281b-4bdb-93ac-9a24111d9c4d",
   "metadata": {},
   "outputs": [
    {
     "data": {
      "text/plain": [
       "Index(['country', 'price', 'province', 'taster_name', 'variety', 'year'], dtype='object')"
      ]
     },
     "execution_count": 11,
     "metadata": {},
     "output_type": "execute_result"
    }
   ],
   "source": [
    "X_train.columns"
   ]
  },
  {
   "cell_type": "code",
   "execution_count": 12,
   "id": "64a88391-6677-471b-93e2-3175d73acc0c",
   "metadata": {},
   "outputs": [],
   "source": [
    "categorical_features = ['country','province','taster_name', 'variety']\n",
    "numerical_features = ['price', 'year']\n",
    "\n",
    "# Create categorical and numerical transformers\n",
    "categorical_transformer = Pipeline(steps=[\n",
    "    ('imputer', SimpleImputer(strategy='constant', fill_value='missing')),\n",
    "    ('onehot', OneHotEncoder(handle_unknown='ignore', sparse_output=False))\n",
    "])\n",
    "\n",
    "numerical_transformer = Pipeline(steps=[\n",
    "    ('imputer', SimpleImputer(strategy='median')),\n",
    "    ('scaler', StandardScaler())\n",
    "])\n",
    "\n",
    "# Combine transformers using ColumnTransformer\n",
    "wine_preprocessor = ColumnTransformer(\n",
    "    transformers=[\n",
    "        ('num', numerical_transformer, numerical_features),\n",
    "        ('cat', categorical_transformer, categorical_features)\n",
    "],  remainder=\"passthrough\",\n",
    "    verbose_feature_names_out=False)"
   ]
  },
  {
   "cell_type": "code",
   "execution_count": 13,
   "id": "878f5098-fe53-4c42-974f-bddd40d813db",
   "metadata": {},
   "outputs": [],
   "source": [
    "set_config(transform_output='pandas')\n",
    "wine_data =  wine_preprocessor.fit_transform(X_train)"
   ]
  },
  {
   "cell_type": "code",
   "execution_count": 14,
   "id": "2903f2c9-4165-4111-b7f6-0f4e5190ad09",
   "metadata": {},
   "outputs": [
    {
     "name": "stdout",
     "output_type": "stream",
     "text": [
      "(95939, 1148)\n"
     ]
    },
    {
     "data": {
      "text/html": [
       "<div>\n",
       "<style scoped>\n",
       "    .dataframe tbody tr th:only-of-type {\n",
       "        vertical-align: middle;\n",
       "    }\n",
       "\n",
       "    .dataframe tbody tr th {\n",
       "        vertical-align: top;\n",
       "    }\n",
       "\n",
       "    .dataframe thead th {\n",
       "        text-align: right;\n",
       "    }\n",
       "</style>\n",
       "<table border=\"1\" class=\"dataframe\">\n",
       "  <thead>\n",
       "    <tr style=\"text-align: right;\">\n",
       "      <th></th>\n",
       "      <th>price</th>\n",
       "      <th>year</th>\n",
       "      <th>country_Argentina</th>\n",
       "      <th>country_Armenia</th>\n",
       "      <th>country_Australia</th>\n",
       "      <th>country_Austria</th>\n",
       "      <th>country_Bosnia and Herzegovina</th>\n",
       "      <th>country_Brazil</th>\n",
       "      <th>country_Bulgaria</th>\n",
       "      <th>country_Canada</th>\n",
       "      <th>...</th>\n",
       "      <th>variety_Xynisteri</th>\n",
       "      <th>variety_Yapincak</th>\n",
       "      <th>variety_Zelen</th>\n",
       "      <th>variety_Zibibbo</th>\n",
       "      <th>variety_Zierfandler</th>\n",
       "      <th>variety_Zierfandler-Rotgipfler</th>\n",
       "      <th>variety_Zinfandel</th>\n",
       "      <th>variety_Zlahtina</th>\n",
       "      <th>variety_Zweigelt</th>\n",
       "      <th>variety_Çalkarası</th>\n",
       "    </tr>\n",
       "  </thead>\n",
       "  <tbody>\n",
       "    <tr>\n",
       "      <th>49628</th>\n",
       "      <td>-0.530756</td>\n",
       "      <td>0.076002</td>\n",
       "      <td>1.0</td>\n",
       "      <td>0.0</td>\n",
       "      <td>0.0</td>\n",
       "      <td>0.0</td>\n",
       "      <td>0.0</td>\n",
       "      <td>0.0</td>\n",
       "      <td>0.0</td>\n",
       "      <td>0.0</td>\n",
       "      <td>...</td>\n",
       "      <td>0.0</td>\n",
       "      <td>0.0</td>\n",
       "      <td>0.0</td>\n",
       "      <td>0.0</td>\n",
       "      <td>0.0</td>\n",
       "      <td>0.0</td>\n",
       "      <td>0.0</td>\n",
       "      <td>0.0</td>\n",
       "      <td>0.0</td>\n",
       "      <td>0.0</td>\n",
       "    </tr>\n",
       "    <tr>\n",
       "      <th>32046</th>\n",
       "      <td>-0.241116</td>\n",
       "      <td>0.279856</td>\n",
       "      <td>0.0</td>\n",
       "      <td>0.0</td>\n",
       "      <td>0.0</td>\n",
       "      <td>0.0</td>\n",
       "      <td>0.0</td>\n",
       "      <td>0.0</td>\n",
       "      <td>0.0</td>\n",
       "      <td>0.0</td>\n",
       "      <td>...</td>\n",
       "      <td>0.0</td>\n",
       "      <td>0.0</td>\n",
       "      <td>0.0</td>\n",
       "      <td>0.0</td>\n",
       "      <td>0.0</td>\n",
       "      <td>0.0</td>\n",
       "      <td>0.0</td>\n",
       "      <td>0.0</td>\n",
       "      <td>0.0</td>\n",
       "      <td>0.0</td>\n",
       "    </tr>\n",
       "    <tr>\n",
       "      <th>7924</th>\n",
       "      <td>-0.023887</td>\n",
       "      <td>0.177929</td>\n",
       "      <td>0.0</td>\n",
       "      <td>0.0</td>\n",
       "      <td>0.0</td>\n",
       "      <td>0.0</td>\n",
       "      <td>0.0</td>\n",
       "      <td>0.0</td>\n",
       "      <td>0.0</td>\n",
       "      <td>0.0</td>\n",
       "      <td>...</td>\n",
       "      <td>0.0</td>\n",
       "      <td>0.0</td>\n",
       "      <td>0.0</td>\n",
       "      <td>0.0</td>\n",
       "      <td>0.0</td>\n",
       "      <td>0.0</td>\n",
       "      <td>0.0</td>\n",
       "      <td>0.0</td>\n",
       "      <td>0.0</td>\n",
       "      <td>0.0</td>\n",
       "    </tr>\n",
       "    <tr>\n",
       "      <th>53083</th>\n",
       "      <td>0.579529</td>\n",
       "      <td>0.101484</td>\n",
       "      <td>0.0</td>\n",
       "      <td>0.0</td>\n",
       "      <td>0.0</td>\n",
       "      <td>0.0</td>\n",
       "      <td>0.0</td>\n",
       "      <td>0.0</td>\n",
       "      <td>0.0</td>\n",
       "      <td>0.0</td>\n",
       "      <td>...</td>\n",
       "      <td>0.0</td>\n",
       "      <td>0.0</td>\n",
       "      <td>0.0</td>\n",
       "      <td>0.0</td>\n",
       "      <td>0.0</td>\n",
       "      <td>0.0</td>\n",
       "      <td>0.0</td>\n",
       "      <td>0.0</td>\n",
       "      <td>0.0</td>\n",
       "      <td>0.0</td>\n",
       "    </tr>\n",
       "    <tr>\n",
       "      <th>65810</th>\n",
       "      <td>0.000250</td>\n",
       "      <td>0.228893</td>\n",
       "      <td>0.0</td>\n",
       "      <td>0.0</td>\n",
       "      <td>0.0</td>\n",
       "      <td>0.0</td>\n",
       "      <td>0.0</td>\n",
       "      <td>0.0</td>\n",
       "      <td>0.0</td>\n",
       "      <td>0.0</td>\n",
       "      <td>...</td>\n",
       "      <td>0.0</td>\n",
       "      <td>0.0</td>\n",
       "      <td>0.0</td>\n",
       "      <td>0.0</td>\n",
       "      <td>0.0</td>\n",
       "      <td>0.0</td>\n",
       "      <td>0.0</td>\n",
       "      <td>0.0</td>\n",
       "      <td>0.0</td>\n",
       "      <td>0.0</td>\n",
       "    </tr>\n",
       "  </tbody>\n",
       "</table>\n",
       "<p>5 rows × 1148 columns</p>\n",
       "</div>"
      ],
      "text/plain": [
       "          price      year  country_Argentina  country_Armenia  \\\n",
       "49628 -0.530756  0.076002                1.0              0.0   \n",
       "32046 -0.241116  0.279856                0.0              0.0   \n",
       "7924  -0.023887  0.177929                0.0              0.0   \n",
       "53083  0.579529  0.101484                0.0              0.0   \n",
       "65810  0.000250  0.228893                0.0              0.0   \n",
       "\n",
       "       country_Australia  country_Austria  country_Bosnia and Herzegovina  \\\n",
       "49628                0.0              0.0                             0.0   \n",
       "32046                0.0              0.0                             0.0   \n",
       "7924                 0.0              0.0                             0.0   \n",
       "53083                0.0              0.0                             0.0   \n",
       "65810                0.0              0.0                             0.0   \n",
       "\n",
       "       country_Brazil  country_Bulgaria  country_Canada  ...  \\\n",
       "49628             0.0               0.0             0.0  ...   \n",
       "32046             0.0               0.0             0.0  ...   \n",
       "7924              0.0               0.0             0.0  ...   \n",
       "53083             0.0               0.0             0.0  ...   \n",
       "65810             0.0               0.0             0.0  ...   \n",
       "\n",
       "       variety_Xynisteri  variety_Yapincak  variety_Zelen  variety_Zibibbo  \\\n",
       "49628                0.0               0.0            0.0              0.0   \n",
       "32046                0.0               0.0            0.0              0.0   \n",
       "7924                 0.0               0.0            0.0              0.0   \n",
       "53083                0.0               0.0            0.0              0.0   \n",
       "65810                0.0               0.0            0.0              0.0   \n",
       "\n",
       "       variety_Zierfandler  variety_Zierfandler-Rotgipfler  variety_Zinfandel  \\\n",
       "49628                  0.0                             0.0                0.0   \n",
       "32046                  0.0                             0.0                0.0   \n",
       "7924                   0.0                             0.0                0.0   \n",
       "53083                  0.0                             0.0                0.0   \n",
       "65810                  0.0                             0.0                0.0   \n",
       "\n",
       "       variety_Zlahtina  variety_Zweigelt  variety_Çalkarası  \n",
       "49628               0.0               0.0                0.0  \n",
       "32046               0.0               0.0                0.0  \n",
       "7924                0.0               0.0                0.0  \n",
       "53083               0.0               0.0                0.0  \n",
       "65810               0.0               0.0                0.0  \n",
       "\n",
       "[5 rows x 1148 columns]"
      ]
     },
     "execution_count": 14,
     "metadata": {},
     "output_type": "execute_result"
    }
   ],
   "source": [
    "print(wine_data.shape)\n",
    "wine_data.sample(5)"
   ]
  },
  {
   "cell_type": "code",
   "execution_count": 15,
   "id": "f45de301-9667-465f-9343-5e302c3f9b3d",
   "metadata": {},
   "outputs": [],
   "source": [
    "from sklearn.linear_model import Ridge"
   ]
  },
  {
   "cell_type": "code",
   "execution_count": 16,
   "id": "f3550487-9b78-4cab-b336-5a9abe525978",
   "metadata": {},
   "outputs": [
    {
     "data": {
      "text/html": [
       "<style>#sk-container-id-1 {color: black;background-color: white;}#sk-container-id-1 pre{padding: 0;}#sk-container-id-1 div.sk-toggleable {background-color: white;}#sk-container-id-1 label.sk-toggleable__label {cursor: pointer;display: block;width: 100%;margin-bottom: 0;padding: 0.3em;box-sizing: border-box;text-align: center;}#sk-container-id-1 label.sk-toggleable__label-arrow:before {content: \"▸\";float: left;margin-right: 0.25em;color: #696969;}#sk-container-id-1 label.sk-toggleable__label-arrow:hover:before {color: black;}#sk-container-id-1 div.sk-estimator:hover label.sk-toggleable__label-arrow:before {color: black;}#sk-container-id-1 div.sk-toggleable__content {max-height: 0;max-width: 0;overflow: hidden;text-align: left;background-color: #f0f8ff;}#sk-container-id-1 div.sk-toggleable__content pre {margin: 0.2em;color: black;border-radius: 0.25em;background-color: #f0f8ff;}#sk-container-id-1 input.sk-toggleable__control:checked~div.sk-toggleable__content {max-height: 200px;max-width: 100%;overflow: auto;}#sk-container-id-1 input.sk-toggleable__control:checked~label.sk-toggleable__label-arrow:before {content: \"▾\";}#sk-container-id-1 div.sk-estimator input.sk-toggleable__control:checked~label.sk-toggleable__label {background-color: #d4ebff;}#sk-container-id-1 div.sk-label input.sk-toggleable__control:checked~label.sk-toggleable__label {background-color: #d4ebff;}#sk-container-id-1 input.sk-hidden--visually {border: 0;clip: rect(1px 1px 1px 1px);clip: rect(1px, 1px, 1px, 1px);height: 1px;margin: -1px;overflow: hidden;padding: 0;position: absolute;width: 1px;}#sk-container-id-1 div.sk-estimator {font-family: monospace;background-color: #f0f8ff;border: 1px dotted black;border-radius: 0.25em;box-sizing: border-box;margin-bottom: 0.5em;}#sk-container-id-1 div.sk-estimator:hover {background-color: #d4ebff;}#sk-container-id-1 div.sk-parallel-item::after {content: \"\";width: 100%;border-bottom: 1px solid gray;flex-grow: 1;}#sk-container-id-1 div.sk-label:hover label.sk-toggleable__label {background-color: #d4ebff;}#sk-container-id-1 div.sk-serial::before {content: \"\";position: absolute;border-left: 1px solid gray;box-sizing: border-box;top: 0;bottom: 0;left: 50%;z-index: 0;}#sk-container-id-1 div.sk-serial {display: flex;flex-direction: column;align-items: center;background-color: white;padding-right: 0.2em;padding-left: 0.2em;position: relative;}#sk-container-id-1 div.sk-item {position: relative;z-index: 1;}#sk-container-id-1 div.sk-parallel {display: flex;align-items: stretch;justify-content: center;background-color: white;position: relative;}#sk-container-id-1 div.sk-item::before, #sk-container-id-1 div.sk-parallel-item::before {content: \"\";position: absolute;border-left: 1px solid gray;box-sizing: border-box;top: 0;bottom: 0;left: 50%;z-index: -1;}#sk-container-id-1 div.sk-parallel-item {display: flex;flex-direction: column;z-index: 1;position: relative;background-color: white;}#sk-container-id-1 div.sk-parallel-item:first-child::after {align-self: flex-end;width: 50%;}#sk-container-id-1 div.sk-parallel-item:last-child::after {align-self: flex-start;width: 50%;}#sk-container-id-1 div.sk-parallel-item:only-child::after {width: 0;}#sk-container-id-1 div.sk-dashed-wrapped {border: 1px dashed gray;margin: 0 0.4em 0.5em 0.4em;box-sizing: border-box;padding-bottom: 0.4em;background-color: white;}#sk-container-id-1 div.sk-label label {font-family: monospace;font-weight: bold;display: inline-block;line-height: 1.2em;}#sk-container-id-1 div.sk-label-container {text-align: center;}#sk-container-id-1 div.sk-container {/* jupyter's `normalize.less` sets `[hidden] { display: none; }` but bootstrap.min.css set `[hidden] { display: none !important; }` so we also need the `!important` here to be able to override the default hidden behavior on the sphinx rendered scikit-learn.org. See: https://github.com/scikit-learn/scikit-learn/issues/21755 */display: inline-block !important;position: relative;}#sk-container-id-1 div.sk-text-repr-fallback {display: none;}</style><div id=\"sk-container-id-1\" class=\"sk-top-container\"><div class=\"sk-text-repr-fallback\"><pre>Pipeline(steps=[(&#x27;preprocessor&#x27;,\n",
       "                 ColumnTransformer(remainder=&#x27;passthrough&#x27;,\n",
       "                                   transformers=[(&#x27;num&#x27;,\n",
       "                                                  Pipeline(steps=[(&#x27;imputer&#x27;,\n",
       "                                                                   SimpleImputer(strategy=&#x27;median&#x27;)),\n",
       "                                                                  (&#x27;scaler&#x27;,\n",
       "                                                                   StandardScaler())]),\n",
       "                                                  [&#x27;price&#x27;, &#x27;year&#x27;]),\n",
       "                                                 (&#x27;cat&#x27;,\n",
       "                                                  Pipeline(steps=[(&#x27;imputer&#x27;,\n",
       "                                                                   SimpleImputer(fill_value=&#x27;missing&#x27;,\n",
       "                                                                                 strategy=&#x27;constant&#x27;)),\n",
       "                                                                  (&#x27;onehot&#x27;,\n",
       "                                                                   OneHotEncoder(handle_unknown=&#x27;ignore&#x27;,\n",
       "                                                                                 sparse_output=False))]),\n",
       "                                                  [&#x27;country&#x27;, &#x27;province&#x27;,\n",
       "                                                   &#x27;taster_name&#x27;, &#x27;variety&#x27;])],\n",
       "                                   verbose_feature_names_out=False)),\n",
       "                (&#x27;classifier&#x27;, Ridge(alpha=10))])</pre><b>In a Jupyter environment, please rerun this cell to show the HTML representation or trust the notebook. <br />On GitHub, the HTML representation is unable to render, please try loading this page with nbviewer.org.</b></div><div class=\"sk-container\" hidden><div class=\"sk-item sk-dashed-wrapped\"><div class=\"sk-label-container\"><div class=\"sk-label sk-toggleable\"><input class=\"sk-toggleable__control sk-hidden--visually\" id=\"sk-estimator-id-1\" type=\"checkbox\" ><label for=\"sk-estimator-id-1\" class=\"sk-toggleable__label sk-toggleable__label-arrow\">Pipeline</label><div class=\"sk-toggleable__content\"><pre>Pipeline(steps=[(&#x27;preprocessor&#x27;,\n",
       "                 ColumnTransformer(remainder=&#x27;passthrough&#x27;,\n",
       "                                   transformers=[(&#x27;num&#x27;,\n",
       "                                                  Pipeline(steps=[(&#x27;imputer&#x27;,\n",
       "                                                                   SimpleImputer(strategy=&#x27;median&#x27;)),\n",
       "                                                                  (&#x27;scaler&#x27;,\n",
       "                                                                   StandardScaler())]),\n",
       "                                                  [&#x27;price&#x27;, &#x27;year&#x27;]),\n",
       "                                                 (&#x27;cat&#x27;,\n",
       "                                                  Pipeline(steps=[(&#x27;imputer&#x27;,\n",
       "                                                                   SimpleImputer(fill_value=&#x27;missing&#x27;,\n",
       "                                                                                 strategy=&#x27;constant&#x27;)),\n",
       "                                                                  (&#x27;onehot&#x27;,\n",
       "                                                                   OneHotEncoder(handle_unknown=&#x27;ignore&#x27;,\n",
       "                                                                                 sparse_output=False))]),\n",
       "                                                  [&#x27;country&#x27;, &#x27;province&#x27;,\n",
       "                                                   &#x27;taster_name&#x27;, &#x27;variety&#x27;])],\n",
       "                                   verbose_feature_names_out=False)),\n",
       "                (&#x27;classifier&#x27;, Ridge(alpha=10))])</pre></div></div></div><div class=\"sk-serial\"><div class=\"sk-item sk-dashed-wrapped\"><div class=\"sk-label-container\"><div class=\"sk-label sk-toggleable\"><input class=\"sk-toggleable__control sk-hidden--visually\" id=\"sk-estimator-id-2\" type=\"checkbox\" ><label for=\"sk-estimator-id-2\" class=\"sk-toggleable__label sk-toggleable__label-arrow\">preprocessor: ColumnTransformer</label><div class=\"sk-toggleable__content\"><pre>ColumnTransformer(remainder=&#x27;passthrough&#x27;,\n",
       "                  transformers=[(&#x27;num&#x27;,\n",
       "                                 Pipeline(steps=[(&#x27;imputer&#x27;,\n",
       "                                                  SimpleImputer(strategy=&#x27;median&#x27;)),\n",
       "                                                 (&#x27;scaler&#x27;, StandardScaler())]),\n",
       "                                 [&#x27;price&#x27;, &#x27;year&#x27;]),\n",
       "                                (&#x27;cat&#x27;,\n",
       "                                 Pipeline(steps=[(&#x27;imputer&#x27;,\n",
       "                                                  SimpleImputer(fill_value=&#x27;missing&#x27;,\n",
       "                                                                strategy=&#x27;constant&#x27;)),\n",
       "                                                 (&#x27;onehot&#x27;,\n",
       "                                                  OneHotEncoder(handle_unknown=&#x27;ignore&#x27;,\n",
       "                                                                sparse_output=False))]),\n",
       "                                 [&#x27;country&#x27;, &#x27;province&#x27;, &#x27;taster_name&#x27;,\n",
       "                                  &#x27;variety&#x27;])],\n",
       "                  verbose_feature_names_out=False)</pre></div></div></div><div class=\"sk-parallel\"><div class=\"sk-parallel-item\"><div class=\"sk-item\"><div class=\"sk-label-container\"><div class=\"sk-label sk-toggleable\"><input class=\"sk-toggleable__control sk-hidden--visually\" id=\"sk-estimator-id-3\" type=\"checkbox\" ><label for=\"sk-estimator-id-3\" class=\"sk-toggleable__label sk-toggleable__label-arrow\">num</label><div class=\"sk-toggleable__content\"><pre>[&#x27;price&#x27;, &#x27;year&#x27;]</pre></div></div></div><div class=\"sk-serial\"><div class=\"sk-item\"><div class=\"sk-serial\"><div class=\"sk-item\"><div class=\"sk-estimator sk-toggleable\"><input class=\"sk-toggleable__control sk-hidden--visually\" id=\"sk-estimator-id-4\" type=\"checkbox\" ><label for=\"sk-estimator-id-4\" class=\"sk-toggleable__label sk-toggleable__label-arrow\">SimpleImputer</label><div class=\"sk-toggleable__content\"><pre>SimpleImputer(strategy=&#x27;median&#x27;)</pre></div></div></div><div class=\"sk-item\"><div class=\"sk-estimator sk-toggleable\"><input class=\"sk-toggleable__control sk-hidden--visually\" id=\"sk-estimator-id-5\" type=\"checkbox\" ><label for=\"sk-estimator-id-5\" class=\"sk-toggleable__label sk-toggleable__label-arrow\">StandardScaler</label><div class=\"sk-toggleable__content\"><pre>StandardScaler()</pre></div></div></div></div></div></div></div></div><div class=\"sk-parallel-item\"><div class=\"sk-item\"><div class=\"sk-label-container\"><div class=\"sk-label sk-toggleable\"><input class=\"sk-toggleable__control sk-hidden--visually\" id=\"sk-estimator-id-6\" type=\"checkbox\" ><label for=\"sk-estimator-id-6\" class=\"sk-toggleable__label sk-toggleable__label-arrow\">cat</label><div class=\"sk-toggleable__content\"><pre>[&#x27;country&#x27;, &#x27;province&#x27;, &#x27;taster_name&#x27;, &#x27;variety&#x27;]</pre></div></div></div><div class=\"sk-serial\"><div class=\"sk-item\"><div class=\"sk-serial\"><div class=\"sk-item\"><div class=\"sk-estimator sk-toggleable\"><input class=\"sk-toggleable__control sk-hidden--visually\" id=\"sk-estimator-id-7\" type=\"checkbox\" ><label for=\"sk-estimator-id-7\" class=\"sk-toggleable__label sk-toggleable__label-arrow\">SimpleImputer</label><div class=\"sk-toggleable__content\"><pre>SimpleImputer(fill_value=&#x27;missing&#x27;, strategy=&#x27;constant&#x27;)</pre></div></div></div><div class=\"sk-item\"><div class=\"sk-estimator sk-toggleable\"><input class=\"sk-toggleable__control sk-hidden--visually\" id=\"sk-estimator-id-8\" type=\"checkbox\" ><label for=\"sk-estimator-id-8\" class=\"sk-toggleable__label sk-toggleable__label-arrow\">OneHotEncoder</label><div class=\"sk-toggleable__content\"><pre>OneHotEncoder(handle_unknown=&#x27;ignore&#x27;, sparse_output=False)</pre></div></div></div></div></div></div></div></div><div class=\"sk-parallel-item\"><div class=\"sk-item\"><div class=\"sk-label-container\"><div class=\"sk-label sk-toggleable\"><input class=\"sk-toggleable__control sk-hidden--visually\" id=\"sk-estimator-id-9\" type=\"checkbox\" ><label for=\"sk-estimator-id-9\" class=\"sk-toggleable__label sk-toggleable__label-arrow\">remainder</label><div class=\"sk-toggleable__content\"><pre>[]</pre></div></div></div><div class=\"sk-serial\"><div class=\"sk-item\"><div class=\"sk-estimator sk-toggleable\"><input class=\"sk-toggleable__control sk-hidden--visually\" id=\"sk-estimator-id-10\" type=\"checkbox\" ><label for=\"sk-estimator-id-10\" class=\"sk-toggleable__label sk-toggleable__label-arrow\">passthrough</label><div class=\"sk-toggleable__content\"><pre>passthrough</pre></div></div></div></div></div></div></div></div><div class=\"sk-item\"><div class=\"sk-estimator sk-toggleable\"><input class=\"sk-toggleable__control sk-hidden--visually\" id=\"sk-estimator-id-11\" type=\"checkbox\" ><label for=\"sk-estimator-id-11\" class=\"sk-toggleable__label sk-toggleable__label-arrow\">Ridge</label><div class=\"sk-toggleable__content\"><pre>Ridge(alpha=10)</pre></div></div></div></div></div></div></div>"
      ],
      "text/plain": [
       "Pipeline(steps=[('preprocessor',\n",
       "                 ColumnTransformer(remainder='passthrough',\n",
       "                                   transformers=[('num',\n",
       "                                                  Pipeline(steps=[('imputer',\n",
       "                                                                   SimpleImputer(strategy='median')),\n",
       "                                                                  ('scaler',\n",
       "                                                                   StandardScaler())]),\n",
       "                                                  ['price', 'year']),\n",
       "                                                 ('cat',\n",
       "                                                  Pipeline(steps=[('imputer',\n",
       "                                                                   SimpleImputer(fill_value='missing',\n",
       "                                                                                 strategy='constant')),\n",
       "                                                                  ('onehot',\n",
       "                                                                   OneHotEncoder(handle_unknown='ignore',\n",
       "                                                                                 sparse_output=False))]),\n",
       "                                                  ['country', 'province',\n",
       "                                                   'taster_name', 'variety'])],\n",
       "                                   verbose_feature_names_out=False)),\n",
       "                ('classifier', Ridge(alpha=10))])"
      ]
     },
     "execution_count": 16,
     "metadata": {},
     "output_type": "execute_result"
    }
   ],
   "source": [
    "# Create a full pipeline with a classifier\n",
    "full_pipeline = Pipeline(steps=[\n",
    "    ('preprocessor', wine_preprocessor),\n",
    "    ('classifier', Ridge(alpha=10))\n",
    "])\n",
    "\n",
    "# Fit the pipeline to the training data\n",
    "full_pipeline.fit(X_train, y_train)"
   ]
  },
  {
   "cell_type": "code",
   "execution_count": 20,
   "id": "2700f9b8-d9bd-429e-9f45-dc2271dca05b",
   "metadata": {},
   "outputs": [],
   "source": [
    "categorical_pipeline = Pipeline(steps=[\n",
    "    ('preprocessor', wine_preprocessor),\n",
    "    ('param_reduction', PCA()),\n",
    "    ('classifier', Ridge()),\n",
    "    \n",
    "])\n",
    "\n",
    "param_grid = [\n",
    "    {        \n",
    "        'param_reduction__n_components': [100, 300, None],\n",
    "        'classifier__alpha': [0.1, 1, 10, 100],\n",
    "    }\n",
    "]"
   ]
  },
  {
   "cell_type": "code",
   "execution_count": 21,
   "id": "4aa02ccf-380b-4670-a65f-dbe3dd8be1ae",
   "metadata": {},
   "outputs": [
    {
     "data": {
      "text/html": [
       "<style>#sk-container-id-3 {color: black;background-color: white;}#sk-container-id-3 pre{padding: 0;}#sk-container-id-3 div.sk-toggleable {background-color: white;}#sk-container-id-3 label.sk-toggleable__label {cursor: pointer;display: block;width: 100%;margin-bottom: 0;padding: 0.3em;box-sizing: border-box;text-align: center;}#sk-container-id-3 label.sk-toggleable__label-arrow:before {content: \"▸\";float: left;margin-right: 0.25em;color: #696969;}#sk-container-id-3 label.sk-toggleable__label-arrow:hover:before {color: black;}#sk-container-id-3 div.sk-estimator:hover label.sk-toggleable__label-arrow:before {color: black;}#sk-container-id-3 div.sk-toggleable__content {max-height: 0;max-width: 0;overflow: hidden;text-align: left;background-color: #f0f8ff;}#sk-container-id-3 div.sk-toggleable__content pre {margin: 0.2em;color: black;border-radius: 0.25em;background-color: #f0f8ff;}#sk-container-id-3 input.sk-toggleable__control:checked~div.sk-toggleable__content {max-height: 200px;max-width: 100%;overflow: auto;}#sk-container-id-3 input.sk-toggleable__control:checked~label.sk-toggleable__label-arrow:before {content: \"▾\";}#sk-container-id-3 div.sk-estimator input.sk-toggleable__control:checked~label.sk-toggleable__label {background-color: #d4ebff;}#sk-container-id-3 div.sk-label input.sk-toggleable__control:checked~label.sk-toggleable__label {background-color: #d4ebff;}#sk-container-id-3 input.sk-hidden--visually {border: 0;clip: rect(1px 1px 1px 1px);clip: rect(1px, 1px, 1px, 1px);height: 1px;margin: -1px;overflow: hidden;padding: 0;position: absolute;width: 1px;}#sk-container-id-3 div.sk-estimator {font-family: monospace;background-color: #f0f8ff;border: 1px dotted black;border-radius: 0.25em;box-sizing: border-box;margin-bottom: 0.5em;}#sk-container-id-3 div.sk-estimator:hover {background-color: #d4ebff;}#sk-container-id-3 div.sk-parallel-item::after {content: \"\";width: 100%;border-bottom: 1px solid gray;flex-grow: 1;}#sk-container-id-3 div.sk-label:hover label.sk-toggleable__label {background-color: #d4ebff;}#sk-container-id-3 div.sk-serial::before {content: \"\";position: absolute;border-left: 1px solid gray;box-sizing: border-box;top: 0;bottom: 0;left: 50%;z-index: 0;}#sk-container-id-3 div.sk-serial {display: flex;flex-direction: column;align-items: center;background-color: white;padding-right: 0.2em;padding-left: 0.2em;position: relative;}#sk-container-id-3 div.sk-item {position: relative;z-index: 1;}#sk-container-id-3 div.sk-parallel {display: flex;align-items: stretch;justify-content: center;background-color: white;position: relative;}#sk-container-id-3 div.sk-item::before, #sk-container-id-3 div.sk-parallel-item::before {content: \"\";position: absolute;border-left: 1px solid gray;box-sizing: border-box;top: 0;bottom: 0;left: 50%;z-index: -1;}#sk-container-id-3 div.sk-parallel-item {display: flex;flex-direction: column;z-index: 1;position: relative;background-color: white;}#sk-container-id-3 div.sk-parallel-item:first-child::after {align-self: flex-end;width: 50%;}#sk-container-id-3 div.sk-parallel-item:last-child::after {align-self: flex-start;width: 50%;}#sk-container-id-3 div.sk-parallel-item:only-child::after {width: 0;}#sk-container-id-3 div.sk-dashed-wrapped {border: 1px dashed gray;margin: 0 0.4em 0.5em 0.4em;box-sizing: border-box;padding-bottom: 0.4em;background-color: white;}#sk-container-id-3 div.sk-label label {font-family: monospace;font-weight: bold;display: inline-block;line-height: 1.2em;}#sk-container-id-3 div.sk-label-container {text-align: center;}#sk-container-id-3 div.sk-container {/* jupyter's `normalize.less` sets `[hidden] { display: none; }` but bootstrap.min.css set `[hidden] { display: none !important; }` so we also need the `!important` here to be able to override the default hidden behavior on the sphinx rendered scikit-learn.org. See: https://github.com/scikit-learn/scikit-learn/issues/21755 */display: inline-block !important;position: relative;}#sk-container-id-3 div.sk-text-repr-fallback {display: none;}</style><div id=\"sk-container-id-3\" class=\"sk-top-container\"><div class=\"sk-text-repr-fallback\"><pre>GridSearchCV(cv=3,\n",
       "             estimator=Pipeline(steps=[(&#x27;preprocessor&#x27;,\n",
       "                                        ColumnTransformer(remainder=&#x27;passthrough&#x27;,\n",
       "                                                          transformers=[(&#x27;num&#x27;,\n",
       "                                                                         Pipeline(steps=[(&#x27;imputer&#x27;,\n",
       "                                                                                          SimpleImputer(strategy=&#x27;median&#x27;)),\n",
       "                                                                                         (&#x27;scaler&#x27;,\n",
       "                                                                                          StandardScaler())]),\n",
       "                                                                         [&#x27;price&#x27;,\n",
       "                                                                          &#x27;year&#x27;]),\n",
       "                                                                        (&#x27;cat&#x27;,\n",
       "                                                                         Pipeline(steps=[(&#x27;imputer&#x27;,\n",
       "                                                                                          SimpleImputer(fill_value=&#x27;missing&#x27;,\n",
       "                                                                                                        strategy=&#x27;constant&#x27;)),\n",
       "                                                                                         (&#x27;onehot&#x27;,\n",
       "                                                                                          OneHotEncoder(handle_unknown=&#x27;ignore&#x27;,\n",
       "                                                                                                        sparse_output=False))]),\n",
       "                                                                         [&#x27;country&#x27;,\n",
       "                                                                          &#x27;province&#x27;,\n",
       "                                                                          &#x27;taster_name&#x27;,\n",
       "                                                                          &#x27;variety&#x27;])],\n",
       "                                                          verbose_feature_names_out=False)),\n",
       "                                       (&#x27;param_reduction&#x27;, PCA()),\n",
       "                                       (&#x27;classifier&#x27;, Ridge())]),\n",
       "             param_grid=[{&#x27;classifier__alpha&#x27;: [0.1, 1, 10, 100],\n",
       "                          &#x27;param_reduction__n_components&#x27;: [100, 300, None]}],\n",
       "             scoring=&#x27;r2&#x27;, verbose=5)</pre><b>In a Jupyter environment, please rerun this cell to show the HTML representation or trust the notebook. <br />On GitHub, the HTML representation is unable to render, please try loading this page with nbviewer.org.</b></div><div class=\"sk-container\" hidden><div class=\"sk-item sk-dashed-wrapped\"><div class=\"sk-label-container\"><div class=\"sk-label sk-toggleable\"><input class=\"sk-toggleable__control sk-hidden--visually\" id=\"sk-estimator-id-25\" type=\"checkbox\" ><label for=\"sk-estimator-id-25\" class=\"sk-toggleable__label sk-toggleable__label-arrow\">GridSearchCV</label><div class=\"sk-toggleable__content\"><pre>GridSearchCV(cv=3,\n",
       "             estimator=Pipeline(steps=[(&#x27;preprocessor&#x27;,\n",
       "                                        ColumnTransformer(remainder=&#x27;passthrough&#x27;,\n",
       "                                                          transformers=[(&#x27;num&#x27;,\n",
       "                                                                         Pipeline(steps=[(&#x27;imputer&#x27;,\n",
       "                                                                                          SimpleImputer(strategy=&#x27;median&#x27;)),\n",
       "                                                                                         (&#x27;scaler&#x27;,\n",
       "                                                                                          StandardScaler())]),\n",
       "                                                                         [&#x27;price&#x27;,\n",
       "                                                                          &#x27;year&#x27;]),\n",
       "                                                                        (&#x27;cat&#x27;,\n",
       "                                                                         Pipeline(steps=[(&#x27;imputer&#x27;,\n",
       "                                                                                          SimpleImputer(fill_value=&#x27;missing&#x27;,\n",
       "                                                                                                        strategy=&#x27;constant&#x27;)),\n",
       "                                                                                         (&#x27;onehot&#x27;,\n",
       "                                                                                          OneHotEncoder(handle_unknown=&#x27;ignore&#x27;,\n",
       "                                                                                                        sparse_output=False))]),\n",
       "                                                                         [&#x27;country&#x27;,\n",
       "                                                                          &#x27;province&#x27;,\n",
       "                                                                          &#x27;taster_name&#x27;,\n",
       "                                                                          &#x27;variety&#x27;])],\n",
       "                                                          verbose_feature_names_out=False)),\n",
       "                                       (&#x27;param_reduction&#x27;, PCA()),\n",
       "                                       (&#x27;classifier&#x27;, Ridge())]),\n",
       "             param_grid=[{&#x27;classifier__alpha&#x27;: [0.1, 1, 10, 100],\n",
       "                          &#x27;param_reduction__n_components&#x27;: [100, 300, None]}],\n",
       "             scoring=&#x27;r2&#x27;, verbose=5)</pre></div></div></div><div class=\"sk-parallel\"><div class=\"sk-parallel-item\"><div class=\"sk-item\"><div class=\"sk-label-container\"><div class=\"sk-label sk-toggleable\"><input class=\"sk-toggleable__control sk-hidden--visually\" id=\"sk-estimator-id-26\" type=\"checkbox\" ><label for=\"sk-estimator-id-26\" class=\"sk-toggleable__label sk-toggleable__label-arrow\">estimator: Pipeline</label><div class=\"sk-toggleable__content\"><pre>Pipeline(steps=[(&#x27;preprocessor&#x27;,\n",
       "                 ColumnTransformer(remainder=&#x27;passthrough&#x27;,\n",
       "                                   transformers=[(&#x27;num&#x27;,\n",
       "                                                  Pipeline(steps=[(&#x27;imputer&#x27;,\n",
       "                                                                   SimpleImputer(strategy=&#x27;median&#x27;)),\n",
       "                                                                  (&#x27;scaler&#x27;,\n",
       "                                                                   StandardScaler())]),\n",
       "                                                  [&#x27;price&#x27;, &#x27;year&#x27;]),\n",
       "                                                 (&#x27;cat&#x27;,\n",
       "                                                  Pipeline(steps=[(&#x27;imputer&#x27;,\n",
       "                                                                   SimpleImputer(fill_value=&#x27;missing&#x27;,\n",
       "                                                                                 strategy=&#x27;constant&#x27;)),\n",
       "                                                                  (&#x27;onehot&#x27;,\n",
       "                                                                   OneHotEncoder(handle_unknown=&#x27;ignore&#x27;,\n",
       "                                                                                 sparse_output=False))]),\n",
       "                                                  [&#x27;country&#x27;, &#x27;province&#x27;,\n",
       "                                                   &#x27;taster_name&#x27;, &#x27;variety&#x27;])],\n",
       "                                   verbose_feature_names_out=False)),\n",
       "                (&#x27;param_reduction&#x27;, PCA()), (&#x27;classifier&#x27;, Ridge())])</pre></div></div></div><div class=\"sk-serial\"><div class=\"sk-item\"><div class=\"sk-serial\"><div class=\"sk-item sk-dashed-wrapped\"><div class=\"sk-label-container\"><div class=\"sk-label sk-toggleable\"><input class=\"sk-toggleable__control sk-hidden--visually\" id=\"sk-estimator-id-27\" type=\"checkbox\" ><label for=\"sk-estimator-id-27\" class=\"sk-toggleable__label sk-toggleable__label-arrow\">preprocessor: ColumnTransformer</label><div class=\"sk-toggleable__content\"><pre>ColumnTransformer(remainder=&#x27;passthrough&#x27;,\n",
       "                  transformers=[(&#x27;num&#x27;,\n",
       "                                 Pipeline(steps=[(&#x27;imputer&#x27;,\n",
       "                                                  SimpleImputer(strategy=&#x27;median&#x27;)),\n",
       "                                                 (&#x27;scaler&#x27;, StandardScaler())]),\n",
       "                                 [&#x27;price&#x27;, &#x27;year&#x27;]),\n",
       "                                (&#x27;cat&#x27;,\n",
       "                                 Pipeline(steps=[(&#x27;imputer&#x27;,\n",
       "                                                  SimpleImputer(fill_value=&#x27;missing&#x27;,\n",
       "                                                                strategy=&#x27;constant&#x27;)),\n",
       "                                                 (&#x27;onehot&#x27;,\n",
       "                                                  OneHotEncoder(handle_unknown=&#x27;ignore&#x27;,\n",
       "                                                                sparse_output=False))]),\n",
       "                                 [&#x27;country&#x27;, &#x27;province&#x27;, &#x27;taster_name&#x27;,\n",
       "                                  &#x27;variety&#x27;])],\n",
       "                  verbose_feature_names_out=False)</pre></div></div></div><div class=\"sk-parallel\"><div class=\"sk-parallel-item\"><div class=\"sk-item\"><div class=\"sk-label-container\"><div class=\"sk-label sk-toggleable\"><input class=\"sk-toggleable__control sk-hidden--visually\" id=\"sk-estimator-id-28\" type=\"checkbox\" ><label for=\"sk-estimator-id-28\" class=\"sk-toggleable__label sk-toggleable__label-arrow\">num</label><div class=\"sk-toggleable__content\"><pre>[&#x27;price&#x27;, &#x27;year&#x27;]</pre></div></div></div><div class=\"sk-serial\"><div class=\"sk-item\"><div class=\"sk-serial\"><div class=\"sk-item\"><div class=\"sk-estimator sk-toggleable\"><input class=\"sk-toggleable__control sk-hidden--visually\" id=\"sk-estimator-id-29\" type=\"checkbox\" ><label for=\"sk-estimator-id-29\" class=\"sk-toggleable__label sk-toggleable__label-arrow\">SimpleImputer</label><div class=\"sk-toggleable__content\"><pre>SimpleImputer(strategy=&#x27;median&#x27;)</pre></div></div></div><div class=\"sk-item\"><div class=\"sk-estimator sk-toggleable\"><input class=\"sk-toggleable__control sk-hidden--visually\" id=\"sk-estimator-id-30\" type=\"checkbox\" ><label for=\"sk-estimator-id-30\" class=\"sk-toggleable__label sk-toggleable__label-arrow\">StandardScaler</label><div class=\"sk-toggleable__content\"><pre>StandardScaler()</pre></div></div></div></div></div></div></div></div><div class=\"sk-parallel-item\"><div class=\"sk-item\"><div class=\"sk-label-container\"><div class=\"sk-label sk-toggleable\"><input class=\"sk-toggleable__control sk-hidden--visually\" id=\"sk-estimator-id-31\" type=\"checkbox\" ><label for=\"sk-estimator-id-31\" class=\"sk-toggleable__label sk-toggleable__label-arrow\">cat</label><div class=\"sk-toggleable__content\"><pre>[&#x27;country&#x27;, &#x27;province&#x27;, &#x27;taster_name&#x27;, &#x27;variety&#x27;]</pre></div></div></div><div class=\"sk-serial\"><div class=\"sk-item\"><div class=\"sk-serial\"><div class=\"sk-item\"><div class=\"sk-estimator sk-toggleable\"><input class=\"sk-toggleable__control sk-hidden--visually\" id=\"sk-estimator-id-32\" type=\"checkbox\" ><label for=\"sk-estimator-id-32\" class=\"sk-toggleable__label sk-toggleable__label-arrow\">SimpleImputer</label><div class=\"sk-toggleable__content\"><pre>SimpleImputer(fill_value=&#x27;missing&#x27;, strategy=&#x27;constant&#x27;)</pre></div></div></div><div class=\"sk-item\"><div class=\"sk-estimator sk-toggleable\"><input class=\"sk-toggleable__control sk-hidden--visually\" id=\"sk-estimator-id-33\" type=\"checkbox\" ><label for=\"sk-estimator-id-33\" class=\"sk-toggleable__label sk-toggleable__label-arrow\">OneHotEncoder</label><div class=\"sk-toggleable__content\"><pre>OneHotEncoder(handle_unknown=&#x27;ignore&#x27;, sparse_output=False)</pre></div></div></div></div></div></div></div></div><div class=\"sk-parallel-item\"><div class=\"sk-item\"><div class=\"sk-label-container\"><div class=\"sk-label sk-toggleable\"><input class=\"sk-toggleable__control sk-hidden--visually\" id=\"sk-estimator-id-34\" type=\"checkbox\" ><label for=\"sk-estimator-id-34\" class=\"sk-toggleable__label sk-toggleable__label-arrow\">remainder</label><div class=\"sk-toggleable__content\"><pre>[]</pre></div></div></div><div class=\"sk-serial\"><div class=\"sk-item\"><div class=\"sk-estimator sk-toggleable\"><input class=\"sk-toggleable__control sk-hidden--visually\" id=\"sk-estimator-id-35\" type=\"checkbox\" ><label for=\"sk-estimator-id-35\" class=\"sk-toggleable__label sk-toggleable__label-arrow\">passthrough</label><div class=\"sk-toggleable__content\"><pre>passthrough</pre></div></div></div></div></div></div></div></div><div class=\"sk-item\"><div class=\"sk-estimator sk-toggleable\"><input class=\"sk-toggleable__control sk-hidden--visually\" id=\"sk-estimator-id-36\" type=\"checkbox\" ><label for=\"sk-estimator-id-36\" class=\"sk-toggleable__label sk-toggleable__label-arrow\">PCA</label><div class=\"sk-toggleable__content\"><pre>PCA()</pre></div></div></div><div class=\"sk-item\"><div class=\"sk-estimator sk-toggleable\"><input class=\"sk-toggleable__control sk-hidden--visually\" id=\"sk-estimator-id-37\" type=\"checkbox\" ><label for=\"sk-estimator-id-37\" class=\"sk-toggleable__label sk-toggleable__label-arrow\">Ridge</label><div class=\"sk-toggleable__content\"><pre>Ridge()</pre></div></div></div></div></div></div></div></div></div></div></div></div>"
      ],
      "text/plain": [
       "GridSearchCV(cv=3,\n",
       "             estimator=Pipeline(steps=[('preprocessor',\n",
       "                                        ColumnTransformer(remainder='passthrough',\n",
       "                                                          transformers=[('num',\n",
       "                                                                         Pipeline(steps=[('imputer',\n",
       "                                                                                          SimpleImputer(strategy='median')),\n",
       "                                                                                         ('scaler',\n",
       "                                                                                          StandardScaler())]),\n",
       "                                                                         ['price',\n",
       "                                                                          'year']),\n",
       "                                                                        ('cat',\n",
       "                                                                         Pipeline(steps=[('imputer',\n",
       "                                                                                          SimpleImputer(fill_value='missing',\n",
       "                                                                                                        strategy='constant')),\n",
       "                                                                                         ('onehot',\n",
       "                                                                                          OneHotEncoder(handle_unknown='ignore',\n",
       "                                                                                                        sparse_output=False))]),\n",
       "                                                                         ['country',\n",
       "                                                                          'province',\n",
       "                                                                          'taster_name',\n",
       "                                                                          'variety'])],\n",
       "                                                          verbose_feature_names_out=False)),\n",
       "                                       ('param_reduction', PCA()),\n",
       "                                       ('classifier', Ridge())]),\n",
       "             param_grid=[{'classifier__alpha': [0.1, 1, 10, 100],\n",
       "                          'param_reduction__n_components': [100, 300, None]}],\n",
       "             scoring='r2', verbose=5)"
      ]
     },
     "execution_count": 21,
     "metadata": {},
     "output_type": "execute_result"
    }
   ],
   "source": [
    "from sklearn.model_selection import GridSearchCV\n",
    "categorical_pipeline_grid_search = GridSearchCV(categorical_pipeline, param_grid = param_grid, cv=3, scoring='r2', verbose=5)\n",
    "categorical_pipeline_grid_search"
   ]
  },
  {
   "cell_type": "code",
   "execution_count": 22,
   "id": "aa4b7a5a-4409-4965-a870-e95aad1dfbe4",
   "metadata": {},
   "outputs": [
    {
     "name": "stdout",
     "output_type": "stream",
     "text": [
      "Fitting 3 folds for each of 12 candidates, totalling 36 fits\n",
      "[CV 1/3] END classifier__alpha=0.1, param_reduction__n_components=100;, score=0.274 total time=   9.8s\n",
      "[CV 2/3] END classifier__alpha=0.1, param_reduction__n_components=100;, score=0.272 total time=  10.3s\n",
      "[CV 3/3] END classifier__alpha=0.1, param_reduction__n_components=100;, score=0.289 total time=  10.9s\n",
      "[CV 1/3] END classifier__alpha=0.1, param_reduction__n_components=300;, score=0.289 total time=  20.3s\n",
      "[CV 2/3] END classifier__alpha=0.1, param_reduction__n_components=300;, score=0.287 total time=  17.2s\n",
      "[CV 3/3] END classifier__alpha=0.1, param_reduction__n_components=300;, score=0.305 total time=  17.9s\n",
      "[CV 1/3] END classifier__alpha=0.1, param_reduction__n_components=None;, score=0.290 total time=  23.4s\n",
      "[CV 2/3] END classifier__alpha=0.1, param_reduction__n_components=None;, score=0.288 total time=  22.2s\n",
      "[CV 3/3] END classifier__alpha=0.1, param_reduction__n_components=None;, score=0.305 total time=  23.7s\n",
      "[CV 1/3] END classifier__alpha=1, param_reduction__n_components=100;, score=0.274 total time=  10.3s\n",
      "[CV 2/3] END classifier__alpha=1, param_reduction__n_components=100;, score=0.271 total time=  10.3s\n",
      "[CV 3/3] END classifier__alpha=1, param_reduction__n_components=100;, score=0.289 total time=  10.1s\n",
      "[CV 1/3] END classifier__alpha=1, param_reduction__n_components=300;, score=0.290 total time=  17.6s\n",
      "[CV 2/3] END classifier__alpha=1, param_reduction__n_components=300;, score=0.286 total time=  17.2s\n",
      "[CV 3/3] END classifier__alpha=1, param_reduction__n_components=300;, score=0.305 total time=  17.6s\n",
      "[CV 1/3] END classifier__alpha=1, param_reduction__n_components=None;, score=0.292 total time=  23.4s\n",
      "[CV 2/3] END classifier__alpha=1, param_reduction__n_components=None;, score=0.290 total time=  22.7s\n",
      "[CV 3/3] END classifier__alpha=1, param_reduction__n_components=None;, score=0.308 total time=  23.0s\n",
      "[CV 1/3] END classifier__alpha=10, param_reduction__n_components=100;, score=0.274 total time=  10.3s\n",
      "[CV 2/3] END classifier__alpha=10, param_reduction__n_components=100;, score=0.271 total time=  10.1s\n",
      "[CV 3/3] END classifier__alpha=10, param_reduction__n_components=100;, score=0.289 total time=  10.1s\n",
      "[CV 1/3] END classifier__alpha=10, param_reduction__n_components=300;, score=0.289 total time=  17.2s\n",
      "[CV 2/3] END classifier__alpha=10, param_reduction__n_components=300;, score=0.287 total time=  17.2s\n",
      "[CV 3/3] END classifier__alpha=10, param_reduction__n_components=300;, score=0.305 total time=  17.4s\n",
      "[CV 1/3] END classifier__alpha=10, param_reduction__n_components=None;, score=0.292 total time=  23.7s\n",
      "[CV 2/3] END classifier__alpha=10, param_reduction__n_components=None;, score=0.290 total time=  22.4s\n",
      "[CV 3/3] END classifier__alpha=10, param_reduction__n_components=None;, score=0.308 total time=  22.6s\n",
      "[CV 1/3] END classifier__alpha=100, param_reduction__n_components=100;, score=0.273 total time=  10.2s\n",
      "[CV 2/3] END classifier__alpha=100, param_reduction__n_components=100;, score=0.270 total time=  10.3s\n",
      "[CV 3/3] END classifier__alpha=100, param_reduction__n_components=100;, score=0.288 total time=  10.4s\n",
      "[CV 1/3] END classifier__alpha=100, param_reduction__n_components=300;, score=0.284 total time=  17.3s\n",
      "[CV 2/3] END classifier__alpha=100, param_reduction__n_components=300;, score=0.281 total time=  16.7s\n",
      "[CV 3/3] END classifier__alpha=100, param_reduction__n_components=300;, score=0.300 total time=  17.4s\n",
      "[CV 1/3] END classifier__alpha=100, param_reduction__n_components=None;, score=0.285 total time=  23.5s\n",
      "[CV 2/3] END classifier__alpha=100, param_reduction__n_components=None;, score=0.282 total time=  22.8s\n",
      "[CV 3/3] END classifier__alpha=100, param_reduction__n_components=None;, score=0.301 total time=  22.8s\n"
     ]
    },
    {
     "data": {
      "text/html": [
       "<style>#sk-container-id-4 {color: black;background-color: white;}#sk-container-id-4 pre{padding: 0;}#sk-container-id-4 div.sk-toggleable {background-color: white;}#sk-container-id-4 label.sk-toggleable__label {cursor: pointer;display: block;width: 100%;margin-bottom: 0;padding: 0.3em;box-sizing: border-box;text-align: center;}#sk-container-id-4 label.sk-toggleable__label-arrow:before {content: \"▸\";float: left;margin-right: 0.25em;color: #696969;}#sk-container-id-4 label.sk-toggleable__label-arrow:hover:before {color: black;}#sk-container-id-4 div.sk-estimator:hover label.sk-toggleable__label-arrow:before {color: black;}#sk-container-id-4 div.sk-toggleable__content {max-height: 0;max-width: 0;overflow: hidden;text-align: left;background-color: #f0f8ff;}#sk-container-id-4 div.sk-toggleable__content pre {margin: 0.2em;color: black;border-radius: 0.25em;background-color: #f0f8ff;}#sk-container-id-4 input.sk-toggleable__control:checked~div.sk-toggleable__content {max-height: 200px;max-width: 100%;overflow: auto;}#sk-container-id-4 input.sk-toggleable__control:checked~label.sk-toggleable__label-arrow:before {content: \"▾\";}#sk-container-id-4 div.sk-estimator input.sk-toggleable__control:checked~label.sk-toggleable__label {background-color: #d4ebff;}#sk-container-id-4 div.sk-label input.sk-toggleable__control:checked~label.sk-toggleable__label {background-color: #d4ebff;}#sk-container-id-4 input.sk-hidden--visually {border: 0;clip: rect(1px 1px 1px 1px);clip: rect(1px, 1px, 1px, 1px);height: 1px;margin: -1px;overflow: hidden;padding: 0;position: absolute;width: 1px;}#sk-container-id-4 div.sk-estimator {font-family: monospace;background-color: #f0f8ff;border: 1px dotted black;border-radius: 0.25em;box-sizing: border-box;margin-bottom: 0.5em;}#sk-container-id-4 div.sk-estimator:hover {background-color: #d4ebff;}#sk-container-id-4 div.sk-parallel-item::after {content: \"\";width: 100%;border-bottom: 1px solid gray;flex-grow: 1;}#sk-container-id-4 div.sk-label:hover label.sk-toggleable__label {background-color: #d4ebff;}#sk-container-id-4 div.sk-serial::before {content: \"\";position: absolute;border-left: 1px solid gray;box-sizing: border-box;top: 0;bottom: 0;left: 50%;z-index: 0;}#sk-container-id-4 div.sk-serial {display: flex;flex-direction: column;align-items: center;background-color: white;padding-right: 0.2em;padding-left: 0.2em;position: relative;}#sk-container-id-4 div.sk-item {position: relative;z-index: 1;}#sk-container-id-4 div.sk-parallel {display: flex;align-items: stretch;justify-content: center;background-color: white;position: relative;}#sk-container-id-4 div.sk-item::before, #sk-container-id-4 div.sk-parallel-item::before {content: \"\";position: absolute;border-left: 1px solid gray;box-sizing: border-box;top: 0;bottom: 0;left: 50%;z-index: -1;}#sk-container-id-4 div.sk-parallel-item {display: flex;flex-direction: column;z-index: 1;position: relative;background-color: white;}#sk-container-id-4 div.sk-parallel-item:first-child::after {align-self: flex-end;width: 50%;}#sk-container-id-4 div.sk-parallel-item:last-child::after {align-self: flex-start;width: 50%;}#sk-container-id-4 div.sk-parallel-item:only-child::after {width: 0;}#sk-container-id-4 div.sk-dashed-wrapped {border: 1px dashed gray;margin: 0 0.4em 0.5em 0.4em;box-sizing: border-box;padding-bottom: 0.4em;background-color: white;}#sk-container-id-4 div.sk-label label {font-family: monospace;font-weight: bold;display: inline-block;line-height: 1.2em;}#sk-container-id-4 div.sk-label-container {text-align: center;}#sk-container-id-4 div.sk-container {/* jupyter's `normalize.less` sets `[hidden] { display: none; }` but bootstrap.min.css set `[hidden] { display: none !important; }` so we also need the `!important` here to be able to override the default hidden behavior on the sphinx rendered scikit-learn.org. See: https://github.com/scikit-learn/scikit-learn/issues/21755 */display: inline-block !important;position: relative;}#sk-container-id-4 div.sk-text-repr-fallback {display: none;}</style><div id=\"sk-container-id-4\" class=\"sk-top-container\"><div class=\"sk-text-repr-fallback\"><pre>GridSearchCV(cv=3,\n",
       "             estimator=Pipeline(steps=[(&#x27;preprocessor&#x27;,\n",
       "                                        ColumnTransformer(remainder=&#x27;passthrough&#x27;,\n",
       "                                                          transformers=[(&#x27;num&#x27;,\n",
       "                                                                         Pipeline(steps=[(&#x27;imputer&#x27;,\n",
       "                                                                                          SimpleImputer(strategy=&#x27;median&#x27;)),\n",
       "                                                                                         (&#x27;scaler&#x27;,\n",
       "                                                                                          StandardScaler())]),\n",
       "                                                                         [&#x27;price&#x27;,\n",
       "                                                                          &#x27;year&#x27;]),\n",
       "                                                                        (&#x27;cat&#x27;,\n",
       "                                                                         Pipeline(steps=[(&#x27;imputer&#x27;,\n",
       "                                                                                          SimpleImputer(fill_value=&#x27;missing&#x27;,\n",
       "                                                                                                        strategy=&#x27;constant&#x27;)),\n",
       "                                                                                         (&#x27;onehot&#x27;,\n",
       "                                                                                          OneHotEncoder(handle_unknown=&#x27;ignore&#x27;,\n",
       "                                                                                                        sparse_output=False))]),\n",
       "                                                                         [&#x27;country&#x27;,\n",
       "                                                                          &#x27;province&#x27;,\n",
       "                                                                          &#x27;taster_name&#x27;,\n",
       "                                                                          &#x27;variety&#x27;])],\n",
       "                                                          verbose_feature_names_out=False)),\n",
       "                                       (&#x27;param_reduction&#x27;, PCA()),\n",
       "                                       (&#x27;classifier&#x27;, Ridge())]),\n",
       "             param_grid=[{&#x27;classifier__alpha&#x27;: [0.1, 1, 10, 100],\n",
       "                          &#x27;param_reduction__n_components&#x27;: [100, 300, None]}],\n",
       "             scoring=&#x27;r2&#x27;, verbose=5)</pre><b>In a Jupyter environment, please rerun this cell to show the HTML representation or trust the notebook. <br />On GitHub, the HTML representation is unable to render, please try loading this page with nbviewer.org.</b></div><div class=\"sk-container\" hidden><div class=\"sk-item sk-dashed-wrapped\"><div class=\"sk-label-container\"><div class=\"sk-label sk-toggleable\"><input class=\"sk-toggleable__control sk-hidden--visually\" id=\"sk-estimator-id-38\" type=\"checkbox\" ><label for=\"sk-estimator-id-38\" class=\"sk-toggleable__label sk-toggleable__label-arrow\">GridSearchCV</label><div class=\"sk-toggleable__content\"><pre>GridSearchCV(cv=3,\n",
       "             estimator=Pipeline(steps=[(&#x27;preprocessor&#x27;,\n",
       "                                        ColumnTransformer(remainder=&#x27;passthrough&#x27;,\n",
       "                                                          transformers=[(&#x27;num&#x27;,\n",
       "                                                                         Pipeline(steps=[(&#x27;imputer&#x27;,\n",
       "                                                                                          SimpleImputer(strategy=&#x27;median&#x27;)),\n",
       "                                                                                         (&#x27;scaler&#x27;,\n",
       "                                                                                          StandardScaler())]),\n",
       "                                                                         [&#x27;price&#x27;,\n",
       "                                                                          &#x27;year&#x27;]),\n",
       "                                                                        (&#x27;cat&#x27;,\n",
       "                                                                         Pipeline(steps=[(&#x27;imputer&#x27;,\n",
       "                                                                                          SimpleImputer(fill_value=&#x27;missing&#x27;,\n",
       "                                                                                                        strategy=&#x27;constant&#x27;)),\n",
       "                                                                                         (&#x27;onehot&#x27;,\n",
       "                                                                                          OneHotEncoder(handle_unknown=&#x27;ignore&#x27;,\n",
       "                                                                                                        sparse_output=False))]),\n",
       "                                                                         [&#x27;country&#x27;,\n",
       "                                                                          &#x27;province&#x27;,\n",
       "                                                                          &#x27;taster_name&#x27;,\n",
       "                                                                          &#x27;variety&#x27;])],\n",
       "                                                          verbose_feature_names_out=False)),\n",
       "                                       (&#x27;param_reduction&#x27;, PCA()),\n",
       "                                       (&#x27;classifier&#x27;, Ridge())]),\n",
       "             param_grid=[{&#x27;classifier__alpha&#x27;: [0.1, 1, 10, 100],\n",
       "                          &#x27;param_reduction__n_components&#x27;: [100, 300, None]}],\n",
       "             scoring=&#x27;r2&#x27;, verbose=5)</pre></div></div></div><div class=\"sk-parallel\"><div class=\"sk-parallel-item\"><div class=\"sk-item\"><div class=\"sk-label-container\"><div class=\"sk-label sk-toggleable\"><input class=\"sk-toggleable__control sk-hidden--visually\" id=\"sk-estimator-id-39\" type=\"checkbox\" ><label for=\"sk-estimator-id-39\" class=\"sk-toggleable__label sk-toggleable__label-arrow\">estimator: Pipeline</label><div class=\"sk-toggleable__content\"><pre>Pipeline(steps=[(&#x27;preprocessor&#x27;,\n",
       "                 ColumnTransformer(remainder=&#x27;passthrough&#x27;,\n",
       "                                   transformers=[(&#x27;num&#x27;,\n",
       "                                                  Pipeline(steps=[(&#x27;imputer&#x27;,\n",
       "                                                                   SimpleImputer(strategy=&#x27;median&#x27;)),\n",
       "                                                                  (&#x27;scaler&#x27;,\n",
       "                                                                   StandardScaler())]),\n",
       "                                                  [&#x27;price&#x27;, &#x27;year&#x27;]),\n",
       "                                                 (&#x27;cat&#x27;,\n",
       "                                                  Pipeline(steps=[(&#x27;imputer&#x27;,\n",
       "                                                                   SimpleImputer(fill_value=&#x27;missing&#x27;,\n",
       "                                                                                 strategy=&#x27;constant&#x27;)),\n",
       "                                                                  (&#x27;onehot&#x27;,\n",
       "                                                                   OneHotEncoder(handle_unknown=&#x27;ignore&#x27;,\n",
       "                                                                                 sparse_output=False))]),\n",
       "                                                  [&#x27;country&#x27;, &#x27;province&#x27;,\n",
       "                                                   &#x27;taster_name&#x27;, &#x27;variety&#x27;])],\n",
       "                                   verbose_feature_names_out=False)),\n",
       "                (&#x27;param_reduction&#x27;, PCA()), (&#x27;classifier&#x27;, Ridge())])</pre></div></div></div><div class=\"sk-serial\"><div class=\"sk-item\"><div class=\"sk-serial\"><div class=\"sk-item sk-dashed-wrapped\"><div class=\"sk-label-container\"><div class=\"sk-label sk-toggleable\"><input class=\"sk-toggleable__control sk-hidden--visually\" id=\"sk-estimator-id-40\" type=\"checkbox\" ><label for=\"sk-estimator-id-40\" class=\"sk-toggleable__label sk-toggleable__label-arrow\">preprocessor: ColumnTransformer</label><div class=\"sk-toggleable__content\"><pre>ColumnTransformer(remainder=&#x27;passthrough&#x27;,\n",
       "                  transformers=[(&#x27;num&#x27;,\n",
       "                                 Pipeline(steps=[(&#x27;imputer&#x27;,\n",
       "                                                  SimpleImputer(strategy=&#x27;median&#x27;)),\n",
       "                                                 (&#x27;scaler&#x27;, StandardScaler())]),\n",
       "                                 [&#x27;price&#x27;, &#x27;year&#x27;]),\n",
       "                                (&#x27;cat&#x27;,\n",
       "                                 Pipeline(steps=[(&#x27;imputer&#x27;,\n",
       "                                                  SimpleImputer(fill_value=&#x27;missing&#x27;,\n",
       "                                                                strategy=&#x27;constant&#x27;)),\n",
       "                                                 (&#x27;onehot&#x27;,\n",
       "                                                  OneHotEncoder(handle_unknown=&#x27;ignore&#x27;,\n",
       "                                                                sparse_output=False))]),\n",
       "                                 [&#x27;country&#x27;, &#x27;province&#x27;, &#x27;taster_name&#x27;,\n",
       "                                  &#x27;variety&#x27;])],\n",
       "                  verbose_feature_names_out=False)</pre></div></div></div><div class=\"sk-parallel\"><div class=\"sk-parallel-item\"><div class=\"sk-item\"><div class=\"sk-label-container\"><div class=\"sk-label sk-toggleable\"><input class=\"sk-toggleable__control sk-hidden--visually\" id=\"sk-estimator-id-41\" type=\"checkbox\" ><label for=\"sk-estimator-id-41\" class=\"sk-toggleable__label sk-toggleable__label-arrow\">num</label><div class=\"sk-toggleable__content\"><pre>[&#x27;price&#x27;, &#x27;year&#x27;]</pre></div></div></div><div class=\"sk-serial\"><div class=\"sk-item\"><div class=\"sk-serial\"><div class=\"sk-item\"><div class=\"sk-estimator sk-toggleable\"><input class=\"sk-toggleable__control sk-hidden--visually\" id=\"sk-estimator-id-42\" type=\"checkbox\" ><label for=\"sk-estimator-id-42\" class=\"sk-toggleable__label sk-toggleable__label-arrow\">SimpleImputer</label><div class=\"sk-toggleable__content\"><pre>SimpleImputer(strategy=&#x27;median&#x27;)</pre></div></div></div><div class=\"sk-item\"><div class=\"sk-estimator sk-toggleable\"><input class=\"sk-toggleable__control sk-hidden--visually\" id=\"sk-estimator-id-43\" type=\"checkbox\" ><label for=\"sk-estimator-id-43\" class=\"sk-toggleable__label sk-toggleable__label-arrow\">StandardScaler</label><div class=\"sk-toggleable__content\"><pre>StandardScaler()</pre></div></div></div></div></div></div></div></div><div class=\"sk-parallel-item\"><div class=\"sk-item\"><div class=\"sk-label-container\"><div class=\"sk-label sk-toggleable\"><input class=\"sk-toggleable__control sk-hidden--visually\" id=\"sk-estimator-id-44\" type=\"checkbox\" ><label for=\"sk-estimator-id-44\" class=\"sk-toggleable__label sk-toggleable__label-arrow\">cat</label><div class=\"sk-toggleable__content\"><pre>[&#x27;country&#x27;, &#x27;province&#x27;, &#x27;taster_name&#x27;, &#x27;variety&#x27;]</pre></div></div></div><div class=\"sk-serial\"><div class=\"sk-item\"><div class=\"sk-serial\"><div class=\"sk-item\"><div class=\"sk-estimator sk-toggleable\"><input class=\"sk-toggleable__control sk-hidden--visually\" id=\"sk-estimator-id-45\" type=\"checkbox\" ><label for=\"sk-estimator-id-45\" class=\"sk-toggleable__label sk-toggleable__label-arrow\">SimpleImputer</label><div class=\"sk-toggleable__content\"><pre>SimpleImputer(fill_value=&#x27;missing&#x27;, strategy=&#x27;constant&#x27;)</pre></div></div></div><div class=\"sk-item\"><div class=\"sk-estimator sk-toggleable\"><input class=\"sk-toggleable__control sk-hidden--visually\" id=\"sk-estimator-id-46\" type=\"checkbox\" ><label for=\"sk-estimator-id-46\" class=\"sk-toggleable__label sk-toggleable__label-arrow\">OneHotEncoder</label><div class=\"sk-toggleable__content\"><pre>OneHotEncoder(handle_unknown=&#x27;ignore&#x27;, sparse_output=False)</pre></div></div></div></div></div></div></div></div><div class=\"sk-parallel-item\"><div class=\"sk-item\"><div class=\"sk-label-container\"><div class=\"sk-label sk-toggleable\"><input class=\"sk-toggleable__control sk-hidden--visually\" id=\"sk-estimator-id-47\" type=\"checkbox\" ><label for=\"sk-estimator-id-47\" class=\"sk-toggleable__label sk-toggleable__label-arrow\">remainder</label><div class=\"sk-toggleable__content\"><pre>[]</pre></div></div></div><div class=\"sk-serial\"><div class=\"sk-item\"><div class=\"sk-estimator sk-toggleable\"><input class=\"sk-toggleable__control sk-hidden--visually\" id=\"sk-estimator-id-48\" type=\"checkbox\" ><label for=\"sk-estimator-id-48\" class=\"sk-toggleable__label sk-toggleable__label-arrow\">passthrough</label><div class=\"sk-toggleable__content\"><pre>passthrough</pre></div></div></div></div></div></div></div></div><div class=\"sk-item\"><div class=\"sk-estimator sk-toggleable\"><input class=\"sk-toggleable__control sk-hidden--visually\" id=\"sk-estimator-id-49\" type=\"checkbox\" ><label for=\"sk-estimator-id-49\" class=\"sk-toggleable__label sk-toggleable__label-arrow\">PCA</label><div class=\"sk-toggleable__content\"><pre>PCA()</pre></div></div></div><div class=\"sk-item\"><div class=\"sk-estimator sk-toggleable\"><input class=\"sk-toggleable__control sk-hidden--visually\" id=\"sk-estimator-id-50\" type=\"checkbox\" ><label for=\"sk-estimator-id-50\" class=\"sk-toggleable__label sk-toggleable__label-arrow\">Ridge</label><div class=\"sk-toggleable__content\"><pre>Ridge()</pre></div></div></div></div></div></div></div></div></div></div></div></div>"
      ],
      "text/plain": [
       "GridSearchCV(cv=3,\n",
       "             estimator=Pipeline(steps=[('preprocessor',\n",
       "                                        ColumnTransformer(remainder='passthrough',\n",
       "                                                          transformers=[('num',\n",
       "                                                                         Pipeline(steps=[('imputer',\n",
       "                                                                                          SimpleImputer(strategy='median')),\n",
       "                                                                                         ('scaler',\n",
       "                                                                                          StandardScaler())]),\n",
       "                                                                         ['price',\n",
       "                                                                          'year']),\n",
       "                                                                        ('cat',\n",
       "                                                                         Pipeline(steps=[('imputer',\n",
       "                                                                                          SimpleImputer(fill_value='missing',\n",
       "                                                                                                        strategy='constant')),\n",
       "                                                                                         ('onehot',\n",
       "                                                                                          OneHotEncoder(handle_unknown='ignore',\n",
       "                                                                                                        sparse_output=False))]),\n",
       "                                                                         ['country',\n",
       "                                                                          'province',\n",
       "                                                                          'taster_name',\n",
       "                                                                          'variety'])],\n",
       "                                                          verbose_feature_names_out=False)),\n",
       "                                       ('param_reduction', PCA()),\n",
       "                                       ('classifier', Ridge())]),\n",
       "             param_grid=[{'classifier__alpha': [0.1, 1, 10, 100],\n",
       "                          'param_reduction__n_components': [100, 300, None]}],\n",
       "             scoring='r2', verbose=5)"
      ]
     },
     "execution_count": 22,
     "metadata": {},
     "output_type": "execute_result"
    }
   ],
   "source": [
    "categorical_pipeline_grid_search.fit(X_train, y_train)"
   ]
  },
  {
   "cell_type": "code",
   "execution_count": 23,
   "id": "15ca9cc8-ffb2-485f-bed0-e2123bfdf158",
   "metadata": {},
   "outputs": [
    {
     "data": {
      "text/html": [
       "<div>\n",
       "<style scoped>\n",
       "    .dataframe tbody tr th:only-of-type {\n",
       "        vertical-align: middle;\n",
       "    }\n",
       "\n",
       "    .dataframe tbody tr th {\n",
       "        vertical-align: top;\n",
       "    }\n",
       "\n",
       "    .dataframe thead th {\n",
       "        text-align: right;\n",
       "    }\n",
       "</style>\n",
       "<table border=\"1\" class=\"dataframe\">\n",
       "  <thead>\n",
       "    <tr style=\"text-align: right;\">\n",
       "      <th></th>\n",
       "      <th>mean_fit_time</th>\n",
       "      <th>std_fit_time</th>\n",
       "      <th>mean_score_time</th>\n",
       "      <th>std_score_time</th>\n",
       "      <th>param_classifier__alpha</th>\n",
       "      <th>param_param_reduction__n_components</th>\n",
       "      <th>params</th>\n",
       "      <th>split0_test_score</th>\n",
       "      <th>split1_test_score</th>\n",
       "      <th>split2_test_score</th>\n",
       "      <th>mean_test_score</th>\n",
       "      <th>std_test_score</th>\n",
       "      <th>rank_test_score</th>\n",
       "    </tr>\n",
       "  </thead>\n",
       "  <tbody>\n",
       "    <tr>\n",
       "      <th>8</th>\n",
       "      <td>20.586340</td>\n",
       "      <td>0.534888</td>\n",
       "      <td>2.408767</td>\n",
       "      <td>0.058834</td>\n",
       "      <td>10</td>\n",
       "      <td>None</td>\n",
       "      <td>{'classifier__alpha': 10, 'param_reduction__n_...</td>\n",
       "      <td>0.292302</td>\n",
       "      <td>0.289904</td>\n",
       "      <td>0.308388</td>\n",
       "      <td>0.296864</td>\n",
       "      <td>0.008207</td>\n",
       "      <td>1</td>\n",
       "    </tr>\n",
       "    <tr>\n",
       "      <th>5</th>\n",
       "      <td>20.715596</td>\n",
       "      <td>0.163304</td>\n",
       "      <td>2.409735</td>\n",
       "      <td>0.104359</td>\n",
       "      <td>1</td>\n",
       "      <td>None</td>\n",
       "      <td>{'classifier__alpha': 1, 'param_reduction__n_c...</td>\n",
       "      <td>0.291946</td>\n",
       "      <td>0.289761</td>\n",
       "      <td>0.307855</td>\n",
       "      <td>0.296521</td>\n",
       "      <td>0.008064</td>\n",
       "      <td>2</td>\n",
       "    </tr>\n",
       "    <tr>\n",
       "      <th>2</th>\n",
       "      <td>20.825722</td>\n",
       "      <td>0.598614</td>\n",
       "      <td>2.349758</td>\n",
       "      <td>0.059035</td>\n",
       "      <td>0.1</td>\n",
       "      <td>None</td>\n",
       "      <td>{'classifier__alpha': 0.1, 'param_reduction__n...</td>\n",
       "      <td>0.290275</td>\n",
       "      <td>0.287917</td>\n",
       "      <td>0.305466</td>\n",
       "      <td>0.294553</td>\n",
       "      <td>0.007777</td>\n",
       "      <td>3</td>\n",
       "    </tr>\n",
       "    <tr>\n",
       "      <th>1</th>\n",
       "      <td>17.337073</td>\n",
       "      <td>1.364923</td>\n",
       "      <td>1.230909</td>\n",
       "      <td>0.029918</td>\n",
       "      <td>0.1</td>\n",
       "      <td>300</td>\n",
       "      <td>{'classifier__alpha': 0.1, 'param_reduction__n...</td>\n",
       "      <td>0.289431</td>\n",
       "      <td>0.286709</td>\n",
       "      <td>0.304819</td>\n",
       "      <td>0.293653</td>\n",
       "      <td>0.007973</td>\n",
       "      <td>4</td>\n",
       "    </tr>\n",
       "    <tr>\n",
       "      <th>7</th>\n",
       "      <td>15.993500</td>\n",
       "      <td>0.172246</td>\n",
       "      <td>1.353650</td>\n",
       "      <td>0.117823</td>\n",
       "      <td>10</td>\n",
       "      <td>300</td>\n",
       "      <td>{'classifier__alpha': 10, 'param_reduction__n_...</td>\n",
       "      <td>0.289162</td>\n",
       "      <td>0.286848</td>\n",
       "      <td>0.304946</td>\n",
       "      <td>0.293652</td>\n",
       "      <td>0.008042</td>\n",
       "      <td>5</td>\n",
       "    </tr>\n",
       "    <tr>\n",
       "      <th>4</th>\n",
       "      <td>16.340913</td>\n",
       "      <td>0.244385</td>\n",
       "      <td>1.228187</td>\n",
       "      <td>0.066834</td>\n",
       "      <td>1</td>\n",
       "      <td>300</td>\n",
       "      <td>{'classifier__alpha': 1, 'param_reduction__n_c...</td>\n",
       "      <td>0.289666</td>\n",
       "      <td>0.286144</td>\n",
       "      <td>0.304748</td>\n",
       "      <td>0.293520</td>\n",
       "      <td>0.008069</td>\n",
       "      <td>6</td>\n",
       "    </tr>\n",
       "    <tr>\n",
       "      <th>11</th>\n",
       "      <td>20.708218</td>\n",
       "      <td>0.255191</td>\n",
       "      <td>2.419448</td>\n",
       "      <td>0.097822</td>\n",
       "      <td>100</td>\n",
       "      <td>None</td>\n",
       "      <td>{'classifier__alpha': 100, 'param_reduction__n...</td>\n",
       "      <td>0.284503</td>\n",
       "      <td>0.282049</td>\n",
       "      <td>0.300599</td>\n",
       "      <td>0.289050</td>\n",
       "      <td>0.008227</td>\n",
       "      <td>7</td>\n",
       "    </tr>\n",
       "    <tr>\n",
       "      <th>10</th>\n",
       "      <td>16.028100</td>\n",
       "      <td>0.217657</td>\n",
       "      <td>1.202840</td>\n",
       "      <td>0.095923</td>\n",
       "      <td>100</td>\n",
       "      <td>300</td>\n",
       "      <td>{'classifier__alpha': 100, 'param_reduction__n...</td>\n",
       "      <td>0.283762</td>\n",
       "      <td>0.281252</td>\n",
       "      <td>0.299769</td>\n",
       "      <td>0.288261</td>\n",
       "      <td>0.008202</td>\n",
       "      <td>8</td>\n",
       "    </tr>\n",
       "    <tr>\n",
       "      <th>0</th>\n",
       "      <td>9.498365</td>\n",
       "      <td>0.359774</td>\n",
       "      <td>0.917455</td>\n",
       "      <td>0.088510</td>\n",
       "      <td>0.1</td>\n",
       "      <td>100</td>\n",
       "      <td>{'classifier__alpha': 0.1, 'param_reduction__n...</td>\n",
       "      <td>0.273611</td>\n",
       "      <td>0.271595</td>\n",
       "      <td>0.289162</td>\n",
       "      <td>0.278123</td>\n",
       "      <td>0.007850</td>\n",
       "      <td>9</td>\n",
       "    </tr>\n",
       "    <tr>\n",
       "      <th>3</th>\n",
       "      <td>9.353379</td>\n",
       "      <td>0.047461</td>\n",
       "      <td>0.970651</td>\n",
       "      <td>0.048352</td>\n",
       "      <td>1</td>\n",
       "      <td>100</td>\n",
       "      <td>{'classifier__alpha': 1, 'param_reduction__n_c...</td>\n",
       "      <td>0.273763</td>\n",
       "      <td>0.271204</td>\n",
       "      <td>0.288911</td>\n",
       "      <td>0.277959</td>\n",
       "      <td>0.007814</td>\n",
       "      <td>10</td>\n",
       "    </tr>\n",
       "    <tr>\n",
       "      <th>6</th>\n",
       "      <td>9.382719</td>\n",
       "      <td>0.127620</td>\n",
       "      <td>0.885647</td>\n",
       "      <td>0.015676</td>\n",
       "      <td>10</td>\n",
       "      <td>100</td>\n",
       "      <td>{'classifier__alpha': 10, 'param_reduction__n_...</td>\n",
       "      <td>0.273615</td>\n",
       "      <td>0.271317</td>\n",
       "      <td>0.288749</td>\n",
       "      <td>0.277893</td>\n",
       "      <td>0.007733</td>\n",
       "      <td>11</td>\n",
       "    </tr>\n",
       "    <tr>\n",
       "      <th>9</th>\n",
       "      <td>9.528918</td>\n",
       "      <td>0.105389</td>\n",
       "      <td>0.895446</td>\n",
       "      <td>0.088940</td>\n",
       "      <td>100</td>\n",
       "      <td>100</td>\n",
       "      <td>{'classifier__alpha': 100, 'param_reduction__n...</td>\n",
       "      <td>0.272810</td>\n",
       "      <td>0.270319</td>\n",
       "      <td>0.288373</td>\n",
       "      <td>0.277167</td>\n",
       "      <td>0.007989</td>\n",
       "      <td>12</td>\n",
       "    </tr>\n",
       "  </tbody>\n",
       "</table>\n",
       "</div>"
      ],
      "text/plain": [
       "    mean_fit_time  std_fit_time  mean_score_time  std_score_time  \\\n",
       "8       20.586340      0.534888         2.408767        0.058834   \n",
       "5       20.715596      0.163304         2.409735        0.104359   \n",
       "2       20.825722      0.598614         2.349758        0.059035   \n",
       "1       17.337073      1.364923         1.230909        0.029918   \n",
       "7       15.993500      0.172246         1.353650        0.117823   \n",
       "4       16.340913      0.244385         1.228187        0.066834   \n",
       "11      20.708218      0.255191         2.419448        0.097822   \n",
       "10      16.028100      0.217657         1.202840        0.095923   \n",
       "0        9.498365      0.359774         0.917455        0.088510   \n",
       "3        9.353379      0.047461         0.970651        0.048352   \n",
       "6        9.382719      0.127620         0.885647        0.015676   \n",
       "9        9.528918      0.105389         0.895446        0.088940   \n",
       "\n",
       "   param_classifier__alpha param_param_reduction__n_components  \\\n",
       "8                       10                                None   \n",
       "5                        1                                None   \n",
       "2                      0.1                                None   \n",
       "1                      0.1                                 300   \n",
       "7                       10                                 300   \n",
       "4                        1                                 300   \n",
       "11                     100                                None   \n",
       "10                     100                                 300   \n",
       "0                      0.1                                 100   \n",
       "3                        1                                 100   \n",
       "6                       10                                 100   \n",
       "9                      100                                 100   \n",
       "\n",
       "                                               params  split0_test_score  \\\n",
       "8   {'classifier__alpha': 10, 'param_reduction__n_...           0.292302   \n",
       "5   {'classifier__alpha': 1, 'param_reduction__n_c...           0.291946   \n",
       "2   {'classifier__alpha': 0.1, 'param_reduction__n...           0.290275   \n",
       "1   {'classifier__alpha': 0.1, 'param_reduction__n...           0.289431   \n",
       "7   {'classifier__alpha': 10, 'param_reduction__n_...           0.289162   \n",
       "4   {'classifier__alpha': 1, 'param_reduction__n_c...           0.289666   \n",
       "11  {'classifier__alpha': 100, 'param_reduction__n...           0.284503   \n",
       "10  {'classifier__alpha': 100, 'param_reduction__n...           0.283762   \n",
       "0   {'classifier__alpha': 0.1, 'param_reduction__n...           0.273611   \n",
       "3   {'classifier__alpha': 1, 'param_reduction__n_c...           0.273763   \n",
       "6   {'classifier__alpha': 10, 'param_reduction__n_...           0.273615   \n",
       "9   {'classifier__alpha': 100, 'param_reduction__n...           0.272810   \n",
       "\n",
       "    split1_test_score  split2_test_score  mean_test_score  std_test_score  \\\n",
       "8            0.289904           0.308388         0.296864        0.008207   \n",
       "5            0.289761           0.307855         0.296521        0.008064   \n",
       "2            0.287917           0.305466         0.294553        0.007777   \n",
       "1            0.286709           0.304819         0.293653        0.007973   \n",
       "7            0.286848           0.304946         0.293652        0.008042   \n",
       "4            0.286144           0.304748         0.293520        0.008069   \n",
       "11           0.282049           0.300599         0.289050        0.008227   \n",
       "10           0.281252           0.299769         0.288261        0.008202   \n",
       "0            0.271595           0.289162         0.278123        0.007850   \n",
       "3            0.271204           0.288911         0.277959        0.007814   \n",
       "6            0.271317           0.288749         0.277893        0.007733   \n",
       "9            0.270319           0.288373         0.277167        0.007989   \n",
       "\n",
       "    rank_test_score  \n",
       "8                 1  \n",
       "5                 2  \n",
       "2                 3  \n",
       "1                 4  \n",
       "7                 5  \n",
       "4                 6  \n",
       "11                7  \n",
       "10                8  \n",
       "0                 9  \n",
       "3                10  \n",
       "6                11  \n",
       "9                12  "
      ]
     },
     "execution_count": 23,
     "metadata": {},
     "output_type": "execute_result"
    }
   ],
   "source": [
    "cols = [ 'param_param_reduction__n_components', 'param_classifier__alpha','std_test_score', 'rank_test_score', 'mean_test_score']\n",
    "cv_results_df = pd.DataFrame(categorical_pipeline_grid_search.cv_results_)\n",
    "cv_results_df.sort_values(by = 'mean_test_score', ascending=False)"
   ]
  },
  {
   "cell_type": "code",
   "execution_count": 24,
   "id": "d035388d-fa36-4e68-8e3c-ea7292116681",
   "metadata": {},
   "outputs": [],
   "source": [
    "y_predicted = categorical_pipeline_grid_search.predict(X_test)\n",
    "y_train_predicted = categorical_pipeline_grid_search.predict(X_train)"
   ]
  },
  {
   "cell_type": "code",
   "execution_count": 25,
   "id": "1d3ac796-961e-4b77-8478-c1ac8f6c2782",
   "metadata": {},
   "outputs": [
    {
     "name": "stdout",
     "output_type": "stream",
     "text": [
      "Mean squared error: 6.69\n",
      "R2: 0.30\n"
     ]
    },
    {
     "data": {
      "text/html": [
       "<div>\n",
       "<style scoped>\n",
       "    .dataframe tbody tr th:only-of-type {\n",
       "        vertical-align: middle;\n",
       "    }\n",
       "\n",
       "    .dataframe tbody tr th {\n",
       "        vertical-align: top;\n",
       "    }\n",
       "\n",
       "    .dataframe thead th {\n",
       "        text-align: right;\n",
       "    }\n",
       "</style>\n",
       "<table border=\"1\" class=\"dataframe\">\n",
       "  <thead>\n",
       "    <tr style=\"text-align: right;\">\n",
       "      <th></th>\n",
       "      <th>actual</th>\n",
       "      <th>predicted</th>\n",
       "      <th>price</th>\n",
       "      <th>error</th>\n",
       "    </tr>\n",
       "  </thead>\n",
       "  <tbody>\n",
       "    <tr>\n",
       "      <th>113564</th>\n",
       "      <td>96</td>\n",
       "      <td>137.127361</td>\n",
       "      <td>2000.0</td>\n",
       "      <td>41.127361</td>\n",
       "    </tr>\n",
       "    <tr>\n",
       "      <th>1575</th>\n",
       "      <td>96</td>\n",
       "      <td>119.635868</td>\n",
       "      <td>1300.0</td>\n",
       "      <td>23.635868</td>\n",
       "    </tr>\n",
       "    <tr>\n",
       "      <th>1571</th>\n",
       "      <td>96</td>\n",
       "      <td>117.200577</td>\n",
       "      <td>1200.0</td>\n",
       "      <td>21.200577</td>\n",
       "    </tr>\n",
       "    <tr>\n",
       "      <th>88870</th>\n",
       "      <td>94</td>\n",
       "      <td>111.097728</td>\n",
       "      <td>900.0</td>\n",
       "      <td>17.097728</td>\n",
       "    </tr>\n",
       "    <tr>\n",
       "      <th>43655</th>\n",
       "      <td>95</td>\n",
       "      <td>108.257407</td>\n",
       "      <td>775.0</td>\n",
       "      <td>13.257407</td>\n",
       "    </tr>\n",
       "    <tr>\n",
       "      <th>43650</th>\n",
       "      <td>95</td>\n",
       "      <td>108.250031</td>\n",
       "      <td>775.0</td>\n",
       "      <td>13.250031</td>\n",
       "    </tr>\n",
       "    <tr>\n",
       "      <th>56959</th>\n",
       "      <td>96</td>\n",
       "      <td>108.453523</td>\n",
       "      <td>820.0</td>\n",
       "      <td>12.453523</td>\n",
       "    </tr>\n",
       "    <tr>\n",
       "      <th>347</th>\n",
       "      <td>97</td>\n",
       "      <td>108.264783</td>\n",
       "      <td>775.0</td>\n",
       "      <td>11.264783</td>\n",
       "    </tr>\n",
       "    <tr>\n",
       "      <th>118059</th>\n",
       "      <td>99</td>\n",
       "      <td>87.863746</td>\n",
       "      <td>44.0</td>\n",
       "      <td>11.136254</td>\n",
       "    </tr>\n",
       "    <tr>\n",
       "      <th>116094</th>\n",
       "      <td>99</td>\n",
       "      <td>88.585912</td>\n",
       "      <td>NaN</td>\n",
       "      <td>10.414088</td>\n",
       "    </tr>\n",
       "  </tbody>\n",
       "</table>\n",
       "</div>"
      ],
      "text/plain": [
       "        actual   predicted   price      error\n",
       "113564      96  137.127361  2000.0  41.127361\n",
       "1575        96  119.635868  1300.0  23.635868\n",
       "1571        96  117.200577  1200.0  21.200577\n",
       "88870       94  111.097728   900.0  17.097728\n",
       "43655       95  108.257407   775.0  13.257407\n",
       "43650       95  108.250031   775.0  13.250031\n",
       "56959       96  108.453523   820.0  12.453523\n",
       "347         97  108.264783   775.0  11.264783\n",
       "118059      99   87.863746    44.0  11.136254\n",
       "116094      99   88.585912     NaN  10.414088"
      ]
     },
     "execution_count": 25,
     "metadata": {},
     "output_type": "execute_result"
    }
   ],
   "source": [
    "print(\"Mean squared error: %.2f\" % mean_squared_error(y_test, y_predicted))\n",
    "# The coefficient of determination: 1 is perfect prediction\n",
    "print(\"R2: %.2f\" % r2_score(y_test, y_predicted))\n",
    "predicted_df1 = DataFrame()\n",
    "predicted_df1[\"actual\"] = y_test\n",
    "predicted_df1[\"predicted\"] = y_predicted\n",
    "predicted_df1[\"price\"] = X_test.price\n",
    "predicted_df1[\"error\"] = abs(y_test - y_predicted)\n",
    "predicted_df1.sort_values(by=\"error\", ascending=False).head(10)"
   ]
  },
  {
   "cell_type": "code",
   "execution_count": 176,
   "id": "043feeab-5221-4493-b1c0-0403e9eb43e8",
   "metadata": {},
   "outputs": [],
   "source": [
    "results_df = DataFrame(columns=['name','classifier','alpha','reduction','train_r2','train_mse', 'test_r2', 'test_mse'])\n",
    "\n",
    "def append_to_results(name, classifier, alpha, reduction, y_test, y_predict, y_train, y_train_predicted):\n",
    "    test_r2 = r2_score(y_test, y_predicted), \n",
    "    test_mse = mean_squared_error(y_test, y_predicted)\n",
    "    train_r2 = r2_score(y_train, y_train_predicted)\n",
    "    train_mse = mean_squared_error(y_train, y_train_predicted)\n",
    "    \n",
    "    return results_df.append({'name':name, 'classifier':classifier, 'alpha': alpha, 'reduction':reduction, 'test_r2': test_r2, 'test_mse':test_mse, 'train_r2': train_r2, \"train_mse\": train_mse}, ignore_index=True)\n",
    "\n",
    "def append_row_to_results(name, classifier, alpha, reduction, test_r2, test_mse, train_r2, train_mse):\n",
    "    return results_df.append({'name':name, 'classifier':classifier, 'alpha': alpha, 'reduction':reduction, 'test_r2': test_r2, 'test_mse':test_mse, 'train_r2': train_r2, \"train_mse\": train_mse}, ignore_index=True)\n",
    "    "
   ]
  },
  {
   "cell_type": "code",
   "execution_count": 27,
   "id": "b22d375a-d9de-425f-8de4-a30fc22d33a9",
   "metadata": {},
   "outputs": [
    {
     "data": {
      "text/plain": [
       "{'classifier__alpha': 10, 'param_reduction__n_components': None}"
      ]
     },
     "execution_count": 27,
     "metadata": {},
     "output_type": "execute_result"
    }
   ],
   "source": [
    "categorical_pipeline_grid_search.best_params_"
   ]
  },
  {
   "cell_type": "code",
   "execution_count": 28,
   "id": "51ba9536-f184-4835-8c50-58d42fa34fe5",
   "metadata": {},
   "outputs": [
    {
     "name": "stderr",
     "output_type": "stream",
     "text": [
      "C:\\Users\\olgas\\AppData\\Local\\Temp\\ipykernel_19968\\16745098.py:9: FutureWarning:\n",
      "\n",
      "The frame.append method is deprecated and will be removed from pandas in a future version. Use pandas.concat instead.\n",
      "\n"
     ]
    }
   ],
   "source": [
    "results_df = append_to_results(\"all categories and price\",'Ridge', '10', 'None', y_test, y_predicted, y_train, y_train_predicted)"
   ]
  },
  {
   "cell_type": "code",
   "execution_count": 29,
   "id": "71f5dee0-f5e6-413a-9d6c-0bdb2baaee99",
   "metadata": {},
   "outputs": [
    {
     "data": {
      "text/html": [
       "<div>\n",
       "<style scoped>\n",
       "    .dataframe tbody tr th:only-of-type {\n",
       "        vertical-align: middle;\n",
       "    }\n",
       "\n",
       "    .dataframe tbody tr th {\n",
       "        vertical-align: top;\n",
       "    }\n",
       "\n",
       "    .dataframe thead th {\n",
       "        text-align: right;\n",
       "    }\n",
       "</style>\n",
       "<table border=\"1\" class=\"dataframe\">\n",
       "  <thead>\n",
       "    <tr style=\"text-align: right;\">\n",
       "      <th></th>\n",
       "      <th>name</th>\n",
       "      <th>classifier</th>\n",
       "      <th>alpha</th>\n",
       "      <th>reduction</th>\n",
       "      <th>train_r2</th>\n",
       "      <th>train_mse</th>\n",
       "      <th>test_r2</th>\n",
       "      <th>test_mse</th>\n",
       "    </tr>\n",
       "  </thead>\n",
       "  <tbody>\n",
       "    <tr>\n",
       "      <th>0</th>\n",
       "      <td>all categories and price</td>\n",
       "      <td>Ridge</td>\n",
       "      <td>10</td>\n",
       "      <td>None</td>\n",
       "      <td>0.305234</td>\n",
       "      <td>6.64789</td>\n",
       "      <td>(0.30081382552241454,)</td>\n",
       "      <td>6.688209</td>\n",
       "    </tr>\n",
       "  </tbody>\n",
       "</table>\n",
       "</div>"
      ],
      "text/plain": [
       "                       name classifier alpha reduction  train_r2  train_mse  \\\n",
       "0  all categories and price      Ridge    10      None  0.305234    6.64789   \n",
       "\n",
       "                  test_r2  test_mse  \n",
       "0  (0.30081382552241454,)  6.688209  "
      ]
     },
     "execution_count": 29,
     "metadata": {},
     "output_type": "execute_result"
    }
   ],
   "source": [
    "results_df"
   ]
  },
  {
   "cell_type": "code",
   "execution_count": 30,
   "id": "919b5ab0-31ff-4e61-8358-f518caec8ef3",
   "metadata": {},
   "outputs": [
    {
     "name": "stdout",
     "output_type": "stream",
     "text": [
      "                                index         w\n",
      "0                  province_Andalucia  2.104901\n",
      "1        taster_name_Anne Krebiehl MW  2.057815\n",
      "2                 province_California  2.028812\n",
      "3                province_Puente Alto  1.924628\n",
      "4               variety_Petit Manseng  1.898676\n",
      "5                      province_Peumo  1.776085\n",
      "6           taster_name_Mike DeSimone  1.735011\n",
      "7                      variety_Sherry  1.730872\n",
      "8                  province_Champagne  1.717619\n",
      "9               variety_Tinta de Toro  1.714328\n",
      "10                province_Washington  1.679139\n",
      "11                 variety_Sagrantino  1.596040\n",
      "12            variety_Tannat-Cabernet  1.574525\n",
      "13                      country_Italy  1.567648\n",
      "14      variety_Tannat-Cabernet Franc  1.560889\n",
      "15                 variety_Tinto Fino  1.547470\n",
      "16                country_New Zealand  1.510966\n",
      "17                  variety_Alvarinho  1.496035\n",
      "18          variety_Sangiovese Grosso  1.469317\n",
      "19               country_South Africa  1.468014\n",
      "20              variety_Pedro Ximénez  1.465378\n",
      "21                   province_Madeira  1.453106\n",
      "22                     province_Kumeu  1.442852\n",
      "23             variety_Loin de l'Oeil  1.429475\n",
      "24                    province_Wachau  1.425568\n",
      "25                   variety_Carignan  1.404894\n",
      "26           taster_name_Jeff Jenssen  1.392997\n",
      "27              province_Rhône Valley  1.380015\n",
      "28     variety_Gros and Petit Manseng  1.372527\n",
      "29          variety_Alicante Bouschet  1.356149\n",
      "30                     country_Greece  1.347450\n",
      "31                  variety_Aglianico  1.341264\n",
      "32                    province_Oregon  1.329305\n",
      "33                     variety_Tannat  1.294789\n",
      "34  variety_Malbec-Cabernet Sauvignon  1.285166\n",
      "35                      variety_Tokay  1.278117\n",
      "36           province_Beira Atlantico  1.276044\n",
      "37              variety_Malbec-Tannat  1.264486\n",
      "38                     variety_Mencía  1.263145\n",
      "39                      province_Port  1.253754\n",
      "40                   province_Kamptal  1.230707\n",
      "41                   variety_Savagnin  1.217648\n",
      "42             variety_Tinta del Pais  1.207254\n",
      "43                 variety_Muscadelle  1.186882\n",
      "44                    province_Tokaji  1.181822\n",
      "45                  country_Australia  1.166987\n",
      "46       variety_Lambrusco di Sorbara  1.123087\n",
      "47                    country_Germany  1.103009\n",
      "48          province_Mosel-Saar-Ruwer  1.079578\n",
      "49       province_Moscatel de Setúbal  1.055252\n"
     ]
    },
    {
     "data": {
      "application/vnd.plotly.v1+json": {
       "config": {
        "plotlyServerURL": "https://plot.ly"
       },
       "data": [
        {
         "alignmentgroup": "True",
         "hovertemplate": "index=%{x}<br>w=%{y}<extra></extra>",
         "legendgroup": "",
         "marker": {
          "color": "#636efa",
          "pattern": {
           "shape": ""
          }
         },
         "name": "",
         "offsetgroup": "",
         "orientation": "v",
         "showlegend": false,
         "textposition": "auto",
         "type": "bar",
         "x": [
          "province_Andalucia",
          "taster_name_Anne Krebiehl MW",
          "province_California",
          "variety_Brachetto",
          "province_Puente Alto",
          "variety_Portuguese Rosé",
          "variety_Petit Manseng",
          "variety_Rosado",
          "province_Peumo",
          "taster_name_Mike DeSimone",
          "variety_Sherry",
          "province_Champagne",
          "variety_Tinta de Toro",
          "province_Washington",
          "province_Australia Other",
          "taster_name_Susan Kostrzewa",
          "variety_Pinot Grigio",
          "variety_Sagrantino",
          "variety_Pinot Noir-Gamay",
          "variety_Lambrusco",
          "variety_Inzolia",
          "variety_Tannat-Cabernet",
          "variety_Cortese",
          "country_Italy",
          "variety_Tannat-Cabernet Franc",
          "province_Central Valley",
          "variety_Tinto Fino",
          "country_New Zealand",
          "variety_Alvarinho",
          "variety_Viura",
          "variety_Sangiovese Grosso",
          "country_South Africa",
          "variety_Pedro Ximénez",
          "variety_Colombard-Sauvignon Blanc",
          "province_Madeira",
          "variety_Müller-Thurgau",
          "province_Kumeu",
          "variety_Loin de l'Oeil",
          "province_Wachau",
          "variety_Carignan",
          "taster_name_Jeff Jenssen",
          "province_Rhône Valley",
          "province_Österreichischer Sekt",
          "variety_Gros and Petit Manseng",
          "variety_Tempranillo-Garnacha",
          "variety_Alicante Bouschet",
          "country_Greece",
          "province_France Other",
          "variety_Aglianico",
          "province_Oregon"
         ],
         "xaxis": "x",
         "y": [
          2.1049006630989306,
          2.0578148504561007,
          2.028812443780172,
          1.989899271791999,
          1.9246284406072025,
          1.9126978442678464,
          1.8986761452670444,
          1.8406005999849944,
          1.7760846234604564,
          1.7350108621172733,
          1.7308717976687567,
          1.7176185532180144,
          1.7143279345220572,
          1.6791390063041178,
          1.6491192723108743,
          1.6487174583858564,
          1.6454957585440708,
          1.5960398668893105,
          1.594118123229955,
          1.5926579575328146,
          1.5777177697381233,
          1.5745248795884075,
          1.5709299913864463,
          1.5676475164265125,
          1.5608891904095112,
          1.54810289672761,
          1.5474695877850726,
          1.5109662025223953,
          1.496035298866845,
          1.4780448582368952,
          1.4693166156050281,
          1.4680141203777253,
          1.4653779516366003,
          1.4545648164077813,
          1.4531060406756129,
          1.4443952210624997,
          1.4428519391962382,
          1.4294752333557084,
          1.425567958153375,
          1.4048940557345586,
          1.392997045278422,
          1.3800149554906174,
          1.3753217932545898,
          1.3725270184631326,
          1.3677341548704842,
          1.3561487834897006,
          1.3474502868228322,
          1.3414971985284214,
          1.3412640679461958,
          1.3293049582691754
         ],
         "yaxis": "y"
        }
       ],
       "layout": {
        "autosize": true,
        "barmode": "relative",
        "legend": {
         "tracegroupgap": 0
        },
        "template": {
         "data": {
          "bar": [
           {
            "error_x": {
             "color": "#2a3f5f"
            },
            "error_y": {
             "color": "#2a3f5f"
            },
            "marker": {
             "line": {
              "color": "#E5ECF6",
              "width": 0.5
             },
             "pattern": {
              "fillmode": "overlay",
              "size": 10,
              "solidity": 0.2
             }
            },
            "type": "bar"
           }
          ],
          "barpolar": [
           {
            "marker": {
             "line": {
              "color": "#E5ECF6",
              "width": 0.5
             },
             "pattern": {
              "fillmode": "overlay",
              "size": 10,
              "solidity": 0.2
             }
            },
            "type": "barpolar"
           }
          ],
          "carpet": [
           {
            "aaxis": {
             "endlinecolor": "#2a3f5f",
             "gridcolor": "white",
             "linecolor": "white",
             "minorgridcolor": "white",
             "startlinecolor": "#2a3f5f"
            },
            "baxis": {
             "endlinecolor": "#2a3f5f",
             "gridcolor": "white",
             "linecolor": "white",
             "minorgridcolor": "white",
             "startlinecolor": "#2a3f5f"
            },
            "type": "carpet"
           }
          ],
          "choropleth": [
           {
            "colorbar": {
             "outlinewidth": 0,
             "ticks": ""
            },
            "type": "choropleth"
           }
          ],
          "contour": [
           {
            "colorbar": {
             "outlinewidth": 0,
             "ticks": ""
            },
            "colorscale": [
             [
              0,
              "#0d0887"
             ],
             [
              0.1111111111111111,
              "#46039f"
             ],
             [
              0.2222222222222222,
              "#7201a8"
             ],
             [
              0.3333333333333333,
              "#9c179e"
             ],
             [
              0.4444444444444444,
              "#bd3786"
             ],
             [
              0.5555555555555556,
              "#d8576b"
             ],
             [
              0.6666666666666666,
              "#ed7953"
             ],
             [
              0.7777777777777778,
              "#fb9f3a"
             ],
             [
              0.8888888888888888,
              "#fdca26"
             ],
             [
              1,
              "#f0f921"
             ]
            ],
            "type": "contour"
           }
          ],
          "contourcarpet": [
           {
            "colorbar": {
             "outlinewidth": 0,
             "ticks": ""
            },
            "type": "contourcarpet"
           }
          ],
          "heatmap": [
           {
            "colorbar": {
             "outlinewidth": 0,
             "ticks": ""
            },
            "colorscale": [
             [
              0,
              "#0d0887"
             ],
             [
              0.1111111111111111,
              "#46039f"
             ],
             [
              0.2222222222222222,
              "#7201a8"
             ],
             [
              0.3333333333333333,
              "#9c179e"
             ],
             [
              0.4444444444444444,
              "#bd3786"
             ],
             [
              0.5555555555555556,
              "#d8576b"
             ],
             [
              0.6666666666666666,
              "#ed7953"
             ],
             [
              0.7777777777777778,
              "#fb9f3a"
             ],
             [
              0.8888888888888888,
              "#fdca26"
             ],
             [
              1,
              "#f0f921"
             ]
            ],
            "type": "heatmap"
           }
          ],
          "heatmapgl": [
           {
            "colorbar": {
             "outlinewidth": 0,
             "ticks": ""
            },
            "colorscale": [
             [
              0,
              "#0d0887"
             ],
             [
              0.1111111111111111,
              "#46039f"
             ],
             [
              0.2222222222222222,
              "#7201a8"
             ],
             [
              0.3333333333333333,
              "#9c179e"
             ],
             [
              0.4444444444444444,
              "#bd3786"
             ],
             [
              0.5555555555555556,
              "#d8576b"
             ],
             [
              0.6666666666666666,
              "#ed7953"
             ],
             [
              0.7777777777777778,
              "#fb9f3a"
             ],
             [
              0.8888888888888888,
              "#fdca26"
             ],
             [
              1,
              "#f0f921"
             ]
            ],
            "type": "heatmapgl"
           }
          ],
          "histogram": [
           {
            "marker": {
             "pattern": {
              "fillmode": "overlay",
              "size": 10,
              "solidity": 0.2
             }
            },
            "type": "histogram"
           }
          ],
          "histogram2d": [
           {
            "colorbar": {
             "outlinewidth": 0,
             "ticks": ""
            },
            "colorscale": [
             [
              0,
              "#0d0887"
             ],
             [
              0.1111111111111111,
              "#46039f"
             ],
             [
              0.2222222222222222,
              "#7201a8"
             ],
             [
              0.3333333333333333,
              "#9c179e"
             ],
             [
              0.4444444444444444,
              "#bd3786"
             ],
             [
              0.5555555555555556,
              "#d8576b"
             ],
             [
              0.6666666666666666,
              "#ed7953"
             ],
             [
              0.7777777777777778,
              "#fb9f3a"
             ],
             [
              0.8888888888888888,
              "#fdca26"
             ],
             [
              1,
              "#f0f921"
             ]
            ],
            "type": "histogram2d"
           }
          ],
          "histogram2dcontour": [
           {
            "colorbar": {
             "outlinewidth": 0,
             "ticks": ""
            },
            "colorscale": [
             [
              0,
              "#0d0887"
             ],
             [
              0.1111111111111111,
              "#46039f"
             ],
             [
              0.2222222222222222,
              "#7201a8"
             ],
             [
              0.3333333333333333,
              "#9c179e"
             ],
             [
              0.4444444444444444,
              "#bd3786"
             ],
             [
              0.5555555555555556,
              "#d8576b"
             ],
             [
              0.6666666666666666,
              "#ed7953"
             ],
             [
              0.7777777777777778,
              "#fb9f3a"
             ],
             [
              0.8888888888888888,
              "#fdca26"
             ],
             [
              1,
              "#f0f921"
             ]
            ],
            "type": "histogram2dcontour"
           }
          ],
          "mesh3d": [
           {
            "colorbar": {
             "outlinewidth": 0,
             "ticks": ""
            },
            "type": "mesh3d"
           }
          ],
          "parcoords": [
           {
            "line": {
             "colorbar": {
              "outlinewidth": 0,
              "ticks": ""
             }
            },
            "type": "parcoords"
           }
          ],
          "pie": [
           {
            "automargin": true,
            "type": "pie"
           }
          ],
          "scatter": [
           {
            "fillpattern": {
             "fillmode": "overlay",
             "size": 10,
             "solidity": 0.2
            },
            "type": "scatter"
           }
          ],
          "scatter3d": [
           {
            "line": {
             "colorbar": {
              "outlinewidth": 0,
              "ticks": ""
             }
            },
            "marker": {
             "colorbar": {
              "outlinewidth": 0,
              "ticks": ""
             }
            },
            "type": "scatter3d"
           }
          ],
          "scattercarpet": [
           {
            "marker": {
             "colorbar": {
              "outlinewidth": 0,
              "ticks": ""
             }
            },
            "type": "scattercarpet"
           }
          ],
          "scattergeo": [
           {
            "marker": {
             "colorbar": {
              "outlinewidth": 0,
              "ticks": ""
             }
            },
            "type": "scattergeo"
           }
          ],
          "scattergl": [
           {
            "marker": {
             "colorbar": {
              "outlinewidth": 0,
              "ticks": ""
             }
            },
            "type": "scattergl"
           }
          ],
          "scattermapbox": [
           {
            "marker": {
             "colorbar": {
              "outlinewidth": 0,
              "ticks": ""
             }
            },
            "type": "scattermapbox"
           }
          ],
          "scatterpolar": [
           {
            "marker": {
             "colorbar": {
              "outlinewidth": 0,
              "ticks": ""
             }
            },
            "type": "scatterpolar"
           }
          ],
          "scatterpolargl": [
           {
            "marker": {
             "colorbar": {
              "outlinewidth": 0,
              "ticks": ""
             }
            },
            "type": "scatterpolargl"
           }
          ],
          "scatterternary": [
           {
            "marker": {
             "colorbar": {
              "outlinewidth": 0,
              "ticks": ""
             }
            },
            "type": "scatterternary"
           }
          ],
          "surface": [
           {
            "colorbar": {
             "outlinewidth": 0,
             "ticks": ""
            },
            "colorscale": [
             [
              0,
              "#0d0887"
             ],
             [
              0.1111111111111111,
              "#46039f"
             ],
             [
              0.2222222222222222,
              "#7201a8"
             ],
             [
              0.3333333333333333,
              "#9c179e"
             ],
             [
              0.4444444444444444,
              "#bd3786"
             ],
             [
              0.5555555555555556,
              "#d8576b"
             ],
             [
              0.6666666666666666,
              "#ed7953"
             ],
             [
              0.7777777777777778,
              "#fb9f3a"
             ],
             [
              0.8888888888888888,
              "#fdca26"
             ],
             [
              1,
              "#f0f921"
             ]
            ],
            "type": "surface"
           }
          ],
          "table": [
           {
            "cells": {
             "fill": {
              "color": "#EBF0F8"
             },
             "line": {
              "color": "white"
             }
            },
            "header": {
             "fill": {
              "color": "#C8D4E3"
             },
             "line": {
              "color": "white"
             }
            },
            "type": "table"
           }
          ]
         },
         "layout": {
          "annotationdefaults": {
           "arrowcolor": "#2a3f5f",
           "arrowhead": 0,
           "arrowwidth": 1
          },
          "autotypenumbers": "strict",
          "coloraxis": {
           "colorbar": {
            "outlinewidth": 0,
            "ticks": ""
           }
          },
          "colorscale": {
           "diverging": [
            [
             0,
             "#8e0152"
            ],
            [
             0.1,
             "#c51b7d"
            ],
            [
             0.2,
             "#de77ae"
            ],
            [
             0.3,
             "#f1b6da"
            ],
            [
             0.4,
             "#fde0ef"
            ],
            [
             0.5,
             "#f7f7f7"
            ],
            [
             0.6,
             "#e6f5d0"
            ],
            [
             0.7,
             "#b8e186"
            ],
            [
             0.8,
             "#7fbc41"
            ],
            [
             0.9,
             "#4d9221"
            ],
            [
             1,
             "#276419"
            ]
           ],
           "sequential": [
            [
             0,
             "#0d0887"
            ],
            [
             0.1111111111111111,
             "#46039f"
            ],
            [
             0.2222222222222222,
             "#7201a8"
            ],
            [
             0.3333333333333333,
             "#9c179e"
            ],
            [
             0.4444444444444444,
             "#bd3786"
            ],
            [
             0.5555555555555556,
             "#d8576b"
            ],
            [
             0.6666666666666666,
             "#ed7953"
            ],
            [
             0.7777777777777778,
             "#fb9f3a"
            ],
            [
             0.8888888888888888,
             "#fdca26"
            ],
            [
             1,
             "#f0f921"
            ]
           ],
           "sequentialminus": [
            [
             0,
             "#0d0887"
            ],
            [
             0.1111111111111111,
             "#46039f"
            ],
            [
             0.2222222222222222,
             "#7201a8"
            ],
            [
             0.3333333333333333,
             "#9c179e"
            ],
            [
             0.4444444444444444,
             "#bd3786"
            ],
            [
             0.5555555555555556,
             "#d8576b"
            ],
            [
             0.6666666666666666,
             "#ed7953"
            ],
            [
             0.7777777777777778,
             "#fb9f3a"
            ],
            [
             0.8888888888888888,
             "#fdca26"
            ],
            [
             1,
             "#f0f921"
            ]
           ]
          },
          "colorway": [
           "#636efa",
           "#EF553B",
           "#00cc96",
           "#ab63fa",
           "#FFA15A",
           "#19d3f3",
           "#FF6692",
           "#B6E880",
           "#FF97FF",
           "#FECB52"
          ],
          "font": {
           "color": "#2a3f5f"
          },
          "geo": {
           "bgcolor": "white",
           "lakecolor": "white",
           "landcolor": "#E5ECF6",
           "showlakes": true,
           "showland": true,
           "subunitcolor": "white"
          },
          "hoverlabel": {
           "align": "left"
          },
          "hovermode": "closest",
          "mapbox": {
           "style": "light"
          },
          "paper_bgcolor": "white",
          "plot_bgcolor": "#E5ECF6",
          "polar": {
           "angularaxis": {
            "gridcolor": "white",
            "linecolor": "white",
            "ticks": ""
           },
           "bgcolor": "#E5ECF6",
           "radialaxis": {
            "gridcolor": "white",
            "linecolor": "white",
            "ticks": ""
           }
          },
          "scene": {
           "xaxis": {
            "backgroundcolor": "#E5ECF6",
            "gridcolor": "white",
            "gridwidth": 2,
            "linecolor": "white",
            "showbackground": true,
            "ticks": "",
            "zerolinecolor": "white"
           },
           "yaxis": {
            "backgroundcolor": "#E5ECF6",
            "gridcolor": "white",
            "gridwidth": 2,
            "linecolor": "white",
            "showbackground": true,
            "ticks": "",
            "zerolinecolor": "white"
           },
           "zaxis": {
            "backgroundcolor": "#E5ECF6",
            "gridcolor": "white",
            "gridwidth": 2,
            "linecolor": "white",
            "showbackground": true,
            "ticks": "",
            "zerolinecolor": "white"
           }
          },
          "shapedefaults": {
           "line": {
            "color": "#2a3f5f"
           }
          },
          "ternary": {
           "aaxis": {
            "gridcolor": "white",
            "linecolor": "white",
            "ticks": ""
           },
           "baxis": {
            "gridcolor": "white",
            "linecolor": "white",
            "ticks": ""
           },
           "bgcolor": "#E5ECF6",
           "caxis": {
            "gridcolor": "white",
            "linecolor": "white",
            "ticks": ""
           }
          },
          "title": {
           "x": 0.05
          },
          "xaxis": {
           "automargin": true,
           "gridcolor": "white",
           "linecolor": "white",
           "ticks": "",
           "title": {
            "standoff": 15
           },
           "zerolinecolor": "white",
           "zerolinewidth": 2
          },
          "yaxis": {
           "automargin": true,
           "gridcolor": "white",
           "linecolor": "white",
           "ticks": "",
           "title": {
            "standoff": 15
           },
           "zerolinecolor": "white",
           "zerolinewidth": 2
          }
         }
        },
        "title": {
         "text": "Feature weights"
        },
        "xaxis": {
         "anchor": "y",
         "autorange": true,
         "domain": [
          0,
          1
         ],
         "range": [
          -0.5,
          49.5
         ],
         "title": {
          "text": "index"
         },
         "type": "category"
        },
        "yaxis": {
         "anchor": "x",
         "autorange": true,
         "domain": [
          0,
          1
         ],
         "range": [
          0,
          2.21568490852519
         ],
         "title": {
          "text": "w"
         },
         "type": "linear"
        }
       }
      },
      "image/png": "[encoded data removed]",
      "text/html": [
       "<div>                            <div id=\"ac29b2fe-e62f-4ea2-90e6-ffae7977b550\" class=\"plotly-graph-div\" style=\"height:525px; width:100%;\"></div>            <script type=\"text/javascript\">                require([\"plotly\"], function(Plotly) {                    window.PLOTLYENV=window.PLOTLYENV || {};                                    if (document.getElementById(\"ac29b2fe-e62f-4ea2-90e6-ffae7977b550\")) {                    Plotly.newPlot(                        \"ac29b2fe-e62f-4ea2-90e6-ffae7977b550\",                        [{\"alignmentgroup\":\"True\",\"hovertemplate\":\"index=%{x}<br>w=%{y}<extra></extra>\",\"legendgroup\":\"\",\"marker\":{\"color\":\"#636efa\",\"pattern\":{\"shape\":\"\"}},\"name\":\"\",\"offsetgroup\":\"\",\"orientation\":\"v\",\"showlegend\":false,\"textposition\":\"auto\",\"x\":[\"province_Andalucia\",\"taster_name_Anne Krebiehl\\u00a0MW\",\"province_California\",\"variety_Brachetto\",\"province_Puente Alto\",\"variety_Portuguese Ros\\u00e9\",\"variety_Petit Manseng\",\"variety_Rosado\",\"province_Peumo\",\"taster_name_Mike DeSimone\",\"variety_Sherry\",\"province_Champagne\",\"variety_Tinta de Toro\",\"province_Washington\",\"province_Australia Other\",\"taster_name_Susan Kostrzewa\",\"variety_Pinot Grigio\",\"variety_Sagrantino\",\"variety_Pinot Noir-Gamay\",\"variety_Lambrusco\",\"variety_Inzolia\",\"variety_Tannat-Cabernet\",\"variety_Cortese\",\"country_Italy\",\"variety_Tannat-Cabernet Franc\",\"province_Central Valley\",\"variety_Tinto Fino\",\"country_New Zealand\",\"variety_Alvarinho\",\"variety_Viura\",\"variety_Sangiovese Grosso\",\"country_South Africa\",\"variety_Pedro Xim\\u00e9nez\",\"variety_Colombard-Sauvignon Blanc\",\"province_Madeira\",\"variety_M\\u00fcller-Thurgau\",\"province_Kumeu\",\"variety_Loin de l'Oeil\",\"province_Wachau\",\"variety_Carignan\",\"taster_name_Jeff Jenssen\",\"province_Rh\\u00f4ne Valley\",\"province_\\u00d6sterreichischer Sekt\",\"variety_Gros and Petit Manseng\",\"variety_Tempranillo-Garnacha\",\"variety_Alicante Bouschet\",\"country_Greece\",\"province_France Other\",\"variety_Aglianico\",\"province_Oregon\"],\"xaxis\":\"x\",\"y\":[2.1049006630989306,2.0578148504561007,2.028812443780172,1.989899271791999,1.9246284406072025,1.9126978442678464,1.8986761452670444,1.8406005999849944,1.7760846234604564,1.7350108621172733,1.7308717976687567,1.7176185532180144,1.7143279345220572,1.6791390063041178,1.6491192723108743,1.6487174583858564,1.6454957585440708,1.5960398668893105,1.594118123229955,1.5926579575328146,1.5777177697381233,1.5745248795884075,1.5709299913864463,1.5676475164265125,1.5608891904095112,1.54810289672761,1.5474695877850726,1.5109662025223953,1.496035298866845,1.4780448582368952,1.4693166156050281,1.4680141203777253,1.4653779516366003,1.4545648164077813,1.4531060406756129,1.4443952210624997,1.4428519391962382,1.4294752333557084,1.425567958153375,1.4048940557345586,1.392997045278422,1.3800149554906174,1.3753217932545898,1.3725270184631326,1.3677341548704842,1.3561487834897006,1.3474502868228322,1.3414971985284214,1.3412640679461958,1.3293049582691754],\"yaxis\":\"y\",\"type\":\"bar\"}],                        {\"template\":{\"data\":{\"histogram2dcontour\":[{\"type\":\"histogram2dcontour\",\"colorbar\":{\"outlinewidth\":0,\"ticks\":\"\"},\"colorscale\":[[0.0,\"#0d0887\"],[0.1111111111111111,\"#46039f\"],[0.2222222222222222,\"#7201a8\"],[0.3333333333333333,\"#9c179e\"],[0.4444444444444444,\"#bd3786\"],[0.5555555555555556,\"#d8576b\"],[0.6666666666666666,\"#ed7953\"],[0.7777777777777778,\"#fb9f3a\"],[0.8888888888888888,\"#fdca26\"],[1.0,\"#f0f921\"]]}],\"choropleth\":[{\"type\":\"choropleth\",\"colorbar\":{\"outlinewidth\":0,\"ticks\":\"\"}}],\"histogram2d\":[{\"type\":\"histogram2d\",\"colorbar\":{\"outlinewidth\":0,\"ticks\":\"\"},\"colorscale\":[[0.0,\"#0d0887\"],[0.1111111111111111,\"#46039f\"],[0.2222222222222222,\"#7201a8\"],[0.3333333333333333,\"#9c179e\"],[0.4444444444444444,\"#bd3786\"],[0.5555555555555556,\"#d8576b\"],[0.6666666666666666,\"#ed7953\"],[0.7777777777777778,\"#fb9f3a\"],[0.8888888888888888,\"#fdca26\"],[1.0,\"#f0f921\"]]}],\"heatmap\":[{\"type\":\"heatmap\",\"colorbar\":{\"outlinewidth\":0,\"ticks\":\"\"},\"colorscale\":[[0.0,\"#0d0887\"],[0.1111111111111111,\"#46039f\"],[0.2222222222222222,\"#7201a8\"],[0.3333333333333333,\"#9c179e\"],[0.4444444444444444,\"#bd3786\"],[0.5555555555555556,\"#d8576b\"],[0.6666666666666666,\"#ed7953\"],[0.7777777777777778,\"#fb9f3a\"],[0.8888888888888888,\"#fdca26\"],[1.0,\"#f0f921\"]]}],\"heatmapgl\":[{\"type\":\"heatmapgl\",\"colorbar\":{\"outlinewidth\":0,\"ticks\":\"\"},\"colorscale\":[[0.0,\"#0d0887\"],[0.1111111111111111,\"#46039f\"],[0.2222222222222222,\"#7201a8\"],[0.3333333333333333,\"#9c179e\"],[0.4444444444444444,\"#bd3786\"],[0.5555555555555556,\"#d8576b\"],[0.6666666666666666,\"#ed7953\"],[0.7777777777777778,\"#fb9f3a\"],[0.8888888888888888,\"#fdca26\"],[1.0,\"#f0f921\"]]}],\"contourcarpet\":[{\"type\":\"contourcarpet\",\"colorbar\":{\"outlinewidth\":0,\"ticks\":\"\"}}],\"contour\":[{\"type\":\"contour\",\"colorbar\":{\"outlinewidth\":0,\"ticks\":\"\"},\"colorscale\":[[0.0,\"#0d0887\"],[0.1111111111111111,\"#46039f\"],[0.2222222222222222,\"#7201a8\"],[0.3333333333333333,\"#9c179e\"],[0.4444444444444444,\"#bd3786\"],[0.5555555555555556,\"#d8576b\"],[0.6666666666666666,\"#ed7953\"],[0.7777777777777778,\"#fb9f3a\"],[0.8888888888888888,\"#fdca26\"],[1.0,\"#f0f921\"]]}],\"surface\":[{\"type\":\"surface\",\"colorbar\":{\"outlinewidth\":0,\"ticks\":\"\"},\"colorscale\":[[0.0,\"#0d0887\"],[0.1111111111111111,\"#46039f\"],[0.2222222222222222,\"#7201a8\"],[0.3333333333333333,\"#9c179e\"],[0.4444444444444444,\"#bd3786\"],[0.5555555555555556,\"#d8576b\"],[0.6666666666666666,\"#ed7953\"],[0.7777777777777778,\"#fb9f3a\"],[0.8888888888888888,\"#fdca26\"],[1.0,\"#f0f921\"]]}],\"mesh3d\":[{\"type\":\"mesh3d\",\"colorbar\":{\"outlinewidth\":0,\"ticks\":\"\"}}],\"scatter\":[{\"fillpattern\":{\"fillmode\":\"overlay\",\"size\":10,\"solidity\":0.2},\"type\":\"scatter\"}],\"parcoords\":[{\"type\":\"parcoords\",\"line\":{\"colorbar\":{\"outlinewidth\":0,\"ticks\":\"\"}}}],\"scatterpolargl\":[{\"type\":\"scatterpolargl\",\"marker\":{\"colorbar\":{\"outlinewidth\":0,\"ticks\":\"\"}}}],\"bar\":[{\"error_x\":{\"color\":\"#2a3f5f\"},\"error_y\":{\"color\":\"#2a3f5f\"},\"marker\":{\"line\":{\"color\":\"#E5ECF6\",\"width\":0.5},\"pattern\":{\"fillmode\":\"overlay\",\"size\":10,\"solidity\":0.2}},\"type\":\"bar\"}],\"scattergeo\":[{\"type\":\"scattergeo\",\"marker\":{\"colorbar\":{\"outlinewidth\":0,\"ticks\":\"\"}}}],\"scatterpolar\":[{\"type\":\"scatterpolar\",\"marker\":{\"colorbar\":{\"outlinewidth\":0,\"ticks\":\"\"}}}],\"histogram\":[{\"marker\":{\"pattern\":{\"fillmode\":\"overlay\",\"size\":10,\"solidity\":0.2}},\"type\":\"histogram\"}],\"scattergl\":[{\"type\":\"scattergl\",\"marker\":{\"colorbar\":{\"outlinewidth\":0,\"ticks\":\"\"}}}],\"scatter3d\":[{\"type\":\"scatter3d\",\"line\":{\"colorbar\":{\"outlinewidth\":0,\"ticks\":\"\"}},\"marker\":{\"colorbar\":{\"outlinewidth\":0,\"ticks\":\"\"}}}],\"scattermapbox\":[{\"type\":\"scattermapbox\",\"marker\":{\"colorbar\":{\"outlinewidth\":0,\"ticks\":\"\"}}}],\"scatterternary\":[{\"type\":\"scatterternary\",\"marker\":{\"colorbar\":{\"outlinewidth\":0,\"ticks\":\"\"}}}],\"scattercarpet\":[{\"type\":\"scattercarpet\",\"marker\":{\"colorbar\":{\"outlinewidth\":0,\"ticks\":\"\"}}}],\"carpet\":[{\"aaxis\":{\"endlinecolor\":\"#2a3f5f\",\"gridcolor\":\"white\",\"linecolor\":\"white\",\"minorgridcolor\":\"white\",\"startlinecolor\":\"#2a3f5f\"},\"baxis\":{\"endlinecolor\":\"#2a3f5f\",\"gridcolor\":\"white\",\"linecolor\":\"white\",\"minorgridcolor\":\"white\",\"startlinecolor\":\"#2a3f5f\"},\"type\":\"carpet\"}],\"table\":[{\"cells\":{\"fill\":{\"color\":\"#EBF0F8\"},\"line\":{\"color\":\"white\"}},\"header\":{\"fill\":{\"color\":\"#C8D4E3\"},\"line\":{\"color\":\"white\"}},\"type\":\"table\"}],\"barpolar\":[{\"marker\":{\"line\":{\"color\":\"#E5ECF6\",\"width\":0.5},\"pattern\":{\"fillmode\":\"overlay\",\"size\":10,\"solidity\":0.2}},\"type\":\"barpolar\"}],\"pie\":[{\"automargin\":true,\"type\":\"pie\"}]},\"layout\":{\"autotypenumbers\":\"strict\",\"colorway\":[\"#636efa\",\"#EF553B\",\"#00cc96\",\"#ab63fa\",\"#FFA15A\",\"#19d3f3\",\"#FF6692\",\"#B6E880\",\"#FF97FF\",\"#FECB52\"],\"font\":{\"color\":\"#2a3f5f\"},\"hovermode\":\"closest\",\"hoverlabel\":{\"align\":\"left\"},\"paper_bgcolor\":\"white\",\"plot_bgcolor\":\"#E5ECF6\",\"polar\":{\"bgcolor\":\"#E5ECF6\",\"angularaxis\":{\"gridcolor\":\"white\",\"linecolor\":\"white\",\"ticks\":\"\"},\"radialaxis\":{\"gridcolor\":\"white\",\"linecolor\":\"white\",\"ticks\":\"\"}},\"ternary\":{\"bgcolor\":\"#E5ECF6\",\"aaxis\":{\"gridcolor\":\"white\",\"linecolor\":\"white\",\"ticks\":\"\"},\"baxis\":{\"gridcolor\":\"white\",\"linecolor\":\"white\",\"ticks\":\"\"},\"caxis\":{\"gridcolor\":\"white\",\"linecolor\":\"white\",\"ticks\":\"\"}},\"coloraxis\":{\"colorbar\":{\"outlinewidth\":0,\"ticks\":\"\"}},\"colorscale\":{\"sequential\":[[0.0,\"#0d0887\"],[0.1111111111111111,\"#46039f\"],[0.2222222222222222,\"#7201a8\"],[0.3333333333333333,\"#9c179e\"],[0.4444444444444444,\"#bd3786\"],[0.5555555555555556,\"#d8576b\"],[0.6666666666666666,\"#ed7953\"],[0.7777777777777778,\"#fb9f3a\"],[0.8888888888888888,\"#fdca26\"],[1.0,\"#f0f921\"]],\"sequentialminus\":[[0.0,\"#0d0887\"],[0.1111111111111111,\"#46039f\"],[0.2222222222222222,\"#7201a8\"],[0.3333333333333333,\"#9c179e\"],[0.4444444444444444,\"#bd3786\"],[0.5555555555555556,\"#d8576b\"],[0.6666666666666666,\"#ed7953\"],[0.7777777777777778,\"#fb9f3a\"],[0.8888888888888888,\"#fdca26\"],[1.0,\"#f0f921\"]],\"diverging\":[[0,\"#8e0152\"],[0.1,\"#c51b7d\"],[0.2,\"#de77ae\"],[0.3,\"#f1b6da\"],[0.4,\"#fde0ef\"],[0.5,\"#f7f7f7\"],[0.6,\"#e6f5d0\"],[0.7,\"#b8e186\"],[0.8,\"#7fbc41\"],[0.9,\"#4d9221\"],[1,\"#276419\"]]},\"xaxis\":{\"gridcolor\":\"white\",\"linecolor\":\"white\",\"ticks\":\"\",\"title\":{\"standoff\":15},\"zerolinecolor\":\"white\",\"automargin\":true,\"zerolinewidth\":2},\"yaxis\":{\"gridcolor\":\"white\",\"linecolor\":\"white\",\"ticks\":\"\",\"title\":{\"standoff\":15},\"zerolinecolor\":\"white\",\"automargin\":true,\"zerolinewidth\":2},\"scene\":{\"xaxis\":{\"backgroundcolor\":\"#E5ECF6\",\"gridcolor\":\"white\",\"linecolor\":\"white\",\"showbackground\":true,\"ticks\":\"\",\"zerolinecolor\":\"white\",\"gridwidth\":2},\"yaxis\":{\"backgroundcolor\":\"#E5ECF6\",\"gridcolor\":\"white\",\"linecolor\":\"white\",\"showbackground\":true,\"ticks\":\"\",\"zerolinecolor\":\"white\",\"gridwidth\":2},\"zaxis\":{\"backgroundcolor\":\"#E5ECF6\",\"gridcolor\":\"white\",\"linecolor\":\"white\",\"showbackground\":true,\"ticks\":\"\",\"zerolinecolor\":\"white\",\"gridwidth\":2}},\"shapedefaults\":{\"line\":{\"color\":\"#2a3f5f\"}},\"annotationdefaults\":{\"arrowcolor\":\"#2a3f5f\",\"arrowhead\":0,\"arrowwidth\":1},\"geo\":{\"bgcolor\":\"white\",\"landcolor\":\"#E5ECF6\",\"subunitcolor\":\"white\",\"showland\":true,\"showlakes\":true,\"lakecolor\":\"white\"},\"title\":{\"x\":0.05},\"mapbox\":{\"style\":\"light\"}}},\"xaxis\":{\"anchor\":\"y\",\"domain\":[0.0,1.0],\"title\":{\"text\":\"index\"}},\"yaxis\":{\"anchor\":\"x\",\"domain\":[0.0,1.0],\"title\":{\"text\":\"w\"}},\"legend\":{\"tracegroupgap\":0},\"title\":{\"text\":\"Feature weights\"},\"barmode\":\"relative\"},                        {\"responsive\": true}                    ).then(function(){\n",
       "                            \n",
       "var gd = document.getElementById('ac29b2fe-e62f-4ea2-90e6-ffae7977b550');\n",
       "var x = new MutationObserver(function (mutations, observer) {{\n",
       "        var display = window.getComputedStyle(gd).display;\n",
       "        if (!display || display === 'none') {{\n",
       "            console.log([gd, 'removed!']);\n",
       "            Plotly.purge(gd);\n",
       "            observer.disconnect();\n",
       "        }}\n",
       "}});\n",
       "\n",
       "// Listen for the removal of the full notebook cells\n",
       "var notebookContainer = gd.closest('#notebook-container');\n",
       "if (notebookContainer) {{\n",
       "    x.observe(notebookContainer, {childList: true});\n",
       "}}\n",
       "\n",
       "// Listen for the clearing of the current output cell\n",
       "var outputEl = gd.closest('.output');\n",
       "if (outputEl) {{\n",
       "    x.observe(outputEl, {childList: true});\n",
       "}}\n",
       "\n",
       "                        })                };                });            </script>        </div>"
      ]
     },
     "metadata": {},
     "output_type": "display_data"
    }
   ],
   "source": [
    "import plotly_express as px\n",
    "reg = full_pipeline[-1]\n",
    "coef = pd.Series(reg.coef_.ravel(), index=reg.feature_names_in_).rename('w')\n",
    "print(coef.sort_values(ascending=False).reset_index().head(50))\n",
    "px.bar(coef.abs().sort_values(ascending=False).reset_index().head(50), x='index', y='w', title = 'Feature weights')"
   ]
  },
  {
   "cell_type": "markdown",
   "id": "b987635c-7916-42d4-9e7c-b1c8b32ee3b2",
   "metadata": {
    "tags": []
   },
   "source": [
    "## Try limit categories to popular categories"
   ]
  },
  {
   "cell_type": "code",
   "execution_count": 31,
   "id": "569af0ea-fbfb-4273-88ce-80e3419f418e",
   "metadata": {},
   "outputs": [
    {
     "name": "stdout",
     "output_type": "stream",
     "text": [
      "California    33656\n",
      "unknown       10624\n",
      "Washington     7964\n",
      "Bordeaux       5554\n",
      "Tuscany        5391\n",
      "Name: province, dtype: int64\n",
      "Pinot Noir                  12275\n",
      "Chardonnay                  10864\n",
      "Cabernet Sauvignon           8838\n",
      "Red Blend                    8233\n",
      "Bordeaux-style Red Blend     6469\n",
      "Name: variety, dtype: int64\n"
     ]
    }
   ],
   "source": [
    "reviews2 = reviews\n",
    "province_to_keep = province_count.head(50).index.array\n",
    "reviews2.province = reviews2.province.apply(lambda x: x if x in province_to_keep else 'unknown')\n",
    "\n",
    "veriety_to_keep = veriety_count.head(100).index.array\n",
    "reviews2.variety = reviews2.variety.apply(lambda x: x if x in veriety_to_keep else 'unknown')\n",
    "\n",
    "print(reviews.province.value_counts().sort_values(ascending=False).head(5))\n",
    "print(reviews.variety.value_counts().sort_values(ascending=False).head(5))"
   ]
  },
  {
   "cell_type": "code",
   "execution_count": 32,
   "id": "c3d34e01-e717-4f67-b279-5fda85b19f7e",
   "metadata": {},
   "outputs": [
    {
     "data": {
      "text/plain": [
       "(95939, 6)"
      ]
     },
     "execution_count": 32,
     "metadata": {},
     "output_type": "execute_result"
    }
   ],
   "source": [
    "x_train = reviews2.drop(columns={'description', 'points'})\n",
    "y_train = reviews2['points']\n",
    "X_train, X_test, y_train, y_test = train_test_split(x_train, y_train, test_size=0.2, random_state=42)\n",
    "X_train.shape"
   ]
  },
  {
   "cell_type": "code",
   "execution_count": 33,
   "id": "78d1726b-e961-4b71-818a-ca60ccb485d1",
   "metadata": {},
   "outputs": [
    {
     "name": "stdout",
     "output_type": "stream",
     "text": [
      "Fitting 3 folds for each of 12 candidates, totalling 36 fits\n",
      "[CV 1/3] END classifier__alpha=0.1, param_reduction__n_components=100;, score=0.274 total time=   2.5s\n",
      "[CV 2/3] END classifier__alpha=0.1, param_reduction__n_components=100;, score=0.272 total time=   2.3s\n",
      "[CV 3/3] END classifier__alpha=0.1, param_reduction__n_components=100;, score=0.289 total time=   2.4s\n",
      "[CV 1/3] END classifier__alpha=0.1, param_reduction__n_components=300;, score=nan total time=   0.2s\n",
      "[CV 2/3] END classifier__alpha=0.1, param_reduction__n_components=300;, score=nan total time=   0.2s\n",
      "[CV 3/3] END classifier__alpha=0.1, param_reduction__n_components=300;, score=nan total time=   0.2s\n",
      "[CV 1/3] END classifier__alpha=0.1, param_reduction__n_components=None;, score=0.285 total time=   1.6s\n",
      "[CV 2/3] END classifier__alpha=0.1, param_reduction__n_components=None;, score=0.283 total time=   1.6s\n",
      "[CV 3/3] END classifier__alpha=0.1, param_reduction__n_components=None;, score=0.300 total time=   1.6s\n",
      "[CV 1/3] END classifier__alpha=1, param_reduction__n_components=100;, score=0.274 total time=   2.4s\n",
      "[CV 2/3] END classifier__alpha=1, param_reduction__n_components=100;, score=0.272 total time=   2.4s\n",
      "[CV 3/3] END classifier__alpha=1, param_reduction__n_components=100;, score=0.289 total time=   2.3s\n",
      "[CV 1/3] END classifier__alpha=1, param_reduction__n_components=300;, score=nan total time=   0.2s\n",
      "[CV 2/3] END classifier__alpha=1, param_reduction__n_components=300;, score=nan total time=   0.3s\n",
      "[CV 3/3] END classifier__alpha=1, param_reduction__n_components=300;, score=nan total time=   0.3s\n",
      "[CV 1/3] END classifier__alpha=1, param_reduction__n_components=None;, score=0.285 total time=   1.8s\n",
      "[CV 2/3] END classifier__alpha=1, param_reduction__n_components=None;, score=0.284 total time=   1.8s\n",
      "[CV 3/3] END classifier__alpha=1, param_reduction__n_components=None;, score=0.300 total time=   1.7s\n",
      "[CV 1/3] END classifier__alpha=10, param_reduction__n_components=100;, score=0.275 total time=   2.4s\n",
      "[CV 2/3] END classifier__alpha=10, param_reduction__n_components=100;, score=0.272 total time=   2.3s\n",
      "[CV 3/3] END classifier__alpha=10, param_reduction__n_components=100;, score=0.289 total time=   2.3s\n",
      "[CV 1/3] END classifier__alpha=10, param_reduction__n_components=300;, score=nan total time=   0.2s\n",
      "[CV 2/3] END classifier__alpha=10, param_reduction__n_components=300;, score=nan total time=   0.2s\n",
      "[CV 3/3] END classifier__alpha=10, param_reduction__n_components=300;, score=nan total time=   0.2s\n",
      "[CV 1/3] END classifier__alpha=10, param_reduction__n_components=None;, score=0.285 total time=   1.8s\n",
      "[CV 2/3] END classifier__alpha=10, param_reduction__n_components=None;, score=0.283 total time=   1.9s\n",
      "[CV 3/3] END classifier__alpha=10, param_reduction__n_components=None;, score=0.301 total time=   1.8s\n",
      "[CV 1/3] END classifier__alpha=100, param_reduction__n_components=100;, score=0.273 total time=   2.3s\n",
      "[CV 2/3] END classifier__alpha=100, param_reduction__n_components=100;, score=0.270 total time=   2.3s\n",
      "[CV 3/3] END classifier__alpha=100, param_reduction__n_components=100;, score=0.289 total time=   2.3s\n",
      "[CV 1/3] END classifier__alpha=100, param_reduction__n_components=300;, score=nan total time=   0.2s\n",
      "[CV 2/3] END classifier__alpha=100, param_reduction__n_components=300;, score=nan total time=   0.2s\n",
      "[CV 3/3] END classifier__alpha=100, param_reduction__n_components=300;, score=nan total time=   0.2s\n",
      "[CV 1/3] END classifier__alpha=100, param_reduction__n_components=None;, score=0.280 total time=   1.8s\n",
      "[CV 2/3] END classifier__alpha=100, param_reduction__n_components=None;, score=0.278 total time=   1.7s\n",
      "[CV 3/3] END classifier__alpha=100, param_reduction__n_components=None;, score=0.296 total time=   1.7s\n"
     ]
    },
    {
     "name": "stderr",
     "output_type": "stream",
     "text": [
      "C:\\Users\\olgas\\AppData\\Roaming\\Python\\Python39\\site-packages\\sklearn\\model_selection\\_validation.py:378: FitFailedWarning:\n",
      "\n",
      "\n",
      "12 fits failed out of a total of 36.\n",
      "The score on these train-test partitions for these parameters will be set to nan.\n",
      "If these failures are not expected, you can try to debug them by setting error_score='raise'.\n",
      "\n",
      "Below are more details about the failures:\n",
      "--------------------------------------------------------------------------------\n",
      "8 fits failed with the following error:\n",
      "Traceback (most recent call last):\n",
      "  File \"C:\\Users\\olgas\\AppData\\Roaming\\Python\\Python39\\site-packages\\sklearn\\model_selection\\_validation.py\", line 686, in _fit_and_score\n",
      "    estimator.fit(X_train, y_train, **fit_params)\n",
      "  File \"C:\\Users\\olgas\\AppData\\Roaming\\Python\\Python39\\site-packages\\sklearn\\pipeline.py\", line 401, in fit\n",
      "    Xt = self._fit(X, y, **fit_params_steps)\n",
      "  File \"C:\\Users\\olgas\\AppData\\Roaming\\Python\\Python39\\site-packages\\sklearn\\pipeline.py\", line 359, in _fit\n",
      "    X, fitted_transformer = fit_transform_one_cached(\n",
      "  File \"C:\\Users\\olgas\\AppData\\Roaming\\Python\\Python39\\site-packages\\joblib\\memory.py\", line 349, in __call__\n",
      "    return self.func(*args, **kwargs)\n",
      "  File \"C:\\Users\\olgas\\AppData\\Roaming\\Python\\Python39\\site-packages\\sklearn\\pipeline.py\", line 893, in _fit_transform_one\n",
      "    res = transformer.fit_transform(X, y, **fit_params)\n",
      "  File \"C:\\Users\\olgas\\AppData\\Roaming\\Python\\Python39\\site-packages\\sklearn\\utils\\_set_output.py\", line 140, in wrapped\n",
      "    data_to_wrap = f(self, X, *args, **kwargs)\n",
      "  File \"C:\\Users\\olgas\\AppData\\Roaming\\Python\\Python39\\site-packages\\sklearn\\decomposition\\_pca.py\", line 462, in fit_transform\n",
      "    U, S, Vt = self._fit(X)\n",
      "  File \"C:\\Users\\olgas\\AppData\\Roaming\\Python\\Python39\\site-packages\\sklearn\\decomposition\\_pca.py\", line 512, in _fit\n",
      "    return self._fit_full(X, n_components)\n",
      "  File \"C:\\Users\\olgas\\AppData\\Roaming\\Python\\Python39\\site-packages\\sklearn\\decomposition\\_pca.py\", line 526, in _fit_full\n",
      "    raise ValueError(\n",
      "ValueError: n_components=300 must be between 0 and min(n_samples, n_features)=215 with svd_solver='full'\n",
      "\n",
      "--------------------------------------------------------------------------------\n",
      "4 fits failed with the following error:\n",
      "Traceback (most recent call last):\n",
      "  File \"C:\\Users\\olgas\\AppData\\Roaming\\Python\\Python39\\site-packages\\sklearn\\model_selection\\_validation.py\", line 686, in _fit_and_score\n",
      "    estimator.fit(X_train, y_train, **fit_params)\n",
      "  File \"C:\\Users\\olgas\\AppData\\Roaming\\Python\\Python39\\site-packages\\sklearn\\pipeline.py\", line 401, in fit\n",
      "    Xt = self._fit(X, y, **fit_params_steps)\n",
      "  File \"C:\\Users\\olgas\\AppData\\Roaming\\Python\\Python39\\site-packages\\sklearn\\pipeline.py\", line 359, in _fit\n",
      "    X, fitted_transformer = fit_transform_one_cached(\n",
      "  File \"C:\\Users\\olgas\\AppData\\Roaming\\Python\\Python39\\site-packages\\joblib\\memory.py\", line 349, in __call__\n",
      "    return self.func(*args, **kwargs)\n",
      "  File \"C:\\Users\\olgas\\AppData\\Roaming\\Python\\Python39\\site-packages\\sklearn\\pipeline.py\", line 893, in _fit_transform_one\n",
      "    res = transformer.fit_transform(X, y, **fit_params)\n",
      "  File \"C:\\Users\\olgas\\AppData\\Roaming\\Python\\Python39\\site-packages\\sklearn\\utils\\_set_output.py\", line 140, in wrapped\n",
      "    data_to_wrap = f(self, X, *args, **kwargs)\n",
      "  File \"C:\\Users\\olgas\\AppData\\Roaming\\Python\\Python39\\site-packages\\sklearn\\decomposition\\_pca.py\", line 462, in fit_transform\n",
      "    U, S, Vt = self._fit(X)\n",
      "  File \"C:\\Users\\olgas\\AppData\\Roaming\\Python\\Python39\\site-packages\\sklearn\\decomposition\\_pca.py\", line 512, in _fit\n",
      "    return self._fit_full(X, n_components)\n",
      "  File \"C:\\Users\\olgas\\AppData\\Roaming\\Python\\Python39\\site-packages\\sklearn\\decomposition\\_pca.py\", line 526, in _fit_full\n",
      "    raise ValueError(\n",
      "ValueError: n_components=300 must be between 0 and min(n_samples, n_features)=216 with svd_solver='full'\n",
      "\n",
      "\n",
      "C:\\Users\\olgas\\AppData\\Roaming\\Python\\Python39\\site-packages\\sklearn\\model_selection\\_search.py:952: UserWarning:\n",
      "\n",
      "One or more of the test scores are non-finite: [0.27824999        nan 0.28968089 0.27823282        nan 0.28974927\n",
      " 0.27838419        nan 0.28961886 0.27718041        nan 0.28491476]\n",
      "\n"
     ]
    },
    {
     "data": {
      "text/html": [
       "<style>#sk-container-id-5 {color: black;background-color: white;}#sk-container-id-5 pre{padding: 0;}#sk-container-id-5 div.sk-toggleable {background-color: white;}#sk-container-id-5 label.sk-toggleable__label {cursor: pointer;display: block;width: 100%;margin-bottom: 0;padding: 0.3em;box-sizing: border-box;text-align: center;}#sk-container-id-5 label.sk-toggleable__label-arrow:before {content: \"▸\";float: left;margin-right: 0.25em;color: #696969;}#sk-container-id-5 label.sk-toggleable__label-arrow:hover:before {color: black;}#sk-container-id-5 div.sk-estimator:hover label.sk-toggleable__label-arrow:before {color: black;}#sk-container-id-5 div.sk-toggleable__content {max-height: 0;max-width: 0;overflow: hidden;text-align: left;background-color: #f0f8ff;}#sk-container-id-5 div.sk-toggleable__content pre {margin: 0.2em;color: black;border-radius: 0.25em;background-color: #f0f8ff;}#sk-container-id-5 input.sk-toggleable__control:checked~div.sk-toggleable__content {max-height: 200px;max-width: 100%;overflow: auto;}#sk-container-id-5 input.sk-toggleable__control:checked~label.sk-toggleable__label-arrow:before {content: \"▾\";}#sk-container-id-5 div.sk-estimator input.sk-toggleable__control:checked~label.sk-toggleable__label {background-color: #d4ebff;}#sk-container-id-5 div.sk-label input.sk-toggleable__control:checked~label.sk-toggleable__label {background-color: #d4ebff;}#sk-container-id-5 input.sk-hidden--visually {border: 0;clip: rect(1px 1px 1px 1px);clip: rect(1px, 1px, 1px, 1px);height: 1px;margin: -1px;overflow: hidden;padding: 0;position: absolute;width: 1px;}#sk-container-id-5 div.sk-estimator {font-family: monospace;background-color: #f0f8ff;border: 1px dotted black;border-radius: 0.25em;box-sizing: border-box;margin-bottom: 0.5em;}#sk-container-id-5 div.sk-estimator:hover {background-color: #d4ebff;}#sk-container-id-5 div.sk-parallel-item::after {content: \"\";width: 100%;border-bottom: 1px solid gray;flex-grow: 1;}#sk-container-id-5 div.sk-label:hover label.sk-toggleable__label {background-color: #d4ebff;}#sk-container-id-5 div.sk-serial::before {content: \"\";position: absolute;border-left: 1px solid gray;box-sizing: border-box;top: 0;bottom: 0;left: 50%;z-index: 0;}#sk-container-id-5 div.sk-serial {display: flex;flex-direction: column;align-items: center;background-color: white;padding-right: 0.2em;padding-left: 0.2em;position: relative;}#sk-container-id-5 div.sk-item {position: relative;z-index: 1;}#sk-container-id-5 div.sk-parallel {display: flex;align-items: stretch;justify-content: center;background-color: white;position: relative;}#sk-container-id-5 div.sk-item::before, #sk-container-id-5 div.sk-parallel-item::before {content: \"\";position: absolute;border-left: 1px solid gray;box-sizing: border-box;top: 0;bottom: 0;left: 50%;z-index: -1;}#sk-container-id-5 div.sk-parallel-item {display: flex;flex-direction: column;z-index: 1;position: relative;background-color: white;}#sk-container-id-5 div.sk-parallel-item:first-child::after {align-self: flex-end;width: 50%;}#sk-container-id-5 div.sk-parallel-item:last-child::after {align-self: flex-start;width: 50%;}#sk-container-id-5 div.sk-parallel-item:only-child::after {width: 0;}#sk-container-id-5 div.sk-dashed-wrapped {border: 1px dashed gray;margin: 0 0.4em 0.5em 0.4em;box-sizing: border-box;padding-bottom: 0.4em;background-color: white;}#sk-container-id-5 div.sk-label label {font-family: monospace;font-weight: bold;display: inline-block;line-height: 1.2em;}#sk-container-id-5 div.sk-label-container {text-align: center;}#sk-container-id-5 div.sk-container {/* jupyter's `normalize.less` sets `[hidden] { display: none; }` but bootstrap.min.css set `[hidden] { display: none !important; }` so we also need the `!important` here to be able to override the default hidden behavior on the sphinx rendered scikit-learn.org. See: https://github.com/scikit-learn/scikit-learn/issues/21755 */display: inline-block !important;position: relative;}#sk-container-id-5 div.sk-text-repr-fallback {display: none;}</style><div id=\"sk-container-id-5\" class=\"sk-top-container\"><div class=\"sk-text-repr-fallback\"><pre>GridSearchCV(cv=3,\n",
       "             estimator=Pipeline(steps=[(&#x27;preprocessor&#x27;,\n",
       "                                        ColumnTransformer(remainder=&#x27;passthrough&#x27;,\n",
       "                                                          transformers=[(&#x27;num&#x27;,\n",
       "                                                                         Pipeline(steps=[(&#x27;imputer&#x27;,\n",
       "                                                                                          SimpleImputer(strategy=&#x27;median&#x27;)),\n",
       "                                                                                         (&#x27;scaler&#x27;,\n",
       "                                                                                          StandardScaler())]),\n",
       "                                                                         [&#x27;price&#x27;,\n",
       "                                                                          &#x27;year&#x27;]),\n",
       "                                                                        (&#x27;cat&#x27;,\n",
       "                                                                         Pipeline(steps=[(&#x27;imputer&#x27;,\n",
       "                                                                                          SimpleImputer(fill_value=&#x27;missing&#x27;,\n",
       "                                                                                                        strategy=&#x27;constant&#x27;)),\n",
       "                                                                                         (&#x27;onehot&#x27;,\n",
       "                                                                                          OneHotEncoder(handle_unknown=&#x27;ignore&#x27;,\n",
       "                                                                                                        sparse_output=False))]),\n",
       "                                                                         [&#x27;country&#x27;,\n",
       "                                                                          &#x27;province&#x27;,\n",
       "                                                                          &#x27;taster_name&#x27;,\n",
       "                                                                          &#x27;variety&#x27;])],\n",
       "                                                          verbose_feature_names_out=False)),\n",
       "                                       (&#x27;param_reduction&#x27;, PCA()),\n",
       "                                       (&#x27;classifier&#x27;, Ridge())]),\n",
       "             param_grid=[{&#x27;classifier__alpha&#x27;: [0.1, 1, 10, 100],\n",
       "                          &#x27;param_reduction__n_components&#x27;: [100, 300, None]}],\n",
       "             scoring=&#x27;r2&#x27;, verbose=5)</pre><b>In a Jupyter environment, please rerun this cell to show the HTML representation or trust the notebook. <br />On GitHub, the HTML representation is unable to render, please try loading this page with nbviewer.org.</b></div><div class=\"sk-container\" hidden><div class=\"sk-item sk-dashed-wrapped\"><div class=\"sk-label-container\"><div class=\"sk-label sk-toggleable\"><input class=\"sk-toggleable__control sk-hidden--visually\" id=\"sk-estimator-id-51\" type=\"checkbox\" ><label for=\"sk-estimator-id-51\" class=\"sk-toggleable__label sk-toggleable__label-arrow\">GridSearchCV</label><div class=\"sk-toggleable__content\"><pre>GridSearchCV(cv=3,\n",
       "             estimator=Pipeline(steps=[(&#x27;preprocessor&#x27;,\n",
       "                                        ColumnTransformer(remainder=&#x27;passthrough&#x27;,\n",
       "                                                          transformers=[(&#x27;num&#x27;,\n",
       "                                                                         Pipeline(steps=[(&#x27;imputer&#x27;,\n",
       "                                                                                          SimpleImputer(strategy=&#x27;median&#x27;)),\n",
       "                                                                                         (&#x27;scaler&#x27;,\n",
       "                                                                                          StandardScaler())]),\n",
       "                                                                         [&#x27;price&#x27;,\n",
       "                                                                          &#x27;year&#x27;]),\n",
       "                                                                        (&#x27;cat&#x27;,\n",
       "                                                                         Pipeline(steps=[(&#x27;imputer&#x27;,\n",
       "                                                                                          SimpleImputer(fill_value=&#x27;missing&#x27;,\n",
       "                                                                                                        strategy=&#x27;constant&#x27;)),\n",
       "                                                                                         (&#x27;onehot&#x27;,\n",
       "                                                                                          OneHotEncoder(handle_unknown=&#x27;ignore&#x27;,\n",
       "                                                                                                        sparse_output=False))]),\n",
       "                                                                         [&#x27;country&#x27;,\n",
       "                                                                          &#x27;province&#x27;,\n",
       "                                                                          &#x27;taster_name&#x27;,\n",
       "                                                                          &#x27;variety&#x27;])],\n",
       "                                                          verbose_feature_names_out=False)),\n",
       "                                       (&#x27;param_reduction&#x27;, PCA()),\n",
       "                                       (&#x27;classifier&#x27;, Ridge())]),\n",
       "             param_grid=[{&#x27;classifier__alpha&#x27;: [0.1, 1, 10, 100],\n",
       "                          &#x27;param_reduction__n_components&#x27;: [100, 300, None]}],\n",
       "             scoring=&#x27;r2&#x27;, verbose=5)</pre></div></div></div><div class=\"sk-parallel\"><div class=\"sk-parallel-item\"><div class=\"sk-item\"><div class=\"sk-label-container\"><div class=\"sk-label sk-toggleable\"><input class=\"sk-toggleable__control sk-hidden--visually\" id=\"sk-estimator-id-52\" type=\"checkbox\" ><label for=\"sk-estimator-id-52\" class=\"sk-toggleable__label sk-toggleable__label-arrow\">estimator: Pipeline</label><div class=\"sk-toggleable__content\"><pre>Pipeline(steps=[(&#x27;preprocessor&#x27;,\n",
       "                 ColumnTransformer(remainder=&#x27;passthrough&#x27;,\n",
       "                                   transformers=[(&#x27;num&#x27;,\n",
       "                                                  Pipeline(steps=[(&#x27;imputer&#x27;,\n",
       "                                                                   SimpleImputer(strategy=&#x27;median&#x27;)),\n",
       "                                                                  (&#x27;scaler&#x27;,\n",
       "                                                                   StandardScaler())]),\n",
       "                                                  [&#x27;price&#x27;, &#x27;year&#x27;]),\n",
       "                                                 (&#x27;cat&#x27;,\n",
       "                                                  Pipeline(steps=[(&#x27;imputer&#x27;,\n",
       "                                                                   SimpleImputer(fill_value=&#x27;missing&#x27;,\n",
       "                                                                                 strategy=&#x27;constant&#x27;)),\n",
       "                                                                  (&#x27;onehot&#x27;,\n",
       "                                                                   OneHotEncoder(handle_unknown=&#x27;ignore&#x27;,\n",
       "                                                                                 sparse_output=False))]),\n",
       "                                                  [&#x27;country&#x27;, &#x27;province&#x27;,\n",
       "                                                   &#x27;taster_name&#x27;, &#x27;variety&#x27;])],\n",
       "                                   verbose_feature_names_out=False)),\n",
       "                (&#x27;param_reduction&#x27;, PCA()), (&#x27;classifier&#x27;, Ridge())])</pre></div></div></div><div class=\"sk-serial\"><div class=\"sk-item\"><div class=\"sk-serial\"><div class=\"sk-item sk-dashed-wrapped\"><div class=\"sk-label-container\"><div class=\"sk-label sk-toggleable\"><input class=\"sk-toggleable__control sk-hidden--visually\" id=\"sk-estimator-id-53\" type=\"checkbox\" ><label for=\"sk-estimator-id-53\" class=\"sk-toggleable__label sk-toggleable__label-arrow\">preprocessor: ColumnTransformer</label><div class=\"sk-toggleable__content\"><pre>ColumnTransformer(remainder=&#x27;passthrough&#x27;,\n",
       "                  transformers=[(&#x27;num&#x27;,\n",
       "                                 Pipeline(steps=[(&#x27;imputer&#x27;,\n",
       "                                                  SimpleImputer(strategy=&#x27;median&#x27;)),\n",
       "                                                 (&#x27;scaler&#x27;, StandardScaler())]),\n",
       "                                 [&#x27;price&#x27;, &#x27;year&#x27;]),\n",
       "                                (&#x27;cat&#x27;,\n",
       "                                 Pipeline(steps=[(&#x27;imputer&#x27;,\n",
       "                                                  SimpleImputer(fill_value=&#x27;missing&#x27;,\n",
       "                                                                strategy=&#x27;constant&#x27;)),\n",
       "                                                 (&#x27;onehot&#x27;,\n",
       "                                                  OneHotEncoder(handle_unknown=&#x27;ignore&#x27;,\n",
       "                                                                sparse_output=False))]),\n",
       "                                 [&#x27;country&#x27;, &#x27;province&#x27;, &#x27;taster_name&#x27;,\n",
       "                                  &#x27;variety&#x27;])],\n",
       "                  verbose_feature_names_out=False)</pre></div></div></div><div class=\"sk-parallel\"><div class=\"sk-parallel-item\"><div class=\"sk-item\"><div class=\"sk-label-container\"><div class=\"sk-label sk-toggleable\"><input class=\"sk-toggleable__control sk-hidden--visually\" id=\"sk-estimator-id-54\" type=\"checkbox\" ><label for=\"sk-estimator-id-54\" class=\"sk-toggleable__label sk-toggleable__label-arrow\">num</label><div class=\"sk-toggleable__content\"><pre>[&#x27;price&#x27;, &#x27;year&#x27;]</pre></div></div></div><div class=\"sk-serial\"><div class=\"sk-item\"><div class=\"sk-serial\"><div class=\"sk-item\"><div class=\"sk-estimator sk-toggleable\"><input class=\"sk-toggleable__control sk-hidden--visually\" id=\"sk-estimator-id-55\" type=\"checkbox\" ><label for=\"sk-estimator-id-55\" class=\"sk-toggleable__label sk-toggleable__label-arrow\">SimpleImputer</label><div class=\"sk-toggleable__content\"><pre>SimpleImputer(strategy=&#x27;median&#x27;)</pre></div></div></div><div class=\"sk-item\"><div class=\"sk-estimator sk-toggleable\"><input class=\"sk-toggleable__control sk-hidden--visually\" id=\"sk-estimator-id-56\" type=\"checkbox\" ><label for=\"sk-estimator-id-56\" class=\"sk-toggleable__label sk-toggleable__label-arrow\">StandardScaler</label><div class=\"sk-toggleable__content\"><pre>StandardScaler()</pre></div></div></div></div></div></div></div></div><div class=\"sk-parallel-item\"><div class=\"sk-item\"><div class=\"sk-label-container\"><div class=\"sk-label sk-toggleable\"><input class=\"sk-toggleable__control sk-hidden--visually\" id=\"sk-estimator-id-57\" type=\"checkbox\" ><label for=\"sk-estimator-id-57\" class=\"sk-toggleable__label sk-toggleable__label-arrow\">cat</label><div class=\"sk-toggleable__content\"><pre>[&#x27;country&#x27;, &#x27;province&#x27;, &#x27;taster_name&#x27;, &#x27;variety&#x27;]</pre></div></div></div><div class=\"sk-serial\"><div class=\"sk-item\"><div class=\"sk-serial\"><div class=\"sk-item\"><div class=\"sk-estimator sk-toggleable\"><input class=\"sk-toggleable__control sk-hidden--visually\" id=\"sk-estimator-id-58\" type=\"checkbox\" ><label for=\"sk-estimator-id-58\" class=\"sk-toggleable__label sk-toggleable__label-arrow\">SimpleImputer</label><div class=\"sk-toggleable__content\"><pre>SimpleImputer(fill_value=&#x27;missing&#x27;, strategy=&#x27;constant&#x27;)</pre></div></div></div><div class=\"sk-item\"><div class=\"sk-estimator sk-toggleable\"><input class=\"sk-toggleable__control sk-hidden--visually\" id=\"sk-estimator-id-59\" type=\"checkbox\" ><label for=\"sk-estimator-id-59\" class=\"sk-toggleable__label sk-toggleable__label-arrow\">OneHotEncoder</label><div class=\"sk-toggleable__content\"><pre>OneHotEncoder(handle_unknown=&#x27;ignore&#x27;, sparse_output=False)</pre></div></div></div></div></div></div></div></div><div class=\"sk-parallel-item\"><div class=\"sk-item\"><div class=\"sk-label-container\"><div class=\"sk-label sk-toggleable\"><input class=\"sk-toggleable__control sk-hidden--visually\" id=\"sk-estimator-id-60\" type=\"checkbox\" ><label for=\"sk-estimator-id-60\" class=\"sk-toggleable__label sk-toggleable__label-arrow\">remainder</label><div class=\"sk-toggleable__content\"><pre>[]</pre></div></div></div><div class=\"sk-serial\"><div class=\"sk-item\"><div class=\"sk-estimator sk-toggleable\"><input class=\"sk-toggleable__control sk-hidden--visually\" id=\"sk-estimator-id-61\" type=\"checkbox\" ><label for=\"sk-estimator-id-61\" class=\"sk-toggleable__label sk-toggleable__label-arrow\">passthrough</label><div class=\"sk-toggleable__content\"><pre>passthrough</pre></div></div></div></div></div></div></div></div><div class=\"sk-item\"><div class=\"sk-estimator sk-toggleable\"><input class=\"sk-toggleable__control sk-hidden--visually\" id=\"sk-estimator-id-62\" type=\"checkbox\" ><label for=\"sk-estimator-id-62\" class=\"sk-toggleable__label sk-toggleable__label-arrow\">PCA</label><div class=\"sk-toggleable__content\"><pre>PCA()</pre></div></div></div><div class=\"sk-item\"><div class=\"sk-estimator sk-toggleable\"><input class=\"sk-toggleable__control sk-hidden--visually\" id=\"sk-estimator-id-63\" type=\"checkbox\" ><label for=\"sk-estimator-id-63\" class=\"sk-toggleable__label sk-toggleable__label-arrow\">Ridge</label><div class=\"sk-toggleable__content\"><pre>Ridge()</pre></div></div></div></div></div></div></div></div></div></div></div></div>"
      ],
      "text/plain": [
       "GridSearchCV(cv=3,\n",
       "             estimator=Pipeline(steps=[('preprocessor',\n",
       "                                        ColumnTransformer(remainder='passthrough',\n",
       "                                                          transformers=[('num',\n",
       "                                                                         Pipeline(steps=[('imputer',\n",
       "                                                                                          SimpleImputer(strategy='median')),\n",
       "                                                                                         ('scaler',\n",
       "                                                                                          StandardScaler())]),\n",
       "                                                                         ['price',\n",
       "                                                                          'year']),\n",
       "                                                                        ('cat',\n",
       "                                                                         Pipeline(steps=[('imputer',\n",
       "                                                                                          SimpleImputer(fill_value='missing',\n",
       "                                                                                                        strategy='constant')),\n",
       "                                                                                         ('onehot',\n",
       "                                                                                          OneHotEncoder(handle_unknown='ignore',\n",
       "                                                                                                        sparse_output=False))]),\n",
       "                                                                         ['country',\n",
       "                                                                          'province',\n",
       "                                                                          'taster_name',\n",
       "                                                                          'variety'])],\n",
       "                                                          verbose_feature_names_out=False)),\n",
       "                                       ('param_reduction', PCA()),\n",
       "                                       ('classifier', Ridge())]),\n",
       "             param_grid=[{'classifier__alpha': [0.1, 1, 10, 100],\n",
       "                          'param_reduction__n_components': [100, 300, None]}],\n",
       "             scoring='r2', verbose=5)"
      ]
     },
     "execution_count": 33,
     "metadata": {},
     "output_type": "execute_result"
    }
   ],
   "source": [
    "categorical_pipeline_grid_search.fit(X_train, y_train)"
   ]
  },
  {
   "cell_type": "code",
   "execution_count": 34,
   "id": "24967ff9-abc1-4344-b438-abd20b9b7cd9",
   "metadata": {},
   "outputs": [
    {
     "name": "stdout",
     "output_type": "stream",
     "text": [
      "{'classifier__alpha': 1, 'param_reduction__n_components': None}\n"
     ]
    },
    {
     "name": "stderr",
     "output_type": "stream",
     "text": [
      "C:\\Users\\olgas\\AppData\\Local\\Temp\\ipykernel_19968\\16745098.py:9: FutureWarning:\n",
      "\n",
      "The frame.append method is deprecated and will be removed from pandas in a future version. Use pandas.concat instead.\n",
      "\n"
     ]
    }
   ],
   "source": [
    "print(categorical_pipeline_grid_search.best_params_)\n",
    "y_predicted = categorical_pipeline_grid_search.predict(X_test)\n",
    "y_train_predicted = categorical_pipeline_grid_search.predict(X_train)\n",
    "\n",
    "\n",
    "results_df = append_to_results(\"popular categories and price\",'Ridge', '1', 'None', y_test, y_predicted, y_train, y_train_predicted)"
   ]
  },
  {
   "cell_type": "code",
   "execution_count": 35,
   "id": "4093e866-cb1e-4c5f-ac72-61bbdf844dd5",
   "metadata": {},
   "outputs": [
    {
     "data": {
      "text/html": [
       "<div>\n",
       "<style scoped>\n",
       "    .dataframe tbody tr th:only-of-type {\n",
       "        vertical-align: middle;\n",
       "    }\n",
       "\n",
       "    .dataframe tbody tr th {\n",
       "        vertical-align: top;\n",
       "    }\n",
       "\n",
       "    .dataframe thead th {\n",
       "        text-align: right;\n",
       "    }\n",
       "</style>\n",
       "<table border=\"1\" class=\"dataframe\">\n",
       "  <thead>\n",
       "    <tr style=\"text-align: right;\">\n",
       "      <th></th>\n",
       "      <th>name</th>\n",
       "      <th>classifier</th>\n",
       "      <th>alpha</th>\n",
       "      <th>reduction</th>\n",
       "      <th>train_r2</th>\n",
       "      <th>train_mse</th>\n",
       "      <th>test_r2</th>\n",
       "      <th>test_mse</th>\n",
       "    </tr>\n",
       "  </thead>\n",
       "  <tbody>\n",
       "    <tr>\n",
       "      <th>0</th>\n",
       "      <td>all categories and price</td>\n",
       "      <td>Ridge</td>\n",
       "      <td>10</td>\n",
       "      <td>None</td>\n",
       "      <td>0.305234</td>\n",
       "      <td>6.647890</td>\n",
       "      <td>(0.30081382552241454,)</td>\n",
       "      <td>6.688209</td>\n",
       "    </tr>\n",
       "    <tr>\n",
       "      <th>1</th>\n",
       "      <td>popular categories and price</td>\n",
       "      <td>Ridge</td>\n",
       "      <td>1</td>\n",
       "      <td>None</td>\n",
       "      <td>0.294004</td>\n",
       "      <td>6.755348</td>\n",
       "      <td>(0.2935037872691477,)</td>\n",
       "      <td>6.758134</td>\n",
       "    </tr>\n",
       "  </tbody>\n",
       "</table>\n",
       "</div>"
      ],
      "text/plain": [
       "                           name classifier alpha reduction  train_r2  \\\n",
       "0      all categories and price      Ridge    10      None  0.305234   \n",
       "1  popular categories and price      Ridge     1      None  0.294004   \n",
       "\n",
       "   train_mse                 test_r2  test_mse  \n",
       "0   6.647890  (0.30081382552241454,)  6.688209  \n",
       "1   6.755348   (0.2935037872691477,)  6.758134  "
      ]
     },
     "execution_count": 35,
     "metadata": {},
     "output_type": "execute_result"
    }
   ],
   "source": [
    "results_df"
   ]
  },
  {
   "cell_type": "markdown",
   "id": "8d897fa1-add4-4fca-9908-bb12a2115166",
   "metadata": {},
   "source": [
    "## Activate log for the price - remove outliers"
   ]
  },
  {
   "cell_type": "code",
   "execution_count": 36,
   "id": "dee50d61-6404-4b03-88e5-7eb5dfe31f54",
   "metadata": {},
   "outputs": [],
   "source": [
    "reviews3 = reviews"
   ]
  },
  {
   "cell_type": "code",
   "execution_count": 37,
   "id": "af7757c8-6f1f-4d4f-83c6-11b3d750f1f2",
   "metadata": {},
   "outputs": [],
   "source": [
    "reviews3['price'] = np.log(reviews3['price'])"
   ]
  },
  {
   "cell_type": "code",
   "execution_count": 38,
   "id": "b7a533d2-acf1-478c-ae3b-53417d899bed",
   "metadata": {},
   "outputs": [
    {
     "data": {
      "text/plain": [
       "(95939, 6)"
      ]
     },
     "execution_count": 38,
     "metadata": {},
     "output_type": "execute_result"
    }
   ],
   "source": [
    "x_train = reviews3.drop(columns={'description', 'points'})\n",
    "y_train = reviews3['points']\n",
    "X_train, X_test, y_train, y_test = train_test_split(x_train, y_train, test_size=0.2, random_state=42)\n",
    "X_train.shape"
   ]
  },
  {
   "cell_type": "code",
   "execution_count": 39,
   "id": "f7bec61e-9aff-4fc4-8e11-8498b8837452",
   "metadata": {},
   "outputs": [
    {
     "name": "stdout",
     "output_type": "stream",
     "text": [
      "Fitting 3 folds for each of 12 candidates, totalling 36 fits\n",
      "[CV 1/3] END classifier__alpha=0.1, param_reduction__n_components=100;, score=0.431 total time=   2.3s\n",
      "[CV 2/3] END classifier__alpha=0.1, param_reduction__n_components=100;, score=0.430 total time=   2.4s\n",
      "[CV 3/3] END classifier__alpha=0.1, param_reduction__n_components=100;, score=0.433 total time=   2.3s\n",
      "[CV 1/3] END classifier__alpha=0.1, param_reduction__n_components=300;, score=nan total time=   0.2s\n",
      "[CV 2/3] END classifier__alpha=0.1, param_reduction__n_components=300;, score=nan total time=   0.2s\n",
      "[CV 3/3] END classifier__alpha=0.1, param_reduction__n_components=300;, score=nan total time=   0.3s\n",
      "[CV 1/3] END classifier__alpha=0.1, param_reduction__n_components=None;, score=0.437 total time=   1.8s\n",
      "[CV 2/3] END classifier__alpha=0.1, param_reduction__n_components=None;, score=0.435 total time=   1.9s\n",
      "[CV 3/3] END classifier__alpha=0.1, param_reduction__n_components=None;, score=0.440 total time=   1.7s\n",
      "[CV 1/3] END classifier__alpha=1, param_reduction__n_components=100;, score=0.431 total time=   2.2s\n",
      "[CV 2/3] END classifier__alpha=1, param_reduction__n_components=100;, score=0.430 total time=   2.4s\n",
      "[CV 3/3] END classifier__alpha=1, param_reduction__n_components=100;, score=0.433 total time=   2.3s\n",
      "[CV 1/3] END classifier__alpha=1, param_reduction__n_components=300;, score=nan total time=   0.2s\n",
      "[CV 2/3] END classifier__alpha=1, param_reduction__n_components=300;, score=nan total time=   0.2s\n",
      "[CV 3/3] END classifier__alpha=1, param_reduction__n_components=300;, score=nan total time=   0.2s\n",
      "[CV 1/3] END classifier__alpha=1, param_reduction__n_components=None;, score=0.437 total time=   1.6s\n",
      "[CV 2/3] END classifier__alpha=1, param_reduction__n_components=None;, score=0.435 total time=   1.7s\n",
      "[CV 3/3] END classifier__alpha=1, param_reduction__n_components=None;, score=0.440 total time=   1.9s\n",
      "[CV 1/3] END classifier__alpha=10, param_reduction__n_components=100;, score=0.431 total time=   2.7s\n",
      "[CV 2/3] END classifier__alpha=10, param_reduction__n_components=100;, score=0.430 total time=   2.7s\n",
      "[CV 3/3] END classifier__alpha=10, param_reduction__n_components=100;, score=0.434 total time=   2.6s\n",
      "[CV 1/3] END classifier__alpha=10, param_reduction__n_components=300;, score=nan total time=   0.2s\n",
      "[CV 2/3] END classifier__alpha=10, param_reduction__n_components=300;, score=nan total time=   0.3s\n",
      "[CV 3/3] END classifier__alpha=10, param_reduction__n_components=300;, score=nan total time=   0.2s\n",
      "[CV 1/3] END classifier__alpha=10, param_reduction__n_components=None;, score=0.437 total time=   1.8s\n",
      "[CV 2/3] END classifier__alpha=10, param_reduction__n_components=None;, score=0.435 total time=   1.9s\n",
      "[CV 3/3] END classifier__alpha=10, param_reduction__n_components=None;, score=0.440 total time=   1.9s\n",
      "[CV 1/3] END classifier__alpha=100, param_reduction__n_components=100;, score=0.430 total time=   2.7s\n",
      "[CV 2/3] END classifier__alpha=100, param_reduction__n_components=100;, score=0.429 total time=   2.5s\n",
      "[CV 3/3] END classifier__alpha=100, param_reduction__n_components=100;, score=0.433 total time=   2.8s\n",
      "[CV 1/3] END classifier__alpha=100, param_reduction__n_components=300;, score=nan total time=   0.2s\n",
      "[CV 2/3] END classifier__alpha=100, param_reduction__n_components=300;, score=nan total time=   0.2s\n",
      "[CV 3/3] END classifier__alpha=100, param_reduction__n_components=300;, score=nan total time=   0.2s\n",
      "[CV 1/3] END classifier__alpha=100, param_reduction__n_components=None;, score=0.434 total time=   1.8s\n",
      "[CV 2/3] END classifier__alpha=100, param_reduction__n_components=None;, score=0.433 total time=   1.9s\n",
      "[CV 3/3] END classifier__alpha=100, param_reduction__n_components=None;, score=0.438 total time=   1.9s\n"
     ]
    },
    {
     "name": "stderr",
     "output_type": "stream",
     "text": [
      "C:\\Users\\olgas\\AppData\\Roaming\\Python\\Python39\\site-packages\\sklearn\\model_selection\\_validation.py:378: FitFailedWarning:\n",
      "\n",
      "\n",
      "12 fits failed out of a total of 36.\n",
      "The score on these train-test partitions for these parameters will be set to nan.\n",
      "If these failures are not expected, you can try to debug them by setting error_score='raise'.\n",
      "\n",
      "Below are more details about the failures:\n",
      "--------------------------------------------------------------------------------\n",
      "8 fits failed with the following error:\n",
      "Traceback (most recent call last):\n",
      "  File \"C:\\Users\\olgas\\AppData\\Roaming\\Python\\Python39\\site-packages\\sklearn\\model_selection\\_validation.py\", line 686, in _fit_and_score\n",
      "    estimator.fit(X_train, y_train, **fit_params)\n",
      "  File \"C:\\Users\\olgas\\AppData\\Roaming\\Python\\Python39\\site-packages\\sklearn\\pipeline.py\", line 401, in fit\n",
      "    Xt = self._fit(X, y, **fit_params_steps)\n",
      "  File \"C:\\Users\\olgas\\AppData\\Roaming\\Python\\Python39\\site-packages\\sklearn\\pipeline.py\", line 359, in _fit\n",
      "    X, fitted_transformer = fit_transform_one_cached(\n",
      "  File \"C:\\Users\\olgas\\AppData\\Roaming\\Python\\Python39\\site-packages\\joblib\\memory.py\", line 349, in __call__\n",
      "    return self.func(*args, **kwargs)\n",
      "  File \"C:\\Users\\olgas\\AppData\\Roaming\\Python\\Python39\\site-packages\\sklearn\\pipeline.py\", line 893, in _fit_transform_one\n",
      "    res = transformer.fit_transform(X, y, **fit_params)\n",
      "  File \"C:\\Users\\olgas\\AppData\\Roaming\\Python\\Python39\\site-packages\\sklearn\\utils\\_set_output.py\", line 140, in wrapped\n",
      "    data_to_wrap = f(self, X, *args, **kwargs)\n",
      "  File \"C:\\Users\\olgas\\AppData\\Roaming\\Python\\Python39\\site-packages\\sklearn\\decomposition\\_pca.py\", line 462, in fit_transform\n",
      "    U, S, Vt = self._fit(X)\n",
      "  File \"C:\\Users\\olgas\\AppData\\Roaming\\Python\\Python39\\site-packages\\sklearn\\decomposition\\_pca.py\", line 512, in _fit\n",
      "    return self._fit_full(X, n_components)\n",
      "  File \"C:\\Users\\olgas\\AppData\\Roaming\\Python\\Python39\\site-packages\\sklearn\\decomposition\\_pca.py\", line 526, in _fit_full\n",
      "    raise ValueError(\n",
      "ValueError: n_components=300 must be between 0 and min(n_samples, n_features)=215 with svd_solver='full'\n",
      "\n",
      "--------------------------------------------------------------------------------\n",
      "4 fits failed with the following error:\n",
      "Traceback (most recent call last):\n",
      "  File \"C:\\Users\\olgas\\AppData\\Roaming\\Python\\Python39\\site-packages\\sklearn\\model_selection\\_validation.py\", line 686, in _fit_and_score\n",
      "    estimator.fit(X_train, y_train, **fit_params)\n",
      "  File \"C:\\Users\\olgas\\AppData\\Roaming\\Python\\Python39\\site-packages\\sklearn\\pipeline.py\", line 401, in fit\n",
      "    Xt = self._fit(X, y, **fit_params_steps)\n",
      "  File \"C:\\Users\\olgas\\AppData\\Roaming\\Python\\Python39\\site-packages\\sklearn\\pipeline.py\", line 359, in _fit\n",
      "    X, fitted_transformer = fit_transform_one_cached(\n",
      "  File \"C:\\Users\\olgas\\AppData\\Roaming\\Python\\Python39\\site-packages\\joblib\\memory.py\", line 349, in __call__\n",
      "    return self.func(*args, **kwargs)\n",
      "  File \"C:\\Users\\olgas\\AppData\\Roaming\\Python\\Python39\\site-packages\\sklearn\\pipeline.py\", line 893, in _fit_transform_one\n",
      "    res = transformer.fit_transform(X, y, **fit_params)\n",
      "  File \"C:\\Users\\olgas\\AppData\\Roaming\\Python\\Python39\\site-packages\\sklearn\\utils\\_set_output.py\", line 140, in wrapped\n",
      "    data_to_wrap = f(self, X, *args, **kwargs)\n",
      "  File \"C:\\Users\\olgas\\AppData\\Roaming\\Python\\Python39\\site-packages\\sklearn\\decomposition\\_pca.py\", line 462, in fit_transform\n",
      "    U, S, Vt = self._fit(X)\n",
      "  File \"C:\\Users\\olgas\\AppData\\Roaming\\Python\\Python39\\site-packages\\sklearn\\decomposition\\_pca.py\", line 512, in _fit\n",
      "    return self._fit_full(X, n_components)\n",
      "  File \"C:\\Users\\olgas\\AppData\\Roaming\\Python\\Python39\\site-packages\\sklearn\\decomposition\\_pca.py\", line 526, in _fit_full\n",
      "    raise ValueError(\n",
      "ValueError: n_components=300 must be between 0 and min(n_samples, n_features)=216 with svd_solver='full'\n",
      "\n",
      "\n",
      "C:\\Users\\olgas\\AppData\\Roaming\\Python\\Python39\\site-packages\\sklearn\\model_selection\\_search.py:952: UserWarning:\n",
      "\n",
      "One or more of the test scores are non-finite: [0.43129263        nan 0.43718111 0.43130471        nan 0.43723545\n",
      " 0.43130913        nan 0.43725332 0.4309667         nan 0.43504571]\n",
      "\n"
     ]
    },
    {
     "data": {
      "text/html": [
       "<style>#sk-container-id-6 {color: black;background-color: white;}#sk-container-id-6 pre{padding: 0;}#sk-container-id-6 div.sk-toggleable {background-color: white;}#sk-container-id-6 label.sk-toggleable__label {cursor: pointer;display: block;width: 100%;margin-bottom: 0;padding: 0.3em;box-sizing: border-box;text-align: center;}#sk-container-id-6 label.sk-toggleable__label-arrow:before {content: \"▸\";float: left;margin-right: 0.25em;color: #696969;}#sk-container-id-6 label.sk-toggleable__label-arrow:hover:before {color: black;}#sk-container-id-6 div.sk-estimator:hover label.sk-toggleable__label-arrow:before {color: black;}#sk-container-id-6 div.sk-toggleable__content {max-height: 0;max-width: 0;overflow: hidden;text-align: left;background-color: #f0f8ff;}#sk-container-id-6 div.sk-toggleable__content pre {margin: 0.2em;color: black;border-radius: 0.25em;background-color: #f0f8ff;}#sk-container-id-6 input.sk-toggleable__control:checked~div.sk-toggleable__content {max-height: 200px;max-width: 100%;overflow: auto;}#sk-container-id-6 input.sk-toggleable__control:checked~label.sk-toggleable__label-arrow:before {content: \"▾\";}#sk-container-id-6 div.sk-estimator input.sk-toggleable__control:checked~label.sk-toggleable__label {background-color: #d4ebff;}#sk-container-id-6 div.sk-label input.sk-toggleable__control:checked~label.sk-toggleable__label {background-color: #d4ebff;}#sk-container-id-6 input.sk-hidden--visually {border: 0;clip: rect(1px 1px 1px 1px);clip: rect(1px, 1px, 1px, 1px);height: 1px;margin: -1px;overflow: hidden;padding: 0;position: absolute;width: 1px;}#sk-container-id-6 div.sk-estimator {font-family: monospace;background-color: #f0f8ff;border: 1px dotted black;border-radius: 0.25em;box-sizing: border-box;margin-bottom: 0.5em;}#sk-container-id-6 div.sk-estimator:hover {background-color: #d4ebff;}#sk-container-id-6 div.sk-parallel-item::after {content: \"\";width: 100%;border-bottom: 1px solid gray;flex-grow: 1;}#sk-container-id-6 div.sk-label:hover label.sk-toggleable__label {background-color: #d4ebff;}#sk-container-id-6 div.sk-serial::before {content: \"\";position: absolute;border-left: 1px solid gray;box-sizing: border-box;top: 0;bottom: 0;left: 50%;z-index: 0;}#sk-container-id-6 div.sk-serial {display: flex;flex-direction: column;align-items: center;background-color: white;padding-right: 0.2em;padding-left: 0.2em;position: relative;}#sk-container-id-6 div.sk-item {position: relative;z-index: 1;}#sk-container-id-6 div.sk-parallel {display: flex;align-items: stretch;justify-content: center;background-color: white;position: relative;}#sk-container-id-6 div.sk-item::before, #sk-container-id-6 div.sk-parallel-item::before {content: \"\";position: absolute;border-left: 1px solid gray;box-sizing: border-box;top: 0;bottom: 0;left: 50%;z-index: -1;}#sk-container-id-6 div.sk-parallel-item {display: flex;flex-direction: column;z-index: 1;position: relative;background-color: white;}#sk-container-id-6 div.sk-parallel-item:first-child::after {align-self: flex-end;width: 50%;}#sk-container-id-6 div.sk-parallel-item:last-child::after {align-self: flex-start;width: 50%;}#sk-container-id-6 div.sk-parallel-item:only-child::after {width: 0;}#sk-container-id-6 div.sk-dashed-wrapped {border: 1px dashed gray;margin: 0 0.4em 0.5em 0.4em;box-sizing: border-box;padding-bottom: 0.4em;background-color: white;}#sk-container-id-6 div.sk-label label {font-family: monospace;font-weight: bold;display: inline-block;line-height: 1.2em;}#sk-container-id-6 div.sk-label-container {text-align: center;}#sk-container-id-6 div.sk-container {/* jupyter's `normalize.less` sets `[hidden] { display: none; }` but bootstrap.min.css set `[hidden] { display: none !important; }` so we also need the `!important` here to be able to override the default hidden behavior on the sphinx rendered scikit-learn.org. See: https://github.com/scikit-learn/scikit-learn/issues/21755 */display: inline-block !important;position: relative;}#sk-container-id-6 div.sk-text-repr-fallback {display: none;}</style><div id=\"sk-container-id-6\" class=\"sk-top-container\"><div class=\"sk-text-repr-fallback\"><pre>GridSearchCV(cv=3,\n",
       "             estimator=Pipeline(steps=[(&#x27;preprocessor&#x27;,\n",
       "                                        ColumnTransformer(remainder=&#x27;passthrough&#x27;,\n",
       "                                                          transformers=[(&#x27;num&#x27;,\n",
       "                                                                         Pipeline(steps=[(&#x27;imputer&#x27;,\n",
       "                                                                                          SimpleImputer(strategy=&#x27;median&#x27;)),\n",
       "                                                                                         (&#x27;scaler&#x27;,\n",
       "                                                                                          StandardScaler())]),\n",
       "                                                                         [&#x27;price&#x27;,\n",
       "                                                                          &#x27;year&#x27;]),\n",
       "                                                                        (&#x27;cat&#x27;,\n",
       "                                                                         Pipeline(steps=[(&#x27;imputer&#x27;,\n",
       "                                                                                          SimpleImputer(fill_value=&#x27;missing&#x27;,\n",
       "                                                                                                        strategy=&#x27;constant&#x27;)),\n",
       "                                                                                         (&#x27;onehot&#x27;,\n",
       "                                                                                          OneHotEncoder(handle_unknown=&#x27;ignore&#x27;,\n",
       "                                                                                                        sparse_output=False))]),\n",
       "                                                                         [&#x27;country&#x27;,\n",
       "                                                                          &#x27;province&#x27;,\n",
       "                                                                          &#x27;taster_name&#x27;,\n",
       "                                                                          &#x27;variety&#x27;])],\n",
       "                                                          verbose_feature_names_out=False)),\n",
       "                                       (&#x27;param_reduction&#x27;, PCA()),\n",
       "                                       (&#x27;classifier&#x27;, Ridge())]),\n",
       "             param_grid=[{&#x27;classifier__alpha&#x27;: [0.1, 1, 10, 100],\n",
       "                          &#x27;param_reduction__n_components&#x27;: [100, 300, None]}],\n",
       "             scoring=&#x27;r2&#x27;, verbose=5)</pre><b>In a Jupyter environment, please rerun this cell to show the HTML representation or trust the notebook. <br />On GitHub, the HTML representation is unable to render, please try loading this page with nbviewer.org.</b></div><div class=\"sk-container\" hidden><div class=\"sk-item sk-dashed-wrapped\"><div class=\"sk-label-container\"><div class=\"sk-label sk-toggleable\"><input class=\"sk-toggleable__control sk-hidden--visually\" id=\"sk-estimator-id-64\" type=\"checkbox\" ><label for=\"sk-estimator-id-64\" class=\"sk-toggleable__label sk-toggleable__label-arrow\">GridSearchCV</label><div class=\"sk-toggleable__content\"><pre>GridSearchCV(cv=3,\n",
       "             estimator=Pipeline(steps=[(&#x27;preprocessor&#x27;,\n",
       "                                        ColumnTransformer(remainder=&#x27;passthrough&#x27;,\n",
       "                                                          transformers=[(&#x27;num&#x27;,\n",
       "                                                                         Pipeline(steps=[(&#x27;imputer&#x27;,\n",
       "                                                                                          SimpleImputer(strategy=&#x27;median&#x27;)),\n",
       "                                                                                         (&#x27;scaler&#x27;,\n",
       "                                                                                          StandardScaler())]),\n",
       "                                                                         [&#x27;price&#x27;,\n",
       "                                                                          &#x27;year&#x27;]),\n",
       "                                                                        (&#x27;cat&#x27;,\n",
       "                                                                         Pipeline(steps=[(&#x27;imputer&#x27;,\n",
       "                                                                                          SimpleImputer(fill_value=&#x27;missing&#x27;,\n",
       "                                                                                                        strategy=&#x27;constant&#x27;)),\n",
       "                                                                                         (&#x27;onehot&#x27;,\n",
       "                                                                                          OneHotEncoder(handle_unknown=&#x27;ignore&#x27;,\n",
       "                                                                                                        sparse_output=False))]),\n",
       "                                                                         [&#x27;country&#x27;,\n",
       "                                                                          &#x27;province&#x27;,\n",
       "                                                                          &#x27;taster_name&#x27;,\n",
       "                                                                          &#x27;variety&#x27;])],\n",
       "                                                          verbose_feature_names_out=False)),\n",
       "                                       (&#x27;param_reduction&#x27;, PCA()),\n",
       "                                       (&#x27;classifier&#x27;, Ridge())]),\n",
       "             param_grid=[{&#x27;classifier__alpha&#x27;: [0.1, 1, 10, 100],\n",
       "                          &#x27;param_reduction__n_components&#x27;: [100, 300, None]}],\n",
       "             scoring=&#x27;r2&#x27;, verbose=5)</pre></div></div></div><div class=\"sk-parallel\"><div class=\"sk-parallel-item\"><div class=\"sk-item\"><div class=\"sk-label-container\"><div class=\"sk-label sk-toggleable\"><input class=\"sk-toggleable__control sk-hidden--visually\" id=\"sk-estimator-id-65\" type=\"checkbox\" ><label for=\"sk-estimator-id-65\" class=\"sk-toggleable__label sk-toggleable__label-arrow\">estimator: Pipeline</label><div class=\"sk-toggleable__content\"><pre>Pipeline(steps=[(&#x27;preprocessor&#x27;,\n",
       "                 ColumnTransformer(remainder=&#x27;passthrough&#x27;,\n",
       "                                   transformers=[(&#x27;num&#x27;,\n",
       "                                                  Pipeline(steps=[(&#x27;imputer&#x27;,\n",
       "                                                                   SimpleImputer(strategy=&#x27;median&#x27;)),\n",
       "                                                                  (&#x27;scaler&#x27;,\n",
       "                                                                   StandardScaler())]),\n",
       "                                                  [&#x27;price&#x27;, &#x27;year&#x27;]),\n",
       "                                                 (&#x27;cat&#x27;,\n",
       "                                                  Pipeline(steps=[(&#x27;imputer&#x27;,\n",
       "                                                                   SimpleImputer(fill_value=&#x27;missing&#x27;,\n",
       "                                                                                 strategy=&#x27;constant&#x27;)),\n",
       "                                                                  (&#x27;onehot&#x27;,\n",
       "                                                                   OneHotEncoder(handle_unknown=&#x27;ignore&#x27;,\n",
       "                                                                                 sparse_output=False))]),\n",
       "                                                  [&#x27;country&#x27;, &#x27;province&#x27;,\n",
       "                                                   &#x27;taster_name&#x27;, &#x27;variety&#x27;])],\n",
       "                                   verbose_feature_names_out=False)),\n",
       "                (&#x27;param_reduction&#x27;, PCA()), (&#x27;classifier&#x27;, Ridge())])</pre></div></div></div><div class=\"sk-serial\"><div class=\"sk-item\"><div class=\"sk-serial\"><div class=\"sk-item sk-dashed-wrapped\"><div class=\"sk-label-container\"><div class=\"sk-label sk-toggleable\"><input class=\"sk-toggleable__control sk-hidden--visually\" id=\"sk-estimator-id-66\" type=\"checkbox\" ><label for=\"sk-estimator-id-66\" class=\"sk-toggleable__label sk-toggleable__label-arrow\">preprocessor: ColumnTransformer</label><div class=\"sk-toggleable__content\"><pre>ColumnTransformer(remainder=&#x27;passthrough&#x27;,\n",
       "                  transformers=[(&#x27;num&#x27;,\n",
       "                                 Pipeline(steps=[(&#x27;imputer&#x27;,\n",
       "                                                  SimpleImputer(strategy=&#x27;median&#x27;)),\n",
       "                                                 (&#x27;scaler&#x27;, StandardScaler())]),\n",
       "                                 [&#x27;price&#x27;, &#x27;year&#x27;]),\n",
       "                                (&#x27;cat&#x27;,\n",
       "                                 Pipeline(steps=[(&#x27;imputer&#x27;,\n",
       "                                                  SimpleImputer(fill_value=&#x27;missing&#x27;,\n",
       "                                                                strategy=&#x27;constant&#x27;)),\n",
       "                                                 (&#x27;onehot&#x27;,\n",
       "                                                  OneHotEncoder(handle_unknown=&#x27;ignore&#x27;,\n",
       "                                                                sparse_output=False))]),\n",
       "                                 [&#x27;country&#x27;, &#x27;province&#x27;, &#x27;taster_name&#x27;,\n",
       "                                  &#x27;variety&#x27;])],\n",
       "                  verbose_feature_names_out=False)</pre></div></div></div><div class=\"sk-parallel\"><div class=\"sk-parallel-item\"><div class=\"sk-item\"><div class=\"sk-label-container\"><div class=\"sk-label sk-toggleable\"><input class=\"sk-toggleable__control sk-hidden--visually\" id=\"sk-estimator-id-67\" type=\"checkbox\" ><label for=\"sk-estimator-id-67\" class=\"sk-toggleable__label sk-toggleable__label-arrow\">num</label><div class=\"sk-toggleable__content\"><pre>[&#x27;price&#x27;, &#x27;year&#x27;]</pre></div></div></div><div class=\"sk-serial\"><div class=\"sk-item\"><div class=\"sk-serial\"><div class=\"sk-item\"><div class=\"sk-estimator sk-toggleable\"><input class=\"sk-toggleable__control sk-hidden--visually\" id=\"sk-estimator-id-68\" type=\"checkbox\" ><label for=\"sk-estimator-id-68\" class=\"sk-toggleable__label sk-toggleable__label-arrow\">SimpleImputer</label><div class=\"sk-toggleable__content\"><pre>SimpleImputer(strategy=&#x27;median&#x27;)</pre></div></div></div><div class=\"sk-item\"><div class=\"sk-estimator sk-toggleable\"><input class=\"sk-toggleable__control sk-hidden--visually\" id=\"sk-estimator-id-69\" type=\"checkbox\" ><label for=\"sk-estimator-id-69\" class=\"sk-toggleable__label sk-toggleable__label-arrow\">StandardScaler</label><div class=\"sk-toggleable__content\"><pre>StandardScaler()</pre></div></div></div></div></div></div></div></div><div class=\"sk-parallel-item\"><div class=\"sk-item\"><div class=\"sk-label-container\"><div class=\"sk-label sk-toggleable\"><input class=\"sk-toggleable__control sk-hidden--visually\" id=\"sk-estimator-id-70\" type=\"checkbox\" ><label for=\"sk-estimator-id-70\" class=\"sk-toggleable__label sk-toggleable__label-arrow\">cat</label><div class=\"sk-toggleable__content\"><pre>[&#x27;country&#x27;, &#x27;province&#x27;, &#x27;taster_name&#x27;, &#x27;variety&#x27;]</pre></div></div></div><div class=\"sk-serial\"><div class=\"sk-item\"><div class=\"sk-serial\"><div class=\"sk-item\"><div class=\"sk-estimator sk-toggleable\"><input class=\"sk-toggleable__control sk-hidden--visually\" id=\"sk-estimator-id-71\" type=\"checkbox\" ><label for=\"sk-estimator-id-71\" class=\"sk-toggleable__label sk-toggleable__label-arrow\">SimpleImputer</label><div class=\"sk-toggleable__content\"><pre>SimpleImputer(fill_value=&#x27;missing&#x27;, strategy=&#x27;constant&#x27;)</pre></div></div></div><div class=\"sk-item\"><div class=\"sk-estimator sk-toggleable\"><input class=\"sk-toggleable__control sk-hidden--visually\" id=\"sk-estimator-id-72\" type=\"checkbox\" ><label for=\"sk-estimator-id-72\" class=\"sk-toggleable__label sk-toggleable__label-arrow\">OneHotEncoder</label><div class=\"sk-toggleable__content\"><pre>OneHotEncoder(handle_unknown=&#x27;ignore&#x27;, sparse_output=False)</pre></div></div></div></div></div></div></div></div><div class=\"sk-parallel-item\"><div class=\"sk-item\"><div class=\"sk-label-container\"><div class=\"sk-label sk-toggleable\"><input class=\"sk-toggleable__control sk-hidden--visually\" id=\"sk-estimator-id-73\" type=\"checkbox\" ><label for=\"sk-estimator-id-73\" class=\"sk-toggleable__label sk-toggleable__label-arrow\">remainder</label><div class=\"sk-toggleable__content\"><pre>[]</pre></div></div></div><div class=\"sk-serial\"><div class=\"sk-item\"><div class=\"sk-estimator sk-toggleable\"><input class=\"sk-toggleable__control sk-hidden--visually\" id=\"sk-estimator-id-74\" type=\"checkbox\" ><label for=\"sk-estimator-id-74\" class=\"sk-toggleable__label sk-toggleable__label-arrow\">passthrough</label><div class=\"sk-toggleable__content\"><pre>passthrough</pre></div></div></div></div></div></div></div></div><div class=\"sk-item\"><div class=\"sk-estimator sk-toggleable\"><input class=\"sk-toggleable__control sk-hidden--visually\" id=\"sk-estimator-id-75\" type=\"checkbox\" ><label for=\"sk-estimator-id-75\" class=\"sk-toggleable__label sk-toggleable__label-arrow\">PCA</label><div class=\"sk-toggleable__content\"><pre>PCA()</pre></div></div></div><div class=\"sk-item\"><div class=\"sk-estimator sk-toggleable\"><input class=\"sk-toggleable__control sk-hidden--visually\" id=\"sk-estimator-id-76\" type=\"checkbox\" ><label for=\"sk-estimator-id-76\" class=\"sk-toggleable__label sk-toggleable__label-arrow\">Ridge</label><div class=\"sk-toggleable__content\"><pre>Ridge()</pre></div></div></div></div></div></div></div></div></div></div></div></div>"
      ],
      "text/plain": [
       "GridSearchCV(cv=3,\n",
       "             estimator=Pipeline(steps=[('preprocessor',\n",
       "                                        ColumnTransformer(remainder='passthrough',\n",
       "                                                          transformers=[('num',\n",
       "                                                                         Pipeline(steps=[('imputer',\n",
       "                                                                                          SimpleImputer(strategy='median')),\n",
       "                                                                                         ('scaler',\n",
       "                                                                                          StandardScaler())]),\n",
       "                                                                         ['price',\n",
       "                                                                          'year']),\n",
       "                                                                        ('cat',\n",
       "                                                                         Pipeline(steps=[('imputer',\n",
       "                                                                                          SimpleImputer(fill_value='missing',\n",
       "                                                                                                        strategy='constant')),\n",
       "                                                                                         ('onehot',\n",
       "                                                                                          OneHotEncoder(handle_unknown='ignore',\n",
       "                                                                                                        sparse_output=False))]),\n",
       "                                                                         ['country',\n",
       "                                                                          'province',\n",
       "                                                                          'taster_name',\n",
       "                                                                          'variety'])],\n",
       "                                                          verbose_feature_names_out=False)),\n",
       "                                       ('param_reduction', PCA()),\n",
       "                                       ('classifier', Ridge())]),\n",
       "             param_grid=[{'classifier__alpha': [0.1, 1, 10, 100],\n",
       "                          'param_reduction__n_components': [100, 300, None]}],\n",
       "             scoring='r2', verbose=5)"
      ]
     },
     "execution_count": 39,
     "metadata": {},
     "output_type": "execute_result"
    }
   ],
   "source": [
    "categorical_pipeline_grid_search.fit(X_train, y_train)"
   ]
  },
  {
   "cell_type": "code",
   "execution_count": 40,
   "id": "5ef57085-766c-4406-8f16-10ac9afce453",
   "metadata": {},
   "outputs": [
    {
     "name": "stdout",
     "output_type": "stream",
     "text": [
      "{'classifier__alpha': 10, 'param_reduction__n_components': None}\n"
     ]
    },
    {
     "data": {
      "text/plain": [
       "0.43725332462720395"
      ]
     },
     "execution_count": 40,
     "metadata": {},
     "output_type": "execute_result"
    }
   ],
   "source": [
    "print(categorical_pipeline_grid_search.best_params_)\n",
    "categorical_pipeline_grid_search.best_score_"
   ]
  },
  {
   "cell_type": "code",
   "execution_count": 41,
   "id": "bd16308d-e168-4cf6-985d-ba21c065826f",
   "metadata": {},
   "outputs": [
    {
     "name": "stderr",
     "output_type": "stream",
     "text": [
      "C:\\Users\\olgas\\AppData\\Local\\Temp\\ipykernel_19968\\16745098.py:9: FutureWarning:\n",
      "\n",
      "The frame.append method is deprecated and will be removed from pandas in a future version. Use pandas.concat instead.\n",
      "\n"
     ]
    }
   ],
   "source": [
    "y_predicted = categorical_pipeline_grid_search.predict(X_test)\n",
    "y_train_predicted = categorical_pipeline_grid_search.predict(X_train)\n",
    "\n",
    "\n",
    "results_df = append_to_results(\"all categories price with log\",'Ridge', '10', 'None', y_test, y_predicted, y_train, y_train_predicted)"
   ]
  },
  {
   "cell_type": "code",
   "execution_count": 42,
   "id": "51f7d2bf-2afb-4074-8d58-55f90ba4e853",
   "metadata": {},
   "outputs": [
    {
     "data": {
      "text/html": [
       "<div>\n",
       "<style scoped>\n",
       "    .dataframe tbody tr th:only-of-type {\n",
       "        vertical-align: middle;\n",
       "    }\n",
       "\n",
       "    .dataframe tbody tr th {\n",
       "        vertical-align: top;\n",
       "    }\n",
       "\n",
       "    .dataframe thead th {\n",
       "        text-align: right;\n",
       "    }\n",
       "</style>\n",
       "<table border=\"1\" class=\"dataframe\">\n",
       "  <thead>\n",
       "    <tr style=\"text-align: right;\">\n",
       "      <th></th>\n",
       "      <th>name</th>\n",
       "      <th>classifier</th>\n",
       "      <th>alpha</th>\n",
       "      <th>reduction</th>\n",
       "      <th>train_r2</th>\n",
       "      <th>train_mse</th>\n",
       "      <th>test_r2</th>\n",
       "      <th>test_mse</th>\n",
       "    </tr>\n",
       "  </thead>\n",
       "  <tbody>\n",
       "    <tr>\n",
       "      <th>0</th>\n",
       "      <td>all categories and price</td>\n",
       "      <td>Ridge</td>\n",
       "      <td>10</td>\n",
       "      <td>None</td>\n",
       "      <td>0.305234</td>\n",
       "      <td>6.647890</td>\n",
       "      <td>(0.30081382552241454,)</td>\n",
       "      <td>6.688209</td>\n",
       "    </tr>\n",
       "    <tr>\n",
       "      <th>1</th>\n",
       "      <td>popular categories and price</td>\n",
       "      <td>Ridge</td>\n",
       "      <td>1</td>\n",
       "      <td>None</td>\n",
       "      <td>0.294004</td>\n",
       "      <td>6.755348</td>\n",
       "      <td>(0.2935037872691477,)</td>\n",
       "      <td>6.758134</td>\n",
       "    </tr>\n",
       "    <tr>\n",
       "      <th>2</th>\n",
       "      <td>all categories price with log</td>\n",
       "      <td>Ridge</td>\n",
       "      <td>10</td>\n",
       "      <td>None</td>\n",
       "      <td>0.439686</td>\n",
       "      <td>5.361382</td>\n",
       "      <td>(0.4265526223611692,)</td>\n",
       "      <td>5.485428</td>\n",
       "    </tr>\n",
       "  </tbody>\n",
       "</table>\n",
       "</div>"
      ],
      "text/plain": [
       "                            name classifier alpha reduction  train_r2  \\\n",
       "0       all categories and price      Ridge    10      None  0.305234   \n",
       "1   popular categories and price      Ridge     1      None  0.294004   \n",
       "2  all categories price with log      Ridge    10      None  0.439686   \n",
       "\n",
       "   train_mse                 test_r2  test_mse  \n",
       "0   6.647890  (0.30081382552241454,)  6.688209  \n",
       "1   6.755348   (0.2935037872691477,)  6.758134  \n",
       "2   5.361382   (0.4265526223611692,)  5.485428  "
      ]
     },
     "execution_count": 42,
     "metadata": {},
     "output_type": "execute_result"
    }
   ],
   "source": [
    "results_df"
   ]
  },
  {
   "cell_type": "markdown",
   "id": "8967e701-81e6-4da4-b9d8-7699783118e2",
   "metadata": {},
   "source": [
    "## Limit the price to 100 and log"
   ]
  },
  {
   "cell_type": "code",
   "execution_count": 43,
   "id": "16ac6949-9981-4c2d-ba5e-62f5d26e2c3f",
   "metadata": {},
   "outputs": [],
   "source": [
    "reviews4 = reviews\n",
    "reviews4[reviews4.price > 100].price = 100\n",
    "reviews4.price = np.log(reviews4.price)"
   ]
  },
  {
   "cell_type": "code",
   "execution_count": 44,
   "id": "415ce97c-8cee-444f-bedf-bb558938b934",
   "metadata": {},
   "outputs": [
    {
     "data": {
      "text/plain": [
       "(95939, 6)"
      ]
     },
     "execution_count": 44,
     "metadata": {},
     "output_type": "execute_result"
    }
   ],
   "source": [
    "x_train = reviews4.drop(columns={'description', 'points'})\n",
    "y_train = reviews4['points']\n",
    "X_train, X_test, y_train, y_test = train_test_split(x_train, y_train, test_size=0.2, random_state=42)\n",
    "X_train.shape"
   ]
  },
  {
   "cell_type": "code",
   "execution_count": 45,
   "id": "e6dab213-b46f-4303-bc08-9c3e1649b51b",
   "metadata": {},
   "outputs": [
    {
     "name": "stdout",
     "output_type": "stream",
     "text": [
      "Fitting 3 folds for each of 12 candidates, totalling 36 fits\n",
      "[CV 1/3] END classifier__alpha=0.1, param_reduction__n_components=100;, score=0.431 total time=   2.6s\n",
      "[CV 2/3] END classifier__alpha=0.1, param_reduction__n_components=100;, score=0.430 total time=   2.5s\n",
      "[CV 3/3] END classifier__alpha=0.1, param_reduction__n_components=100;, score=0.432 total time=   2.6s\n",
      "[CV 1/3] END classifier__alpha=0.1, param_reduction__n_components=300;, score=nan total time=   0.3s\n",
      "[CV 2/3] END classifier__alpha=0.1, param_reduction__n_components=300;, score=nan total time=   0.2s\n",
      "[CV 3/3] END classifier__alpha=0.1, param_reduction__n_components=300;, score=nan total time=   0.3s\n",
      "[CV 1/3] END classifier__alpha=0.1, param_reduction__n_components=None;, score=0.436 total time=   1.9s\n",
      "[CV 2/3] END classifier__alpha=0.1, param_reduction__n_components=None;, score=0.436 total time=   1.8s\n",
      "[CV 3/3] END classifier__alpha=0.1, param_reduction__n_components=None;, score=0.438 total time=   2.0s\n",
      "[CV 1/3] END classifier__alpha=1, param_reduction__n_components=100;, score=0.431 total time=   2.6s\n",
      "[CV 2/3] END classifier__alpha=1, param_reduction__n_components=100;, score=0.430 total time=   2.8s\n",
      "[CV 3/3] END classifier__alpha=1, param_reduction__n_components=100;, score=0.433 total time=   2.6s\n",
      "[CV 1/3] END classifier__alpha=1, param_reduction__n_components=300;, score=nan total time=   0.3s\n",
      "[CV 2/3] END classifier__alpha=1, param_reduction__n_components=300;, score=nan total time=   0.2s\n",
      "[CV 3/3] END classifier__alpha=1, param_reduction__n_components=300;, score=nan total time=   0.2s\n",
      "[CV 1/3] END classifier__alpha=1, param_reduction__n_components=None;, score=0.436 total time=   1.8s\n",
      "[CV 2/3] END classifier__alpha=1, param_reduction__n_components=None;, score=0.436 total time=   1.9s\n",
      "[CV 3/3] END classifier__alpha=1, param_reduction__n_components=None;, score=0.439 total time=   1.8s\n",
      "[CV 1/3] END classifier__alpha=10, param_reduction__n_components=100;, score=0.431 total time=   2.6s\n",
      "[CV 2/3] END classifier__alpha=10, param_reduction__n_components=100;, score=0.430 total time=   2.6s\n",
      "[CV 3/3] END classifier__alpha=10, param_reduction__n_components=100;, score=0.432 total time=   2.5s\n",
      "[CV 1/3] END classifier__alpha=10, param_reduction__n_components=300;, score=nan total time=   0.2s\n",
      "[CV 2/3] END classifier__alpha=10, param_reduction__n_components=300;, score=nan total time=   0.2s\n",
      "[CV 3/3] END classifier__alpha=10, param_reduction__n_components=300;, score=nan total time=   0.3s\n",
      "[CV 1/3] END classifier__alpha=10, param_reduction__n_components=None;, score=0.436 total time=   1.9s\n",
      "[CV 2/3] END classifier__alpha=10, param_reduction__n_components=None;, score=0.436 total time=   2.0s\n",
      "[CV 3/3] END classifier__alpha=10, param_reduction__n_components=None;, score=0.439 total time=   1.9s\n",
      "[CV 1/3] END classifier__alpha=100, param_reduction__n_components=100;, score=0.430 total time=   2.7s\n",
      "[CV 2/3] END classifier__alpha=100, param_reduction__n_components=100;, score=0.430 total time=   2.8s\n",
      "[CV 3/3] END classifier__alpha=100, param_reduction__n_components=100;, score=0.432 total time=   2.5s\n",
      "[CV 1/3] END classifier__alpha=100, param_reduction__n_components=300;, score=nan total time=   0.2s\n",
      "[CV 2/3] END classifier__alpha=100, param_reduction__n_components=300;, score=nan total time=   0.2s\n",
      "[CV 3/3] END classifier__alpha=100, param_reduction__n_components=300;, score=nan total time=   0.2s\n",
      "[CV 1/3] END classifier__alpha=100, param_reduction__n_components=None;, score=0.434 total time=   1.7s\n",
      "[CV 2/3] END classifier__alpha=100, param_reduction__n_components=None;, score=0.433 total time=   1.8s\n",
      "[CV 3/3] END classifier__alpha=100, param_reduction__n_components=None;, score=0.436 total time=   1.7s\n"
     ]
    },
    {
     "name": "stderr",
     "output_type": "stream",
     "text": [
      "C:\\Users\\olgas\\AppData\\Roaming\\Python\\Python39\\site-packages\\sklearn\\model_selection\\_validation.py:378: FitFailedWarning:\n",
      "\n",
      "\n",
      "12 fits failed out of a total of 36.\n",
      "The score on these train-test partitions for these parameters will be set to nan.\n",
      "If these failures are not expected, you can try to debug them by setting error_score='raise'.\n",
      "\n",
      "Below are more details about the failures:\n",
      "--------------------------------------------------------------------------------\n",
      "8 fits failed with the following error:\n",
      "Traceback (most recent call last):\n",
      "  File \"C:\\Users\\olgas\\AppData\\Roaming\\Python\\Python39\\site-packages\\sklearn\\model_selection\\_validation.py\", line 686, in _fit_and_score\n",
      "    estimator.fit(X_train, y_train, **fit_params)\n",
      "  File \"C:\\Users\\olgas\\AppData\\Roaming\\Python\\Python39\\site-packages\\sklearn\\pipeline.py\", line 401, in fit\n",
      "    Xt = self._fit(X, y, **fit_params_steps)\n",
      "  File \"C:\\Users\\olgas\\AppData\\Roaming\\Python\\Python39\\site-packages\\sklearn\\pipeline.py\", line 359, in _fit\n",
      "    X, fitted_transformer = fit_transform_one_cached(\n",
      "  File \"C:\\Users\\olgas\\AppData\\Roaming\\Python\\Python39\\site-packages\\joblib\\memory.py\", line 349, in __call__\n",
      "    return self.func(*args, **kwargs)\n",
      "  File \"C:\\Users\\olgas\\AppData\\Roaming\\Python\\Python39\\site-packages\\sklearn\\pipeline.py\", line 893, in _fit_transform_one\n",
      "    res = transformer.fit_transform(X, y, **fit_params)\n",
      "  File \"C:\\Users\\olgas\\AppData\\Roaming\\Python\\Python39\\site-packages\\sklearn\\utils\\_set_output.py\", line 140, in wrapped\n",
      "    data_to_wrap = f(self, X, *args, **kwargs)\n",
      "  File \"C:\\Users\\olgas\\AppData\\Roaming\\Python\\Python39\\site-packages\\sklearn\\decomposition\\_pca.py\", line 462, in fit_transform\n",
      "    U, S, Vt = self._fit(X)\n",
      "  File \"C:\\Users\\olgas\\AppData\\Roaming\\Python\\Python39\\site-packages\\sklearn\\decomposition\\_pca.py\", line 512, in _fit\n",
      "    return self._fit_full(X, n_components)\n",
      "  File \"C:\\Users\\olgas\\AppData\\Roaming\\Python\\Python39\\site-packages\\sklearn\\decomposition\\_pca.py\", line 526, in _fit_full\n",
      "    raise ValueError(\n",
      "ValueError: n_components=300 must be between 0 and min(n_samples, n_features)=215 with svd_solver='full'\n",
      "\n",
      "--------------------------------------------------------------------------------\n",
      "4 fits failed with the following error:\n",
      "Traceback (most recent call last):\n",
      "  File \"C:\\Users\\olgas\\AppData\\Roaming\\Python\\Python39\\site-packages\\sklearn\\model_selection\\_validation.py\", line 686, in _fit_and_score\n",
      "    estimator.fit(X_train, y_train, **fit_params)\n",
      "  File \"C:\\Users\\olgas\\AppData\\Roaming\\Python\\Python39\\site-packages\\sklearn\\pipeline.py\", line 401, in fit\n",
      "    Xt = self._fit(X, y, **fit_params_steps)\n",
      "  File \"C:\\Users\\olgas\\AppData\\Roaming\\Python\\Python39\\site-packages\\sklearn\\pipeline.py\", line 359, in _fit\n",
      "    X, fitted_transformer = fit_transform_one_cached(\n",
      "  File \"C:\\Users\\olgas\\AppData\\Roaming\\Python\\Python39\\site-packages\\joblib\\memory.py\", line 349, in __call__\n",
      "    return self.func(*args, **kwargs)\n",
      "  File \"C:\\Users\\olgas\\AppData\\Roaming\\Python\\Python39\\site-packages\\sklearn\\pipeline.py\", line 893, in _fit_transform_one\n",
      "    res = transformer.fit_transform(X, y, **fit_params)\n",
      "  File \"C:\\Users\\olgas\\AppData\\Roaming\\Python\\Python39\\site-packages\\sklearn\\utils\\_set_output.py\", line 140, in wrapped\n",
      "    data_to_wrap = f(self, X, *args, **kwargs)\n",
      "  File \"C:\\Users\\olgas\\AppData\\Roaming\\Python\\Python39\\site-packages\\sklearn\\decomposition\\_pca.py\", line 462, in fit_transform\n",
      "    U, S, Vt = self._fit(X)\n",
      "  File \"C:\\Users\\olgas\\AppData\\Roaming\\Python\\Python39\\site-packages\\sklearn\\decomposition\\_pca.py\", line 512, in _fit\n",
      "    return self._fit_full(X, n_components)\n",
      "  File \"C:\\Users\\olgas\\AppData\\Roaming\\Python\\Python39\\site-packages\\sklearn\\decomposition\\_pca.py\", line 526, in _fit_full\n",
      "    raise ValueError(\n",
      "ValueError: n_components=300 must be between 0 and min(n_samples, n_features)=216 with svd_solver='full'\n",
      "\n",
      "\n",
      "C:\\Users\\olgas\\AppData\\Roaming\\Python\\Python39\\site-packages\\sklearn\\model_selection\\_search.py:952: UserWarning:\n",
      "\n",
      "One or more of the test scores are non-finite: [0.43117877        nan 0.43680539 0.43119676        nan 0.43685932\n",
      " 0.43114681        nan 0.43689246 0.4307545         nan 0.43475439]\n",
      "\n"
     ]
    },
    {
     "data": {
      "text/html": [
       "<style>#sk-container-id-7 {color: black;background-color: white;}#sk-container-id-7 pre{padding: 0;}#sk-container-id-7 div.sk-toggleable {background-color: white;}#sk-container-id-7 label.sk-toggleable__label {cursor: pointer;display: block;width: 100%;margin-bottom: 0;padding: 0.3em;box-sizing: border-box;text-align: center;}#sk-container-id-7 label.sk-toggleable__label-arrow:before {content: \"▸\";float: left;margin-right: 0.25em;color: #696969;}#sk-container-id-7 label.sk-toggleable__label-arrow:hover:before {color: black;}#sk-container-id-7 div.sk-estimator:hover label.sk-toggleable__label-arrow:before {color: black;}#sk-container-id-7 div.sk-toggleable__content {max-height: 0;max-width: 0;overflow: hidden;text-align: left;background-color: #f0f8ff;}#sk-container-id-7 div.sk-toggleable__content pre {margin: 0.2em;color: black;border-radius: 0.25em;background-color: #f0f8ff;}#sk-container-id-7 input.sk-toggleable__control:checked~div.sk-toggleable__content {max-height: 200px;max-width: 100%;overflow: auto;}#sk-container-id-7 input.sk-toggleable__control:checked~label.sk-toggleable__label-arrow:before {content: \"▾\";}#sk-container-id-7 div.sk-estimator input.sk-toggleable__control:checked~label.sk-toggleable__label {background-color: #d4ebff;}#sk-container-id-7 div.sk-label input.sk-toggleable__control:checked~label.sk-toggleable__label {background-color: #d4ebff;}#sk-container-id-7 input.sk-hidden--visually {border: 0;clip: rect(1px 1px 1px 1px);clip: rect(1px, 1px, 1px, 1px);height: 1px;margin: -1px;overflow: hidden;padding: 0;position: absolute;width: 1px;}#sk-container-id-7 div.sk-estimator {font-family: monospace;background-color: #f0f8ff;border: 1px dotted black;border-radius: 0.25em;box-sizing: border-box;margin-bottom: 0.5em;}#sk-container-id-7 div.sk-estimator:hover {background-color: #d4ebff;}#sk-container-id-7 div.sk-parallel-item::after {content: \"\";width: 100%;border-bottom: 1px solid gray;flex-grow: 1;}#sk-container-id-7 div.sk-label:hover label.sk-toggleable__label {background-color: #d4ebff;}#sk-container-id-7 div.sk-serial::before {content: \"\";position: absolute;border-left: 1px solid gray;box-sizing: border-box;top: 0;bottom: 0;left: 50%;z-index: 0;}#sk-container-id-7 div.sk-serial {display: flex;flex-direction: column;align-items: center;background-color: white;padding-right: 0.2em;padding-left: 0.2em;position: relative;}#sk-container-id-7 div.sk-item {position: relative;z-index: 1;}#sk-container-id-7 div.sk-parallel {display: flex;align-items: stretch;justify-content: center;background-color: white;position: relative;}#sk-container-id-7 div.sk-item::before, #sk-container-id-7 div.sk-parallel-item::before {content: \"\";position: absolute;border-left: 1px solid gray;box-sizing: border-box;top: 0;bottom: 0;left: 50%;z-index: -1;}#sk-container-id-7 div.sk-parallel-item {display: flex;flex-direction: column;z-index: 1;position: relative;background-color: white;}#sk-container-id-7 div.sk-parallel-item:first-child::after {align-self: flex-end;width: 50%;}#sk-container-id-7 div.sk-parallel-item:last-child::after {align-self: flex-start;width: 50%;}#sk-container-id-7 div.sk-parallel-item:only-child::after {width: 0;}#sk-container-id-7 div.sk-dashed-wrapped {border: 1px dashed gray;margin: 0 0.4em 0.5em 0.4em;box-sizing: border-box;padding-bottom: 0.4em;background-color: white;}#sk-container-id-7 div.sk-label label {font-family: monospace;font-weight: bold;display: inline-block;line-height: 1.2em;}#sk-container-id-7 div.sk-label-container {text-align: center;}#sk-container-id-7 div.sk-container {/* jupyter's `normalize.less` sets `[hidden] { display: none; }` but bootstrap.min.css set `[hidden] { display: none !important; }` so we also need the `!important` here to be able to override the default hidden behavior on the sphinx rendered scikit-learn.org. See: https://github.com/scikit-learn/scikit-learn/issues/21755 */display: inline-block !important;position: relative;}#sk-container-id-7 div.sk-text-repr-fallback {display: none;}</style><div id=\"sk-container-id-7\" class=\"sk-top-container\"><div class=\"sk-text-repr-fallback\"><pre>GridSearchCV(cv=3,\n",
       "             estimator=Pipeline(steps=[(&#x27;preprocessor&#x27;,\n",
       "                                        ColumnTransformer(remainder=&#x27;passthrough&#x27;,\n",
       "                                                          transformers=[(&#x27;num&#x27;,\n",
       "                                                                         Pipeline(steps=[(&#x27;imputer&#x27;,\n",
       "                                                                                          SimpleImputer(strategy=&#x27;median&#x27;)),\n",
       "                                                                                         (&#x27;scaler&#x27;,\n",
       "                                                                                          StandardScaler())]),\n",
       "                                                                         [&#x27;price&#x27;,\n",
       "                                                                          &#x27;year&#x27;]),\n",
       "                                                                        (&#x27;cat&#x27;,\n",
       "                                                                         Pipeline(steps=[(&#x27;imputer&#x27;,\n",
       "                                                                                          SimpleImputer(fill_value=&#x27;missing&#x27;,\n",
       "                                                                                                        strategy=&#x27;constant&#x27;)),\n",
       "                                                                                         (&#x27;onehot&#x27;,\n",
       "                                                                                          OneHotEncoder(handle_unknown=&#x27;ignore&#x27;,\n",
       "                                                                                                        sparse_output=False))]),\n",
       "                                                                         [&#x27;country&#x27;,\n",
       "                                                                          &#x27;province&#x27;,\n",
       "                                                                          &#x27;taster_name&#x27;,\n",
       "                                                                          &#x27;variety&#x27;])],\n",
       "                                                          verbose_feature_names_out=False)),\n",
       "                                       (&#x27;param_reduction&#x27;, PCA()),\n",
       "                                       (&#x27;classifier&#x27;, Ridge())]),\n",
       "             param_grid=[{&#x27;classifier__alpha&#x27;: [0.1, 1, 10, 100],\n",
       "                          &#x27;param_reduction__n_components&#x27;: [100, 300, None]}],\n",
       "             scoring=&#x27;r2&#x27;, verbose=5)</pre><b>In a Jupyter environment, please rerun this cell to show the HTML representation or trust the notebook. <br />On GitHub, the HTML representation is unable to render, please try loading this page with nbviewer.org.</b></div><div class=\"sk-container\" hidden><div class=\"sk-item sk-dashed-wrapped\"><div class=\"sk-label-container\"><div class=\"sk-label sk-toggleable\"><input class=\"sk-toggleable__control sk-hidden--visually\" id=\"sk-estimator-id-77\" type=\"checkbox\" ><label for=\"sk-estimator-id-77\" class=\"sk-toggleable__label sk-toggleable__label-arrow\">GridSearchCV</label><div class=\"sk-toggleable__content\"><pre>GridSearchCV(cv=3,\n",
       "             estimator=Pipeline(steps=[(&#x27;preprocessor&#x27;,\n",
       "                                        ColumnTransformer(remainder=&#x27;passthrough&#x27;,\n",
       "                                                          transformers=[(&#x27;num&#x27;,\n",
       "                                                                         Pipeline(steps=[(&#x27;imputer&#x27;,\n",
       "                                                                                          SimpleImputer(strategy=&#x27;median&#x27;)),\n",
       "                                                                                         (&#x27;scaler&#x27;,\n",
       "                                                                                          StandardScaler())]),\n",
       "                                                                         [&#x27;price&#x27;,\n",
       "                                                                          &#x27;year&#x27;]),\n",
       "                                                                        (&#x27;cat&#x27;,\n",
       "                                                                         Pipeline(steps=[(&#x27;imputer&#x27;,\n",
       "                                                                                          SimpleImputer(fill_value=&#x27;missing&#x27;,\n",
       "                                                                                                        strategy=&#x27;constant&#x27;)),\n",
       "                                                                                         (&#x27;onehot&#x27;,\n",
       "                                                                                          OneHotEncoder(handle_unknown=&#x27;ignore&#x27;,\n",
       "                                                                                                        sparse_output=False))]),\n",
       "                                                                         [&#x27;country&#x27;,\n",
       "                                                                          &#x27;province&#x27;,\n",
       "                                                                          &#x27;taster_name&#x27;,\n",
       "                                                                          &#x27;variety&#x27;])],\n",
       "                                                          verbose_feature_names_out=False)),\n",
       "                                       (&#x27;param_reduction&#x27;, PCA()),\n",
       "                                       (&#x27;classifier&#x27;, Ridge())]),\n",
       "             param_grid=[{&#x27;classifier__alpha&#x27;: [0.1, 1, 10, 100],\n",
       "                          &#x27;param_reduction__n_components&#x27;: [100, 300, None]}],\n",
       "             scoring=&#x27;r2&#x27;, verbose=5)</pre></div></div></div><div class=\"sk-parallel\"><div class=\"sk-parallel-item\"><div class=\"sk-item\"><div class=\"sk-label-container\"><div class=\"sk-label sk-toggleable\"><input class=\"sk-toggleable__control sk-hidden--visually\" id=\"sk-estimator-id-78\" type=\"checkbox\" ><label for=\"sk-estimator-id-78\" class=\"sk-toggleable__label sk-toggleable__label-arrow\">estimator: Pipeline</label><div class=\"sk-toggleable__content\"><pre>Pipeline(steps=[(&#x27;preprocessor&#x27;,\n",
       "                 ColumnTransformer(remainder=&#x27;passthrough&#x27;,\n",
       "                                   transformers=[(&#x27;num&#x27;,\n",
       "                                                  Pipeline(steps=[(&#x27;imputer&#x27;,\n",
       "                                                                   SimpleImputer(strategy=&#x27;median&#x27;)),\n",
       "                                                                  (&#x27;scaler&#x27;,\n",
       "                                                                   StandardScaler())]),\n",
       "                                                  [&#x27;price&#x27;, &#x27;year&#x27;]),\n",
       "                                                 (&#x27;cat&#x27;,\n",
       "                                                  Pipeline(steps=[(&#x27;imputer&#x27;,\n",
       "                                                                   SimpleImputer(fill_value=&#x27;missing&#x27;,\n",
       "                                                                                 strategy=&#x27;constant&#x27;)),\n",
       "                                                                  (&#x27;onehot&#x27;,\n",
       "                                                                   OneHotEncoder(handle_unknown=&#x27;ignore&#x27;,\n",
       "                                                                                 sparse_output=False))]),\n",
       "                                                  [&#x27;country&#x27;, &#x27;province&#x27;,\n",
       "                                                   &#x27;taster_name&#x27;, &#x27;variety&#x27;])],\n",
       "                                   verbose_feature_names_out=False)),\n",
       "                (&#x27;param_reduction&#x27;, PCA()), (&#x27;classifier&#x27;, Ridge())])</pre></div></div></div><div class=\"sk-serial\"><div class=\"sk-item\"><div class=\"sk-serial\"><div class=\"sk-item sk-dashed-wrapped\"><div class=\"sk-label-container\"><div class=\"sk-label sk-toggleable\"><input class=\"sk-toggleable__control sk-hidden--visually\" id=\"sk-estimator-id-79\" type=\"checkbox\" ><label for=\"sk-estimator-id-79\" class=\"sk-toggleable__label sk-toggleable__label-arrow\">preprocessor: ColumnTransformer</label><div class=\"sk-toggleable__content\"><pre>ColumnTransformer(remainder=&#x27;passthrough&#x27;,\n",
       "                  transformers=[(&#x27;num&#x27;,\n",
       "                                 Pipeline(steps=[(&#x27;imputer&#x27;,\n",
       "                                                  SimpleImputer(strategy=&#x27;median&#x27;)),\n",
       "                                                 (&#x27;scaler&#x27;, StandardScaler())]),\n",
       "                                 [&#x27;price&#x27;, &#x27;year&#x27;]),\n",
       "                                (&#x27;cat&#x27;,\n",
       "                                 Pipeline(steps=[(&#x27;imputer&#x27;,\n",
       "                                                  SimpleImputer(fill_value=&#x27;missing&#x27;,\n",
       "                                                                strategy=&#x27;constant&#x27;)),\n",
       "                                                 (&#x27;onehot&#x27;,\n",
       "                                                  OneHotEncoder(handle_unknown=&#x27;ignore&#x27;,\n",
       "                                                                sparse_output=False))]),\n",
       "                                 [&#x27;country&#x27;, &#x27;province&#x27;, &#x27;taster_name&#x27;,\n",
       "                                  &#x27;variety&#x27;])],\n",
       "                  verbose_feature_names_out=False)</pre></div></div></div><div class=\"sk-parallel\"><div class=\"sk-parallel-item\"><div class=\"sk-item\"><div class=\"sk-label-container\"><div class=\"sk-label sk-toggleable\"><input class=\"sk-toggleable__control sk-hidden--visually\" id=\"sk-estimator-id-80\" type=\"checkbox\" ><label for=\"sk-estimator-id-80\" class=\"sk-toggleable__label sk-toggleable__label-arrow\">num</label><div class=\"sk-toggleable__content\"><pre>[&#x27;price&#x27;, &#x27;year&#x27;]</pre></div></div></div><div class=\"sk-serial\"><div class=\"sk-item\"><div class=\"sk-serial\"><div class=\"sk-item\"><div class=\"sk-estimator sk-toggleable\"><input class=\"sk-toggleable__control sk-hidden--visually\" id=\"sk-estimator-id-81\" type=\"checkbox\" ><label for=\"sk-estimator-id-81\" class=\"sk-toggleable__label sk-toggleable__label-arrow\">SimpleImputer</label><div class=\"sk-toggleable__content\"><pre>SimpleImputer(strategy=&#x27;median&#x27;)</pre></div></div></div><div class=\"sk-item\"><div class=\"sk-estimator sk-toggleable\"><input class=\"sk-toggleable__control sk-hidden--visually\" id=\"sk-estimator-id-82\" type=\"checkbox\" ><label for=\"sk-estimator-id-82\" class=\"sk-toggleable__label sk-toggleable__label-arrow\">StandardScaler</label><div class=\"sk-toggleable__content\"><pre>StandardScaler()</pre></div></div></div></div></div></div></div></div><div class=\"sk-parallel-item\"><div class=\"sk-item\"><div class=\"sk-label-container\"><div class=\"sk-label sk-toggleable\"><input class=\"sk-toggleable__control sk-hidden--visually\" id=\"sk-estimator-id-83\" type=\"checkbox\" ><label for=\"sk-estimator-id-83\" class=\"sk-toggleable__label sk-toggleable__label-arrow\">cat</label><div class=\"sk-toggleable__content\"><pre>[&#x27;country&#x27;, &#x27;province&#x27;, &#x27;taster_name&#x27;, &#x27;variety&#x27;]</pre></div></div></div><div class=\"sk-serial\"><div class=\"sk-item\"><div class=\"sk-serial\"><div class=\"sk-item\"><div class=\"sk-estimator sk-toggleable\"><input class=\"sk-toggleable__control sk-hidden--visually\" id=\"sk-estimator-id-84\" type=\"checkbox\" ><label for=\"sk-estimator-id-84\" class=\"sk-toggleable__label sk-toggleable__label-arrow\">SimpleImputer</label><div class=\"sk-toggleable__content\"><pre>SimpleImputer(fill_value=&#x27;missing&#x27;, strategy=&#x27;constant&#x27;)</pre></div></div></div><div class=\"sk-item\"><div class=\"sk-estimator sk-toggleable\"><input class=\"sk-toggleable__control sk-hidden--visually\" id=\"sk-estimator-id-85\" type=\"checkbox\" ><label for=\"sk-estimator-id-85\" class=\"sk-toggleable__label sk-toggleable__label-arrow\">OneHotEncoder</label><div class=\"sk-toggleable__content\"><pre>OneHotEncoder(handle_unknown=&#x27;ignore&#x27;, sparse_output=False)</pre></div></div></div></div></div></div></div></div><div class=\"sk-parallel-item\"><div class=\"sk-item\"><div class=\"sk-label-container\"><div class=\"sk-label sk-toggleable\"><input class=\"sk-toggleable__control sk-hidden--visually\" id=\"sk-estimator-id-86\" type=\"checkbox\" ><label for=\"sk-estimator-id-86\" class=\"sk-toggleable__label sk-toggleable__label-arrow\">remainder</label><div class=\"sk-toggleable__content\"><pre>[]</pre></div></div></div><div class=\"sk-serial\"><div class=\"sk-item\"><div class=\"sk-estimator sk-toggleable\"><input class=\"sk-toggleable__control sk-hidden--visually\" id=\"sk-estimator-id-87\" type=\"checkbox\" ><label for=\"sk-estimator-id-87\" class=\"sk-toggleable__label sk-toggleable__label-arrow\">passthrough</label><div class=\"sk-toggleable__content\"><pre>passthrough</pre></div></div></div></div></div></div></div></div><div class=\"sk-item\"><div class=\"sk-estimator sk-toggleable\"><input class=\"sk-toggleable__control sk-hidden--visually\" id=\"sk-estimator-id-88\" type=\"checkbox\" ><label for=\"sk-estimator-id-88\" class=\"sk-toggleable__label sk-toggleable__label-arrow\">PCA</label><div class=\"sk-toggleable__content\"><pre>PCA()</pre></div></div></div><div class=\"sk-item\"><div class=\"sk-estimator sk-toggleable\"><input class=\"sk-toggleable__control sk-hidden--visually\" id=\"sk-estimator-id-89\" type=\"checkbox\" ><label for=\"sk-estimator-id-89\" class=\"sk-toggleable__label sk-toggleable__label-arrow\">Ridge</label><div class=\"sk-toggleable__content\"><pre>Ridge()</pre></div></div></div></div></div></div></div></div></div></div></div></div>"
      ],
      "text/plain": [
       "GridSearchCV(cv=3,\n",
       "             estimator=Pipeline(steps=[('preprocessor',\n",
       "                                        ColumnTransformer(remainder='passthrough',\n",
       "                                                          transformers=[('num',\n",
       "                                                                         Pipeline(steps=[('imputer',\n",
       "                                                                                          SimpleImputer(strategy='median')),\n",
       "                                                                                         ('scaler',\n",
       "                                                                                          StandardScaler())]),\n",
       "                                                                         ['price',\n",
       "                                                                          'year']),\n",
       "                                                                        ('cat',\n",
       "                                                                         Pipeline(steps=[('imputer',\n",
       "                                                                                          SimpleImputer(fill_value='missing',\n",
       "                                                                                                        strategy='constant')),\n",
       "                                                                                         ('onehot',\n",
       "                                                                                          OneHotEncoder(handle_unknown='ignore',\n",
       "                                                                                                        sparse_output=False))]),\n",
       "                                                                         ['country',\n",
       "                                                                          'province',\n",
       "                                                                          'taster_name',\n",
       "                                                                          'variety'])],\n",
       "                                                          verbose_feature_names_out=False)),\n",
       "                                       ('param_reduction', PCA()),\n",
       "                                       ('classifier', Ridge())]),\n",
       "             param_grid=[{'classifier__alpha': [0.1, 1, 10, 100],\n",
       "                          'param_reduction__n_components': [100, 300, None]}],\n",
       "             scoring='r2', verbose=5)"
      ]
     },
     "execution_count": 45,
     "metadata": {},
     "output_type": "execute_result"
    }
   ],
   "source": [
    "categorical_pipeline_grid_search.fit(X_train, y_train)"
   ]
  },
  {
   "cell_type": "code",
   "execution_count": 46,
   "id": "8c3dd2b8-2e79-4850-866f-d7a0bb26ab04",
   "metadata": {},
   "outputs": [
    {
     "name": "stdout",
     "output_type": "stream",
     "text": [
      "{'classifier__alpha': 10, 'param_reduction__n_components': None}\n"
     ]
    },
    {
     "data": {
      "text/plain": [
       "0.43689245885961087"
      ]
     },
     "execution_count": 46,
     "metadata": {},
     "output_type": "execute_result"
    }
   ],
   "source": [
    "print(categorical_pipeline_grid_search.best_params_)\n",
    "categorical_pipeline_grid_search.best_score_"
   ]
  },
  {
   "cell_type": "code",
   "execution_count": 47,
   "id": "7fdd96b3-89e2-4cd4-806d-341551b17980",
   "metadata": {},
   "outputs": [
    {
     "name": "stderr",
     "output_type": "stream",
     "text": [
      "C:\\Users\\olgas\\AppData\\Local\\Temp\\ipykernel_19968\\16745098.py:9: FutureWarning:\n",
      "\n",
      "The frame.append method is deprecated and will be removed from pandas in a future version. Use pandas.concat instead.\n",
      "\n"
     ]
    },
    {
     "data": {
      "text/html": [
       "<div>\n",
       "<style scoped>\n",
       "    .dataframe tbody tr th:only-of-type {\n",
       "        vertical-align: middle;\n",
       "    }\n",
       "\n",
       "    .dataframe tbody tr th {\n",
       "        vertical-align: top;\n",
       "    }\n",
       "\n",
       "    .dataframe thead th {\n",
       "        text-align: right;\n",
       "    }\n",
       "</style>\n",
       "<table border=\"1\" class=\"dataframe\">\n",
       "  <thead>\n",
       "    <tr style=\"text-align: right;\">\n",
       "      <th></th>\n",
       "      <th>name</th>\n",
       "      <th>classifier</th>\n",
       "      <th>alpha</th>\n",
       "      <th>reduction</th>\n",
       "      <th>train_r2</th>\n",
       "      <th>train_mse</th>\n",
       "      <th>test_r2</th>\n",
       "      <th>test_mse</th>\n",
       "    </tr>\n",
       "  </thead>\n",
       "  <tbody>\n",
       "    <tr>\n",
       "      <th>0</th>\n",
       "      <td>all categories and price</td>\n",
       "      <td>Ridge</td>\n",
       "      <td>10</td>\n",
       "      <td>None</td>\n",
       "      <td>0.305234</td>\n",
       "      <td>6.647890</td>\n",
       "      <td>(0.30081382552241454,)</td>\n",
       "      <td>6.688209</td>\n",
       "    </tr>\n",
       "    <tr>\n",
       "      <th>1</th>\n",
       "      <td>popular categories and price</td>\n",
       "      <td>Ridge</td>\n",
       "      <td>1</td>\n",
       "      <td>None</td>\n",
       "      <td>0.294004</td>\n",
       "      <td>6.755348</td>\n",
       "      <td>(0.2935037872691477,)</td>\n",
       "      <td>6.758134</td>\n",
       "    </tr>\n",
       "    <tr>\n",
       "      <th>2</th>\n",
       "      <td>all categories price with log</td>\n",
       "      <td>Ridge</td>\n",
       "      <td>10</td>\n",
       "      <td>None</td>\n",
       "      <td>0.439686</td>\n",
       "      <td>5.361382</td>\n",
       "      <td>(0.4265526223611692,)</td>\n",
       "      <td>5.485428</td>\n",
       "    </tr>\n",
       "    <tr>\n",
       "      <th>3</th>\n",
       "      <td>all categories price limited price with log</td>\n",
       "      <td>Ridge</td>\n",
       "      <td>10</td>\n",
       "      <td>None</td>\n",
       "      <td>0.439272</td>\n",
       "      <td>5.365345</td>\n",
       "      <td>(0.4262236339612465,)</td>\n",
       "      <td>5.488575</td>\n",
       "    </tr>\n",
       "  </tbody>\n",
       "</table>\n",
       "</div>"
      ],
      "text/plain": [
       "                                          name classifier alpha reduction  \\\n",
       "0                     all categories and price      Ridge    10      None   \n",
       "1                 popular categories and price      Ridge     1      None   \n",
       "2                all categories price with log      Ridge    10      None   \n",
       "3  all categories price limited price with log      Ridge    10      None   \n",
       "\n",
       "   train_r2  train_mse                 test_r2  test_mse  \n",
       "0  0.305234   6.647890  (0.30081382552241454,)  6.688209  \n",
       "1  0.294004   6.755348   (0.2935037872691477,)  6.758134  \n",
       "2  0.439686   5.361382   (0.4265526223611692,)  5.485428  \n",
       "3  0.439272   5.365345   (0.4262236339612465,)  5.488575  "
      ]
     },
     "execution_count": 47,
     "metadata": {},
     "output_type": "execute_result"
    }
   ],
   "source": [
    "y_predicted = categorical_pipeline_grid_search.predict(X_test)\n",
    "y_train_predicted = categorical_pipeline_grid_search.predict(X_train)\n",
    "\n",
    "results_df = append_to_results(\"all categories price limited price with log\",'Ridge', '10', 'None', y_test, y_predicted, y_train, y_train_predicted)\n",
    "results_df"
   ]
  },
  {
   "cell_type": "code",
   "execution_count": 48,
   "id": "6fa0da95-a00d-4243-ab0e-b36b6b24b7f5",
   "metadata": {},
   "outputs": [
    {
     "data": {
      "text/html": [
       "<div>\n",
       "<style scoped>\n",
       "    .dataframe tbody tr th:only-of-type {\n",
       "        vertical-align: middle;\n",
       "    }\n",
       "\n",
       "    .dataframe tbody tr th {\n",
       "        vertical-align: top;\n",
       "    }\n",
       "\n",
       "    .dataframe thead th {\n",
       "        text-align: right;\n",
       "    }\n",
       "</style>\n",
       "<table border=\"1\" class=\"dataframe\">\n",
       "  <thead>\n",
       "    <tr style=\"text-align: right;\">\n",
       "      <th></th>\n",
       "      <th>name</th>\n",
       "      <th>classifier</th>\n",
       "      <th>alpha</th>\n",
       "      <th>reduction</th>\n",
       "      <th>train_r2</th>\n",
       "      <th>train_mse</th>\n",
       "      <th>test_r2</th>\n",
       "      <th>test_mse</th>\n",
       "    </tr>\n",
       "  </thead>\n",
       "  <tbody>\n",
       "    <tr>\n",
       "      <th>0</th>\n",
       "      <td>all categories and price</td>\n",
       "      <td>Ridge</td>\n",
       "      <td>10</td>\n",
       "      <td>None</td>\n",
       "      <td>0.305234</td>\n",
       "      <td>6.647890</td>\n",
       "      <td>(0.30081382552241454,)</td>\n",
       "      <td>6.688209</td>\n",
       "    </tr>\n",
       "    <tr>\n",
       "      <th>1</th>\n",
       "      <td>partial categories and price</td>\n",
       "      <td>Ridge</td>\n",
       "      <td>1</td>\n",
       "      <td>None</td>\n",
       "      <td>0.294004</td>\n",
       "      <td>6.755348</td>\n",
       "      <td>(0.2935037872691477,)</td>\n",
       "      <td>6.758134</td>\n",
       "    </tr>\n",
       "    <tr>\n",
       "      <th>2</th>\n",
       "      <td>all categories price with log</td>\n",
       "      <td>Ridge</td>\n",
       "      <td>10</td>\n",
       "      <td>None</td>\n",
       "      <td>0.439686</td>\n",
       "      <td>5.361382</td>\n",
       "      <td>(0.4265526223611692,)</td>\n",
       "      <td>5.485428</td>\n",
       "    </tr>\n",
       "    <tr>\n",
       "      <th>3</th>\n",
       "      <td>all categories price limited price with log</td>\n",
       "      <td>Ridge</td>\n",
       "      <td>10</td>\n",
       "      <td>None</td>\n",
       "      <td>0.439272</td>\n",
       "      <td>5.365345</td>\n",
       "      <td>(0.4262236339612465,)</td>\n",
       "      <td>5.488575</td>\n",
       "    </tr>\n",
       "  </tbody>\n",
       "</table>\n",
       "</div>"
      ],
      "text/plain": [
       "                                          name classifier alpha reduction  \\\n",
       "0                     all categories and price      Ridge    10      None   \n",
       "1                 partial categories and price      Ridge     1      None   \n",
       "2                all categories price with log      Ridge    10      None   \n",
       "3  all categories price limited price with log      Ridge    10      None   \n",
       "\n",
       "   train_r2  train_mse                 test_r2  test_mse  \n",
       "0  0.305234   6.647890  (0.30081382552241454,)  6.688209  \n",
       "1  0.294004   6.755348   (0.2935037872691477,)  6.758134  \n",
       "2  0.439686   5.361382   (0.4265526223611692,)  5.485428  \n",
       "3  0.439272   5.365345   (0.4262236339612465,)  5.488575  "
      ]
     },
     "execution_count": 48,
     "metadata": {},
     "output_type": "execute_result"
    }
   ],
   "source": [
    "#results_df.at[1, 'name'] = \"partial categories and price\"\n",
    "results_df"
   ]
  },
  {
   "cell_type": "markdown",
   "id": "ce4adb2d-41c2-4405-b926-2f2fa945c147",
   "metadata": {
    "tags": []
   },
   "source": [
    "# Text Preprocessing"
   ]
  },
  {
   "cell_type": "markdown",
   "id": "c01ddcbe-fda5-452d-8a53-c2c2624b245c",
   "metadata": {
    "tags": []
   },
   "source": [
    "#### Prepare text data for training"
   ]
  },
  {
   "cell_type": "code",
   "execution_count": 49,
   "id": "3351edc6-8034-42d7-95b4-7604b38b20fc",
   "metadata": {},
   "outputs": [
    {
     "data": {
      "text/html": [
       "<div>\n",
       "<style scoped>\n",
       "    .dataframe tbody tr th:only-of-type {\n",
       "        vertical-align: middle;\n",
       "    }\n",
       "\n",
       "    .dataframe tbody tr th {\n",
       "        vertical-align: top;\n",
       "    }\n",
       "\n",
       "    .dataframe thead th {\n",
       "        text-align: right;\n",
       "    }\n",
       "</style>\n",
       "<table border=\"1\" class=\"dataframe\">\n",
       "  <thead>\n",
       "    <tr style=\"text-align: right;\">\n",
       "      <th></th>\n",
       "      <th>country</th>\n",
       "      <th>description</th>\n",
       "      <th>points</th>\n",
       "      <th>price</th>\n",
       "      <th>province</th>\n",
       "      <th>taster_name</th>\n",
       "      <th>variety</th>\n",
       "      <th>year</th>\n",
       "    </tr>\n",
       "  </thead>\n",
       "  <tbody>\n",
       "  </tbody>\n",
       "</table>\n",
       "</div>"
      ],
      "text/plain": [
       "Empty DataFrame\n",
       "Columns: [country, description, points, price, province, taster_name, variety, year]\n",
       "Index: []"
      ]
     },
     "execution_count": 49,
     "metadata": {},
     "output_type": "execute_result"
    }
   ],
   "source": [
    "wine_reviews[wine_reviews.description.isna()]"
   ]
  },
  {
   "cell_type": "code",
   "execution_count": 50,
   "id": "5ac1f24d-5d71-4862-86f2-ce7af11b843d",
   "metadata": {},
   "outputs": [],
   "source": [
    "wine_reviews_desc = wine_reviews"
   ]
  },
  {
   "cell_type": "code",
   "execution_count": 51,
   "id": "d886ed13-52d8-4e9b-b46b-57747e195c26",
   "metadata": {},
   "outputs": [],
   "source": [
    "specialChars = ''.join([\",\", \":\", \"\\\"\", \"=\", \"&\", \";\", \"%\", \"$\",\"@\", \"%\", \"^\", \"*\", \"(\", \")\", \"{\", \"}\",'–','“', '”'\n",
    "                      \"[\", \"]\", \"|\", \"/\", \"\\\\\", \">\", \"<\", \"-\",\"!\", \"?\", \".\", \"'\",\"--\", \"---\", \"#\", '‘', '’', '…'])  \n",
    "space_chars = ['.',',',';', '&', '?','!']\n",
    "def remove_by_regex(tweets, regexp):\n",
    "    return tweets.replace(regexp, \"\")\n",
    "\n",
    "def remove_urls(tweets):\n",
    "    return remove_by_regex(tweets, regex.compile(r\"http\\S+\"))\n",
    "\n",
    "def remove_special_chars(tweets): \n",
    "    return tweets.apply(lambda tweet: ''.join([c for c in tweet if c not in specialChars]))\n",
    "\n",
    "def remove_usernames(tweets):\n",
    "    return remove_by_regex(tweets, regex.compile(r\"@[^\\s]+[\\s]?\"))\n",
    "\n",
    "def remove_numbers(tweets):\n",
    "    return remove_by_regex(tweets, regex.compile(r\"\\s?[0-9]+\\.?[0-9]*\"))\n",
    "\n",
    "def remove_emojis(tweets):\n",
    "    return tweets.apply(lambda tweet: ''.join(c for c in tweet if c not in emoji.distinct_emoji_list(tweet)))\n",
    "\n",
    "def add_spaces(tweets):\n",
    "    def add_spaces_int(tweet):\n",
    "        for char in space_chars:\n",
    "            tweet = tweet.replace(char, char + ' ')\n",
    "        return tweet\n",
    "    return tweets.apply(lambda tweet: add_spaces_int(tweet))\n",
    "\n",
    "def leave_language_only(tweets):\n",
    "    for f in [add_spaces, remove_numbers, remove_usernames, remove_special_chars]:\n",
    "        tweets = f(tweets)\n",
    "    return tweets"
   ]
  },
  {
   "cell_type": "code",
   "execution_count": 52,
   "id": "2301be0c-a7f3-4919-a435-21abc2456430",
   "metadata": {},
   "outputs": [],
   "source": [
    "wine_reviews_desc[\"description_pure\"] = leave_language_only(wine_reviews.description)"
   ]
  },
  {
   "cell_type": "code",
   "execution_count": 53,
   "id": "e8557f5e-db70-4f1f-98ed-848b0b282aa8",
   "metadata": {},
   "outputs": [
    {
     "name": "stdout",
     "output_type": "stream",
     "text": [
      "<class 'pandas.core.frame.DataFrame'>\n",
      "Int64Index: 119924 entries, 0 to 129970\n",
      "Data columns (total 9 columns):\n",
      " #   Column            Non-Null Count   Dtype  \n",
      "---  ------            --------------   -----  \n",
      " 0   country           119924 non-null  object \n",
      " 1   description       119924 non-null  object \n",
      " 2   points            119924 non-null  int64  \n",
      " 3   price             111535 non-null  float64\n",
      " 4   province          119924 non-null  object \n",
      " 5   taster_name       95008 non-null   object \n",
      " 6   variety           119924 non-null  object \n",
      " 7   year              119924 non-null  float64\n",
      " 8   description_pure  119924 non-null  object \n",
      "dtypes: float64(2), int64(1), object(6)\n",
      "memory usage: 9.1+ MB\n"
     ]
    }
   ],
   "source": [
    "wine_reviews_desc.info()\n",
    "pd.set_option('max_colwidth', 300)"
   ]
  },
  {
   "cell_type": "code",
   "execution_count": 54,
   "id": "0ee8d728-3acb-46b0-af94-8a796bd87075",
   "metadata": {},
   "outputs": [
    {
     "data": {
      "text/html": [
       "<div>\n",
       "<style scoped>\n",
       "    .dataframe tbody tr th:only-of-type {\n",
       "        vertical-align: middle;\n",
       "    }\n",
       "\n",
       "    .dataframe tbody tr th {\n",
       "        vertical-align: top;\n",
       "    }\n",
       "\n",
       "    .dataframe thead th {\n",
       "        text-align: right;\n",
       "    }\n",
       "</style>\n",
       "<table border=\"1\" class=\"dataframe\">\n",
       "  <thead>\n",
       "    <tr style=\"text-align: right;\">\n",
       "      <th></th>\n",
       "      <th>description</th>\n",
       "      <th>description_pure</th>\n",
       "    </tr>\n",
       "  </thead>\n",
       "  <tbody>\n",
       "    <tr>\n",
       "      <th>38736</th>\n",
       "      <td>Cocoa powder, vanilla, toast and high-toned blue and black-fruit flavors are followed by a flavorful fruit-forward palate. It doesn't always seem entirely varietal but still brings plenty of appeal.</td>\n",
       "      <td>Cocoa powder  vanilla  toast and hightoned blue and blackfruit flavors are followed by a flavorful fruitforward palate  It doesnt always seem entirely varietal but still brings plenty of appeal</td>\n",
       "    </tr>\n",
       "    <tr>\n",
       "      <th>26650</th>\n",
       "      <td>This is a rare, 100% varietal, single-vineyard Malbec. It downright dazzles with notes of dark plum and spice that are followed by seamless, pure, elegant fruit flavors.</td>\n",
       "      <td>This is a rare  varietal  singlevineyard Malbec  It downright dazzles with notes of dark plum and spice that are followed by seamless  pure  elegant fruit flavors</td>\n",
       "    </tr>\n",
       "    <tr>\n",
       "      <th>2683</th>\n",
       "      <td>Earthy, mildly leafy aromas of dried red fruits and vanilla are textbook for Rioja gran reserva. A medium-bodied palate shows balsamic richness along with flavors of prune, raisin, cassis and loamy earth. This is mild but solid on the finish, with a quick fade to the fruit component. Drink now.</td>\n",
       "      <td>Earthy  mildly leafy aromas of dried red fruits and vanilla are textbook for Rioja gran reserva  A mediumbodied palate shows balsamic richness along with flavors of prune  raisin  cassis and loamy earth  This is mild but solid on the finish  with a quick fade to the fruit component  Drink now</td>\n",
       "    </tr>\n",
       "    <tr>\n",
       "      <th>92961</th>\n",
       "      <td>A wisp of smoke accents bright apple and pear notes on this off-dry Riesling. It's zippy and fresh, with loads of sweet fresh apple flavor, but piercing acidity lends a long, linear feel that remains focused through the finish.</td>\n",
       "      <td>A wisp of smoke accents bright apple and pear notes on this offdry Riesling  Its zippy and fresh  with loads of sweet fresh apple flavor  but piercing acidity lends a long  linear feel that remains focused through the finish</td>\n",
       "    </tr>\n",
       "    <tr>\n",
       "      <th>85221</th>\n",
       "      <td>A big, soft, ultrarich style of Zinfandel. It has very high alcohol, with flamboyant flavors of milk chocolate, oozingly ripe blackberries and blueberries, anise liqueur and black pepper. The finish is totally dry. Lusty and heady.</td>\n",
       "      <td>A big  soft  ultrarich style of Zinfandel  It has very high alcohol  with flamboyant flavors of milk chocolate  oozingly ripe blackberries and blueberries  anise liqueur and black pepper  The finish is totally dry  Lusty and heady</td>\n",
       "    </tr>\n",
       "  </tbody>\n",
       "</table>\n",
       "</div>"
      ],
      "text/plain": [
       "                                                                                                                                                                                                                                                                                                   description  \\\n",
       "38736                                                                                                   Cocoa powder, vanilla, toast and high-toned blue and black-fruit flavors are followed by a flavorful fruit-forward palate. It doesn't always seem entirely varietal but still brings plenty of appeal.   \n",
       "26650                                                                                                                                This is a rare, 100% varietal, single-vineyard Malbec. It downright dazzles with notes of dark plum and spice that are followed by seamless, pure, elegant fruit flavors.   \n",
       "2683   Earthy, mildly leafy aromas of dried red fruits and vanilla are textbook for Rioja gran reserva. A medium-bodied palate shows balsamic richness along with flavors of prune, raisin, cassis and loamy earth. This is mild but solid on the finish, with a quick fade to the fruit component. Drink now.   \n",
       "92961                                                                      A wisp of smoke accents bright apple and pear notes on this off-dry Riesling. It's zippy and fresh, with loads of sweet fresh apple flavor, but piercing acidity lends a long, linear feel that remains focused through the finish.   \n",
       "85221                                                                  A big, soft, ultrarich style of Zinfandel. It has very high alcohol, with flamboyant flavors of milk chocolate, oozingly ripe blackberries and blueberries, anise liqueur and black pepper. The finish is totally dry. Lusty and heady.   \n",
       "\n",
       "                                                                                                                                                                                                                                                                                             description_pure  \n",
       "38736                                                                                                      Cocoa powder  vanilla  toast and hightoned blue and blackfruit flavors are followed by a flavorful fruitforward palate  It doesnt always seem entirely varietal but still brings plenty of appeal   \n",
       "26650                                                                                                                                     This is a rare  varietal  singlevineyard Malbec  It downright dazzles with notes of dark plum and spice that are followed by seamless  pure  elegant fruit flavors   \n",
       "2683   Earthy  mildly leafy aromas of dried red fruits and vanilla are textbook for Rioja gran reserva  A mediumbodied palate shows balsamic richness along with flavors of prune  raisin  cassis and loamy earth  This is mild but solid on the finish  with a quick fade to the fruit component  Drink now   \n",
       "92961                                                                       A wisp of smoke accents bright apple and pear notes on this offdry Riesling  Its zippy and fresh  with loads of sweet fresh apple flavor  but piercing acidity lends a long  linear feel that remains focused through the finish   \n",
       "85221                                                                 A big  soft  ultrarich style of Zinfandel  It has very high alcohol  with flamboyant flavors of milk chocolate  oozingly ripe blackberries and blueberries  anise liqueur and black pepper  The finish is totally dry  Lusty and heady   "
      ]
     },
     "execution_count": 54,
     "metadata": {},
     "output_type": "execute_result"
    }
   ],
   "source": [
    "wine_reviews_desc[['description','description_pure']].sample(5)"
   ]
  },
  {
   "cell_type": "code",
   "execution_count": 55,
   "id": "998f0221-d978-47f9-8c55-b68604c4246d",
   "metadata": {},
   "outputs": [
    {
     "data": {
      "text/plain": [
       "['i', 'me', 'my', 'myself', 'we', 'our', 'ours', 'ourselves', 'you', \"you're\"]"
      ]
     },
     "execution_count": 55,
     "metadata": {},
     "output_type": "execute_result"
    }
   ],
   "source": [
    "stopwords=nltk.corpus.stopwords.words(\"english\") + nltk.corpus.stopwords.words(\"italian\") + nltk.corpus.stopwords.words(\"spanish\")\n",
    "stopwords[:10]"
   ]
  },
  {
   "cell_type": "code",
   "execution_count": 56,
   "id": "333528d6-5755-4b1c-acb0-f93d01b653b6",
   "metadata": {},
   "outputs": [],
   "source": [
    "def get_words(texts):\n",
    "    words = [word.lower() for description in texts for word in nltk.word_tokenize(description) if word.lower() not in stopwords] # Words without stop words\n",
    "    return words"
   ]
  },
  {
   "cell_type": "code",
   "execution_count": 57,
   "id": "64d7716b-f0a6-4310-b562-f8fef86664fe",
   "metadata": {},
   "outputs": [],
   "source": [
    "all_words = get_words(wine_reviews_desc.description_pure)"
   ]
  },
  {
   "cell_type": "code",
   "execution_count": 58,
   "id": "2268d00f-c78b-4782-94cc-7de901ddca91",
   "metadata": {},
   "outputs": [
    {
     "name": "stdout",
     "output_type": "stream",
     "text": [
      "2947716\n"
     ]
    }
   ],
   "source": [
    "print(len(all_words))"
   ]
  },
  {
   "cell_type": "code",
   "execution_count": 59,
   "id": "6888cb08-94fc-4eaa-bea3-5d08f6cf72d4",
   "metadata": {},
   "outputs": [],
   "source": [
    "def create_words_wocabulary(all_words):\n",
    "    words_df = DataFrame(data = all_words, columns = ['word']).word.value_counts().reset_index()\n",
    "    words_df.columns = ['word','wordCount']\n",
    "    words_df['wordImportance'] = words_df.wordCount / len(words_df) \n",
    "    words_df['wordImportanceRelative'] = words_df.wordCount / words_df.wordCount.max()\n",
    "    return words_df\n",
    "    "
   ]
  },
  {
   "cell_type": "code",
   "execution_count": 60,
   "id": "e2314bce-8df2-4e15-94ae-94ec8228bd67",
   "metadata": {},
   "outputs": [
    {
     "name": "stdout",
     "output_type": "stream",
     "text": [
      "      word  wordCount  wordImportance  wordImportanceRelative\n",
      "0     wine      72115        1.618634                1.000000\n",
      "1  flavors      57911        1.299823                0.803037\n",
      "2    fruit      41562        0.932866                0.576329\n",
      "3   aromas      36203        0.812583                0.502018\n",
      "4   palate      34700        0.778848                0.481176\n",
      "(44553, 4)\n"
     ]
    }
   ],
   "source": [
    "words_df = create_words_wocabulary(all_words)\n",
    "print(words_df.sort_values(by=\"wordImportance\", ascending=False).head())\n",
    "print(words_df.shape)"
   ]
  },
  {
   "cell_type": "code",
   "execution_count": 61,
   "id": "5098f38a-18f6-4f5f-b883-e1c51249e515",
   "metadata": {},
   "outputs": [
    {
     "name": "stdout",
     "output_type": "stream",
     "text": [
      "Total of 2947716 words, 44553 unique words\n"
     ]
    }
   ],
   "source": [
    "print(\"Total of {} words, {} unique words\".format(len(all_words), len(words_df)))"
   ]
  },
  {
   "cell_type": "code",
   "execution_count": 62,
   "id": "44f7ae23-7343-4d72-9f61-3d2a419752f4",
   "metadata": {},
   "outputs": [
    {
     "data": {
      "application/vnd.plotly.v1+json": {
       "config": {
        "linkText": "Export to plot.ly",
        "plotlyServerURL": "https://plot.ly",
        "showLink": true
       },
       "data": [
        {
         "marker": {
          "color": "rgba(255, 153, 51, 0.6)",
          "line": {
           "color": "rgba(255, 153, 51, 1.0)",
           "width": 1
          }
         },
         "name": "wordCount",
         "orientation": "v",
         "text": "",
         "type": "bar",
         "x": [
          "wine",
          "flavors",
          "fruit",
          "aromas",
          "palate",
          "acidity",
          "finish",
          "tannins",
          "drink",
          "cherry",
          "ripe",
          "black",
          "notes",
          "red",
          "spice",
          "rich",
          "fresh",
          "nose",
          "oak",
          "dry"
         ],
         "y": [
          72115,
          57911,
          41562,
          36203,
          34700,
          32087,
          32087,
          28428,
          27537,
          25114,
          24763,
          23337,
          17447,
          17315,
          17309,
          16046,
          15517,
          15464,
          15386,
          14306
         ]
        }
       ],
       "layout": {
        "autosize": true,
        "legend": {
         "bgcolor": "#F5F6F9",
         "font": {
          "color": "#4D5663"
         }
        },
        "paper_bgcolor": "#F5F6F9",
        "plot_bgcolor": "#F5F6F9",
        "template": {
         "data": {
          "bar": [
           {
            "error_x": {
             "color": "#2a3f5f"
            },
            "error_y": {
             "color": "#2a3f5f"
            },
            "marker": {
             "line": {
              "color": "#E5ECF6",
              "width": 0.5
             },
             "pattern": {
              "fillmode": "overlay",
              "size": 10,
              "solidity": 0.2
             }
            },
            "type": "bar"
           }
          ],
          "barpolar": [
           {
            "marker": {
             "line": {
              "color": "#E5ECF6",
              "width": 0.5
             },
             "pattern": {
              "fillmode": "overlay",
              "size": 10,
              "solidity": 0.2
             }
            },
            "type": "barpolar"
           }
          ],
          "carpet": [
           {
            "aaxis": {
             "endlinecolor": "#2a3f5f",
             "gridcolor": "white",
             "linecolor": "white",
             "minorgridcolor": "white",
             "startlinecolor": "#2a3f5f"
            },
            "baxis": {
             "endlinecolor": "#2a3f5f",
             "gridcolor": "white",
             "linecolor": "white",
             "minorgridcolor": "white",
             "startlinecolor": "#2a3f5f"
            },
            "type": "carpet"
           }
          ],
          "choropleth": [
           {
            "colorbar": {
             "outlinewidth": 0,
             "ticks": ""
            },
            "type": "choropleth"
           }
          ],
          "contour": [
           {
            "colorbar": {
             "outlinewidth": 0,
             "ticks": ""
            },
            "colorscale": [
             [
              0,
              "#0d0887"
             ],
             [
              0.1111111111111111,
              "#46039f"
             ],
             [
              0.2222222222222222,
              "#7201a8"
             ],
             [
              0.3333333333333333,
              "#9c179e"
             ],
             [
              0.4444444444444444,
              "#bd3786"
             ],
             [
              0.5555555555555556,
              "#d8576b"
             ],
             [
              0.6666666666666666,
              "#ed7953"
             ],
             [
              0.7777777777777778,
              "#fb9f3a"
             ],
             [
              0.8888888888888888,
              "#fdca26"
             ],
             [
              1,
              "#f0f921"
             ]
            ],
            "type": "contour"
           }
          ],
          "contourcarpet": [
           {
            "colorbar": {
             "outlinewidth": 0,
             "ticks": ""
            },
            "type": "contourcarpet"
           }
          ],
          "heatmap": [
           {
            "colorbar": {
             "outlinewidth": 0,
             "ticks": ""
            },
            "colorscale": [
             [
              0,
              "#0d0887"
             ],
             [
              0.1111111111111111,
              "#46039f"
             ],
             [
              0.2222222222222222,
              "#7201a8"
             ],
             [
              0.3333333333333333,
              "#9c179e"
             ],
             [
              0.4444444444444444,
              "#bd3786"
             ],
             [
              0.5555555555555556,
              "#d8576b"
             ],
             [
              0.6666666666666666,
              "#ed7953"
             ],
             [
              0.7777777777777778,
              "#fb9f3a"
             ],
             [
              0.8888888888888888,
              "#fdca26"
             ],
             [
              1,
              "#f0f921"
             ]
            ],
            "type": "heatmap"
           }
          ],
          "heatmapgl": [
           {
            "colorbar": {
             "outlinewidth": 0,
             "ticks": ""
            },
            "colorscale": [
             [
              0,
              "#0d0887"
             ],
             [
              0.1111111111111111,
              "#46039f"
             ],
             [
              0.2222222222222222,
              "#7201a8"
             ],
             [
              0.3333333333333333,
              "#9c179e"
             ],
             [
              0.4444444444444444,
              "#bd3786"
             ],
             [
              0.5555555555555556,
              "#d8576b"
             ],
             [
              0.6666666666666666,
              "#ed7953"
             ],
             [
              0.7777777777777778,
              "#fb9f3a"
             ],
             [
              0.8888888888888888,
              "#fdca26"
             ],
             [
              1,
              "#f0f921"
             ]
            ],
            "type": "heatmapgl"
           }
          ],
          "histogram": [
           {
            "marker": {
             "pattern": {
              "fillmode": "overlay",
              "size": 10,
              "solidity": 0.2
             }
            },
            "type": "histogram"
           }
          ],
          "histogram2d": [
           {
            "colorbar": {
             "outlinewidth": 0,
             "ticks": ""
            },
            "colorscale": [
             [
              0,
              "#0d0887"
             ],
             [
              0.1111111111111111,
              "#46039f"
             ],
             [
              0.2222222222222222,
              "#7201a8"
             ],
             [
              0.3333333333333333,
              "#9c179e"
             ],
             [
              0.4444444444444444,
              "#bd3786"
             ],
             [
              0.5555555555555556,
              "#d8576b"
             ],
             [
              0.6666666666666666,
              "#ed7953"
             ],
             [
              0.7777777777777778,
              "#fb9f3a"
             ],
             [
              0.8888888888888888,
              "#fdca26"
             ],
             [
              1,
              "#f0f921"
             ]
            ],
            "type": "histogram2d"
           }
          ],
          "histogram2dcontour": [
           {
            "colorbar": {
             "outlinewidth": 0,
             "ticks": ""
            },
            "colorscale": [
             [
              0,
              "#0d0887"
             ],
             [
              0.1111111111111111,
              "#46039f"
             ],
             [
              0.2222222222222222,
              "#7201a8"
             ],
             [
              0.3333333333333333,
              "#9c179e"
             ],
             [
              0.4444444444444444,
              "#bd3786"
             ],
             [
              0.5555555555555556,
              "#d8576b"
             ],
             [
              0.6666666666666666,
              "#ed7953"
             ],
             [
              0.7777777777777778,
              "#fb9f3a"
             ],
             [
              0.8888888888888888,
              "#fdca26"
             ],
             [
              1,
              "#f0f921"
             ]
            ],
            "type": "histogram2dcontour"
           }
          ],
          "mesh3d": [
           {
            "colorbar": {
             "outlinewidth": 0,
             "ticks": ""
            },
            "type": "mesh3d"
           }
          ],
          "parcoords": [
           {
            "line": {
             "colorbar": {
              "outlinewidth": 0,
              "ticks": ""
             }
            },
            "type": "parcoords"
           }
          ],
          "pie": [
           {
            "automargin": true,
            "type": "pie"
           }
          ],
          "scatter": [
           {
            "fillpattern": {
             "fillmode": "overlay",
             "size": 10,
             "solidity": 0.2
            },
            "type": "scatter"
           }
          ],
          "scatter3d": [
           {
            "line": {
             "colorbar": {
              "outlinewidth": 0,
              "ticks": ""
             }
            },
            "marker": {
             "colorbar": {
              "outlinewidth": 0,
              "ticks": ""
             }
            },
            "type": "scatter3d"
           }
          ],
          "scattercarpet": [
           {
            "marker": {
             "colorbar": {
              "outlinewidth": 0,
              "ticks": ""
             }
            },
            "type": "scattercarpet"
           }
          ],
          "scattergeo": [
           {
            "marker": {
             "colorbar": {
              "outlinewidth": 0,
              "ticks": ""
             }
            },
            "type": "scattergeo"
           }
          ],
          "scattergl": [
           {
            "marker": {
             "colorbar": {
              "outlinewidth": 0,
              "ticks": ""
             }
            },
            "type": "scattergl"
           }
          ],
          "scattermapbox": [
           {
            "marker": {
             "colorbar": {
              "outlinewidth": 0,
              "ticks": ""
             }
            },
            "type": "scattermapbox"
           }
          ],
          "scatterpolar": [
           {
            "marker": {
             "colorbar": {
              "outlinewidth": 0,
              "ticks": ""
             }
            },
            "type": "scatterpolar"
           }
          ],
          "scatterpolargl": [
           {
            "marker": {
             "colorbar": {
              "outlinewidth": 0,
              "ticks": ""
             }
            },
            "type": "scatterpolargl"
           }
          ],
          "scatterternary": [
           {
            "marker": {
             "colorbar": {
              "outlinewidth": 0,
              "ticks": ""
             }
            },
            "type": "scatterternary"
           }
          ],
          "surface": [
           {
            "colorbar": {
             "outlinewidth": 0,
             "ticks": ""
            },
            "colorscale": [
             [
              0,
              "#0d0887"
             ],
             [
              0.1111111111111111,
              "#46039f"
             ],
             [
              0.2222222222222222,
              "#7201a8"
             ],
             [
              0.3333333333333333,
              "#9c179e"
             ],
             [
              0.4444444444444444,
              "#bd3786"
             ],
             [
              0.5555555555555556,
              "#d8576b"
             ],
             [
              0.6666666666666666,
              "#ed7953"
             ],
             [
              0.7777777777777778,
              "#fb9f3a"
             ],
             [
              0.8888888888888888,
              "#fdca26"
             ],
             [
              1,
              "#f0f921"
             ]
            ],
            "type": "surface"
           }
          ],
          "table": [
           {
            "cells": {
             "fill": {
              "color": "#EBF0F8"
             },
             "line": {
              "color": "white"
             }
            },
            "header": {
             "fill": {
              "color": "#C8D4E3"
             },
             "line": {
              "color": "white"
             }
            },
            "type": "table"
           }
          ]
         },
         "layout": {
          "annotationdefaults": {
           "arrowcolor": "#2a3f5f",
           "arrowhead": 0,
           "arrowwidth": 1
          },
          "autotypenumbers": "strict",
          "coloraxis": {
           "colorbar": {
            "outlinewidth": 0,
            "ticks": ""
           }
          },
          "colorscale": {
           "diverging": [
            [
             0,
             "#8e0152"
            ],
            [
             0.1,
             "#c51b7d"
            ],
            [
             0.2,
             "#de77ae"
            ],
            [
             0.3,
             "#f1b6da"
            ],
            [
             0.4,
             "#fde0ef"
            ],
            [
             0.5,
             "#f7f7f7"
            ],
            [
             0.6,
             "#e6f5d0"
            ],
            [
             0.7,
             "#b8e186"
            ],
            [
             0.8,
             "#7fbc41"
            ],
            [
             0.9,
             "#4d9221"
            ],
            [
             1,
             "#276419"
            ]
           ],
           "sequential": [
            [
             0,
             "#0d0887"
            ],
            [
             0.1111111111111111,
             "#46039f"
            ],
            [
             0.2222222222222222,
             "#7201a8"
            ],
            [
             0.3333333333333333,
             "#9c179e"
            ],
            [
             0.4444444444444444,
             "#bd3786"
            ],
            [
             0.5555555555555556,
             "#d8576b"
            ],
            [
             0.6666666666666666,
             "#ed7953"
            ],
            [
             0.7777777777777778,
             "#fb9f3a"
            ],
            [
             0.8888888888888888,
             "#fdca26"
            ],
            [
             1,
             "#f0f921"
            ]
           ],
           "sequentialminus": [
            [
             0,
             "#0d0887"
            ],
            [
             0.1111111111111111,
             "#46039f"
            ],
            [
             0.2222222222222222,
             "#7201a8"
            ],
            [
             0.3333333333333333,
             "#9c179e"
            ],
            [
             0.4444444444444444,
             "#bd3786"
            ],
            [
             0.5555555555555556,
             "#d8576b"
            ],
            [
             0.6666666666666666,
             "#ed7953"
            ],
            [
             0.7777777777777778,
             "#fb9f3a"
            ],
            [
             0.8888888888888888,
             "#fdca26"
            ],
            [
             1,
             "#f0f921"
            ]
           ]
          },
          "colorway": [
           "#636efa",
           "#EF553B",
           "#00cc96",
           "#ab63fa",
           "#FFA15A",
           "#19d3f3",
           "#FF6692",
           "#B6E880",
           "#FF97FF",
           "#FECB52"
          ],
          "font": {
           "color": "#2a3f5f"
          },
          "geo": {
           "bgcolor": "white",
           "lakecolor": "white",
           "landcolor": "#E5ECF6",
           "showlakes": true,
           "showland": true,
           "subunitcolor": "white"
          },
          "hoverlabel": {
           "align": "left"
          },
          "hovermode": "closest",
          "mapbox": {
           "style": "light"
          },
          "paper_bgcolor": "white",
          "plot_bgcolor": "#E5ECF6",
          "polar": {
           "angularaxis": {
            "gridcolor": "white",
            "linecolor": "white",
            "ticks": ""
           },
           "bgcolor": "#E5ECF6",
           "radialaxis": {
            "gridcolor": "white",
            "linecolor": "white",
            "ticks": ""
           }
          },
          "scene": {
           "xaxis": {
            "backgroundcolor": "#E5ECF6",
            "gridcolor": "white",
            "gridwidth": 2,
            "linecolor": "white",
            "showbackground": true,
            "ticks": "",
            "zerolinecolor": "white"
           },
           "yaxis": {
            "backgroundcolor": "#E5ECF6",
            "gridcolor": "white",
            "gridwidth": 2,
            "linecolor": "white",
            "showbackground": true,
            "ticks": "",
            "zerolinecolor": "white"
           },
           "zaxis": {
            "backgroundcolor": "#E5ECF6",
            "gridcolor": "white",
            "gridwidth": 2,
            "linecolor": "white",
            "showbackground": true,
            "ticks": "",
            "zerolinecolor": "white"
           }
          },
          "shapedefaults": {
           "line": {
            "color": "#2a3f5f"
           }
          },
          "ternary": {
           "aaxis": {
            "gridcolor": "white",
            "linecolor": "white",
            "ticks": ""
           },
           "baxis": {
            "gridcolor": "white",
            "linecolor": "white",
            "ticks": ""
           },
           "bgcolor": "#E5ECF6",
           "caxis": {
            "gridcolor": "white",
            "linecolor": "white",
            "ticks": ""
           }
          },
          "title": {
           "x": 0.05
          },
          "xaxis": {
           "automargin": true,
           "gridcolor": "white",
           "linecolor": "white",
           "ticks": "",
           "title": {
            "standoff": 15
           },
           "zerolinecolor": "white",
           "zerolinewidth": 2
          },
          "yaxis": {
           "automargin": true,
           "gridcolor": "white",
           "linecolor": "white",
           "ticks": "",
           "title": {
            "standoff": 15
           },
           "zerolinecolor": "white",
           "zerolinewidth": 2
          }
         }
        },
        "title": {
         "font": {
          "color": "#4D5663"
         },
         "text": "Most frequent words in Corpus"
        },
        "xaxis": {
         "autorange": false,
         "gridcolor": "#E1E5ED",
         "range": [
          13.421066119938493,
          13.421066119938493
         ],
         "showgrid": true,
         "tickfont": {
          "color": "#4D5663"
         },
         "title": {
          "font": {
           "color": "#4D5663"
          },
          "text": "Word"
         },
         "type": "category",
         "zerolinecolor": "#E1E5ED"
        },
        "yaxis": {
         "autorange": false,
         "gridcolor": "#E1E5ED",
         "range": [
          31892.964181286552,
          31892.964181286552
         ],
         "showgrid": true,
         "tickfont": {
          "color": "#4D5663"
         },
         "title": {
          "font": {
           "color": "#4D5663"
          },
          "text": "Count"
         },
         "type": "linear",
         "zerolinecolor": "#E1E5ED"
        }
       }
      },
      "image/png": "[encoded data removed]",
      "text/html": [
       "<div>                            <div id=\"78eff3ae-b2cb-4e8c-8568-670d786c6296\" class=\"plotly-graph-div\" style=\"height:525px; width:100%;\"></div>            <script type=\"text/javascript\">                require([\"plotly\"], function(Plotly) {                    window.PLOTLYENV=window.PLOTLYENV || {};\n",
       "                    window.PLOTLYENV.BASE_URL='https://plot.ly';                                    if (document.getElementById(\"78eff3ae-b2cb-4e8c-8568-670d786c6296\")) {                    Plotly.newPlot(                        \"78eff3ae-b2cb-4e8c-8568-670d786c6296\",                        [{\"marker\":{\"color\":\"rgba(255, 153, 51, 0.6)\",\"line\":{\"color\":\"rgba(255, 153, 51, 1.0)\",\"width\":1}},\"name\":\"wordCount\",\"orientation\":\"v\",\"text\":\"\",\"x\":[\"wine\",\"flavors\",\"fruit\",\"aromas\",\"palate\",\"acidity\",\"finish\",\"tannins\",\"drink\",\"cherry\",\"ripe\",\"black\",\"notes\",\"red\",\"spice\",\"rich\",\"fresh\",\"nose\",\"oak\",\"dry\"],\"y\":[72115,57911,41562,36203,34700,32087,32087,28428,27537,25114,24763,23337,17447,17315,17309,16046,15517,15464,15386,14306],\"type\":\"bar\"}],                        {\"legend\":{\"bgcolor\":\"#F5F6F9\",\"font\":{\"color\":\"#4D5663\"}},\"paper_bgcolor\":\"#F5F6F9\",\"plot_bgcolor\":\"#F5F6F9\",\"template\":{\"data\":{\"barpolar\":[{\"marker\":{\"line\":{\"color\":\"#E5ECF6\",\"width\":0.5},\"pattern\":{\"fillmode\":\"overlay\",\"size\":10,\"solidity\":0.2}},\"type\":\"barpolar\"}],\"bar\":[{\"error_x\":{\"color\":\"#2a3f5f\"},\"error_y\":{\"color\":\"#2a3f5f\"},\"marker\":{\"line\":{\"color\":\"#E5ECF6\",\"width\":0.5},\"pattern\":{\"fillmode\":\"overlay\",\"size\":10,\"solidity\":0.2}},\"type\":\"bar\"}],\"carpet\":[{\"aaxis\":{\"endlinecolor\":\"#2a3f5f\",\"gridcolor\":\"white\",\"linecolor\":\"white\",\"minorgridcolor\":\"white\",\"startlinecolor\":\"#2a3f5f\"},\"baxis\":{\"endlinecolor\":\"#2a3f5f\",\"gridcolor\":\"white\",\"linecolor\":\"white\",\"minorgridcolor\":\"white\",\"startlinecolor\":\"#2a3f5f\"},\"type\":\"carpet\"}],\"choropleth\":[{\"colorbar\":{\"outlinewidth\":0,\"ticks\":\"\"},\"type\":\"choropleth\"}],\"contourcarpet\":[{\"colorbar\":{\"outlinewidth\":0,\"ticks\":\"\"},\"type\":\"contourcarpet\"}],\"contour\":[{\"colorbar\":{\"outlinewidth\":0,\"ticks\":\"\"},\"colorscale\":[[0.0,\"#0d0887\"],[0.1111111111111111,\"#46039f\"],[0.2222222222222222,\"#7201a8\"],[0.3333333333333333,\"#9c179e\"],[0.4444444444444444,\"#bd3786\"],[0.5555555555555556,\"#d8576b\"],[0.6666666666666666,\"#ed7953\"],[0.7777777777777778,\"#fb9f3a\"],[0.8888888888888888,\"#fdca26\"],[1.0,\"#f0f921\"]],\"type\":\"contour\"}],\"heatmapgl\":[{\"colorbar\":{\"outlinewidth\":0,\"ticks\":\"\"},\"colorscale\":[[0.0,\"#0d0887\"],[0.1111111111111111,\"#46039f\"],[0.2222222222222222,\"#7201a8\"],[0.3333333333333333,\"#9c179e\"],[0.4444444444444444,\"#bd3786\"],[0.5555555555555556,\"#d8576b\"],[0.6666666666666666,\"#ed7953\"],[0.7777777777777778,\"#fb9f3a\"],[0.8888888888888888,\"#fdca26\"],[1.0,\"#f0f921\"]],\"type\":\"heatmapgl\"}],\"heatmap\":[{\"colorbar\":{\"outlinewidth\":0,\"ticks\":\"\"},\"colorscale\":[[0.0,\"#0d0887\"],[0.1111111111111111,\"#46039f\"],[0.2222222222222222,\"#7201a8\"],[0.3333333333333333,\"#9c179e\"],[0.4444444444444444,\"#bd3786\"],[0.5555555555555556,\"#d8576b\"],[0.6666666666666666,\"#ed7953\"],[0.7777777777777778,\"#fb9f3a\"],[0.8888888888888888,\"#fdca26\"],[1.0,\"#f0f921\"]],\"type\":\"heatmap\"}],\"histogram2dcontour\":[{\"colorbar\":{\"outlinewidth\":0,\"ticks\":\"\"},\"colorscale\":[[0.0,\"#0d0887\"],[0.1111111111111111,\"#46039f\"],[0.2222222222222222,\"#7201a8\"],[0.3333333333333333,\"#9c179e\"],[0.4444444444444444,\"#bd3786\"],[0.5555555555555556,\"#d8576b\"],[0.6666666666666666,\"#ed7953\"],[0.7777777777777778,\"#fb9f3a\"],[0.8888888888888888,\"#fdca26\"],[1.0,\"#f0f921\"]],\"type\":\"histogram2dcontour\"}],\"histogram2d\":[{\"colorbar\":{\"outlinewidth\":0,\"ticks\":\"\"},\"colorscale\":[[0.0,\"#0d0887\"],[0.1111111111111111,\"#46039f\"],[0.2222222222222222,\"#7201a8\"],[0.3333333333333333,\"#9c179e\"],[0.4444444444444444,\"#bd3786\"],[0.5555555555555556,\"#d8576b\"],[0.6666666666666666,\"#ed7953\"],[0.7777777777777778,\"#fb9f3a\"],[0.8888888888888888,\"#fdca26\"],[1.0,\"#f0f921\"]],\"type\":\"histogram2d\"}],\"histogram\":[{\"marker\":{\"pattern\":{\"fillmode\":\"overlay\",\"size\":10,\"solidity\":0.2}},\"type\":\"histogram\"}],\"mesh3d\":[{\"colorbar\":{\"outlinewidth\":0,\"ticks\":\"\"},\"type\":\"mesh3d\"}],\"parcoords\":[{\"line\":{\"colorbar\":{\"outlinewidth\":0,\"ticks\":\"\"}},\"type\":\"parcoords\"}],\"pie\":[{\"automargin\":true,\"type\":\"pie\"}],\"scatter3d\":[{\"line\":{\"colorbar\":{\"outlinewidth\":0,\"ticks\":\"\"}},\"marker\":{\"colorbar\":{\"outlinewidth\":0,\"ticks\":\"\"}},\"type\":\"scatter3d\"}],\"scattercarpet\":[{\"marker\":{\"colorbar\":{\"outlinewidth\":0,\"ticks\":\"\"}},\"type\":\"scattercarpet\"}],\"scattergeo\":[{\"marker\":{\"colorbar\":{\"outlinewidth\":0,\"ticks\":\"\"}},\"type\":\"scattergeo\"}],\"scattergl\":[{\"marker\":{\"colorbar\":{\"outlinewidth\":0,\"ticks\":\"\"}},\"type\":\"scattergl\"}],\"scattermapbox\":[{\"marker\":{\"colorbar\":{\"outlinewidth\":0,\"ticks\":\"\"}},\"type\":\"scattermapbox\"}],\"scatterpolargl\":[{\"marker\":{\"colorbar\":{\"outlinewidth\":0,\"ticks\":\"\"}},\"type\":\"scatterpolargl\"}],\"scatterpolar\":[{\"marker\":{\"colorbar\":{\"outlinewidth\":0,\"ticks\":\"\"}},\"type\":\"scatterpolar\"}],\"scatter\":[{\"fillpattern\":{\"fillmode\":\"overlay\",\"size\":10,\"solidity\":0.2},\"type\":\"scatter\"}],\"scatterternary\":[{\"marker\":{\"colorbar\":{\"outlinewidth\":0,\"ticks\":\"\"}},\"type\":\"scatterternary\"}],\"surface\":[{\"colorbar\":{\"outlinewidth\":0,\"ticks\":\"\"},\"colorscale\":[[0.0,\"#0d0887\"],[0.1111111111111111,\"#46039f\"],[0.2222222222222222,\"#7201a8\"],[0.3333333333333333,\"#9c179e\"],[0.4444444444444444,\"#bd3786\"],[0.5555555555555556,\"#d8576b\"],[0.6666666666666666,\"#ed7953\"],[0.7777777777777778,\"#fb9f3a\"],[0.8888888888888888,\"#fdca26\"],[1.0,\"#f0f921\"]],\"type\":\"surface\"}],\"table\":[{\"cells\":{\"fill\":{\"color\":\"#EBF0F8\"},\"line\":{\"color\":\"white\"}},\"header\":{\"fill\":{\"color\":\"#C8D4E3\"},\"line\":{\"color\":\"white\"}},\"type\":\"table\"}]},\"layout\":{\"annotationdefaults\":{\"arrowcolor\":\"#2a3f5f\",\"arrowhead\":0,\"arrowwidth\":1},\"autotypenumbers\":\"strict\",\"coloraxis\":{\"colorbar\":{\"outlinewidth\":0,\"ticks\":\"\"}},\"colorscale\":{\"diverging\":[[0,\"#8e0152\"],[0.1,\"#c51b7d\"],[0.2,\"#de77ae\"],[0.3,\"#f1b6da\"],[0.4,\"#fde0ef\"],[0.5,\"#f7f7f7\"],[0.6,\"#e6f5d0\"],[0.7,\"#b8e186\"],[0.8,\"#7fbc41\"],[0.9,\"#4d9221\"],[1,\"#276419\"]],\"sequential\":[[0.0,\"#0d0887\"],[0.1111111111111111,\"#46039f\"],[0.2222222222222222,\"#7201a8\"],[0.3333333333333333,\"#9c179e\"],[0.4444444444444444,\"#bd3786\"],[0.5555555555555556,\"#d8576b\"],[0.6666666666666666,\"#ed7953\"],[0.7777777777777778,\"#fb9f3a\"],[0.8888888888888888,\"#fdca26\"],[1.0,\"#f0f921\"]],\"sequentialminus\":[[0.0,\"#0d0887\"],[0.1111111111111111,\"#46039f\"],[0.2222222222222222,\"#7201a8\"],[0.3333333333333333,\"#9c179e\"],[0.4444444444444444,\"#bd3786\"],[0.5555555555555556,\"#d8576b\"],[0.6666666666666666,\"#ed7953\"],[0.7777777777777778,\"#fb9f3a\"],[0.8888888888888888,\"#fdca26\"],[1.0,\"#f0f921\"]]},\"colorway\":[\"#636efa\",\"#EF553B\",\"#00cc96\",\"#ab63fa\",\"#FFA15A\",\"#19d3f3\",\"#FF6692\",\"#B6E880\",\"#FF97FF\",\"#FECB52\"],\"font\":{\"color\":\"#2a3f5f\"},\"geo\":{\"bgcolor\":\"white\",\"lakecolor\":\"white\",\"landcolor\":\"#E5ECF6\",\"showlakes\":true,\"showland\":true,\"subunitcolor\":\"white\"},\"hoverlabel\":{\"align\":\"left\"},\"hovermode\":\"closest\",\"mapbox\":{\"style\":\"light\"},\"paper_bgcolor\":\"white\",\"plot_bgcolor\":\"#E5ECF6\",\"polar\":{\"angularaxis\":{\"gridcolor\":\"white\",\"linecolor\":\"white\",\"ticks\":\"\"},\"bgcolor\":\"#E5ECF6\",\"radialaxis\":{\"gridcolor\":\"white\",\"linecolor\":\"white\",\"ticks\":\"\"}},\"scene\":{\"xaxis\":{\"backgroundcolor\":\"#E5ECF6\",\"gridcolor\":\"white\",\"gridwidth\":2,\"linecolor\":\"white\",\"showbackground\":true,\"ticks\":\"\",\"zerolinecolor\":\"white\"},\"yaxis\":{\"backgroundcolor\":\"#E5ECF6\",\"gridcolor\":\"white\",\"gridwidth\":2,\"linecolor\":\"white\",\"showbackground\":true,\"ticks\":\"\",\"zerolinecolor\":\"white\"},\"zaxis\":{\"backgroundcolor\":\"#E5ECF6\",\"gridcolor\":\"white\",\"gridwidth\":2,\"linecolor\":\"white\",\"showbackground\":true,\"ticks\":\"\",\"zerolinecolor\":\"white\"}},\"shapedefaults\":{\"line\":{\"color\":\"#2a3f5f\"}},\"ternary\":{\"aaxis\":{\"gridcolor\":\"white\",\"linecolor\":\"white\",\"ticks\":\"\"},\"baxis\":{\"gridcolor\":\"white\",\"linecolor\":\"white\",\"ticks\":\"\"},\"bgcolor\":\"#E5ECF6\",\"caxis\":{\"gridcolor\":\"white\",\"linecolor\":\"white\",\"ticks\":\"\"}},\"title\":{\"x\":0.05},\"xaxis\":{\"automargin\":true,\"gridcolor\":\"white\",\"linecolor\":\"white\",\"ticks\":\"\",\"title\":{\"standoff\":15},\"zerolinecolor\":\"white\",\"zerolinewidth\":2},\"yaxis\":{\"automargin\":true,\"gridcolor\":\"white\",\"linecolor\":\"white\",\"ticks\":\"\",\"title\":{\"standoff\":15},\"zerolinecolor\":\"white\",\"zerolinewidth\":2}}},\"title\":{\"font\":{\"color\":\"#4D5663\"},\"text\":\"Most frequent words in Corpus\"},\"xaxis\":{\"gridcolor\":\"#E1E5ED\",\"showgrid\":true,\"tickfont\":{\"color\":\"#4D5663\"},\"title\":{\"font\":{\"color\":\"#4D5663\"},\"text\":\"Word\"},\"zerolinecolor\":\"#E1E5ED\"},\"yaxis\":{\"gridcolor\":\"#E1E5ED\",\"showgrid\":true,\"tickfont\":{\"color\":\"#4D5663\"},\"title\":{\"font\":{\"color\":\"#4D5663\"},\"text\":\"Count\"},\"zerolinecolor\":\"#E1E5ED\"}},                        {\"showLink\": true, \"linkText\": \"Export to plot.ly\", \"plotlyServerURL\": \"https://plot.ly\", \"responsive\": true}                    ).then(function(){\n",
       "                            \n",
       "var gd = document.getElementById('78eff3ae-b2cb-4e8c-8568-670d786c6296');\n",
       "var x = new MutationObserver(function (mutations, observer) {{\n",
       "        var display = window.getComputedStyle(gd).display;\n",
       "        if (!display || display === 'none') {{\n",
       "            console.log([gd, 'removed!']);\n",
       "            Plotly.purge(gd);\n",
       "            observer.disconnect();\n",
       "        }}\n",
       "}});\n",
       "\n",
       "// Listen for the removal of the full notebook cells\n",
       "var notebookContainer = gd.closest('#notebook-container');\n",
       "if (notebookContainer) {{\n",
       "    x.observe(notebookContainer, {childList: true});\n",
       "}}\n",
       "\n",
       "// Listen for the clearing of the current output cell\n",
       "var outputEl = gd.closest('.output');\n",
       "if (outputEl) {{\n",
       "    x.observe(outputEl, {childList: true});\n",
       "}}\n",
       "\n",
       "                        })                };                });            </script>        </div>"
      ]
     },
     "metadata": {},
     "output_type": "display_data"
    }
   ],
   "source": [
    "words_df.set_index('word').wordCount.head(20).iplot(kind = 'bar', title = 'Most frequent words in Corpus', yTitle = 'Count', xTitle = 'Word')"
   ]
  },
  {
   "cell_type": "markdown",
   "id": "59cc7ba1-a744-482b-9300-c46f4f6d4732",
   "metadata": {
    "tags": []
   },
   "source": [
    "#### Prepare textual data only for Test"
   ]
  },
  {
   "cell_type": "code",
   "execution_count": 63,
   "id": "9fc374a2-4015-4e00-b0e7-e452013c7cbb",
   "metadata": {},
   "outputs": [
    {
     "data": {
      "text/plain": [
       "((95940, 9), (23984, 9))"
      ]
     },
     "execution_count": 63,
     "metadata": {},
     "output_type": "execute_result"
    }
   ],
   "source": [
    "test_df, train_df = train_test_split(wine_reviews_desc, test_size=0.8, random_state=42)\n",
    "train_df.shape, test_df.shape"
   ]
  },
  {
   "cell_type": "raw",
   "id": "78e13a82-9a40-422e-85f7-e3e49af79dcd",
   "metadata": {},
   "source": [
    "train_words = get_words(train_df.description_pure)\n",
    "words_df = create_words_wocabulary(train_words)"
   ]
  },
  {
   "cell_type": "code",
   "execution_count": 64,
   "id": "8e9825b9-b4b2-48ca-91ef-60e87bd5e381",
   "metadata": {},
   "outputs": [
    {
     "name": "stdout",
     "output_type": "stream",
     "text": [
      "      word  wordCount  wordImportance  wordImportanceRelative\n",
      "0     wine      72115        1.618634                1.000000\n",
      "1  flavors      57911        1.299823                0.803037\n",
      "2    fruit      41562        0.932866                0.576329\n",
      "3   aromas      36203        0.812583                0.502018\n",
      "4   palate      34700        0.778848                0.481176\n"
     ]
    },
    {
     "data": {
      "text/html": [
       "<div>\n",
       "<style scoped>\n",
       "    .dataframe tbody tr th:only-of-type {\n",
       "        vertical-align: middle;\n",
       "    }\n",
       "\n",
       "    .dataframe tbody tr th {\n",
       "        vertical-align: top;\n",
       "    }\n",
       "\n",
       "    .dataframe thead th {\n",
       "        text-align: right;\n",
       "    }\n",
       "</style>\n",
       "<table border=\"1\" class=\"dataframe\">\n",
       "  <thead>\n",
       "    <tr style=\"text-align: right;\">\n",
       "      <th></th>\n",
       "      <th>word</th>\n",
       "      <th>wordCount</th>\n",
       "      <th>wordImportance</th>\n",
       "      <th>wordImportanceRelative</th>\n",
       "    </tr>\n",
       "  </thead>\n",
       "  <tbody>\n",
       "    <tr>\n",
       "      <th>42306</th>\n",
       "      <td>developing—</td>\n",
       "      <td>1</td>\n",
       "      <td>0.000022</td>\n",
       "      <td>0.000014</td>\n",
       "    </tr>\n",
       "    <tr>\n",
       "      <th>22991</th>\n",
       "      <td>cálem</td>\n",
       "      <td>2</td>\n",
       "      <td>0.000045</td>\n",
       "      <td>0.000028</td>\n",
       "    </tr>\n",
       "    <tr>\n",
       "      <th>5541</th>\n",
       "      <td>bells</td>\n",
       "      <td>24</td>\n",
       "      <td>0.000539</td>\n",
       "      <td>0.000333</td>\n",
       "    </tr>\n",
       "    <tr>\n",
       "      <th>43620</th>\n",
       "      <td>torreforte</td>\n",
       "      <td>1</td>\n",
       "      <td>0.000022</td>\n",
       "      <td>0.000014</td>\n",
       "    </tr>\n",
       "    <tr>\n",
       "      <th>38029</th>\n",
       "      <td>many—firm</td>\n",
       "      <td>1</td>\n",
       "      <td>0.000022</td>\n",
       "      <td>0.000014</td>\n",
       "    </tr>\n",
       "  </tbody>\n",
       "</table>\n",
       "</div>"
      ],
      "text/plain": [
       "              word  wordCount  wordImportance  wordImportanceRelative\n",
       "42306  developing—          1        0.000022                0.000014\n",
       "22991        cálem          2        0.000045                0.000028\n",
       "5541         bells         24        0.000539                0.000333\n",
       "43620   torreforte          1        0.000022                0.000014\n",
       "38029    many—firm          1        0.000022                0.000014"
      ]
     },
     "execution_count": 64,
     "metadata": {},
     "output_type": "execute_result"
    }
   ],
   "source": [
    "print(words_df.sort_values(by=\"wordImportance\", ascending=False).head())\n",
    "words_df.sample(5)"
   ]
  },
  {
   "cell_type": "code",
   "execution_count": 65,
   "id": "fb6335b0-0d45-4dd3-b24e-6e8e35214aef",
   "metadata": {},
   "outputs": [
    {
     "name": "stdout",
     "output_type": "stream",
     "text": [
      "(32774, 4)\n",
      "(11779, 4)\n"
     ]
    },
    {
     "data": {
      "text/plain": [
       "(11779, 4)"
      ]
     },
     "execution_count": 65,
     "metadata": {},
     "output_type": "execute_result"
    }
   ],
   "source": [
    "k = 5\n",
    "print(words_df[words_df.wordCount <=k].shape)\n",
    "print(words_df[words_df.wordCount >k].shape)\n",
    "most_pop_words_df = words_df[words_df.wordCount >k]\n",
    "most_pop_words_df.shape"
   ]
  },
  {
   "cell_type": "code",
   "execution_count": 66,
   "id": "d36f13ef-a7b2-4c10-897e-8ba023e23455",
   "metadata": {},
   "outputs": [],
   "source": [
    "clean_vocab = set(most_pop_words_df.word)"
   ]
  },
  {
   "cell_type": "code",
   "execution_count": 67,
   "id": "0e12bd63-4ff9-44ba-9f63-ba8a2defc3d8",
   "metadata": {},
   "outputs": [
    {
     "name": "stderr",
     "output_type": "stream",
     "text": [
      "C:\\Users\\olgas\\AppData\\Roaming\\Python\\Python39\\site-packages\\sklearn\\feature_extraction\\text.py:528: UserWarning:\n",
      "\n",
      "The parameter 'token_pattern' will not be used since 'tokenizer' is not None'\n",
      "\n"
     ]
    },
    {
     "data": {
      "text/plain": [
       "((95940, 11779), (23984, 11779))"
      ]
     },
     "execution_count": 67,
     "metadata": {},
     "output_type": "execute_result"
    }
   ],
   "source": [
    "count_vect = CountVectorizer(vocabulary = clean_vocab, tokenizer=nltk.word_tokenize)\n",
    "train_bow_counts = count_vect.fit_transform(train_df.description_pure)\n",
    "test_bow_counts = count_vect.transform(test_df.description_pure)\n",
    "train_bow_counts.shape, test_bow_counts.shape"
   ]
  },
  {
   "cell_type": "code",
   "execution_count": 68,
   "id": "4f6f54e5-d3e0-44c0-bf18-c34f07666273",
   "metadata": {},
   "outputs": [
    {
     "data": {
      "text/plain": [
       "((95940, 11779), (23984, 11779))"
      ]
     },
     "execution_count": 68,
     "metadata": {},
     "output_type": "execute_result"
    }
   ],
   "source": [
    "tf_idf_vectorizer = TfidfVectorizer(vocabulary = clean_vocab)\n",
    "train_bow_tfidf = tf_idf_vectorizer.fit_transform(train_df.description_pure)\n",
    "test_bow_tfidf = tf_idf_vectorizer.transform(test_df.description_pure)\n",
    "train_bow_tfidf.shape, test_bow_tfidf.shape"
   ]
  },
  {
   "cell_type": "markdown",
   "id": "8b7b2899-39a0-40e1-a47e-d0ff68439916",
   "metadata": {
    "tags": []
   },
   "source": [
    "## Text Classification"
   ]
  },
  {
   "cell_type": "code",
   "execution_count": 70,
   "id": "e4de8d33-43aa-4124-9d34-200db000e819",
   "metadata": {},
   "outputs": [
    {
     "name": "stderr",
     "output_type": "stream",
     "text": [
      "UsageError: %%capture is a cell magic, but the cell body is empty.\n"
     ]
    }
   ],
   "source": [
    "%%capture"
   ]
  },
  {
   "cell_type": "code",
   "execution_count": 71,
   "id": "5bf44333-b611-4ce6-a876-0af5245b171a",
   "metadata": {},
   "outputs": [],
   "source": [
    "from sklearn.metrics import mean_squared_error, r2_score"
   ]
  },
  {
   "cell_type": "code",
   "execution_count": 72,
   "id": "451c1e2a-b680-41d0-873a-12209ccd9276",
   "metadata": {},
   "outputs": [],
   "source": [
    "model1 = Ridge(alpha=10)\n",
    "reg = model1.fit(X=train_bow_tfidf, y=train_df.points)\n",
    "#reg.score(train_bow_tfidf, train_df.points)"
   ]
  },
  {
   "cell_type": "code",
   "execution_count": 73,
   "id": "e1ed87ae-df36-4329-96d6-3f809dacbcec",
   "metadata": {},
   "outputs": [],
   "source": [
    "predicted_points = reg.predict(test_bow_tfidf)"
   ]
  },
  {
   "cell_type": "code",
   "execution_count": 74,
   "id": "3ffa7f46-6cdf-4708-99b5-bd7f3331c56c",
   "metadata": {},
   "outputs": [
    {
     "data": {
      "text/plain": [
       "0.6441387270354486"
      ]
     },
     "execution_count": 74,
     "metadata": {},
     "output_type": "execute_result"
    }
   ],
   "source": [
    "reg.score(test_bow_tfidf, test_df.points)"
   ]
  },
  {
   "cell_type": "code",
   "execution_count": 75,
   "id": "01133a45-6bda-4a76-853b-50949c9b594b",
   "metadata": {},
   "outputs": [
    {
     "name": "stdout",
     "output_type": "stream",
     "text": [
      "Mean squared error: 3.43\n",
      "Coefficient of determination: 0.64\n"
     ]
    }
   ],
   "source": [
    "from sklearn.metrics import mean_squared_error, r2_score\n",
    "print(\"Mean squared error: %.2f\" % mean_squared_error(test_df.points, predicted_points))\n",
    "# The coefficient of determination: 1 is perfect prediction\n",
    "print(\"Coefficient of determination: %.2f\" % r2_score(test_df.points, predicted_points))"
   ]
  },
  {
   "cell_type": "code",
   "execution_count": 76,
   "id": "9d8e988c-f687-4dd1-8ab3-2f15d44159f8",
   "metadata": {},
   "outputs": [
    {
     "name": "stdout",
     "output_type": "stream",
     "text": [
      "Mean squared error: 3.43\n",
      "Coefficient of determination: 0.64\n"
     ]
    }
   ],
   "source": [
    "points_predicted = reg.predict(test_bow_tfidf)\n",
    "print(\"Mean squared error: %.2f\" % mean_squared_error(test_df.points, points_predicted))\n",
    "# The coefficient of determination: 1 is perfect prediction\n",
    "print(\"Coefficient of determination: %.2f\" % r2_score(test_df.points, points_predicted))\n",
    "predicted_df = DataFrame()\n",
    "predicted_df[\"actual\"] = test_df.points\n",
    "predicted_df[\"predicted\"] = points_predicted"
   ]
  },
  {
   "cell_type": "code",
   "execution_count": 77,
   "id": "f9434b17-5405-4320-a43c-fcf0830f06df",
   "metadata": {},
   "outputs": [
    {
     "data": {
      "text/html": [
       "<div>\n",
       "<style scoped>\n",
       "    .dataframe tbody tr th:only-of-type {\n",
       "        vertical-align: middle;\n",
       "    }\n",
       "\n",
       "    .dataframe tbody tr th {\n",
       "        vertical-align: top;\n",
       "    }\n",
       "\n",
       "    .dataframe thead th {\n",
       "        text-align: right;\n",
       "    }\n",
       "</style>\n",
       "<table border=\"1\" class=\"dataframe\">\n",
       "  <thead>\n",
       "    <tr style=\"text-align: right;\">\n",
       "      <th></th>\n",
       "      <th>word</th>\n",
       "      <th>weight</th>\n",
       "      <th>absW</th>\n",
       "    </tr>\n",
       "  </thead>\n",
       "  <tbody>\n",
       "    <tr>\n",
       "      <th>773</th>\n",
       "      <td>beautiful</td>\n",
       "      <td>6.566269</td>\n",
       "      <td>6.566269</td>\n",
       "    </tr>\n",
       "    <tr>\n",
       "      <th>4457</th>\n",
       "      <td>gorgeous</td>\n",
       "      <td>6.185152</td>\n",
       "      <td>6.185152</td>\n",
       "    </tr>\n",
       "    <tr>\n",
       "      <th>2148</th>\n",
       "      <td>complex</td>\n",
       "      <td>5.660295</td>\n",
       "      <td>5.660295</td>\n",
       "    </tr>\n",
       "    <tr>\n",
       "      <th>774</th>\n",
       "      <td>beautifully</td>\n",
       "      <td>5.655558</td>\n",
       "      <td>5.655558</td>\n",
       "    </tr>\n",
       "    <tr>\n",
       "      <th>8860</th>\n",
       "      <td>sample</td>\n",
       "      <td>5.471939</td>\n",
       "      <td>5.471939</td>\n",
       "    </tr>\n",
       "    <tr>\n",
       "      <th>5898</th>\n",
       "      <td>long</td>\n",
       "      <td>5.318465</td>\n",
       "      <td>5.318465</td>\n",
       "    </tr>\n",
       "    <tr>\n",
       "      <th>5081</th>\n",
       "      <td>impressive</td>\n",
       "      <td>5.298521</td>\n",
       "      <td>5.298521</td>\n",
       "    </tr>\n",
       "    <tr>\n",
       "      <th>10101</th>\n",
       "      <td>superb</td>\n",
       "      <td>5.265397</td>\n",
       "      <td>5.265397</td>\n",
       "    </tr>\n",
       "    <tr>\n",
       "      <th>5524</th>\n",
       "      <td>lacks</td>\n",
       "      <td>-5.243830</td>\n",
       "      <td>5.243830</td>\n",
       "    </tr>\n",
       "    <tr>\n",
       "      <th>9316</th>\n",
       "      <td>simple</td>\n",
       "      <td>-5.131949</td>\n",
       "      <td>5.131949</td>\n",
       "    </tr>\n",
       "  </tbody>\n",
       "</table>\n",
       "</div>"
      ],
      "text/plain": [
       "              word    weight      absW\n",
       "773      beautiful  6.566269  6.566269\n",
       "4457      gorgeous  6.185152  6.185152\n",
       "2148       complex  5.660295  5.660295\n",
       "774    beautifully  5.655558  5.655558\n",
       "8860        sample  5.471939  5.471939\n",
       "5898          long  5.318465  5.318465\n",
       "5081    impressive  5.298521  5.298521\n",
       "10101       superb  5.265397  5.265397\n",
       "5524         lacks -5.243830  5.243830\n",
       "9316        simple -5.131949  5.131949"
      ]
     },
     "execution_count": 77,
     "metadata": {},
     "output_type": "execute_result"
    }
   ],
   "source": [
    "import plotly_express as px\n",
    "\n",
    "rev_dict = {v:k for k,v in count_vect.vocabulary_.items()}\n",
    "weights = model1.coef_.flatten()\n",
    "words = [rev_dict[i] for i in range(len(weights))]\n",
    "feature_weights = DataFrame({'word': words, 'weight': weights, 'absW': abs(weights)})\n",
    "feature_weights.sort_values(by = 'absW', ascending = False, inplace = True)\n",
    "feature_weights.head(10)"
   ]
  },
  {
   "cell_type": "code",
   "execution_count": 79,
   "id": "bf2b23b4-449c-4f31-8548-fd3b31cdcef0",
   "metadata": {},
   "outputs": [
    {
     "name": "stdout",
     "output_type": "stream",
     "text": [
      "Mean squared error: 3.01\n",
      "Coefficient of determination: 0.69\n",
      "Coefficient of training: 0.74\n",
      "(23984, 9)\n",
      "(23984,)\n"
     ]
    }
   ],
   "source": [
    "points_predicted = reg.predict(test_bow_counts)\n",
    "train_point_predicted = reg.predict(train_bow_counts)\n",
    "mean_test = mean_squared_error(test_df.points, points_predicted)\n",
    "mean_train = mean_squared_error(train_df.points, train_point_predicted)\n",
    "r2_test = r2_score(test_df.points, points_predicted)\n",
    "r2_train = r2_score(train_df.points, train_point_predicted)\n",
    "\n",
    "print(\"Mean squared error: %.2f\" % mean_squared_error(test_df.points, points_predicted))\n",
    "# The coefficient of determination: 1 is perfect prediction\n",
    "print(\"Coefficient of determination: %.2f\" % r2_score(test_df.points, points_predicted))\n",
    "print(\"Coefficient of training: %.2f\" % r2_score(train_df.points, train_point_predicted))\n",
    "print(test_df.shape)\n",
    "\n",
    "print(points_predicted.shape)"
   ]
  },
  {
   "cell_type": "code",
   "execution_count": 78,
   "id": "5be2e6a8-0eb6-4f2d-96a5-fc40f4ca8736",
   "metadata": {},
   "outputs": [
    {
     "data": {
      "text/plain": [
       "0.7372889530424097"
      ]
     },
     "execution_count": 78,
     "metadata": {},
     "output_type": "execute_result"
    }
   ],
   "source": [
    "model2 = Ridge(alpha=10)\n",
    "reg = model2.fit(X=train_bow_counts, y=train_df.points)\n",
    "reg.score(train_bow_counts, train_df.points)"
   ]
  },
  {
   "cell_type": "code",
   "execution_count": 82,
   "id": "5ac27a69-3dbf-4de7-9bd2-d94e676db678",
   "metadata": {},
   "outputs": [
    {
     "name": "stderr",
     "output_type": "stream",
     "text": [
      "C:\\Users\\olgas\\AppData\\Local\\Temp\\ipykernel_19968\\3025983835.py:1: FutureWarning:\n",
      "\n",
      "The frame.append method is deprecated and will be removed from pandas in a future version. Use pandas.concat instead.\n",
      "\n"
     ]
    }
   ],
   "source": [
    "results_df = results_df.append({'name':\"description only, popular words\", 'classifier':\"Ridge\", 'alpha': 10, 'reduction':\"None\", 'test_r2': r2_test, 'test_mse':mean_test, 'train_r2': r2_train, \"train_mse\": mean_train}, ignore_index=True)\n"
   ]
  },
  {
   "cell_type": "code",
   "execution_count": 81,
   "id": "1b6d6c15-ddee-4874-a4af-e512973bb372",
   "metadata": {},
   "outputs": [
    {
     "ename": "ValueError",
     "evalue": "Found input variables with inconsistent numbers of samples: [23984, 23985]",
     "output_type": "error",
     "traceback": [
      "\u001b[1;31m---------------------------------------------------------------------------\u001b[0m",
      "\u001b[1;31mValueError\u001b[0m                                Traceback (most recent call last)",
      "\u001b[1;32m~\\AppData\\Local\\Temp\\ipykernel_19968\\3161928542.py\u001b[0m in \u001b[0;36m<module>\u001b[1;34m\u001b[0m\n\u001b[1;32m----> 1\u001b[1;33m \u001b[0mresults_df\u001b[0m \u001b[1;33m=\u001b[0m \u001b[0mappend_to_results\u001b[0m\u001b[1;33m(\u001b[0m\u001b[1;34m\"description only, popular words\"\u001b[0m\u001b[1;33m,\u001b[0m\u001b[1;34m\"Ridge\"\u001b[0m\u001b[1;33m,\u001b[0m \u001b[1;34m\"10\"\u001b[0m\u001b[1;33m,\u001b[0m \u001b[1;34m\"None\"\u001b[0m\u001b[1;33m,\u001b[0m \u001b[0mtest_df\u001b[0m\u001b[1;33m.\u001b[0m\u001b[0mpoints\u001b[0m\u001b[1;33m,\u001b[0m \u001b[0mpoints_predicted\u001b[0m\u001b[1;33m,\u001b[0m \u001b[0mtrain_df\u001b[0m\u001b[1;33m.\u001b[0m\u001b[0mpoints\u001b[0m\u001b[1;33m,\u001b[0m \u001b[0mtrain_point_predicted\u001b[0m\u001b[1;33m)\u001b[0m\u001b[1;33m\u001b[0m\u001b[1;33m\u001b[0m\u001b[0m\n\u001b[0m\u001b[0;32m      2\u001b[0m \u001b[1;31m#results_df.at[4, 'test_r2'] = 0.69\u001b[0m\u001b[1;33m\u001b[0m\u001b[1;33m\u001b[0m\u001b[0m\n",
      "\u001b[1;32m~\\AppData\\Local\\Temp\\ipykernel_19968\\16745098.py\u001b[0m in \u001b[0;36mappend_to_results\u001b[1;34m(name, classifier, alpha, reduction, y_test, y_predict, y_train, y_train_predicted)\u001b[0m\n\u001b[0;32m      2\u001b[0m \u001b[1;33m\u001b[0m\u001b[0m\n\u001b[0;32m      3\u001b[0m \u001b[1;32mdef\u001b[0m \u001b[0mappend_to_results\u001b[0m\u001b[1;33m(\u001b[0m\u001b[0mname\u001b[0m\u001b[1;33m,\u001b[0m \u001b[0mclassifier\u001b[0m\u001b[1;33m,\u001b[0m \u001b[0malpha\u001b[0m\u001b[1;33m,\u001b[0m \u001b[0mreduction\u001b[0m\u001b[1;33m,\u001b[0m \u001b[0my_test\u001b[0m\u001b[1;33m,\u001b[0m \u001b[0my_predict\u001b[0m\u001b[1;33m,\u001b[0m \u001b[0my_train\u001b[0m\u001b[1;33m,\u001b[0m \u001b[0my_train_predicted\u001b[0m\u001b[1;33m)\u001b[0m\u001b[1;33m:\u001b[0m\u001b[1;33m\u001b[0m\u001b[1;33m\u001b[0m\u001b[0m\n\u001b[1;32m----> 4\u001b[1;33m     \u001b[0mtest_r2\u001b[0m \u001b[1;33m=\u001b[0m \u001b[0mr2_score\u001b[0m\u001b[1;33m(\u001b[0m\u001b[0my_test\u001b[0m\u001b[1;33m,\u001b[0m \u001b[0my_predicted\u001b[0m\u001b[1;33m)\u001b[0m\u001b[1;33m,\u001b[0m\u001b[1;33m\u001b[0m\u001b[1;33m\u001b[0m\u001b[0m\n\u001b[0m\u001b[0;32m      5\u001b[0m     \u001b[0mtest_mse\u001b[0m \u001b[1;33m=\u001b[0m \u001b[0mmean_squared_error\u001b[0m\u001b[1;33m(\u001b[0m\u001b[0my_test\u001b[0m\u001b[1;33m,\u001b[0m \u001b[0my_predicted\u001b[0m\u001b[1;33m)\u001b[0m\u001b[1;33m\u001b[0m\u001b[1;33m\u001b[0m\u001b[0m\n\u001b[0;32m      6\u001b[0m     \u001b[0mtrain_r2\u001b[0m \u001b[1;33m=\u001b[0m \u001b[0mr2_score\u001b[0m\u001b[1;33m(\u001b[0m\u001b[0my_train\u001b[0m\u001b[1;33m,\u001b[0m \u001b[0my_train_predicted\u001b[0m\u001b[1;33m)\u001b[0m\u001b[1;33m\u001b[0m\u001b[1;33m\u001b[0m\u001b[0m\n",
      "\u001b[1;32m~\\AppData\\Roaming\\Python\\Python39\\site-packages\\sklearn\\metrics\\_regression.py\u001b[0m in \u001b[0;36mr2_score\u001b[1;34m(y_true, y_pred, sample_weight, multioutput, force_finite)\u001b[0m\n\u001b[0;32m    909\u001b[0m     \u001b[1;33m-\u001b[0m\u001b[0minf\u001b[0m\u001b[1;33m\u001b[0m\u001b[1;33m\u001b[0m\u001b[0m\n\u001b[0;32m    910\u001b[0m     \"\"\"\n\u001b[1;32m--> 911\u001b[1;33m     y_type, y_true, y_pred, multioutput = _check_reg_targets(\n\u001b[0m\u001b[0;32m    912\u001b[0m         \u001b[0my_true\u001b[0m\u001b[1;33m,\u001b[0m \u001b[0my_pred\u001b[0m\u001b[1;33m,\u001b[0m \u001b[0mmultioutput\u001b[0m\u001b[1;33m\u001b[0m\u001b[1;33m\u001b[0m\u001b[0m\n\u001b[0;32m    913\u001b[0m     )\n",
      "\u001b[1;32m~\\AppData\\Roaming\\Python\\Python39\\site-packages\\sklearn\\metrics\\_regression.py\u001b[0m in \u001b[0;36m_check_reg_targets\u001b[1;34m(y_true, y_pred, multioutput, dtype)\u001b[0m\n\u001b[0;32m     98\u001b[0m         \u001b[0mcorrect\u001b[0m \u001b[0mkeyword\u001b[0m\u001b[1;33m.\u001b[0m\u001b[1;33m\u001b[0m\u001b[1;33m\u001b[0m\u001b[0m\n\u001b[0;32m     99\u001b[0m     \"\"\"\n\u001b[1;32m--> 100\u001b[1;33m     \u001b[0mcheck_consistent_length\u001b[0m\u001b[1;33m(\u001b[0m\u001b[0my_true\u001b[0m\u001b[1;33m,\u001b[0m \u001b[0my_pred\u001b[0m\u001b[1;33m)\u001b[0m\u001b[1;33m\u001b[0m\u001b[1;33m\u001b[0m\u001b[0m\n\u001b[0m\u001b[0;32m    101\u001b[0m     \u001b[0my_true\u001b[0m \u001b[1;33m=\u001b[0m \u001b[0mcheck_array\u001b[0m\u001b[1;33m(\u001b[0m\u001b[0my_true\u001b[0m\u001b[1;33m,\u001b[0m \u001b[0mensure_2d\u001b[0m\u001b[1;33m=\u001b[0m\u001b[1;32mFalse\u001b[0m\u001b[1;33m,\u001b[0m \u001b[0mdtype\u001b[0m\u001b[1;33m=\u001b[0m\u001b[0mdtype\u001b[0m\u001b[1;33m)\u001b[0m\u001b[1;33m\u001b[0m\u001b[1;33m\u001b[0m\u001b[0m\n\u001b[0;32m    102\u001b[0m     \u001b[0my_pred\u001b[0m \u001b[1;33m=\u001b[0m \u001b[0mcheck_array\u001b[0m\u001b[1;33m(\u001b[0m\u001b[0my_pred\u001b[0m\u001b[1;33m,\u001b[0m \u001b[0mensure_2d\u001b[0m\u001b[1;33m=\u001b[0m\u001b[1;32mFalse\u001b[0m\u001b[1;33m,\u001b[0m \u001b[0mdtype\u001b[0m\u001b[1;33m=\u001b[0m\u001b[0mdtype\u001b[0m\u001b[1;33m)\u001b[0m\u001b[1;33m\u001b[0m\u001b[1;33m\u001b[0m\u001b[0m\n",
      "\u001b[1;32m~\\AppData\\Roaming\\Python\\Python39\\site-packages\\sklearn\\utils\\validation.py\u001b[0m in \u001b[0;36mcheck_consistent_length\u001b[1;34m(*arrays)\u001b[0m\n\u001b[0;32m    395\u001b[0m     \u001b[0muniques\u001b[0m \u001b[1;33m=\u001b[0m \u001b[0mnp\u001b[0m\u001b[1;33m.\u001b[0m\u001b[0munique\u001b[0m\u001b[1;33m(\u001b[0m\u001b[0mlengths\u001b[0m\u001b[1;33m)\u001b[0m\u001b[1;33m\u001b[0m\u001b[1;33m\u001b[0m\u001b[0m\n\u001b[0;32m    396\u001b[0m     \u001b[1;32mif\u001b[0m \u001b[0mlen\u001b[0m\u001b[1;33m(\u001b[0m\u001b[0muniques\u001b[0m\u001b[1;33m)\u001b[0m \u001b[1;33m>\u001b[0m \u001b[1;36m1\u001b[0m\u001b[1;33m:\u001b[0m\u001b[1;33m\u001b[0m\u001b[1;33m\u001b[0m\u001b[0m\n\u001b[1;32m--> 397\u001b[1;33m         raise ValueError(\n\u001b[0m\u001b[0;32m    398\u001b[0m             \u001b[1;34m\"Found input variables with inconsistent numbers of samples: %r\"\u001b[0m\u001b[1;33m\u001b[0m\u001b[1;33m\u001b[0m\u001b[0m\n\u001b[0;32m    399\u001b[0m             \u001b[1;33m%\u001b[0m \u001b[1;33m[\u001b[0m\u001b[0mint\u001b[0m\u001b[1;33m(\u001b[0m\u001b[0ml\u001b[0m\u001b[1;33m)\u001b[0m \u001b[1;32mfor\u001b[0m \u001b[0ml\u001b[0m \u001b[1;32min\u001b[0m \u001b[0mlengths\u001b[0m\u001b[1;33m]\u001b[0m\u001b[1;33m\u001b[0m\u001b[1;33m\u001b[0m\u001b[0m\n",
      "\u001b[1;31mValueError\u001b[0m: Found input variables with inconsistent numbers of samples: [23984, 23985]"
     ]
    }
   ],
   "source": [
    "#results_df = append_to_results(\"description only, popular words\",\"Ridge\", \"10\", \"None\", test_df.points, points_predicted, train_df.points, train_point_predicted)\n",
    "#results_df.at[4, 'test_r2'] = 0.69"
   ]
  },
  {
   "cell_type": "code",
   "execution_count": 83,
   "id": "bd582522-69f2-4fe0-97cf-e741412c4c96",
   "metadata": {},
   "outputs": [
    {
     "data": {
      "text/html": [
       "<div>\n",
       "<style scoped>\n",
       "    .dataframe tbody tr th:only-of-type {\n",
       "        vertical-align: middle;\n",
       "    }\n",
       "\n",
       "    .dataframe tbody tr th {\n",
       "        vertical-align: top;\n",
       "    }\n",
       "\n",
       "    .dataframe thead th {\n",
       "        text-align: right;\n",
       "    }\n",
       "</style>\n",
       "<table border=\"1\" class=\"dataframe\">\n",
       "  <thead>\n",
       "    <tr style=\"text-align: right;\">\n",
       "      <th></th>\n",
       "      <th>name</th>\n",
       "      <th>classifier</th>\n",
       "      <th>alpha</th>\n",
       "      <th>reduction</th>\n",
       "      <th>train_r2</th>\n",
       "      <th>train_mse</th>\n",
       "      <th>test_r2</th>\n",
       "      <th>test_mse</th>\n",
       "    </tr>\n",
       "  </thead>\n",
       "  <tbody>\n",
       "    <tr>\n",
       "      <th>0</th>\n",
       "      <td>all categories and price</td>\n",
       "      <td>Ridge</td>\n",
       "      <td>10</td>\n",
       "      <td>None</td>\n",
       "      <td>0.305234</td>\n",
       "      <td>6.647890</td>\n",
       "      <td>(0.30081382552241454,)</td>\n",
       "      <td>6.688209</td>\n",
       "    </tr>\n",
       "    <tr>\n",
       "      <th>1</th>\n",
       "      <td>partial categories and price</td>\n",
       "      <td>Ridge</td>\n",
       "      <td>1</td>\n",
       "      <td>None</td>\n",
       "      <td>0.294004</td>\n",
       "      <td>6.755348</td>\n",
       "      <td>(0.2935037872691477,)</td>\n",
       "      <td>6.758134</td>\n",
       "    </tr>\n",
       "    <tr>\n",
       "      <th>2</th>\n",
       "      <td>all categories price with log</td>\n",
       "      <td>Ridge</td>\n",
       "      <td>10</td>\n",
       "      <td>None</td>\n",
       "      <td>0.439686</td>\n",
       "      <td>5.361382</td>\n",
       "      <td>(0.4265526223611692,)</td>\n",
       "      <td>5.485428</td>\n",
       "    </tr>\n",
       "    <tr>\n",
       "      <th>3</th>\n",
       "      <td>all categories price limited price with log</td>\n",
       "      <td>Ridge</td>\n",
       "      <td>10</td>\n",
       "      <td>None</td>\n",
       "      <td>0.439272</td>\n",
       "      <td>5.365345</td>\n",
       "      <td>(0.4262236339612465,)</td>\n",
       "      <td>5.488575</td>\n",
       "    </tr>\n",
       "    <tr>\n",
       "      <th>4</th>\n",
       "      <td>description only, popular words</td>\n",
       "      <td>Ridge</td>\n",
       "      <td>10</td>\n",
       "      <td>None</td>\n",
       "      <td>0.737289</td>\n",
       "      <td>2.508716</td>\n",
       "      <td>0.68829</td>\n",
       "      <td>3.005307</td>\n",
       "    </tr>\n",
       "  </tbody>\n",
       "</table>\n",
       "</div>"
      ],
      "text/plain": [
       "                                          name classifier alpha reduction  \\\n",
       "0                     all categories and price      Ridge    10      None   \n",
       "1                 partial categories and price      Ridge     1      None   \n",
       "2                all categories price with log      Ridge    10      None   \n",
       "3  all categories price limited price with log      Ridge    10      None   \n",
       "4              description only, popular words      Ridge    10      None   \n",
       "\n",
       "   train_r2  train_mse                 test_r2  test_mse  \n",
       "0  0.305234   6.647890  (0.30081382552241454,)  6.688209  \n",
       "1  0.294004   6.755348   (0.2935037872691477,)  6.758134  \n",
       "2  0.439686   5.361382   (0.4265526223611692,)  5.485428  \n",
       "3  0.439272   5.365345   (0.4262236339612465,)  5.488575  \n",
       "4  0.737289   2.508716                 0.68829  3.005307  "
      ]
     },
     "execution_count": 83,
     "metadata": {},
     "output_type": "execute_result"
    }
   ],
   "source": [
    "results_df"
   ]
  },
  {
   "cell_type": "markdown",
   "id": "6eb04b97-bd08-4ddd-9802-038f9ad96f3c",
   "metadata": {
    "tags": []
   },
   "source": [
    "### Full Pipeline"
   ]
  },
  {
   "cell_type": "code",
   "execution_count": 198,
   "id": "2c90f042-0e41-40f8-ac54-78456692a4bb",
   "metadata": {},
   "outputs": [
    {
     "name": "stdout",
     "output_type": "stream",
     "text": [
      "(95939, 8)\n",
      "Index(['country', 'description', 'price', 'province', 'taster_name', 'variety',\n",
      "       'year', 'description_pure'],\n",
      "      dtype='object')\n",
      "(95939,)\n",
      "(23985, 8) (23985,)\n",
      "Index(['country', 'description', 'price', 'province', 'taster_name', 'variety',\n",
      "       'year', 'description_pure'],\n",
      "      dtype='object')\n"
     ]
    }
   ],
   "source": [
    "x = reviews.drop(columns={'points'})\n",
    "y = reviews['points']\n",
    "X_train, X_test, y_train, y_test = train_test_split(x, y, test_size=0.2, random_state=42)\n",
    "print(X_train.shape), print(X_train.columns)\n",
    "print(y_train.shape)\n",
    "print(X_test.shape, y_test.shape)\n",
    "print(X_test.columns)"
   ]
  },
  {
   "cell_type": "code",
   "execution_count": 85,
   "id": "eeecc64c-576b-4e87-a48e-9fecf076f201",
   "metadata": {},
   "outputs": [],
   "source": [
    "from sklearn.preprocessing import FunctionTransformer\n",
    "text_features = ['description']\n",
    "\n",
    "categorical_features = ['country', 'province','taster_name','variety']\n",
    "numerical_features = ['price']\n",
    "\n",
    "# Create categorical and numerical transformers\n",
    "categorical_transformer = Pipeline(steps=[\n",
    "    ('imputer', SimpleImputer(strategy='constant', fill_value='missing')),\n",
    "    ('onehot', OneHotEncoder(handle_unknown='ignore', sparse_output=False))\n",
    "])\n",
    "\n",
    "numerical_transformer = Pipeline(steps=[\n",
    "    ('imputer', SimpleImputer(strategy='median')),\n",
    "    ('scaler', StandardScaler())\n",
    "])\n",
    "\n",
    "text_transformer = Pipeline(steps=[\n",
    "    (\"squeez\", FunctionTransformer(lambda x: x.squeeze())),\n",
    "    #(\"vect\", CountVectorizer(vocabulary = clean_vocab, tokenizer=nltk.word_tokenize)),\n",
    "    (\"tfidf\", TfidfVectorizer(vocabulary=clean_vocab)),\n",
    "    (\"toarray\", FunctionTransformer(lambda x: x.toarray())),\n",
    "])\n",
    "\n",
    "# Combine transformers using ColumnTransformer\n",
    "wine_preprocessor = ColumnTransformer(\n",
    "    transformers=[\n",
    "        ('num', numerical_transformer, numerical_features),\n",
    "        ('cat', categorical_transformer, categorical_features),\n",
    "        ('txt', text_transformer, text_features)\n",
    "], remainder='drop')"
   ]
  },
  {
   "cell_type": "code",
   "execution_count": 86,
   "id": "a205a16f-4afe-4d31-b1fe-8c823b85ca3f",
   "metadata": {},
   "outputs": [
    {
     "data": {
      "text/plain": [
       "Index(['country', 'description', 'price', 'province', 'taster_name', 'variety',\n",
       "       'year', 'description_pure'],\n",
       "      dtype='object')"
      ]
     },
     "execution_count": 86,
     "metadata": {},
     "output_type": "execute_result"
    }
   ],
   "source": [
    "X_train.columns"
   ]
  },
  {
   "cell_type": "code",
   "execution_count": 87,
   "id": "bb99f5f5-9985-4794-ba3f-ffc789a03940",
   "metadata": {},
   "outputs": [],
   "source": [
    "params = text_transformer.get_params()\n",
    "tfidf_params = params[\"tfidf\"].get_params()"
   ]
  },
  {
   "cell_type": "code",
   "execution_count": 199,
   "id": "e6316d68-b937-4adc-886a-7f08fb6f60be",
   "metadata": {},
   "outputs": [
    {
     "data": {
      "text/html": [
       "<style>#sk-container-id-19 {color: black;background-color: white;}#sk-container-id-19 pre{padding: 0;}#sk-container-id-19 div.sk-toggleable {background-color: white;}#sk-container-id-19 label.sk-toggleable__label {cursor: pointer;display: block;width: 100%;margin-bottom: 0;padding: 0.3em;box-sizing: border-box;text-align: center;}#sk-container-id-19 label.sk-toggleable__label-arrow:before {content: \"▸\";float: left;margin-right: 0.25em;color: #696969;}#sk-container-id-19 label.sk-toggleable__label-arrow:hover:before {color: black;}#sk-container-id-19 div.sk-estimator:hover label.sk-toggleable__label-arrow:before {color: black;}#sk-container-id-19 div.sk-toggleable__content {max-height: 0;max-width: 0;overflow: hidden;text-align: left;background-color: #f0f8ff;}#sk-container-id-19 div.sk-toggleable__content pre {margin: 0.2em;color: black;border-radius: 0.25em;background-color: #f0f8ff;}#sk-container-id-19 input.sk-toggleable__control:checked~div.sk-toggleable__content {max-height: 200px;max-width: 100%;overflow: auto;}#sk-container-id-19 input.sk-toggleable__control:checked~label.sk-toggleable__label-arrow:before {content: \"▾\";}#sk-container-id-19 div.sk-estimator input.sk-toggleable__control:checked~label.sk-toggleable__label {background-color: #d4ebff;}#sk-container-id-19 div.sk-label input.sk-toggleable__control:checked~label.sk-toggleable__label {background-color: #d4ebff;}#sk-container-id-19 input.sk-hidden--visually {border: 0;clip: rect(1px 1px 1px 1px);clip: rect(1px, 1px, 1px, 1px);height: 1px;margin: -1px;overflow: hidden;padding: 0;position: absolute;width: 1px;}#sk-container-id-19 div.sk-estimator {font-family: monospace;background-color: #f0f8ff;border: 1px dotted black;border-radius: 0.25em;box-sizing: border-box;margin-bottom: 0.5em;}#sk-container-id-19 div.sk-estimator:hover {background-color: #d4ebff;}#sk-container-id-19 div.sk-parallel-item::after {content: \"\";width: 100%;border-bottom: 1px solid gray;flex-grow: 1;}#sk-container-id-19 div.sk-label:hover label.sk-toggleable__label {background-color: #d4ebff;}#sk-container-id-19 div.sk-serial::before {content: \"\";position: absolute;border-left: 1px solid gray;box-sizing: border-box;top: 0;bottom: 0;left: 50%;z-index: 0;}#sk-container-id-19 div.sk-serial {display: flex;flex-direction: column;align-items: center;background-color: white;padding-right: 0.2em;padding-left: 0.2em;position: relative;}#sk-container-id-19 div.sk-item {position: relative;z-index: 1;}#sk-container-id-19 div.sk-parallel {display: flex;align-items: stretch;justify-content: center;background-color: white;position: relative;}#sk-container-id-19 div.sk-item::before, #sk-container-id-19 div.sk-parallel-item::before {content: \"\";position: absolute;border-left: 1px solid gray;box-sizing: border-box;top: 0;bottom: 0;left: 50%;z-index: -1;}#sk-container-id-19 div.sk-parallel-item {display: flex;flex-direction: column;z-index: 1;position: relative;background-color: white;}#sk-container-id-19 div.sk-parallel-item:first-child::after {align-self: flex-end;width: 50%;}#sk-container-id-19 div.sk-parallel-item:last-child::after {align-self: flex-start;width: 50%;}#sk-container-id-19 div.sk-parallel-item:only-child::after {width: 0;}#sk-container-id-19 div.sk-dashed-wrapped {border: 1px dashed gray;margin: 0 0.4em 0.5em 0.4em;box-sizing: border-box;padding-bottom: 0.4em;background-color: white;}#sk-container-id-19 div.sk-label label {font-family: monospace;font-weight: bold;display: inline-block;line-height: 1.2em;}#sk-container-id-19 div.sk-label-container {text-align: center;}#sk-container-id-19 div.sk-container {/* jupyter's `normalize.less` sets `[hidden] { display: none; }` but bootstrap.min.css set `[hidden] { display: none !important; }` so we also need the `!important` here to be able to override the default hidden behavior on the sphinx rendered scikit-learn.org. See: https://github.com/scikit-learn/scikit-learn/issues/21755 */display: inline-block !important;position: relative;}#sk-container-id-19 div.sk-text-repr-fallback {display: none;}</style><div id=\"sk-container-id-19\" class=\"sk-top-container\"><div class=\"sk-text-repr-fallback\"><pre>Pipeline(steps=[(&#x27;preprocessor&#x27;,\n",
       "                 ColumnTransformer(transformers=[(&#x27;num&#x27;,\n",
       "                                                  Pipeline(steps=[(&#x27;imputer&#x27;,\n",
       "                                                                   SimpleImputer(strategy=&#x27;median&#x27;)),\n",
       "                                                                  (&#x27;scaler&#x27;,\n",
       "                                                                   StandardScaler())]),\n",
       "                                                  [&#x27;price&#x27;]),\n",
       "                                                 (&#x27;cat&#x27;,\n",
       "                                                  Pipeline(steps=[(&#x27;imputer&#x27;,\n",
       "                                                                   SimpleImputer(fill_value=&#x27;missing&#x27;,\n",
       "                                                                                 strategy=&#x27;constant&#x27;)),\n",
       "                                                                  (&#x27;onehot&#x27;,\n",
       "                                                                   OneHotEncoder(handle_unknown=&#x27;ignore&#x27;,\n",
       "                                                                                 sparse_output=False))]),\n",
       "                                                  [&#x27;country&#x27;, &#x27;pr...\n",
       "                                                                                               &#x27;ably&#x27;,\n",
       "                                                                                               &#x27;abound&#x27;,\n",
       "                                                                                               &#x27;abounds&#x27;,\n",
       "                                                                                               &#x27;abouriou&#x27;,\n",
       "                                                                                               &#x27;aboveaverage&#x27;,\n",
       "                                                                                               &#x27;abrasive&#x27;,\n",
       "                                                                                               &#x27;abrupt&#x27;,\n",
       "                                                                                               &#x27;abruptly&#x27;,\n",
       "                                                                                               &#x27;abruzzo&#x27;,\n",
       "                                                                                               &#x27;absence&#x27;,\n",
       "                                                                                               &#x27;absolute&#x27;,\n",
       "                                                                                               &#x27;absolutely&#x27;,\n",
       "                                                                                               &#x27;absorb&#x27;,\n",
       "                                                                                               &#x27;absorbed&#x27;,\n",
       "                                                                                               &#x27;abundance&#x27;,\n",
       "                                                                                               &#x27;abundant&#x27;,\n",
       "                                                                                               &#x27;abundantly&#x27;,\n",
       "                                                                                               &#x27;abv&#x27;,\n",
       "                                                                                               &#x27;acacia&#x27;,\n",
       "                                                                                               &#x27;acai&#x27;,\n",
       "                                                                                               &#x27;acase&#x27;, ...})),\n",
       "                                                                  (&#x27;toarray&#x27;,\n",
       "                                                                   FunctionTransformer(func=&lt;function &lt;lambda&gt; at 0x000001EBDAD97B80&gt;))]),\n",
       "                                                  [&#x27;description&#x27;])])),\n",
       "                (&#x27;classifier&#x27;, Ridge(alpha=10.0))])</pre><b>In a Jupyter environment, please rerun this cell to show the HTML representation or trust the notebook. <br />On GitHub, the HTML representation is unable to render, please try loading this page with nbviewer.org.</b></div><div class=\"sk-container\" hidden><div class=\"sk-item sk-dashed-wrapped\"><div class=\"sk-label-container\"><div class=\"sk-label sk-toggleable\"><input class=\"sk-toggleable__control sk-hidden--visually\" id=\"sk-estimator-id-240\" type=\"checkbox\" ><label for=\"sk-estimator-id-240\" class=\"sk-toggleable__label sk-toggleable__label-arrow\">Pipeline</label><div class=\"sk-toggleable__content\"><pre>Pipeline(steps=[(&#x27;preprocessor&#x27;,\n",
       "                 ColumnTransformer(transformers=[(&#x27;num&#x27;,\n",
       "                                                  Pipeline(steps=[(&#x27;imputer&#x27;,\n",
       "                                                                   SimpleImputer(strategy=&#x27;median&#x27;)),\n",
       "                                                                  (&#x27;scaler&#x27;,\n",
       "                                                                   StandardScaler())]),\n",
       "                                                  [&#x27;price&#x27;]),\n",
       "                                                 (&#x27;cat&#x27;,\n",
       "                                                  Pipeline(steps=[(&#x27;imputer&#x27;,\n",
       "                                                                   SimpleImputer(fill_value=&#x27;missing&#x27;,\n",
       "                                                                                 strategy=&#x27;constant&#x27;)),\n",
       "                                                                  (&#x27;onehot&#x27;,\n",
       "                                                                   OneHotEncoder(handle_unknown=&#x27;ignore&#x27;,\n",
       "                                                                                 sparse_output=False))]),\n",
       "                                                  [&#x27;country&#x27;, &#x27;pr...\n",
       "                                                                                               &#x27;ably&#x27;,\n",
       "                                                                                               &#x27;abound&#x27;,\n",
       "                                                                                               &#x27;abounds&#x27;,\n",
       "                                                                                               &#x27;abouriou&#x27;,\n",
       "                                                                                               &#x27;aboveaverage&#x27;,\n",
       "                                                                                               &#x27;abrasive&#x27;,\n",
       "                                                                                               &#x27;abrupt&#x27;,\n",
       "                                                                                               &#x27;abruptly&#x27;,\n",
       "                                                                                               &#x27;abruzzo&#x27;,\n",
       "                                                                                               &#x27;absence&#x27;,\n",
       "                                                                                               &#x27;absolute&#x27;,\n",
       "                                                                                               &#x27;absolutely&#x27;,\n",
       "                                                                                               &#x27;absorb&#x27;,\n",
       "                                                                                               &#x27;absorbed&#x27;,\n",
       "                                                                                               &#x27;abundance&#x27;,\n",
       "                                                                                               &#x27;abundant&#x27;,\n",
       "                                                                                               &#x27;abundantly&#x27;,\n",
       "                                                                                               &#x27;abv&#x27;,\n",
       "                                                                                               &#x27;acacia&#x27;,\n",
       "                                                                                               &#x27;acai&#x27;,\n",
       "                                                                                               &#x27;acase&#x27;, ...})),\n",
       "                                                                  (&#x27;toarray&#x27;,\n",
       "                                                                   FunctionTransformer(func=&lt;function &lt;lambda&gt; at 0x000001EBDAD97B80&gt;))]),\n",
       "                                                  [&#x27;description&#x27;])])),\n",
       "                (&#x27;classifier&#x27;, Ridge(alpha=10.0))])</pre></div></div></div><div class=\"sk-serial\"><div class=\"sk-item sk-dashed-wrapped\"><div class=\"sk-label-container\"><div class=\"sk-label sk-toggleable\"><input class=\"sk-toggleable__control sk-hidden--visually\" id=\"sk-estimator-id-241\" type=\"checkbox\" ><label for=\"sk-estimator-id-241\" class=\"sk-toggleable__label sk-toggleable__label-arrow\">preprocessor: ColumnTransformer</label><div class=\"sk-toggleable__content\"><pre>ColumnTransformer(transformers=[(&#x27;num&#x27;,\n",
       "                                 Pipeline(steps=[(&#x27;imputer&#x27;,\n",
       "                                                  SimpleImputer(strategy=&#x27;median&#x27;)),\n",
       "                                                 (&#x27;scaler&#x27;, StandardScaler())]),\n",
       "                                 [&#x27;price&#x27;]),\n",
       "                                (&#x27;cat&#x27;,\n",
       "                                 Pipeline(steps=[(&#x27;imputer&#x27;,\n",
       "                                                  SimpleImputer(fill_value=&#x27;missing&#x27;,\n",
       "                                                                strategy=&#x27;constant&#x27;)),\n",
       "                                                 (&#x27;onehot&#x27;,\n",
       "                                                  OneHotEncoder(handle_unknown=&#x27;ignore&#x27;,\n",
       "                                                                sparse_output=False))]),\n",
       "                                 [&#x27;country&#x27;, &#x27;province&#x27;, &#x27;taster_name&#x27;,\n",
       "                                  &#x27;variety&#x27;]...\n",
       "                                                                              &#x27;abbott&#x27;,\n",
       "                                                                              &#x27;abbreviated&#x27;,\n",
       "                                                                              &#x27;ability&#x27;,\n",
       "                                                                              &#x27;able&#x27;,\n",
       "                                                                              &#x27;ably&#x27;,\n",
       "                                                                              &#x27;abound&#x27;,\n",
       "                                                                              &#x27;abounds&#x27;,\n",
       "                                                                              &#x27;abouriou&#x27;,\n",
       "                                                                              &#x27;aboveaverage&#x27;,\n",
       "                                                                              &#x27;abrasive&#x27;,\n",
       "                                                                              &#x27;abrupt&#x27;,\n",
       "                                                                              &#x27;abruptly&#x27;,\n",
       "                                                                              &#x27;abruzzo&#x27;,\n",
       "                                                                              &#x27;absence&#x27;,\n",
       "                                                                              &#x27;absolute&#x27;,\n",
       "                                                                              &#x27;absolutely&#x27;,\n",
       "                                                                              &#x27;absorb&#x27;,\n",
       "                                                                              &#x27;absorbed&#x27;,\n",
       "                                                                              &#x27;abundance&#x27;,\n",
       "                                                                              &#x27;abundant&#x27;,\n",
       "                                                                              &#x27;abundantly&#x27;,\n",
       "                                                                              &#x27;abv&#x27;,\n",
       "                                                                              &#x27;acacia&#x27;,\n",
       "                                                                              &#x27;acai&#x27;,\n",
       "                                                                              &#x27;acase&#x27;, ...})),\n",
       "                                                 (&#x27;toarray&#x27;,\n",
       "                                                  FunctionTransformer(func=&lt;function &lt;lambda&gt; at 0x000001EBDAD97B80&gt;))]),\n",
       "                                 [&#x27;description&#x27;])])</pre></div></div></div><div class=\"sk-parallel\"><div class=\"sk-parallel-item\"><div class=\"sk-item\"><div class=\"sk-label-container\"><div class=\"sk-label sk-toggleable\"><input class=\"sk-toggleable__control sk-hidden--visually\" id=\"sk-estimator-id-242\" type=\"checkbox\" ><label for=\"sk-estimator-id-242\" class=\"sk-toggleable__label sk-toggleable__label-arrow\">num</label><div class=\"sk-toggleable__content\"><pre>[&#x27;price&#x27;]</pre></div></div></div><div class=\"sk-serial\"><div class=\"sk-item\"><div class=\"sk-serial\"><div class=\"sk-item\"><div class=\"sk-estimator sk-toggleable\"><input class=\"sk-toggleable__control sk-hidden--visually\" id=\"sk-estimator-id-243\" type=\"checkbox\" ><label for=\"sk-estimator-id-243\" class=\"sk-toggleable__label sk-toggleable__label-arrow\">SimpleImputer</label><div class=\"sk-toggleable__content\"><pre>SimpleImputer(strategy=&#x27;median&#x27;)</pre></div></div></div><div class=\"sk-item\"><div class=\"sk-estimator sk-toggleable\"><input class=\"sk-toggleable__control sk-hidden--visually\" id=\"sk-estimator-id-244\" type=\"checkbox\" ><label for=\"sk-estimator-id-244\" class=\"sk-toggleable__label sk-toggleable__label-arrow\">StandardScaler</label><div class=\"sk-toggleable__content\"><pre>StandardScaler()</pre></div></div></div></div></div></div></div></div><div class=\"sk-parallel-item\"><div class=\"sk-item\"><div class=\"sk-label-container\"><div class=\"sk-label sk-toggleable\"><input class=\"sk-toggleable__control sk-hidden--visually\" id=\"sk-estimator-id-245\" type=\"checkbox\" ><label for=\"sk-estimator-id-245\" class=\"sk-toggleable__label sk-toggleable__label-arrow\">cat</label><div class=\"sk-toggleable__content\"><pre>[&#x27;country&#x27;, &#x27;province&#x27;, &#x27;taster_name&#x27;, &#x27;variety&#x27;]</pre></div></div></div><div class=\"sk-serial\"><div class=\"sk-item\"><div class=\"sk-serial\"><div class=\"sk-item\"><div class=\"sk-estimator sk-toggleable\"><input class=\"sk-toggleable__control sk-hidden--visually\" id=\"sk-estimator-id-246\" type=\"checkbox\" ><label for=\"sk-estimator-id-246\" class=\"sk-toggleable__label sk-toggleable__label-arrow\">SimpleImputer</label><div class=\"sk-toggleable__content\"><pre>SimpleImputer(fill_value=&#x27;missing&#x27;, strategy=&#x27;constant&#x27;)</pre></div></div></div><div class=\"sk-item\"><div class=\"sk-estimator sk-toggleable\"><input class=\"sk-toggleable__control sk-hidden--visually\" id=\"sk-estimator-id-247\" type=\"checkbox\" ><label for=\"sk-estimator-id-247\" class=\"sk-toggleable__label sk-toggleable__label-arrow\">OneHotEncoder</label><div class=\"sk-toggleable__content\"><pre>OneHotEncoder(handle_unknown=&#x27;ignore&#x27;, sparse_output=False)</pre></div></div></div></div></div></div></div></div><div class=\"sk-parallel-item\"><div class=\"sk-item\"><div class=\"sk-label-container\"><div class=\"sk-label sk-toggleable\"><input class=\"sk-toggleable__control sk-hidden--visually\" id=\"sk-estimator-id-248\" type=\"checkbox\" ><label for=\"sk-estimator-id-248\" class=\"sk-toggleable__label sk-toggleable__label-arrow\">txt</label><div class=\"sk-toggleable__content\"><pre>[&#x27;description&#x27;]</pre></div></div></div><div class=\"sk-serial\"><div class=\"sk-item\"><div class=\"sk-serial\"><div class=\"sk-item\"><div class=\"sk-estimator sk-toggleable\"><input class=\"sk-toggleable__control sk-hidden--visually\" id=\"sk-estimator-id-249\" type=\"checkbox\" ><label for=\"sk-estimator-id-249\" class=\"sk-toggleable__label sk-toggleable__label-arrow\">FunctionTransformer</label><div class=\"sk-toggleable__content\"><pre>FunctionTransformer(func=&lt;function &lt;lambda&gt; at 0x000001EC13DEEEE0&gt;)</pre></div></div></div><div class=\"sk-item\"><div class=\"sk-estimator sk-toggleable\"><input class=\"sk-toggleable__control sk-hidden--visually\" id=\"sk-estimator-id-250\" type=\"checkbox\" ><label for=\"sk-estimator-id-250\" class=\"sk-toggleable__label sk-toggleable__label-arrow\">TfidfVectorizer</label><div class=\"sk-toggleable__content\"><pre>TfidfVectorizer(vocabulary={&#x27;aacre&#x27;, &#x27;aaron&#x27;, &#x27;abacela&#x27;, &#x27;abandon&#x27;, &#x27;abbey&#x27;,\n",
       "                            &#x27;abbott&#x27;, &#x27;abbreviated&#x27;, &#x27;ability&#x27;, &#x27;able&#x27;, &#x27;ably&#x27;,\n",
       "                            &#x27;abound&#x27;, &#x27;abounds&#x27;, &#x27;abouriou&#x27;, &#x27;aboveaverage&#x27;,\n",
       "                            &#x27;abrasive&#x27;, &#x27;abrupt&#x27;, &#x27;abruptly&#x27;, &#x27;abruzzo&#x27;,\n",
       "                            &#x27;absence&#x27;, &#x27;absolute&#x27;, &#x27;absolutely&#x27;, &#x27;absorb&#x27;,\n",
       "                            &#x27;absorbed&#x27;, &#x27;abundance&#x27;, &#x27;abundant&#x27;, &#x27;abundantly&#x27;,\n",
       "                            &#x27;abv&#x27;, &#x27;acacia&#x27;, &#x27;acai&#x27;, &#x27;acase&#x27;, ...})</pre></div></div></div><div class=\"sk-item\"><div class=\"sk-estimator sk-toggleable\"><input class=\"sk-toggleable__control sk-hidden--visually\" id=\"sk-estimator-id-251\" type=\"checkbox\" ><label for=\"sk-estimator-id-251\" class=\"sk-toggleable__label sk-toggleable__label-arrow\">FunctionTransformer</label><div class=\"sk-toggleable__content\"><pre>FunctionTransformer(func=&lt;function &lt;lambda&gt; at 0x000001EBDAD97B80&gt;)</pre></div></div></div></div></div></div></div></div></div></div><div class=\"sk-item\"><div class=\"sk-estimator sk-toggleable\"><input class=\"sk-toggleable__control sk-hidden--visually\" id=\"sk-estimator-id-252\" type=\"checkbox\" ><label for=\"sk-estimator-id-252\" class=\"sk-toggleable__label sk-toggleable__label-arrow\">Ridge</label><div class=\"sk-toggleable__content\"><pre>Ridge(alpha=10.0)</pre></div></div></div></div></div></div></div>"
      ],
      "text/plain": [
       "Pipeline(steps=[('preprocessor',\n",
       "                 ColumnTransformer(transformers=[('num',\n",
       "                                                  Pipeline(steps=[('imputer',\n",
       "                                                                   SimpleImputer(strategy='median')),\n",
       "                                                                  ('scaler',\n",
       "                                                                   StandardScaler())]),\n",
       "                                                  ['price']),\n",
       "                                                 ('cat',\n",
       "                                                  Pipeline(steps=[('imputer',\n",
       "                                                                   SimpleImputer(fill_value='missing',\n",
       "                                                                                 strategy='constant')),\n",
       "                                                                  ('onehot',\n",
       "                                                                   OneHotEncoder(handle_unknown='ignore',\n",
       "                                                                                 sparse_output=False))]),\n",
       "                                                  ['country', 'pr...\n",
       "                                                                                               'ably',\n",
       "                                                                                               'abound',\n",
       "                                                                                               'abounds',\n",
       "                                                                                               'abouriou',\n",
       "                                                                                               'aboveaverage',\n",
       "                                                                                               'abrasive',\n",
       "                                                                                               'abrupt',\n",
       "                                                                                               'abruptly',\n",
       "                                                                                               'abruzzo',\n",
       "                                                                                               'absence',\n",
       "                                                                                               'absolute',\n",
       "                                                                                               'absolutely',\n",
       "                                                                                               'absorb',\n",
       "                                                                                               'absorbed',\n",
       "                                                                                               'abundance',\n",
       "                                                                                               'abundant',\n",
       "                                                                                               'abundantly',\n",
       "                                                                                               'abv',\n",
       "                                                                                               'acacia',\n",
       "                                                                                               'acai',\n",
       "                                                                                               'acase', ...})),\n",
       "                                                                  ('toarray',\n",
       "                                                                   FunctionTransformer(func=<function <lambda> at 0x000001EBDAD97B80>))]),\n",
       "                                                  ['description'])])),\n",
       "                ('classifier', Ridge(alpha=10.0))])"
      ]
     },
     "execution_count": 199,
     "metadata": {},
     "output_type": "execute_result"
    }
   ],
   "source": [
    "from sklearn.linear_model import Ridge\n",
    "from sklearn.linear_model import Lasso\n",
    "# Create a full pipeline with a classifier with text\n",
    "full_pipeline = Pipeline(steps=[\n",
    "    ('preprocessor', wine_preprocessor),\n",
    "    ('classifier', Ridge(alpha=10.0))\n",
    "])\n",
    "full_pipeline"
   ]
  },
  {
   "cell_type": "code",
   "execution_count": 89,
   "id": "0459363e-4c8c-448c-a81f-c264a7a47f25",
   "metadata": {},
   "outputs": [
    {
     "name": "stdout",
     "output_type": "stream",
     "text": [
      "country                                                                                                                                                                                                                                                                                                     Chile\n",
      "description         A potent, dark style of Syrah, with aromas of black cherry, generous oak, leather and vanilla. Shows overdrive on the palate, with forceful tannins and concentrated flavors of blackberry, graphite, black licorice and wood resin. Fruity and long on the back end; drink now through 2013.\n",
      "price                                                                                                                                                                                                                                                                                                    1.061385\n",
      "province                                                                                                                                                                                                                                                                                             Maule Valley\n",
      "taster_name                                                                                                                                                                                                                                                                                     Michael Schachner\n",
      "variety                                                                                                                                                                                                                                                                                                     Syrah\n",
      "year                                                                                                                                                                                                                                                                                                       2009.0\n",
      "description_pure         A potent  dark style of Syrah  with aromas of black cherry  generous oak  leather and vanilla  Shows overdrive on the palate  with forceful tannins and concentrated flavors of blackberry  graphite  black licorice and wood resin  Fruity and long on the back end  drink now through \n",
      "Name: 87721, dtype: object\n",
      "125300    94\n",
      "110511    93\n",
      "87721     90\n",
      "19638     84\n",
      "8950      89\n",
      "127062    85\n",
      "79641     91\n",
      "34949     91\n",
      "45580     95\n",
      "51701     86\n",
      "Name: points, dtype: int64\n"
     ]
    },
    {
     "data": {
      "text/html": [
       "<div>\n",
       "<style scoped>\n",
       "    .dataframe tbody tr th:only-of-type {\n",
       "        vertical-align: middle;\n",
       "    }\n",
       "\n",
       "    .dataframe tbody tr th {\n",
       "        vertical-align: top;\n",
       "    }\n",
       "\n",
       "    .dataframe thead th {\n",
       "        text-align: right;\n",
       "    }\n",
       "</style>\n",
       "<table border=\"1\" class=\"dataframe\">\n",
       "  <thead>\n",
       "    <tr style=\"text-align: right;\">\n",
       "      <th></th>\n",
       "      <th>country</th>\n",
       "      <th>description</th>\n",
       "      <th>price</th>\n",
       "      <th>province</th>\n",
       "      <th>taster_name</th>\n",
       "      <th>variety</th>\n",
       "      <th>year</th>\n",
       "      <th>description_pure</th>\n",
       "    </tr>\n",
       "  </thead>\n",
       "  <tbody>\n",
       "    <tr>\n",
       "      <th>125300</th>\n",
       "      <td>US</td>\n",
       "      <td>Winemaker Gustavo Gonzalez left Robert Mondavi to do his own thing, and what an auspicious start. He's taken fruit from this historic Carneros vineyard and crafted a big and bold yet balanced Pinot filled with lusciousness. The flavors are enormously complex, ranging from fresh raspberry jam and...</td>\n",
       "      <td>1.318462</td>\n",
       "      <td>California</td>\n",
       "      <td>NaN</td>\n",
       "      <td>Pinot Noir</td>\n",
       "      <td>2010.0</td>\n",
       "      <td>Winemaker Gustavo Gonzalez left Robert Mondavi to do his own thing  and what an auspicious start  Hes taken fruit from this historic Carneros vineyard and crafted a big and bold yet balanced Pinot filled with lusciousness  The flavors are enormously complex  ranging from fresh raspberry jam and ...</td>\n",
       "    </tr>\n",
       "    <tr>\n",
       "      <th>110511</th>\n",
       "      <td>Spain</td>\n",
       "      <td>This is the granddaddy in the Emilio Moro portfolio, but the wine is so ripe and oaky it's syrupy-smelling. Maximum ripeness means it's a bit Port-like on the palate, with baked black-fruit flavors that finish soft and jammy. This brims with power, extraction and flavor but it's grasping for str...</td>\n",
       "      <td>1.809804</td>\n",
       "      <td>Northern Spain</td>\n",
       "      <td>Michael Schachner</td>\n",
       "      <td>Tinto Fino</td>\n",
       "      <td>2010.0</td>\n",
       "      <td>This is the granddaddy in the Emilio Moro portfolio  but the wine is so ripe and oaky its syrupysmelling  Maximum ripeness means its a bit Portlike on the palate  with baked blackfruit flavors that finish soft and jammy  This brims with power  extraction and flavor but its grasping for structure...</td>\n",
       "    </tr>\n",
       "    <tr>\n",
       "      <th>87721</th>\n",
       "      <td>Chile</td>\n",
       "      <td>A potent, dark style of Syrah, with aromas of black cherry, generous oak, leather and vanilla. Shows overdrive on the palate, with forceful tannins and concentrated flavors of blackberry, graphite, black licorice and wood resin. Fruity and long on the back end; drink now through 2013.</td>\n",
       "      <td>1.061385</td>\n",
       "      <td>Maule Valley</td>\n",
       "      <td>Michael Schachner</td>\n",
       "      <td>Syrah</td>\n",
       "      <td>2009.0</td>\n",
       "      <td>A potent  dark style of Syrah  with aromas of black cherry  generous oak  leather and vanilla  Shows overdrive on the palate  with forceful tannins and concentrated flavors of blackberry  graphite  black licorice and wood resin  Fruity and long on the back end  drink now through</td>\n",
       "    </tr>\n",
       "    <tr>\n",
       "      <th>19638</th>\n",
       "      <td>Spain</td>\n",
       "      <td>Cloudy in color, with tart rhubarb aromas. The palate shows some acidity and tang, with pink grapefruit flavors offering a shrill kick. But overall the wine has seen better days and has become limited in scope at this point.</td>\n",
       "      <td>0.874591</td>\n",
       "      <td>Central Spain</td>\n",
       "      <td>Michael Schachner</td>\n",
       "      <td>Tempranillo</td>\n",
       "      <td>2006.0</td>\n",
       "      <td>Cloudy in color  with tart rhubarb aromas  The palate shows some acidity and tang  with pink grapefruit flavors offering a shrill kick  But overall the wine has seen better days and has become limited in scope at this point</td>\n",
       "    </tr>\n",
       "    <tr>\n",
       "      <th>8950</th>\n",
       "      <td>Italy</td>\n",
       "      <td>There's a ripe and opulent quality that gives the wine loads of intensity and consistency. The purity of the fruit is excellent, and the finish reveals nicely integrated acidity.</td>\n",
       "      <td>1.128508</td>\n",
       "      <td>Sicily &amp; Sardinia</td>\n",
       "      <td>NaN</td>\n",
       "      <td>Nero d'Avola</td>\n",
       "      <td>2010.0</td>\n",
       "      <td>Theres a ripe and opulent quality that gives the wine loads of intensity and consistency  The purity of the fruit is excellent  and the finish reveals nicely integrated acidity</td>\n",
       "    </tr>\n",
       "    <tr>\n",
       "      <th>127062</th>\n",
       "      <td>France</td>\n",
       "      <td>Don't be fooled by this wine. Although it looks like a typical dry Provence rosé, it's medium sweet. With Black Muscat in the blend, it's soft and perfumed, its sweetness balanced by acidity.</td>\n",
       "      <td>0.910235</td>\n",
       "      <td>France Other</td>\n",
       "      <td>Roger Voss</td>\n",
       "      <td>Rosé</td>\n",
       "      <td>2016.0</td>\n",
       "      <td>Dont be fooled by this wine  Although it looks like a typical dry Provence rosé  its medium sweet  With Black Muscat in the blend  its soft and perfumed  its sweetness balanced by acidity</td>\n",
       "    </tr>\n",
       "    <tr>\n",
       "      <th>79641</th>\n",
       "      <td>US</td>\n",
       "      <td>Concentrated fruit, spice and black-tea flavors lend a sense of depth on the palate and make this full-bodied wine satisfying to sip. Made from the estate vineyard using only Clone 777 vines, it matches black cherry and tart cherry notes to a nicely gripping texture, with a lingering finish.</td>\n",
       "      <td>1.432618</td>\n",
       "      <td>California</td>\n",
       "      <td>Jim Gordon</td>\n",
       "      <td>Pinot Noir</td>\n",
       "      <td>2014.0</td>\n",
       "      <td>Concentrated fruit  spice and blacktea flavors lend a sense of depth on the palate and make this fullbodied wine satisfying to sip  Made from the estate vineyard using only Clone vines  it matches black cherry and tart cherry notes to a nicely gripping texture  with a lingering finish</td>\n",
       "    </tr>\n",
       "    <tr>\n",
       "      <th>34949</th>\n",
       "      <td>US</td>\n",
       "      <td>Very light in the glass, this wine shows strawberry, wild thyme, charred cedar and a smoke character. It's dainty and very herbal on the sip, with cranberry and pomegranate flavors enhanced by dried oregano and bay leaf.</td>\n",
       "      <td>1.276345</td>\n",
       "      <td>California</td>\n",
       "      <td>Matt Kettmann</td>\n",
       "      <td>Pinot Noir</td>\n",
       "      <td>2014.0</td>\n",
       "      <td>Very light in the glass  this wine shows strawberry  wild thyme  charred cedar and a smoke character  Its dainty and very herbal on the sip  with cranberry and pomegranate flavors enhanced by dried oregano and bay leaf</td>\n",
       "    </tr>\n",
       "    <tr>\n",
       "      <th>45580</th>\n",
       "      <td>US</td>\n",
       "      <td>This wine stops you in your tracks with its aromas of earth, peat, fire pit, tapenade and coffee. The flavors are outrageously rich, dense and textured, with a lightly tacky feel to the tannins and a hyperextended finish. It's a knockout.</td>\n",
       "      <td>1.462674</td>\n",
       "      <td>Washington</td>\n",
       "      <td>Sean P. Sullivan</td>\n",
       "      <td>Tempranillo</td>\n",
       "      <td>2012.0</td>\n",
       "      <td>This wine stops you in your tracks with its aromas of earth  peat  fire pit  tapenade and coffee  The flavors are outrageously rich  dense and textured  with a lightly tacky feel to the tannins and a hyperextended finish  Its a knockout</td>\n",
       "    </tr>\n",
       "    <tr>\n",
       "      <th>51701</th>\n",
       "      <td>Austria</td>\n",
       "      <td>This is a fresh and fruity wine, flavored with creamed apple and pears. There is the merest hint of pepper here to give spice and to bring out the bright acidity at the end. The wine could hold a year, but is ready to drink now.</td>\n",
       "      <td>1.156269</td>\n",
       "      <td>Niederösterreich</td>\n",
       "      <td>Roger Voss</td>\n",
       "      <td>Grüner Veltliner</td>\n",
       "      <td>2012.0</td>\n",
       "      <td>This is a fresh and fruity wine  flavored with creamed apple and pears  There is the merest hint of pepper here to give spice and to bring out the bright acidity at the end  The wine could hold a year  but is ready to drink now</td>\n",
       "    </tr>\n",
       "  </tbody>\n",
       "</table>\n",
       "</div>"
      ],
      "text/plain": [
       "        country  \\\n",
       "125300       US   \n",
       "110511    Spain   \n",
       "87721     Chile   \n",
       "19638     Spain   \n",
       "8950      Italy   \n",
       "127062   France   \n",
       "79641        US   \n",
       "34949        US   \n",
       "45580        US   \n",
       "51701   Austria   \n",
       "\n",
       "                                                                                                                                                                                                                                                                                                        description  \\\n",
       "125300  Winemaker Gustavo Gonzalez left Robert Mondavi to do his own thing, and what an auspicious start. He's taken fruit from this historic Carneros vineyard and crafted a big and bold yet balanced Pinot filled with lusciousness. The flavors are enormously complex, ranging from fresh raspberry jam and...   \n",
       "110511  This is the granddaddy in the Emilio Moro portfolio, but the wine is so ripe and oaky it's syrupy-smelling. Maximum ripeness means it's a bit Port-like on the palate, with baked black-fruit flavors that finish soft and jammy. This brims with power, extraction and flavor but it's grasping for str...   \n",
       "87721                 A potent, dark style of Syrah, with aromas of black cherry, generous oak, leather and vanilla. Shows overdrive on the palate, with forceful tannins and concentrated flavors of blackberry, graphite, black licorice and wood resin. Fruity and long on the back end; drink now through 2013.   \n",
       "19638                                                                              Cloudy in color, with tart rhubarb aromas. The palate shows some acidity and tang, with pink grapefruit flavors offering a shrill kick. But overall the wine has seen better days and has become limited in scope at this point.   \n",
       "8950                                                                                                                             There's a ripe and opulent quality that gives the wine loads of intensity and consistency. The purity of the fruit is excellent, and the finish reveals nicely integrated acidity.   \n",
       "127062                                                                                                              Don't be fooled by this wine. Although it looks like a typical dry Provence rosé, it's medium sweet. With Black Muscat in the blend, it's soft and perfumed, its sweetness balanced by acidity.   \n",
       "79641          Concentrated fruit, spice and black-tea flavors lend a sense of depth on the palate and make this full-bodied wine satisfying to sip. Made from the estate vineyard using only Clone 777 vines, it matches black cherry and tart cherry notes to a nicely gripping texture, with a lingering finish.   \n",
       "34949                                                                                  Very light in the glass, this wine shows strawberry, wild thyme, charred cedar and a smoke character. It's dainty and very herbal on the sip, with cranberry and pomegranate flavors enhanced by dried oregano and bay leaf.   \n",
       "45580                                                                This wine stops you in your tracks with its aromas of earth, peat, fire pit, tapenade and coffee. The flavors are outrageously rich, dense and textured, with a lightly tacky feel to the tannins and a hyperextended finish. It's a knockout.   \n",
       "51701                                                                          This is a fresh and fruity wine, flavored with creamed apple and pears. There is the merest hint of pepper here to give spice and to bring out the bright acidity at the end. The wine could hold a year, but is ready to drink now.   \n",
       "\n",
       "           price           province        taster_name           variety  \\\n",
       "125300  1.318462         California                NaN        Pinot Noir   \n",
       "110511  1.809804     Northern Spain  Michael Schachner        Tinto Fino   \n",
       "87721   1.061385       Maule Valley  Michael Schachner             Syrah   \n",
       "19638   0.874591      Central Spain  Michael Schachner       Tempranillo   \n",
       "8950    1.128508  Sicily & Sardinia                NaN      Nero d'Avola   \n",
       "127062  0.910235       France Other         Roger Voss              Rosé   \n",
       "79641   1.432618         California         Jim Gordon        Pinot Noir   \n",
       "34949   1.276345         California      Matt Kettmann        Pinot Noir   \n",
       "45580   1.462674         Washington   Sean P. Sullivan       Tempranillo   \n",
       "51701   1.156269   Niederösterreich         Roger Voss  Grüner Veltliner   \n",
       "\n",
       "          year  \\\n",
       "125300  2010.0   \n",
       "110511  2010.0   \n",
       "87721   2009.0   \n",
       "19638   2006.0   \n",
       "8950    2010.0   \n",
       "127062  2016.0   \n",
       "79641   2014.0   \n",
       "34949   2014.0   \n",
       "45580   2012.0   \n",
       "51701   2012.0   \n",
       "\n",
       "                                                                                                                                                                                                                                                                                                   description_pure  \n",
       "125300  Winemaker Gustavo Gonzalez left Robert Mondavi to do his own thing  and what an auspicious start  Hes taken fruit from this historic Carneros vineyard and crafted a big and bold yet balanced Pinot filled with lusciousness  The flavors are enormously complex  ranging from fresh raspberry jam and ...  \n",
       "110511  This is the granddaddy in the Emilio Moro portfolio  but the wine is so ripe and oaky its syrupysmelling  Maximum ripeness means its a bit Portlike on the palate  with baked blackfruit flavors that finish soft and jammy  This brims with power  extraction and flavor but its grasping for structure...  \n",
       "87721                      A potent  dark style of Syrah  with aromas of black cherry  generous oak  leather and vanilla  Shows overdrive on the palate  with forceful tannins and concentrated flavors of blackberry  graphite  black licorice and wood resin  Fruity and long on the back end  drink now through   \n",
       "19638                                                                              Cloudy in color  with tart rhubarb aromas  The palate shows some acidity and tang  with pink grapefruit flavors offering a shrill kick  But overall the wine has seen better days and has become limited in scope at this point   \n",
       "8950                                                                                                                              Theres a ripe and opulent quality that gives the wine loads of intensity and consistency  The purity of the fruit is excellent  and the finish reveals nicely integrated acidity   \n",
       "127062                                                                                                                 Dont be fooled by this wine  Although it looks like a typical dry Provence rosé  its medium sweet  With Black Muscat in the blend  its soft and perfumed  its sweetness balanced by acidity   \n",
       "79641                Concentrated fruit  spice and blacktea flavors lend a sense of depth on the palate and make this fullbodied wine satisfying to sip  Made from the estate vineyard using only Clone vines  it matches black cherry and tart cherry notes to a nicely gripping texture  with a lingering finish   \n",
       "34949                                                                                   Very light in the glass  this wine shows strawberry  wild thyme  charred cedar and a smoke character  Its dainty and very herbal on the sip  with cranberry and pomegranate flavors enhanced by dried oregano and bay leaf   \n",
       "45580                                                                 This wine stops you in your tracks with its aromas of earth  peat  fire pit  tapenade and coffee  The flavors are outrageously rich  dense and textured  with a lightly tacky feel to the tannins and a hyperextended finish  Its a knockout   \n",
       "51701                                                                          This is a fresh and fruity wine  flavored with creamed apple and pears  There is the merest hint of pepper here to give spice and to bring out the bright acidity at the end  The wine could hold a year  but is ready to drink now   "
      ]
     },
     "execution_count": 89,
     "metadata": {},
     "output_type": "execute_result"
    }
   ],
   "source": [
    "print(X_train.iloc[2])\n",
    "print(y_train[0:10])\n",
    "X_train[0:10]\n",
    "#print(X_train.head(2))\n"
   ]
  },
  {
   "cell_type": "code",
   "execution_count": 200,
   "id": "181d465b-f7b0-43a0-a359-7143132882e8",
   "metadata": {},
   "outputs": [
    {
     "data": {
      "text/html": [
       "<style>#sk-container-id-20 {color: black;background-color: white;}#sk-container-id-20 pre{padding: 0;}#sk-container-id-20 div.sk-toggleable {background-color: white;}#sk-container-id-20 label.sk-toggleable__label {cursor: pointer;display: block;width: 100%;margin-bottom: 0;padding: 0.3em;box-sizing: border-box;text-align: center;}#sk-container-id-20 label.sk-toggleable__label-arrow:before {content: \"▸\";float: left;margin-right: 0.25em;color: #696969;}#sk-container-id-20 label.sk-toggleable__label-arrow:hover:before {color: black;}#sk-container-id-20 div.sk-estimator:hover label.sk-toggleable__label-arrow:before {color: black;}#sk-container-id-20 div.sk-toggleable__content {max-height: 0;max-width: 0;overflow: hidden;text-align: left;background-color: #f0f8ff;}#sk-container-id-20 div.sk-toggleable__content pre {margin: 0.2em;color: black;border-radius: 0.25em;background-color: #f0f8ff;}#sk-container-id-20 input.sk-toggleable__control:checked~div.sk-toggleable__content {max-height: 200px;max-width: 100%;overflow: auto;}#sk-container-id-20 input.sk-toggleable__control:checked~label.sk-toggleable__label-arrow:before {content: \"▾\";}#sk-container-id-20 div.sk-estimator input.sk-toggleable__control:checked~label.sk-toggleable__label {background-color: #d4ebff;}#sk-container-id-20 div.sk-label input.sk-toggleable__control:checked~label.sk-toggleable__label {background-color: #d4ebff;}#sk-container-id-20 input.sk-hidden--visually {border: 0;clip: rect(1px 1px 1px 1px);clip: rect(1px, 1px, 1px, 1px);height: 1px;margin: -1px;overflow: hidden;padding: 0;position: absolute;width: 1px;}#sk-container-id-20 div.sk-estimator {font-family: monospace;background-color: #f0f8ff;border: 1px dotted black;border-radius: 0.25em;box-sizing: border-box;margin-bottom: 0.5em;}#sk-container-id-20 div.sk-estimator:hover {background-color: #d4ebff;}#sk-container-id-20 div.sk-parallel-item::after {content: \"\";width: 100%;border-bottom: 1px solid gray;flex-grow: 1;}#sk-container-id-20 div.sk-label:hover label.sk-toggleable__label {background-color: #d4ebff;}#sk-container-id-20 div.sk-serial::before {content: \"\";position: absolute;border-left: 1px solid gray;box-sizing: border-box;top: 0;bottom: 0;left: 50%;z-index: 0;}#sk-container-id-20 div.sk-serial {display: flex;flex-direction: column;align-items: center;background-color: white;padding-right: 0.2em;padding-left: 0.2em;position: relative;}#sk-container-id-20 div.sk-item {position: relative;z-index: 1;}#sk-container-id-20 div.sk-parallel {display: flex;align-items: stretch;justify-content: center;background-color: white;position: relative;}#sk-container-id-20 div.sk-item::before, #sk-container-id-20 div.sk-parallel-item::before {content: \"\";position: absolute;border-left: 1px solid gray;box-sizing: border-box;top: 0;bottom: 0;left: 50%;z-index: -1;}#sk-container-id-20 div.sk-parallel-item {display: flex;flex-direction: column;z-index: 1;position: relative;background-color: white;}#sk-container-id-20 div.sk-parallel-item:first-child::after {align-self: flex-end;width: 50%;}#sk-container-id-20 div.sk-parallel-item:last-child::after {align-self: flex-start;width: 50%;}#sk-container-id-20 div.sk-parallel-item:only-child::after {width: 0;}#sk-container-id-20 div.sk-dashed-wrapped {border: 1px dashed gray;margin: 0 0.4em 0.5em 0.4em;box-sizing: border-box;padding-bottom: 0.4em;background-color: white;}#sk-container-id-20 div.sk-label label {font-family: monospace;font-weight: bold;display: inline-block;line-height: 1.2em;}#sk-container-id-20 div.sk-label-container {text-align: center;}#sk-container-id-20 div.sk-container {/* jupyter's `normalize.less` sets `[hidden] { display: none; }` but bootstrap.min.css set `[hidden] { display: none !important; }` so we also need the `!important` here to be able to override the default hidden behavior on the sphinx rendered scikit-learn.org. See: https://github.com/scikit-learn/scikit-learn/issues/21755 */display: inline-block !important;position: relative;}#sk-container-id-20 div.sk-text-repr-fallback {display: none;}</style><div id=\"sk-container-id-20\" class=\"sk-top-container\"><div class=\"sk-text-repr-fallback\"><pre>Pipeline(steps=[(&#x27;preprocessor&#x27;,\n",
       "                 ColumnTransformer(transformers=[(&#x27;num&#x27;,\n",
       "                                                  Pipeline(steps=[(&#x27;imputer&#x27;,\n",
       "                                                                   SimpleImputer(strategy=&#x27;median&#x27;)),\n",
       "                                                                  (&#x27;scaler&#x27;,\n",
       "                                                                   StandardScaler())]),\n",
       "                                                  [&#x27;price&#x27;]),\n",
       "                                                 (&#x27;cat&#x27;,\n",
       "                                                  Pipeline(steps=[(&#x27;imputer&#x27;,\n",
       "                                                                   SimpleImputer(fill_value=&#x27;missing&#x27;,\n",
       "                                                                                 strategy=&#x27;constant&#x27;)),\n",
       "                                                                  (&#x27;onehot&#x27;,\n",
       "                                                                   OneHotEncoder(handle_unknown=&#x27;ignore&#x27;,\n",
       "                                                                                 sparse_output=False))]),\n",
       "                                                  [&#x27;country&#x27;, &#x27;pr...\n",
       "                                                                                               &#x27;ably&#x27;,\n",
       "                                                                                               &#x27;abound&#x27;,\n",
       "                                                                                               &#x27;abounds&#x27;,\n",
       "                                                                                               &#x27;abouriou&#x27;,\n",
       "                                                                                               &#x27;aboveaverage&#x27;,\n",
       "                                                                                               &#x27;abrasive&#x27;,\n",
       "                                                                                               &#x27;abrupt&#x27;,\n",
       "                                                                                               &#x27;abruptly&#x27;,\n",
       "                                                                                               &#x27;abruzzo&#x27;,\n",
       "                                                                                               &#x27;absence&#x27;,\n",
       "                                                                                               &#x27;absolute&#x27;,\n",
       "                                                                                               &#x27;absolutely&#x27;,\n",
       "                                                                                               &#x27;absorb&#x27;,\n",
       "                                                                                               &#x27;absorbed&#x27;,\n",
       "                                                                                               &#x27;abundance&#x27;,\n",
       "                                                                                               &#x27;abundant&#x27;,\n",
       "                                                                                               &#x27;abundantly&#x27;,\n",
       "                                                                                               &#x27;abv&#x27;,\n",
       "                                                                                               &#x27;acacia&#x27;,\n",
       "                                                                                               &#x27;acai&#x27;,\n",
       "                                                                                               &#x27;acase&#x27;, ...})),\n",
       "                                                                  (&#x27;toarray&#x27;,\n",
       "                                                                   FunctionTransformer(func=&lt;function &lt;lambda&gt; at 0x000001EBDAD97B80&gt;))]),\n",
       "                                                  [&#x27;description&#x27;])])),\n",
       "                (&#x27;classifier&#x27;, Ridge(alpha=10.0))])</pre><b>In a Jupyter environment, please rerun this cell to show the HTML representation or trust the notebook. <br />On GitHub, the HTML representation is unable to render, please try loading this page with nbviewer.org.</b></div><div class=\"sk-container\" hidden><div class=\"sk-item sk-dashed-wrapped\"><div class=\"sk-label-container\"><div class=\"sk-label sk-toggleable\"><input class=\"sk-toggleable__control sk-hidden--visually\" id=\"sk-estimator-id-253\" type=\"checkbox\" ><label for=\"sk-estimator-id-253\" class=\"sk-toggleable__label sk-toggleable__label-arrow\">Pipeline</label><div class=\"sk-toggleable__content\"><pre>Pipeline(steps=[(&#x27;preprocessor&#x27;,\n",
       "                 ColumnTransformer(transformers=[(&#x27;num&#x27;,\n",
       "                                                  Pipeline(steps=[(&#x27;imputer&#x27;,\n",
       "                                                                   SimpleImputer(strategy=&#x27;median&#x27;)),\n",
       "                                                                  (&#x27;scaler&#x27;,\n",
       "                                                                   StandardScaler())]),\n",
       "                                                  [&#x27;price&#x27;]),\n",
       "                                                 (&#x27;cat&#x27;,\n",
       "                                                  Pipeline(steps=[(&#x27;imputer&#x27;,\n",
       "                                                                   SimpleImputer(fill_value=&#x27;missing&#x27;,\n",
       "                                                                                 strategy=&#x27;constant&#x27;)),\n",
       "                                                                  (&#x27;onehot&#x27;,\n",
       "                                                                   OneHotEncoder(handle_unknown=&#x27;ignore&#x27;,\n",
       "                                                                                 sparse_output=False))]),\n",
       "                                                  [&#x27;country&#x27;, &#x27;pr...\n",
       "                                                                                               &#x27;ably&#x27;,\n",
       "                                                                                               &#x27;abound&#x27;,\n",
       "                                                                                               &#x27;abounds&#x27;,\n",
       "                                                                                               &#x27;abouriou&#x27;,\n",
       "                                                                                               &#x27;aboveaverage&#x27;,\n",
       "                                                                                               &#x27;abrasive&#x27;,\n",
       "                                                                                               &#x27;abrupt&#x27;,\n",
       "                                                                                               &#x27;abruptly&#x27;,\n",
       "                                                                                               &#x27;abruzzo&#x27;,\n",
       "                                                                                               &#x27;absence&#x27;,\n",
       "                                                                                               &#x27;absolute&#x27;,\n",
       "                                                                                               &#x27;absolutely&#x27;,\n",
       "                                                                                               &#x27;absorb&#x27;,\n",
       "                                                                                               &#x27;absorbed&#x27;,\n",
       "                                                                                               &#x27;abundance&#x27;,\n",
       "                                                                                               &#x27;abundant&#x27;,\n",
       "                                                                                               &#x27;abundantly&#x27;,\n",
       "                                                                                               &#x27;abv&#x27;,\n",
       "                                                                                               &#x27;acacia&#x27;,\n",
       "                                                                                               &#x27;acai&#x27;,\n",
       "                                                                                               &#x27;acase&#x27;, ...})),\n",
       "                                                                  (&#x27;toarray&#x27;,\n",
       "                                                                   FunctionTransformer(func=&lt;function &lt;lambda&gt; at 0x000001EBDAD97B80&gt;))]),\n",
       "                                                  [&#x27;description&#x27;])])),\n",
       "                (&#x27;classifier&#x27;, Ridge(alpha=10.0))])</pre></div></div></div><div class=\"sk-serial\"><div class=\"sk-item sk-dashed-wrapped\"><div class=\"sk-label-container\"><div class=\"sk-label sk-toggleable\"><input class=\"sk-toggleable__control sk-hidden--visually\" id=\"sk-estimator-id-254\" type=\"checkbox\" ><label for=\"sk-estimator-id-254\" class=\"sk-toggleable__label sk-toggleable__label-arrow\">preprocessor: ColumnTransformer</label><div class=\"sk-toggleable__content\"><pre>ColumnTransformer(transformers=[(&#x27;num&#x27;,\n",
       "                                 Pipeline(steps=[(&#x27;imputer&#x27;,\n",
       "                                                  SimpleImputer(strategy=&#x27;median&#x27;)),\n",
       "                                                 (&#x27;scaler&#x27;, StandardScaler())]),\n",
       "                                 [&#x27;price&#x27;]),\n",
       "                                (&#x27;cat&#x27;,\n",
       "                                 Pipeline(steps=[(&#x27;imputer&#x27;,\n",
       "                                                  SimpleImputer(fill_value=&#x27;missing&#x27;,\n",
       "                                                                strategy=&#x27;constant&#x27;)),\n",
       "                                                 (&#x27;onehot&#x27;,\n",
       "                                                  OneHotEncoder(handle_unknown=&#x27;ignore&#x27;,\n",
       "                                                                sparse_output=False))]),\n",
       "                                 [&#x27;country&#x27;, &#x27;province&#x27;, &#x27;taster_name&#x27;,\n",
       "                                  &#x27;variety&#x27;]...\n",
       "                                                                              &#x27;abbott&#x27;,\n",
       "                                                                              &#x27;abbreviated&#x27;,\n",
       "                                                                              &#x27;ability&#x27;,\n",
       "                                                                              &#x27;able&#x27;,\n",
       "                                                                              &#x27;ably&#x27;,\n",
       "                                                                              &#x27;abound&#x27;,\n",
       "                                                                              &#x27;abounds&#x27;,\n",
       "                                                                              &#x27;abouriou&#x27;,\n",
       "                                                                              &#x27;aboveaverage&#x27;,\n",
       "                                                                              &#x27;abrasive&#x27;,\n",
       "                                                                              &#x27;abrupt&#x27;,\n",
       "                                                                              &#x27;abruptly&#x27;,\n",
       "                                                                              &#x27;abruzzo&#x27;,\n",
       "                                                                              &#x27;absence&#x27;,\n",
       "                                                                              &#x27;absolute&#x27;,\n",
       "                                                                              &#x27;absolutely&#x27;,\n",
       "                                                                              &#x27;absorb&#x27;,\n",
       "                                                                              &#x27;absorbed&#x27;,\n",
       "                                                                              &#x27;abundance&#x27;,\n",
       "                                                                              &#x27;abundant&#x27;,\n",
       "                                                                              &#x27;abundantly&#x27;,\n",
       "                                                                              &#x27;abv&#x27;,\n",
       "                                                                              &#x27;acacia&#x27;,\n",
       "                                                                              &#x27;acai&#x27;,\n",
       "                                                                              &#x27;acase&#x27;, ...})),\n",
       "                                                 (&#x27;toarray&#x27;,\n",
       "                                                  FunctionTransformer(func=&lt;function &lt;lambda&gt; at 0x000001EBDAD97B80&gt;))]),\n",
       "                                 [&#x27;description&#x27;])])</pre></div></div></div><div class=\"sk-parallel\"><div class=\"sk-parallel-item\"><div class=\"sk-item\"><div class=\"sk-label-container\"><div class=\"sk-label sk-toggleable\"><input class=\"sk-toggleable__control sk-hidden--visually\" id=\"sk-estimator-id-255\" type=\"checkbox\" ><label for=\"sk-estimator-id-255\" class=\"sk-toggleable__label sk-toggleable__label-arrow\">num</label><div class=\"sk-toggleable__content\"><pre>[&#x27;price&#x27;]</pre></div></div></div><div class=\"sk-serial\"><div class=\"sk-item\"><div class=\"sk-serial\"><div class=\"sk-item\"><div class=\"sk-estimator sk-toggleable\"><input class=\"sk-toggleable__control sk-hidden--visually\" id=\"sk-estimator-id-256\" type=\"checkbox\" ><label for=\"sk-estimator-id-256\" class=\"sk-toggleable__label sk-toggleable__label-arrow\">SimpleImputer</label><div class=\"sk-toggleable__content\"><pre>SimpleImputer(strategy=&#x27;median&#x27;)</pre></div></div></div><div class=\"sk-item\"><div class=\"sk-estimator sk-toggleable\"><input class=\"sk-toggleable__control sk-hidden--visually\" id=\"sk-estimator-id-257\" type=\"checkbox\" ><label for=\"sk-estimator-id-257\" class=\"sk-toggleable__label sk-toggleable__label-arrow\">StandardScaler</label><div class=\"sk-toggleable__content\"><pre>StandardScaler()</pre></div></div></div></div></div></div></div></div><div class=\"sk-parallel-item\"><div class=\"sk-item\"><div class=\"sk-label-container\"><div class=\"sk-label sk-toggleable\"><input class=\"sk-toggleable__control sk-hidden--visually\" id=\"sk-estimator-id-258\" type=\"checkbox\" ><label for=\"sk-estimator-id-258\" class=\"sk-toggleable__label sk-toggleable__label-arrow\">cat</label><div class=\"sk-toggleable__content\"><pre>[&#x27;country&#x27;, &#x27;province&#x27;, &#x27;taster_name&#x27;, &#x27;variety&#x27;]</pre></div></div></div><div class=\"sk-serial\"><div class=\"sk-item\"><div class=\"sk-serial\"><div class=\"sk-item\"><div class=\"sk-estimator sk-toggleable\"><input class=\"sk-toggleable__control sk-hidden--visually\" id=\"sk-estimator-id-259\" type=\"checkbox\" ><label for=\"sk-estimator-id-259\" class=\"sk-toggleable__label sk-toggleable__label-arrow\">SimpleImputer</label><div class=\"sk-toggleable__content\"><pre>SimpleImputer(fill_value=&#x27;missing&#x27;, strategy=&#x27;constant&#x27;)</pre></div></div></div><div class=\"sk-item\"><div class=\"sk-estimator sk-toggleable\"><input class=\"sk-toggleable__control sk-hidden--visually\" id=\"sk-estimator-id-260\" type=\"checkbox\" ><label for=\"sk-estimator-id-260\" class=\"sk-toggleable__label sk-toggleable__label-arrow\">OneHotEncoder</label><div class=\"sk-toggleable__content\"><pre>OneHotEncoder(handle_unknown=&#x27;ignore&#x27;, sparse_output=False)</pre></div></div></div></div></div></div></div></div><div class=\"sk-parallel-item\"><div class=\"sk-item\"><div class=\"sk-label-container\"><div class=\"sk-label sk-toggleable\"><input class=\"sk-toggleable__control sk-hidden--visually\" id=\"sk-estimator-id-261\" type=\"checkbox\" ><label for=\"sk-estimator-id-261\" class=\"sk-toggleable__label sk-toggleable__label-arrow\">txt</label><div class=\"sk-toggleable__content\"><pre>[&#x27;description&#x27;]</pre></div></div></div><div class=\"sk-serial\"><div class=\"sk-item\"><div class=\"sk-serial\"><div class=\"sk-item\"><div class=\"sk-estimator sk-toggleable\"><input class=\"sk-toggleable__control sk-hidden--visually\" id=\"sk-estimator-id-262\" type=\"checkbox\" ><label for=\"sk-estimator-id-262\" class=\"sk-toggleable__label sk-toggleable__label-arrow\">FunctionTransformer</label><div class=\"sk-toggleable__content\"><pre>FunctionTransformer(func=&lt;function &lt;lambda&gt; at 0x000001EC13DEEEE0&gt;)</pre></div></div></div><div class=\"sk-item\"><div class=\"sk-estimator sk-toggleable\"><input class=\"sk-toggleable__control sk-hidden--visually\" id=\"sk-estimator-id-263\" type=\"checkbox\" ><label for=\"sk-estimator-id-263\" class=\"sk-toggleable__label sk-toggleable__label-arrow\">TfidfVectorizer</label><div class=\"sk-toggleable__content\"><pre>TfidfVectorizer(vocabulary={&#x27;aacre&#x27;, &#x27;aaron&#x27;, &#x27;abacela&#x27;, &#x27;abandon&#x27;, &#x27;abbey&#x27;,\n",
       "                            &#x27;abbott&#x27;, &#x27;abbreviated&#x27;, &#x27;ability&#x27;, &#x27;able&#x27;, &#x27;ably&#x27;,\n",
       "                            &#x27;abound&#x27;, &#x27;abounds&#x27;, &#x27;abouriou&#x27;, &#x27;aboveaverage&#x27;,\n",
       "                            &#x27;abrasive&#x27;, &#x27;abrupt&#x27;, &#x27;abruptly&#x27;, &#x27;abruzzo&#x27;,\n",
       "                            &#x27;absence&#x27;, &#x27;absolute&#x27;, &#x27;absolutely&#x27;, &#x27;absorb&#x27;,\n",
       "                            &#x27;absorbed&#x27;, &#x27;abundance&#x27;, &#x27;abundant&#x27;, &#x27;abundantly&#x27;,\n",
       "                            &#x27;abv&#x27;, &#x27;acacia&#x27;, &#x27;acai&#x27;, &#x27;acase&#x27;, ...})</pre></div></div></div><div class=\"sk-item\"><div class=\"sk-estimator sk-toggleable\"><input class=\"sk-toggleable__control sk-hidden--visually\" id=\"sk-estimator-id-264\" type=\"checkbox\" ><label for=\"sk-estimator-id-264\" class=\"sk-toggleable__label sk-toggleable__label-arrow\">FunctionTransformer</label><div class=\"sk-toggleable__content\"><pre>FunctionTransformer(func=&lt;function &lt;lambda&gt; at 0x000001EBDAD97B80&gt;)</pre></div></div></div></div></div></div></div></div></div></div><div class=\"sk-item\"><div class=\"sk-estimator sk-toggleable\"><input class=\"sk-toggleable__control sk-hidden--visually\" id=\"sk-estimator-id-265\" type=\"checkbox\" ><label for=\"sk-estimator-id-265\" class=\"sk-toggleable__label sk-toggleable__label-arrow\">Ridge</label><div class=\"sk-toggleable__content\"><pre>Ridge(alpha=10.0)</pre></div></div></div></div></div></div></div>"
      ],
      "text/plain": [
       "Pipeline(steps=[('preprocessor',\n",
       "                 ColumnTransformer(transformers=[('num',\n",
       "                                                  Pipeline(steps=[('imputer',\n",
       "                                                                   SimpleImputer(strategy='median')),\n",
       "                                                                  ('scaler',\n",
       "                                                                   StandardScaler())]),\n",
       "                                                  ['price']),\n",
       "                                                 ('cat',\n",
       "                                                  Pipeline(steps=[('imputer',\n",
       "                                                                   SimpleImputer(fill_value='missing',\n",
       "                                                                                 strategy='constant')),\n",
       "                                                                  ('onehot',\n",
       "                                                                   OneHotEncoder(handle_unknown='ignore',\n",
       "                                                                                 sparse_output=False))]),\n",
       "                                                  ['country', 'pr...\n",
       "                                                                                               'ably',\n",
       "                                                                                               'abound',\n",
       "                                                                                               'abounds',\n",
       "                                                                                               'abouriou',\n",
       "                                                                                               'aboveaverage',\n",
       "                                                                                               'abrasive',\n",
       "                                                                                               'abrupt',\n",
       "                                                                                               'abruptly',\n",
       "                                                                                               'abruzzo',\n",
       "                                                                                               'absence',\n",
       "                                                                                               'absolute',\n",
       "                                                                                               'absolutely',\n",
       "                                                                                               'absorb',\n",
       "                                                                                               'absorbed',\n",
       "                                                                                               'abundance',\n",
       "                                                                                               'abundant',\n",
       "                                                                                               'abundantly',\n",
       "                                                                                               'abv',\n",
       "                                                                                               'acacia',\n",
       "                                                                                               'acai',\n",
       "                                                                                               'acase', ...})),\n",
       "                                                                  ('toarray',\n",
       "                                                                   FunctionTransformer(func=<function <lambda> at 0x000001EBDAD97B80>))]),\n",
       "                                                  ['description'])])),\n",
       "                ('classifier', Ridge(alpha=10.0))])"
      ]
     },
     "execution_count": 200,
     "metadata": {},
     "output_type": "execute_result"
    }
   ],
   "source": [
    "# Fit the pipeline to the training data\n",
    "full_pipeline.fit(X_train, y_train)\n",
    "\n",
    "# Evaluate the pipeline on the test data\n",
    "#accuracy = full_pipeline.score(X_test, y_test)\n",
    "#print(f\"Test accuracy: {accuracy:.3f}\")"
   ]
  },
  {
   "cell_type": "code",
   "execution_count": 91,
   "id": "2d6821a7-f8e5-4e02-9583-3abfb8348d57",
   "metadata": {},
   "outputs": [
    {
     "data": {
      "text/plain": [
       "0.7517024082740298"
      ]
     },
     "execution_count": 91,
     "metadata": {},
     "output_type": "execute_result"
    }
   ],
   "source": [
    "#score of training\n",
    "full_pipeline.score(X_train, y_train)"
   ]
  },
  {
   "cell_type": "code",
   "execution_count": 203,
   "id": "eadb9c5c-6f08-4c61-89dd-9a6b283770be",
   "metadata": {},
   "outputs": [],
   "source": [
    "#score of test\n",
    "\n",
    "test_predict = full_pipeline.predict(X_test)\n",
    "train_predict = full_pipeline.predict(X_train)\n",
    "test_r2 = r2_score(y_test,test_predict)\n",
    "trin_r2 = r2_score(y_train,train_predict)\n",
    "test_mse = mean_squared_error(y_test, test_predict)\n",
    "train_mse = mean_squared_error(y_train, train_predict)"
   ]
  },
  {
   "cell_type": "code",
   "execution_count": 208,
   "id": "583b35da-1ad4-4869-9d93-0ed3e03a1b96",
   "metadata": {},
   "outputs": [
    {
     "name": "stderr",
     "output_type": "stream",
     "text": [
      "C:\\Users\\olgas\\AppData\\Local\\Temp\\ipykernel_19968\\2814298460.py:12: FutureWarning:\n",
      "\n",
      "The frame.append method is deprecated and will be removed from pandas in a future version. Use pandas.concat instead.\n",
      "\n"
     ]
    }
   ],
   "source": [
    "results_df = append_row_to_results(\"full pipeline, price with no log \",\"Ridge\", \"10\", \"None\", test_r2, test_mse, trin_r2, train_mse )"
   ]
  },
  {
   "cell_type": "code",
   "execution_count": 209,
   "id": "6fb1f940-e58a-43ec-87a3-6aa4bd1eae63",
   "metadata": {},
   "outputs": [
    {
     "data": {
      "text/html": [
       "<div>\n",
       "<style scoped>\n",
       "    .dataframe tbody tr th:only-of-type {\n",
       "        vertical-align: middle;\n",
       "    }\n",
       "\n",
       "    .dataframe tbody tr th {\n",
       "        vertical-align: top;\n",
       "    }\n",
       "\n",
       "    .dataframe thead th {\n",
       "        text-align: right;\n",
       "    }\n",
       "</style>\n",
       "<table border=\"1\" class=\"dataframe\">\n",
       "  <thead>\n",
       "    <tr style=\"text-align: right;\">\n",
       "      <th></th>\n",
       "      <th>name</th>\n",
       "      <th>classifier</th>\n",
       "      <th>alpha</th>\n",
       "      <th>reduction</th>\n",
       "      <th>train_r2</th>\n",
       "      <th>train_mse</th>\n",
       "      <th>test_r2</th>\n",
       "      <th>test_mse</th>\n",
       "    </tr>\n",
       "  </thead>\n",
       "  <tbody>\n",
       "    <tr>\n",
       "      <th>0</th>\n",
       "      <td>full pipeline, price with no log</td>\n",
       "      <td>Ridge</td>\n",
       "      <td>10</td>\n",
       "      <td>None</td>\n",
       "      <td>0.751702</td>\n",
       "      <td>2.375844</td>\n",
       "      <td>0.729254</td>\n",
       "      <td>2.58988</td>\n",
       "    </tr>\n",
       "  </tbody>\n",
       "</table>\n",
       "</div>"
      ],
      "text/plain": [
       "                                name classifier alpha reduction  train_r2  \\\n",
       "0  full pipeline, price with no log       Ridge    10      None  0.751702   \n",
       "\n",
       "   train_mse   test_r2  test_mse  \n",
       "0   2.375844  0.729254   2.58988  "
      ]
     },
     "execution_count": 209,
     "metadata": {},
     "output_type": "execute_result"
    }
   ],
   "source": [
    "results_df# = results_df.drop(0)"
   ]
  },
  {
   "cell_type": "code",
   "execution_count": 106,
   "id": "0dcf8d6e-f8a8-43fd-a051-1f25d5e1a98e",
   "metadata": {},
   "outputs": [],
   "source": [
    "test_predict_actual = DataFrame(zip(test_predict, y_test, X_test.description, X_test.province, X_test.taster_name, X_test.country, X_test.variety), columns=['predict', 'actual', 'description', 'province', 'tester_name', 'country', 'variety'])"
   ]
  },
  {
   "cell_type": "code",
   "execution_count": 97,
   "id": "1e8f2d78-3184-4285-a22b-05d6af389583",
   "metadata": {},
   "outputs": [],
   "source": [
    "test_predict_actual['abs_error'] = abs(test_predict_actual.predict - test_predict_actual.actual)\n",
    "#test_predict_actual.sort_values(by=['abs_error'], ascending=False).head(50)"
   ]
  },
  {
   "cell_type": "code",
   "execution_count": 98,
   "id": "56106948-e8ce-44af-a50a-58e85745809c",
   "metadata": {},
   "outputs": [
    {
     "data": {
      "text/plain": [
       "1.2674571077547225"
      ]
     },
     "execution_count": 98,
     "metadata": {},
     "output_type": "execute_result"
    }
   ],
   "source": [
    "sum(abs(test_predict_actual.predict - test_predict_actual.actual))/len(test_predict_actual)"
   ]
  },
  {
   "cell_type": "code",
   "execution_count": 99,
   "id": "851ff4b5-d84e-4e12-85c9-84b4b973f8c5",
   "metadata": {},
   "outputs": [
    {
     "name": "stdout",
     "output_type": "stream",
     "text": [
      "Mean squared error: 2.59\n",
      "Coefficient of determination: 0.73\n"
     ]
    }
   ],
   "source": [
    "from sklearn.metrics import mean_squared_error, r2_score\n",
    "print(\"Mean squared error: %.2f\" % mean_squared_error(test_predict_actual.actual, test_predict_actual.predict))\n",
    "# The coefficient of determination: 1 is perfect prediction\n",
    "print(\"Coefficient of determination: %.2f\" % r2_score(test_predict_actual.actual, test_predict_actual.predict))"
   ]
  },
  {
   "cell_type": "markdown",
   "id": "b293f842-46a7-486d-89d7-666d0aea128e",
   "metadata": {},
   "source": [
    "#### GridSearch to find most efficient apha and classifier"
   ]
  },
  {
   "cell_type": "code",
   "execution_count": 100,
   "id": "b622200f-701b-4ac1-9168-be4740d4be18",
   "metadata": {},
   "outputs": [
    {
     "data": {
      "text/html": [
       "<style>#sk-container-id-10 {color: black;background-color: white;}#sk-container-id-10 pre{padding: 0;}#sk-container-id-10 div.sk-toggleable {background-color: white;}#sk-container-id-10 label.sk-toggleable__label {cursor: pointer;display: block;width: 100%;margin-bottom: 0;padding: 0.3em;box-sizing: border-box;text-align: center;}#sk-container-id-10 label.sk-toggleable__label-arrow:before {content: \"▸\";float: left;margin-right: 0.25em;color: #696969;}#sk-container-id-10 label.sk-toggleable__label-arrow:hover:before {color: black;}#sk-container-id-10 div.sk-estimator:hover label.sk-toggleable__label-arrow:before {color: black;}#sk-container-id-10 div.sk-toggleable__content {max-height: 0;max-width: 0;overflow: hidden;text-align: left;background-color: #f0f8ff;}#sk-container-id-10 div.sk-toggleable__content pre {margin: 0.2em;color: black;border-radius: 0.25em;background-color: #f0f8ff;}#sk-container-id-10 input.sk-toggleable__control:checked~div.sk-toggleable__content {max-height: 200px;max-width: 100%;overflow: auto;}#sk-container-id-10 input.sk-toggleable__control:checked~label.sk-toggleable__label-arrow:before {content: \"▾\";}#sk-container-id-10 div.sk-estimator input.sk-toggleable__control:checked~label.sk-toggleable__label {background-color: #d4ebff;}#sk-container-id-10 div.sk-label input.sk-toggleable__control:checked~label.sk-toggleable__label {background-color: #d4ebff;}#sk-container-id-10 input.sk-hidden--visually {border: 0;clip: rect(1px 1px 1px 1px);clip: rect(1px, 1px, 1px, 1px);height: 1px;margin: -1px;overflow: hidden;padding: 0;position: absolute;width: 1px;}#sk-container-id-10 div.sk-estimator {font-family: monospace;background-color: #f0f8ff;border: 1px dotted black;border-radius: 0.25em;box-sizing: border-box;margin-bottom: 0.5em;}#sk-container-id-10 div.sk-estimator:hover {background-color: #d4ebff;}#sk-container-id-10 div.sk-parallel-item::after {content: \"\";width: 100%;border-bottom: 1px solid gray;flex-grow: 1;}#sk-container-id-10 div.sk-label:hover label.sk-toggleable__label {background-color: #d4ebff;}#sk-container-id-10 div.sk-serial::before {content: \"\";position: absolute;border-left: 1px solid gray;box-sizing: border-box;top: 0;bottom: 0;left: 50%;z-index: 0;}#sk-container-id-10 div.sk-serial {display: flex;flex-direction: column;align-items: center;background-color: white;padding-right: 0.2em;padding-left: 0.2em;position: relative;}#sk-container-id-10 div.sk-item {position: relative;z-index: 1;}#sk-container-id-10 div.sk-parallel {display: flex;align-items: stretch;justify-content: center;background-color: white;position: relative;}#sk-container-id-10 div.sk-item::before, #sk-container-id-10 div.sk-parallel-item::before {content: \"\";position: absolute;border-left: 1px solid gray;box-sizing: border-box;top: 0;bottom: 0;left: 50%;z-index: -1;}#sk-container-id-10 div.sk-parallel-item {display: flex;flex-direction: column;z-index: 1;position: relative;background-color: white;}#sk-container-id-10 div.sk-parallel-item:first-child::after {align-self: flex-end;width: 50%;}#sk-container-id-10 div.sk-parallel-item:last-child::after {align-self: flex-start;width: 50%;}#sk-container-id-10 div.sk-parallel-item:only-child::after {width: 0;}#sk-container-id-10 div.sk-dashed-wrapped {border: 1px dashed gray;margin: 0 0.4em 0.5em 0.4em;box-sizing: border-box;padding-bottom: 0.4em;background-color: white;}#sk-container-id-10 div.sk-label label {font-family: monospace;font-weight: bold;display: inline-block;line-height: 1.2em;}#sk-container-id-10 div.sk-label-container {text-align: center;}#sk-container-id-10 div.sk-container {/* jupyter's `normalize.less` sets `[hidden] { display: none; }` but bootstrap.min.css set `[hidden] { display: none !important; }` so we also need the `!important` here to be able to override the default hidden behavior on the sphinx rendered scikit-learn.org. See: https://github.com/scikit-learn/scikit-learn/issues/21755 */display: inline-block !important;position: relative;}#sk-container-id-10 div.sk-text-repr-fallback {display: none;}</style><div id=\"sk-container-id-10\" class=\"sk-top-container\"><div class=\"sk-text-repr-fallback\"><pre>Pipeline(steps=[(&#x27;preprocessor&#x27;,\n",
       "                 ColumnTransformer(transformers=[(&#x27;num&#x27;,\n",
       "                                                  Pipeline(steps=[(&#x27;imputer&#x27;,\n",
       "                                                                   SimpleImputer(strategy=&#x27;median&#x27;)),\n",
       "                                                                  (&#x27;scaler&#x27;,\n",
       "                                                                   StandardScaler())]),\n",
       "                                                  [&#x27;price&#x27;]),\n",
       "                                                 (&#x27;cat&#x27;,\n",
       "                                                  Pipeline(steps=[(&#x27;imputer&#x27;,\n",
       "                                                                   SimpleImputer(fill_value=&#x27;missing&#x27;,\n",
       "                                                                                 strategy=&#x27;constant&#x27;)),\n",
       "                                                                  (&#x27;onehot&#x27;,\n",
       "                                                                   OneHotEncoder(handle_unknown=&#x27;ignore&#x27;,\n",
       "                                                                                 sparse_output=False))]),\n",
       "                                                  [&#x27;country&#x27;, &#x27;pr...\n",
       "                                                                                               &#x27;able&#x27;,\n",
       "                                                                                               &#x27;ably&#x27;,\n",
       "                                                                                               &#x27;abound&#x27;,\n",
       "                                                                                               &#x27;abounds&#x27;,\n",
       "                                                                                               &#x27;abouriou&#x27;,\n",
       "                                                                                               &#x27;aboveaverage&#x27;,\n",
       "                                                                                               &#x27;abrasive&#x27;,\n",
       "                                                                                               &#x27;abrupt&#x27;,\n",
       "                                                                                               &#x27;abruptly&#x27;,\n",
       "                                                                                               &#x27;abruzzo&#x27;,\n",
       "                                                                                               &#x27;absence&#x27;,\n",
       "                                                                                               &#x27;absolute&#x27;,\n",
       "                                                                                               &#x27;absolutely&#x27;,\n",
       "                                                                                               &#x27;absorb&#x27;,\n",
       "                                                                                               &#x27;absorbed&#x27;,\n",
       "                                                                                               &#x27;abundance&#x27;,\n",
       "                                                                                               &#x27;abundant&#x27;,\n",
       "                                                                                               &#x27;abundantly&#x27;,\n",
       "                                                                                               &#x27;abv&#x27;,\n",
       "                                                                                               &#x27;acacia&#x27;,\n",
       "                                                                                               &#x27;acai&#x27;,\n",
       "                                                                                               &#x27;acase&#x27;, ...})),\n",
       "                                                                  (&#x27;toarray&#x27;,\n",
       "                                                                   FunctionTransformer(func=&lt;function &lt;lambda&gt; at 0x000001EBDAD97B80&gt;))]),\n",
       "                                                  [&#x27;description&#x27;])])),\n",
       "                (&#x27;classifier&#x27;, Ridge())])</pre><b>In a Jupyter environment, please rerun this cell to show the HTML representation or trust the notebook. <br />On GitHub, the HTML representation is unable to render, please try loading this page with nbviewer.org.</b></div><div class=\"sk-container\" hidden><div class=\"sk-item sk-dashed-wrapped\"><div class=\"sk-label-container\"><div class=\"sk-label sk-toggleable\"><input class=\"sk-toggleable__control sk-hidden--visually\" id=\"sk-estimator-id-116\" type=\"checkbox\" ><label for=\"sk-estimator-id-116\" class=\"sk-toggleable__label sk-toggleable__label-arrow\">Pipeline</label><div class=\"sk-toggleable__content\"><pre>Pipeline(steps=[(&#x27;preprocessor&#x27;,\n",
       "                 ColumnTransformer(transformers=[(&#x27;num&#x27;,\n",
       "                                                  Pipeline(steps=[(&#x27;imputer&#x27;,\n",
       "                                                                   SimpleImputer(strategy=&#x27;median&#x27;)),\n",
       "                                                                  (&#x27;scaler&#x27;,\n",
       "                                                                   StandardScaler())]),\n",
       "                                                  [&#x27;price&#x27;]),\n",
       "                                                 (&#x27;cat&#x27;,\n",
       "                                                  Pipeline(steps=[(&#x27;imputer&#x27;,\n",
       "                                                                   SimpleImputer(fill_value=&#x27;missing&#x27;,\n",
       "                                                                                 strategy=&#x27;constant&#x27;)),\n",
       "                                                                  (&#x27;onehot&#x27;,\n",
       "                                                                   OneHotEncoder(handle_unknown=&#x27;ignore&#x27;,\n",
       "                                                                                 sparse_output=False))]),\n",
       "                                                  [&#x27;country&#x27;, &#x27;pr...\n",
       "                                                                                               &#x27;able&#x27;,\n",
       "                                                                                               &#x27;ably&#x27;,\n",
       "                                                                                               &#x27;abound&#x27;,\n",
       "                                                                                               &#x27;abounds&#x27;,\n",
       "                                                                                               &#x27;abouriou&#x27;,\n",
       "                                                                                               &#x27;aboveaverage&#x27;,\n",
       "                                                                                               &#x27;abrasive&#x27;,\n",
       "                                                                                               &#x27;abrupt&#x27;,\n",
       "                                                                                               &#x27;abruptly&#x27;,\n",
       "                                                                                               &#x27;abruzzo&#x27;,\n",
       "                                                                                               &#x27;absence&#x27;,\n",
       "                                                                                               &#x27;absolute&#x27;,\n",
       "                                                                                               &#x27;absolutely&#x27;,\n",
       "                                                                                               &#x27;absorb&#x27;,\n",
       "                                                                                               &#x27;absorbed&#x27;,\n",
       "                                                                                               &#x27;abundance&#x27;,\n",
       "                                                                                               &#x27;abundant&#x27;,\n",
       "                                                                                               &#x27;abundantly&#x27;,\n",
       "                                                                                               &#x27;abv&#x27;,\n",
       "                                                                                               &#x27;acacia&#x27;,\n",
       "                                                                                               &#x27;acai&#x27;,\n",
       "                                                                                               &#x27;acase&#x27;, ...})),\n",
       "                                                                  (&#x27;toarray&#x27;,\n",
       "                                                                   FunctionTransformer(func=&lt;function &lt;lambda&gt; at 0x000001EBDAD97B80&gt;))]),\n",
       "                                                  [&#x27;description&#x27;])])),\n",
       "                (&#x27;classifier&#x27;, Ridge())])</pre></div></div></div><div class=\"sk-serial\"><div class=\"sk-item sk-dashed-wrapped\"><div class=\"sk-label-container\"><div class=\"sk-label sk-toggleable\"><input class=\"sk-toggleable__control sk-hidden--visually\" id=\"sk-estimator-id-117\" type=\"checkbox\" ><label for=\"sk-estimator-id-117\" class=\"sk-toggleable__label sk-toggleable__label-arrow\">preprocessor: ColumnTransformer</label><div class=\"sk-toggleable__content\"><pre>ColumnTransformer(transformers=[(&#x27;num&#x27;,\n",
       "                                 Pipeline(steps=[(&#x27;imputer&#x27;,\n",
       "                                                  SimpleImputer(strategy=&#x27;median&#x27;)),\n",
       "                                                 (&#x27;scaler&#x27;, StandardScaler())]),\n",
       "                                 [&#x27;price&#x27;]),\n",
       "                                (&#x27;cat&#x27;,\n",
       "                                 Pipeline(steps=[(&#x27;imputer&#x27;,\n",
       "                                                  SimpleImputer(fill_value=&#x27;missing&#x27;,\n",
       "                                                                strategy=&#x27;constant&#x27;)),\n",
       "                                                 (&#x27;onehot&#x27;,\n",
       "                                                  OneHotEncoder(handle_unknown=&#x27;ignore&#x27;,\n",
       "                                                                sparse_output=False))]),\n",
       "                                 [&#x27;country&#x27;, &#x27;province&#x27;, &#x27;taster_name&#x27;,\n",
       "                                  &#x27;variety&#x27;]...\n",
       "                                                                              &#x27;abbott&#x27;,\n",
       "                                                                              &#x27;abbreviated&#x27;,\n",
       "                                                                              &#x27;ability&#x27;,\n",
       "                                                                              &#x27;able&#x27;,\n",
       "                                                                              &#x27;ably&#x27;,\n",
       "                                                                              &#x27;abound&#x27;,\n",
       "                                                                              &#x27;abounds&#x27;,\n",
       "                                                                              &#x27;abouriou&#x27;,\n",
       "                                                                              &#x27;aboveaverage&#x27;,\n",
       "                                                                              &#x27;abrasive&#x27;,\n",
       "                                                                              &#x27;abrupt&#x27;,\n",
       "                                                                              &#x27;abruptly&#x27;,\n",
       "                                                                              &#x27;abruzzo&#x27;,\n",
       "                                                                              &#x27;absence&#x27;,\n",
       "                                                                              &#x27;absolute&#x27;,\n",
       "                                                                              &#x27;absolutely&#x27;,\n",
       "                                                                              &#x27;absorb&#x27;,\n",
       "                                                                              &#x27;absorbed&#x27;,\n",
       "                                                                              &#x27;abundance&#x27;,\n",
       "                                                                              &#x27;abundant&#x27;,\n",
       "                                                                              &#x27;abundantly&#x27;,\n",
       "                                                                              &#x27;abv&#x27;,\n",
       "                                                                              &#x27;acacia&#x27;,\n",
       "                                                                              &#x27;acai&#x27;,\n",
       "                                                                              &#x27;acase&#x27;, ...})),\n",
       "                                                 (&#x27;toarray&#x27;,\n",
       "                                                  FunctionTransformer(func=&lt;function &lt;lambda&gt; at 0x000001EBDAD97B80&gt;))]),\n",
       "                                 [&#x27;description&#x27;])])</pre></div></div></div><div class=\"sk-parallel\"><div class=\"sk-parallel-item\"><div class=\"sk-item\"><div class=\"sk-label-container\"><div class=\"sk-label sk-toggleable\"><input class=\"sk-toggleable__control sk-hidden--visually\" id=\"sk-estimator-id-118\" type=\"checkbox\" ><label for=\"sk-estimator-id-118\" class=\"sk-toggleable__label sk-toggleable__label-arrow\">num</label><div class=\"sk-toggleable__content\"><pre>[&#x27;price&#x27;]</pre></div></div></div><div class=\"sk-serial\"><div class=\"sk-item\"><div class=\"sk-serial\"><div class=\"sk-item\"><div class=\"sk-estimator sk-toggleable\"><input class=\"sk-toggleable__control sk-hidden--visually\" id=\"sk-estimator-id-119\" type=\"checkbox\" ><label for=\"sk-estimator-id-119\" class=\"sk-toggleable__label sk-toggleable__label-arrow\">SimpleImputer</label><div class=\"sk-toggleable__content\"><pre>SimpleImputer(strategy=&#x27;median&#x27;)</pre></div></div></div><div class=\"sk-item\"><div class=\"sk-estimator sk-toggleable\"><input class=\"sk-toggleable__control sk-hidden--visually\" id=\"sk-estimator-id-120\" type=\"checkbox\" ><label for=\"sk-estimator-id-120\" class=\"sk-toggleable__label sk-toggleable__label-arrow\">StandardScaler</label><div class=\"sk-toggleable__content\"><pre>StandardScaler()</pre></div></div></div></div></div></div></div></div><div class=\"sk-parallel-item\"><div class=\"sk-item\"><div class=\"sk-label-container\"><div class=\"sk-label sk-toggleable\"><input class=\"sk-toggleable__control sk-hidden--visually\" id=\"sk-estimator-id-121\" type=\"checkbox\" ><label for=\"sk-estimator-id-121\" class=\"sk-toggleable__label sk-toggleable__label-arrow\">cat</label><div class=\"sk-toggleable__content\"><pre>[&#x27;country&#x27;, &#x27;province&#x27;, &#x27;taster_name&#x27;, &#x27;variety&#x27;]</pre></div></div></div><div class=\"sk-serial\"><div class=\"sk-item\"><div class=\"sk-serial\"><div class=\"sk-item\"><div class=\"sk-estimator sk-toggleable\"><input class=\"sk-toggleable__control sk-hidden--visually\" id=\"sk-estimator-id-122\" type=\"checkbox\" ><label for=\"sk-estimator-id-122\" class=\"sk-toggleable__label sk-toggleable__label-arrow\">SimpleImputer</label><div class=\"sk-toggleable__content\"><pre>SimpleImputer(fill_value=&#x27;missing&#x27;, strategy=&#x27;constant&#x27;)</pre></div></div></div><div class=\"sk-item\"><div class=\"sk-estimator sk-toggleable\"><input class=\"sk-toggleable__control sk-hidden--visually\" id=\"sk-estimator-id-123\" type=\"checkbox\" ><label for=\"sk-estimator-id-123\" class=\"sk-toggleable__label sk-toggleable__label-arrow\">OneHotEncoder</label><div class=\"sk-toggleable__content\"><pre>OneHotEncoder(handle_unknown=&#x27;ignore&#x27;, sparse_output=False)</pre></div></div></div></div></div></div></div></div><div class=\"sk-parallel-item\"><div class=\"sk-item\"><div class=\"sk-label-container\"><div class=\"sk-label sk-toggleable\"><input class=\"sk-toggleable__control sk-hidden--visually\" id=\"sk-estimator-id-124\" type=\"checkbox\" ><label for=\"sk-estimator-id-124\" class=\"sk-toggleable__label sk-toggleable__label-arrow\">txt</label><div class=\"sk-toggleable__content\"><pre>[&#x27;description&#x27;]</pre></div></div></div><div class=\"sk-serial\"><div class=\"sk-item\"><div class=\"sk-serial\"><div class=\"sk-item\"><div class=\"sk-estimator sk-toggleable\"><input class=\"sk-toggleable__control sk-hidden--visually\" id=\"sk-estimator-id-125\" type=\"checkbox\" ><label for=\"sk-estimator-id-125\" class=\"sk-toggleable__label sk-toggleable__label-arrow\">FunctionTransformer</label><div class=\"sk-toggleable__content\"><pre>FunctionTransformer(func=&lt;function &lt;lambda&gt; at 0x000001EC13DEEEE0&gt;)</pre></div></div></div><div class=\"sk-item\"><div class=\"sk-estimator sk-toggleable\"><input class=\"sk-toggleable__control sk-hidden--visually\" id=\"sk-estimator-id-126\" type=\"checkbox\" ><label for=\"sk-estimator-id-126\" class=\"sk-toggleable__label sk-toggleable__label-arrow\">TfidfVectorizer</label><div class=\"sk-toggleable__content\"><pre>TfidfVectorizer(vocabulary={&#x27;aacre&#x27;, &#x27;aaron&#x27;, &#x27;abacela&#x27;, &#x27;abandon&#x27;, &#x27;abbey&#x27;,\n",
       "                            &#x27;abbott&#x27;, &#x27;abbreviated&#x27;, &#x27;ability&#x27;, &#x27;able&#x27;, &#x27;ably&#x27;,\n",
       "                            &#x27;abound&#x27;, &#x27;abounds&#x27;, &#x27;abouriou&#x27;, &#x27;aboveaverage&#x27;,\n",
       "                            &#x27;abrasive&#x27;, &#x27;abrupt&#x27;, &#x27;abruptly&#x27;, &#x27;abruzzo&#x27;,\n",
       "                            &#x27;absence&#x27;, &#x27;absolute&#x27;, &#x27;absolutely&#x27;, &#x27;absorb&#x27;,\n",
       "                            &#x27;absorbed&#x27;, &#x27;abundance&#x27;, &#x27;abundant&#x27;, &#x27;abundantly&#x27;,\n",
       "                            &#x27;abv&#x27;, &#x27;acacia&#x27;, &#x27;acai&#x27;, &#x27;acase&#x27;, ...})</pre></div></div></div><div class=\"sk-item\"><div class=\"sk-estimator sk-toggleable\"><input class=\"sk-toggleable__control sk-hidden--visually\" id=\"sk-estimator-id-127\" type=\"checkbox\" ><label for=\"sk-estimator-id-127\" class=\"sk-toggleable__label sk-toggleable__label-arrow\">FunctionTransformer</label><div class=\"sk-toggleable__content\"><pre>FunctionTransformer(func=&lt;function &lt;lambda&gt; at 0x000001EBDAD97B80&gt;)</pre></div></div></div></div></div></div></div></div></div></div><div class=\"sk-item\"><div class=\"sk-estimator sk-toggleable\"><input class=\"sk-toggleable__control sk-hidden--visually\" id=\"sk-estimator-id-128\" type=\"checkbox\" ><label for=\"sk-estimator-id-128\" class=\"sk-toggleable__label sk-toggleable__label-arrow\">Ridge</label><div class=\"sk-toggleable__content\"><pre>Ridge()</pre></div></div></div></div></div></div></div>"
      ],
      "text/plain": [
       "Pipeline(steps=[('preprocessor',\n",
       "                 ColumnTransformer(transformers=[('num',\n",
       "                                                  Pipeline(steps=[('imputer',\n",
       "                                                                   SimpleImputer(strategy='median')),\n",
       "                                                                  ('scaler',\n",
       "                                                                   StandardScaler())]),\n",
       "                                                  ['price']),\n",
       "                                                 ('cat',\n",
       "                                                  Pipeline(steps=[('imputer',\n",
       "                                                                   SimpleImputer(fill_value='missing',\n",
       "                                                                                 strategy='constant')),\n",
       "                                                                  ('onehot',\n",
       "                                                                   OneHotEncoder(handle_unknown='ignore',\n",
       "                                                                                 sparse_output=False))]),\n",
       "                                                  ['country', 'pr...\n",
       "                                                                                               'able',\n",
       "                                                                                               'ably',\n",
       "                                                                                               'abound',\n",
       "                                                                                               'abounds',\n",
       "                                                                                               'abouriou',\n",
       "                                                                                               'aboveaverage',\n",
       "                                                                                               'abrasive',\n",
       "                                                                                               'abrupt',\n",
       "                                                                                               'abruptly',\n",
       "                                                                                               'abruzzo',\n",
       "                                                                                               'absence',\n",
       "                                                                                               'absolute',\n",
       "                                                                                               'absolutely',\n",
       "                                                                                               'absorb',\n",
       "                                                                                               'absorbed',\n",
       "                                                                                               'abundance',\n",
       "                                                                                               'abundant',\n",
       "                                                                                               'abundantly',\n",
       "                                                                                               'abv',\n",
       "                                                                                               'acacia',\n",
       "                                                                                               'acai',\n",
       "                                                                                               'acase', ...})),\n",
       "                                                                  ('toarray',\n",
       "                                                                   FunctionTransformer(func=<function <lambda> at 0x000001EBDAD97B80>))]),\n",
       "                                                  ['description'])])),\n",
       "                ('classifier', Ridge())])"
      ]
     },
     "execution_count": 100,
     "metadata": {},
     "output_type": "execute_result"
    }
   ],
   "source": [
    "from sklearn.linear_model import Ridge\n",
    "from sklearn.linear_model import Lasso\n",
    "from sklearn.decomposition import PCA\n",
    "\n",
    "# Create a full pipeline with a classifier with text\n",
    "pipeline_no_classifier = Pipeline(steps=[\n",
    "    ('preprocessor', wine_preprocessor),\n",
    "    #('dimension_reduction', 'passthrogh'),\n",
    "    ('classifier', Ridge())\n",
    "])\n",
    "pipeline_no_classifier"
   ]
  },
  {
   "cell_type": "code",
   "execution_count": 131,
   "id": "f193ed64-c3bf-4c6f-9e2a-279179766355",
   "metadata": {},
   "outputs": [],
   "source": [
    "param_grid = [   \n",
    "    {\n",
    "        'preprocessor__txt__tfidf__max_features': [500, None],\n",
    "        'classifier__alpha': [1, 10],\n",
    "    }\n",
    "]"
   ]
  },
  {
   "cell_type": "code",
   "execution_count": 132,
   "id": "d0dc3bdb-927a-45dc-9670-ab49933e4293",
   "metadata": {},
   "outputs": [
    {
     "data": {
      "text/html": [
       "<style>#sk-container-id-17 {color: black;background-color: white;}#sk-container-id-17 pre{padding: 0;}#sk-container-id-17 div.sk-toggleable {background-color: white;}#sk-container-id-17 label.sk-toggleable__label {cursor: pointer;display: block;width: 100%;margin-bottom: 0;padding: 0.3em;box-sizing: border-box;text-align: center;}#sk-container-id-17 label.sk-toggleable__label-arrow:before {content: \"▸\";float: left;margin-right: 0.25em;color: #696969;}#sk-container-id-17 label.sk-toggleable__label-arrow:hover:before {color: black;}#sk-container-id-17 div.sk-estimator:hover label.sk-toggleable__label-arrow:before {color: black;}#sk-container-id-17 div.sk-toggleable__content {max-height: 0;max-width: 0;overflow: hidden;text-align: left;background-color: #f0f8ff;}#sk-container-id-17 div.sk-toggleable__content pre {margin: 0.2em;color: black;border-radius: 0.25em;background-color: #f0f8ff;}#sk-container-id-17 input.sk-toggleable__control:checked~div.sk-toggleable__content {max-height: 200px;max-width: 100%;overflow: auto;}#sk-container-id-17 input.sk-toggleable__control:checked~label.sk-toggleable__label-arrow:before {content: \"▾\";}#sk-container-id-17 div.sk-estimator input.sk-toggleable__control:checked~label.sk-toggleable__label {background-color: #d4ebff;}#sk-container-id-17 div.sk-label input.sk-toggleable__control:checked~label.sk-toggleable__label {background-color: #d4ebff;}#sk-container-id-17 input.sk-hidden--visually {border: 0;clip: rect(1px 1px 1px 1px);clip: rect(1px, 1px, 1px, 1px);height: 1px;margin: -1px;overflow: hidden;padding: 0;position: absolute;width: 1px;}#sk-container-id-17 div.sk-estimator {font-family: monospace;background-color: #f0f8ff;border: 1px dotted black;border-radius: 0.25em;box-sizing: border-box;margin-bottom: 0.5em;}#sk-container-id-17 div.sk-estimator:hover {background-color: #d4ebff;}#sk-container-id-17 div.sk-parallel-item::after {content: \"\";width: 100%;border-bottom: 1px solid gray;flex-grow: 1;}#sk-container-id-17 div.sk-label:hover label.sk-toggleable__label {background-color: #d4ebff;}#sk-container-id-17 div.sk-serial::before {content: \"\";position: absolute;border-left: 1px solid gray;box-sizing: border-box;top: 0;bottom: 0;left: 50%;z-index: 0;}#sk-container-id-17 div.sk-serial {display: flex;flex-direction: column;align-items: center;background-color: white;padding-right: 0.2em;padding-left: 0.2em;position: relative;}#sk-container-id-17 div.sk-item {position: relative;z-index: 1;}#sk-container-id-17 div.sk-parallel {display: flex;align-items: stretch;justify-content: center;background-color: white;position: relative;}#sk-container-id-17 div.sk-item::before, #sk-container-id-17 div.sk-parallel-item::before {content: \"\";position: absolute;border-left: 1px solid gray;box-sizing: border-box;top: 0;bottom: 0;left: 50%;z-index: -1;}#sk-container-id-17 div.sk-parallel-item {display: flex;flex-direction: column;z-index: 1;position: relative;background-color: white;}#sk-container-id-17 div.sk-parallel-item:first-child::after {align-self: flex-end;width: 50%;}#sk-container-id-17 div.sk-parallel-item:last-child::after {align-self: flex-start;width: 50%;}#sk-container-id-17 div.sk-parallel-item:only-child::after {width: 0;}#sk-container-id-17 div.sk-dashed-wrapped {border: 1px dashed gray;margin: 0 0.4em 0.5em 0.4em;box-sizing: border-box;padding-bottom: 0.4em;background-color: white;}#sk-container-id-17 div.sk-label label {font-family: monospace;font-weight: bold;display: inline-block;line-height: 1.2em;}#sk-container-id-17 div.sk-label-container {text-align: center;}#sk-container-id-17 div.sk-container {/* jupyter's `normalize.less` sets `[hidden] { display: none; }` but bootstrap.min.css set `[hidden] { display: none !important; }` so we also need the `!important` here to be able to override the default hidden behavior on the sphinx rendered scikit-learn.org. See: https://github.com/scikit-learn/scikit-learn/issues/21755 */display: inline-block !important;position: relative;}#sk-container-id-17 div.sk-text-repr-fallback {display: none;}</style><div id=\"sk-container-id-17\" class=\"sk-top-container\"><div class=\"sk-text-repr-fallback\"><pre>GridSearchCV(cv=3,\n",
       "             estimator=Pipeline(steps=[(&#x27;preprocessor&#x27;,\n",
       "                                        ColumnTransformer(transformers=[(&#x27;num&#x27;,\n",
       "                                                                         Pipeline(steps=[(&#x27;imputer&#x27;,\n",
       "                                                                                          SimpleImputer(strategy=&#x27;median&#x27;)),\n",
       "                                                                                         (&#x27;scaler&#x27;,\n",
       "                                                                                          StandardScaler())]),\n",
       "                                                                         [&#x27;price&#x27;]),\n",
       "                                                                        (&#x27;cat&#x27;,\n",
       "                                                                         Pipeline(steps=[(&#x27;imputer&#x27;,\n",
       "                                                                                          SimpleImputer(fill_value=&#x27;missing&#x27;,\n",
       "                                                                                                        strategy=&#x27;constant&#x27;)),\n",
       "                                                                                         (&#x27;onehot&#x27;,\n",
       "                                                                                          OneHotEncoder(handle_unknown=&#x27;ignore&#x27;,\n",
       "                                                                                                        sparse_out...\n",
       "                                                                                                                      &#x27;absolute&#x27;,\n",
       "                                                                                                                      &#x27;absolutely&#x27;,\n",
       "                                                                                                                      &#x27;absorb&#x27;,\n",
       "                                                                                                                      &#x27;absorbed&#x27;,\n",
       "                                                                                                                      &#x27;abundance&#x27;,\n",
       "                                                                                                                      &#x27;abundant&#x27;,\n",
       "                                                                                                                      &#x27;abundantly&#x27;,\n",
       "                                                                                                                      &#x27;abv&#x27;,\n",
       "                                                                                                                      &#x27;acacia&#x27;,\n",
       "                                                                                                                      &#x27;acai&#x27;,\n",
       "                                                                                                                      &#x27;acase&#x27;, ...})),\n",
       "                                                                                         (&#x27;toarray&#x27;,\n",
       "                                                                                          FunctionTransformer(func=&lt;function &lt;lambda&gt; at 0x000001EBDAD97B80&gt;))]),\n",
       "                                                                         [&#x27;description&#x27;])])),\n",
       "                                       (&#x27;classifier&#x27;, Ridge())]),\n",
       "             param_grid=[{&#x27;classifier__alpha&#x27;: [1, 10],\n",
       "                          &#x27;preprocessor__txt__tfidf__max_features&#x27;: [500,\n",
       "                                                                     None]}],\n",
       "             scoring=&#x27;r2&#x27;, verbose=5)</pre><b>In a Jupyter environment, please rerun this cell to show the HTML representation or trust the notebook. <br />On GitHub, the HTML representation is unable to render, please try loading this page with nbviewer.org.</b></div><div class=\"sk-container\" hidden><div class=\"sk-item sk-dashed-wrapped\"><div class=\"sk-label-container\"><div class=\"sk-label sk-toggleable\"><input class=\"sk-toggleable__control sk-hidden--visually\" id=\"sk-estimator-id-212\" type=\"checkbox\" ><label for=\"sk-estimator-id-212\" class=\"sk-toggleable__label sk-toggleable__label-arrow\">GridSearchCV</label><div class=\"sk-toggleable__content\"><pre>GridSearchCV(cv=3,\n",
       "             estimator=Pipeline(steps=[(&#x27;preprocessor&#x27;,\n",
       "                                        ColumnTransformer(transformers=[(&#x27;num&#x27;,\n",
       "                                                                         Pipeline(steps=[(&#x27;imputer&#x27;,\n",
       "                                                                                          SimpleImputer(strategy=&#x27;median&#x27;)),\n",
       "                                                                                         (&#x27;scaler&#x27;,\n",
       "                                                                                          StandardScaler())]),\n",
       "                                                                         [&#x27;price&#x27;]),\n",
       "                                                                        (&#x27;cat&#x27;,\n",
       "                                                                         Pipeline(steps=[(&#x27;imputer&#x27;,\n",
       "                                                                                          SimpleImputer(fill_value=&#x27;missing&#x27;,\n",
       "                                                                                                        strategy=&#x27;constant&#x27;)),\n",
       "                                                                                         (&#x27;onehot&#x27;,\n",
       "                                                                                          OneHotEncoder(handle_unknown=&#x27;ignore&#x27;,\n",
       "                                                                                                        sparse_out...\n",
       "                                                                                                                      &#x27;absolute&#x27;,\n",
       "                                                                                                                      &#x27;absolutely&#x27;,\n",
       "                                                                                                                      &#x27;absorb&#x27;,\n",
       "                                                                                                                      &#x27;absorbed&#x27;,\n",
       "                                                                                                                      &#x27;abundance&#x27;,\n",
       "                                                                                                                      &#x27;abundant&#x27;,\n",
       "                                                                                                                      &#x27;abundantly&#x27;,\n",
       "                                                                                                                      &#x27;abv&#x27;,\n",
       "                                                                                                                      &#x27;acacia&#x27;,\n",
       "                                                                                                                      &#x27;acai&#x27;,\n",
       "                                                                                                                      &#x27;acase&#x27;, ...})),\n",
       "                                                                                         (&#x27;toarray&#x27;,\n",
       "                                                                                          FunctionTransformer(func=&lt;function &lt;lambda&gt; at 0x000001EBDAD97B80&gt;))]),\n",
       "                                                                         [&#x27;description&#x27;])])),\n",
       "                                       (&#x27;classifier&#x27;, Ridge())]),\n",
       "             param_grid=[{&#x27;classifier__alpha&#x27;: [1, 10],\n",
       "                          &#x27;preprocessor__txt__tfidf__max_features&#x27;: [500,\n",
       "                                                                     None]}],\n",
       "             scoring=&#x27;r2&#x27;, verbose=5)</pre></div></div></div><div class=\"sk-parallel\"><div class=\"sk-parallel-item\"><div class=\"sk-item\"><div class=\"sk-label-container\"><div class=\"sk-label sk-toggleable\"><input class=\"sk-toggleable__control sk-hidden--visually\" id=\"sk-estimator-id-213\" type=\"checkbox\" ><label for=\"sk-estimator-id-213\" class=\"sk-toggleable__label sk-toggleable__label-arrow\">estimator: Pipeline</label><div class=\"sk-toggleable__content\"><pre>Pipeline(steps=[(&#x27;preprocessor&#x27;,\n",
       "                 ColumnTransformer(transformers=[(&#x27;num&#x27;,\n",
       "                                                  Pipeline(steps=[(&#x27;imputer&#x27;,\n",
       "                                                                   SimpleImputer(strategy=&#x27;median&#x27;)),\n",
       "                                                                  (&#x27;scaler&#x27;,\n",
       "                                                                   StandardScaler())]),\n",
       "                                                  [&#x27;price&#x27;]),\n",
       "                                                 (&#x27;cat&#x27;,\n",
       "                                                  Pipeline(steps=[(&#x27;imputer&#x27;,\n",
       "                                                                   SimpleImputer(fill_value=&#x27;missing&#x27;,\n",
       "                                                                                 strategy=&#x27;constant&#x27;)),\n",
       "                                                                  (&#x27;onehot&#x27;,\n",
       "                                                                   OneHotEncoder(handle_unknown=&#x27;ignore&#x27;,\n",
       "                                                                                 sparse_output=False))]),\n",
       "                                                  [&#x27;country&#x27;, &#x27;pr...\n",
       "                                                                                               &#x27;able&#x27;,\n",
       "                                                                                               &#x27;ably&#x27;,\n",
       "                                                                                               &#x27;abound&#x27;,\n",
       "                                                                                               &#x27;abounds&#x27;,\n",
       "                                                                                               &#x27;abouriou&#x27;,\n",
       "                                                                                               &#x27;aboveaverage&#x27;,\n",
       "                                                                                               &#x27;abrasive&#x27;,\n",
       "                                                                                               &#x27;abrupt&#x27;,\n",
       "                                                                                               &#x27;abruptly&#x27;,\n",
       "                                                                                               &#x27;abruzzo&#x27;,\n",
       "                                                                                               &#x27;absence&#x27;,\n",
       "                                                                                               &#x27;absolute&#x27;,\n",
       "                                                                                               &#x27;absolutely&#x27;,\n",
       "                                                                                               &#x27;absorb&#x27;,\n",
       "                                                                                               &#x27;absorbed&#x27;,\n",
       "                                                                                               &#x27;abundance&#x27;,\n",
       "                                                                                               &#x27;abundant&#x27;,\n",
       "                                                                                               &#x27;abundantly&#x27;,\n",
       "                                                                                               &#x27;abv&#x27;,\n",
       "                                                                                               &#x27;acacia&#x27;,\n",
       "                                                                                               &#x27;acai&#x27;,\n",
       "                                                                                               &#x27;acase&#x27;, ...})),\n",
       "                                                                  (&#x27;toarray&#x27;,\n",
       "                                                                   FunctionTransformer(func=&lt;function &lt;lambda&gt; at 0x000001EBDAD97B80&gt;))]),\n",
       "                                                  [&#x27;description&#x27;])])),\n",
       "                (&#x27;classifier&#x27;, Ridge())])</pre></div></div></div><div class=\"sk-serial\"><div class=\"sk-item\"><div class=\"sk-serial\"><div class=\"sk-item sk-dashed-wrapped\"><div class=\"sk-label-container\"><div class=\"sk-label sk-toggleable\"><input class=\"sk-toggleable__control sk-hidden--visually\" id=\"sk-estimator-id-214\" type=\"checkbox\" ><label for=\"sk-estimator-id-214\" class=\"sk-toggleable__label sk-toggleable__label-arrow\">preprocessor: ColumnTransformer</label><div class=\"sk-toggleable__content\"><pre>ColumnTransformer(transformers=[(&#x27;num&#x27;,\n",
       "                                 Pipeline(steps=[(&#x27;imputer&#x27;,\n",
       "                                                  SimpleImputer(strategy=&#x27;median&#x27;)),\n",
       "                                                 (&#x27;scaler&#x27;, StandardScaler())]),\n",
       "                                 [&#x27;price&#x27;]),\n",
       "                                (&#x27;cat&#x27;,\n",
       "                                 Pipeline(steps=[(&#x27;imputer&#x27;,\n",
       "                                                  SimpleImputer(fill_value=&#x27;missing&#x27;,\n",
       "                                                                strategy=&#x27;constant&#x27;)),\n",
       "                                                 (&#x27;onehot&#x27;,\n",
       "                                                  OneHotEncoder(handle_unknown=&#x27;ignore&#x27;,\n",
       "                                                                sparse_output=False))]),\n",
       "                                 [&#x27;country&#x27;, &#x27;province&#x27;, &#x27;taster_name&#x27;,\n",
       "                                  &#x27;variety&#x27;]...\n",
       "                                                                              &#x27;abbott&#x27;,\n",
       "                                                                              &#x27;abbreviated&#x27;,\n",
       "                                                                              &#x27;ability&#x27;,\n",
       "                                                                              &#x27;able&#x27;,\n",
       "                                                                              &#x27;ably&#x27;,\n",
       "                                                                              &#x27;abound&#x27;,\n",
       "                                                                              &#x27;abounds&#x27;,\n",
       "                                                                              &#x27;abouriou&#x27;,\n",
       "                                                                              &#x27;aboveaverage&#x27;,\n",
       "                                                                              &#x27;abrasive&#x27;,\n",
       "                                                                              &#x27;abrupt&#x27;,\n",
       "                                                                              &#x27;abruptly&#x27;,\n",
       "                                                                              &#x27;abruzzo&#x27;,\n",
       "                                                                              &#x27;absence&#x27;,\n",
       "                                                                              &#x27;absolute&#x27;,\n",
       "                                                                              &#x27;absolutely&#x27;,\n",
       "                                                                              &#x27;absorb&#x27;,\n",
       "                                                                              &#x27;absorbed&#x27;,\n",
       "                                                                              &#x27;abundance&#x27;,\n",
       "                                                                              &#x27;abundant&#x27;,\n",
       "                                                                              &#x27;abundantly&#x27;,\n",
       "                                                                              &#x27;abv&#x27;,\n",
       "                                                                              &#x27;acacia&#x27;,\n",
       "                                                                              &#x27;acai&#x27;,\n",
       "                                                                              &#x27;acase&#x27;, ...})),\n",
       "                                                 (&#x27;toarray&#x27;,\n",
       "                                                  FunctionTransformer(func=&lt;function &lt;lambda&gt; at 0x000001EBDAD97B80&gt;))]),\n",
       "                                 [&#x27;description&#x27;])])</pre></div></div></div><div class=\"sk-parallel\"><div class=\"sk-parallel-item\"><div class=\"sk-item\"><div class=\"sk-label-container\"><div class=\"sk-label sk-toggleable\"><input class=\"sk-toggleable__control sk-hidden--visually\" id=\"sk-estimator-id-215\" type=\"checkbox\" ><label for=\"sk-estimator-id-215\" class=\"sk-toggleable__label sk-toggleable__label-arrow\">num</label><div class=\"sk-toggleable__content\"><pre>[&#x27;price&#x27;]</pre></div></div></div><div class=\"sk-serial\"><div class=\"sk-item\"><div class=\"sk-serial\"><div class=\"sk-item\"><div class=\"sk-estimator sk-toggleable\"><input class=\"sk-toggleable__control sk-hidden--visually\" id=\"sk-estimator-id-216\" type=\"checkbox\" ><label for=\"sk-estimator-id-216\" class=\"sk-toggleable__label sk-toggleable__label-arrow\">SimpleImputer</label><div class=\"sk-toggleable__content\"><pre>SimpleImputer(strategy=&#x27;median&#x27;)</pre></div></div></div><div class=\"sk-item\"><div class=\"sk-estimator sk-toggleable\"><input class=\"sk-toggleable__control sk-hidden--visually\" id=\"sk-estimator-id-217\" type=\"checkbox\" ><label for=\"sk-estimator-id-217\" class=\"sk-toggleable__label sk-toggleable__label-arrow\">StandardScaler</label><div class=\"sk-toggleable__content\"><pre>StandardScaler()</pre></div></div></div></div></div></div></div></div><div class=\"sk-parallel-item\"><div class=\"sk-item\"><div class=\"sk-label-container\"><div class=\"sk-label sk-toggleable\"><input class=\"sk-toggleable__control sk-hidden--visually\" id=\"sk-estimator-id-218\" type=\"checkbox\" ><label for=\"sk-estimator-id-218\" class=\"sk-toggleable__label sk-toggleable__label-arrow\">cat</label><div class=\"sk-toggleable__content\"><pre>[&#x27;country&#x27;, &#x27;province&#x27;, &#x27;taster_name&#x27;, &#x27;variety&#x27;]</pre></div></div></div><div class=\"sk-serial\"><div class=\"sk-item\"><div class=\"sk-serial\"><div class=\"sk-item\"><div class=\"sk-estimator sk-toggleable\"><input class=\"sk-toggleable__control sk-hidden--visually\" id=\"sk-estimator-id-219\" type=\"checkbox\" ><label for=\"sk-estimator-id-219\" class=\"sk-toggleable__label sk-toggleable__label-arrow\">SimpleImputer</label><div class=\"sk-toggleable__content\"><pre>SimpleImputer(fill_value=&#x27;missing&#x27;, strategy=&#x27;constant&#x27;)</pre></div></div></div><div class=\"sk-item\"><div class=\"sk-estimator sk-toggleable\"><input class=\"sk-toggleable__control sk-hidden--visually\" id=\"sk-estimator-id-220\" type=\"checkbox\" ><label for=\"sk-estimator-id-220\" class=\"sk-toggleable__label sk-toggleable__label-arrow\">OneHotEncoder</label><div class=\"sk-toggleable__content\"><pre>OneHotEncoder(handle_unknown=&#x27;ignore&#x27;, sparse_output=False)</pre></div></div></div></div></div></div></div></div><div class=\"sk-parallel-item\"><div class=\"sk-item\"><div class=\"sk-label-container\"><div class=\"sk-label sk-toggleable\"><input class=\"sk-toggleable__control sk-hidden--visually\" id=\"sk-estimator-id-221\" type=\"checkbox\" ><label for=\"sk-estimator-id-221\" class=\"sk-toggleable__label sk-toggleable__label-arrow\">txt</label><div class=\"sk-toggleable__content\"><pre>[&#x27;description&#x27;]</pre></div></div></div><div class=\"sk-serial\"><div class=\"sk-item\"><div class=\"sk-serial\"><div class=\"sk-item\"><div class=\"sk-estimator sk-toggleable\"><input class=\"sk-toggleable__control sk-hidden--visually\" id=\"sk-estimator-id-222\" type=\"checkbox\" ><label for=\"sk-estimator-id-222\" class=\"sk-toggleable__label sk-toggleable__label-arrow\">FunctionTransformer</label><div class=\"sk-toggleable__content\"><pre>FunctionTransformer(func=&lt;function &lt;lambda&gt; at 0x000001EC13DEEEE0&gt;)</pre></div></div></div><div class=\"sk-item\"><div class=\"sk-estimator sk-toggleable\"><input class=\"sk-toggleable__control sk-hidden--visually\" id=\"sk-estimator-id-223\" type=\"checkbox\" ><label for=\"sk-estimator-id-223\" class=\"sk-toggleable__label sk-toggleable__label-arrow\">TfidfVectorizer</label><div class=\"sk-toggleable__content\"><pre>TfidfVectorizer(vocabulary={&#x27;aacre&#x27;, &#x27;aaron&#x27;, &#x27;abacela&#x27;, &#x27;abandon&#x27;, &#x27;abbey&#x27;,\n",
       "                            &#x27;abbott&#x27;, &#x27;abbreviated&#x27;, &#x27;ability&#x27;, &#x27;able&#x27;, &#x27;ably&#x27;,\n",
       "                            &#x27;abound&#x27;, &#x27;abounds&#x27;, &#x27;abouriou&#x27;, &#x27;aboveaverage&#x27;,\n",
       "                            &#x27;abrasive&#x27;, &#x27;abrupt&#x27;, &#x27;abruptly&#x27;, &#x27;abruzzo&#x27;,\n",
       "                            &#x27;absence&#x27;, &#x27;absolute&#x27;, &#x27;absolutely&#x27;, &#x27;absorb&#x27;,\n",
       "                            &#x27;absorbed&#x27;, &#x27;abundance&#x27;, &#x27;abundant&#x27;, &#x27;abundantly&#x27;,\n",
       "                            &#x27;abv&#x27;, &#x27;acacia&#x27;, &#x27;acai&#x27;, &#x27;acase&#x27;, ...})</pre></div></div></div><div class=\"sk-item\"><div class=\"sk-estimator sk-toggleable\"><input class=\"sk-toggleable__control sk-hidden--visually\" id=\"sk-estimator-id-224\" type=\"checkbox\" ><label for=\"sk-estimator-id-224\" class=\"sk-toggleable__label sk-toggleable__label-arrow\">FunctionTransformer</label><div class=\"sk-toggleable__content\"><pre>FunctionTransformer(func=&lt;function &lt;lambda&gt; at 0x000001EBDAD97B80&gt;)</pre></div></div></div></div></div></div></div></div></div></div><div class=\"sk-item\"><div class=\"sk-estimator sk-toggleable\"><input class=\"sk-toggleable__control sk-hidden--visually\" id=\"sk-estimator-id-225\" type=\"checkbox\" ><label for=\"sk-estimator-id-225\" class=\"sk-toggleable__label sk-toggleable__label-arrow\">Ridge</label><div class=\"sk-toggleable__content\"><pre>Ridge()</pre></div></div></div></div></div></div></div></div></div></div></div></div>"
      ],
      "text/plain": [
       "GridSearchCV(cv=3,\n",
       "             estimator=Pipeline(steps=[('preprocessor',\n",
       "                                        ColumnTransformer(transformers=[('num',\n",
       "                                                                         Pipeline(steps=[('imputer',\n",
       "                                                                                          SimpleImputer(strategy='median')),\n",
       "                                                                                         ('scaler',\n",
       "                                                                                          StandardScaler())]),\n",
       "                                                                         ['price']),\n",
       "                                                                        ('cat',\n",
       "                                                                         Pipeline(steps=[('imputer',\n",
       "                                                                                          SimpleImputer(fill_value='missing',\n",
       "                                                                                                        strategy='constant')),\n",
       "                                                                                         ('onehot',\n",
       "                                                                                          OneHotEncoder(handle_unknown='ignore',\n",
       "                                                                                                        sparse_out...\n",
       "                                                                                                                      'absolute',\n",
       "                                                                                                                      'absolutely',\n",
       "                                                                                                                      'absorb',\n",
       "                                                                                                                      'absorbed',\n",
       "                                                                                                                      'abundance',\n",
       "                                                                                                                      'abundant',\n",
       "                                                                                                                      'abundantly',\n",
       "                                                                                                                      'abv',\n",
       "                                                                                                                      'acacia',\n",
       "                                                                                                                      'acai',\n",
       "                                                                                                                      'acase', ...})),\n",
       "                                                                                         ('toarray',\n",
       "                                                                                          FunctionTransformer(func=<function <lambda> at 0x000001EBDAD97B80>))]),\n",
       "                                                                         ['description'])])),\n",
       "                                       ('classifier', Ridge())]),\n",
       "             param_grid=[{'classifier__alpha': [1, 10],\n",
       "                          'preprocessor__txt__tfidf__max_features': [500,\n",
       "                                                                     None]}],\n",
       "             scoring='r2', verbose=5)"
      ]
     },
     "execution_count": 132,
     "metadata": {},
     "output_type": "execute_result"
    }
   ],
   "source": [
    "from sklearn.model_selection import GridSearchCV\n",
    "full_pipeline_grid_search = GridSearchCV(pipeline_no_classifier, param_grid = param_grid, cv=3, scoring='r2', verbose=5)\n",
    "full_pipeline_grid_search"
   ]
  },
  {
   "cell_type": "code",
   "execution_count": 211,
   "id": "ee3859c5-bf6d-4ff7-87e7-628f0d5c4d8d",
   "metadata": {},
   "outputs": [],
   "source": [
    "x = reviews.drop(columns={'points'})\n",
    "x['price'] = np.log(x['price'])\n",
    "y = reviews['points']\n",
    "X_train, X_test, y_train, y_test = train_test_split(x, y, test_size=0.2, random_state=42)"
   ]
  },
  {
   "cell_type": "code",
   "execution_count": 134,
   "id": "1c6de521-c87c-4385-84e5-0232c249e124",
   "metadata": {},
   "outputs": [
    {
     "name": "stdout",
     "output_type": "stream",
     "text": [
      "Fitting 3 folds for each of 4 candidates, totalling 12 fits\n",
      "[CV 1/3] END classifier__alpha=1, preprocessor__txt__tfidf__max_features=500;, score=0.750 total time= 4.6min\n",
      "[CV 2/3] END classifier__alpha=1, preprocessor__txt__tfidf__max_features=500;, score=0.746 total time= 4.3min\n",
      "[CV 3/3] END classifier__alpha=1, preprocessor__txt__tfidf__max_features=500;, score=0.751 total time= 4.2min\n",
      "[CV 1/3] END classifier__alpha=1, preprocessor__txt__tfidf__max_features=None;, score=0.750 total time= 4.2min\n",
      "[CV 2/3] END classifier__alpha=1, preprocessor__txt__tfidf__max_features=None;, score=0.746 total time= 4.2min\n",
      "[CV 3/3] END classifier__alpha=1, preprocessor__txt__tfidf__max_features=None;, score=0.751 total time= 4.2min\n",
      "[CV 1/3] END classifier__alpha=10, preprocessor__txt__tfidf__max_features=500;, score=0.720 total time= 4.3min\n",
      "[CV 2/3] END classifier__alpha=10, preprocessor__txt__tfidf__max_features=500;, score=0.717 total time= 4.2min\n",
      "[CV 3/3] END classifier__alpha=10, preprocessor__txt__tfidf__max_features=500;, score=0.722 total time= 4.2min\n",
      "[CV 1/3] END classifier__alpha=10, preprocessor__txt__tfidf__max_features=None;, score=0.720 total time= 4.2min\n",
      "[CV 2/3] END classifier__alpha=10, preprocessor__txt__tfidf__max_features=None;, score=0.717 total time= 4.2min\n",
      "[CV 3/3] END classifier__alpha=10, preprocessor__txt__tfidf__max_features=None;, score=0.722 total time= 4.2min\n"
     ]
    },
    {
     "data": {
      "text/html": [
       "<style>#sk-container-id-18 {color: black;background-color: white;}#sk-container-id-18 pre{padding: 0;}#sk-container-id-18 div.sk-toggleable {background-color: white;}#sk-container-id-18 label.sk-toggleable__label {cursor: pointer;display: block;width: 100%;margin-bottom: 0;padding: 0.3em;box-sizing: border-box;text-align: center;}#sk-container-id-18 label.sk-toggleable__label-arrow:before {content: \"▸\";float: left;margin-right: 0.25em;color: #696969;}#sk-container-id-18 label.sk-toggleable__label-arrow:hover:before {color: black;}#sk-container-id-18 div.sk-estimator:hover label.sk-toggleable__label-arrow:before {color: black;}#sk-container-id-18 div.sk-toggleable__content {max-height: 0;max-width: 0;overflow: hidden;text-align: left;background-color: #f0f8ff;}#sk-container-id-18 div.sk-toggleable__content pre {margin: 0.2em;color: black;border-radius: 0.25em;background-color: #f0f8ff;}#sk-container-id-18 input.sk-toggleable__control:checked~div.sk-toggleable__content {max-height: 200px;max-width: 100%;overflow: auto;}#sk-container-id-18 input.sk-toggleable__control:checked~label.sk-toggleable__label-arrow:before {content: \"▾\";}#sk-container-id-18 div.sk-estimator input.sk-toggleable__control:checked~label.sk-toggleable__label {background-color: #d4ebff;}#sk-container-id-18 div.sk-label input.sk-toggleable__control:checked~label.sk-toggleable__label {background-color: #d4ebff;}#sk-container-id-18 input.sk-hidden--visually {border: 0;clip: rect(1px 1px 1px 1px);clip: rect(1px, 1px, 1px, 1px);height: 1px;margin: -1px;overflow: hidden;padding: 0;position: absolute;width: 1px;}#sk-container-id-18 div.sk-estimator {font-family: monospace;background-color: #f0f8ff;border: 1px dotted black;border-radius: 0.25em;box-sizing: border-box;margin-bottom: 0.5em;}#sk-container-id-18 div.sk-estimator:hover {background-color: #d4ebff;}#sk-container-id-18 div.sk-parallel-item::after {content: \"\";width: 100%;border-bottom: 1px solid gray;flex-grow: 1;}#sk-container-id-18 div.sk-label:hover label.sk-toggleable__label {background-color: #d4ebff;}#sk-container-id-18 div.sk-serial::before {content: \"\";position: absolute;border-left: 1px solid gray;box-sizing: border-box;top: 0;bottom: 0;left: 50%;z-index: 0;}#sk-container-id-18 div.sk-serial {display: flex;flex-direction: column;align-items: center;background-color: white;padding-right: 0.2em;padding-left: 0.2em;position: relative;}#sk-container-id-18 div.sk-item {position: relative;z-index: 1;}#sk-container-id-18 div.sk-parallel {display: flex;align-items: stretch;justify-content: center;background-color: white;position: relative;}#sk-container-id-18 div.sk-item::before, #sk-container-id-18 div.sk-parallel-item::before {content: \"\";position: absolute;border-left: 1px solid gray;box-sizing: border-box;top: 0;bottom: 0;left: 50%;z-index: -1;}#sk-container-id-18 div.sk-parallel-item {display: flex;flex-direction: column;z-index: 1;position: relative;background-color: white;}#sk-container-id-18 div.sk-parallel-item:first-child::after {align-self: flex-end;width: 50%;}#sk-container-id-18 div.sk-parallel-item:last-child::after {align-self: flex-start;width: 50%;}#sk-container-id-18 div.sk-parallel-item:only-child::after {width: 0;}#sk-container-id-18 div.sk-dashed-wrapped {border: 1px dashed gray;margin: 0 0.4em 0.5em 0.4em;box-sizing: border-box;padding-bottom: 0.4em;background-color: white;}#sk-container-id-18 div.sk-label label {font-family: monospace;font-weight: bold;display: inline-block;line-height: 1.2em;}#sk-container-id-18 div.sk-label-container {text-align: center;}#sk-container-id-18 div.sk-container {/* jupyter's `normalize.less` sets `[hidden] { display: none; }` but bootstrap.min.css set `[hidden] { display: none !important; }` so we also need the `!important` here to be able to override the default hidden behavior on the sphinx rendered scikit-learn.org. See: https://github.com/scikit-learn/scikit-learn/issues/21755 */display: inline-block !important;position: relative;}#sk-container-id-18 div.sk-text-repr-fallback {display: none;}</style><div id=\"sk-container-id-18\" class=\"sk-top-container\"><div class=\"sk-text-repr-fallback\"><pre>GridSearchCV(cv=3,\n",
       "             estimator=Pipeline(steps=[(&#x27;preprocessor&#x27;,\n",
       "                                        ColumnTransformer(transformers=[(&#x27;num&#x27;,\n",
       "                                                                         Pipeline(steps=[(&#x27;imputer&#x27;,\n",
       "                                                                                          SimpleImputer(strategy=&#x27;median&#x27;)),\n",
       "                                                                                         (&#x27;scaler&#x27;,\n",
       "                                                                                          StandardScaler())]),\n",
       "                                                                         [&#x27;price&#x27;]),\n",
       "                                                                        (&#x27;cat&#x27;,\n",
       "                                                                         Pipeline(steps=[(&#x27;imputer&#x27;,\n",
       "                                                                                          SimpleImputer(fill_value=&#x27;missing&#x27;,\n",
       "                                                                                                        strategy=&#x27;constant&#x27;)),\n",
       "                                                                                         (&#x27;onehot&#x27;,\n",
       "                                                                                          OneHotEncoder(handle_unknown=&#x27;ignore&#x27;,\n",
       "                                                                                                        sparse_out...\n",
       "                                                                                                                      &#x27;absolute&#x27;,\n",
       "                                                                                                                      &#x27;absolutely&#x27;,\n",
       "                                                                                                                      &#x27;absorb&#x27;,\n",
       "                                                                                                                      &#x27;absorbed&#x27;,\n",
       "                                                                                                                      &#x27;abundance&#x27;,\n",
       "                                                                                                                      &#x27;abundant&#x27;,\n",
       "                                                                                                                      &#x27;abundantly&#x27;,\n",
       "                                                                                                                      &#x27;abv&#x27;,\n",
       "                                                                                                                      &#x27;acacia&#x27;,\n",
       "                                                                                                                      &#x27;acai&#x27;,\n",
       "                                                                                                                      &#x27;acase&#x27;, ...})),\n",
       "                                                                                         (&#x27;toarray&#x27;,\n",
       "                                                                                          FunctionTransformer(func=&lt;function &lt;lambda&gt; at 0x000001EBDAD97B80&gt;))]),\n",
       "                                                                         [&#x27;description&#x27;])])),\n",
       "                                       (&#x27;classifier&#x27;, Ridge())]),\n",
       "             param_grid=[{&#x27;classifier__alpha&#x27;: [1, 10],\n",
       "                          &#x27;preprocessor__txt__tfidf__max_features&#x27;: [500,\n",
       "                                                                     None]}],\n",
       "             scoring=&#x27;r2&#x27;, verbose=5)</pre><b>In a Jupyter environment, please rerun this cell to show the HTML representation or trust the notebook. <br />On GitHub, the HTML representation is unable to render, please try loading this page with nbviewer.org.</b></div><div class=\"sk-container\" hidden><div class=\"sk-item sk-dashed-wrapped\"><div class=\"sk-label-container\"><div class=\"sk-label sk-toggleable\"><input class=\"sk-toggleable__control sk-hidden--visually\" id=\"sk-estimator-id-226\" type=\"checkbox\" ><label for=\"sk-estimator-id-226\" class=\"sk-toggleable__label sk-toggleable__label-arrow\">GridSearchCV</label><div class=\"sk-toggleable__content\"><pre>GridSearchCV(cv=3,\n",
       "             estimator=Pipeline(steps=[(&#x27;preprocessor&#x27;,\n",
       "                                        ColumnTransformer(transformers=[(&#x27;num&#x27;,\n",
       "                                                                         Pipeline(steps=[(&#x27;imputer&#x27;,\n",
       "                                                                                          SimpleImputer(strategy=&#x27;median&#x27;)),\n",
       "                                                                                         (&#x27;scaler&#x27;,\n",
       "                                                                                          StandardScaler())]),\n",
       "                                                                         [&#x27;price&#x27;]),\n",
       "                                                                        (&#x27;cat&#x27;,\n",
       "                                                                         Pipeline(steps=[(&#x27;imputer&#x27;,\n",
       "                                                                                          SimpleImputer(fill_value=&#x27;missing&#x27;,\n",
       "                                                                                                        strategy=&#x27;constant&#x27;)),\n",
       "                                                                                         (&#x27;onehot&#x27;,\n",
       "                                                                                          OneHotEncoder(handle_unknown=&#x27;ignore&#x27;,\n",
       "                                                                                                        sparse_out...\n",
       "                                                                                                                      &#x27;absolute&#x27;,\n",
       "                                                                                                                      &#x27;absolutely&#x27;,\n",
       "                                                                                                                      &#x27;absorb&#x27;,\n",
       "                                                                                                                      &#x27;absorbed&#x27;,\n",
       "                                                                                                                      &#x27;abundance&#x27;,\n",
       "                                                                                                                      &#x27;abundant&#x27;,\n",
       "                                                                                                                      &#x27;abundantly&#x27;,\n",
       "                                                                                                                      &#x27;abv&#x27;,\n",
       "                                                                                                                      &#x27;acacia&#x27;,\n",
       "                                                                                                                      &#x27;acai&#x27;,\n",
       "                                                                                                                      &#x27;acase&#x27;, ...})),\n",
       "                                                                                         (&#x27;toarray&#x27;,\n",
       "                                                                                          FunctionTransformer(func=&lt;function &lt;lambda&gt; at 0x000001EBDAD97B80&gt;))]),\n",
       "                                                                         [&#x27;description&#x27;])])),\n",
       "                                       (&#x27;classifier&#x27;, Ridge())]),\n",
       "             param_grid=[{&#x27;classifier__alpha&#x27;: [1, 10],\n",
       "                          &#x27;preprocessor__txt__tfidf__max_features&#x27;: [500,\n",
       "                                                                     None]}],\n",
       "             scoring=&#x27;r2&#x27;, verbose=5)</pre></div></div></div><div class=\"sk-parallel\"><div class=\"sk-parallel-item\"><div class=\"sk-item\"><div class=\"sk-label-container\"><div class=\"sk-label sk-toggleable\"><input class=\"sk-toggleable__control sk-hidden--visually\" id=\"sk-estimator-id-227\" type=\"checkbox\" ><label for=\"sk-estimator-id-227\" class=\"sk-toggleable__label sk-toggleable__label-arrow\">estimator: Pipeline</label><div class=\"sk-toggleable__content\"><pre>Pipeline(steps=[(&#x27;preprocessor&#x27;,\n",
       "                 ColumnTransformer(transformers=[(&#x27;num&#x27;,\n",
       "                                                  Pipeline(steps=[(&#x27;imputer&#x27;,\n",
       "                                                                   SimpleImputer(strategy=&#x27;median&#x27;)),\n",
       "                                                                  (&#x27;scaler&#x27;,\n",
       "                                                                   StandardScaler())]),\n",
       "                                                  [&#x27;price&#x27;]),\n",
       "                                                 (&#x27;cat&#x27;,\n",
       "                                                  Pipeline(steps=[(&#x27;imputer&#x27;,\n",
       "                                                                   SimpleImputer(fill_value=&#x27;missing&#x27;,\n",
       "                                                                                 strategy=&#x27;constant&#x27;)),\n",
       "                                                                  (&#x27;onehot&#x27;,\n",
       "                                                                   OneHotEncoder(handle_unknown=&#x27;ignore&#x27;,\n",
       "                                                                                 sparse_output=False))]),\n",
       "                                                  [&#x27;country&#x27;, &#x27;pr...\n",
       "                                                                                               &#x27;able&#x27;,\n",
       "                                                                                               &#x27;ably&#x27;,\n",
       "                                                                                               &#x27;abound&#x27;,\n",
       "                                                                                               &#x27;abounds&#x27;,\n",
       "                                                                                               &#x27;abouriou&#x27;,\n",
       "                                                                                               &#x27;aboveaverage&#x27;,\n",
       "                                                                                               &#x27;abrasive&#x27;,\n",
       "                                                                                               &#x27;abrupt&#x27;,\n",
       "                                                                                               &#x27;abruptly&#x27;,\n",
       "                                                                                               &#x27;abruzzo&#x27;,\n",
       "                                                                                               &#x27;absence&#x27;,\n",
       "                                                                                               &#x27;absolute&#x27;,\n",
       "                                                                                               &#x27;absolutely&#x27;,\n",
       "                                                                                               &#x27;absorb&#x27;,\n",
       "                                                                                               &#x27;absorbed&#x27;,\n",
       "                                                                                               &#x27;abundance&#x27;,\n",
       "                                                                                               &#x27;abundant&#x27;,\n",
       "                                                                                               &#x27;abundantly&#x27;,\n",
       "                                                                                               &#x27;abv&#x27;,\n",
       "                                                                                               &#x27;acacia&#x27;,\n",
       "                                                                                               &#x27;acai&#x27;,\n",
       "                                                                                               &#x27;acase&#x27;, ...})),\n",
       "                                                                  (&#x27;toarray&#x27;,\n",
       "                                                                   FunctionTransformer(func=&lt;function &lt;lambda&gt; at 0x000001EBDAD97B80&gt;))]),\n",
       "                                                  [&#x27;description&#x27;])])),\n",
       "                (&#x27;classifier&#x27;, Ridge())])</pre></div></div></div><div class=\"sk-serial\"><div class=\"sk-item\"><div class=\"sk-serial\"><div class=\"sk-item sk-dashed-wrapped\"><div class=\"sk-label-container\"><div class=\"sk-label sk-toggleable\"><input class=\"sk-toggleable__control sk-hidden--visually\" id=\"sk-estimator-id-228\" type=\"checkbox\" ><label for=\"sk-estimator-id-228\" class=\"sk-toggleable__label sk-toggleable__label-arrow\">preprocessor: ColumnTransformer</label><div class=\"sk-toggleable__content\"><pre>ColumnTransformer(transformers=[(&#x27;num&#x27;,\n",
       "                                 Pipeline(steps=[(&#x27;imputer&#x27;,\n",
       "                                                  SimpleImputer(strategy=&#x27;median&#x27;)),\n",
       "                                                 (&#x27;scaler&#x27;, StandardScaler())]),\n",
       "                                 [&#x27;price&#x27;]),\n",
       "                                (&#x27;cat&#x27;,\n",
       "                                 Pipeline(steps=[(&#x27;imputer&#x27;,\n",
       "                                                  SimpleImputer(fill_value=&#x27;missing&#x27;,\n",
       "                                                                strategy=&#x27;constant&#x27;)),\n",
       "                                                 (&#x27;onehot&#x27;,\n",
       "                                                  OneHotEncoder(handle_unknown=&#x27;ignore&#x27;,\n",
       "                                                                sparse_output=False))]),\n",
       "                                 [&#x27;country&#x27;, &#x27;province&#x27;, &#x27;taster_name&#x27;,\n",
       "                                  &#x27;variety&#x27;]...\n",
       "                                                                              &#x27;abbott&#x27;,\n",
       "                                                                              &#x27;abbreviated&#x27;,\n",
       "                                                                              &#x27;ability&#x27;,\n",
       "                                                                              &#x27;able&#x27;,\n",
       "                                                                              &#x27;ably&#x27;,\n",
       "                                                                              &#x27;abound&#x27;,\n",
       "                                                                              &#x27;abounds&#x27;,\n",
       "                                                                              &#x27;abouriou&#x27;,\n",
       "                                                                              &#x27;aboveaverage&#x27;,\n",
       "                                                                              &#x27;abrasive&#x27;,\n",
       "                                                                              &#x27;abrupt&#x27;,\n",
       "                                                                              &#x27;abruptly&#x27;,\n",
       "                                                                              &#x27;abruzzo&#x27;,\n",
       "                                                                              &#x27;absence&#x27;,\n",
       "                                                                              &#x27;absolute&#x27;,\n",
       "                                                                              &#x27;absolutely&#x27;,\n",
       "                                                                              &#x27;absorb&#x27;,\n",
       "                                                                              &#x27;absorbed&#x27;,\n",
       "                                                                              &#x27;abundance&#x27;,\n",
       "                                                                              &#x27;abundant&#x27;,\n",
       "                                                                              &#x27;abundantly&#x27;,\n",
       "                                                                              &#x27;abv&#x27;,\n",
       "                                                                              &#x27;acacia&#x27;,\n",
       "                                                                              &#x27;acai&#x27;,\n",
       "                                                                              &#x27;acase&#x27;, ...})),\n",
       "                                                 (&#x27;toarray&#x27;,\n",
       "                                                  FunctionTransformer(func=&lt;function &lt;lambda&gt; at 0x000001EBDAD97B80&gt;))]),\n",
       "                                 [&#x27;description&#x27;])])</pre></div></div></div><div class=\"sk-parallel\"><div class=\"sk-parallel-item\"><div class=\"sk-item\"><div class=\"sk-label-container\"><div class=\"sk-label sk-toggleable\"><input class=\"sk-toggleable__control sk-hidden--visually\" id=\"sk-estimator-id-229\" type=\"checkbox\" ><label for=\"sk-estimator-id-229\" class=\"sk-toggleable__label sk-toggleable__label-arrow\">num</label><div class=\"sk-toggleable__content\"><pre>[&#x27;price&#x27;]</pre></div></div></div><div class=\"sk-serial\"><div class=\"sk-item\"><div class=\"sk-serial\"><div class=\"sk-item\"><div class=\"sk-estimator sk-toggleable\"><input class=\"sk-toggleable__control sk-hidden--visually\" id=\"sk-estimator-id-230\" type=\"checkbox\" ><label for=\"sk-estimator-id-230\" class=\"sk-toggleable__label sk-toggleable__label-arrow\">SimpleImputer</label><div class=\"sk-toggleable__content\"><pre>SimpleImputer(strategy=&#x27;median&#x27;)</pre></div></div></div><div class=\"sk-item\"><div class=\"sk-estimator sk-toggleable\"><input class=\"sk-toggleable__control sk-hidden--visually\" id=\"sk-estimator-id-231\" type=\"checkbox\" ><label for=\"sk-estimator-id-231\" class=\"sk-toggleable__label sk-toggleable__label-arrow\">StandardScaler</label><div class=\"sk-toggleable__content\"><pre>StandardScaler()</pre></div></div></div></div></div></div></div></div><div class=\"sk-parallel-item\"><div class=\"sk-item\"><div class=\"sk-label-container\"><div class=\"sk-label sk-toggleable\"><input class=\"sk-toggleable__control sk-hidden--visually\" id=\"sk-estimator-id-232\" type=\"checkbox\" ><label for=\"sk-estimator-id-232\" class=\"sk-toggleable__label sk-toggleable__label-arrow\">cat</label><div class=\"sk-toggleable__content\"><pre>[&#x27;country&#x27;, &#x27;province&#x27;, &#x27;taster_name&#x27;, &#x27;variety&#x27;]</pre></div></div></div><div class=\"sk-serial\"><div class=\"sk-item\"><div class=\"sk-serial\"><div class=\"sk-item\"><div class=\"sk-estimator sk-toggleable\"><input class=\"sk-toggleable__control sk-hidden--visually\" id=\"sk-estimator-id-233\" type=\"checkbox\" ><label for=\"sk-estimator-id-233\" class=\"sk-toggleable__label sk-toggleable__label-arrow\">SimpleImputer</label><div class=\"sk-toggleable__content\"><pre>SimpleImputer(fill_value=&#x27;missing&#x27;, strategy=&#x27;constant&#x27;)</pre></div></div></div><div class=\"sk-item\"><div class=\"sk-estimator sk-toggleable\"><input class=\"sk-toggleable__control sk-hidden--visually\" id=\"sk-estimator-id-234\" type=\"checkbox\" ><label for=\"sk-estimator-id-234\" class=\"sk-toggleable__label sk-toggleable__label-arrow\">OneHotEncoder</label><div class=\"sk-toggleable__content\"><pre>OneHotEncoder(handle_unknown=&#x27;ignore&#x27;, sparse_output=False)</pre></div></div></div></div></div></div></div></div><div class=\"sk-parallel-item\"><div class=\"sk-item\"><div class=\"sk-label-container\"><div class=\"sk-label sk-toggleable\"><input class=\"sk-toggleable__control sk-hidden--visually\" id=\"sk-estimator-id-235\" type=\"checkbox\" ><label for=\"sk-estimator-id-235\" class=\"sk-toggleable__label sk-toggleable__label-arrow\">txt</label><div class=\"sk-toggleable__content\"><pre>[&#x27;description&#x27;]</pre></div></div></div><div class=\"sk-serial\"><div class=\"sk-item\"><div class=\"sk-serial\"><div class=\"sk-item\"><div class=\"sk-estimator sk-toggleable\"><input class=\"sk-toggleable__control sk-hidden--visually\" id=\"sk-estimator-id-236\" type=\"checkbox\" ><label for=\"sk-estimator-id-236\" class=\"sk-toggleable__label sk-toggleable__label-arrow\">FunctionTransformer</label><div class=\"sk-toggleable__content\"><pre>FunctionTransformer(func=&lt;function &lt;lambda&gt; at 0x000001EC13DEEEE0&gt;)</pre></div></div></div><div class=\"sk-item\"><div class=\"sk-estimator sk-toggleable\"><input class=\"sk-toggleable__control sk-hidden--visually\" id=\"sk-estimator-id-237\" type=\"checkbox\" ><label for=\"sk-estimator-id-237\" class=\"sk-toggleable__label sk-toggleable__label-arrow\">TfidfVectorizer</label><div class=\"sk-toggleable__content\"><pre>TfidfVectorizer(vocabulary={&#x27;aacre&#x27;, &#x27;aaron&#x27;, &#x27;abacela&#x27;, &#x27;abandon&#x27;, &#x27;abbey&#x27;,\n",
       "                            &#x27;abbott&#x27;, &#x27;abbreviated&#x27;, &#x27;ability&#x27;, &#x27;able&#x27;, &#x27;ably&#x27;,\n",
       "                            &#x27;abound&#x27;, &#x27;abounds&#x27;, &#x27;abouriou&#x27;, &#x27;aboveaverage&#x27;,\n",
       "                            &#x27;abrasive&#x27;, &#x27;abrupt&#x27;, &#x27;abruptly&#x27;, &#x27;abruzzo&#x27;,\n",
       "                            &#x27;absence&#x27;, &#x27;absolute&#x27;, &#x27;absolutely&#x27;, &#x27;absorb&#x27;,\n",
       "                            &#x27;absorbed&#x27;, &#x27;abundance&#x27;, &#x27;abundant&#x27;, &#x27;abundantly&#x27;,\n",
       "                            &#x27;abv&#x27;, &#x27;acacia&#x27;, &#x27;acai&#x27;, &#x27;acase&#x27;, ...})</pre></div></div></div><div class=\"sk-item\"><div class=\"sk-estimator sk-toggleable\"><input class=\"sk-toggleable__control sk-hidden--visually\" id=\"sk-estimator-id-238\" type=\"checkbox\" ><label for=\"sk-estimator-id-238\" class=\"sk-toggleable__label sk-toggleable__label-arrow\">FunctionTransformer</label><div class=\"sk-toggleable__content\"><pre>FunctionTransformer(func=&lt;function &lt;lambda&gt; at 0x000001EBDAD97B80&gt;)</pre></div></div></div></div></div></div></div></div></div></div><div class=\"sk-item\"><div class=\"sk-estimator sk-toggleable\"><input class=\"sk-toggleable__control sk-hidden--visually\" id=\"sk-estimator-id-239\" type=\"checkbox\" ><label for=\"sk-estimator-id-239\" class=\"sk-toggleable__label sk-toggleable__label-arrow\">Ridge</label><div class=\"sk-toggleable__content\"><pre>Ridge()</pre></div></div></div></div></div></div></div></div></div></div></div></div>"
      ],
      "text/plain": [
       "GridSearchCV(cv=3,\n",
       "             estimator=Pipeline(steps=[('preprocessor',\n",
       "                                        ColumnTransformer(transformers=[('num',\n",
       "                                                                         Pipeline(steps=[('imputer',\n",
       "                                                                                          SimpleImputer(strategy='median')),\n",
       "                                                                                         ('scaler',\n",
       "                                                                                          StandardScaler())]),\n",
       "                                                                         ['price']),\n",
       "                                                                        ('cat',\n",
       "                                                                         Pipeline(steps=[('imputer',\n",
       "                                                                                          SimpleImputer(fill_value='missing',\n",
       "                                                                                                        strategy='constant')),\n",
       "                                                                                         ('onehot',\n",
       "                                                                                          OneHotEncoder(handle_unknown='ignore',\n",
       "                                                                                                        sparse_out...\n",
       "                                                                                                                      'absolute',\n",
       "                                                                                                                      'absolutely',\n",
       "                                                                                                                      'absorb',\n",
       "                                                                                                                      'absorbed',\n",
       "                                                                                                                      'abundance',\n",
       "                                                                                                                      'abundant',\n",
       "                                                                                                                      'abundantly',\n",
       "                                                                                                                      'abv',\n",
       "                                                                                                                      'acacia',\n",
       "                                                                                                                      'acai',\n",
       "                                                                                                                      'acase', ...})),\n",
       "                                                                                         ('toarray',\n",
       "                                                                                          FunctionTransformer(func=<function <lambda> at 0x000001EBDAD97B80>))]),\n",
       "                                                                         ['description'])])),\n",
       "                                       ('classifier', Ridge())]),\n",
       "             param_grid=[{'classifier__alpha': [1, 10],\n",
       "                          'preprocessor__txt__tfidf__max_features': [500,\n",
       "                                                                     None]}],\n",
       "             scoring='r2', verbose=5)"
      ]
     },
     "execution_count": 134,
     "metadata": {},
     "output_type": "execute_result"
    }
   ],
   "source": [
    "full_pipeline_grid_search.fit(X_train, y_train)"
   ]
  },
  {
   "cell_type": "code",
   "execution_count": 135,
   "id": "ed8ce335-2d73-4739-8ed2-a2cf5d3e1acf",
   "metadata": {},
   "outputs": [
    {
     "data": {
      "text/html": [
       "<div>\n",
       "<style scoped>\n",
       "    .dataframe tbody tr th:only-of-type {\n",
       "        vertical-align: middle;\n",
       "    }\n",
       "\n",
       "    .dataframe tbody tr th {\n",
       "        vertical-align: top;\n",
       "    }\n",
       "\n",
       "    .dataframe thead th {\n",
       "        text-align: right;\n",
       "    }\n",
       "</style>\n",
       "<table border=\"1\" class=\"dataframe\">\n",
       "  <thead>\n",
       "    <tr style=\"text-align: right;\">\n",
       "      <th></th>\n",
       "      <th>param_classifier__alpha</th>\n",
       "      <th>param_preprocessor__txt__tfidf__max_features</th>\n",
       "      <th>std_test_score</th>\n",
       "      <th>rank_test_score</th>\n",
       "      <th>mean_test_score</th>\n",
       "    </tr>\n",
       "  </thead>\n",
       "  <tbody>\n",
       "    <tr>\n",
       "      <th>0</th>\n",
       "      <td>1</td>\n",
       "      <td>500</td>\n",
       "      <td>0.002138</td>\n",
       "      <td>1</td>\n",
       "      <td>0.748746</td>\n",
       "    </tr>\n",
       "    <tr>\n",
       "      <th>1</th>\n",
       "      <td>1</td>\n",
       "      <td>None</td>\n",
       "      <td>0.002138</td>\n",
       "      <td>1</td>\n",
       "      <td>0.748746</td>\n",
       "    </tr>\n",
       "    <tr>\n",
       "      <th>2</th>\n",
       "      <td>10</td>\n",
       "      <td>500</td>\n",
       "      <td>0.002251</td>\n",
       "      <td>3</td>\n",
       "      <td>0.719639</td>\n",
       "    </tr>\n",
       "    <tr>\n",
       "      <th>3</th>\n",
       "      <td>10</td>\n",
       "      <td>None</td>\n",
       "      <td>0.002251</td>\n",
       "      <td>3</td>\n",
       "      <td>0.719639</td>\n",
       "    </tr>\n",
       "  </tbody>\n",
       "</table>\n",
       "</div>"
      ],
      "text/plain": [
       "  param_classifier__alpha param_preprocessor__txt__tfidf__max_features  \\\n",
       "0                       1                                          500   \n",
       "1                       1                                         None   \n",
       "2                      10                                          500   \n",
       "3                      10                                         None   \n",
       "\n",
       "   std_test_score  rank_test_score  mean_test_score  \n",
       "0        0.002138                1         0.748746  \n",
       "1        0.002138                1         0.748746  \n",
       "2        0.002251                3         0.719639  \n",
       "3        0.002251                3         0.719639  "
      ]
     },
     "execution_count": 135,
     "metadata": {},
     "output_type": "execute_result"
    }
   ],
   "source": [
    "cols = ['param_classifier__alpha','param_preprocessor__txt__tfidf__max_features', 'std_test_score', 'rank_test_score', 'mean_test_score', ]\n",
    "cv_results_df = pd.DataFrame(full_pipeline_grid_search.cv_results_)\n",
    "cv_results_df.sort_values(by = 'mean_test_score', ascending=False)[cols]"
   ]
  },
  {
   "cell_type": "code",
   "execution_count": 158,
   "id": "5578fe82-a1d0-4c23-8c3b-3bf19a91b861",
   "metadata": {},
   "outputs": [],
   "source": [
    "y_actual = full_pipeline_grid_search.predict(X_test)"
   ]
  },
  {
   "cell_type": "code",
   "execution_count": 163,
   "id": "fdd12537-e6f7-4df7-a673-4f622fde0090",
   "metadata": {},
   "outputs": [
    {
     "name": "stdout",
     "output_type": "stream",
     "text": [
      "Mean squared error: 2.37\n",
      "Coefficient of determination: 0.75\n"
     ]
    },
    {
     "data": {
      "text/html": [
       "<div>\n",
       "<style scoped>\n",
       "    .dataframe tbody tr th:only-of-type {\n",
       "        vertical-align: middle;\n",
       "    }\n",
       "\n",
       "    .dataframe tbody tr th {\n",
       "        vertical-align: top;\n",
       "    }\n",
       "\n",
       "    .dataframe thead th {\n",
       "        text-align: right;\n",
       "    }\n",
       "</style>\n",
       "<table border=\"1\" class=\"dataframe\">\n",
       "  <thead>\n",
       "    <tr style=\"text-align: right;\">\n",
       "      <th></th>\n",
       "      <th>actual</th>\n",
       "      <th>predicted</th>\n",
       "      <th>price</th>\n",
       "      <th>error</th>\n",
       "    </tr>\n",
       "  </thead>\n",
       "  <tbody>\n",
       "    <tr>\n",
       "      <th>23427</th>\n",
       "      <td>81</td>\n",
       "      <td>88.768537</td>\n",
       "      <td>0.092751</td>\n",
       "      <td>7.768537</td>\n",
       "    </tr>\n",
       "    <tr>\n",
       "      <th>21837</th>\n",
       "      <td>80</td>\n",
       "      <td>87.302616</td>\n",
       "      <td>0.202228</td>\n",
       "      <td>7.302616</td>\n",
       "    </tr>\n",
       "    <tr>\n",
       "      <th>75552</th>\n",
       "      <td>82</td>\n",
       "      <td>89.253543</td>\n",
       "      <td>0.310462</td>\n",
       "      <td>7.253543</td>\n",
       "    </tr>\n",
       "    <tr>\n",
       "      <th>48895</th>\n",
       "      <td>98</td>\n",
       "      <td>90.810452</td>\n",
       "      <td>NaN</td>\n",
       "      <td>7.189548</td>\n",
       "    </tr>\n",
       "    <tr>\n",
       "      <th>52635</th>\n",
       "      <td>95</td>\n",
       "      <td>88.001956</td>\n",
       "      <td>0.176186</td>\n",
       "      <td>6.998044</td>\n",
       "    </tr>\n",
       "    <tr>\n",
       "      <th>10745</th>\n",
       "      <td>95</td>\n",
       "      <td>88.202281</td>\n",
       "      <td>NaN</td>\n",
       "      <td>6.797719</td>\n",
       "    </tr>\n",
       "    <tr>\n",
       "      <th>82750</th>\n",
       "      <td>99</td>\n",
       "      <td>92.293335</td>\n",
       "      <td>0.529995</td>\n",
       "      <td>6.706665</td>\n",
       "    </tr>\n",
       "    <tr>\n",
       "      <th>121133</th>\n",
       "      <td>83</td>\n",
       "      <td>89.597513</td>\n",
       "      <td>0.380266</td>\n",
       "      <td>6.597513</td>\n",
       "    </tr>\n",
       "    <tr>\n",
       "      <th>91691</th>\n",
       "      <td>81</td>\n",
       "      <td>87.516967</td>\n",
       "      <td>0.040577</td>\n",
       "      <td>6.516967</td>\n",
       "    </tr>\n",
       "    <tr>\n",
       "      <th>109427</th>\n",
       "      <td>99</td>\n",
       "      <td>92.601747</td>\n",
       "      <td>0.554534</td>\n",
       "      <td>6.398253</td>\n",
       "    </tr>\n",
       "  </tbody>\n",
       "</table>\n",
       "</div>"
      ],
      "text/plain": [
       "        actual  predicted     price     error\n",
       "23427       81  88.768537  0.092751  7.768537\n",
       "21837       80  87.302616  0.202228  7.302616\n",
       "75552       82  89.253543  0.310462  7.253543\n",
       "48895       98  90.810452       NaN  7.189548\n",
       "52635       95  88.001956  0.176186  6.998044\n",
       "10745       95  88.202281       NaN  6.797719\n",
       "82750       99  92.293335  0.529995  6.706665\n",
       "121133      83  89.597513  0.380266  6.597513\n",
       "91691       81  87.516967  0.040577  6.516967\n",
       "109427      99  92.601747  0.554534  6.398253"
      ]
     },
     "execution_count": 163,
     "metadata": {},
     "output_type": "execute_result"
    }
   ],
   "source": [
    "print(\"Mean squared error: %.2f\" % mean_squared_error(y_test, y_actual))\n",
    "# The coefficient of determination: 1 is perfect prediction\n",
    "print(\"Coefficient of determination: %.2f\" % r2_score(y_test, y_actual))\n",
    "predicted_df1 = DataFrame()\n",
    "predicted_df1[\"actual\"] = y_test\n",
    "predicted_df1[\"predicted\"] = y_actual\n",
    "predicted_df1[\"price\"] = X_test.price\n",
    "predicted_df1[\"error\"] = abs(y_test - y_actual)\n",
    "predicted_df1.sort_values(by=\"error\", ascending=False).head(10)\n"
   ]
  },
  {
   "cell_type": "code",
   "execution_count": 215,
   "id": "20f6e35c-f0f7-4930-a073-b5701f53664d",
   "metadata": {},
   "outputs": [],
   "source": [
    "test_predict = full_pipeline_grid_search.predict(X_test)\n",
    "train_predict = full_pipeline_grid_search.predict(X_train)"
   ]
  },
  {
   "cell_type": "code",
   "execution_count": 216,
   "id": "bb6e3ff5-e576-4489-b04e-1ef7fd6c0d17",
   "metadata": {},
   "outputs": [],
   "source": [
    "test_r2_1 = r2_score(y_test,test_predict )\n",
    "trin_r2_1 = r2_score(y_train,train_predict)\n",
    "test_mse_1 = mean_squared_error(y_test, test_predict)\n",
    "train_mse_1 = mean_squared_error(y_train, train_predict)"
   ]
  },
  {
   "cell_type": "code",
   "execution_count": 218,
   "id": "1f433b8d-1d93-49c3-a53a-e3fe30f3412c",
   "metadata": {},
   "outputs": [
    {
     "data": {
      "text/html": [
       "<div>\n",
       "<style scoped>\n",
       "    .dataframe tbody tr th:only-of-type {\n",
       "        vertical-align: middle;\n",
       "    }\n",
       "\n",
       "    .dataframe tbody tr th {\n",
       "        vertical-align: top;\n",
       "    }\n",
       "\n",
       "    .dataframe thead th {\n",
       "        text-align: right;\n",
       "    }\n",
       "</style>\n",
       "<table border=\"1\" class=\"dataframe\">\n",
       "  <thead>\n",
       "    <tr style=\"text-align: right;\">\n",
       "      <th></th>\n",
       "      <th>name</th>\n",
       "      <th>classifier</th>\n",
       "      <th>alpha</th>\n",
       "      <th>reduction</th>\n",
       "      <th>train_r2</th>\n",
       "      <th>train_mse</th>\n",
       "      <th>test_r2</th>\n",
       "      <th>test_mse</th>\n",
       "    </tr>\n",
       "  </thead>\n",
       "  <tbody>\n",
       "    <tr>\n",
       "      <th>0</th>\n",
       "      <td>full pipeline, price with no log</td>\n",
       "      <td>Ridge</td>\n",
       "      <td>10</td>\n",
       "      <td>None</td>\n",
       "      <td>0.751702</td>\n",
       "      <td>2.375844</td>\n",
       "      <td>0.729254</td>\n",
       "      <td>2.589880</td>\n",
       "    </tr>\n",
       "    <tr>\n",
       "      <th>1</th>\n",
       "      <td>full pipeline, price with  log</td>\n",
       "      <td>Ridge</td>\n",
       "      <td>1</td>\n",
       "      <td>500</td>\n",
       "      <td>0.793290</td>\n",
       "      <td>1.977914</td>\n",
       "      <td>0.752595</td>\n",
       "      <td>2.366602</td>\n",
       "    </tr>\n",
       "  </tbody>\n",
       "</table>\n",
       "</div>"
      ],
      "text/plain": [
       "                                name classifier alpha reduction  train_r2  \\\n",
       "0  full pipeline, price with no log       Ridge    10      None  0.751702   \n",
       "1    full pipeline, price with  log       Ridge     1       500  0.793290   \n",
       "\n",
       "   train_mse   test_r2  test_mse  \n",
       "0   2.375844  0.729254  2.589880  \n",
       "1   1.977914  0.752595  2.366602  "
      ]
     },
     "execution_count": 220,
     "metadata": {},
     "output_type": "execute_result"
    }
   ],
   "source": [
    "results_df = results_df.drop(1)\n",
    "results_df"
   ]
  },
  {
   "cell_type": "code",
   "execution_count": 219,
   "id": "edf2f6f7-9356-4ac2-981b-259610644871",
   "metadata": {},
   "outputs": [
    {
     "name": "stderr",
     "output_type": "stream",
     "text": [
      "C:\\Users\\olgas\\AppData\\Local\\Temp\\ipykernel_19968\\2814298460.py:12: FutureWarning:\n",
      "\n",
      "The frame.append method is deprecated and will be removed from pandas in a future version. Use pandas.concat instead.\n",
      "\n"
     ]
    }
   ],
   "source": [
    "results_df = append_row_to_results(\"full pipeline, price with  log \",\"Ridge\", full_pipeline_grid_search.best_params_['classifier__alpha'], full_pipeline_grid_search.best_params_['preprocessor__txt__tfidf__max_features'], test_r2_1, test_mse_1, trin_r2_1, train_mse_1 )"
   ]
  },
  {
   "cell_type": "code",
   "execution_count": 148,
   "id": "4a9961cc-ed4c-40bd-86ba-f4fbcdd8cde3",
   "metadata": {},
   "outputs": [
    {
     "name": "stdout",
     "output_type": "stream",
     "text": [
      "-2.9817163021408897\n"
     ]
    }
   ],
   "source": [
    "print(full_pipeline.score(X_test, y_test))"
   ]
  },
  {
   "cell_type": "code",
   "execution_count": null,
   "id": "0e497fb1-2ac8-4b31-b9c7-0afd46546c1f",
   "metadata": {},
   "outputs": [],
   "source": [
    "full_pipeline = Pipeline(steps=[\n",
    "    ('preprocessor', wine_preprocessor),\n",
    "    #('dimension_reduction', 'passthrogh'),\n",
    "    ('classifier', Ridge(alpha=1))\n",
    "])\n",
    "full_pipeline."
   ]
  },
  {
   "cell_type": "code",
   "execution_count": 221,
   "id": "45abec63-75a0-441a-b7ce-cbabc5afbd1a",
   "metadata": {},
   "outputs": [
    {
     "data": {
      "text/html": [
       "<div>\n",
       "<style scoped>\n",
       "    .dataframe tbody tr th:only-of-type {\n",
       "        vertical-align: middle;\n",
       "    }\n",
       "\n",
       "    .dataframe tbody tr th {\n",
       "        vertical-align: top;\n",
       "    }\n",
       "\n",
       "    .dataframe thead th {\n",
       "        text-align: right;\n",
       "    }\n",
       "</style>\n",
       "<table border=\"1\" class=\"dataframe\">\n",
       "  <thead>\n",
       "    <tr style=\"text-align: right;\">\n",
       "      <th></th>\n",
       "      <th>name</th>\n",
       "      <th>classifier</th>\n",
       "      <th>alpha</th>\n",
       "      <th>reduction</th>\n",
       "      <th>train_r2</th>\n",
       "      <th>train_mse</th>\n",
       "      <th>test_r2</th>\n",
       "      <th>test_mse</th>\n",
       "    </tr>\n",
       "  </thead>\n",
       "  <tbody>\n",
       "    <tr>\n",
       "      <th>0</th>\n",
       "      <td>full pipeline, price with no log</td>\n",
       "      <td>Ridge</td>\n",
       "      <td>10</td>\n",
       "      <td>None</td>\n",
       "      <td>0.751702</td>\n",
       "      <td>2.375844</td>\n",
       "      <td>0.729254</td>\n",
       "      <td>2.589880</td>\n",
       "    </tr>\n",
       "    <tr>\n",
       "      <th>1</th>\n",
       "      <td>full pipeline, price with  log</td>\n",
       "      <td>Ridge</td>\n",
       "      <td>1</td>\n",
       "      <td>500</td>\n",
       "      <td>0.793290</td>\n",
       "      <td>1.977914</td>\n",
       "      <td>0.752595</td>\n",
       "      <td>2.366602</td>\n",
       "    </tr>\n",
       "  </tbody>\n",
       "</table>\n",
       "</div>"
      ],
      "text/plain": [
       "                                name classifier alpha reduction  train_r2  \\\n",
       "0  full pipeline, price with no log       Ridge    10      None  0.751702   \n",
       "1    full pipeline, price with  log       Ridge     1       500  0.793290   \n",
       "\n",
       "   train_mse   test_r2  test_mse  \n",
       "0   2.375844  0.729254  2.589880  \n",
       "1   1.977914  0.752595  2.366602  "
      ]
     },
     "execution_count": 221,
     "metadata": {},
     "output_type": "execute_result"
    }
   ],
   "source": [
    "results_df"
   ]
  },
  {
   "cell_type": "code",
   "execution_count": 164,
   "id": "4c5c1a84-de39-4d6a-a9b4-09a496852128",
   "metadata": {},
   "outputs": [
    {
     "name": "stderr",
     "output_type": "stream",
     "text": [
      "C:\\Users\\olgas\\AppData\\Local\\Temp\\ipykernel_19968\\16745098.py:9: FutureWarning:\n",
      "\n",
      "The frame.append method is deprecated and will be removed from pandas in a future version. Use pandas.concat instead.\n",
      "\n"
     ]
    }
   ],
   "source": [
    "train_predict = full_pipeline_grid_search.predict(X_train)\n",
    "results_df = append_to_results(\"full pipeline, price with log \",\"Ridge\", full_pipeline_grid_search.best_params_['classifier__alpha'], full_pipeline_grid_search.best_params_['preprocessor__txt__tfidf__max_features'],y_actual,  y_test, train_predict,  y_train)"
   ]
  },
  {
   "cell_type": "code",
   "execution_count": 167,
   "id": "b90e5f0e-8614-4f6e-a60d-0eb80b35e7b3",
   "metadata": {},
   "outputs": [],
   "source": [
    "results_df = results_df.drop(index=5)"
   ]
  },
  {
   "cell_type": "code",
   "execution_count": null,
   "id": "e65b70ac-7225-4442-844a-123f823ebc88",
   "metadata": {},
   "outputs": [],
   "source": [
    "full_pipeline2 = Pipeline(steps=[\n",
    "    ('preprocessor', wine_preprocessor),\n",
    "    ('param_reduction', PCA()),\n",
    "    ('classifier', Ridge()),\n",
    "    \n",
    "])\n",
    "\n",
    "\n",
    "param_grid2 = [\n",
    "    {        \n",
    "        'param_reduction__n_components': [500, 2000, 10000],\n",
    "        'classifier__alpha': [0.01, 0.1, 0.5],\n",
    "    }\n",
    "]"
   ]
  },
  {
   "cell_type": "code",
   "execution_count": null,
   "id": "64cc17dc-8309-4034-8fff-f018b47dab68",
   "metadata": {},
   "outputs": [],
   "source": [
    "from sklearn.model_selection import GridSearchCV\n",
    "full_pipeline_grid_search2 = GridSearchCV(full_pipeline2, param_grid = param_grid2, cv=3, scoring='r2', verbose=5)\n",
    "full_pipeline_grid_search2"
   ]
  },
  {
   "cell_type": "code",
   "execution_count": null,
   "id": "cc597fcc-d472-45b8-beb5-f2071cfcd208",
   "metadata": {},
   "outputs": [],
   "source": [
    "full_pipeline_grid_search2.fit(X_train, y_train)"
   ]
  },
  {
   "cell_type": "code",
   "execution_count": null,
   "id": "238c0c35-db5d-4ccd-a581-f0f78ae37736",
   "metadata": {},
   "outputs": [],
   "source": [
    "full_pipeline_grid_search2.best_params_"
   ]
  },
  {
   "cell_type": "code",
   "execution_count": null,
   "id": "40a7bc71-0071-4779-a461-c172ff0bdea0",
   "metadata": {},
   "outputs": [],
   "source": [
    "full_pipeline.score(X_test, y_test)\n",
    "test_predict = full_pipeline.predict(X_test)\n",
    "train_predict = full_pipeline.predict(X_train)\n",
    "#results_df = append_to_results(\"full pipeline, price with no log \",\"Ridge\", \"10\", \"None\", y_test, test_predict, y_train, train_predict)"
   ]
  }
 ],
 "metadata": {
  "kernelspec": {
   "display_name": "Python 3 (ipykernel)",
   "language": "python",
   "name": "python3"
  },
  "language_info": {
   "codemirror_mode": {
    "name": "ipython",
    "version": 3
   },
   "file_extension": ".py",
   "mimetype": "text/x-python",
   "name": "python",
   "nbconvert_exporter": "python",
   "pygments_lexer": "ipython3",
   "version": "3.9.13"
  }
 },
 "nbformat": 4,
 "nbformat_minor": 5
}
