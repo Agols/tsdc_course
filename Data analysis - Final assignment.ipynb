{
 "cells": [
  {
   "cell_type": "markdown",
   "id": "262ed441-1e2f-4f23-af4e-3c1c0f6dc002",
   "metadata": {},
   "source": [
    "# Pandas Test - Real life Exercise"
   ]
  },
  {
   "cell_type": "code",
   "execution_count": 812,
   "id": "e24b34ca-0a21-4dc6-92e4-4b16bcbd5a98",
   "metadata": {},
   "outputs": [],
   "source": [
    "import pandas as pd"
   ]
  },
  {
   "cell_type": "markdown",
   "id": "ad46fe63-39ad-4b03-b6b6-623586b94d45",
   "metadata": {},
   "source": [
    "For visualizations:"
   ]
  },
  {
   "cell_type": "code",
   "execution_count": 775,
   "id": "f1fcc5da-159d-450a-8768-e6782f22be8e",
   "metadata": {},
   "outputs": [
    {
     "name": "stdout",
     "output_type": "stream",
     "text": [
      "Defaulting to user installation because normal site-packages is not writeable\n",
      "Collecting plotly_express\n",
      "  Downloading plotly_express-0.4.1-py2.py3-none-any.whl (2.9 kB)\n",
      "Requirement already satisfied: plotly>=4.1.0 in c:\\programdata\\anaconda3\\lib\\site-packages (from plotly_express) (5.13.0)\n",
      "Requirement already satisfied: pandas>=0.20.0 in c:\\programdata\\anaconda3\\lib\\site-packages (from plotly_express) (1.4.4)\n",
      "Requirement already satisfied: patsy>=0.5 in c:\\programdata\\anaconda3\\lib\\site-packages (from plotly_express) (0.5.2)\n",
      "Requirement already satisfied: scipy>=0.18 in c:\\programdata\\anaconda3\\lib\\site-packages (from plotly_express) (1.9.1)\n",
      "Requirement already satisfied: statsmodels>=0.9.0 in c:\\programdata\\anaconda3\\lib\\site-packages (from plotly_express) (0.13.2)\n",
      "Requirement already satisfied: numpy>=1.11 in c:\\programdata\\anaconda3\\lib\\site-packages (from plotly_express) (1.21.5)\n",
      "Requirement already satisfied: pytz>=2020.1 in c:\\programdata\\anaconda3\\lib\\site-packages (from pandas>=0.20.0->plotly_express) (2022.1)\n",
      "Requirement already satisfied: python-dateutil>=2.8.1 in c:\\programdata\\anaconda3\\lib\\site-packages (from pandas>=0.20.0->plotly_express) (2.8.2)\n",
      "Requirement already satisfied: six in c:\\programdata\\anaconda3\\lib\\site-packages (from patsy>=0.5->plotly_express) (1.16.0)\n",
      "Requirement already satisfied: tenacity>=6.2.0 in c:\\programdata\\anaconda3\\lib\\site-packages (from plotly>=4.1.0->plotly_express) (8.0.1)\n",
      "Requirement already satisfied: packaging>=21.3 in c:\\programdata\\anaconda3\\lib\\site-packages (from statsmodels>=0.9.0->plotly_express) (21.3)\n",
      "Requirement already satisfied: pyparsing!=3.0.5,>=2.0.2 in c:\\programdata\\anaconda3\\lib\\site-packages (from packaging>=21.3->statsmodels>=0.9.0->plotly_express) (3.0.9)\n",
      "Installing collected packages: plotly_express\n",
      "Successfully installed plotly_express-0.4.1\n",
      "Note: you may need to restart the kernel to use updated packages.\n"
     ]
    }
   ],
   "source": [
    "%pip install plotly_express"
   ]
  },
  {
   "cell_type": "code",
   "execution_count": 817,
   "id": "58bd46da-da6c-44d0-903f-19be230836e5",
   "metadata": {},
   "outputs": [
    {
     "data": {
      "text/html": [
       "        <script type=\"text/javascript\">\n",
       "        window.PlotlyConfig = {MathJaxConfig: 'local'};\n",
       "        if (window.MathJax && window.MathJax.Hub && window.MathJax.Hub.Config) {window.MathJax.Hub.Config({SVG: {font: \"STIX-Web\"}});}\n",
       "        if (typeof require !== 'undefined') {\n",
       "        require.undef(\"plotly\");\n",
       "        requirejs.config({\n",
       "            paths: {\n",
       "                'plotly': ['https://cdn.plot.ly/plotly-2.18.0.min']\n",
       "            }\n",
       "        });\n",
       "        require(['plotly'], function(Plotly) {\n",
       "            window._Plotly = Plotly;\n",
       "        });\n",
       "        }\n",
       "        </script>\n",
       "        "
      ]
     },
     "metadata": {},
     "output_type": "display_data"
    }
   ],
   "source": [
    "import cufflinks as cf; cf.go_offline()\n",
    "import plotly_express as px"
   ]
  },
  {
   "cell_type": "markdown",
   "id": "2685b7b6-1a31-451b-a1e8-f29c1513b697",
   "metadata": {},
   "source": [
    "## About the data"
   ]
  },
  {
   "cell_type": "markdown",
   "id": "5453d0d4-f625-41df-942e-ff2f5cf0f993",
   "metadata": {},
   "source": [
    "The data you are about to load is coming from an Ad recommentation system of the company InBrain. InBrain is a adTech company and specalize in next-level ad recommendation.  \n",
    "The company has two major products - one giving high quality recommendation while the other is giving an highly yielding recommendation. Inbrain custormers are sending requests, asking for either of the products. \n",
    "\n",
    "Once a week, the company is doing an internal quality assements, and sends a sample of its traffic requests to external annotation process, in which the annotators are trained to manually decided whether the recommended Ad is a succes or not. The data contains information about the ad (**ad_id**), the sampled week (**week_id**), the requester company (**requester**), the region of operation (**region**), the recommendation type (Quality/Yield, **recommendation_type**) and the recommendation provider algorithm (**rec_provider**). The annotators are marking whether the recommendation is meeting the Quality/Yield standards (**is_success**) and whether or not the recommendation is severly defected (**is_sever**)\n",
    "\n",
    "See a sample below:"
   ]
  },
  {
   "cell_type": "code",
   "execution_count": 818,
   "id": "71b69819-00b8-4612-bd2f-49bab7b7ab13",
   "metadata": {},
   "outputs": [
    {
     "data": {
      "text/html": [
       "<div>\n",
       "<style scoped>\n",
       "    .dataframe tbody tr th:only-of-type {\n",
       "        vertical-align: middle;\n",
       "    }\n",
       "\n",
       "    .dataframe tbody tr th {\n",
       "        vertical-align: top;\n",
       "    }\n",
       "\n",
       "    .dataframe thead th {\n",
       "        text-align: right;\n",
       "    }\n",
       "</style>\n",
       "<table border=\"1\" class=\"dataframe\">\n",
       "  <thead>\n",
       "    <tr style=\"text-align: right;\">\n",
       "      <th></th>\n",
       "      <th>week_id</th>\n",
       "      <th>ad_id</th>\n",
       "      <th>requester</th>\n",
       "      <th>region</th>\n",
       "      <th>is_success</th>\n",
       "      <th>is_sever</th>\n",
       "      <th>recommendation_type</th>\n",
       "      <th>rec_provider</th>\n",
       "    </tr>\n",
       "  </thead>\n",
       "  <tbody>\n",
       "    <tr>\n",
       "      <th>38098</th>\n",
       "      <td>2021-week_35</td>\n",
       "      <td>AD08K8H8QP</td>\n",
       "      <td>VarVee</td>\n",
       "      <td>JP</td>\n",
       "      <td>no</td>\n",
       "      <td>False</td>\n",
       "      <td>Yield</td>\n",
       "      <td>DNNY</td>\n",
       "    </tr>\n",
       "    <tr>\n",
       "      <th>51075</th>\n",
       "      <td>2021-week_36</td>\n",
       "      <td>AD09889WS7</td>\n",
       "      <td>Search Million Culture</td>\n",
       "      <td>IN</td>\n",
       "      <td>no</td>\n",
       "      <td>False</td>\n",
       "      <td>Qality</td>\n",
       "      <td>UserPopQ</td>\n",
       "    </tr>\n",
       "    <tr>\n",
       "      <th>276093</th>\n",
       "      <td>2022-week_01</td>\n",
       "      <td>AD08CSP8R6</td>\n",
       "      <td>Search Million Culture</td>\n",
       "      <td>GB</td>\n",
       "      <td>yes</td>\n",
       "      <td>NaN</td>\n",
       "      <td>Qality</td>\n",
       "      <td>DNNQ</td>\n",
       "    </tr>\n",
       "    <tr>\n",
       "      <th>155867</th>\n",
       "      <td>2021-week_43</td>\n",
       "      <td>AD0088888F</td>\n",
       "      <td>Extreme DA</td>\n",
       "      <td>US</td>\n",
       "      <td>yes</td>\n",
       "      <td>NaN</td>\n",
       "      <td>Yield</td>\n",
       "      <td>DNNY</td>\n",
       "    </tr>\n",
       "    <tr>\n",
       "      <th>49451</th>\n",
       "      <td>2021-week_36</td>\n",
       "      <td>AD08HN8Q8Q</td>\n",
       "      <td>Search Million Culture</td>\n",
       "      <td>IN</td>\n",
       "      <td>yes</td>\n",
       "      <td>NaN</td>\n",
       "      <td>Qality</td>\n",
       "      <td>UserPopQ</td>\n",
       "    </tr>\n",
       "  </tbody>\n",
       "</table>\n",
       "</div>"
      ],
      "text/plain": [
       "             week_id       ad_id               requester region is_success  \\\n",
       "38098   2021-week_35  AD08K8H8QP                  VarVee     JP         no   \n",
       "51075   2021-week_36  AD09889WS7  Search Million Culture     IN         no   \n",
       "276093  2022-week_01  AD08CSP8R6  Search Million Culture     GB        yes   \n",
       "155867  2021-week_43  AD0088888F              Extreme DA     US        yes   \n",
       "49451   2021-week_36  AD08HN8Q8Q  Search Million Culture     IN        yes   \n",
       "\n",
       "       is_sever recommendation_type rec_provider  \n",
       "38098     False               Yield         DNNY  \n",
       "51075     False              Qality     UserPopQ  \n",
       "276093      NaN              Qality         DNNQ  \n",
       "155867      NaN               Yield         DNNY  \n",
       "49451       NaN              Qality     UserPopQ  "
      ]
     },
     "execution_count": 818,
     "metadata": {},
     "output_type": "execute_result"
    }
   ],
   "source": [
    "ad_recs_annotated = pd.read_csv('data/Final assigment/ad_annotations.csv')\n",
    "ad_recs_annotated.sample(5)"
   ]
  },
  {
   "cell_type": "code",
   "execution_count": 819,
   "id": "34b5026b-6a2d-4108-ae10-cc7cc4fa76ef",
   "metadata": {},
   "outputs": [
    {
     "data": {
      "text/plain": [
       "'AD07PFFMP9'"
      ]
     },
     "execution_count": 819,
     "metadata": {},
     "output_type": "execute_result"
    }
   ],
   "source": [
    "most_pop_ad = ad_recs_annotated.ad_id.value_counts().idxmax()\n",
    "most_pop_ad"
   ]
  },
  {
   "cell_type": "code",
   "execution_count": 820,
   "id": "8762e1c3-b7bf-40a5-8e53-2e10c16ff1dd",
   "metadata": {},
   "outputs": [
    {
     "data": {
      "text/plain": [
       "'ad_id == \"AD07PFFMP9\"'"
      ]
     },
     "execution_count": 820,
     "metadata": {},
     "output_type": "execute_result"
    }
   ],
   "source": [
    "q = f'ad_id == \"{most_pop_ad}\"'\n",
    "q"
   ]
  },
  {
   "cell_type": "code",
   "execution_count": 5,
   "id": "ce93a9cd-d9be-44ff-9314-45a1082af1f5",
   "metadata": {},
   "outputs": [],
   "source": [
    "#ad_recs_annotated.query('ad_id == @most_pop_ad')"
   ]
  },
  {
   "cell_type": "markdown",
   "id": "f4413766-e8bf-4f14-94e0-f58cfb88bb07",
   "metadata": {},
   "source": [
    "Your job, as the new and only data scientist of the company, is to get familiar with the the data, show week-over-week trends and produce insightfull graphs as a preparation to a full blown BI dashboard."
   ]
  },
  {
   "cell_type": "markdown",
   "id": "97faa00a-e0e3-47c0-bb8e-b3f72e1f0cb1",
   "metadata": {},
   "source": [
    "## Questions"
   ]
  },
  {
   "cell_type": "markdown",
   "id": "c0ed5ec1-d7b3-49a6-bf12-29420eab3a67",
   "metadata": {},
   "source": [
    "### Data Modifications"
   ]
  },
  {
   "cell_type": "markdown",
   "id": "8db18aad-c8b8-4fd4-994f-c008f279e1f6",
   "metadata": {},
   "source": [
    "1. Add a column with the sample year\n",
    "1. Add a column with the sample quarter (google how to)\n",
    "1. Add a new success column with values 1 and 0 for yes and no \n",
    "1. Are there any NaNs in the is_sever column? Count how many and create a new column with NaNs filled as False. Check that indeed the new column contaion no NaNs. \n",
    "1. Capitlize (first letter only) the is_success column (Inplace)"
   ]
  },
  {
   "cell_type": "code",
   "execution_count": 821,
   "id": "1758a993-8b86-474f-925a-f8f7ff52e509",
   "metadata": {},
   "outputs": [
    {
     "data": {
      "text/plain": [
       "0         2021\n",
       "1         2021\n",
       "2         2021\n",
       "3         2021\n",
       "4         2021\n",
       "          ... \n",
       "373783    2022\n",
       "373784    2022\n",
       "373785    2022\n",
       "373786    2022\n",
       "373787    2022\n",
       "Name: year, Length: 373788, dtype: object"
      ]
     },
     "execution_count": 821,
     "metadata": {},
     "output_type": "execute_result"
    }
   ],
   "source": [
    "#1\n",
    "def retrieve_number(text, sign, retrieve_index):\n",
    "    texts = text.split(sign)\n",
    "    return texts[retrieve_index]\n",
    "\n",
    "ad_recs_annotated[\"year\"] = [retrieve_number(item, \"-\",0) for item in ad_recs_annotated[\"week_id\"]]\n",
    "ad_recs_annotated[\"year\"]"
   ]
  },
  {
   "cell_type": "code",
   "execution_count": 822,
   "id": "96ef549a-cce5-4e20-8727-752f6e6cead6",
   "metadata": {},
   "outputs": [],
   "source": [
    "#2\n",
    "def quarter_from_week(week):\n",
    "    return int(week) //13\n",
    "\n",
    "ad_recs_annotated[\"quarter\"] = ad_recs_annotated[\"week_id\"].apply(func = retrieve_number, args = (\"_\", 1)).apply(func = quarter_from_week)"
   ]
  },
  {
   "cell_type": "code",
   "execution_count": 825,
   "id": "8baa99f5-a9b1-4d67-8821-cb0583ebd21d",
   "metadata": {},
   "outputs": [],
   "source": [
    "#3\n",
    "ad_recs_annotated[\"is_sucess_int\"] = [int(item == \"yes\") for item in ad_recs_annotated[\"is_success\"]]"
   ]
  },
  {
   "cell_type": "code",
   "execution_count": 914,
   "id": "72073e03-740d-4056-94dc-20c7a2deb38d",
   "metadata": {},
   "outputs": [
    {
     "name": "stdout",
     "output_type": "stream",
     "text": [
      "True     304195\n",
      "False     69593\n",
      "Name: is_sever, dtype: int64\n",
      "False    304195\n",
      "True      44689\n",
      "False     24904\n",
      "Name: is_sever_no_nan, dtype: int64\n",
      "False    373788\n",
      "Name: is_sever_no_nan, dtype: int64\n"
     ]
    }
   ],
   "source": [
    "#4\n",
    "print(ad_recs_annotated[\"is_sever\"].isnull().value_counts())\n",
    "ad_recs_annotated[\"is_sever_no_nan\"] = ad_recs_annotated[\"is_sever\"].fillna(\"False\")\n",
    "print(ad_recs_annotated[\"is_sever_no_nan\"].value_counts())\n",
    "print(ad_recs_annotated[\"is_sever_no_nan\"].isnull().value_counts())"
   ]
  },
  {
   "cell_type": "markdown",
   "id": "6a075219-e390-494f-9e76-76aff34dfafb",
   "metadata": {},
   "source": [
    "##### 5 Capitlize (first letter only) the is_success column (Inplace)"
   ]
  },
  {
   "cell_type": "code",
   "execution_count": 68,
   "id": "51e98fbf-2904-4d68-8973-df1729160781",
   "metadata": {},
   "outputs": [
    {
     "data": {
      "text/plain": [
       "0         Yes\n",
       "1         Yes\n",
       "2         Yes\n",
       "3         Yes\n",
       "4         Yes\n",
       "         ... \n",
       "373783    Yes\n",
       "373784    Yes\n",
       "373785    Yes\n",
       "373786    Yes\n",
       "373787    Yes\n",
       "Name: is_success, Length: 373788, dtype: object"
      ]
     },
     "execution_count": 68,
     "metadata": {},
     "output_type": "execute_result"
    }
   ],
   "source": [
    "ad_recs_annotated[\"is_success\"].str.capitalize()"
   ]
  },
  {
   "cell_type": "markdown",
   "id": "e1a4707e-5673-4bec-bf9a-51aaf633b09f",
   "metadata": {},
   "source": [
    "### Subset selection"
   ]
  },
  {
   "cell_type": "markdown",
   "id": "6e4087a0-8706-471d-ae78-d9c47534f6b8",
   "metadata": {},
   "source": [
    "for each question, sub-select the data by using the conditional selection (`[]`) and the `.query` API. Use `.shape` on the subselection to obtain the result.  \n",
    "For example:\n",
    "`df.query('some_condition').shape`"
   ]
  },
  {
   "cell_type": "markdown",
   "id": "df326ef2-83c4-400f-bb51-f47db2401ee3",
   "metadata": {},
   "source": [
    "1. How many requests are there in US region? \n",
    "1. How many **successful** requests are there in US region? \n",
    "1. How many **successful** requests are there in US region, on week 52?\n",
    "1. How many requests where delivered by DNNQ, RNNY and UserPopQ together? \n",
    "1. How many requests where delivered by rule based providers? \n",
    "1. Select only the requests from 2021 - How many are there? \n",
    "1. Select the reqeusts from week 30 to week 40 - How many are there? \n",
    "1. Select all the data that comes from the most popular Ad\n",
    "1. Select all the data that comes from the least popular provider\n",
    "1. Select the data in which is_sever is None. How big is it? \n",
    "1. Select the data in which the requester is a 3 word company\n",
    "1. Select the data in which the requester is a 3 word company, and the ad_id has the letter 6 in it\n",
    "1. Select the data in which the requester is a 3 word company, and the multiplication of all the numbers in the ad_id is bigger than 30"
   ]
  },
  {
   "cell_type": "markdown",
   "id": "84bbdcfd-a3e4-491c-a594-5c6ff23f7595",
   "metadata": {},
   "source": [
    "###### 1. How many requests are there in US region?"
   ]
  },
  {
   "cell_type": "code",
   "execution_count": 85,
   "id": "3ba07f92-f3fa-497d-a08b-e22f6a63e853",
   "metadata": {},
   "outputs": [
    {
     "name": "stdout",
     "output_type": "stream",
     "text": [
      "(103846, 12)\n"
     ]
    },
    {
     "data": {
      "text/plain": [
       "(103846, 12)"
      ]
     },
     "execution_count": 85,
     "metadata": {},
     "output_type": "execute_result"
    }
   ],
   "source": [
    "print(ad_recs_annotated[ad_recs_annotated[\"region\"] == \"US\"].shape)\n",
    "ad_recs_annotated.query('region == \"US\"').shape"
   ]
  },
  {
   "cell_type": "markdown",
   "id": "a40b8946-5268-489e-b290-aab9acd43b27",
   "metadata": {},
   "source": [
    "###### 2. How many **successful** requests are there in US region? "
   ]
  },
  {
   "cell_type": "code",
   "execution_count": 96,
   "id": "0239792a-f0ee-4235-9ec7-200808aff157",
   "metadata": {},
   "outputs": [
    {
     "name": "stdout",
     "output_type": "stream",
     "text": [
      "(88918, 12)\n"
     ]
    },
    {
     "data": {
      "text/plain": [
       "(88918, 12)"
      ]
     },
     "execution_count": 96,
     "metadata": {},
     "output_type": "execute_result"
    }
   ],
   "source": [
    "print(ad_recs_annotated[(ad_recs_annotated[\"region\"] == \"US\") & (ad_recs_annotated[\"is_success\"] == \"Yes\")].shape)\n",
    "ad_recs_annotated.query('region == \"US\" and is_success == \"Yes\"').shape"
   ]
  },
  {
   "cell_type": "markdown",
   "id": "4506331a-4ad8-49c5-9375-48721fc6f535",
   "metadata": {},
   "source": [
    "###### 3. How many **successful** requests are there in US region on week 52? "
   ]
  },
  {
   "cell_type": "code",
   "execution_count": 151,
   "id": "60093be0-1274-4cb6-b9c3-2872d42fc655",
   "metadata": {},
   "outputs": [
    {
     "name": "stdout",
     "output_type": "stream",
     "text": [
      "(3342, 13)\n"
     ]
    },
    {
     "data": {
      "text/plain": [
       "(3342, 13)"
      ]
     },
     "execution_count": 151,
     "metadata": {},
     "output_type": "execute_result"
    }
   ],
   "source": [
    "#add the week column\n",
    "ad_recs_annotated[\"week\"] = ad_recs_annotated[\"week_id\"].apply(func = retrieve_number, args = (\"_\", 1)).apply(func = int)\n",
    "print(ad_recs_annotated[(ad_recs_annotated[\"region\"] == \"US\") & (ad_recs_annotated[\"is_success\"] == \"Yes\") & (ad_recs_annotated[\"week\"] == 52)].shape)\n",
    "ad_recs_annotated.query('region == \"US\" and is_success == \"Yes\" and week==52').shape"
   ]
  },
  {
   "cell_type": "markdown",
   "id": "8ae12cf7-9e95-4fd1-858b-f505e69f3111",
   "metadata": {
    "tags": []
   },
   "source": [
    "###### 4. How many requests where delivered by DNNQ, RNNY and UserPopQ together?"
   ]
  },
  {
   "cell_type": "code",
   "execution_count": 132,
   "id": "4c97e958-3878-46ed-b6f9-9c24661437a5",
   "metadata": {},
   "outputs": [
    {
     "name": "stdout",
     "output_type": "stream",
     "text": [
      "(232477, 13)\n",
      "(232477, 13)\n"
     ]
    }
   ],
   "source": [
    "print(ad_recs_annotated[ad_recs_annotated[\"rec_provider\"].isin([\"DNNQ\", \"DNNY\", \"UserPopQ\"])].shape)\n",
    "print(ad_recs_annotated.query(\"rec_provider in ('DNNQ', 'DNNY', 'UserPopQ')\").shape)"
   ]
  },
  {
   "cell_type": "markdown",
   "id": "0a5ea989-bee9-4cb6-9b9a-c2c3db01ad74",
   "metadata": {
    "tags": []
   },
   "source": [
    "###### 5.How many requests where delivered by rule based providers?"
   ]
  },
  {
   "cell_type": "code",
   "execution_count": 133,
   "id": "69f4cd49-5030-4409-b0c6-da17bbb948e5",
   "metadata": {},
   "outputs": [
    {
     "data": {
      "text/plain": [
       "DNNQ                 117424\n",
       "UserPopQ              69937\n",
       "DNNY                  45116\n",
       "UserPopY              38600\n",
       "RuleBasedY            28154\n",
       "RNNQ                  20983\n",
       "ManualQ               13844\n",
       "RNNY                  12732\n",
       "XGBQ                  12250\n",
       "XGBY                   4276\n",
       "BooksY                 4150\n",
       "UserPopSelectionQ      2417\n",
       "ManualY                1982\n",
       "BooksQ                 1720\n",
       "RuleBased               182\n",
       "UserPopSelectionY        21\n",
       "Name: rec_provider, dtype: int64"
      ]
     },
     "execution_count": 133,
     "metadata": {},
     "output_type": "execute_result"
    }
   ],
   "source": [
    "print(ad_recs_annotated.rec_provider.value_counts())"
   ]
  },
  {
   "cell_type": "markdown",
   "id": "43fca41e-4d81-4dba-97f4-7f5f6fe5fae7",
   "metadata": {
    "tags": []
   },
   "source": [
    "###### 6.Select only the requests from 2021 - How many are there?"
   ]
  },
  {
   "cell_type": "code",
   "execution_count": 146,
   "id": "e1fa0d16-5437-4aef-a07b-be4b4a39a55e",
   "metadata": {},
   "outputs": [
    {
     "data": {
      "text/plain": [
       "(271615, 13)"
      ]
     },
     "execution_count": 146,
     "metadata": {},
     "output_type": "execute_result"
    }
   ],
   "source": [
    "ad_recs_annotated[ad_recs_annotated[\"year\"] == \"2021\"].shape\n",
    "ad_recs_annotated.query(\"year == '2021'\").shape"
   ]
  },
  {
   "cell_type": "markdown",
   "id": "799b14ae-c3da-4c55-ba7f-3c5508863290",
   "metadata": {
    "tags": []
   },
   "source": [
    "###### 7. Select the reqeusts from week 30 to week 40 - How many are there?"
   ]
  },
  {
   "cell_type": "code",
   "execution_count": 163,
   "id": "7468f1a7-8797-4073-8ceb-3e752762aa70",
   "metadata": {},
   "outputs": [
    {
     "name": "stdout",
     "output_type": "stream",
     "text": [
      "        week_id       ad_id               requester region is_success  \\\n",
      "0  2021-week_33   AD0088VOS  Search Million Culture     DE        Yes   \n",
      "1  2021-week_33  AD07KYS8JM   MoJoe Brewing Company     DE        Yes   \n",
      "2  2021-week_33  AD08PDP6Y9  Search Million Culture     DE        Yes   \n",
      "3  2021-week_33  AD89608808  Search Million Culture     DE        Yes   \n",
      "4  2021-week_33  AD07CMVHP6  Search Million Culture     DE        Yes   \n",
      "\n",
      "  is_sever recommendation_type rec_provider  year  quarter  is_sucess_int  \\\n",
      "0      NaN              Qality         DNNQ  2021        2              0   \n",
      "1      NaN               Yield         DNNY  2021        2              0   \n",
      "2      NaN              Qality         DNNQ  2021        2              0   \n",
      "3      NaN              Qality       BooksQ  2021        2              0   \n",
      "4      NaN              Qality         DNNQ  2021        2              0   \n",
      "\n",
      "  is_sever_no_nan  week  \n",
      "0           False    33  \n",
      "1           False    33  \n",
      "2           False    33  \n",
      "3           False    33  \n",
      "4           False    33  \n",
      "(115051, 13)\n",
      "(115051, 13)\n"
     ]
    }
   ],
   "source": [
    "week_30_to_40 = ad_recs_annotated[(ad_recs_annotated[\"week\"] >= 30) & (ad_recs_annotated[\"week\"] <= 40)]\n",
    "print(week_30_to_40.head())\n",
    "print(week_30_to_40.shape)\n",
    "week_30_to_40_ = ad_recs_annotated.query(\"week >=30 and week<=40\")\n",
    "print(week_30_to_40_.shape)"
   ]
  },
  {
   "cell_type": "markdown",
   "id": "11099f2f-18bc-4a57-a83c-e984354efe22",
   "metadata": {
    "tags": []
   },
   "source": [
    "###### 8. Select all the data that comes from the most popular Ad"
   ]
  },
  {
   "cell_type": "code",
   "execution_count": 229,
   "id": "0cbd6f03-3b62-4d59-bb49-c549961f2891",
   "metadata": {},
   "outputs": [
    {
     "data": {
      "text/html": [
       "<div>\n",
       "<style scoped>\n",
       "    .dataframe tbody tr th:only-of-type {\n",
       "        vertical-align: middle;\n",
       "    }\n",
       "\n",
       "    .dataframe tbody tr th {\n",
       "        vertical-align: top;\n",
       "    }\n",
       "\n",
       "    .dataframe thead th {\n",
       "        text-align: right;\n",
       "    }\n",
       "</style>\n",
       "<table border=\"1\" class=\"dataframe\">\n",
       "  <thead>\n",
       "    <tr style=\"text-align: right;\">\n",
       "      <th></th>\n",
       "      <th>week_id</th>\n",
       "      <th>ad_id</th>\n",
       "      <th>requester</th>\n",
       "      <th>region</th>\n",
       "      <th>is_success</th>\n",
       "      <th>is_sever</th>\n",
       "      <th>recommendation_type</th>\n",
       "      <th>rec_provider</th>\n",
       "      <th>year</th>\n",
       "      <th>quarter</th>\n",
       "      <th>is_sucess_int</th>\n",
       "      <th>is_sever_no_nan</th>\n",
       "      <th>week</th>\n",
       "    </tr>\n",
       "  </thead>\n",
       "  <tbody>\n",
       "    <tr>\n",
       "      <th>7031</th>\n",
       "      <td>2021-week_33</td>\n",
       "      <td>AD07PFFMP9</td>\n",
       "      <td>Puentes Company</td>\n",
       "      <td>IN</td>\n",
       "      <td>Yes</td>\n",
       "      <td>NaN</td>\n",
       "      <td>Yield</td>\n",
       "      <td>ManualQ</td>\n",
       "      <td>2021</td>\n",
       "      <td>2</td>\n",
       "      <td>0</td>\n",
       "      <td>False</td>\n",
       "      <td>33</td>\n",
       "    </tr>\n",
       "    <tr>\n",
       "      <th>7032</th>\n",
       "      <td>2021-week_33</td>\n",
       "      <td>AD07PFFMP9</td>\n",
       "      <td>Puentes Company</td>\n",
       "      <td>IN</td>\n",
       "      <td>Yes</td>\n",
       "      <td>NaN</td>\n",
       "      <td>Yield</td>\n",
       "      <td>ManualQ</td>\n",
       "      <td>2021</td>\n",
       "      <td>2</td>\n",
       "      <td>0</td>\n",
       "      <td>False</td>\n",
       "      <td>33</td>\n",
       "    </tr>\n",
       "    <tr>\n",
       "      <th>20010</th>\n",
       "      <td>2021-week_34</td>\n",
       "      <td>AD07PFFMP9</td>\n",
       "      <td>Bizanga</td>\n",
       "      <td>IN</td>\n",
       "      <td>Yes</td>\n",
       "      <td>NaN</td>\n",
       "      <td>Yield</td>\n",
       "      <td>ManualQ</td>\n",
       "      <td>2021</td>\n",
       "      <td>2</td>\n",
       "      <td>0</td>\n",
       "      <td>False</td>\n",
       "      <td>34</td>\n",
       "    </tr>\n",
       "    <tr>\n",
       "      <th>20011</th>\n",
       "      <td>2021-week_34</td>\n",
       "      <td>AD07PFFMP9</td>\n",
       "      <td>Puentes Company</td>\n",
       "      <td>IN</td>\n",
       "      <td>Yes</td>\n",
       "      <td>NaN</td>\n",
       "      <td>Yield</td>\n",
       "      <td>ManualQ</td>\n",
       "      <td>2021</td>\n",
       "      <td>2</td>\n",
       "      <td>0</td>\n",
       "      <td>False</td>\n",
       "      <td>34</td>\n",
       "    </tr>\n",
       "    <tr>\n",
       "      <th>35214</th>\n",
       "      <td>2021-week_35</td>\n",
       "      <td>AD07PFFMP9</td>\n",
       "      <td>Bizanga</td>\n",
       "      <td>IN</td>\n",
       "      <td>Yes</td>\n",
       "      <td>NaN</td>\n",
       "      <td>Yield</td>\n",
       "      <td>ManualQ</td>\n",
       "      <td>2021</td>\n",
       "      <td>2</td>\n",
       "      <td>0</td>\n",
       "      <td>False</td>\n",
       "      <td>35</td>\n",
       "    </tr>\n",
       "    <tr>\n",
       "      <th>...</th>\n",
       "      <td>...</td>\n",
       "      <td>...</td>\n",
       "      <td>...</td>\n",
       "      <td>...</td>\n",
       "      <td>...</td>\n",
       "      <td>...</td>\n",
       "      <td>...</td>\n",
       "      <td>...</td>\n",
       "      <td>...</td>\n",
       "      <td>...</td>\n",
       "      <td>...</td>\n",
       "      <td>...</td>\n",
       "      <td>...</td>\n",
       "    </tr>\n",
       "    <tr>\n",
       "      <th>363533</th>\n",
       "      <td>2022-week_52</td>\n",
       "      <td>AD07PFFMP9</td>\n",
       "      <td>MoJoe Brewing Company</td>\n",
       "      <td>IN</td>\n",
       "      <td>Yes</td>\n",
       "      <td>NaN</td>\n",
       "      <td>Yield</td>\n",
       "      <td>ManualQ</td>\n",
       "      <td>2022</td>\n",
       "      <td>4</td>\n",
       "      <td>0</td>\n",
       "      <td>False</td>\n",
       "      <td>52</td>\n",
       "    </tr>\n",
       "    <tr>\n",
       "      <th>363534</th>\n",
       "      <td>2022-week_52</td>\n",
       "      <td>AD07PFFMP9</td>\n",
       "      <td>MoJoe Brewing Company</td>\n",
       "      <td>IN</td>\n",
       "      <td>Yes</td>\n",
       "      <td>NaN</td>\n",
       "      <td>Yield</td>\n",
       "      <td>ManualQ</td>\n",
       "      <td>2022</td>\n",
       "      <td>4</td>\n",
       "      <td>0</td>\n",
       "      <td>False</td>\n",
       "      <td>52</td>\n",
       "    </tr>\n",
       "    <tr>\n",
       "      <th>363535</th>\n",
       "      <td>2022-week_52</td>\n",
       "      <td>AD07PFFMP9</td>\n",
       "      <td>Bizanga</td>\n",
       "      <td>IN</td>\n",
       "      <td>Yes</td>\n",
       "      <td>NaN</td>\n",
       "      <td>Yield</td>\n",
       "      <td>ManualQ</td>\n",
       "      <td>2022</td>\n",
       "      <td>4</td>\n",
       "      <td>0</td>\n",
       "      <td>False</td>\n",
       "      <td>52</td>\n",
       "    </tr>\n",
       "    <tr>\n",
       "      <th>363536</th>\n",
       "      <td>2022-week_52</td>\n",
       "      <td>AD07PFFMP9</td>\n",
       "      <td>MoJoe Brewing Company</td>\n",
       "      <td>IN</td>\n",
       "      <td>Yes</td>\n",
       "      <td>NaN</td>\n",
       "      <td>Yield</td>\n",
       "      <td>ManualQ</td>\n",
       "      <td>2022</td>\n",
       "      <td>4</td>\n",
       "      <td>0</td>\n",
       "      <td>False</td>\n",
       "      <td>52</td>\n",
       "    </tr>\n",
       "    <tr>\n",
       "      <th>365817</th>\n",
       "      <td>2022-week_52</td>\n",
       "      <td>AD07PFFMP9</td>\n",
       "      <td>Allthetopbananas.com</td>\n",
       "      <td>IN</td>\n",
       "      <td>Yes</td>\n",
       "      <td>NaN</td>\n",
       "      <td>Qality</td>\n",
       "      <td>ManualQ</td>\n",
       "      <td>2022</td>\n",
       "      <td>4</td>\n",
       "      <td>0</td>\n",
       "      <td>False</td>\n",
       "      <td>52</td>\n",
       "    </tr>\n",
       "  </tbody>\n",
       "</table>\n",
       "<p>247 rows × 13 columns</p>\n",
       "</div>"
      ],
      "text/plain": [
       "             week_id       ad_id              requester region is_success  \\\n",
       "7031    2021-week_33  AD07PFFMP9        Puentes Company     IN        Yes   \n",
       "7032    2021-week_33  AD07PFFMP9        Puentes Company     IN        Yes   \n",
       "20010   2021-week_34  AD07PFFMP9                Bizanga     IN        Yes   \n",
       "20011   2021-week_34  AD07PFFMP9        Puentes Company     IN        Yes   \n",
       "35214   2021-week_35  AD07PFFMP9                Bizanga     IN        Yes   \n",
       "...              ...         ...                    ...    ...        ...   \n",
       "363533  2022-week_52  AD07PFFMP9  MoJoe Brewing Company     IN        Yes   \n",
       "363534  2022-week_52  AD07PFFMP9  MoJoe Brewing Company     IN        Yes   \n",
       "363535  2022-week_52  AD07PFFMP9                Bizanga     IN        Yes   \n",
       "363536  2022-week_52  AD07PFFMP9  MoJoe Brewing Company     IN        Yes   \n",
       "365817  2022-week_52  AD07PFFMP9   Allthetopbananas.com     IN        Yes   \n",
       "\n",
       "       is_sever recommendation_type rec_provider  year  quarter  \\\n",
       "7031        NaN               Yield      ManualQ  2021        2   \n",
       "7032        NaN               Yield      ManualQ  2021        2   \n",
       "20010       NaN               Yield      ManualQ  2021        2   \n",
       "20011       NaN               Yield      ManualQ  2021        2   \n",
       "35214       NaN               Yield      ManualQ  2021        2   \n",
       "...         ...                 ...          ...   ...      ...   \n",
       "363533      NaN               Yield      ManualQ  2022        4   \n",
       "363534      NaN               Yield      ManualQ  2022        4   \n",
       "363535      NaN               Yield      ManualQ  2022        4   \n",
       "363536      NaN               Yield      ManualQ  2022        4   \n",
       "365817      NaN              Qality      ManualQ  2022        4   \n",
       "\n",
       "        is_sucess_int is_sever_no_nan  week  \n",
       "7031                0           False    33  \n",
       "7032                0           False    33  \n",
       "20010               0           False    34  \n",
       "20011               0           False    34  \n",
       "35214               0           False    35  \n",
       "...               ...             ...   ...  \n",
       "363533              0           False    52  \n",
       "363534              0           False    52  \n",
       "363535              0           False    52  \n",
       "363536              0           False    52  \n",
       "365817              0           False    52  \n",
       "\n",
       "[247 rows x 13 columns]"
      ]
     },
     "execution_count": 229,
     "metadata": {},
     "output_type": "execute_result"
    }
   ],
   "source": [
    "ad_recs_annotated[ad_recs_annotated[\"ad_id\"] == most_pop_ad]"
   ]
  },
  {
   "cell_type": "markdown",
   "id": "d25ac654-c33d-4878-a1de-39bac8831dc4",
   "metadata": {
    "tags": []
   },
   "source": [
    "###### 9. Select all the data that comes from the least popular provider"
   ]
  },
  {
   "cell_type": "code",
   "execution_count": 230,
   "id": "f6b4f85a-eb8a-4800-b53b-91ea8dae1c7c",
   "metadata": {},
   "outputs": [
    {
     "data": {
      "text/html": [
       "<div>\n",
       "<style scoped>\n",
       "    .dataframe tbody tr th:only-of-type {\n",
       "        vertical-align: middle;\n",
       "    }\n",
       "\n",
       "    .dataframe tbody tr th {\n",
       "        vertical-align: top;\n",
       "    }\n",
       "\n",
       "    .dataframe thead th {\n",
       "        text-align: right;\n",
       "    }\n",
       "</style>\n",
       "<table border=\"1\" class=\"dataframe\">\n",
       "  <thead>\n",
       "    <tr style=\"text-align: right;\">\n",
       "      <th></th>\n",
       "      <th>week_id</th>\n",
       "      <th>ad_id</th>\n",
       "      <th>requester</th>\n",
       "      <th>region</th>\n",
       "      <th>is_success</th>\n",
       "      <th>is_sever</th>\n",
       "      <th>recommendation_type</th>\n",
       "      <th>rec_provider</th>\n",
       "      <th>year</th>\n",
       "      <th>quarter</th>\n",
       "      <th>is_sucess_int</th>\n",
       "      <th>is_sever_no_nan</th>\n",
       "      <th>week</th>\n",
       "    </tr>\n",
       "  </thead>\n",
       "  <tbody>\n",
       "    <tr>\n",
       "      <th>0</th>\n",
       "      <td>2021-week_33</td>\n",
       "      <td>AD0088VOS</td>\n",
       "      <td>Search Million Culture</td>\n",
       "      <td>DE</td>\n",
       "      <td>Yes</td>\n",
       "      <td>NaN</td>\n",
       "      <td>Qality</td>\n",
       "      <td>DNNQ</td>\n",
       "      <td>2021</td>\n",
       "      <td>2</td>\n",
       "      <td>0</td>\n",
       "      <td>False</td>\n",
       "      <td>33</td>\n",
       "    </tr>\n",
       "    <tr>\n",
       "      <th>2</th>\n",
       "      <td>2021-week_33</td>\n",
       "      <td>AD08PDP6Y9</td>\n",
       "      <td>Search Million Culture</td>\n",
       "      <td>DE</td>\n",
       "      <td>Yes</td>\n",
       "      <td>NaN</td>\n",
       "      <td>Qality</td>\n",
       "      <td>DNNQ</td>\n",
       "      <td>2021</td>\n",
       "      <td>2</td>\n",
       "      <td>0</td>\n",
       "      <td>False</td>\n",
       "      <td>33</td>\n",
       "    </tr>\n",
       "    <tr>\n",
       "      <th>4</th>\n",
       "      <td>2021-week_33</td>\n",
       "      <td>AD07CMVHP6</td>\n",
       "      <td>Search Million Culture</td>\n",
       "      <td>DE</td>\n",
       "      <td>Yes</td>\n",
       "      <td>NaN</td>\n",
       "      <td>Qality</td>\n",
       "      <td>DNNQ</td>\n",
       "      <td>2021</td>\n",
       "      <td>2</td>\n",
       "      <td>0</td>\n",
       "      <td>False</td>\n",
       "      <td>33</td>\n",
       "    </tr>\n",
       "    <tr>\n",
       "      <th>5</th>\n",
       "      <td>2021-week_33</td>\n",
       "      <td>AD008DJKGW</td>\n",
       "      <td>Search Million Culture</td>\n",
       "      <td>DE</td>\n",
       "      <td>Yes</td>\n",
       "      <td>NaN</td>\n",
       "      <td>Qality</td>\n",
       "      <td>DNNQ</td>\n",
       "      <td>2021</td>\n",
       "      <td>2</td>\n",
       "      <td>0</td>\n",
       "      <td>False</td>\n",
       "      <td>33</td>\n",
       "    </tr>\n",
       "    <tr>\n",
       "      <th>7</th>\n",
       "      <td>2021-week_33</td>\n",
       "      <td>AD07NMJ88F</td>\n",
       "      <td>Search Million Culture</td>\n",
       "      <td>DE</td>\n",
       "      <td>Yes</td>\n",
       "      <td>NaN</td>\n",
       "      <td>Qality</td>\n",
       "      <td>DNNQ</td>\n",
       "      <td>2021</td>\n",
       "      <td>2</td>\n",
       "      <td>0</td>\n",
       "      <td>False</td>\n",
       "      <td>33</td>\n",
       "    </tr>\n",
       "    <tr>\n",
       "      <th>...</th>\n",
       "      <td>...</td>\n",
       "      <td>...</td>\n",
       "      <td>...</td>\n",
       "      <td>...</td>\n",
       "      <td>...</td>\n",
       "      <td>...</td>\n",
       "      <td>...</td>\n",
       "      <td>...</td>\n",
       "      <td>...</td>\n",
       "      <td>...</td>\n",
       "      <td>...</td>\n",
       "      <td>...</td>\n",
       "      <td>...</td>\n",
       "    </tr>\n",
       "    <tr>\n",
       "      <th>373746</th>\n",
       "      <td>2022-week_52</td>\n",
       "      <td>AD0088HWWX</td>\n",
       "      <td>Fancy</td>\n",
       "      <td>US</td>\n",
       "      <td>Yes</td>\n",
       "      <td>NaN</td>\n",
       "      <td>Qality</td>\n",
       "      <td>DNNQ</td>\n",
       "      <td>2022</td>\n",
       "      <td>4</td>\n",
       "      <td>0</td>\n",
       "      <td>False</td>\n",
       "      <td>52</td>\n",
       "    </tr>\n",
       "    <tr>\n",
       "      <th>373774</th>\n",
       "      <td>2022-week_52</td>\n",
       "      <td>AD07NQW86M</td>\n",
       "      <td>Fancy</td>\n",
       "      <td>US</td>\n",
       "      <td>Yes</td>\n",
       "      <td>NaN</td>\n",
       "      <td>Qality</td>\n",
       "      <td>DNNQ</td>\n",
       "      <td>2022</td>\n",
       "      <td>4</td>\n",
       "      <td>0</td>\n",
       "      <td>False</td>\n",
       "      <td>52</td>\n",
       "    </tr>\n",
       "    <tr>\n",
       "      <th>373777</th>\n",
       "      <td>2022-week_52</td>\n",
       "      <td>AD00AXTO80</td>\n",
       "      <td>Fancy</td>\n",
       "      <td>US</td>\n",
       "      <td>Yes</td>\n",
       "      <td>NaN</td>\n",
       "      <td>Qality</td>\n",
       "      <td>DNNQ</td>\n",
       "      <td>2022</td>\n",
       "      <td>4</td>\n",
       "      <td>0</td>\n",
       "      <td>False</td>\n",
       "      <td>52</td>\n",
       "    </tr>\n",
       "    <tr>\n",
       "      <th>373786</th>\n",
       "      <td>2022-week_52</td>\n",
       "      <td>AD08FWNFDO</td>\n",
       "      <td>RelayFoods</td>\n",
       "      <td>US</td>\n",
       "      <td>Yes</td>\n",
       "      <td>NaN</td>\n",
       "      <td>Qality</td>\n",
       "      <td>DNNQ</td>\n",
       "      <td>2022</td>\n",
       "      <td>4</td>\n",
       "      <td>0</td>\n",
       "      <td>False</td>\n",
       "      <td>52</td>\n",
       "    </tr>\n",
       "    <tr>\n",
       "      <th>373787</th>\n",
       "      <td>2022-week_52</td>\n",
       "      <td>AD00NATC8M</td>\n",
       "      <td>Tab Solutions</td>\n",
       "      <td>US</td>\n",
       "      <td>Yes</td>\n",
       "      <td>NaN</td>\n",
       "      <td>Qality</td>\n",
       "      <td>DNNQ</td>\n",
       "      <td>2022</td>\n",
       "      <td>4</td>\n",
       "      <td>0</td>\n",
       "      <td>False</td>\n",
       "      <td>52</td>\n",
       "    </tr>\n",
       "  </tbody>\n",
       "</table>\n",
       "<p>117424 rows × 13 columns</p>\n",
       "</div>"
      ],
      "text/plain": [
       "             week_id       ad_id               requester region is_success  \\\n",
       "0       2021-week_33   AD0088VOS  Search Million Culture     DE        Yes   \n",
       "2       2021-week_33  AD08PDP6Y9  Search Million Culture     DE        Yes   \n",
       "4       2021-week_33  AD07CMVHP6  Search Million Culture     DE        Yes   \n",
       "5       2021-week_33  AD008DJKGW  Search Million Culture     DE        Yes   \n",
       "7       2021-week_33  AD07NMJ88F  Search Million Culture     DE        Yes   \n",
       "...              ...         ...                     ...    ...        ...   \n",
       "373746  2022-week_52  AD0088HWWX                   Fancy     US        Yes   \n",
       "373774  2022-week_52  AD07NQW86M                   Fancy     US        Yes   \n",
       "373777  2022-week_52  AD00AXTO80                   Fancy     US        Yes   \n",
       "373786  2022-week_52  AD08FWNFDO              RelayFoods     US        Yes   \n",
       "373787  2022-week_52  AD00NATC8M           Tab Solutions     US        Yes   \n",
       "\n",
       "       is_sever recommendation_type rec_provider  year  quarter  \\\n",
       "0           NaN              Qality         DNNQ  2021        2   \n",
       "2           NaN              Qality         DNNQ  2021        2   \n",
       "4           NaN              Qality         DNNQ  2021        2   \n",
       "5           NaN              Qality         DNNQ  2021        2   \n",
       "7           NaN              Qality         DNNQ  2021        2   \n",
       "...         ...                 ...          ...   ...      ...   \n",
       "373746      NaN              Qality         DNNQ  2022        4   \n",
       "373774      NaN              Qality         DNNQ  2022        4   \n",
       "373777      NaN              Qality         DNNQ  2022        4   \n",
       "373786      NaN              Qality         DNNQ  2022        4   \n",
       "373787      NaN              Qality         DNNQ  2022        4   \n",
       "\n",
       "        is_sucess_int is_sever_no_nan  week  \n",
       "0                   0           False    33  \n",
       "2                   0           False    33  \n",
       "4                   0           False    33  \n",
       "5                   0           False    33  \n",
       "7                   0           False    33  \n",
       "...               ...             ...   ...  \n",
       "373746              0           False    52  \n",
       "373774              0           False    52  \n",
       "373777              0           False    52  \n",
       "373786              0           False    52  \n",
       "373787              0           False    52  \n",
       "\n",
       "[117424 rows x 13 columns]"
      ]
     },
     "execution_count": 230,
     "metadata": {},
     "output_type": "execute_result"
    }
   ],
   "source": [
    "most_popular_provider = ad_recs_annotated.rec_provider.value_counts().idxmax()\n",
    "ad_recs_annotated[ad_recs_annotated[\"rec_provider\"] == most_popular_provider]"
   ]
  },
  {
   "cell_type": "markdown",
   "id": "259c860d-2b9e-4dd2-91c5-b6bbf9f7d8b6",
   "metadata": {
    "tags": []
   },
   "source": [
    "###### 10. Select the data in which is_sever is None. How big is it?"
   ]
  },
  {
   "cell_type": "code",
   "execution_count": 232,
   "id": "bdafe808-de2d-43f4-97ab-59578cae286d",
   "metadata": {},
   "outputs": [
    {
     "data": {
      "text/plain": [
       "(304195, 13)"
      ]
     },
     "execution_count": 232,
     "metadata": {},
     "output_type": "execute_result"
    }
   ],
   "source": [
    "is_na_sever = ad_recs_annotated[ad_recs_annotated.is_sever.isna()]\n",
    "is_na_sever.shape"
   ]
  },
  {
   "cell_type": "markdown",
   "id": "45a27167-5a53-46c9-bb0c-f52820daae29",
   "metadata": {
    "tags": []
   },
   "source": [
    "###### 11. Select the data in which the requester is a 3 word company"
   ]
  },
  {
   "cell_type": "code",
   "execution_count": 343,
   "id": "d31b5ac5-30be-4569-be0a-afef87c88b5a",
   "metadata": {},
   "outputs": [
    {
     "name": "stdout",
     "output_type": "stream",
     "text": [
      "['Search Million Culture', 'MoJoe Brewing Company', 'Doctorfun Entertainment, Ltd', 'Mission Street Manufacturing', 'PureSafe water systems']\n",
      "<class 'list'>\n"
     ]
    },
    {
     "data": {
      "text/html": [
       "<div>\n",
       "<style scoped>\n",
       "    .dataframe tbody tr th:only-of-type {\n",
       "        vertical-align: middle;\n",
       "    }\n",
       "\n",
       "    .dataframe tbody tr th {\n",
       "        vertical-align: top;\n",
       "    }\n",
       "\n",
       "    .dataframe thead th {\n",
       "        text-align: right;\n",
       "    }\n",
       "</style>\n",
       "<table border=\"1\" class=\"dataframe\">\n",
       "  <thead>\n",
       "    <tr style=\"text-align: right;\">\n",
       "      <th></th>\n",
       "      <th>week_id</th>\n",
       "      <th>ad_id</th>\n",
       "      <th>requester</th>\n",
       "      <th>region</th>\n",
       "      <th>is_success</th>\n",
       "      <th>is_sever</th>\n",
       "      <th>recommendation_type</th>\n",
       "      <th>rec_provider</th>\n",
       "      <th>year</th>\n",
       "      <th>quarter</th>\n",
       "      <th>is_sucess_int</th>\n",
       "      <th>is_sever_no_nan</th>\n",
       "      <th>week</th>\n",
       "    </tr>\n",
       "  </thead>\n",
       "  <tbody>\n",
       "    <tr>\n",
       "      <th>0</th>\n",
       "      <td>2021-week_33</td>\n",
       "      <td>AD0088VOS</td>\n",
       "      <td>Search Million Culture</td>\n",
       "      <td>DE</td>\n",
       "      <td>Yes</td>\n",
       "      <td>NaN</td>\n",
       "      <td>Qality</td>\n",
       "      <td>DNNQ</td>\n",
       "      <td>2021</td>\n",
       "      <td>2</td>\n",
       "      <td>0</td>\n",
       "      <td>False</td>\n",
       "      <td>33</td>\n",
       "    </tr>\n",
       "    <tr>\n",
       "      <th>1</th>\n",
       "      <td>2021-week_33</td>\n",
       "      <td>AD07KYS8JM</td>\n",
       "      <td>MoJoe Brewing Company</td>\n",
       "      <td>DE</td>\n",
       "      <td>Yes</td>\n",
       "      <td>NaN</td>\n",
       "      <td>Yield</td>\n",
       "      <td>DNNY</td>\n",
       "      <td>2021</td>\n",
       "      <td>2</td>\n",
       "      <td>0</td>\n",
       "      <td>False</td>\n",
       "      <td>33</td>\n",
       "    </tr>\n",
       "    <tr>\n",
       "      <th>2</th>\n",
       "      <td>2021-week_33</td>\n",
       "      <td>AD08PDP6Y9</td>\n",
       "      <td>Search Million Culture</td>\n",
       "      <td>DE</td>\n",
       "      <td>Yes</td>\n",
       "      <td>NaN</td>\n",
       "      <td>Qality</td>\n",
       "      <td>DNNQ</td>\n",
       "      <td>2021</td>\n",
       "      <td>2</td>\n",
       "      <td>0</td>\n",
       "      <td>False</td>\n",
       "      <td>33</td>\n",
       "    </tr>\n",
       "    <tr>\n",
       "      <th>3</th>\n",
       "      <td>2021-week_33</td>\n",
       "      <td>AD89608808</td>\n",
       "      <td>Search Million Culture</td>\n",
       "      <td>DE</td>\n",
       "      <td>Yes</td>\n",
       "      <td>NaN</td>\n",
       "      <td>Qality</td>\n",
       "      <td>BooksQ</td>\n",
       "      <td>2021</td>\n",
       "      <td>2</td>\n",
       "      <td>0</td>\n",
       "      <td>False</td>\n",
       "      <td>33</td>\n",
       "    </tr>\n",
       "    <tr>\n",
       "      <th>4</th>\n",
       "      <td>2021-week_33</td>\n",
       "      <td>AD07CMVHP6</td>\n",
       "      <td>Search Million Culture</td>\n",
       "      <td>DE</td>\n",
       "      <td>Yes</td>\n",
       "      <td>NaN</td>\n",
       "      <td>Qality</td>\n",
       "      <td>DNNQ</td>\n",
       "      <td>2021</td>\n",
       "      <td>2</td>\n",
       "      <td>0</td>\n",
       "      <td>False</td>\n",
       "      <td>33</td>\n",
       "    </tr>\n",
       "    <tr>\n",
       "      <th>...</th>\n",
       "      <td>...</td>\n",
       "      <td>...</td>\n",
       "      <td>...</td>\n",
       "      <td>...</td>\n",
       "      <td>...</td>\n",
       "      <td>...</td>\n",
       "      <td>...</td>\n",
       "      <td>...</td>\n",
       "      <td>...</td>\n",
       "      <td>...</td>\n",
       "      <td>...</td>\n",
       "      <td>...</td>\n",
       "      <td>...</td>\n",
       "    </tr>\n",
       "    <tr>\n",
       "      <th>373663</th>\n",
       "      <td>2022-week_52</td>\n",
       "      <td>AD09G98VJZ</td>\n",
       "      <td>MoJoe Brewing Company</td>\n",
       "      <td>US</td>\n",
       "      <td>Yes</td>\n",
       "      <td>NaN</td>\n",
       "      <td>Yield</td>\n",
       "      <td>RNNY</td>\n",
       "      <td>2022</td>\n",
       "      <td>4</td>\n",
       "      <td>0</td>\n",
       "      <td>False</td>\n",
       "      <td>52</td>\n",
       "    </tr>\n",
       "    <tr>\n",
       "      <th>373689</th>\n",
       "      <td>2022-week_52</td>\n",
       "      <td>AD078WDG8W</td>\n",
       "      <td>MoJoe Brewing Company</td>\n",
       "      <td>US</td>\n",
       "      <td>Yes</td>\n",
       "      <td>NaN</td>\n",
       "      <td>Yield</td>\n",
       "      <td>RNNY</td>\n",
       "      <td>2022</td>\n",
       "      <td>4</td>\n",
       "      <td>0</td>\n",
       "      <td>False</td>\n",
       "      <td>52</td>\n",
       "    </tr>\n",
       "    <tr>\n",
       "      <th>373691</th>\n",
       "      <td>2022-week_52</td>\n",
       "      <td>AD08M86WW8</td>\n",
       "      <td>MoJoe Brewing Company</td>\n",
       "      <td>US</td>\n",
       "      <td>Yes</td>\n",
       "      <td>NaN</td>\n",
       "      <td>Yield</td>\n",
       "      <td>DNNY</td>\n",
       "      <td>2022</td>\n",
       "      <td>4</td>\n",
       "      <td>0</td>\n",
       "      <td>False</td>\n",
       "      <td>52</td>\n",
       "    </tr>\n",
       "    <tr>\n",
       "      <th>373722</th>\n",
       "      <td>2022-week_52</td>\n",
       "      <td>AD09C8X6VY</td>\n",
       "      <td>Search Million Culture</td>\n",
       "      <td>US</td>\n",
       "      <td>Yes</td>\n",
       "      <td>NaN</td>\n",
       "      <td>Qality</td>\n",
       "      <td>DNNQ</td>\n",
       "      <td>2022</td>\n",
       "      <td>4</td>\n",
       "      <td>0</td>\n",
       "      <td>False</td>\n",
       "      <td>52</td>\n",
       "    </tr>\n",
       "    <tr>\n",
       "      <th>373728</th>\n",
       "      <td>2022-week_52</td>\n",
       "      <td>AD08P8L8YQ</td>\n",
       "      <td>MoJoe Brewing Company</td>\n",
       "      <td>US</td>\n",
       "      <td>No</td>\n",
       "      <td>True</td>\n",
       "      <td>Yield</td>\n",
       "      <td>DNNY</td>\n",
       "      <td>2022</td>\n",
       "      <td>4</td>\n",
       "      <td>0</td>\n",
       "      <td>True</td>\n",
       "      <td>52</td>\n",
       "    </tr>\n",
       "  </tbody>\n",
       "</table>\n",
       "<p>118141 rows × 13 columns</p>\n",
       "</div>"
      ],
      "text/plain": [
       "             week_id       ad_id               requester region is_success  \\\n",
       "0       2021-week_33   AD0088VOS  Search Million Culture     DE        Yes   \n",
       "1       2021-week_33  AD07KYS8JM   MoJoe Brewing Company     DE        Yes   \n",
       "2       2021-week_33  AD08PDP6Y9  Search Million Culture     DE        Yes   \n",
       "3       2021-week_33  AD89608808  Search Million Culture     DE        Yes   \n",
       "4       2021-week_33  AD07CMVHP6  Search Million Culture     DE        Yes   \n",
       "...              ...         ...                     ...    ...        ...   \n",
       "373663  2022-week_52  AD09G98VJZ   MoJoe Brewing Company     US        Yes   \n",
       "373689  2022-week_52  AD078WDG8W   MoJoe Brewing Company     US        Yes   \n",
       "373691  2022-week_52  AD08M86WW8   MoJoe Brewing Company     US        Yes   \n",
       "373722  2022-week_52  AD09C8X6VY  Search Million Culture     US        Yes   \n",
       "373728  2022-week_52  AD08P8L8YQ   MoJoe Brewing Company     US         No   \n",
       "\n",
       "       is_sever recommendation_type rec_provider  year  quarter  \\\n",
       "0           NaN              Qality         DNNQ  2021        2   \n",
       "1           NaN               Yield         DNNY  2021        2   \n",
       "2           NaN              Qality         DNNQ  2021        2   \n",
       "3           NaN              Qality       BooksQ  2021        2   \n",
       "4           NaN              Qality         DNNQ  2021        2   \n",
       "...         ...                 ...          ...   ...      ...   \n",
       "373663      NaN               Yield         RNNY  2022        4   \n",
       "373689      NaN               Yield         RNNY  2022        4   \n",
       "373691      NaN               Yield         DNNY  2022        4   \n",
       "373722      NaN              Qality         DNNQ  2022        4   \n",
       "373728     True               Yield         DNNY  2022        4   \n",
       "\n",
       "        is_sucess_int is_sever_no_nan  week  \n",
       "0                   0           False    33  \n",
       "1                   0           False    33  \n",
       "2                   0           False    33  \n",
       "3                   0           False    33  \n",
       "4                   0           False    33  \n",
       "...               ...             ...   ...  \n",
       "373663              0           False    52  \n",
       "373689              0           False    52  \n",
       "373691              0           False    52  \n",
       "373722              0           False    52  \n",
       "373728              0            True    52  \n",
       "\n",
       "[118141 rows x 13 columns]"
      ]
     },
     "execution_count": 343,
     "metadata": {},
     "output_type": "execute_result"
    }
   ],
   "source": [
    "splitted_requester = [len(r) >= 3 for r in [req.split() for req in  ad_recs_annotated.requester.value_counts().index.tolist()]]\n",
    "\n",
    "requester_to_words_count = pd.Series(splitted_requester, index = ad_recs_annotated.requester.value_counts().index)\n",
    "requester_to_words_count.index.name = \"requester\"\n",
    "requester_names = requester_to_words_count[requester_to_words_count == True].index.tolist()\n",
    "print(requester_names)\n",
    "\n",
    "ad_recs_annotated[ad_recs_annotated[\"requester\"].isin(requester_names)]"
   ]
  },
  {
   "cell_type": "markdown",
   "id": "dd74bec9-9e94-4118-b62e-07e0dbf53b64",
   "metadata": {
    "tags": []
   },
   "source": [
    "###### 12. Select the data in which the requester is a 3 word company, and the ad_id has the letter 6 in it"
   ]
  },
  {
   "cell_type": "code",
   "execution_count": 351,
   "id": "3aa9f10d-2556-44b8-8631-201f31af7d82",
   "metadata": {},
   "outputs": [
    {
     "data": {
      "text/html": [
       "<div>\n",
       "<style scoped>\n",
       "    .dataframe tbody tr th:only-of-type {\n",
       "        vertical-align: middle;\n",
       "    }\n",
       "\n",
       "    .dataframe tbody tr th {\n",
       "        vertical-align: top;\n",
       "    }\n",
       "\n",
       "    .dataframe thead th {\n",
       "        text-align: right;\n",
       "    }\n",
       "</style>\n",
       "<table border=\"1\" class=\"dataframe\">\n",
       "  <thead>\n",
       "    <tr style=\"text-align: right;\">\n",
       "      <th></th>\n",
       "      <th>week_id</th>\n",
       "      <th>ad_id</th>\n",
       "      <th>requester</th>\n",
       "      <th>region</th>\n",
       "      <th>is_success</th>\n",
       "      <th>is_sever</th>\n",
       "      <th>recommendation_type</th>\n",
       "      <th>rec_provider</th>\n",
       "      <th>year</th>\n",
       "      <th>quarter</th>\n",
       "      <th>is_sucess_int</th>\n",
       "      <th>is_sever_no_nan</th>\n",
       "      <th>week</th>\n",
       "    </tr>\n",
       "  </thead>\n",
       "  <tbody>\n",
       "    <tr>\n",
       "      <th>2</th>\n",
       "      <td>2021-week_33</td>\n",
       "      <td>AD08PDP6Y9</td>\n",
       "      <td>Search Million Culture</td>\n",
       "      <td>DE</td>\n",
       "      <td>Yes</td>\n",
       "      <td>NaN</td>\n",
       "      <td>Qality</td>\n",
       "      <td>DNNQ</td>\n",
       "      <td>2021</td>\n",
       "      <td>2</td>\n",
       "      <td>0</td>\n",
       "      <td>False</td>\n",
       "      <td>33</td>\n",
       "    </tr>\n",
       "    <tr>\n",
       "      <th>3</th>\n",
       "      <td>2021-week_33</td>\n",
       "      <td>AD89608808</td>\n",
       "      <td>Search Million Culture</td>\n",
       "      <td>DE</td>\n",
       "      <td>Yes</td>\n",
       "      <td>NaN</td>\n",
       "      <td>Qality</td>\n",
       "      <td>BooksQ</td>\n",
       "      <td>2021</td>\n",
       "      <td>2</td>\n",
       "      <td>0</td>\n",
       "      <td>False</td>\n",
       "      <td>33</td>\n",
       "    </tr>\n",
       "    <tr>\n",
       "      <th>4</th>\n",
       "      <td>2021-week_33</td>\n",
       "      <td>AD07CMVHP6</td>\n",
       "      <td>Search Million Culture</td>\n",
       "      <td>DE</td>\n",
       "      <td>Yes</td>\n",
       "      <td>NaN</td>\n",
       "      <td>Qality</td>\n",
       "      <td>DNNQ</td>\n",
       "      <td>2021</td>\n",
       "      <td>2</td>\n",
       "      <td>0</td>\n",
       "      <td>False</td>\n",
       "      <td>33</td>\n",
       "    </tr>\n",
       "    <tr>\n",
       "      <th>11</th>\n",
       "      <td>2021-week_33</td>\n",
       "      <td>AD88967068</td>\n",
       "      <td>Search Million Culture</td>\n",
       "      <td>DE</td>\n",
       "      <td>Yes</td>\n",
       "      <td>NaN</td>\n",
       "      <td>Qality</td>\n",
       "      <td>BooksQ</td>\n",
       "      <td>2021</td>\n",
       "      <td>2</td>\n",
       "      <td>0</td>\n",
       "      <td>False</td>\n",
       "      <td>33</td>\n",
       "    </tr>\n",
       "    <tr>\n",
       "      <th>41</th>\n",
       "      <td>2021-week_33</td>\n",
       "      <td>AD07L6JC8W</td>\n",
       "      <td>MoJoe Brewing Company</td>\n",
       "      <td>DE</td>\n",
       "      <td>Yes</td>\n",
       "      <td>NaN</td>\n",
       "      <td>Yield</td>\n",
       "      <td>DNNY</td>\n",
       "      <td>2021</td>\n",
       "      <td>2</td>\n",
       "      <td>0</td>\n",
       "      <td>False</td>\n",
       "      <td>33</td>\n",
       "    </tr>\n",
       "    <tr>\n",
       "      <th>...</th>\n",
       "      <td>...</td>\n",
       "      <td>...</td>\n",
       "      <td>...</td>\n",
       "      <td>...</td>\n",
       "      <td>...</td>\n",
       "      <td>...</td>\n",
       "      <td>...</td>\n",
       "      <td>...</td>\n",
       "      <td>...</td>\n",
       "      <td>...</td>\n",
       "      <td>...</td>\n",
       "      <td>...</td>\n",
       "      <td>...</td>\n",
       "    </tr>\n",
       "    <tr>\n",
       "      <th>373364</th>\n",
       "      <td>2022-week_52</td>\n",
       "      <td>AD06XJR86M</td>\n",
       "      <td>MoJoe Brewing Company</td>\n",
       "      <td>US</td>\n",
       "      <td>Yes</td>\n",
       "      <td>NaN</td>\n",
       "      <td>Yield</td>\n",
       "      <td>RuleBasedY</td>\n",
       "      <td>2022</td>\n",
       "      <td>4</td>\n",
       "      <td>0</td>\n",
       "      <td>False</td>\n",
       "      <td>52</td>\n",
       "    </tr>\n",
       "    <tr>\n",
       "      <th>373394</th>\n",
       "      <td>2022-week_52</td>\n",
       "      <td>AD08Y6R9WV</td>\n",
       "      <td>MoJoe Brewing Company</td>\n",
       "      <td>US</td>\n",
       "      <td>Yes</td>\n",
       "      <td>NaN</td>\n",
       "      <td>Yield</td>\n",
       "      <td>DNNY</td>\n",
       "      <td>2022</td>\n",
       "      <td>4</td>\n",
       "      <td>0</td>\n",
       "      <td>False</td>\n",
       "      <td>52</td>\n",
       "    </tr>\n",
       "    <tr>\n",
       "      <th>373511</th>\n",
       "      <td>2022-week_52</td>\n",
       "      <td>AD09C68T8Y</td>\n",
       "      <td>MoJoe Brewing Company</td>\n",
       "      <td>US</td>\n",
       "      <td>Yes</td>\n",
       "      <td>NaN</td>\n",
       "      <td>Yield</td>\n",
       "      <td>DNNY</td>\n",
       "      <td>2022</td>\n",
       "      <td>4</td>\n",
       "      <td>0</td>\n",
       "      <td>False</td>\n",
       "      <td>52</td>\n",
       "    </tr>\n",
       "    <tr>\n",
       "      <th>373691</th>\n",
       "      <td>2022-week_52</td>\n",
       "      <td>AD08M86WW8</td>\n",
       "      <td>MoJoe Brewing Company</td>\n",
       "      <td>US</td>\n",
       "      <td>Yes</td>\n",
       "      <td>NaN</td>\n",
       "      <td>Yield</td>\n",
       "      <td>DNNY</td>\n",
       "      <td>2022</td>\n",
       "      <td>4</td>\n",
       "      <td>0</td>\n",
       "      <td>False</td>\n",
       "      <td>52</td>\n",
       "    </tr>\n",
       "    <tr>\n",
       "      <th>373722</th>\n",
       "      <td>2022-week_52</td>\n",
       "      <td>AD09C8X6VY</td>\n",
       "      <td>Search Million Culture</td>\n",
       "      <td>US</td>\n",
       "      <td>Yes</td>\n",
       "      <td>NaN</td>\n",
       "      <td>Qality</td>\n",
       "      <td>DNNQ</td>\n",
       "      <td>2022</td>\n",
       "      <td>4</td>\n",
       "      <td>0</td>\n",
       "      <td>False</td>\n",
       "      <td>52</td>\n",
       "    </tr>\n",
       "  </tbody>\n",
       "</table>\n",
       "<p>24197 rows × 13 columns</p>\n",
       "</div>"
      ],
      "text/plain": [
       "             week_id       ad_id               requester region is_success  \\\n",
       "2       2021-week_33  AD08PDP6Y9  Search Million Culture     DE        Yes   \n",
       "3       2021-week_33  AD89608808  Search Million Culture     DE        Yes   \n",
       "4       2021-week_33  AD07CMVHP6  Search Million Culture     DE        Yes   \n",
       "11      2021-week_33  AD88967068  Search Million Culture     DE        Yes   \n",
       "41      2021-week_33  AD07L6JC8W   MoJoe Brewing Company     DE        Yes   \n",
       "...              ...         ...                     ...    ...        ...   \n",
       "373364  2022-week_52  AD06XJR86M   MoJoe Brewing Company     US        Yes   \n",
       "373394  2022-week_52  AD08Y6R9WV   MoJoe Brewing Company     US        Yes   \n",
       "373511  2022-week_52  AD09C68T8Y   MoJoe Brewing Company     US        Yes   \n",
       "373691  2022-week_52  AD08M86WW8   MoJoe Brewing Company     US        Yes   \n",
       "373722  2022-week_52  AD09C8X6VY  Search Million Culture     US        Yes   \n",
       "\n",
       "       is_sever recommendation_type rec_provider  year  quarter  \\\n",
       "2           NaN              Qality         DNNQ  2021        2   \n",
       "3           NaN              Qality       BooksQ  2021        2   \n",
       "4           NaN              Qality         DNNQ  2021        2   \n",
       "11          NaN              Qality       BooksQ  2021        2   \n",
       "41          NaN               Yield         DNNY  2021        2   \n",
       "...         ...                 ...          ...   ...      ...   \n",
       "373364      NaN               Yield   RuleBasedY  2022        4   \n",
       "373394      NaN               Yield         DNNY  2022        4   \n",
       "373511      NaN               Yield         DNNY  2022        4   \n",
       "373691      NaN               Yield         DNNY  2022        4   \n",
       "373722      NaN              Qality         DNNQ  2022        4   \n",
       "\n",
       "        is_sucess_int is_sever_no_nan  week  \n",
       "2                   0           False    33  \n",
       "3                   0           False    33  \n",
       "4                   0           False    33  \n",
       "11                  0           False    33  \n",
       "41                  0           False    33  \n",
       "...               ...             ...   ...  \n",
       "373364              0           False    52  \n",
       "373394              0           False    52  \n",
       "373511              0           False    52  \n",
       "373691              0           False    52  \n",
       "373722              0           False    52  \n",
       "\n",
       "[24197 rows x 13 columns]"
      ]
     },
     "execution_count": 351,
     "metadata": {},
     "output_type": "execute_result"
    }
   ],
   "source": [
    "def is_letter_in_text(txt, letter):\n",
    "    return txt.find(letter) > 0\n",
    "\n",
    "#print(ad_recs_annotated[ad_recs_annotated.ad_id.apply(func = is_letter_in_text, args = (\"6\"))].shape)\n",
    "ad_recs_annotated[(ad_recs_annotated[\"requester\"].isin(requester_names)) & (ad_recs_annotated.ad_id.apply(func = is_letter_in_text, args = (\"6\")))]"
   ]
  },
  {
   "cell_type": "markdown",
   "id": "0b4b0bbe-b465-4ff7-b735-1a18478d27fb",
   "metadata": {
    "tags": []
   },
   "source": [
    "###### 13. Select the data in which the requester is a 3 word company, and the multiplication of all the numbers in the ad_id is bigger than 30"
   ]
  },
  {
   "cell_type": "code",
   "execution_count": null,
   "id": "b759fc85-9457-47bd-b977-1c25681a0d54",
   "metadata": {},
   "outputs": [],
   "source": []
  },
  {
   "cell_type": "markdown",
   "id": "11d8b056-c777-490a-b26d-949ee8755561",
   "metadata": {},
   "source": [
    "### Analysis"
   ]
  },
  {
   "cell_type": "markdown",
   "id": "ccae8707-2c86-424a-bd55-73496219adbe",
   "metadata": {},
   "source": [
    "1. How many weeks available in the data? Are there any missing weeks? \n",
    "1. How many regions available in the data? Are there any missing weeks per region? \n",
    "1. How many ads are being sent to annotation in each region per week?\n",
    "1. How many None values are there in is_sever column? \n",
    "1. Are ads being sent more than one time in a given week? what is the ad_id that was sent the most in a given week? (e.g. ad X where sent 50 times in week Y)\n",
    "1. Are there ads that are being sent in more than one week?\n",
    "   1. Which is the ad that was sent in most amount of weeks (e.g. ad X where sent in Y different weeks)\n",
    "   2. What are the weeks that the ad from above was sent in? \n",
    "   3. Is there an Ad that was succsefull in one week, but not succesfful in a different week? Show one.\n",
    "1. When is_sever is None, what is the number of successful requests? What is the number of non-successful requests? What do you learn from it about the reason for Nones in the first place? \n",
    "1. Per each region, What is the Quality/Yield traffic proportion WoW? \n",
    "1. How many different reqeusters are there? \n",
    "1. Which are the top 5 requesters per region? \n",
    "1. Which are the different rec_proivders?\n",
    "1. Are there different rec providers per region? \n",
    "1. Are there different rec providers per rec type?\n",
    "1. What are the notation rules distinguishing between quality vs yielding providers?\n",
    "1. Which is the most successful region of operation? \n",
    "1. Which is the most successful rec provider per each region? \n",
    "1. Present a table with a success rate, sever defects rate and CI (for each metric) per region\n",
    "1. Present a table with a success rate, sever defects rate and CI (for each metric) per rec provider\n",
    "1. Present a table with a success rate, sever defects rate and CI (for each metric) per region and rec provider combinations\n",
    "1. Present a table with a success rate, sever defects rate and CI (for each metric) per rec type (Q/Y)\n",
    "1. Present a table with a success rate, sever defects rate and CI (for each metric) per rec type and region\n",
    "1. Present WoW table/graph with success rate and CI (see image below) per region\n",
    "1. Present WoW table/graph with success rate and CI (see image below) per region and rec type\n",
    "1. Present WoW table/graph with success rate and CI (see image below) per region and rec provider\n",
    "1. Which are the requester to which we succeed the most?\n",
    "1. Which are the requester to which we produce the most critical defects?\n",
    "1. What is the overall success rate trend over time? \n",
    "1. What is the overall sever defect rate trend over time? \n",
    "1. Preset a WoW graph showing the number of requests per customer in each region (hint: [use stacked bars](https://plotly.com/python/bar-charts/)), from it:\n",
    "  1. Identify major traffic shape changes (addition/removal) of major clients\n",
    "1. Preset a WoW graph showing the **requests proportion** per customer in each region (hint: [use stacked bars](https://plotly.com/python/bar-charts/)), from it:\n",
    "  1. Identify major traffic shape changes (addition/removal) of major clients\n"
   ]
  },
  {
   "cell_type": "markdown",
   "id": "fcfd9204-c093-4cdf-88e5-c7b7b921469f",
   "metadata": {
    "tags": []
   },
   "source": [
    "###### 1. How many weeks available in the data? Are there any missing weeks? "
   ]
  },
  {
   "cell_type": "code",
   "execution_count": 405,
   "id": "3c579e31-b11d-4bbb-bfef-381d59c24cc8",
   "metadata": {},
   "outputs": [
    {
     "name": "stdout",
     "output_type": "stream",
     "text": [
      "[33, 34, 35, 36, 37, 38, 39, 40, 41, 42, 43, 44, 45, 46, 47, 48, 49, 50, 51, 1, 2, 3, 4, 5, 6, 52]\n",
      "[1, 2, 3, 4, 5, 6, 33, 34, 35, 36, 37, 38, 39, 40, 41, 42, 43, 44, 45, 46, 47, 48, 49, 50, 51, 52]\n",
      "[7, 8, 9, 10, 11, 12, 13, 14, 15, 16, 17, 18, 19, 20, 21, 22, 23, 24, 25, 26, 27, 28, 29, 30, 31, 32]\n"
     ]
    }
   ],
   "source": [
    "def missing_numbers(num_list):\n",
    "    missing = []\n",
    "    for i in range(1,max(num_list)):\n",
    "        if num_list.count(i) == 0:\n",
    "            missing.append(i)\n",
    "    return missing\n",
    "            \n",
    "    \n",
    "unique_weeks = ad_recs_annotated.week.unique().tolist()\n",
    "print(unique_weeks)\n",
    "sorted_weeks = sorted(unique_weeks)\n",
    "print(sorted_weeks)\n",
    "print(missing_numbers(sorted_weeks))"
   ]
  },
  {
   "cell_type": "markdown",
   "id": "66ea7fc0-ba43-46a0-9fd4-227ca05fab21",
   "metadata": {
    "tags": []
   },
   "source": [
    "###### 2. How many regions available in the data? Are there any missing weeks per region?"
   ]
  },
  {
   "cell_type": "code",
   "execution_count": 786,
   "id": "d2e26e82-7035-4aef-bed6-c3f70f5eaec1",
   "metadata": {},
   "outputs": [
    {
     "name": "stdout",
     "output_type": "stream",
     "text": [
      "['DE', 'GB', 'IN', 'JP', 'US']\n"
     ]
    },
    {
     "data": {
      "text/plain": [
       "region\n",
       "DE    [7, 8, 9, 10, 11, 12, 13, 14, 15, 16, 17, 18, ...\n",
       "GB    [7, 8, 9, 10, 11, 12, 13, 14, 15, 16, 17, 18, ...\n",
       "IN    [7, 8, 9, 10, 11, 12, 13, 14, 15, 16, 17, 18, ...\n",
       "JP    [7, 8, 9, 10, 11, 12, 13, 14, 15, 16, 17, 18, ...\n",
       "US    [7, 8, 9, 10, 11, 12, 13, 14, 15, 16, 17, 18, ...\n",
       "dtype: object"
      ]
     },
     "execution_count": 786,
     "metadata": {},
     "output_type": "execute_result"
    }
   ],
   "source": [
    "unique_regions = ad_recs_annotated.region.unique().tolist()\n",
    "print(unique_regions)\n",
    "ad_recs_annotated.groupby(\"region\").apply(lambda g: missing_numbers(g.week.tolist()))"
   ]
  },
  {
   "cell_type": "markdown",
   "id": "394ef9a9-1422-4740-940a-4c2064b2c25d",
   "metadata": {
    "tags": []
   },
   "source": [
    "###### 3. How many ads are being sent to annotation in each region per week?"
   ]
  },
  {
   "cell_type": "code",
   "execution_count": 457,
   "id": "4fb8d4c7-27f5-4236-a30e-ce368ee1e3c3",
   "metadata": {},
   "outputs": [
    {
     "data": {
      "text/plain": [
       "region  week\n",
       "DE      1       2402\n",
       "        2       2394\n",
       "        3       2378\n",
       "        4       2365\n",
       "        5       2382\n",
       "                ... \n",
       "US      48      4010\n",
       "        49      3994\n",
       "        50      3991\n",
       "        51      3996\n",
       "        52      3998\n",
       "Name: ad_id, Length: 129, dtype: int64"
      ]
     },
     "execution_count": 457,
     "metadata": {},
     "output_type": "execute_result"
    }
   ],
   "source": [
    "ad_recs_annotated.recommendation_type.value_counts()\n",
    "ad_recs_annotated.groupby(['region','week']).ad_id.count()"
   ]
  },
  {
   "cell_type": "markdown",
   "id": "deef960d-8a97-4a92-9e8e-2b4b91d6a305",
   "metadata": {
    "tags": []
   },
   "source": [
    "###### 4. How many None values are there in is_sever column? "
   ]
  },
  {
   "cell_type": "code",
   "execution_count": 450,
   "id": "13980448-9925-4502-a38f-1235e1ab1711",
   "metadata": {},
   "outputs": [
    {
     "name": "stdout",
     "output_type": "stream",
     "text": [
      "True     304195\n",
      "False     69593\n",
      "Name: is_sever, dtype: int64\n"
     ]
    }
   ],
   "source": [
    "print(ad_recs_annotated[\"is_sever\"].isnull().value_counts())"
   ]
  },
  {
   "cell_type": "markdown",
   "id": "447394ff-6875-4b25-9b2c-35c03f6e1516",
   "metadata": {
    "tags": []
   },
   "source": [
    "###### 5. Are ads being sent more than one time in a given week? what is the ad_id that was sent the most in a given week? (e.g. ad X where sent 50 times in week Y)"
   ]
  },
  {
   "cell_type": "code",
   "execution_count": 483,
   "id": "a6091fc4-03fe-466d-9778-ae3d9682ab9d",
   "metadata": {},
   "outputs": [
    {
     "data": {
      "text/html": [
       "<div>\n",
       "<style scoped>\n",
       "    .dataframe tbody tr th:only-of-type {\n",
       "        vertical-align: middle;\n",
       "    }\n",
       "\n",
       "    .dataframe tbody tr th {\n",
       "        vertical-align: top;\n",
       "    }\n",
       "\n",
       "    .dataframe thead th {\n",
       "        text-align: right;\n",
       "    }\n",
       "</style>\n",
       "<table border=\"1\" class=\"dataframe\">\n",
       "  <thead>\n",
       "    <tr style=\"text-align: right;\">\n",
       "      <th></th>\n",
       "      <th></th>\n",
       "      <th>num_ads</th>\n",
       "    </tr>\n",
       "    <tr>\n",
       "      <th>week</th>\n",
       "      <th>ad_id</th>\n",
       "      <th></th>\n",
       "    </tr>\n",
       "  </thead>\n",
       "  <tbody>\n",
       "    <tr>\n",
       "      <th>40</th>\n",
       "      <th>AD098SWYF6</th>\n",
       "      <td>81</td>\n",
       "    </tr>\n",
       "  </tbody>\n",
       "</table>\n",
       "</div>"
      ],
      "text/plain": [
       "                 num_ads\n",
       "week ad_id              \n",
       "40   AD098SWYF6       81"
      ]
     },
     "execution_count": 483,
     "metadata": {},
     "output_type": "execute_result"
    }
   ],
   "source": [
    "ads_per_week = ad_recs_annotated.groupby(['week','ad_id'])['ad_id'].count().rename('num_ads').to_frame()\n",
    "max_number = max(ads_per_week['num_ads'])\n",
    "ads_per_week[ads_per_week['num_ads'] == max_number]"
   ]
  },
  {
   "cell_type": "markdown",
   "id": "4fb4df42-1428-4f53-a23e-9ee73a7fd551",
   "metadata": {
    "tags": []
   },
   "source": [
    "###### 7. When is_sever is None, what is the number of successful requests? What is the number of non-successful requests? What do you learn from it about the reason for Nones in the first place?"
   ]
  },
  {
   "cell_type": "code",
   "execution_count": 826,
   "id": "edfe48d4-3296-48f1-8411-1f9ba5c3bf71",
   "metadata": {},
   "outputs": [
    {
     "name": "stdout",
     "output_type": "stream",
     "text": [
      "(304189, 11)\n"
     ]
    },
    {
     "data": {
      "text/plain": [
       "(6, 11)"
      ]
     },
     "execution_count": 826,
     "metadata": {},
     "output_type": "execute_result"
    }
   ],
   "source": [
    "print(ad_recs_annotated[ad_recs_annotated[\"is_sever\"].isnull()].query(\"is_sucess_int == 1\").shape)\n",
    "ad_recs_annotated[ad_recs_annotated[\"is_sever\"].isnull()].query(\"is_sucess_int == 0\").shape"
   ]
  },
  {
   "cell_type": "markdown",
   "id": "aec31ac2-0b5b-4874-af63-c7a58e585c51",
   "metadata": {
    "tags": []
   },
   "source": [
    "###### 8. Per each region, What is the Quality/Yield traffic proportion WoW? "
   ]
  },
  {
   "cell_type": "code",
   "execution_count": 514,
   "id": "9dd9dfc3-7c77-4145-99a2-b5e028b80f44",
   "metadata": {},
   "outputs": [
    {
     "data": {
      "text/plain": [
       "region\n",
       "DE    4.017434\n",
       "GB    4.886347\n",
       "IN    0.918375\n",
       "JP    5.472529\n",
       "US    0.663694\n",
       "dtype: float64"
      ]
     },
     "execution_count": 514,
     "metadata": {},
     "output_type": "execute_result"
    }
   ],
   "source": [
    "grouped_by_region = ad_recs_annotated.groupby(['region', 'recommendation_type'])['week'].sum()\n",
    "grouped_by_region.unstack().Qality / grouped_by_region.unstack().Yield"
   ]
  },
  {
   "cell_type": "markdown",
   "id": "f8c7f74c-5613-44c2-994a-7968aa1653f7",
   "metadata": {
    "tags": []
   },
   "source": [
    "###### 9. How many different reqeusters are there? "
   ]
  },
  {
   "cell_type": "code",
   "execution_count": 522,
   "id": "1a5743ac-4f7e-4859-be43-501d1978251f",
   "metadata": {},
   "outputs": [
    {
     "data": {
      "text/plain": [
       "36"
      ]
     },
     "execution_count": 522,
     "metadata": {},
     "output_type": "execute_result"
    }
   ],
   "source": [
    "ad_recs_annotated.requester.nunique()"
   ]
  },
  {
   "cell_type": "markdown",
   "id": "0cf29770-0a36-4f93-84bb-2084cf5e6e1f",
   "metadata": {
    "tags": []
   },
   "source": [
    "###### 10. Which are the top 5 requesters per region?"
   ]
  },
  {
   "cell_type": "code",
   "execution_count": 816,
   "id": "b5786657-beea-4b86-8cf3-3b5ef2a0f8d3",
   "metadata": {},
   "outputs": [
    {
     "data": {
      "text/plain": [
       "region                        \n",
       "DE      Search Million Culture    23657\n",
       "        RelayFoods                17313\n",
       "        MoJoe Brewing Company      8616\n",
       "        iDreamsky Technology       3542\n",
       "        SOLOMO365                  2435\n",
       "GB      Search Million Culture    28002\n",
       "        RelayFoods                15920\n",
       "        Fancy                     13678\n",
       "        MoJoe Brewing Company      9530\n",
       "        iDreamsky Technology       3919\n",
       "IN      Puentes Company           29427\n",
       "        Search Million Culture    21365\n",
       "        RelayFoods                17352\n",
       "        MoJoe Brewing Company      7191\n",
       "        iDreamsky Technology       1995\n",
       "JP      RelayFoods                24574\n",
       "        Search Million Culture     7906\n",
       "        MoJoe Brewing Company      3549\n",
       "        LocalVox Media             1724\n",
       "        Tab Solutions              1366\n",
       "US      Extreme DA                57215\n",
       "        Fancy                     18668\n",
       "        Tab Solutions              9790\n",
       "        Search Million Culture     5610\n",
       "        Sensor Tower               3503\n",
       "Name: requester, dtype: int64"
      ]
     },
     "execution_count": 816,
     "metadata": {},
     "output_type": "execute_result"
    }
   ],
   "source": [
    "ad_recs_annotated.groupby(['region']).apply(lambda g:g.requester.value_counts().head(5))"
   ]
  },
  {
   "cell_type": "markdown",
   "id": "a91194d6-fd55-4fb0-8bb2-bbfb41ba6daf",
   "metadata": {
    "tags": []
   },
   "source": [
    "###### 11. Which are the different rec_proivders?"
   ]
  },
  {
   "cell_type": "code",
   "execution_count": 587,
   "id": "6c48047a-9aba-489f-b728-7599c5043547",
   "metadata": {},
   "outputs": [
    {
     "data": {
      "text/html": [
       "<div>\n",
       "<style scoped>\n",
       "    .dataframe tbody tr th:only-of-type {\n",
       "        vertical-align: middle;\n",
       "    }\n",
       "\n",
       "    .dataframe tbody tr th {\n",
       "        vertical-align: top;\n",
       "    }\n",
       "\n",
       "    .dataframe thead th {\n",
       "        text-align: right;\n",
       "    }\n",
       "</style>\n",
       "<table border=\"1\" class=\"dataframe\">\n",
       "  <thead>\n",
       "    <tr style=\"text-align: right;\">\n",
       "      <th></th>\n",
       "      <th>region</th>\n",
       "      <th>rec_provider</th>\n",
       "    </tr>\n",
       "  </thead>\n",
       "  <tbody>\n",
       "    <tr>\n",
       "      <th>0</th>\n",
       "      <td>DE</td>\n",
       "      <td>[DNNQ, DNNY, BooksQ, UserPopQ, UserPopY, RuleB...</td>\n",
       "    </tr>\n",
       "    <tr>\n",
       "      <th>1</th>\n",
       "      <td>GB</td>\n",
       "      <td>[DNNY, XGBQ, DNNQ, XGBY, RNNQ, UserPopQ, Manua...</td>\n",
       "    </tr>\n",
       "    <tr>\n",
       "      <th>2</th>\n",
       "      <td>IN</td>\n",
       "      <td>[UserPopY, RuleBasedY, UserPopQ, ManualY, Manu...</td>\n",
       "    </tr>\n",
       "    <tr>\n",
       "      <th>3</th>\n",
       "      <td>JP</td>\n",
       "      <td>[ManualQ, UserPopQ, RuleBasedY, DNNQ, ManualY,...</td>\n",
       "    </tr>\n",
       "    <tr>\n",
       "      <th>4</th>\n",
       "      <td>US</td>\n",
       "      <td>[DNNY, ManualQ, DNNQ, UserPopY, XGBY, RNNY, Ma...</td>\n",
       "    </tr>\n",
       "  </tbody>\n",
       "</table>\n",
       "</div>"
      ],
      "text/plain": [
       "  region                                       rec_provider\n",
       "0     DE  [DNNQ, DNNY, BooksQ, UserPopQ, UserPopY, RuleB...\n",
       "1     GB  [DNNY, XGBQ, DNNQ, XGBY, RNNQ, UserPopQ, Manua...\n",
       "2     IN  [UserPopY, RuleBasedY, UserPopQ, ManualY, Manu...\n",
       "3     JP  [ManualQ, UserPopQ, RuleBasedY, DNNQ, ManualY,...\n",
       "4     US  [DNNY, ManualQ, DNNQ, UserPopY, XGBY, RNNY, Ma..."
      ]
     },
     "execution_count": 587,
     "metadata": {},
     "output_type": "execute_result"
    }
   ],
   "source": [
    "ad_recs_annotated.groupby('region').rec_provider.unique().reset_index()"
   ]
  },
  {
   "cell_type": "markdown",
   "id": "8da6f913-8557-4230-9172-e787a2210a20",
   "metadata": {
    "tags": []
   },
   "source": [
    "###### 12. Are there different rec providers per region?"
   ]
  },
  {
   "cell_type": "code",
   "execution_count": 827,
   "id": "76951120-023f-4baa-903a-494cddca0f22",
   "metadata": {},
   "outputs": [
    {
     "data": {
      "text/html": [
       "<div>\n",
       "<style scoped>\n",
       "    .dataframe tbody tr th:only-of-type {\n",
       "        vertical-align: middle;\n",
       "    }\n",
       "\n",
       "    .dataframe tbody tr th {\n",
       "        vertical-align: top;\n",
       "    }\n",
       "\n",
       "    .dataframe thead th {\n",
       "        text-align: right;\n",
       "    }\n",
       "</style>\n",
       "<table border=\"1\" class=\"dataframe\">\n",
       "  <thead>\n",
       "    <tr style=\"text-align: right;\">\n",
       "      <th></th>\n",
       "      <th>week_id</th>\n",
       "      <th>ad_id</th>\n",
       "      <th>requester</th>\n",
       "      <th>region</th>\n",
       "      <th>is_success</th>\n",
       "      <th>is_sever</th>\n",
       "      <th>recommendation_type</th>\n",
       "      <th>rec_provider</th>\n",
       "      <th>year</th>\n",
       "      <th>quarter</th>\n",
       "      <th>is_sucess_int</th>\n",
       "    </tr>\n",
       "  </thead>\n",
       "  <tbody>\n",
       "    <tr>\n",
       "      <th>0</th>\n",
       "      <td>2021-week_33</td>\n",
       "      <td>AD0088VOS</td>\n",
       "      <td>Search Million Culture</td>\n",
       "      <td>DE</td>\n",
       "      <td>yes</td>\n",
       "      <td>NaN</td>\n",
       "      <td>Qality</td>\n",
       "      <td>DNNQ</td>\n",
       "      <td>2021</td>\n",
       "      <td>2</td>\n",
       "      <td>1</td>\n",
       "    </tr>\n",
       "    <tr>\n",
       "      <th>1</th>\n",
       "      <td>2021-week_33</td>\n",
       "      <td>AD07KYS8JM</td>\n",
       "      <td>MoJoe Brewing Company</td>\n",
       "      <td>DE</td>\n",
       "      <td>yes</td>\n",
       "      <td>NaN</td>\n",
       "      <td>Yield</td>\n",
       "      <td>DNNY</td>\n",
       "      <td>2021</td>\n",
       "      <td>2</td>\n",
       "      <td>1</td>\n",
       "    </tr>\n",
       "    <tr>\n",
       "      <th>2</th>\n",
       "      <td>2021-week_33</td>\n",
       "      <td>AD08PDP6Y9</td>\n",
       "      <td>Search Million Culture</td>\n",
       "      <td>DE</td>\n",
       "      <td>yes</td>\n",
       "      <td>NaN</td>\n",
       "      <td>Qality</td>\n",
       "      <td>DNNQ</td>\n",
       "      <td>2021</td>\n",
       "      <td>2</td>\n",
       "      <td>1</td>\n",
       "    </tr>\n",
       "    <tr>\n",
       "      <th>3</th>\n",
       "      <td>2021-week_33</td>\n",
       "      <td>AD89608808</td>\n",
       "      <td>Search Million Culture</td>\n",
       "      <td>DE</td>\n",
       "      <td>yes</td>\n",
       "      <td>NaN</td>\n",
       "      <td>Qality</td>\n",
       "      <td>BooksQ</td>\n",
       "      <td>2021</td>\n",
       "      <td>2</td>\n",
       "      <td>1</td>\n",
       "    </tr>\n",
       "    <tr>\n",
       "      <th>4</th>\n",
       "      <td>2021-week_33</td>\n",
       "      <td>AD07CMVHP6</td>\n",
       "      <td>Search Million Culture</td>\n",
       "      <td>DE</td>\n",
       "      <td>yes</td>\n",
       "      <td>NaN</td>\n",
       "      <td>Qality</td>\n",
       "      <td>DNNQ</td>\n",
       "      <td>2021</td>\n",
       "      <td>2</td>\n",
       "      <td>1</td>\n",
       "    </tr>\n",
       "    <tr>\n",
       "      <th>...</th>\n",
       "      <td>...</td>\n",
       "      <td>...</td>\n",
       "      <td>...</td>\n",
       "      <td>...</td>\n",
       "      <td>...</td>\n",
       "      <td>...</td>\n",
       "      <td>...</td>\n",
       "      <td>...</td>\n",
       "      <td>...</td>\n",
       "      <td>...</td>\n",
       "      <td>...</td>\n",
       "    </tr>\n",
       "    <tr>\n",
       "      <th>373783</th>\n",
       "      <td>2022-week_52</td>\n",
       "      <td>AD08KQ8GDG</td>\n",
       "      <td>Extreme DA</td>\n",
       "      <td>US</td>\n",
       "      <td>yes</td>\n",
       "      <td>NaN</td>\n",
       "      <td>Yield</td>\n",
       "      <td>DNNY</td>\n",
       "      <td>2022</td>\n",
       "      <td>4</td>\n",
       "      <td>1</td>\n",
       "    </tr>\n",
       "    <tr>\n",
       "      <th>373784</th>\n",
       "      <td>2022-week_52</td>\n",
       "      <td>AD07C8XSMN</td>\n",
       "      <td>Fancy</td>\n",
       "      <td>US</td>\n",
       "      <td>yes</td>\n",
       "      <td>NaN</td>\n",
       "      <td>Qality</td>\n",
       "      <td>RNNQ</td>\n",
       "      <td>2022</td>\n",
       "      <td>4</td>\n",
       "      <td>1</td>\n",
       "    </tr>\n",
       "    <tr>\n",
       "      <th>373785</th>\n",
       "      <td>2022-week_52</td>\n",
       "      <td>AD096LRR88</td>\n",
       "      <td>Extreme DA</td>\n",
       "      <td>US</td>\n",
       "      <td>yes</td>\n",
       "      <td>NaN</td>\n",
       "      <td>Yield</td>\n",
       "      <td>DNNY</td>\n",
       "      <td>2022</td>\n",
       "      <td>4</td>\n",
       "      <td>1</td>\n",
       "    </tr>\n",
       "    <tr>\n",
       "      <th>373786</th>\n",
       "      <td>2022-week_52</td>\n",
       "      <td>AD08FWNFDO</td>\n",
       "      <td>RelayFoods</td>\n",
       "      <td>US</td>\n",
       "      <td>yes</td>\n",
       "      <td>NaN</td>\n",
       "      <td>Qality</td>\n",
       "      <td>DNNQ</td>\n",
       "      <td>2022</td>\n",
       "      <td>4</td>\n",
       "      <td>1</td>\n",
       "    </tr>\n",
       "    <tr>\n",
       "      <th>373787</th>\n",
       "      <td>2022-week_52</td>\n",
       "      <td>AD00NATC8M</td>\n",
       "      <td>Tab Solutions</td>\n",
       "      <td>US</td>\n",
       "      <td>yes</td>\n",
       "      <td>NaN</td>\n",
       "      <td>Qality</td>\n",
       "      <td>DNNQ</td>\n",
       "      <td>2022</td>\n",
       "      <td>4</td>\n",
       "      <td>1</td>\n",
       "    </tr>\n",
       "  </tbody>\n",
       "</table>\n",
       "<p>373788 rows × 11 columns</p>\n",
       "</div>"
      ],
      "text/plain": [
       "             week_id       ad_id               requester region is_success  \\\n",
       "0       2021-week_33   AD0088VOS  Search Million Culture     DE        yes   \n",
       "1       2021-week_33  AD07KYS8JM   MoJoe Brewing Company     DE        yes   \n",
       "2       2021-week_33  AD08PDP6Y9  Search Million Culture     DE        yes   \n",
       "3       2021-week_33  AD89608808  Search Million Culture     DE        yes   \n",
       "4       2021-week_33  AD07CMVHP6  Search Million Culture     DE        yes   \n",
       "...              ...         ...                     ...    ...        ...   \n",
       "373783  2022-week_52  AD08KQ8GDG              Extreme DA     US        yes   \n",
       "373784  2022-week_52  AD07C8XSMN                   Fancy     US        yes   \n",
       "373785  2022-week_52  AD096LRR88              Extreme DA     US        yes   \n",
       "373786  2022-week_52  AD08FWNFDO              RelayFoods     US        yes   \n",
       "373787  2022-week_52  AD00NATC8M           Tab Solutions     US        yes   \n",
       "\n",
       "       is_sever recommendation_type rec_provider  year  quarter  is_sucess_int  \n",
       "0           NaN              Qality         DNNQ  2021        2              1  \n",
       "1           NaN               Yield         DNNY  2021        2              1  \n",
       "2           NaN              Qality         DNNQ  2021        2              1  \n",
       "3           NaN              Qality       BooksQ  2021        2              1  \n",
       "4           NaN              Qality         DNNQ  2021        2              1  \n",
       "...         ...                 ...          ...   ...      ...            ...  \n",
       "373783      NaN               Yield         DNNY  2022        4              1  \n",
       "373784      NaN              Qality         RNNQ  2022        4              1  \n",
       "373785      NaN               Yield         DNNY  2022        4              1  \n",
       "373786      NaN              Qality         DNNQ  2022        4              1  \n",
       "373787      NaN              Qality         DNNQ  2022        4              1  \n",
       "\n",
       "[373788 rows x 11 columns]"
      ]
     },
     "execution_count": 827,
     "metadata": {},
     "output_type": "execute_result"
    }
   ],
   "source": [
    "ad_recs_annotated"
   ]
  },
  {
   "cell_type": "code",
   "execution_count": 627,
   "id": "fd6e6b72-06c4-4e34-a50d-3995fbea9266",
   "metadata": {},
   "outputs": [
    {
     "name": "stdout",
     "output_type": "stream",
     "text": [
      "[True, False, False, False, False]\n",
      "['BooksQ', 'BooksY', 'DNNQ', 'DNNY', 'ManualQ', 'ManualY', 'RuleBasedY', 'UserPopQ', 'UserPopY']\n",
      "['DNNQ', 'DNNY', 'ManualQ', 'ManualY', 'RNNQ', 'RNNY', 'RuleBased', 'RuleBasedY', 'UserPopQ', 'UserPopY', 'XGBQ', 'XGBY']\n",
      "['ManualQ', 'ManualY', 'RuleBased', 'RuleBasedY', 'UserPopQ', 'UserPopY']\n",
      "['DNNQ', 'DNNY', 'ManualQ', 'ManualY', 'RuleBasedY', 'UserPopQ', 'UserPopSelectionQ', 'UserPopSelectionY', 'UserPopY']\n",
      "['BooksQ', 'BooksY', 'DNNQ', 'DNNY', 'ManualQ', 'ManualY', 'RNNQ', 'RNNY', 'RuleBased', 'RuleBasedY', 'UserPopQ', 'UserPopY', 'XGBQ', 'XGBY']\n"
     ]
    }
   ],
   "source": [
    "def are_lists_equal(list1, list2):\n",
    "    return sorted(list1) == list2\n",
    "by_providers = ad_recs_annotated.groupby('region')['rec_provider'].unique().to_frame()\n",
    "\n",
    "providers = sorted(by_providers['rec_provider'][0])\n",
    "\n",
    "\n",
    "are_providers_same = [are_list_equal(lst, providers) for lst in by_providers['rec_provider']]\n",
    "print(are_providers_same)\n",
    "\n",
    "#double check the result\n",
    "for i in range(by_providers.shape[0]):\n",
    "    providers = by_providers['rec_provider'][i]\n",
    "    providers = sorted(providers)\n",
    "    print(providers)\n"
   ]
  },
  {
   "cell_type": "markdown",
   "id": "5bbc2073-cabe-4208-a4d5-d1d0666b7811",
   "metadata": {
    "tags": []
   },
   "source": [
    "###### 13. Are there different rec providers per rec type?"
   ]
  },
  {
   "cell_type": "code",
   "execution_count": 626,
   "id": "108d9ee7-a3d7-4679-b595-18cfcf2e1d56",
   "metadata": {},
   "outputs": [
    {
     "data": {
      "text/html": [
       "<div>\n",
       "<style scoped>\n",
       "    .dataframe tbody tr th:only-of-type {\n",
       "        vertical-align: middle;\n",
       "    }\n",
       "\n",
       "    .dataframe tbody tr th {\n",
       "        vertical-align: top;\n",
       "    }\n",
       "\n",
       "    .dataframe thead th {\n",
       "        text-align: right;\n",
       "    }\n",
       "</style>\n",
       "<table border=\"1\" class=\"dataframe\">\n",
       "  <thead>\n",
       "    <tr style=\"text-align: right;\">\n",
       "      <th></th>\n",
       "      <th>recommendation_type</th>\n",
       "    </tr>\n",
       "    <tr>\n",
       "      <th>region</th>\n",
       "      <th></th>\n",
       "    </tr>\n",
       "  </thead>\n",
       "  <tbody>\n",
       "    <tr>\n",
       "      <th>DE</th>\n",
       "      <td>[Qality, Yield]</td>\n",
       "    </tr>\n",
       "    <tr>\n",
       "      <th>GB</th>\n",
       "      <td>[Yield, Qality]</td>\n",
       "    </tr>\n",
       "    <tr>\n",
       "      <th>IN</th>\n",
       "      <td>[Yield, Qality]</td>\n",
       "    </tr>\n",
       "    <tr>\n",
       "      <th>JP</th>\n",
       "      <td>[Qality, Yield]</td>\n",
       "    </tr>\n",
       "    <tr>\n",
       "      <th>US</th>\n",
       "      <td>[Yield, Qality]</td>\n",
       "    </tr>\n",
       "  </tbody>\n",
       "</table>\n",
       "</div>"
      ],
      "text/plain": [
       "       recommendation_type\n",
       "region                    \n",
       "DE         [Qality, Yield]\n",
       "GB         [Yield, Qality]\n",
       "IN         [Yield, Qality]\n",
       "JP         [Qality, Yield]\n",
       "US         [Yield, Qality]"
      ]
     },
     "execution_count": 626,
     "metadata": {},
     "output_type": "execute_result"
    }
   ],
   "source": [
    "by_region = ad_recs_annotated.groupby('region')['recommendation_type'].unique().to_frame()\n",
    "by_region\n",
    "#No they are the same"
   ]
  },
  {
   "cell_type": "markdown",
   "id": "d8849bb3-3877-43b8-8fd3-7f7495ab85dd",
   "metadata": {
    "tags": []
   },
   "source": [
    "###### 14. What are the notation rules distinguishing between quality vs yielding providers?"
   ]
  },
  {
   "cell_type": "code",
   "execution_count": 832,
   "id": "678e4d23-5d9d-4047-8e07-7469dcd8f7a5",
   "metadata": {},
   "outputs": [
    {
     "data": {
      "text/html": [
       "<div>\n",
       "<style scoped>\n",
       "    .dataframe tbody tr th:only-of-type {\n",
       "        vertical-align: middle;\n",
       "    }\n",
       "\n",
       "    .dataframe tbody tr th {\n",
       "        vertical-align: top;\n",
       "    }\n",
       "\n",
       "    .dataframe thead th {\n",
       "        text-align: right;\n",
       "    }\n",
       "</style>\n",
       "<table border=\"1\" class=\"dataframe\">\n",
       "  <thead>\n",
       "    <tr style=\"text-align: right;\">\n",
       "      <th></th>\n",
       "      <th>week_id</th>\n",
       "      <th>ad_id</th>\n",
       "      <th>requester</th>\n",
       "      <th>region</th>\n",
       "      <th>is_success</th>\n",
       "      <th>is_sever</th>\n",
       "      <th>recommendation_type</th>\n",
       "      <th>rec_provider</th>\n",
       "      <th>year</th>\n",
       "      <th>quarter</th>\n",
       "      <th>is_sucess_int</th>\n",
       "    </tr>\n",
       "  </thead>\n",
       "  <tbody>\n",
       "    <tr>\n",
       "      <th>0</th>\n",
       "      <td>2021-week_33</td>\n",
       "      <td>AD0088VOS</td>\n",
       "      <td>Search Million Culture</td>\n",
       "      <td>DE</td>\n",
       "      <td>yes</td>\n",
       "      <td>NaN</td>\n",
       "      <td>Qality</td>\n",
       "      <td>DNNQ</td>\n",
       "      <td>2021</td>\n",
       "      <td>2</td>\n",
       "      <td>1</td>\n",
       "    </tr>\n",
       "    <tr>\n",
       "      <th>1</th>\n",
       "      <td>2021-week_33</td>\n",
       "      <td>AD07KYS8JM</td>\n",
       "      <td>MoJoe Brewing Company</td>\n",
       "      <td>DE</td>\n",
       "      <td>yes</td>\n",
       "      <td>NaN</td>\n",
       "      <td>Yield</td>\n",
       "      <td>DNNY</td>\n",
       "      <td>2021</td>\n",
       "      <td>2</td>\n",
       "      <td>1</td>\n",
       "    </tr>\n",
       "    <tr>\n",
       "      <th>2</th>\n",
       "      <td>2021-week_33</td>\n",
       "      <td>AD08PDP6Y9</td>\n",
       "      <td>Search Million Culture</td>\n",
       "      <td>DE</td>\n",
       "      <td>yes</td>\n",
       "      <td>NaN</td>\n",
       "      <td>Qality</td>\n",
       "      <td>DNNQ</td>\n",
       "      <td>2021</td>\n",
       "      <td>2</td>\n",
       "      <td>1</td>\n",
       "    </tr>\n",
       "    <tr>\n",
       "      <th>3</th>\n",
       "      <td>2021-week_33</td>\n",
       "      <td>AD89608808</td>\n",
       "      <td>Search Million Culture</td>\n",
       "      <td>DE</td>\n",
       "      <td>yes</td>\n",
       "      <td>NaN</td>\n",
       "      <td>Qality</td>\n",
       "      <td>BooksQ</td>\n",
       "      <td>2021</td>\n",
       "      <td>2</td>\n",
       "      <td>1</td>\n",
       "    </tr>\n",
       "    <tr>\n",
       "      <th>4</th>\n",
       "      <td>2021-week_33</td>\n",
       "      <td>AD07CMVHP6</td>\n",
       "      <td>Search Million Culture</td>\n",
       "      <td>DE</td>\n",
       "      <td>yes</td>\n",
       "      <td>NaN</td>\n",
       "      <td>Qality</td>\n",
       "      <td>DNNQ</td>\n",
       "      <td>2021</td>\n",
       "      <td>2</td>\n",
       "      <td>1</td>\n",
       "    </tr>\n",
       "    <tr>\n",
       "      <th>...</th>\n",
       "      <td>...</td>\n",
       "      <td>...</td>\n",
       "      <td>...</td>\n",
       "      <td>...</td>\n",
       "      <td>...</td>\n",
       "      <td>...</td>\n",
       "      <td>...</td>\n",
       "      <td>...</td>\n",
       "      <td>...</td>\n",
       "      <td>...</td>\n",
       "      <td>...</td>\n",
       "    </tr>\n",
       "    <tr>\n",
       "      <th>373783</th>\n",
       "      <td>2022-week_52</td>\n",
       "      <td>AD08KQ8GDG</td>\n",
       "      <td>Extreme DA</td>\n",
       "      <td>US</td>\n",
       "      <td>yes</td>\n",
       "      <td>NaN</td>\n",
       "      <td>Yield</td>\n",
       "      <td>DNNY</td>\n",
       "      <td>2022</td>\n",
       "      <td>4</td>\n",
       "      <td>1</td>\n",
       "    </tr>\n",
       "    <tr>\n",
       "      <th>373784</th>\n",
       "      <td>2022-week_52</td>\n",
       "      <td>AD07C8XSMN</td>\n",
       "      <td>Fancy</td>\n",
       "      <td>US</td>\n",
       "      <td>yes</td>\n",
       "      <td>NaN</td>\n",
       "      <td>Qality</td>\n",
       "      <td>RNNQ</td>\n",
       "      <td>2022</td>\n",
       "      <td>4</td>\n",
       "      <td>1</td>\n",
       "    </tr>\n",
       "    <tr>\n",
       "      <th>373785</th>\n",
       "      <td>2022-week_52</td>\n",
       "      <td>AD096LRR88</td>\n",
       "      <td>Extreme DA</td>\n",
       "      <td>US</td>\n",
       "      <td>yes</td>\n",
       "      <td>NaN</td>\n",
       "      <td>Yield</td>\n",
       "      <td>DNNY</td>\n",
       "      <td>2022</td>\n",
       "      <td>4</td>\n",
       "      <td>1</td>\n",
       "    </tr>\n",
       "    <tr>\n",
       "      <th>373786</th>\n",
       "      <td>2022-week_52</td>\n",
       "      <td>AD08FWNFDO</td>\n",
       "      <td>RelayFoods</td>\n",
       "      <td>US</td>\n",
       "      <td>yes</td>\n",
       "      <td>NaN</td>\n",
       "      <td>Qality</td>\n",
       "      <td>DNNQ</td>\n",
       "      <td>2022</td>\n",
       "      <td>4</td>\n",
       "      <td>1</td>\n",
       "    </tr>\n",
       "    <tr>\n",
       "      <th>373787</th>\n",
       "      <td>2022-week_52</td>\n",
       "      <td>AD00NATC8M</td>\n",
       "      <td>Tab Solutions</td>\n",
       "      <td>US</td>\n",
       "      <td>yes</td>\n",
       "      <td>NaN</td>\n",
       "      <td>Qality</td>\n",
       "      <td>DNNQ</td>\n",
       "      <td>2022</td>\n",
       "      <td>4</td>\n",
       "      <td>1</td>\n",
       "    </tr>\n",
       "  </tbody>\n",
       "</table>\n",
       "<p>373788 rows × 11 columns</p>\n",
       "</div>"
      ],
      "text/plain": [
       "             week_id       ad_id               requester region is_success  \\\n",
       "0       2021-week_33   AD0088VOS  Search Million Culture     DE        yes   \n",
       "1       2021-week_33  AD07KYS8JM   MoJoe Brewing Company     DE        yes   \n",
       "2       2021-week_33  AD08PDP6Y9  Search Million Culture     DE        yes   \n",
       "3       2021-week_33  AD89608808  Search Million Culture     DE        yes   \n",
       "4       2021-week_33  AD07CMVHP6  Search Million Culture     DE        yes   \n",
       "...              ...         ...                     ...    ...        ...   \n",
       "373783  2022-week_52  AD08KQ8GDG              Extreme DA     US        yes   \n",
       "373784  2022-week_52  AD07C8XSMN                   Fancy     US        yes   \n",
       "373785  2022-week_52  AD096LRR88              Extreme DA     US        yes   \n",
       "373786  2022-week_52  AD08FWNFDO              RelayFoods     US        yes   \n",
       "373787  2022-week_52  AD00NATC8M           Tab Solutions     US        yes   \n",
       "\n",
       "       is_sever recommendation_type rec_provider  year  quarter  is_sucess_int  \n",
       "0           NaN              Qality         DNNQ  2021        2              1  \n",
       "1           NaN               Yield         DNNY  2021        2              1  \n",
       "2           NaN              Qality         DNNQ  2021        2              1  \n",
       "3           NaN              Qality       BooksQ  2021        2              1  \n",
       "4           NaN              Qality         DNNQ  2021        2              1  \n",
       "...         ...                 ...          ...   ...      ...            ...  \n",
       "373783      NaN               Yield         DNNY  2022        4              1  \n",
       "373784      NaN              Qality         RNNQ  2022        4              1  \n",
       "373785      NaN               Yield         DNNY  2022        4              1  \n",
       "373786      NaN              Qality         DNNQ  2022        4              1  \n",
       "373787      NaN              Qality         DNNQ  2022        4              1  \n",
       "\n",
       "[373788 rows x 11 columns]"
      ]
     },
     "execution_count": 832,
     "metadata": {},
     "output_type": "execute_result"
    }
   ],
   "source": [
    "##??\n",
    "ad_recs_annotated"
   ]
  },
  {
   "cell_type": "markdown",
   "id": "40d553ac-cc7f-4c67-8f57-43143283e9f3",
   "metadata": {
    "tags": []
   },
   "source": [
    "###### 15. Which is the most successful region of operation?"
   ]
  },
  {
   "cell_type": "code",
   "execution_count": 897,
   "id": "52c8ee20-cb35-4821-97fb-28876dd004c9",
   "metadata": {},
   "outputs": [
    {
     "data": {
      "text/html": [
       "<div>\n",
       "<style scoped>\n",
       "    .dataframe tbody tr th:only-of-type {\n",
       "        vertical-align: middle;\n",
       "    }\n",
       "\n",
       "    .dataframe tbody tr th {\n",
       "        vertical-align: top;\n",
       "    }\n",
       "\n",
       "    .dataframe thead th {\n",
       "        text-align: right;\n",
       "    }\n",
       "</style>\n",
       "<table border=\"1\" class=\"dataframe\">\n",
       "  <thead>\n",
       "    <tr style=\"text-align: right;\">\n",
       "      <th></th>\n",
       "      <th></th>\n",
       "      <th>success_count</th>\n",
       "      <th>success_rate</th>\n",
       "    </tr>\n",
       "    <tr>\n",
       "      <th>region</th>\n",
       "      <th></th>\n",
       "      <th></th>\n",
       "      <th></th>\n",
       "    </tr>\n",
       "  </thead>\n",
       "  <tbody>\n",
       "    <tr>\n",
       "      <th>US</th>\n",
       "      <th>0</th>\n",
       "      <td>88918</td>\n",
       "      <td>0.856249</td>\n",
       "    </tr>\n",
       "  </tbody>\n",
       "</table>\n",
       "</div>"
      ],
      "text/plain": [
       "          success_count  success_rate\n",
       "region                               \n",
       "US     0          88918      0.856249"
      ]
     },
     "execution_count": 897,
     "metadata": {},
     "output_type": "execute_result"
    }
   ],
   "source": [
    "def calc_success_rate(group):\n",
    "    data = []\n",
    "    #print((group.is_sucess_int.sum()/group.count()).week_id)\n",
    "    success_rate = (group.is_sucess_int.sum()/group.count()).week_id\n",
    "    data.append((group.is_sucess_int.sum(), success_rate))\n",
    "    df = pd.DataFrame(data, columns = ['success_count', 'success_rate'])        \n",
    "    df = df.sort_values(by='success_rate', ascending=False)\n",
    "    return df\n",
    "\n",
    "\n",
    "success_rate = ad_recs_annotated.groupby([\"region\"]).apply(calc_success_rate)\n",
    "success_rate.sort_values(by=\"success_rate\", ascending = False).head(1)"
   ]
  },
  {
   "cell_type": "code",
   "execution_count": 699,
   "id": "96233ee5-8f56-41e2-8343-5362a0de73ee",
   "metadata": {},
   "outputs": [
    {
     "data": {
      "text/html": [
       "<div>\n",
       "<style scoped>\n",
       "    .dataframe tbody tr th:only-of-type {\n",
       "        vertical-align: middle;\n",
       "    }\n",
       "\n",
       "    .dataframe tbody tr th {\n",
       "        vertical-align: top;\n",
       "    }\n",
       "\n",
       "    .dataframe thead th {\n",
       "        text-align: right;\n",
       "    }\n",
       "</style>\n",
       "<table border=\"1\" class=\"dataframe\">\n",
       "  <thead>\n",
       "    <tr style=\"text-align: right;\">\n",
       "      <th></th>\n",
       "      <th></th>\n",
       "      <th>success_count</th>\n",
       "    </tr>\n",
       "    <tr>\n",
       "      <th>region</th>\n",
       "      <th>is_success</th>\n",
       "      <th></th>\n",
       "    </tr>\n",
       "  </thead>\n",
       "  <tbody>\n",
       "    <tr>\n",
       "      <th>US</th>\n",
       "      <th>Yes</th>\n",
       "      <td>88918</td>\n",
       "    </tr>\n",
       "  </tbody>\n",
       "</table>\n",
       "</div>"
      ],
      "text/plain": [
       "                   success_count\n",
       "region is_success               \n",
       "US     Yes                 88918"
      ]
     },
     "execution_count": 699,
     "metadata": {},
     "output_type": "execute_result"
    }
   ],
   "source": [
    "ad_recs_annotated.sample(10)\n",
    "success_count_by_region = ad_recs_annotated.groupby(\"region\").is_success.value_counts().to_frame().rename(columns={'is_success': 'success_count'}).query(\"is_success == 'Yes'\")\n",
    "max_count = success_count_by_region.max()[0]\n",
    "max_count\n",
    "success_count_by_region.query(\"success_count=={}\".format(max_count))\n",
    "##?? more easy way to get the max index?"
   ]
  },
  {
   "cell_type": "markdown",
   "id": "f78fccdd-2119-446f-9003-287cb25e85f7",
   "metadata": {
    "tags": []
   },
   "source": [
    "###### 16. Which is the most successful rec provider per each region? "
   ]
  },
  {
   "cell_type": "code",
   "execution_count": 909,
   "id": "eb1e5c12-166d-42bc-be78-7be983b66346",
   "metadata": {},
   "outputs": [],
   "source": [
    "def calc_success_rate_by_provider(group):\n",
    "    data = []\n",
    "    for provider in group.rec_provider.unique():\n",
    "        provider_data = group[group.rec_provider == provider] \n",
    "        #print((group.is_sucess_int.sum()/group.count()).week_id)\n",
    "        success_rate = (provider_data.is_sucess_int.sum()/provider_data.count()).week_id\n",
    "        data.append((provider, provider_data.is_sucess_int.sum(), success_rate))\n",
    "        \n",
    "    df = pd.DataFrame(data, columns = ['provider', 'success_count', 'success_rate'])        \n",
    "    df = df.sort_values(by='success_rate', ascending=False).head(1)\n",
    "    return df"
   ]
  },
  {
   "cell_type": "code",
   "execution_count": 910,
   "id": "74c77cea-920c-4181-9bf6-ac009503a388",
   "metadata": {},
   "outputs": [
    {
     "data": {
      "text/html": [
       "<div>\n",
       "<style scoped>\n",
       "    .dataframe tbody tr th:only-of-type {\n",
       "        vertical-align: middle;\n",
       "    }\n",
       "\n",
       "    .dataframe tbody tr th {\n",
       "        vertical-align: top;\n",
       "    }\n",
       "\n",
       "    .dataframe thead th {\n",
       "        text-align: right;\n",
       "    }\n",
       "</style>\n",
       "<table border=\"1\" class=\"dataframe\">\n",
       "  <thead>\n",
       "    <tr style=\"text-align: right;\">\n",
       "      <th></th>\n",
       "      <th></th>\n",
       "      <th>provider</th>\n",
       "      <th>success_count</th>\n",
       "      <th>success_rate</th>\n",
       "    </tr>\n",
       "    <tr>\n",
       "      <th>region</th>\n",
       "      <th></th>\n",
       "      <th></th>\n",
       "      <th></th>\n",
       "      <th></th>\n",
       "    </tr>\n",
       "  </thead>\n",
       "  <tbody>\n",
       "    <tr>\n",
       "      <th>DE</th>\n",
       "      <th>8</th>\n",
       "      <td>BooksY</td>\n",
       "      <td>1215</td>\n",
       "      <td>0.966587</td>\n",
       "    </tr>\n",
       "    <tr>\n",
       "      <th>GB</th>\n",
       "      <th>11</th>\n",
       "      <td>RuleBased</td>\n",
       "      <td>39</td>\n",
       "      <td>0.975000</td>\n",
       "    </tr>\n",
       "    <tr>\n",
       "      <th>IN</th>\n",
       "      <th>4</th>\n",
       "      <td>ManualQ</td>\n",
       "      <td>5041</td>\n",
       "      <td>0.952390</td>\n",
       "    </tr>\n",
       "    <tr>\n",
       "      <th>JP</th>\n",
       "      <th>0</th>\n",
       "      <td>ManualQ</td>\n",
       "      <td>651</td>\n",
       "      <td>0.934003</td>\n",
       "    </tr>\n",
       "    <tr>\n",
       "      <th>US</th>\n",
       "      <th>11</th>\n",
       "      <td>BooksY</td>\n",
       "      <td>2851</td>\n",
       "      <td>0.985482</td>\n",
       "    </tr>\n",
       "  </tbody>\n",
       "</table>\n",
       "</div>"
      ],
      "text/plain": [
       "            provider  success_count  success_rate\n",
       "region                                           \n",
       "DE     8      BooksY           1215      0.966587\n",
       "GB     11  RuleBased             39      0.975000\n",
       "IN     4     ManualQ           5041      0.952390\n",
       "JP     0     ManualQ            651      0.934003\n",
       "US     11     BooksY           2851      0.985482"
      ]
     },
     "execution_count": 910,
     "metadata": {},
     "output_type": "execute_result"
    }
   ],
   "source": [
    "success_rate = ad_recs_annotated.groupby([\"region\"]).apply(calc_success_rate_by_provider)\n",
    "success_rate"
   ]
  },
  {
   "cell_type": "code",
   "execution_count": 911,
   "id": "524f4c3f-18ee-4735-bc5d-ad2f0511e8a9",
   "metadata": {},
   "outputs": [],
   "source": [
    "#success_count_by_region_provider = ad_recs_annotated.query(\"is_success == 'Yes'\").groupby([\"region\", \"rec_provider\"])['is_sucess_int'].count().to_frame().rename(columns={'is_sucess_int': 'success_count'})\n",
    "#print(success_count_by_region_provider)\n",
    "#success_count_by_region_provider.groupby([\"region\"])['success_count'].agg(['max'])"
   ]
  },
  {
   "cell_type": "markdown",
   "id": "d25bc42b-8b52-4fc5-80e4-544833c61cf8",
   "metadata": {
    "tags": []
   },
   "source": [
    "###### 17.  Present a table with a success rate, sever defects rate and CI (for each metric) per region"
   ]
  },
  {
   "cell_type": "code",
   "execution_count": 968,
   "id": "f7f95183-a5a7-4a61-80b7-38eee05c0a97",
   "metadata": {},
   "outputs": [],
   "source": [
    "import math\n",
    "\n",
    "def calc_success_and_sever_rate(group):\n",
    "    data = []    \n",
    "    success_rate = (group.is_sucess_int.sum()/group.week_id.count())\n",
    "    sever_rate = (group[group.is_sever_no_nan == True].count()/group[group.is_sever.isna() == False].count()).is_sever_no_nan\n",
    "    success_mean = group.is_sucess_int.mean()\n",
    "    success_std = group.is_sucess_int.std()\n",
    "    success_ci95_hi = success_mean + 1.96*success_std/math.sqrt(group.is_sucess_int.count())\n",
    "    success_ci95_lo = success_mean - 1.96*success_std/math.sqrt(group.is_sucess_int.count())\n",
    "    \n",
    "    sever_no_nan_int =  [int(item == True) for item in  group[group.is_sever.isna() == False]]\n",
    "    sever_mean = group[group.is_sever.isna() == False]['is_sever'].mean()\n",
    "    sever_std = group[group.is_sever.isna() == False]['is_sever'].std()\n",
    "    count = group[group.is_sever.isna() == False].is_sever.count()\n",
    "    sever_ci95_hi = sever_mean + 1.96*sever_std/math.sqrt(count)\n",
    "    sever_ci95_lo = sever_mean - 1.96*sever_std/math.sqrt(count)\n",
    "\n",
    "    data.append((sever_rate, sever_ci95_hi, sever_ci95_lo, success_rate, success_ci95_hi, success_ci95_lo))\n",
    "    df = pd.DataFrame(data, columns = ['sever_rate', 'sever_rate_ci95_high', 'sever_rate_ci95_lo', 'success_rate', 'success_rate_ci95_high', 'success_rate_ci95_low'])        \n",
    "    return df\n"
   ]
  },
  {
   "cell_type": "code",
   "execution_count": 1012,
   "id": "e966e837-8577-4051-a72b-eb752d7a10f4",
   "metadata": {},
   "outputs": [
    {
     "data": {
      "text/html": [
       "<div>\n",
       "<style scoped>\n",
       "    .dataframe tbody tr th:only-of-type {\n",
       "        vertical-align: middle;\n",
       "    }\n",
       "\n",
       "    .dataframe tbody tr th {\n",
       "        vertical-align: top;\n",
       "    }\n",
       "\n",
       "    .dataframe thead th {\n",
       "        text-align: right;\n",
       "    }\n",
       "</style>\n",
       "<table border=\"1\" class=\"dataframe\">\n",
       "  <thead>\n",
       "    <tr style=\"text-align: right;\">\n",
       "      <th></th>\n",
       "      <th></th>\n",
       "      <th>sever_rate</th>\n",
       "      <th>sever_rate_ci95_high</th>\n",
       "      <th>sever_rate_ci95_lo</th>\n",
       "      <th>success_rate</th>\n",
       "      <th>success_rate_ci95_high</th>\n",
       "      <th>success_rate_ci95_low</th>\n",
       "    </tr>\n",
       "    <tr>\n",
       "      <th>region</th>\n",
       "      <th></th>\n",
       "      <th></th>\n",
       "      <th></th>\n",
       "      <th></th>\n",
       "      <th></th>\n",
       "      <th></th>\n",
       "      <th></th>\n",
       "    </tr>\n",
       "  </thead>\n",
       "  <tbody>\n",
       "    <tr>\n",
       "      <th>DE</th>\n",
       "      <th>0</th>\n",
       "      <td>0.611198</td>\n",
       "      <td>0.620086</td>\n",
       "      <td>0.602309</td>\n",
       "      <td>0.814192</td>\n",
       "      <td>0.817249</td>\n",
       "      <td>0.811134</td>\n",
       "    </tr>\n",
       "    <tr>\n",
       "      <th>GB</th>\n",
       "      <th>0</th>\n",
       "      <td>0.736791</td>\n",
       "      <td>0.744227</td>\n",
       "      <td>0.729356</td>\n",
       "      <td>0.837619</td>\n",
       "      <td>0.840129</td>\n",
       "      <td>0.835110</td>\n",
       "    </tr>\n",
       "    <tr>\n",
       "      <th>IN</th>\n",
       "      <th>0</th>\n",
       "      <td>0.592578</td>\n",
       "      <td>0.599421</td>\n",
       "      <td>0.585734</td>\n",
       "      <td>0.761900</td>\n",
       "      <td>0.764795</td>\n",
       "      <td>0.759005</td>\n",
       "    </tr>\n",
       "    <tr>\n",
       "      <th>JP</th>\n",
       "      <th>0</th>\n",
       "      <td>0.657067</td>\n",
       "      <td>0.666453</td>\n",
       "      <td>0.647681</td>\n",
       "      <td>0.763927</td>\n",
       "      <td>0.768007</td>\n",
       "      <td>0.759848</td>\n",
       "    </tr>\n",
       "    <tr>\n",
       "      <th>US</th>\n",
       "      <th>0</th>\n",
       "      <td>0.636613</td>\n",
       "      <td>0.644329</td>\n",
       "      <td>0.628898</td>\n",
       "      <td>0.856249</td>\n",
       "      <td>0.858383</td>\n",
       "      <td>0.854115</td>\n",
       "    </tr>\n",
       "  </tbody>\n",
       "</table>\n",
       "</div>"
      ],
      "text/plain": [
       "          sever_rate  sever_rate_ci95_high  sever_rate_ci95_lo  success_rate  \\\n",
       "region                                                                         \n",
       "DE     0    0.611198              0.620086            0.602309      0.814192   \n",
       "GB     0    0.736791              0.744227            0.729356      0.837619   \n",
       "IN     0    0.592578              0.599421            0.585734      0.761900   \n",
       "JP     0    0.657067              0.666453            0.647681      0.763927   \n",
       "US     0    0.636613              0.644329            0.628898      0.856249   \n",
       "\n",
       "          success_rate_ci95_high  success_rate_ci95_low  \n",
       "region                                                   \n",
       "DE     0                0.817249               0.811134  \n",
       "GB     0                0.840129               0.835110  \n",
       "IN     0                0.764795               0.759005  \n",
       "JP     0                0.768007               0.759848  \n",
       "US     0                0.858383               0.854115  "
      ]
     },
     "execution_count": 1012,
     "metadata": {},
     "output_type": "execute_result"
    }
   ],
   "source": [
    "ad_recs_with_rates_per_region = ad_recs_annotated.groupby([\"region\"]).apply(calc_success_and_sever_rate)\n",
    "ad_recs_with_rates_per_region"
   ]
  },
  {
   "cell_type": "markdown",
   "id": "ba6cd1af-2c4f-440d-8f34-a145b7ca7f47",
   "metadata": {
    "tags": []
   },
   "source": [
    "###### 18.  Present a table with a success rate, sever defects rate and CI (for each metric) per rec provider"
   ]
  },
  {
   "cell_type": "code",
   "execution_count": 983,
   "id": "b1d9167f-f860-4c73-921c-6df62a7885ad",
   "metadata": {},
   "outputs": [
    {
     "data": {
      "text/html": [
       "<div>\n",
       "<style scoped>\n",
       "    .dataframe tbody tr th:only-of-type {\n",
       "        vertical-align: middle;\n",
       "    }\n",
       "\n",
       "    .dataframe tbody tr th {\n",
       "        vertical-align: top;\n",
       "    }\n",
       "\n",
       "    .dataframe thead th {\n",
       "        text-align: right;\n",
       "    }\n",
       "</style>\n",
       "<table border=\"1\" class=\"dataframe\">\n",
       "  <thead>\n",
       "    <tr style=\"text-align: right;\">\n",
       "      <th></th>\n",
       "      <th></th>\n",
       "      <th>sever_rate</th>\n",
       "      <th>sever_rate_ci95_high</th>\n",
       "      <th>sever_rate_ci95_lo</th>\n",
       "      <th>success_rate</th>\n",
       "      <th>success_rate_ci95_high</th>\n",
       "      <th>success_rate_ci95_low</th>\n",
       "    </tr>\n",
       "    <tr>\n",
       "      <th>rec_provider</th>\n",
       "      <th></th>\n",
       "      <th></th>\n",
       "      <th></th>\n",
       "      <th></th>\n",
       "      <th></th>\n",
       "      <th></th>\n",
       "      <th></th>\n",
       "    </tr>\n",
       "  </thead>\n",
       "  <tbody>\n",
       "    <tr>\n",
       "      <th>BooksQ</th>\n",
       "      <th>0</th>\n",
       "      <td>0.099644</td>\n",
       "      <td>0.134728</td>\n",
       "      <td>0.064560</td>\n",
       "      <td>0.836628</td>\n",
       "      <td>0.854105</td>\n",
       "      <td>0.819151</td>\n",
       "    </tr>\n",
       "    <tr>\n",
       "      <th>BooksY</th>\n",
       "      <th>0</th>\n",
       "      <td>0.261905</td>\n",
       "      <td>0.356495</td>\n",
       "      <td>0.167315</td>\n",
       "      <td>0.979759</td>\n",
       "      <td>0.984044</td>\n",
       "      <td>0.975474</td>\n",
       "    </tr>\n",
       "    <tr>\n",
       "      <th>DNNQ</th>\n",
       "      <th>0</th>\n",
       "      <td>0.840548</td>\n",
       "      <td>0.846112</td>\n",
       "      <td>0.834984</td>\n",
       "      <td>0.858376</td>\n",
       "      <td>0.860371</td>\n",
       "      <td>0.856382</td>\n",
       "    </tr>\n",
       "    <tr>\n",
       "      <th>DNNY</th>\n",
       "      <th>0</th>\n",
       "      <td>0.756556</td>\n",
       "      <td>0.768324</td>\n",
       "      <td>0.744788</td>\n",
       "      <td>0.886714</td>\n",
       "      <td>0.889639</td>\n",
       "      <td>0.883790</td>\n",
       "    </tr>\n",
       "    <tr>\n",
       "      <th>ManualQ</th>\n",
       "      <th>0</th>\n",
       "      <td>0.526154</td>\n",
       "      <td>0.564570</td>\n",
       "      <td>0.487738</td>\n",
       "      <td>0.953193</td>\n",
       "      <td>0.956711</td>\n",
       "      <td>0.949674</td>\n",
       "    </tr>\n",
       "    <tr>\n",
       "      <th>ManualY</th>\n",
       "      <th>0</th>\n",
       "      <td>0.529412</td>\n",
       "      <td>0.601144</td>\n",
       "      <td>0.457679</td>\n",
       "      <td>0.905651</td>\n",
       "      <td>0.918523</td>\n",
       "      <td>0.892778</td>\n",
       "    </tr>\n",
       "    <tr>\n",
       "      <th>RNNQ</th>\n",
       "      <th>0</th>\n",
       "      <td>0.755501</td>\n",
       "      <td>0.774134</td>\n",
       "      <td>0.736869</td>\n",
       "      <td>0.902540</td>\n",
       "      <td>0.906553</td>\n",
       "      <td>0.898527</td>\n",
       "    </tr>\n",
       "    <tr>\n",
       "      <th>RNNY</th>\n",
       "      <th>0</th>\n",
       "      <td>0.621094</td>\n",
       "      <td>0.650822</td>\n",
       "      <td>0.591366</td>\n",
       "      <td>0.919651</td>\n",
       "      <td>0.924373</td>\n",
       "      <td>0.914929</td>\n",
       "    </tr>\n",
       "    <tr>\n",
       "      <th>RuleBased</th>\n",
       "      <th>0</th>\n",
       "      <td>1.000000</td>\n",
       "      <td>1.000000</td>\n",
       "      <td>1.000000</td>\n",
       "      <td>0.967033</td>\n",
       "      <td>0.993045</td>\n",
       "      <td>0.941021</td>\n",
       "    </tr>\n",
       "    <tr>\n",
       "      <th>RuleBasedY</th>\n",
       "      <th>0</th>\n",
       "      <td>0.526259</td>\n",
       "      <td>0.535201</td>\n",
       "      <td>0.517316</td>\n",
       "      <td>0.574554</td>\n",
       "      <td>0.580330</td>\n",
       "      <td>0.568779</td>\n",
       "    </tr>\n",
       "    <tr>\n",
       "      <th>UserPopQ</th>\n",
       "      <th>0</th>\n",
       "      <td>0.475079</td>\n",
       "      <td>0.482446</td>\n",
       "      <td>0.467713</td>\n",
       "      <td>0.747573</td>\n",
       "      <td>0.750792</td>\n",
       "      <td>0.744353</td>\n",
       "    </tr>\n",
       "    <tr>\n",
       "      <th>UserPopSelectionQ</th>\n",
       "      <th>0</th>\n",
       "      <td>0.601790</td>\n",
       "      <td>0.647222</td>\n",
       "      <td>0.556357</td>\n",
       "      <td>0.815060</td>\n",
       "      <td>0.830542</td>\n",
       "      <td>0.799578</td>\n",
       "    </tr>\n",
       "    <tr>\n",
       "      <th>UserPopSelectionY</th>\n",
       "      <th>0</th>\n",
       "      <td>0.333333</td>\n",
       "      <td>0.986667</td>\n",
       "      <td>-0.320000</td>\n",
       "      <td>0.857143</td>\n",
       "      <td>1.010505</td>\n",
       "      <td>0.703781</td>\n",
       "    </tr>\n",
       "    <tr>\n",
       "      <th>UserPopY</th>\n",
       "      <th>0</th>\n",
       "      <td>0.712105</td>\n",
       "      <td>0.720746</td>\n",
       "      <td>0.703464</td>\n",
       "      <td>0.726839</td>\n",
       "      <td>0.731285</td>\n",
       "      <td>0.722394</td>\n",
       "    </tr>\n",
       "    <tr>\n",
       "      <th>XGBQ</th>\n",
       "      <th>0</th>\n",
       "      <td>0.543132</td>\n",
       "      <td>0.563116</td>\n",
       "      <td>0.523149</td>\n",
       "      <td>0.805143</td>\n",
       "      <td>0.812157</td>\n",
       "      <td>0.798128</td>\n",
       "    </tr>\n",
       "    <tr>\n",
       "      <th>XGBY</th>\n",
       "      <th>0</th>\n",
       "      <td>0.712996</td>\n",
       "      <td>0.750700</td>\n",
       "      <td>0.675293</td>\n",
       "      <td>0.870440</td>\n",
       "      <td>0.880507</td>\n",
       "      <td>0.860373</td>\n",
       "    </tr>\n",
       "  </tbody>\n",
       "</table>\n",
       "</div>"
      ],
      "text/plain": [
       "                     sever_rate  sever_rate_ci95_high  sever_rate_ci95_lo  \\\n",
       "rec_provider                                                                \n",
       "BooksQ            0    0.099644              0.134728            0.064560   \n",
       "BooksY            0    0.261905              0.356495            0.167315   \n",
       "DNNQ              0    0.840548              0.846112            0.834984   \n",
       "DNNY              0    0.756556              0.768324            0.744788   \n",
       "ManualQ           0    0.526154              0.564570            0.487738   \n",
       "ManualY           0    0.529412              0.601144            0.457679   \n",
       "RNNQ              0    0.755501              0.774134            0.736869   \n",
       "RNNY              0    0.621094              0.650822            0.591366   \n",
       "RuleBased         0    1.000000              1.000000            1.000000   \n",
       "RuleBasedY        0    0.526259              0.535201            0.517316   \n",
       "UserPopQ          0    0.475079              0.482446            0.467713   \n",
       "UserPopSelectionQ 0    0.601790              0.647222            0.556357   \n",
       "UserPopSelectionY 0    0.333333              0.986667           -0.320000   \n",
       "UserPopY          0    0.712105              0.720746            0.703464   \n",
       "XGBQ              0    0.543132              0.563116            0.523149   \n",
       "XGBY              0    0.712996              0.750700            0.675293   \n",
       "\n",
       "                     success_rate  success_rate_ci95_high  \\\n",
       "rec_provider                                                \n",
       "BooksQ            0      0.836628                0.854105   \n",
       "BooksY            0      0.979759                0.984044   \n",
       "DNNQ              0      0.858376                0.860371   \n",
       "DNNY              0      0.886714                0.889639   \n",
       "ManualQ           0      0.953193                0.956711   \n",
       "ManualY           0      0.905651                0.918523   \n",
       "RNNQ              0      0.902540                0.906553   \n",
       "RNNY              0      0.919651                0.924373   \n",
       "RuleBased         0      0.967033                0.993045   \n",
       "RuleBasedY        0      0.574554                0.580330   \n",
       "UserPopQ          0      0.747573                0.750792   \n",
       "UserPopSelectionQ 0      0.815060                0.830542   \n",
       "UserPopSelectionY 0      0.857143                1.010505   \n",
       "UserPopY          0      0.726839                0.731285   \n",
       "XGBQ              0      0.805143                0.812157   \n",
       "XGBY              0      0.870440                0.880507   \n",
       "\n",
       "                     success_rate_ci95_low  \n",
       "rec_provider                                \n",
       "BooksQ            0               0.819151  \n",
       "BooksY            0               0.975474  \n",
       "DNNQ              0               0.856382  \n",
       "DNNY              0               0.883790  \n",
       "ManualQ           0               0.949674  \n",
       "ManualY           0               0.892778  \n",
       "RNNQ              0               0.898527  \n",
       "RNNY              0               0.914929  \n",
       "RuleBased         0               0.941021  \n",
       "RuleBasedY        0               0.568779  \n",
       "UserPopQ          0               0.744353  \n",
       "UserPopSelectionQ 0               0.799578  \n",
       "UserPopSelectionY 0               0.703781  \n",
       "UserPopY          0               0.722394  \n",
       "XGBQ              0               0.798128  \n",
       "XGBY              0               0.860373  "
      ]
     },
     "execution_count": 983,
     "metadata": {},
     "output_type": "execute_result"
    }
   ],
   "source": [
    "ad_recs_with_rates_per_provider = ad_recs_annotated.groupby([\"rec_provider\"]).apply(calc_success_and_sever_rate)\n",
    "ad_recs_with_rates_per_provider"
   ]
  },
  {
   "cell_type": "markdown",
   "id": "acb61bee-abf4-4442-bf05-ac8b7346c304",
   "metadata": {
    "tags": []
   },
   "source": [
    "###### 19.  Present a table with a success rate, sever defects rate and CI (for each metric) per region and rec provider combinations"
   ]
  },
  {
   "cell_type": "code",
   "execution_count": 1098,
   "id": "9547f768-b13f-44a9-b824-5f0d36b406e4",
   "metadata": {},
   "outputs": [
    {
     "data": {
      "text/html": [
       "<div>\n",
       "<style scoped>\n",
       "    .dataframe tbody tr th:only-of-type {\n",
       "        vertical-align: middle;\n",
       "    }\n",
       "\n",
       "    .dataframe tbody tr th {\n",
       "        vertical-align: top;\n",
       "    }\n",
       "\n",
       "    .dataframe thead th {\n",
       "        text-align: right;\n",
       "    }\n",
       "</style>\n",
       "<table border=\"1\" class=\"dataframe\">\n",
       "  <thead>\n",
       "    <tr style=\"text-align: right;\">\n",
       "      <th></th>\n",
       "      <th></th>\n",
       "      <th></th>\n",
       "      <th>sever_rate</th>\n",
       "      <th>sever_rate_ci95_high</th>\n",
       "      <th>sever_rate_ci95_lo</th>\n",
       "      <th>success_rate</th>\n",
       "      <th>success_rate_ci95_high</th>\n",
       "      <th>success_rate_ci95_low</th>\n",
       "    </tr>\n",
       "    <tr>\n",
       "      <th>rec_provider</th>\n",
       "      <th>region</th>\n",
       "      <th></th>\n",
       "      <th></th>\n",
       "      <th></th>\n",
       "      <th></th>\n",
       "      <th></th>\n",
       "      <th></th>\n",
       "      <th></th>\n",
       "    </tr>\n",
       "  </thead>\n",
       "  <tbody>\n",
       "    <tr>\n",
       "      <th rowspan=\"2\" valign=\"top\">BooksQ</th>\n",
       "      <th>DE</th>\n",
       "      <th>0</th>\n",
       "      <td>0.095941</td>\n",
       "      <td>0.131071</td>\n",
       "      <td>0.060811</td>\n",
       "      <td>0.799704</td>\n",
       "      <td>0.821038</td>\n",
       "      <td>0.778371</td>\n",
       "    </tr>\n",
       "    <tr>\n",
       "      <th>US</th>\n",
       "      <th>0</th>\n",
       "      <td>0.200000</td>\n",
       "      <td>0.461333</td>\n",
       "      <td>-0.061333</td>\n",
       "      <td>0.972752</td>\n",
       "      <td>0.989432</td>\n",
       "      <td>0.956073</td>\n",
       "    </tr>\n",
       "    <tr>\n",
       "      <th rowspan=\"2\" valign=\"top\">BooksY</th>\n",
       "      <th>DE</th>\n",
       "      <th>0</th>\n",
       "      <td>0.238095</td>\n",
       "      <td>0.368469</td>\n",
       "      <td>0.107722</td>\n",
       "      <td>0.966587</td>\n",
       "      <td>0.976526</td>\n",
       "      <td>0.956648</td>\n",
       "    </tr>\n",
       "    <tr>\n",
       "      <th>US</th>\n",
       "      <th>0</th>\n",
       "      <td>0.285714</td>\n",
       "      <td>0.423996</td>\n",
       "      <td>0.147432</td>\n",
       "      <td>0.985482</td>\n",
       "      <td>0.989842</td>\n",
       "      <td>0.981123</td>\n",
       "    </tr>\n",
       "    <tr>\n",
       "      <th rowspan=\"4\" valign=\"top\">DNNQ</th>\n",
       "      <th>DE</th>\n",
       "      <th>0</th>\n",
       "      <td>0.763410</td>\n",
       "      <td>0.774940</td>\n",
       "      <td>0.751880</td>\n",
       "      <td>0.839114</td>\n",
       "      <td>0.843113</td>\n",
       "      <td>0.835116</td>\n",
       "    </tr>\n",
       "    <tr>\n",
       "      <th>GB</th>\n",
       "      <th>0</th>\n",
       "      <td>0.869017</td>\n",
       "      <td>0.878376</td>\n",
       "      <td>0.859657</td>\n",
       "      <td>0.874127</td>\n",
       "      <td>0.877391</td>\n",
       "      <td>0.870863</td>\n",
       "    </tr>\n",
       "    <tr>\n",
       "      <th>JP</th>\n",
       "      <th>0</th>\n",
       "      <td>0.900269</td>\n",
       "      <td>0.909062</td>\n",
       "      <td>0.891476</td>\n",
       "      <td>0.818467</td>\n",
       "      <td>0.823286</td>\n",
       "      <td>0.813647</td>\n",
       "    </tr>\n",
       "    <tr>\n",
       "      <th>US</th>\n",
       "      <th>0</th>\n",
       "      <td>0.837506</td>\n",
       "      <td>0.853855</td>\n",
       "      <td>0.821158</td>\n",
       "      <td>0.905650</td>\n",
       "      <td>0.909629</td>\n",
       "      <td>0.901672</td>\n",
       "    </tr>\n",
       "    <tr>\n",
       "      <th rowspan=\"4\" valign=\"top\">DNNY</th>\n",
       "      <th>DE</th>\n",
       "      <th>0</th>\n",
       "      <td>0.604027</td>\n",
       "      <td>0.649416</td>\n",
       "      <td>0.558638</td>\n",
       "      <td>0.917297</td>\n",
       "      <td>0.924633</td>\n",
       "      <td>0.909962</td>\n",
       "    </tr>\n",
       "    <tr>\n",
       "      <th>GB</th>\n",
       "      <th>0</th>\n",
       "      <td>0.784124</td>\n",
       "      <td>0.809226</td>\n",
       "      <td>0.759022</td>\n",
       "      <td>0.857968</td>\n",
       "      <td>0.865991</td>\n",
       "      <td>0.849944</td>\n",
       "    </tr>\n",
       "    <tr>\n",
       "      <th>JP</th>\n",
       "      <th>0</th>\n",
       "      <td>0.699219</td>\n",
       "      <td>0.731674</td>\n",
       "      <td>0.666763</td>\n",
       "      <td>0.800985</td>\n",
       "      <td>0.813584</td>\n",
       "      <td>0.788386</td>\n",
       "    </tr>\n",
       "    <tr>\n",
       "      <th>US</th>\n",
       "      <th>0</th>\n",
       "      <td>0.785814</td>\n",
       "      <td>0.800847</td>\n",
       "      <td>0.770781</td>\n",
       "      <td>0.899814</td>\n",
       "      <td>0.903296</td>\n",
       "      <td>0.896333</td>\n",
       "    </tr>\n",
       "    <tr>\n",
       "      <th rowspan=\"5\" valign=\"top\">ManualQ</th>\n",
       "      <th>DE</th>\n",
       "      <th>0</th>\n",
       "      <td>0.335714</td>\n",
       "      <td>0.414222</td>\n",
       "      <td>0.257207</td>\n",
       "      <td>0.857438</td>\n",
       "      <td>0.879475</td>\n",
       "      <td>0.835401</td>\n",
       "    </tr>\n",
       "    <tr>\n",
       "      <th>GB</th>\n",
       "      <th>0</th>\n",
       "      <td>0.652778</td>\n",
       "      <td>0.763520</td>\n",
       "      <td>0.542036</td>\n",
       "      <td>0.966574</td>\n",
       "      <td>0.974166</td>\n",
       "      <td>0.958981</td>\n",
       "    </tr>\n",
       "    <tr>\n",
       "      <th>IN</th>\n",
       "      <th>0</th>\n",
       "      <td>0.492063</td>\n",
       "      <td>0.553913</td>\n",
       "      <td>0.430214</td>\n",
       "      <td>0.952390</td>\n",
       "      <td>0.958127</td>\n",
       "      <td>0.946653</td>\n",
       "    </tr>\n",
       "    <tr>\n",
       "      <th>JP</th>\n",
       "      <th>0</th>\n",
       "      <td>0.543478</td>\n",
       "      <td>0.689015</td>\n",
       "      <td>0.397942</td>\n",
       "      <td>0.934003</td>\n",
       "      <td>0.952448</td>\n",
       "      <td>0.915557</td>\n",
       "    </tr>\n",
       "    <tr>\n",
       "      <th>US</th>\n",
       "      <th>0</th>\n",
       "      <td>0.707143</td>\n",
       "      <td>0.782797</td>\n",
       "      <td>0.631489</td>\n",
       "      <td>0.970414</td>\n",
       "      <td>0.975243</td>\n",
       "      <td>0.965586</td>\n",
       "    </tr>\n",
       "    <tr>\n",
       "      <th rowspan=\"5\" valign=\"top\">ManualY</th>\n",
       "      <th>DE</th>\n",
       "      <th>0</th>\n",
       "      <td>1.000000</td>\n",
       "      <td>1.000000</td>\n",
       "      <td>1.000000</td>\n",
       "      <td>0.960331</td>\n",
       "      <td>0.975897</td>\n",
       "      <td>0.944765</td>\n",
       "    </tr>\n",
       "    <tr>\n",
       "      <th>GB</th>\n",
       "      <th>0</th>\n",
       "      <td>0.657143</td>\n",
       "      <td>0.769143</td>\n",
       "      <td>0.545143</td>\n",
       "      <td>0.873418</td>\n",
       "      <td>0.901156</td>\n",
       "      <td>0.845679</td>\n",
       "    </tr>\n",
       "    <tr>\n",
       "      <th>IN</th>\n",
       "      <th>0</th>\n",
       "      <td>0.000000</td>\n",
       "      <td>0.000000</td>\n",
       "      <td>0.000000</td>\n",
       "      <td>0.942222</td>\n",
       "      <td>0.972778</td>\n",
       "      <td>0.911667</td>\n",
       "    </tr>\n",
       "    <tr>\n",
       "      <th>JP</th>\n",
       "      <th>0</th>\n",
       "      <td>0.228070</td>\n",
       "      <td>0.337967</td>\n",
       "      <td>0.118173</td>\n",
       "      <td>0.544000</td>\n",
       "      <td>0.631665</td>\n",
       "      <td>0.456335</td>\n",
       "    </tr>\n",
       "    <tr>\n",
       "      <th>US</th>\n",
       "      <th>0</th>\n",
       "      <td>0.695652</td>\n",
       "      <td>0.887929</td>\n",
       "      <td>0.503376</td>\n",
       "      <td>0.951477</td>\n",
       "      <td>0.970841</td>\n",
       "      <td>0.932113</td>\n",
       "    </tr>\n",
       "    <tr>\n",
       "      <th rowspan=\"2\" valign=\"top\">RNNQ</th>\n",
       "      <th>GB</th>\n",
       "      <th>0</th>\n",
       "      <td>0.757774</td>\n",
       "      <td>0.781806</td>\n",
       "      <td>0.733743</td>\n",
       "      <td>0.892515</td>\n",
       "      <td>0.898208</td>\n",
       "      <td>0.886821</td>\n",
       "    </tr>\n",
       "    <tr>\n",
       "      <th>US</th>\n",
       "      <th>0</th>\n",
       "      <td>0.752126</td>\n",
       "      <td>0.781644</td>\n",
       "      <td>0.722609</td>\n",
       "      <td>0.914396</td>\n",
       "      <td>0.919989</td>\n",
       "      <td>0.908803</td>\n",
       "    </tr>\n",
       "    <tr>\n",
       "      <th rowspan=\"2\" valign=\"top\">RNNY</th>\n",
       "      <th>GB</th>\n",
       "      <th>0</th>\n",
       "      <td>0.671717</td>\n",
       "      <td>0.737292</td>\n",
       "      <td>0.606142</td>\n",
       "      <td>0.872093</td>\n",
       "      <td>0.888736</td>\n",
       "      <td>0.855450</td>\n",
       "    </tr>\n",
       "    <tr>\n",
       "      <th>US</th>\n",
       "      <th>0</th>\n",
       "      <td>0.608959</td>\n",
       "      <td>0.642258</td>\n",
       "      <td>0.575660</td>\n",
       "      <td>0.926234</td>\n",
       "      <td>0.931079</td>\n",
       "      <td>0.921389</td>\n",
       "    </tr>\n",
       "    <tr>\n",
       "      <th rowspan=\"3\" valign=\"top\">RuleBased</th>\n",
       "      <th>GB</th>\n",
       "      <th>0</th>\n",
       "      <td>1.000000</td>\n",
       "      <td>NaN</td>\n",
       "      <td>NaN</td>\n",
       "      <td>0.975000</td>\n",
       "      <td>1.024000</td>\n",
       "      <td>0.926000</td>\n",
       "    </tr>\n",
       "    <tr>\n",
       "      <th>IN</th>\n",
       "      <th>0</th>\n",
       "      <td>1.000000</td>\n",
       "      <td>NaN</td>\n",
       "      <td>NaN</td>\n",
       "      <td>0.857143</td>\n",
       "      <td>1.137143</td>\n",
       "      <td>0.577143</td>\n",
       "    </tr>\n",
       "    <tr>\n",
       "      <th>US</th>\n",
       "      <th>0</th>\n",
       "      <td>1.000000</td>\n",
       "      <td>1.000000</td>\n",
       "      <td>1.000000</td>\n",
       "      <td>0.970370</td>\n",
       "      <td>0.999081</td>\n",
       "      <td>0.941660</td>\n",
       "    </tr>\n",
       "    <tr>\n",
       "      <th rowspan=\"5\" valign=\"top\">RuleBasedY</th>\n",
       "      <th>DE</th>\n",
       "      <th>0</th>\n",
       "      <td>0.292724</td>\n",
       "      <td>0.329440</td>\n",
       "      <td>0.256008</td>\n",
       "      <td>0.633209</td>\n",
       "      <td>0.656729</td>\n",
       "      <td>0.609690</td>\n",
       "    </tr>\n",
       "    <tr>\n",
       "      <th>GB</th>\n",
       "      <th>0</th>\n",
       "      <td>0.817708</td>\n",
       "      <td>0.840013</td>\n",
       "      <td>0.795403</td>\n",
       "      <td>0.376961</td>\n",
       "      <td>0.399056</td>\n",
       "      <td>0.354865</td>\n",
       "    </tr>\n",
       "    <tr>\n",
       "      <th>IN</th>\n",
       "      <th>0</th>\n",
       "      <td>0.608878</td>\n",
       "      <td>0.622081</td>\n",
       "      <td>0.595675</td>\n",
       "      <td>0.627986</td>\n",
       "      <td>0.635963</td>\n",
       "      <td>0.620010</td>\n",
       "    </tr>\n",
       "    <tr>\n",
       "      <th>JP</th>\n",
       "      <th>0</th>\n",
       "      <td>0.326241</td>\n",
       "      <td>0.370973</td>\n",
       "      <td>0.281509</td>\n",
       "      <td>0.323764</td>\n",
       "      <td>0.360419</td>\n",
       "      <td>0.287109</td>\n",
       "    </tr>\n",
       "    <tr>\n",
       "      <th>US</th>\n",
       "      <th>0</th>\n",
       "      <td>0.406401</td>\n",
       "      <td>0.420655</td>\n",
       "      <td>0.392146</td>\n",
       "      <td>0.541830</td>\n",
       "      <td>0.551617</td>\n",
       "      <td>0.532043</td>\n",
       "    </tr>\n",
       "    <tr>\n",
       "      <th rowspan=\"5\" valign=\"top\">UserPopQ</th>\n",
       "      <th>DE</th>\n",
       "      <th>0</th>\n",
       "      <td>0.498285</td>\n",
       "      <td>0.513626</td>\n",
       "      <td>0.482945</td>\n",
       "      <td>0.731142</td>\n",
       "      <td>0.738195</td>\n",
       "      <td>0.724088</td>\n",
       "    </tr>\n",
       "    <tr>\n",
       "      <th>GB</th>\n",
       "      <th>0</th>\n",
       "      <td>0.530392</td>\n",
       "      <td>0.551153</td>\n",
       "      <td>0.509631</td>\n",
       "      <td>0.672615</td>\n",
       "      <td>0.683785</td>\n",
       "      <td>0.661445</td>\n",
       "    </tr>\n",
       "    <tr>\n",
       "      <th>IN</th>\n",
       "      <th>0</th>\n",
       "      <td>0.459197</td>\n",
       "      <td>0.470244</td>\n",
       "      <td>0.448149</td>\n",
       "      <td>0.795474</td>\n",
       "      <td>0.799518</td>\n",
       "      <td>0.791431</td>\n",
       "    </tr>\n",
       "    <tr>\n",
       "      <th>JP</th>\n",
       "      <th>0</th>\n",
       "      <td>0.423129</td>\n",
       "      <td>0.440991</td>\n",
       "      <td>0.405267</td>\n",
       "      <td>0.629256</td>\n",
       "      <td>0.639888</td>\n",
       "      <td>0.618624</td>\n",
       "    </tr>\n",
       "    <tr>\n",
       "      <th>US</th>\n",
       "      <th>0</th>\n",
       "      <td>0.574790</td>\n",
       "      <td>0.614547</td>\n",
       "      <td>0.535032</td>\n",
       "      <td>0.673436</td>\n",
       "      <td>0.694975</td>\n",
       "      <td>0.651896</td>\n",
       "    </tr>\n",
       "    <tr>\n",
       "      <th>UserPopSelectionQ</th>\n",
       "      <th>JP</th>\n",
       "      <th>0</th>\n",
       "      <td>0.601790</td>\n",
       "      <td>0.647222</td>\n",
       "      <td>0.556357</td>\n",
       "      <td>0.815060</td>\n",
       "      <td>0.830542</td>\n",
       "      <td>0.799578</td>\n",
       "    </tr>\n",
       "    <tr>\n",
       "      <th>UserPopSelectionY</th>\n",
       "      <th>JP</th>\n",
       "      <th>0</th>\n",
       "      <td>0.333333</td>\n",
       "      <td>0.986667</td>\n",
       "      <td>-0.320000</td>\n",
       "      <td>0.857143</td>\n",
       "      <td>1.010505</td>\n",
       "      <td>0.703781</td>\n",
       "    </tr>\n",
       "    <tr>\n",
       "      <th rowspan=\"5\" valign=\"top\">UserPopY</th>\n",
       "      <th>DE</th>\n",
       "      <th>0</th>\n",
       "      <td>0.668471</td>\n",
       "      <td>0.702436</td>\n",
       "      <td>0.634506</td>\n",
       "      <td>0.779469</td>\n",
       "      <td>0.793509</td>\n",
       "      <td>0.765429</td>\n",
       "    </tr>\n",
       "    <tr>\n",
       "      <th>GB</th>\n",
       "      <th>0</th>\n",
       "      <td>0.760714</td>\n",
       "      <td>0.796083</td>\n",
       "      <td>0.725346</td>\n",
       "      <td>0.658952</td>\n",
       "      <td>0.681889</td>\n",
       "      <td>0.636016</td>\n",
       "    </tr>\n",
       "    <tr>\n",
       "      <th>IN</th>\n",
       "      <th>0</th>\n",
       "      <td>0.745519</td>\n",
       "      <td>0.756132</td>\n",
       "      <td>0.734906</td>\n",
       "      <td>0.744357</td>\n",
       "      <td>0.749733</td>\n",
       "      <td>0.738981</td>\n",
       "    </tr>\n",
       "    <tr>\n",
       "      <th>JP</th>\n",
       "      <th>0</th>\n",
       "      <td>0.312775</td>\n",
       "      <td>0.347622</td>\n",
       "      <td>0.277928</td>\n",
       "      <td>0.505447</td>\n",
       "      <td>0.531864</td>\n",
       "      <td>0.479029</td>\n",
       "    </tr>\n",
       "    <tr>\n",
       "      <th>US</th>\n",
       "      <th>0</th>\n",
       "      <td>0.741059</td>\n",
       "      <td>0.759812</td>\n",
       "      <td>0.722305</td>\n",
       "      <td>0.697534</td>\n",
       "      <td>0.708347</td>\n",
       "      <td>0.686720</td>\n",
       "    </tr>\n",
       "    <tr>\n",
       "      <th rowspan=\"2\" valign=\"top\">XGBQ</th>\n",
       "      <th>GB</th>\n",
       "      <th>0</th>\n",
       "      <td>0.540912</td>\n",
       "      <td>0.563806</td>\n",
       "      <td>0.518017</td>\n",
       "      <td>0.800788</td>\n",
       "      <td>0.808979</td>\n",
       "      <td>0.792597</td>\n",
       "    </tr>\n",
       "    <tr>\n",
       "      <th>US</th>\n",
       "      <th>0</th>\n",
       "      <td>0.550265</td>\n",
       "      <td>0.591248</td>\n",
       "      <td>0.509281</td>\n",
       "      <td>0.817919</td>\n",
       "      <td>0.831476</td>\n",
       "      <td>0.804362</td>\n",
       "    </tr>\n",
       "    <tr>\n",
       "      <th rowspan=\"2\" valign=\"top\">XGBY</th>\n",
       "      <th>GB</th>\n",
       "      <th>0</th>\n",
       "      <td>0.721805</td>\n",
       "      <td>0.798250</td>\n",
       "      <td>0.645359</td>\n",
       "      <td>0.862033</td>\n",
       "      <td>0.883815</td>\n",
       "      <td>0.840251</td>\n",
       "    </tr>\n",
       "    <tr>\n",
       "      <th>US</th>\n",
       "      <th>0</th>\n",
       "      <td>0.710214</td>\n",
       "      <td>0.753601</td>\n",
       "      <td>0.666826</td>\n",
       "      <td>0.872886</td>\n",
       "      <td>0.884233</td>\n",
       "      <td>0.861540</td>\n",
       "    </tr>\n",
       "  </tbody>\n",
       "</table>\n",
       "</div>"
      ],
      "text/plain": [
       "                            sever_rate  sever_rate_ci95_high  \\\n",
       "rec_provider      region                                       \n",
       "BooksQ            DE     0    0.095941              0.131071   \n",
       "                  US     0    0.200000              0.461333   \n",
       "BooksY            DE     0    0.238095              0.368469   \n",
       "                  US     0    0.285714              0.423996   \n",
       "DNNQ              DE     0    0.763410              0.774940   \n",
       "                  GB     0    0.869017              0.878376   \n",
       "                  JP     0    0.900269              0.909062   \n",
       "                  US     0    0.837506              0.853855   \n",
       "DNNY              DE     0    0.604027              0.649416   \n",
       "                  GB     0    0.784124              0.809226   \n",
       "                  JP     0    0.699219              0.731674   \n",
       "                  US     0    0.785814              0.800847   \n",
       "ManualQ           DE     0    0.335714              0.414222   \n",
       "                  GB     0    0.652778              0.763520   \n",
       "                  IN     0    0.492063              0.553913   \n",
       "                  JP     0    0.543478              0.689015   \n",
       "                  US     0    0.707143              0.782797   \n",
       "ManualY           DE     0    1.000000              1.000000   \n",
       "                  GB     0    0.657143              0.769143   \n",
       "                  IN     0    0.000000              0.000000   \n",
       "                  JP     0    0.228070              0.337967   \n",
       "                  US     0    0.695652              0.887929   \n",
       "RNNQ              GB     0    0.757774              0.781806   \n",
       "                  US     0    0.752126              0.781644   \n",
       "RNNY              GB     0    0.671717              0.737292   \n",
       "                  US     0    0.608959              0.642258   \n",
       "RuleBased         GB     0    1.000000                   NaN   \n",
       "                  IN     0    1.000000                   NaN   \n",
       "                  US     0    1.000000              1.000000   \n",
       "RuleBasedY        DE     0    0.292724              0.329440   \n",
       "                  GB     0    0.817708              0.840013   \n",
       "                  IN     0    0.608878              0.622081   \n",
       "                  JP     0    0.326241              0.370973   \n",
       "                  US     0    0.406401              0.420655   \n",
       "UserPopQ          DE     0    0.498285              0.513626   \n",
       "                  GB     0    0.530392              0.551153   \n",
       "                  IN     0    0.459197              0.470244   \n",
       "                  JP     0    0.423129              0.440991   \n",
       "                  US     0    0.574790              0.614547   \n",
       "UserPopSelectionQ JP     0    0.601790              0.647222   \n",
       "UserPopSelectionY JP     0    0.333333              0.986667   \n",
       "UserPopY          DE     0    0.668471              0.702436   \n",
       "                  GB     0    0.760714              0.796083   \n",
       "                  IN     0    0.745519              0.756132   \n",
       "                  JP     0    0.312775              0.347622   \n",
       "                  US     0    0.741059              0.759812   \n",
       "XGBQ              GB     0    0.540912              0.563806   \n",
       "                  US     0    0.550265              0.591248   \n",
       "XGBY              GB     0    0.721805              0.798250   \n",
       "                  US     0    0.710214              0.753601   \n",
       "\n",
       "                            sever_rate_ci95_lo  success_rate  \\\n",
       "rec_provider      region                                       \n",
       "BooksQ            DE     0            0.060811      0.799704   \n",
       "                  US     0           -0.061333      0.972752   \n",
       "BooksY            DE     0            0.107722      0.966587   \n",
       "                  US     0            0.147432      0.985482   \n",
       "DNNQ              DE     0            0.751880      0.839114   \n",
       "                  GB     0            0.859657      0.874127   \n",
       "                  JP     0            0.891476      0.818467   \n",
       "                  US     0            0.821158      0.905650   \n",
       "DNNY              DE     0            0.558638      0.917297   \n",
       "                  GB     0            0.759022      0.857968   \n",
       "                  JP     0            0.666763      0.800985   \n",
       "                  US     0            0.770781      0.899814   \n",
       "ManualQ           DE     0            0.257207      0.857438   \n",
       "                  GB     0            0.542036      0.966574   \n",
       "                  IN     0            0.430214      0.952390   \n",
       "                  JP     0            0.397942      0.934003   \n",
       "                  US     0            0.631489      0.970414   \n",
       "ManualY           DE     0            1.000000      0.960331   \n",
       "                  GB     0            0.545143      0.873418   \n",
       "                  IN     0            0.000000      0.942222   \n",
       "                  JP     0            0.118173      0.544000   \n",
       "                  US     0            0.503376      0.951477   \n",
       "RNNQ              GB     0            0.733743      0.892515   \n",
       "                  US     0            0.722609      0.914396   \n",
       "RNNY              GB     0            0.606142      0.872093   \n",
       "                  US     0            0.575660      0.926234   \n",
       "RuleBased         GB     0                 NaN      0.975000   \n",
       "                  IN     0                 NaN      0.857143   \n",
       "                  US     0            1.000000      0.970370   \n",
       "RuleBasedY        DE     0            0.256008      0.633209   \n",
       "                  GB     0            0.795403      0.376961   \n",
       "                  IN     0            0.595675      0.627986   \n",
       "                  JP     0            0.281509      0.323764   \n",
       "                  US     0            0.392146      0.541830   \n",
       "UserPopQ          DE     0            0.482945      0.731142   \n",
       "                  GB     0            0.509631      0.672615   \n",
       "                  IN     0            0.448149      0.795474   \n",
       "                  JP     0            0.405267      0.629256   \n",
       "                  US     0            0.535032      0.673436   \n",
       "UserPopSelectionQ JP     0            0.556357      0.815060   \n",
       "UserPopSelectionY JP     0           -0.320000      0.857143   \n",
       "UserPopY          DE     0            0.634506      0.779469   \n",
       "                  GB     0            0.725346      0.658952   \n",
       "                  IN     0            0.734906      0.744357   \n",
       "                  JP     0            0.277928      0.505447   \n",
       "                  US     0            0.722305      0.697534   \n",
       "XGBQ              GB     0            0.518017      0.800788   \n",
       "                  US     0            0.509281      0.817919   \n",
       "XGBY              GB     0            0.645359      0.862033   \n",
       "                  US     0            0.666826      0.872886   \n",
       "\n",
       "                            success_rate_ci95_high  success_rate_ci95_low  \n",
       "rec_provider      region                                                   \n",
       "BooksQ            DE     0                0.821038               0.778371  \n",
       "                  US     0                0.989432               0.956073  \n",
       "BooksY            DE     0                0.976526               0.956648  \n",
       "                  US     0                0.989842               0.981123  \n",
       "DNNQ              DE     0                0.843113               0.835116  \n",
       "                  GB     0                0.877391               0.870863  \n",
       "                  JP     0                0.823286               0.813647  \n",
       "                  US     0                0.909629               0.901672  \n",
       "DNNY              DE     0                0.924633               0.909962  \n",
       "                  GB     0                0.865991               0.849944  \n",
       "                  JP     0                0.813584               0.788386  \n",
       "                  US     0                0.903296               0.896333  \n",
       "ManualQ           DE     0                0.879475               0.835401  \n",
       "                  GB     0                0.974166               0.958981  \n",
       "                  IN     0                0.958127               0.946653  \n",
       "                  JP     0                0.952448               0.915557  \n",
       "                  US     0                0.975243               0.965586  \n",
       "ManualY           DE     0                0.975897               0.944765  \n",
       "                  GB     0                0.901156               0.845679  \n",
       "                  IN     0                0.972778               0.911667  \n",
       "                  JP     0                0.631665               0.456335  \n",
       "                  US     0                0.970841               0.932113  \n",
       "RNNQ              GB     0                0.898208               0.886821  \n",
       "                  US     0                0.919989               0.908803  \n",
       "RNNY              GB     0                0.888736               0.855450  \n",
       "                  US     0                0.931079               0.921389  \n",
       "RuleBased         GB     0                1.024000               0.926000  \n",
       "                  IN     0                1.137143               0.577143  \n",
       "                  US     0                0.999081               0.941660  \n",
       "RuleBasedY        DE     0                0.656729               0.609690  \n",
       "                  GB     0                0.399056               0.354865  \n",
       "                  IN     0                0.635963               0.620010  \n",
       "                  JP     0                0.360419               0.287109  \n",
       "                  US     0                0.551617               0.532043  \n",
       "UserPopQ          DE     0                0.738195               0.724088  \n",
       "                  GB     0                0.683785               0.661445  \n",
       "                  IN     0                0.799518               0.791431  \n",
       "                  JP     0                0.639888               0.618624  \n",
       "                  US     0                0.694975               0.651896  \n",
       "UserPopSelectionQ JP     0                0.830542               0.799578  \n",
       "UserPopSelectionY JP     0                1.010505               0.703781  \n",
       "UserPopY          DE     0                0.793509               0.765429  \n",
       "                  GB     0                0.681889               0.636016  \n",
       "                  IN     0                0.749733               0.738981  \n",
       "                  JP     0                0.531864               0.479029  \n",
       "                  US     0                0.708347               0.686720  \n",
       "XGBQ              GB     0                0.808979               0.792597  \n",
       "                  US     0                0.831476               0.804362  \n",
       "XGBY              GB     0                0.883815               0.840251  \n",
       "                  US     0                0.884233               0.861540  "
      ]
     },
     "execution_count": 1098,
     "metadata": {},
     "output_type": "execute_result"
    }
   ],
   "source": [
    "ad_recs_with_rates_per_region_provider = ad_recs_annotated.groupby([\"rec_provider\", \"region\"]).apply(calc_success_and_sever_rate)\n",
    "ad_recs_with_rates_per_region_provider"
   ]
  },
  {
   "cell_type": "markdown",
   "id": "5dd6b999-51b5-46d5-8289-d919ddc2a7ee",
   "metadata": {
    "tags": []
   },
   "source": [
    "###### 20.  Present a table with a success rate, sever defects rate and CI (for each metric) per rec type (Q/Y)"
   ]
  },
  {
   "cell_type": "code",
   "execution_count": 1072,
   "id": "a9c7b706-da64-4ef3-8079-227512043119",
   "metadata": {},
   "outputs": [
    {
     "data": {
      "text/html": [
       "<div>\n",
       "<style scoped>\n",
       "    .dataframe tbody tr th:only-of-type {\n",
       "        vertical-align: middle;\n",
       "    }\n",
       "\n",
       "    .dataframe tbody tr th {\n",
       "        vertical-align: top;\n",
       "    }\n",
       "\n",
       "    .dataframe thead th {\n",
       "        text-align: right;\n",
       "    }\n",
       "</style>\n",
       "<table border=\"1\" class=\"dataframe\">\n",
       "  <thead>\n",
       "    <tr style=\"text-align: right;\">\n",
       "      <th></th>\n",
       "      <th></th>\n",
       "      <th>sever_rate</th>\n",
       "      <th>sever_rate_ci95_high</th>\n",
       "      <th>sever_rate_ci95_lo</th>\n",
       "      <th>success_rate</th>\n",
       "      <th>success_rate_ci95_high</th>\n",
       "      <th>success_rate_ci95_low</th>\n",
       "    </tr>\n",
       "    <tr>\n",
       "      <th>recommendation_type</th>\n",
       "      <th></th>\n",
       "      <th></th>\n",
       "      <th></th>\n",
       "      <th></th>\n",
       "      <th></th>\n",
       "      <th></th>\n",
       "      <th></th>\n",
       "    </tr>\n",
       "  </thead>\n",
       "  <tbody>\n",
       "    <tr>\n",
       "      <th>Qality</th>\n",
       "      <th>0</th>\n",
       "      <td>0.645755</td>\n",
       "      <td>0.650441</td>\n",
       "      <td>0.641068</td>\n",
       "      <td>0.830910</td>\n",
       "      <td>0.832420</td>\n",
       "      <td>0.829399</td>\n",
       "    </tr>\n",
       "    <tr>\n",
       "      <th>Yield</th>\n",
       "      <th>0</th>\n",
       "      <td>0.637270</td>\n",
       "      <td>0.642749</td>\n",
       "      <td>0.631791</td>\n",
       "      <td>0.784427</td>\n",
       "      <td>0.786603</td>\n",
       "      <td>0.782252</td>\n",
       "    </tr>\n",
       "  </tbody>\n",
       "</table>\n",
       "</div>"
      ],
      "text/plain": [
       "                       sever_rate  sever_rate_ci95_high  sever_rate_ci95_lo  \\\n",
       "recommendation_type                                                           \n",
       "Qality              0    0.645755              0.650441            0.641068   \n",
       "Yield               0    0.637270              0.642749            0.631791   \n",
       "\n",
       "                       success_rate  success_rate_ci95_high  \\\n",
       "recommendation_type                                           \n",
       "Qality              0      0.830910                0.832420   \n",
       "Yield               0      0.784427                0.786603   \n",
       "\n",
       "                       success_rate_ci95_low  \n",
       "recommendation_type                           \n",
       "Qality              0               0.829399  \n",
       "Yield               0               0.782252  "
      ]
     },
     "execution_count": 1072,
     "metadata": {},
     "output_type": "execute_result"
    }
   ],
   "source": [
    "ad_recs_per_recommendation_type = ad_recs_annotated.groupby([\"recommendation_type\"]).apply(calc_success_and_sever_rate)\n",
    "ad_recs_per_recommendation_type"
   ]
  },
  {
   "cell_type": "markdown",
   "id": "9136cbbd-ef1c-49a8-acde-c2a1192df86f",
   "metadata": {
    "tags": []
   },
   "source": [
    "###### 21.  Present a table with a success rate, sever defects rate and CI (for each metric) per rec type and region"
   ]
  },
  {
   "cell_type": "code",
   "execution_count": 1075,
   "id": "2d1eb082-e4a7-4294-b724-e17868b032c0",
   "metadata": {},
   "outputs": [
    {
     "data": {
      "text/html": [
       "<div>\n",
       "<style scoped>\n",
       "    .dataframe tbody tr th:only-of-type {\n",
       "        vertical-align: middle;\n",
       "    }\n",
       "\n",
       "    .dataframe tbody tr th {\n",
       "        vertical-align: top;\n",
       "    }\n",
       "\n",
       "    .dataframe thead th {\n",
       "        text-align: right;\n",
       "    }\n",
       "</style>\n",
       "<table border=\"1\" class=\"dataframe\">\n",
       "  <thead>\n",
       "    <tr style=\"text-align: right;\">\n",
       "      <th></th>\n",
       "      <th></th>\n",
       "      <th></th>\n",
       "      <th>sever_rate</th>\n",
       "      <th>sever_rate_ci95_high</th>\n",
       "      <th>sever_rate_ci95_lo</th>\n",
       "      <th>success_rate</th>\n",
       "      <th>success_rate_ci95_high</th>\n",
       "      <th>success_rate_ci95_low</th>\n",
       "    </tr>\n",
       "    <tr>\n",
       "      <th>recommendation_type</th>\n",
       "      <th>region</th>\n",
       "      <th></th>\n",
       "      <th></th>\n",
       "      <th></th>\n",
       "      <th></th>\n",
       "      <th></th>\n",
       "      <th></th>\n",
       "      <th></th>\n",
       "    </tr>\n",
       "  </thead>\n",
       "  <tbody>\n",
       "    <tr>\n",
       "      <th rowspan=\"5\" valign=\"top\">Qality</th>\n",
       "      <th>DE</th>\n",
       "      <th>0</th>\n",
       "      <td>0.628187</td>\n",
       "      <td>0.637791</td>\n",
       "      <td>0.618582</td>\n",
       "      <td>0.806681</td>\n",
       "      <td>0.810132</td>\n",
       "      <td>0.803229</td>\n",
       "    </tr>\n",
       "    <tr>\n",
       "      <th>GB</th>\n",
       "      <th>0</th>\n",
       "      <td>0.723666</td>\n",
       "      <td>0.732267</td>\n",
       "      <td>0.715066</td>\n",
       "      <td>0.850367</td>\n",
       "      <td>0.853021</td>\n",
       "      <td>0.847713</td>\n",
       "    </tr>\n",
       "    <tr>\n",
       "      <th>IN</th>\n",
       "      <th>0</th>\n",
       "      <td>0.458965</td>\n",
       "      <td>0.469940</td>\n",
       "      <td>0.447989</td>\n",
       "      <td>0.806129</td>\n",
       "      <td>0.809963</td>\n",
       "      <td>0.802296</td>\n",
       "    </tr>\n",
       "    <tr>\n",
       "      <th>JP</th>\n",
       "      <th>0</th>\n",
       "      <td>0.704643</td>\n",
       "      <td>0.714716</td>\n",
       "      <td>0.694571</td>\n",
       "      <td>0.777806</td>\n",
       "      <td>0.782132</td>\n",
       "      <td>0.773479</td>\n",
       "    </tr>\n",
       "    <tr>\n",
       "      <th>US</th>\n",
       "      <th>0</th>\n",
       "      <td>0.737845</td>\n",
       "      <td>0.751321</td>\n",
       "      <td>0.724369</td>\n",
       "      <td>0.899070</td>\n",
       "      <td>0.902002</td>\n",
       "      <td>0.896138</td>\n",
       "    </tr>\n",
       "    <tr>\n",
       "      <th rowspan=\"5\" valign=\"top\">Yield</th>\n",
       "      <th>DE</th>\n",
       "      <th>0</th>\n",
       "      <td>0.520788</td>\n",
       "      <td>0.543695</td>\n",
       "      <td>0.497880</td>\n",
       "      <td>0.845986</td>\n",
       "      <td>0.852476</td>\n",
       "      <td>0.839495</td>\n",
       "    </tr>\n",
       "    <tr>\n",
       "      <th>GB</th>\n",
       "      <th>0</th>\n",
       "      <td>0.780906</td>\n",
       "      <td>0.795493</td>\n",
       "      <td>0.766319</td>\n",
       "      <td>0.772476</td>\n",
       "      <td>0.779527</td>\n",
       "      <td>0.765425</td>\n",
       "    </tr>\n",
       "    <tr>\n",
       "      <th>IN</th>\n",
       "      <th>0</th>\n",
       "      <td>0.681615</td>\n",
       "      <td>0.689991</td>\n",
       "      <td>0.673240</td>\n",
       "      <td>0.719186</td>\n",
       "      <td>0.723468</td>\n",
       "      <td>0.714903</td>\n",
       "    </tr>\n",
       "    <tr>\n",
       "      <th>JP</th>\n",
       "      <th>0</th>\n",
       "      <td>0.464267</td>\n",
       "      <td>0.486437</td>\n",
       "      <td>0.442097</td>\n",
       "      <td>0.683988</td>\n",
       "      <td>0.695601</td>\n",
       "      <td>0.672375</td>\n",
       "    </tr>\n",
       "    <tr>\n",
       "      <th>US</th>\n",
       "      <th>0</th>\n",
       "      <td>0.598376</td>\n",
       "      <td>0.607607</td>\n",
       "      <td>0.589145</td>\n",
       "      <td>0.828812</td>\n",
       "      <td>0.831747</td>\n",
       "      <td>0.825877</td>\n",
       "    </tr>\n",
       "  </tbody>\n",
       "</table>\n",
       "</div>"
      ],
      "text/plain": [
       "                              sever_rate  sever_rate_ci95_high  \\\n",
       "recommendation_type region                                       \n",
       "Qality              DE     0    0.628187              0.637791   \n",
       "                    GB     0    0.723666              0.732267   \n",
       "                    IN     0    0.458965              0.469940   \n",
       "                    JP     0    0.704643              0.714716   \n",
       "                    US     0    0.737845              0.751321   \n",
       "Yield               DE     0    0.520788              0.543695   \n",
       "                    GB     0    0.780906              0.795493   \n",
       "                    IN     0    0.681615              0.689991   \n",
       "                    JP     0    0.464267              0.486437   \n",
       "                    US     0    0.598376              0.607607   \n",
       "\n",
       "                              sever_rate_ci95_lo  success_rate  \\\n",
       "recommendation_type region                                       \n",
       "Qality              DE     0            0.618582      0.806681   \n",
       "                    GB     0            0.715066      0.850367   \n",
       "                    IN     0            0.447989      0.806129   \n",
       "                    JP     0            0.694571      0.777806   \n",
       "                    US     0            0.724369      0.899070   \n",
       "Yield               DE     0            0.497880      0.845986   \n",
       "                    GB     0            0.766319      0.772476   \n",
       "                    IN     0            0.673240      0.719186   \n",
       "                    JP     0            0.442097      0.683988   \n",
       "                    US     0            0.589145      0.828812   \n",
       "\n",
       "                              success_rate_ci95_high  success_rate_ci95_low  \n",
       "recommendation_type region                                                   \n",
       "Qality              DE     0                0.810132               0.803229  \n",
       "                    GB     0                0.853021               0.847713  \n",
       "                    IN     0                0.809963               0.802296  \n",
       "                    JP     0                0.782132               0.773479  \n",
       "                    US     0                0.902002               0.896138  \n",
       "Yield               DE     0                0.852476               0.839495  \n",
       "                    GB     0                0.779527               0.765425  \n",
       "                    IN     0                0.723468               0.714903  \n",
       "                    JP     0                0.695601               0.672375  \n",
       "                    US     0                0.831747               0.825877  "
      ]
     },
     "execution_count": 1075,
     "metadata": {},
     "output_type": "execute_result"
    }
   ],
   "source": [
    "ad_recs_per_recommendation_type_region =     ad_recs_annotated.groupby([\"recommendation_type\",\"region\"]).apply(calc_success_and_sever_rate)\n",
    "ad_recs_per_recommendation_type_region"
   ]
  },
  {
   "cell_type": "markdown",
   "id": "08bdea34-99d5-4f9f-a22c-c2fa40bfbd34",
   "metadata": {
    "tags": []
   },
   "source": [
    "###### 22.  Present WoW table/graph with success rate and CI (see image below) per region"
   ]
  },
  {
   "cell_type": "code",
   "execution_count": 1018,
   "id": "8cebf5b1-88c0-4e70-870c-c656c575a0b5",
   "metadata": {},
   "outputs": [
    {
     "data": {
      "text/html": [
       "<div>\n",
       "<style scoped>\n",
       "    .dataframe tbody tr th:only-of-type {\n",
       "        vertical-align: middle;\n",
       "    }\n",
       "\n",
       "    .dataframe tbody tr th {\n",
       "        vertical-align: top;\n",
       "    }\n",
       "\n",
       "    .dataframe thead th {\n",
       "        text-align: right;\n",
       "    }\n",
       "</style>\n",
       "<table border=\"1\" class=\"dataframe\">\n",
       "  <thead>\n",
       "    <tr style=\"text-align: right;\">\n",
       "      <th></th>\n",
       "      <th>region</th>\n",
       "      <th>level_1</th>\n",
       "      <th>sever_rate</th>\n",
       "      <th>sever_rate_ci95_high</th>\n",
       "      <th>sever_rate_ci95_lo</th>\n",
       "      <th>success_rate</th>\n",
       "      <th>success_rate_ci95_high</th>\n",
       "      <th>success_rate_ci95_low</th>\n",
       "    </tr>\n",
       "  </thead>\n",
       "  <tbody>\n",
       "    <tr>\n",
       "      <th>0</th>\n",
       "      <td>DE</td>\n",
       "      <td>0</td>\n",
       "      <td>0.611198</td>\n",
       "      <td>0.620086</td>\n",
       "      <td>0.602309</td>\n",
       "      <td>0.814192</td>\n",
       "      <td>0.817249</td>\n",
       "      <td>0.811134</td>\n",
       "    </tr>\n",
       "    <tr>\n",
       "      <th>1</th>\n",
       "      <td>GB</td>\n",
       "      <td>0</td>\n",
       "      <td>0.736791</td>\n",
       "      <td>0.744227</td>\n",
       "      <td>0.729356</td>\n",
       "      <td>0.837619</td>\n",
       "      <td>0.840129</td>\n",
       "      <td>0.835110</td>\n",
       "    </tr>\n",
       "    <tr>\n",
       "      <th>2</th>\n",
       "      <td>IN</td>\n",
       "      <td>0</td>\n",
       "      <td>0.592578</td>\n",
       "      <td>0.599421</td>\n",
       "      <td>0.585734</td>\n",
       "      <td>0.761900</td>\n",
       "      <td>0.764795</td>\n",
       "      <td>0.759005</td>\n",
       "    </tr>\n",
       "    <tr>\n",
       "      <th>3</th>\n",
       "      <td>JP</td>\n",
       "      <td>0</td>\n",
       "      <td>0.657067</td>\n",
       "      <td>0.666453</td>\n",
       "      <td>0.647681</td>\n",
       "      <td>0.763927</td>\n",
       "      <td>0.768007</td>\n",
       "      <td>0.759848</td>\n",
       "    </tr>\n",
       "    <tr>\n",
       "      <th>4</th>\n",
       "      <td>US</td>\n",
       "      <td>0</td>\n",
       "      <td>0.636613</td>\n",
       "      <td>0.644329</td>\n",
       "      <td>0.628898</td>\n",
       "      <td>0.856249</td>\n",
       "      <td>0.858383</td>\n",
       "      <td>0.854115</td>\n",
       "    </tr>\n",
       "  </tbody>\n",
       "</table>\n",
       "</div>"
      ],
      "text/plain": [
       "  region  level_1  sever_rate  sever_rate_ci95_high  sever_rate_ci95_lo  \\\n",
       "0     DE        0    0.611198              0.620086            0.602309   \n",
       "1     GB        0    0.736791              0.744227            0.729356   \n",
       "2     IN        0    0.592578              0.599421            0.585734   \n",
       "3     JP        0    0.657067              0.666453            0.647681   \n",
       "4     US        0    0.636613              0.644329            0.628898   \n",
       "\n",
       "   success_rate  success_rate_ci95_high  success_rate_ci95_low  \n",
       "0      0.814192                0.817249               0.811134  \n",
       "1      0.837619                0.840129               0.835110  \n",
       "2      0.761900                0.764795               0.759005  \n",
       "3      0.763927                0.768007               0.759848  \n",
       "4      0.856249                0.858383               0.854115  "
      ]
     },
     "execution_count": 1018,
     "metadata": {},
     "output_type": "execute_result"
    },
    {
     "data": {
      "image/png": "[encoded data removed]",
      "text/plain": [
       "<Figure size 640x480 with 1 Axes>"
      ]
     },
     "metadata": {},
     "output_type": "display_data"
    }
   ],
   "source": [
    "fig = plt.figure()\n",
    "ax = plt.axes()\n",
    "ad_recs_with_rates_per_region2 = ad_recs_with_rates_per_region.reset_index()\n",
    "ax.plot( ad_recs_with_rates_per_region2.region,ad_recs_with_rates_per_region2.success_rate);\n",
    "plt.errorbar(ad_recs_with_rates_per_region2.region, ad_recs_with_rates_per_region2.success_rate, yerr=ad_recs_with_rates_per_region2.success_rate_ci95_high - ad_recs_with_rates_per_region2.success_rate, fmt='.k');\n",
    "ad_recs_with_rates_per_region2"
   ]
  },
  {
   "cell_type": "code",
   "execution_count": 980,
   "id": "0a116cc0-3a9b-48fa-9964-39310b148744",
   "metadata": {},
   "outputs": [],
   "source": [
    "%matplotlib inline\n",
    "import matplotlib.pyplot as plt\n",
    "plt.style.use('seaborn-whitegrid')\n",
    "import numpy as np"
   ]
  },
  {
   "cell_type": "markdown",
   "id": "2ac4f717-37b9-416c-80a0-82b430993f21",
   "metadata": {
    "tags": []
   },
   "source": [
    "###### 23.  Present WoW table/graph with success rate and CI (see image below) per region and rec type"
   ]
  },
  {
   "cell_type": "code",
   "execution_count": 1097,
   "id": "33d7df87-d26a-46b3-ba76-eb5b16f5c664",
   "metadata": {},
   "outputs": [
    {
     "data": {
      "image/png": "[encoded data removed]",
      "text/plain": [
       "<Figure size 640x480 with 1 Axes>"
      ]
     },
     "metadata": {},
     "output_type": "display_data"
    }
   ],
   "source": [
    "fig = plt.figure()\n",
    "\n",
    "ad_recs_per_recommendation_type_region2 = ad_recs_per_recommendation_type_region.reset_index()\n",
    "\n",
    "for rec in ad_recs_per_recommendation_type_region2.recommendation_type.unique():\n",
    "    by_recommendation = ad_recs_per_recommendation_type_region2[ad_recs_per_recommendation_type_region2[\"recommendation_type\"] == rec];\n",
    "    plt.plot(by_recommendation.region, by_recommendation.success_rate, label = rec);\n",
    "    plt.legend()\n",
    "    plt.errorbar(ad_recs_per_recommendation_type_region2.region, ad_recs_per_recommendation_type_region2.success_rate, yerr=ad_recs_per_recommendation_type_region2.success_rate_ci95_high - ad_recs_per_recommendation_type_region2.success_rate, fmt='.k');\n"
   ]
  },
  {
   "cell_type": "markdown",
   "id": "b4af3b1a-a10d-4a1a-a49d-7beee0de2561",
   "metadata": {
    "tags": []
   },
   "source": [
    "###### 24.  Present WoW table/graph with success rate and CI (see image below) per region and rec provider"
   ]
  },
  {
   "cell_type": "code",
   "execution_count": 1120,
   "id": "7f086be8-87a8-4ff7-ae17-475b839c2e02",
   "metadata": {},
   "outputs": [
    {
     "name": "stdout",
     "output_type": "stream",
     "text": [
      "                       sever_rate  sever_rate_ci95_high  sever_rate_ci95_lo  \\\n",
      "rec_provider region                                                           \n",
      "BooksQ       DE     0    0.095941              0.131071            0.060811   \n",
      "             US     0    0.200000              0.461333           -0.061333   \n",
      "BooksY       DE     0    0.238095              0.368469            0.107722   \n",
      "             US     0    0.285714              0.423996            0.147432   \n",
      "DNNQ         DE     0    0.763410              0.774940            0.751880   \n",
      "\n",
      "                       success_rate  success_rate_ci95_high  \\\n",
      "rec_provider region                                           \n",
      "BooksQ       DE     0      0.799704                0.821038   \n",
      "             US     0      0.972752                0.989432   \n",
      "BooksY       DE     0      0.966587                0.976526   \n",
      "             US     0      0.985482                0.989842   \n",
      "DNNQ         DE     0      0.839114                0.843113   \n",
      "\n",
      "                       success_rate_ci95_low  \n",
      "rec_provider region                           \n",
      "BooksQ       DE     0               0.778371  \n",
      "             US     0               0.956073  \n",
      "BooksY       DE     0               0.956648  \n",
      "             US     0               0.981123  \n",
      "DNNQ         DE     0               0.835116  \n"
     ]
    },
    {
     "data": {
      "text/plain": [
       "Text(0, 0.5, 'Success rate')"
      ]
     },
     "execution_count": 1120,
     "metadata": {},
     "output_type": "execute_result"
    },
    {
     "data": {
      "image/png": "[encoded data removed]",
      "text/plain": [
       "<Figure size 2400x1200 with 1 Axes>"
      ]
     },
     "metadata": {},
     "output_type": "display_data"
    }
   ],
   "source": [
    "print(ad_recs_with_rates_per_region_provider.head())\n",
    "ad_recs_with_rates_per_region_provider2 = ad_recs_with_rates_per_region_provider.reset_index()\n",
    "fig = plt.figure(figsize=(16, 8), dpi=150)\n",
    "ax = plt.axes()\n",
    "for provider in ad_recs_with_rates_per_region_provider2.rec_provider.unique():\n",
    "    by_provider = ad_recs_with_rates_per_region_provider2[ad_recs_with_rates_per_region_provider2[\"rec_provider\"] == provider];\n",
    "    plt.plot(by_provider.region, by_provider.success_rate, label = provider);\n",
    "    plt.legend()\n",
    "    plt.errorbar(ad_recs_with_rates_per_region_provider2.region, ad_recs_with_rates_per_region_provider2.success_rate, yerr=ad_recs_with_rates_per_region_provider2.success_rate_ci95_high - ad_recs_with_rates_per_region_provider2.success_rate, fmt='.k');\n",
    "\n",
    "plt.xlabel('Regions')\n",
    "plt.ylabel('Success rate')"
   ]
  },
  {
   "cell_type": "markdown",
   "id": "ccd49645-542e-4dbf-b0c4-b197c974a528",
   "metadata": {},
   "source": [
    "Analysis Bonus questions:\n",
    "1. Compute the per region success rate and CI in trailing weeks, Say, 4 weeks instead of 1 week - to allow for smoother estimations and smaller CIs"
   ]
  },
  {
   "cell_type": "markdown",
   "id": "a7b125da-e9d6-41d4-974c-cc333660995c",
   "metadata": {},
   "source": [
    "### Compactization"
   ]
  },
  {
   "cell_type": "markdown",
   "id": "905e4e19-8ceb-44b1-8496-eb14e107ccbd",
   "metadata": {},
   "source": [
    "* Are there duplicated ads? To compac the data, remove duplicated ads and instead add an ad_count column **(pay attention, this is not trivial at all)**"
   ]
  },
  {
   "cell_type": "markdown",
   "id": "cbd7201c-98c2-4d59-a76e-e098dc5d9e43",
   "metadata": {},
   "source": [
    "### Merges and joins"
   ]
  },
  {
   "cell_type": "markdown",
   "id": "d78fa97c-4736-41c5-a649-931808eb8b30",
   "metadata": {},
   "source": [
    "The Wow samples and annotations task were sent and recieve seperatly, per each week. The dataset you were working on was constructed from those files. You can see the files under the `data/weekly` folder, here are the first 10 files:"
   ]
  },
  {
   "cell_type": "code",
   "execution_count": 4,
   "id": "81341f62-9161-4f1a-a678-251baba01564",
   "metadata": {},
   "outputs": [
    {
     "data": {
      "text/plain": [
       "['2021_33_DE_Qality_annotation_result.csv',\n",
       " '2021_33_DE_Yield_annotation_result.csv',\n",
       " '2021_33_DE__Sample.csv',\n",
       " '2021_33_GB_Qality_annotation_result.csv',\n",
       " '2021_33_GB_Yield_annotation_result.csv',\n",
       " '2021_33_GB__Sample.csv',\n",
       " '2021_33_IN_Qality_annotation_result.csv',\n",
       " '2021_33_IN_Yield_annotation_result.csv',\n",
       " '2021_33_IN__Sample.csv',\n",
       " '2021_33_JP_Qality_annotation_result.csv']"
      ]
     },
     "execution_count": 4,
     "metadata": {},
     "output_type": "execute_result"
    }
   ],
   "source": [
    "import os\n",
    "weekly_files = os.listdir('data/weekly/')\n",
    "sorted(weekly_files)[:10]"
   ]
  },
  {
   "cell_type": "markdown",
   "id": "a0882bd4-9b7a-4ea1-a047-348e5e3f0980",
   "metadata": {},
   "source": [
    "Your task is to reconstruct the dataset above. "
   ]
  },
  {
   "cell_type": "markdown",
   "id": "2405d189-8570-4c86-aa35-320a173779a1",
   "metadata": {},
   "source": [
    "### Visualizations"
   ]
  },
  {
   "cell_type": "markdown",
   "id": "8323da48-3adf-4a9b-b692-7dc528990d5c",
   "metadata": {},
   "source": [
    "Produce the following success rate graph per region:"
   ]
  },
  {
   "cell_type": "code",
   "execution_count": 1131,
   "id": "42143ac6-1cee-42f8-9eeb-fe7d04683434",
   "metadata": {},
   "outputs": [
    {
     "data": {
      "text/plain": [
       "Text(0.5, 1.0, 'Success rate per region')"
      ]
     },
     "execution_count": 1131,
     "metadata": {},
     "output_type": "execute_result"
    },
    {
     "data": {
      "image/png": "[encoded data removed]",
      "text/plain": [
       "<Figure size 1600x800 with 1 Axes>"
      ]
     },
     "metadata": {},
     "output_type": "display_data"
    }
   ],
   "source": [
    "\n",
    "ad_recs_with_rates_per_region_week = ad_recs_annotated.groupby([\"week_id\", \"region\"]).apply(calc_success_and_sever_rate)\n",
    "\n",
    "ad_recs_with_rates_per_region_week = ad_recs_with_rates_per_region_week.reset_index()\n",
    "fig = plt.figure(figsize=(16, 8), dpi=100)\n",
    "ax = plt.axes()\n",
    "for region in ad_recs_with_rates_per_region_week.region.unique():\n",
    "    by_week = ad_recs_with_rates_per_region_week[ad_recs_with_rates_per_region_week[\"region\"] == region];\n",
    "    plt.plot(by_week.week_id, by_week.success_rate, label = week);\n",
    "    plt.legend()\n",
    "    plt.errorbar(ad_recs_with_rates_per_region_week.week_id, ad_recs_with_rates_per_region_week.success_rate, yerr=ad_recs_with_rates_per_region_week.success_rate_ci95_high - ad_recs_with_rates_per_region_week.success_rate, fmt='.k');\n",
    "\n",
    "plt.xlabel('Week id')\n",
    "plt.ylabel('Success rate')\n",
    "plt.title('Success rate per region')\n",
    "\n",
    "\n",
    "\n"
   ]
  },
  {
   "cell_type": "markdown",
   "id": "f417703c-0d93-4aee-8a3c-24d6c9e66978",
   "metadata": {},
   "source": [
    "Produce the following requestser proportion graph:"
   ]
  },
  {
   "cell_type": "code",
   "execution_count": 103,
   "id": "5d89892f-ca63-4273-b917-2c0d4ef91a79",
   "metadata": {},
   "outputs": [
    {
     "data": {
      "application/vnd.plotly.v1+json": {
       "config": {
        "linkText": "Export to plot.ly",
        "plotlyServerURL": "https://plot.ly",
        "showLink": true
       },
       "data": [
        {
         "marker": {
          "color": "rgba(255, 153, 51, 0.6)",
          "line": {
           "color": "rgba(255, 153, 51, 1.0)",
           "width": 1
          }
         },
         "name": "Allthetopbananas.com",
         "orientation": "v",
         "text": "",
         "type": "bar",
         "visible": true,
         "x": [
          "2021-week_33",
          "2021-week_34",
          "2021-week_35",
          "2021-week_36",
          "2021-week_37",
          "2021-week_38",
          "2021-week_39",
          "2021-week_40",
          "2021-week_41",
          "2021-week_42",
          "2021-week_43",
          "2021-week_44",
          "2021-week_45",
          "2021-week_46",
          "2021-week_47",
          "2021-week_48",
          "2021-week_49",
          "2021-week_50",
          "2021-week_51",
          "2022-week_01",
          "2022-week_02",
          "2022-week_03",
          "2022-week_04",
          "2022-week_05",
          "2022-week_06",
          "2022-week_52"
         ],
         "y": [
          0.0004876010030649206,
          0.00020875374017117806,
          0.0004870242816391846,
          0.0009728978457261987,
          0.000764313507504169,
          0.0009758137589740016,
          0.000416204217536071,
          0.0009718172983479105,
          0.0006954102920723226,
          0.0002782415136338342,
          0.00020881186051367718,
          0.0006993496048674732,
          0.00110803324099723,
          0.0007665505226480836,
          0.00034717400361060965,
          0.0004859761177450708,
          0.0005579967915184488,
          0.0005554012774229381,
          0.00046856696602889497,
          0.0004171011470281543,
          0.0004853359217915829,
          0.0005587762799469162,
          0.0005568316280364725,
          0.00034814092744743074,
          0.00027799013135033706,
          0.0008788449466415569
         ]
        },
        {
         "marker": {
          "color": "rgba(55, 128, 191, 0.6)",
          "line": {
           "color": "rgba(55, 128, 191, 1.0)",
           "width": 1
          }
         },
         "name": "Altammune",
         "orientation": "v",
         "text": "",
         "type": "bar",
         "visible": true,
         "x": [
          "2021-week_33",
          "2021-week_34",
          "2021-week_35",
          "2021-week_36",
          "2021-week_37",
          "2021-week_38",
          "2021-week_39",
          "2021-week_40",
          "2021-week_41",
          "2021-week_42",
          "2021-week_43",
          "2021-week_44",
          "2021-week_45",
          "2021-week_46",
          "2021-week_47",
          "2021-week_48",
          "2021-week_49",
          "2021-week_50",
          "2021-week_51",
          "2022-week_01",
          "2022-week_02",
          "2022-week_03",
          "2022-week_04",
          "2022-week_05",
          "2022-week_06",
          "2022-week_52"
         ],
         "y": [
          "",
          "",
          6.957489737702637e-05,
          "",
          "",
          6.970098278385725e-05,
          "",
          0.00013883104262113008,
          "",
          6.956037840845854e-05,
          "",
          "",
          "",
          "",
          "",
          "",
          "",
          "",
          "",
          "",
          "",
          "",
          "",
          "",
          "",
          ""
         ]
        },
        {
         "marker": {
          "color": "rgba(50, 171, 96, 0.6)",
          "line": {
           "color": "rgba(50, 171, 96, 1.0)",
           "width": 1
          }
         },
         "name": "Bizanga",
         "orientation": "v",
         "text": "",
         "type": "bar",
         "visible": true,
         "x": [
          "2021-week_33",
          "2021-week_34",
          "2021-week_35",
          "2021-week_36",
          "2021-week_37",
          "2021-week_38",
          "2021-week_39",
          "2021-week_40",
          "2021-week_41",
          "2021-week_42",
          "2021-week_43",
          "2021-week_44",
          "2021-week_45",
          "2021-week_46",
          "2021-week_47",
          "2021-week_48",
          "2021-week_49",
          "2021-week_50",
          "2021-week_51",
          "2022-week_01",
          "2022-week_02",
          "2022-week_03",
          "2022-week_04",
          "2022-week_05",
          "2022-week_06",
          "2022-week_52"
         ],
         "y": [
          0.007174700473669545,
          0.006888873425648877,
          0.005705141584916162,
          0.005281445448227936,
          0.005350194552529183,
          0.005436676657140866,
          0.004786348501664817,
          0.004442593363876163,
          0.005980528511821975,
          0.006886477462437396,
          0.004941880698823693,
          0.004126162668718092,
          0.004224376731301939,
          0.006202090592334495,
          0.007082349673656437,
          0.006248264371008053,
          0.0076724558833786705,
          0.006803665648430992,
          0.006794221007418977,
          0.007438303788668752,
          0.006378700686403661,
          0.004540057274568694,
          0.003758613489246189,
          0.0034117810889848213,
          0.003891861838904719,
          0.006089139987445072
         ]
        },
        {
         "marker": {
          "color": "rgba(128, 0, 128, 0.6)",
          "line": {
           "color": "rgba(128, 0, 128, 1.0)",
           "width": 1
          }
         },
         "name": "Crescendo Networks",
         "orientation": "v",
         "text": "",
         "type": "bar",
         "visible": true,
         "x": [
          "2021-week_33",
          "2021-week_34",
          "2021-week_35",
          "2021-week_36",
          "2021-week_37",
          "2021-week_38",
          "2021-week_39",
          "2021-week_40",
          "2021-week_41",
          "2021-week_42",
          "2021-week_43",
          "2021-week_44",
          "2021-week_45",
          "2021-week_46",
          "2021-week_47",
          "2021-week_48",
          "2021-week_49",
          "2021-week_50",
          "2021-week_51",
          "2022-week_01",
          "2022-week_02",
          "2022-week_03",
          "2022-week_04",
          "2022-week_05",
          "2022-week_06",
          "2022-week_52"
         ],
         "y": [
          0.0030649205906937865,
          0.0057059355646788676,
          0.00480066791901482,
          0.007366226546212648,
          0.006183991106170094,
          0.006482191398898725,
          0.0054106548279689234,
          0.017700957934194086,
          0.006397774687065368,
          0.0034084585420144685,
          0.004106633256768985,
          0.004685642352612071,
          0.0033240997229916896,
          0.010871080139372822,
          0.003749479238994584,
          0.003748958622604832,
          0.004463974332147591,
          0.003957234101638433,
          0.006247559547051933,
          0.0026416405978449773,
          0.0033973514525410804,
          0.002584340294754488,
          0.0030625739542005986,
          0.003342152903495335,
          0.002084925985127528,
          0.005712492153170119
         ]
        },
        {
         "marker": {
          "color": "rgba(219, 64, 82, 0.6)",
          "line": {
           "color": "rgba(219, 64, 82, 1.0)",
           "width": 1
          }
         },
         "name": "Cue",
         "orientation": "v",
         "text": "",
         "type": "bar",
         "visible": true,
         "x": [
          "2021-week_33",
          "2021-week_34",
          "2021-week_35",
          "2021-week_36",
          "2021-week_37",
          "2021-week_38",
          "2021-week_39",
          "2021-week_40",
          "2021-week_41",
          "2021-week_42",
          "2021-week_43",
          "2021-week_44",
          "2021-week_45",
          "2021-week_46",
          "2021-week_47",
          "2021-week_48",
          "2021-week_49",
          "2021-week_50",
          "2021-week_51",
          "2022-week_01",
          "2022-week_02",
          "2022-week_03",
          "2022-week_04",
          "2022-week_05",
          "2022-week_06",
          "2022-week_52"
         ],
         "y": [
          "",
          6.958458005705935e-05,
          "",
          "",
          "",
          0.0001394019655677145,
          "",
          6.941552131056504e-05,
          "",
          "",
          "",
          "",
          "",
          "",
          "",
          "",
          "",
          "",
          "",
          "",
          "",
          "",
          "",
          "",
          "",
          ""
         ]
        },
        {
         "marker": {
          "color": "rgba(0, 128, 128, 0.6)",
          "line": {
           "color": "rgba(0, 128, 128, 1.0)",
           "width": 1
          }
         },
         "name": "Cuiker",
         "orientation": "v",
         "text": "",
         "type": "bar",
         "visible": true,
         "x": [
          "2021-week_33",
          "2021-week_34",
          "2021-week_35",
          "2021-week_36",
          "2021-week_37",
          "2021-week_38",
          "2021-week_39",
          "2021-week_40",
          "2021-week_41",
          "2021-week_42",
          "2021-week_43",
          "2021-week_44",
          "2021-week_45",
          "2021-week_46",
          "2021-week_47",
          "2021-week_48",
          "2021-week_49",
          "2021-week_50",
          "2021-week_51",
          "2022-week_01",
          "2022-week_02",
          "2022-week_03",
          "2022-week_04",
          "2022-week_05",
          "2022-week_06",
          "2022-week_52"
         ],
         "y": [
          6.965728615213152e-05,
          6.958458005705935e-05,
          6.957489737702637e-05,
          6.949270326615705e-05,
          "",
          "",
          "",
          "",
          6.954102920723227e-05,
          6.956037840845854e-05,
          6.960395350455906e-05,
          "",
          6.925207756232688e-05,
          6.968641114982578e-05,
          0.00013886960144424384,
          "",
          0.0002092487968194183,
          0.00013885031935573453,
          7.809449433814917e-05,
          6.951685783802571e-05,
          6.933370311308327e-05,
          6.984703499336453e-05,
          "",
          "",
          6.949753283758427e-05,
          6.277463904582549e-05
         ]
        },
        {
         "marker": {
          "color": "rgba(255, 255, 51, 0.6)",
          "line": {
           "color": "rgba(255, 255, 51, 1.0)",
           "width": 1
          }
         },
         "name": "Derceto",
         "orientation": "v",
         "text": "",
         "type": "bar",
         "visible": true,
         "x": [
          "2021-week_33",
          "2021-week_34",
          "2021-week_35",
          "2021-week_36",
          "2021-week_37",
          "2021-week_38",
          "2021-week_39",
          "2021-week_40",
          "2021-week_41",
          "2021-week_42",
          "2021-week_43",
          "2021-week_44",
          "2021-week_45",
          "2021-week_46",
          "2021-week_47",
          "2021-week_48",
          "2021-week_49",
          "2021-week_50",
          "2021-week_51",
          "2022-week_01",
          "2022-week_02",
          "2022-week_03",
          "2022-week_04",
          "2022-week_05",
          "2022-week_06",
          "2022-week_52"
         ],
         "y": [
          "",
          "",
          "",
          "",
          6.948304613674263e-05,
          "",
          "",
          "",
          "",
          "",
          "",
          "",
          "",
          "",
          "",
          "",
          "",
          "",
          "",
          "",
          "",
          "",
          "",
          "",
          "",
          ""
         ]
        },
        {
         "marker": {
          "color": "rgba(128, 128, 0, 0.6)",
          "line": {
           "color": "rgba(128, 128, 0, 1.0)",
           "width": 1
          }
         },
         "name": "Doctorfun Entertainment, Ltd",
         "orientation": "v",
         "text": "",
         "type": "bar",
         "visible": true,
         "x": [
          "2021-week_33",
          "2021-week_34",
          "2021-week_35",
          "2021-week_36",
          "2021-week_37",
          "2021-week_38",
          "2021-week_39",
          "2021-week_40",
          "2021-week_41",
          "2021-week_42",
          "2021-week_43",
          "2021-week_44",
          "2021-week_45",
          "2021-week_46",
          "2021-week_47",
          "2021-week_48",
          "2021-week_49",
          "2021-week_50",
          "2021-week_51",
          "2022-week_01",
          "2022-week_02",
          "2022-week_03",
          "2022-week_04",
          "2022-week_05",
          "2022-week_06",
          "2022-week_52"
         ],
         "y": [
          "",
          "",
          0.0002782995895081055,
          0.00048644892286309936,
          0.0009032795997776543,
          0.0010455147417578587,
          0.0012486126526082132,
          0.0009718172983479105,
          0.0012517385257301808,
          0.0017390094602114635,
          0.0009744553490638268,
          0.0009091544863277152,
          6.925207756232688e-05,
          6.968641114982578e-05,
          "",
          0.00013885031935573453,
          0.0002092487968194183,
          "",
          7.809449433814917e-05,
          6.951685783802571e-05,
          0.0004853359217915829,
          0.0007683173849270099,
          0.0008352474420547087,
          0.0007659100403843476,
          0.0008339703940510112,
          6.277463904582549e-05
         ]
        },
        {
         "marker": {
          "color": "rgba(251, 128, 114, 0.6)",
          "line": {
           "color": "rgba(251, 128, 114, 1.0)",
           "width": 1
          }
         },
         "name": "Earth Networks",
         "orientation": "v",
         "text": "",
         "type": "bar",
         "visible": true,
         "x": [
          "2021-week_33",
          "2021-week_34",
          "2021-week_35",
          "2021-week_36",
          "2021-week_37",
          "2021-week_38",
          "2021-week_39",
          "2021-week_40",
          "2021-week_41",
          "2021-week_42",
          "2021-week_43",
          "2021-week_44",
          "2021-week_45",
          "2021-week_46",
          "2021-week_47",
          "2021-week_48",
          "2021-week_49",
          "2021-week_50",
          "2021-week_51",
          "2022-week_01",
          "2022-week_02",
          "2022-week_03",
          "2022-week_04",
          "2022-week_05",
          "2022-week_06",
          "2022-week_52"
         ],
         "y": [
          "",
          "",
          6.957489737702637e-05,
          0.0001389854065323141,
          "",
          "",
          "",
          "",
          6.954102920723227e-05,
          "",
          "",
          "",
          "",
          "",
          "",
          "",
          "",
          "",
          "",
          "",
          "",
          "",
          "",
          "",
          "",
          ""
         ]
        },
        {
         "marker": {
          "color": "rgba(128, 177, 211, 0.6)",
          "line": {
           "color": "rgba(128, 177, 211, 1.0)",
           "width": 1
          }
         },
         "name": "Extreme DA",
         "orientation": "v",
         "text": "",
         "type": "bar",
         "visible": true,
         "x": [
          "2021-week_33",
          "2021-week_34",
          "2021-week_35",
          "2021-week_36",
          "2021-week_37",
          "2021-week_38",
          "2021-week_39",
          "2021-week_40",
          "2021-week_41",
          "2021-week_42",
          "2021-week_43",
          "2021-week_44",
          "2021-week_45",
          "2021-week_46",
          "2021-week_47",
          "2021-week_48",
          "2021-week_49",
          "2021-week_50",
          "2021-week_51",
          "2022-week_01",
          "2022-week_02",
          "2022-week_03",
          "2022-week_04",
          "2022-week_05",
          "2022-week_06",
          "2022-week_52"
         ],
         "y": [
          0.03517692950682642,
          0.08892909331292186,
          0.09601335838029638,
          0.09263377345378736,
          0.0883129516397999,
          0.14776608350177736,
          0.170019422863485,
          0.1646536165486603,
          0.1588317107093185,
          0.14322481914301613,
          0.15653929143175332,
          0.16791384012868033,
          0.18421052631578946,
          0.19658536585365854,
          0.20844327176781002,
          0.18286587059150236,
          0.12582827648741018,
          0.13843376839766733,
          0.21288559156579462,
          0.20208550573514078,
          0.19663038202870414,
          0.17531605783334497,
          0.16906800306257394,
          0.17156384904609387,
          0.16686357634303983,
          0.16064030131826743
         ]
        },
        {
         "marker": {
          "color": "rgba(128, 177, 211, 0.6)",
          "line": {
           "color": "rgba(128, 177, 211, 0.8999999999999999)",
           "width": 1
          }
         },
         "name": "Fancy",
         "orientation": "v",
         "text": "",
         "type": "bar",
         "visible": true,
         "x": [
          "2021-week_33",
          "2021-week_34",
          "2021-week_35",
          "2021-week_36",
          "2021-week_37",
          "2021-week_38",
          "2021-week_39",
          "2021-week_40",
          "2021-week_41",
          "2021-week_42",
          "2021-week_43",
          "2021-week_44",
          "2021-week_45",
          "2021-week_46",
          "2021-week_47",
          "2021-week_48",
          "2021-week_49",
          "2021-week_50",
          "2021-week_51",
          "2022-week_01",
          "2022-week_02",
          "2022-week_03",
          "2022-week_04",
          "2022-week_05",
          "2022-week_06",
          "2022-week_52"
         ],
         "y": [
          0.06485093340763444,
          0.05260594252313687,
          0.06129548458916023,
          0.0739402362751911,
          0.0821289605336298,
          0.08106224297762599,
          0.07450055493895671,
          0.08322921005136749,
          0.10069541029207232,
          0.07957707289927657,
          0.08561286281060765,
          0.0904259039093643,
          0.09217451523545707,
          0.0713588850174216,
          0.039786140813775864,
          0.07025826159400167,
          0.11494733905280044,
          0.11170508192168842,
          0.09160484185864896,
          0.06743135210288495,
          0.0704430423628926,
          0.09170915694628763,
          0.12382543328461057,
          0.13681938448684028,
          0.15671693654875252,
          0.08242310106716887
         ]
        },
        {
         "marker": {
          "color": "rgba(255, 153, 51, 0.6)",
          "line": {
           "color": "rgba(255, 153, 51, 0.8999999999999999)",
           "width": 1
          }
         },
         "name": "FlagTap",
         "orientation": "v",
         "text": "",
         "type": "bar",
         "visible": true,
         "x": [
          "2021-week_33",
          "2021-week_34",
          "2021-week_35",
          "2021-week_36",
          "2021-week_37",
          "2021-week_38",
          "2021-week_39",
          "2021-week_40",
          "2021-week_41",
          "2021-week_42",
          "2021-week_43",
          "2021-week_44",
          "2021-week_45",
          "2021-week_46",
          "2021-week_47",
          "2021-week_48",
          "2021-week_49",
          "2021-week_50",
          "2021-week_51",
          "2022-week_01",
          "2022-week_02",
          "2022-week_03",
          "2022-week_04",
          "2022-week_05",
          "2022-week_06",
          "2022-week_52"
         ],
         "y": [
          0.00013931457230426304,
          "",
          "",
          "",
          "",
          "",
          "",
          "",
          "",
          "",
          "",
          "",
          "",
          "",
          "",
          "",
          "",
          "",
          "",
          "",
          "",
          "",
          "",
          "",
          "",
          ""
         ]
        },
        {
         "marker": {
          "color": "rgba(55, 128, 191, 0.6)",
          "line": {
           "color": "rgba(55, 128, 191, 0.8999999999999999)",
           "width": 1
          }
         },
         "name": "Fry Multimedia",
         "orientation": "v",
         "text": "",
         "type": "bar",
         "visible": true,
         "x": [
          "2021-week_33",
          "2021-week_34",
          "2021-week_35",
          "2021-week_36",
          "2021-week_37",
          "2021-week_38",
          "2021-week_39",
          "2021-week_40",
          "2021-week_41",
          "2021-week_42",
          "2021-week_43",
          "2021-week_44",
          "2021-week_45",
          "2021-week_46",
          "2021-week_47",
          "2021-week_48",
          "2021-week_49",
          "2021-week_50",
          "2021-week_51",
          "2022-week_01",
          "2022-week_02",
          "2022-week_03",
          "2022-week_04",
          "2022-week_05",
          "2022-week_06",
          "2022-week_52"
         ],
         "y": [
          0.01567288938422959,
          0.017744067914550136,
          0.017950323523272804,
          0.01716469770674079,
          0.017857142857142856,
          0.01575242210915174,
          0.014567147613762486,
          0.018256282104678605,
          0.0196105702364395,
          0.0134251530328325,
          0.012111087909793277,
          0.01258829288761452,
          0.010110803324099723,
          0.00975609756097561,
          0.011803916122760728,
          0.014509858372674257,
          0.012624677408104903,
          0.009233546237156345,
          0.01101132370167903,
          0.016336461591936045,
          0.016501421340913817,
          0.014178948103653,
          0.012041483956288717,
          0.009956830524996518,
          0.012162068246577246,
          0.006528562460765851
         ]
        },
        {
         "marker": {
          "color": "rgba(50, 171, 96, 0.6)",
          "line": {
           "color": "rgba(50, 171, 96, 0.8999999999999999)",
           "width": 1
          }
         },
         "name": "G-mode",
         "orientation": "v",
         "text": "",
         "type": "bar",
         "visible": true,
         "x": [
          "2021-week_33",
          "2021-week_34",
          "2021-week_35",
          "2021-week_36",
          "2021-week_37",
          "2021-week_38",
          "2021-week_39",
          "2021-week_40",
          "2021-week_41",
          "2021-week_42",
          "2021-week_43",
          "2021-week_44",
          "2021-week_45",
          "2021-week_46",
          "2021-week_47",
          "2021-week_48",
          "2021-week_49",
          "2021-week_50",
          "2021-week_51",
          "2022-week_01",
          "2022-week_02",
          "2022-week_03",
          "2022-week_04",
          "2022-week_05",
          "2022-week_06",
          "2022-week_52"
         ],
         "y": [
          0.0026469768737809973,
          0.0026442140421682556,
          0.0030612954845891604,
          0.005628908964558721,
          0.005350194552529183,
          0.002997142259705862,
          0.004786348501664817,
          0.004928502013050118,
          0.005563282336578581,
          0.0025041736227045075,
          0.0021577225586413306,
          0.002587593538009651,
          0.004293628808864266,
          0.0029965156794425087,
          0.002846826829606999,
          0.0036101083032490976,
          0.00411522633744856,
          0.002360455429047487,
          0.004607575165950801,
          0.0022940563086548487,
          0.003328017749427997,
          0.002374799189774394,
          0.0027841581401823624,
          0.002297730121153043,
          0.0014594481895892695,
          0.004331450094161958
         ]
        },
        {
         "marker": {
          "color": "rgba(128, 0, 128, 0.6)",
          "line": {
           "color": "rgba(128, 0, 128, 0.8999999999999999)",
           "width": 1
          }
         },
         "name": "Glory Medical",
         "orientation": "v",
         "text": "",
         "type": "bar",
         "visible": true,
         "x": [
          "2021-week_33",
          "2021-week_34",
          "2021-week_35",
          "2021-week_36",
          "2021-week_37",
          "2021-week_38",
          "2021-week_39",
          "2021-week_40",
          "2021-week_41",
          "2021-week_42",
          "2021-week_43",
          "2021-week_44",
          "2021-week_45",
          "2021-week_46",
          "2021-week_47",
          "2021-week_48",
          "2021-week_49",
          "2021-week_50",
          "2021-week_51",
          "2022-week_01",
          "2022-week_02",
          "2022-week_03",
          "2022-week_04",
          "2022-week_05",
          "2022-week_06",
          "2022-week_52"
         ],
         "y": [
          0.0034132070214544443,
          0.0007654303806276529,
          0.00013914979475405275,
          0.0006254343293954135,
          0.0002084491384102279,
          0.00034850491391928625,
          0.0002081021087680355,
          0.00020824656393169514,
          6.954102920723227e-05,
          6.956037840845854e-05,
          6.960395350455906e-05,
          0.0003496748024337366,
          "",
          0.00013937282229965157,
          0.00020830440216636578,
          0.00027770063871146905,
          0.0004184975936388366,
          0.0003471257983893363,
          0.00031237797735259666,
          0.00013903371567605143,
          0.00013866740622616653,
          6.984703499336453e-05,
          "",
          0.0001392563709789723,
          "",
          6.277463904582549e-05
         ]
        },
        {
         "marker": {
          "color": "rgba(219, 64, 82, 0.6)",
          "line": {
           "color": "rgba(219, 64, 82, 0.8999999999999999)",
           "width": 1
          }
         },
         "name": "Joules Clothing",
         "orientation": "v",
         "text": "",
         "type": "bar",
         "visible": true,
         "x": [
          "2021-week_33",
          "2021-week_34",
          "2021-week_35",
          "2021-week_36",
          "2021-week_37",
          "2021-week_38",
          "2021-week_39",
          "2021-week_40",
          "2021-week_41",
          "2021-week_42",
          "2021-week_43",
          "2021-week_44",
          "2021-week_45",
          "2021-week_46",
          "2021-week_47",
          "2021-week_48",
          "2021-week_49",
          "2021-week_50",
          "2021-week_51",
          "2022-week_01",
          "2022-week_02",
          "2022-week_03",
          "2022-week_04",
          "2022-week_05",
          "2022-week_06",
          "2022-week_52"
         ],
         "y": [
          0.00027862914460852607,
          6.958458005705935e-05,
          0.00034787448688513185,
          0.00020847810979847116,
          "",
          6.970098278385725e-05,
          "",
          "",
          6.954102920723227e-05,
          0.0001391207568169171,
          "",
          0.00020980488146024197,
          6.925207756232688e-05,
          0.00013937282229965157,
          6.943480072212192e-05,
          "",
          "",
          "",
          "",
          "",
          6.933370311308327e-05,
          "",
          "",
          "",
          "",
          ""
         ]
        },
        {
         "marker": {
          "color": "rgba(0, 128, 128, 0.6)",
          "line": {
           "color": "rgba(0, 128, 128, 0.8999999999999999)",
           "width": 1
          }
         },
         "name": "Jun Group",
         "orientation": "v",
         "text": "",
         "type": "bar",
         "visible": true,
         "x": [
          "2021-week_33",
          "2021-week_34",
          "2021-week_35",
          "2021-week_36",
          "2021-week_37",
          "2021-week_38",
          "2021-week_39",
          "2021-week_40",
          "2021-week_41",
          "2021-week_42",
          "2021-week_43",
          "2021-week_44",
          "2021-week_45",
          "2021-week_46",
          "2021-week_47",
          "2021-week_48",
          "2021-week_49",
          "2021-week_50",
          "2021-week_51",
          "2022-week_01",
          "2022-week_02",
          "2022-week_03",
          "2022-week_04",
          "2022-week_05",
          "2022-week_06",
          "2022-week_52"
         ],
         "y": [
          "",
          "",
          "",
          "",
          "",
          "",
          "",
          "",
          "",
          "",
          "",
          6.993496048674733e-05,
          "",
          "",
          "",
          "",
          "",
          "",
          7.809449433814917e-05,
          "",
          "",
          "",
          0.00013920790700911812,
          "",
          "",
          ""
         ]
        },
        {
         "marker": {
          "color": "rgba(255, 255, 51, 0.6)",
          "line": {
           "color": "rgba(255, 255, 51, 0.8999999999999999)",
           "width": 1
          }
         },
         "name": "LocalVox Media",
         "orientation": "v",
         "text": "",
         "type": "bar",
         "visible": true,
         "x": [
          "2021-week_33",
          "2021-week_34",
          "2021-week_35",
          "2021-week_36",
          "2021-week_37",
          "2021-week_38",
          "2021-week_39",
          "2021-week_40",
          "2021-week_41",
          "2021-week_42",
          "2021-week_43",
          "2021-week_44",
          "2021-week_45",
          "2021-week_46",
          "2021-week_47",
          "2021-week_48",
          "2021-week_49",
          "2021-week_50",
          "2021-week_51",
          "2022-week_01",
          "2022-week_02",
          "2022-week_03",
          "2022-week_04",
          "2022-week_05",
          "2022-week_06",
          "2022-week_52"
         ],
         "y": [
          0.015254945667316801,
          0.020875374017117806,
          0.01551520211507688,
          0.01535788742182071,
          0.01764869371873263,
          0.015961525057503312,
          0.013665371809100999,
          0.016034985422740525,
          0.015716272600834493,
          0.011268781302170284,
          0.009396533723115472,
          0.014546471781243443,
          0.017243767313019392,
          0.016445993031358887,
          0.017914178586307457,
          0.01825881699527909,
          0.02218037246285834,
          0.016870313801721742,
          0.01663412729402577,
          0.016127911018421967,
          0.01504541357553907,
          0.011175525598938325,
          0.0119022760492796,
          0.011001253307338811,
          0.010146639794287303,
          0.021468926553672316
         ]
        },
        {
         "marker": {
          "color": "rgba(128, 128, 0, 0.6)",
          "line": {
           "color": "rgba(128, 128, 0, 0.8999999999999999)",
           "width": 1
          }
         },
         "name": "Marketo Japan",
         "orientation": "v",
         "text": "",
         "type": "bar",
         "visible": true,
         "x": [
          "2021-week_33",
          "2021-week_34",
          "2021-week_35",
          "2021-week_36",
          "2021-week_37",
          "2021-week_38",
          "2021-week_39",
          "2021-week_40",
          "2021-week_41",
          "2021-week_42",
          "2021-week_43",
          "2021-week_44",
          "2021-week_45",
          "2021-week_46",
          "2021-week_47",
          "2021-week_48",
          "2021-week_49",
          "2021-week_50",
          "2021-week_51",
          "2022-week_01",
          "2022-week_02",
          "2022-week_03",
          "2022-week_04",
          "2022-week_05",
          "2022-week_06",
          "2022-week_52"
         ],
         "y": [
          "",
          "",
          "",
          "",
          6.948304613674263e-05,
          "",
          "",
          "",
          "",
          "",
          "",
          "",
          "",
          "",
          "",
          "",
          "",
          "",
          "",
          "",
          "",
          "",
          "",
          "",
          "",
          ""
         ]
        },
        {
         "marker": {
          "color": "rgba(251, 128, 114, 0.6)",
          "line": {
           "color": "rgba(251, 128, 114, 0.8999999999999999)",
           "width": 1
          }
         },
         "name": "Metranome",
         "orientation": "v",
         "text": "",
         "type": "bar",
         "visible": true,
         "x": [
          "2021-week_33",
          "2021-week_34",
          "2021-week_35",
          "2021-week_36",
          "2021-week_37",
          "2021-week_38",
          "2021-week_39",
          "2021-week_40",
          "2021-week_41",
          "2021-week_42",
          "2021-week_43",
          "2021-week_44",
          "2021-week_45",
          "2021-week_46",
          "2021-week_47",
          "2021-week_48",
          "2021-week_49",
          "2021-week_50",
          "2021-week_51",
          "2022-week_01",
          "2022-week_02",
          "2022-week_03",
          "2022-week_04",
          "2022-week_05",
          "2022-week_06",
          "2022-week_52"
         ],
         "y": [
          0.00027862914460852607,
          0.00020875374017117806,
          0.0002782995895081055,
          0.00034746351633078526,
          6.948304613674263e-05,
          6.970098278385725e-05,
          0.00013873473917869035,
          0.00013883104262113008,
          "",
          "",
          "",
          6.993496048674733e-05,
          "",
          6.968641114982578e-05,
          "",
          "",
          0.0001394991978796122,
          0.00013885031935573453,
          7.809449433814917e-05,
          "",
          "",
          "",
          0.00013920790700911812,
          6.962818548948615e-05,
          6.949753283758427e-05,
          6.277463904582549e-05
         ]
        },
        {
         "marker": {
          "color": "rgba(251, 128, 114, 0.6)",
          "line": {
           "color": "rgba(251, 128, 114, 0.7999999999999998)",
           "width": 1
          }
         },
         "name": "Mission Street Manufacturing",
         "orientation": "v",
         "text": "",
         "type": "bar",
         "visible": true,
         "x": [
          "2021-week_33",
          "2021-week_34",
          "2021-week_35",
          "2021-week_36",
          "2021-week_37",
          "2021-week_38",
          "2021-week_39",
          "2021-week_40",
          "2021-week_41",
          "2021-week_42",
          "2021-week_43",
          "2021-week_44",
          "2021-week_45",
          "2021-week_46",
          "2021-week_47",
          "2021-week_48",
          "2021-week_49",
          "2021-week_50",
          "2021-week_51",
          "2022-week_01",
          "2022-week_02",
          "2022-week_03",
          "2022-week_04",
          "2022-week_05",
          "2022-week_06",
          "2022-week_52"
         ],
         "y": [
          0.0009752020061298412,
          0.0006958458005705936,
          0.0010436234606553956,
          0.00034746351633078526,
          0.0003474152306837132,
          0.0006273088450547153,
          0.000416204217536071,
          0.0003470776065528252,
          0.0004172461752433936,
          0.00041736227045075126,
          0.00041762372102735435,
          0.0009091544863277152,
          0.0006232686980609418,
          0.0005574912891986063,
          0.0005554784057769754,
          0.00041655095806720355,
          0.0009067447862174793,
          0.00041655095806720355,
          0.0003904724716907458,
          0.0003475842891901286,
          0.00020800110933924982,
          0.0004889292449535517,
          6.960395350455906e-05,
          0.00020888455646845844,
          0.0005559802627006741,
          0.00025109855618330194
         ]
        },
        {
         "marker": {
          "color": "rgba(128, 177, 211, 0.6)",
          "line": {
           "color": "rgba(128, 177, 211, 0.7999999999999998)",
           "width": 1
          }
         },
         "name": "MoJoe Brewing Company",
         "orientation": "v",
         "text": "",
         "type": "bar",
         "visible": true,
         "x": [
          "2021-week_33",
          "2021-week_34",
          "2021-week_35",
          "2021-week_36",
          "2021-week_37",
          "2021-week_38",
          "2021-week_39",
          "2021-week_40",
          "2021-week_41",
          "2021-week_42",
          "2021-week_43",
          "2021-week_44",
          "2021-week_45",
          "2021-week_46",
          "2021-week_47",
          "2021-week_48",
          "2021-week_49",
          "2021-week_50",
          "2021-week_51",
          "2022-week_01",
          "2022-week_02",
          "2022-week_03",
          "2022-week_04",
          "2022-week_05",
          "2022-week_06",
          "2022-week_52"
         ],
         "y": [
          0.09424630816383393,
          0.07890891378470531,
          0.10387532178390037,
          0.08881167477414871,
          0.09672040022234575,
          0.0759740712344044,
          0.08011931187569367,
          0.07309454394002499,
          0.05744089012517385,
          0.041666666666666664,
          0.0680030625739542,
          0.06007413105811595,
          0.056509695290858725,
          0.09874564459930314,
          0.0611026246354673,
          0.13732296584282144,
          0.0823045267489712,
          0.12454873646209386,
          0.07169074580242094,
          0.07897115050399722,
          0.08028842820495043,
          0.10169728295033875,
          0.06507969652676272,
          0.08174348976465673,
          0.06393773021057753,
          0.14055241682360325
         ]
        },
        {
         "marker": {
          "color": "rgba(255, 153, 51, 0.6)",
          "line": {
           "color": "rgba(255, 153, 51, 0.7999999999999998)",
           "width": 1
          }
         },
         "name": "Modanisa",
         "orientation": "v",
         "text": "",
         "type": "bar",
         "visible": true,
         "x": [
          "2021-week_33",
          "2021-week_34",
          "2021-week_35",
          "2021-week_36",
          "2021-week_37",
          "2021-week_38",
          "2021-week_39",
          "2021-week_40",
          "2021-week_41",
          "2021-week_42",
          "2021-week_43",
          "2021-week_44",
          "2021-week_45",
          "2021-week_46",
          "2021-week_47",
          "2021-week_48",
          "2021-week_49",
          "2021-week_50",
          "2021-week_51",
          "2022-week_01",
          "2022-week_02",
          "2022-week_03",
          "2022-week_04",
          "2022-week_05",
          "2022-week_06",
          "2022-week_52"
         ],
         "y": [
          0.009055447199777097,
          0.008141395866675945,
          0.007583663814095874,
          0.007157748436414177,
          0.006461923290717065,
          0.005854882553844009,
          0.02746947835738069,
          0.024711925586561156,
          0.026564673157162728,
          0.022746243739565943,
          0.03048653163499687,
          0.01594517099097839,
          0.006232686980609419,
          0.006480836236933798,
          0.007290654075822803,
          0.006525965009719522,
          0.006277463904582548,
          0.005762288253262983,
          0.004919953143303397,
          0.004449078901633646,
          0.003328017749427997,
          0.0034923517496682267,
          0.0027841581401823624,
          0.004108062943879683,
          0.0025714087149906178,
          0.004331450094161958
         ]
        },
        {
         "marker": {
          "color": "rgba(55, 128, 191, 0.6)",
          "line": {
           "color": "rgba(55, 128, 191, 0.7999999999999998)",
           "width": 1
          }
         },
         "name": "OpenDesks, Inc.",
         "orientation": "v",
         "text": "",
         "type": "bar",
         "visible": true,
         "x": [
          "2021-week_33",
          "2021-week_34",
          "2021-week_35",
          "2021-week_36",
          "2021-week_37",
          "2021-week_38",
          "2021-week_39",
          "2021-week_40",
          "2021-week_41",
          "2021-week_42",
          "2021-week_43",
          "2021-week_44",
          "2021-week_45",
          "2021-week_46",
          "2021-week_47",
          "2021-week_48",
          "2021-week_49",
          "2021-week_50",
          "2021-week_51",
          "2022-week_01",
          "2022-week_02",
          "2022-week_03",
          "2022-week_04",
          "2022-week_05",
          "2022-week_06",
          "2022-week_52"
         ],
         "y": [
          0.00041794371691278906,
          0.0004175074803423561,
          0.0004870242816391846,
          0.001320361362056984,
          0.0009032795997776543,
          0.0012546176901094305,
          0.00201165371809101,
          0.0023601277245592113,
          0.0018080667593880389,
          0.0019476905954368391,
          0.001113663256072945,
          0.0018882439331421778,
          0.001592797783933518,
          0.0029965156794425087,
          0.002569087626718511,
          0.0014579283532352124,
          0.0015344911766757342,
          0.0008331019161344071,
          0.002420929324482624,
          0.00145985401459854,
          0.0016640088747139985,
          0.001187399594887197,
          0.0009048513955592678,
          0.0008355382258738338,
          0.0009034679268885954,
          0.0018832391713747645
         ]
        },
        {
         "marker": {
          "color": "rgba(50, 171, 96, 0.6)",
          "line": {
           "color": "rgba(50, 171, 96, 0.7999999999999998)",
           "width": 1
          }
         },
         "name": "PageBites",
         "orientation": "v",
         "text": "",
         "type": "bar",
         "visible": true,
         "x": [
          "2021-week_33",
          "2021-week_34",
          "2021-week_35",
          "2021-week_36",
          "2021-week_37",
          "2021-week_38",
          "2021-week_39",
          "2021-week_40",
          "2021-week_41",
          "2021-week_42",
          "2021-week_43",
          "2021-week_44",
          "2021-week_45",
          "2021-week_46",
          "2021-week_47",
          "2021-week_48",
          "2021-week_49",
          "2021-week_50",
          "2021-week_51",
          "2022-week_01",
          "2022-week_02",
          "2022-week_03",
          "2022-week_04",
          "2022-week_05",
          "2022-week_06",
          "2022-week_52"
         ],
         "y": [
          0.0016021175814990248,
          0.0006958458005705936,
          0.001113198358032422,
          0.0008339124391938846,
          0.0012506948304613673,
          0.0007667108106224297,
          0.00048557158712541623,
          6.941552131056504e-05,
          0.0004867872044506259,
          0.0005564830272676684,
          0.00027841581401823624,
          0.00020980488146024197,
          "",
          "",
          "",
          "",
          "",
          "",
          "",
          "",
          0.00013866740622616653,
          0.0002095411049800936,
          0.00020881186051367718,
          0.00020888455646845844,
          0.00027799013135033706,
          ""
         ]
        },
        {
         "marker": {
          "color": "rgba(128, 0, 128, 0.6)",
          "line": {
           "color": "rgba(128, 0, 128, 0.7999999999999998)",
           "width": 1
          }
         },
         "name": "Pole Star",
         "orientation": "v",
         "text": "",
         "type": "bar",
         "visible": true,
         "x": [
          "2021-week_33",
          "2021-week_34",
          "2021-week_35",
          "2021-week_36",
          "2021-week_37",
          "2021-week_38",
          "2021-week_39",
          "2021-week_40",
          "2021-week_41",
          "2021-week_42",
          "2021-week_43",
          "2021-week_44",
          "2021-week_45",
          "2021-week_46",
          "2021-week_47",
          "2021-week_48",
          "2021-week_49",
          "2021-week_50",
          "2021-week_51",
          "2022-week_01",
          "2022-week_02",
          "2022-week_03",
          "2022-week_04",
          "2022-week_05",
          "2022-week_06",
          "2022-week_52"
         ],
         "y": [
          0.0030649205906937865,
          0.0017396145014264839,
          "",
          "",
          6.948304613674263e-05,
          6.970098278385725e-05,
          0.00013873473917869035,
          6.941552131056504e-05,
          0.0011821974965229485,
          0.00020868113522537563,
          0.00020881186051367718,
          0.0006294146443807259,
          0.0017313019390581717,
          0.0011149825783972125,
          "",
          "",
          0.0001394991978796122,
          6.942515967786726e-05,
          7.809449433814917e-05,
          0.0003475842891901286,
          0.0003466685155654163,
          0.00034923517496682265,
          0.0015312869771002993,
          0.001392563709789723,
          0.0016679407881020224,
          0.00012554927809165097
         ]
        },
        {
         "marker": {
          "color": "rgba(219, 64, 82, 0.6)",
          "line": {
           "color": "rgba(219, 64, 82, 0.7999999999999998)",
           "width": 1
          }
         },
         "name": "Puentes Company",
         "orientation": "v",
         "text": "",
         "type": "bar",
         "visible": true,
         "x": [
          "2021-week_33",
          "2021-week_34",
          "2021-week_35",
          "2021-week_36",
          "2021-week_37",
          "2021-week_38",
          "2021-week_39",
          "2021-week_40",
          "2021-week_41",
          "2021-week_42",
          "2021-week_43",
          "2021-week_44",
          "2021-week_45",
          "2021-week_46",
          "2021-week_47",
          "2021-week_48",
          "2021-week_49",
          "2021-week_50",
          "2021-week_51",
          "2022-week_01",
          "2022-week_02",
          "2022-week_03",
          "2022-week_04",
          "2022-week_05",
          "2022-week_06",
          "2022-week_52"
         ],
         "y": [
          0.09452493730844247,
          0.08197063530721592,
          0.07521046406456551,
          0.07588603196664351,
          0.07406892718176765,
          0.0683069631281801,
          0.06804938956714761,
          0.06976259891711786,
          0.08817802503477051,
          0.07206455203116305,
          0.06333959768914875,
          0.07720819637736905,
          0.10297783933518005,
          0.0932404181184669,
          0.09061241494236912,
          0.0814357123021383,
          0.09130222501220618,
          0.08497639544570952,
          0.10378758297540024,
          0.09336114007646855,
          0.09061914996879983,
          0.06635468324369631,
          0.05902415257186608,
          0.05653808661746275,
          0.0583084300507332,
          0.06936597614563716
         ]
        },
        {
         "marker": {
          "color": "rgba(0, 128, 128, 0.6)",
          "line": {
           "color": "rgba(0, 128, 128, 0.7999999999999998)",
           "width": 1
          }
         },
         "name": "PureSafe water systems",
         "orientation": "v",
         "text": "",
         "type": "bar",
         "visible": true,
         "x": [
          "2021-week_33",
          "2021-week_34",
          "2021-week_35",
          "2021-week_36",
          "2021-week_37",
          "2021-week_38",
          "2021-week_39",
          "2021-week_40",
          "2021-week_41",
          "2021-week_42",
          "2021-week_43",
          "2021-week_44",
          "2021-week_45",
          "2021-week_46",
          "2021-week_47",
          "2021-week_48",
          "2021-week_49",
          "2021-week_50",
          "2021-week_51",
          "2022-week_01",
          "2022-week_02",
          "2022-week_03",
          "2022-week_04",
          "2022-week_05",
          "2022-week_06",
          "2022-week_52"
         ],
         "y": [
          "",
          "",
          "",
          "",
          "",
          "",
          "",
          "",
          "",
          "",
          "",
          "",
          "",
          "",
          "",
          "",
          "",
          "",
          "",
          "",
          "",
          "",
          "",
          6.962818548948615e-05,
          "",
          ""
         ]
        },
        {
         "marker": {
          "color": "rgba(255, 255, 51, 0.6)",
          "line": {
           "color": "rgba(255, 255, 51, 0.7999999999999998)",
           "width": 1
          }
         },
         "name": "RelayFoods",
         "orientation": "v",
         "text": "",
         "type": "bar",
         "visible": true,
         "x": [
          "2021-week_33",
          "2021-week_34",
          "2021-week_35",
          "2021-week_36",
          "2021-week_37",
          "2021-week_38",
          "2021-week_39",
          "2021-week_40",
          "2021-week_41",
          "2021-week_42",
          "2021-week_43",
          "2021-week_44",
          "2021-week_45",
          "2021-week_46",
          "2021-week_47",
          "2021-week_48",
          "2021-week_49",
          "2021-week_50",
          "2021-week_51",
          "2022-week_01",
          "2022-week_02",
          "2022-week_03",
          "2022-week_04",
          "2022-week_05",
          "2022-week_06",
          "2022-week_52"
         ],
         "y": [
          0.10929228197269435,
          0.06297404495163872,
          0.06880957350587907,
          0.06949270326615706,
          0.06663424124513619,
          0.06754025231755768,
          0.052372364039955606,
          0.04602249062890462,
          0.05660639777468707,
          0.2598775737340011,
          0.24131690680030626,
          0.2721169312539338,
          0.3479224376731302,
          0.31679442508710803,
          0.3327315650604083,
          0.2905442932518745,
          0.32370788867964007,
          0.3126214940294363,
          0.28621632174931666,
          0.26930830726451166,
          0.2656867503293351,
          0.24760773905147726,
          0.247511658662212,
          0.22629160284082997,
          0.23650010424629925,
          0.3747018204645323
         ]
        },
        {
         "marker": {
          "color": "rgba(128, 128, 0, 0.6)",
          "line": {
           "color": "rgba(128, 128, 0, 0.7999999999999998)",
           "width": 1
          }
         },
         "name": "SOLOMO365",
         "orientation": "v",
         "text": "",
         "type": "bar",
         "visible": true,
         "x": [
          "2021-week_33",
          "2021-week_34",
          "2021-week_35",
          "2021-week_36",
          "2021-week_37",
          "2021-week_38",
          "2021-week_39",
          "2021-week_40",
          "2021-week_41",
          "2021-week_42",
          "2021-week_43",
          "2021-week_44",
          "2021-week_45",
          "2021-week_46",
          "2021-week_47",
          "2021-week_48",
          "2021-week_49",
          "2021-week_50",
          "2021-week_51",
          "2022-week_01",
          "2022-week_02",
          "2022-week_03",
          "2022-week_04",
          "2022-week_05",
          "2022-week_06",
          "2022-week_52"
         ],
         "y": [
          0.05544719977709668,
          0.06039941548952752,
          0.05976483684686565,
          0.05573314801945796,
          0.055586436909394105,
          0.05813061964173695,
          0.049944506104328525,
          0.014993752603082049,
          "",
          "",
          "",
          "",
          "",
          "",
          "",
          "",
          "",
          "",
          "",
          "",
          "",
          "",
          "",
          "",
          "",
          ""
         ]
        },
        {
         "marker": {
          "color": "rgba(128, 128, 0, 0.6)",
          "line": {
           "color": "rgba(128, 128, 0, 0.7)",
           "width": 1
          }
         },
         "name": "Search Million Culture",
         "orientation": "v",
         "text": "",
         "type": "bar",
         "visible": true,
         "x": [
          "2021-week_33",
          "2021-week_34",
          "2021-week_35",
          "2021-week_36",
          "2021-week_37",
          "2021-week_38",
          "2021-week_39",
          "2021-week_40",
          "2021-week_41",
          "2021-week_42",
          "2021-week_43",
          "2021-week_44",
          "2021-week_45",
          "2021-week_46",
          "2021-week_47",
          "2021-week_48",
          "2021-week_49",
          "2021-week_50",
          "2021-week_51",
          "2022-week_01",
          "2022-week_02",
          "2022-week_03",
          "2022-week_04",
          "2022-week_05",
          "2022-week_06",
          "2022-week_52"
         ],
         "y": [
          0.35218723878517694,
          0.39043907870016004,
          0.35030960829332775,
          0.35392633773453785,
          0.3494302390216787,
          0.33372830556910854,
          0.3140260821309656,
          0.3306261280022213,
          0.3364394993045897,
          0.25994713411240955,
          0.24110809493979257,
          0.1897335478005455,
          0.0853185595567867,
          0.09337979094076655,
          0.09665324260519373,
          0.11538461538461539,
          0.13287298598033062,
          0.12350735906692585,
          0.12526356891839124,
          0.19443865137295793,
          0.2046730915898218,
          0.23342879094782426,
          0.25440245005916334,
          0.25163626235900294,
          0.23816804503440128,
          0.0743879472693032
         ]
        },
        {
         "marker": {
          "color": "rgba(251, 128, 114, 0.6)",
          "line": {
           "color": "rgba(251, 128, 114, 0.7)",
           "width": 1
          }
         },
         "name": "Sensor Tower",
         "orientation": "v",
         "text": "",
         "type": "bar",
         "visible": true,
         "x": [
          "2021-week_33",
          "2021-week_34",
          "2021-week_35",
          "2021-week_36",
          "2021-week_37",
          "2021-week_38",
          "2021-week_39",
          "2021-week_40",
          "2021-week_41",
          "2021-week_42",
          "2021-week_43",
          "2021-week_44",
          "2021-week_45",
          "2021-week_46",
          "2021-week_47",
          "2021-week_48",
          "2021-week_49",
          "2021-week_50",
          "2021-week_51",
          "2022-week_01",
          "2022-week_02",
          "2022-week_03",
          "2022-week_04",
          "2022-week_05",
          "2022-week_06",
          "2022-week_52"
         ],
         "y": [
          0.03629144608526052,
          0.03374852132767379,
          0.031308703819661866,
          0.018763029881862403,
          0.012854363535297387,
          0.008712622847982156,
          0.0076997780244173145,
          0.006455643481882549,
          0.00674547983310153,
          0.006816917084028937,
          0.005568316280364725,
          0.005384991957479544,
          0.00574792243767313,
          0.004320557491289199,
          0.004443827246215803,
          0.005554012774229381,
          0.007463207086559252,
          0.004859761177450708,
          0.003358063256540414,
          0.003475842891901286,
          0.0029813492338625807,
          0.00447021023957533,
          0.004315445117282661,
          0.003899178387411224,
          0.004169851970255056,
          0.004205900816070308
         ]
        },
        {
         "marker": {
          "color": "rgba(128, 177, 211, 0.6)",
          "line": {
           "color": "rgba(128, 177, 211, 0.7)",
           "width": 1
          }
         },
         "name": "Tab Solutions",
         "orientation": "v",
         "text": "",
         "type": "bar",
         "visible": true,
         "x": [
          "2021-week_33",
          "2021-week_34",
          "2021-week_35",
          "2021-week_36",
          "2021-week_37",
          "2021-week_38",
          "2021-week_39",
          "2021-week_40",
          "2021-week_41",
          "2021-week_42",
          "2021-week_43",
          "2021-week_44",
          "2021-week_45",
          "2021-week_46",
          "2021-week_47",
          "2021-week_48",
          "2021-week_49",
          "2021-week_50",
          "2021-week_51",
          "2022-week_01",
          "2022-week_02",
          "2022-week_03",
          "2022-week_04",
          "2022-week_05",
          "2022-week_06",
          "2022-week_52"
         ],
         "y": [
          0.0672192811368069,
          0.054345557024563354,
          0.04981562652195088,
          0.055524669909659485,
          0.05885214007782101,
          0.04000836411793406,
          0.05292730299667037,
          0.06774954879911148,
          0.0672461752433936,
          0.047996661101836396,
          0.04719148047609104,
          0.05063291139240506,
          0.04113573407202216,
          0.014355400696864112,
          0.016594917372587142,
          0.0197167453485143,
          0.031317569923972936,
          0.02256317689530686,
          0.019992190550566186,
          0.010983663538408064,
          0.012618733966581155,
          0.01494726548858001,
          0.016565740934085055,
          0.01392563709789723,
          0.01709639307804573,
          0.013998744507219083
         ]
        },
        {
         "marker": {
          "color": "rgba(255, 153, 51, 0.6)",
          "line": {
           "color": "rgba(255, 153, 51, 0.7)",
           "width": 1
          }
         },
         "name": "VarVee",
         "orientation": "v",
         "text": "",
         "type": "bar",
         "visible": true,
         "x": [
          "2021-week_33",
          "2021-week_34",
          "2021-week_35",
          "2021-week_36",
          "2021-week_37",
          "2021-week_38",
          "2021-week_39",
          "2021-week_40",
          "2021-week_41",
          "2021-week_42",
          "2021-week_43",
          "2021-week_44",
          "2021-week_45",
          "2021-week_46",
          "2021-week_47",
          "2021-week_48",
          "2021-week_49",
          "2021-week_50",
          "2021-week_51",
          "2022-week_01",
          "2022-week_02",
          "2022-week_03",
          "2022-week_04",
          "2022-week_05",
          "2022-week_06",
          "2022-week_52"
         ],
         "y": [
          0.00229869044302034,
          0.004662166863822976,
          0.004870242816391846,
          0.006879777623349548,
          0.0074346859366314615,
          0.007179201226737297,
          0.005063817980022198,
          0.004789670970428988,
          0.005563282336578581,
          0.0023650528658875902,
          0.0029929700006960393,
          0.003217008182390377,
          0.003601108033240997,
          0.0024390243902439024,
          0.002707957228162755,
          0.0017356289919466814,
          0.0004882471925786427,
          0.0006248264371008053,
          0.00046856696602889497,
          0.00027806743135210286,
          0.0006933370311308326,
          0.0007683173849270099,
          0.0010440593025683859,
          0.0007659100403843476,
          0.0006949753283758427,
          0.0003766478342749529
         ]
        },
        {
         "marker": {
          "color": "rgba(55, 128, 191, 0.6)",
          "line": {
           "color": "rgba(55, 128, 191, 0.7)",
           "width": 1
          }
         },
         "name": "aPriori Technologies",
         "orientation": "v",
         "text": "",
         "type": "bar",
         "visible": true,
         "x": [
          "2021-week_33",
          "2021-week_34",
          "2021-week_35",
          "2021-week_36",
          "2021-week_37",
          "2021-week_38",
          "2021-week_39",
          "2021-week_40",
          "2021-week_41",
          "2021-week_42",
          "2021-week_43",
          "2021-week_44",
          "2021-week_45",
          "2021-week_46",
          "2021-week_47",
          "2021-week_48",
          "2021-week_49",
          "2021-week_50",
          "2021-week_51",
          "2022-week_01",
          "2022-week_02",
          "2022-week_03",
          "2022-week_04",
          "2022-week_05",
          "2022-week_06",
          "2022-week_52"
         ],
         "y": [
          0.002995263304541655,
          0.0029225523623964927,
          0.003965769150490503,
          0.0029881862404447534,
          0.0027098387993329627,
          0.002439534397435004,
          0.0039539400665926745,
          0.004442593363876163,
          0.0035465924895688454,
          0.002295492487479132,
          0.002853762093686921,
          0.002307853696062662,
          0.003670360110803324,
          0.005156794425087108,
          0.004999305651992779,
          0.003262982504859761,
          0.0034874799469903047,
          0.00354068314357123,
          0.004139008199921906,
          0.0032672923183872087,
          0.002010677390279415,
          0.0017461758748341133,
          0.0020881186051367718,
          0.002297730121153043,
          0.002015428452289944,
          0.0038292529817953547
         ]
        },
        {
         "marker": {
          "color": "rgba(50, 171, 96, 0.6)",
          "line": {
           "color": "rgba(50, 171, 96, 0.7)",
           "width": 1
          }
         },
         "name": "iDreamsky Technology",
         "orientation": "v",
         "text": "",
         "type": "bar",
         "visible": true,
         "x": [
          "2021-week_33",
          "2021-week_34",
          "2021-week_35",
          "2021-week_36",
          "2021-week_37",
          "2021-week_38",
          "2021-week_39",
          "2021-week_40",
          "2021-week_41",
          "2021-week_42",
          "2021-week_43",
          "2021-week_44",
          "2021-week_45",
          "2021-week_46",
          "2021-week_47",
          "2021-week_48",
          "2021-week_49",
          "2021-week_50",
          "2021-week_51",
          "2022-week_01",
          "2022-week_02",
          "2022-week_03",
          "2022-week_04",
          "2022-week_05",
          "2022-week_06",
          "2022-week_52"
         ],
         "y": [
          0.021872387851769294,
          0.021153712337346045,
          0.035761497251791556,
          0.04211257817929118,
          0.04175931072818232,
          0.05123022234613508,
          0.04557436182019978,
          0.042759961127308066,
          0.032753824756606396,
          0.018433500278241515,
          0.018932275353240064,
          0.020560878383103713,
          0.0260387811634349,
          0.04494773519163763,
          0.08734897930842939,
          0.036239933351846706,
          0.02483085722257097,
          0.02513190780338795,
          0.026395939086294416,
          0.024261383385470976,
          0.021770782777508147,
          0.01990640497310889,
          0.016356929073571377,
          0.016362623590029244,
          0.018555841267634997,
          0.02366603892027621
         ]
        }
       ],
       "layout": {
        "autosize": true,
        "barmode": "stack",
        "legend": {
         "bgcolor": "#F5F6F9",
         "font": {
          "color": "#4D5663"
         },
         "traceorder": "normal"
        },
        "paper_bgcolor": "#F5F6F9",
        "plot_bgcolor": "#F5F6F9",
        "template": {
         "data": {
          "bar": [
           {
            "error_x": {
             "color": "#2a3f5f"
            },
            "error_y": {
             "color": "#2a3f5f"
            },
            "marker": {
             "line": {
              "color": "#E5ECF6",
              "width": 0.5
             }
            },
            "type": "bar"
           }
          ],
          "barpolar": [
           {
            "marker": {
             "line": {
              "color": "#E5ECF6",
              "width": 0.5
             }
            },
            "type": "barpolar"
           }
          ],
          "carpet": [
           {
            "aaxis": {
             "endlinecolor": "#2a3f5f",
             "gridcolor": "white",
             "linecolor": "white",
             "minorgridcolor": "white",
             "startlinecolor": "#2a3f5f"
            },
            "baxis": {
             "endlinecolor": "#2a3f5f",
             "gridcolor": "white",
             "linecolor": "white",
             "minorgridcolor": "white",
             "startlinecolor": "#2a3f5f"
            },
            "type": "carpet"
           }
          ],
          "choropleth": [
           {
            "colorbar": {
             "outlinewidth": 0,
             "ticks": ""
            },
            "type": "choropleth"
           }
          ],
          "contour": [
           {
            "colorbar": {
             "outlinewidth": 0,
             "ticks": ""
            },
            "colorscale": [
             [
              0,
              "#0d0887"
             ],
             [
              0.1111111111111111,
              "#46039f"
             ],
             [
              0.2222222222222222,
              "#7201a8"
             ],
             [
              0.3333333333333333,
              "#9c179e"
             ],
             [
              0.4444444444444444,
              "#bd3786"
             ],
             [
              0.5555555555555556,
              "#d8576b"
             ],
             [
              0.6666666666666666,
              "#ed7953"
             ],
             [
              0.7777777777777778,
              "#fb9f3a"
             ],
             [
              0.8888888888888888,
              "#fdca26"
             ],
             [
              1,
              "#f0f921"
             ]
            ],
            "type": "contour"
           }
          ],
          "contourcarpet": [
           {
            "colorbar": {
             "outlinewidth": 0,
             "ticks": ""
            },
            "type": "contourcarpet"
           }
          ],
          "heatmap": [
           {
            "colorbar": {
             "outlinewidth": 0,
             "ticks": ""
            },
            "colorscale": [
             [
              0,
              "#0d0887"
             ],
             [
              0.1111111111111111,
              "#46039f"
             ],
             [
              0.2222222222222222,
              "#7201a8"
             ],
             [
              0.3333333333333333,
              "#9c179e"
             ],
             [
              0.4444444444444444,
              "#bd3786"
             ],
             [
              0.5555555555555556,
              "#d8576b"
             ],
             [
              0.6666666666666666,
              "#ed7953"
             ],
             [
              0.7777777777777778,
              "#fb9f3a"
             ],
             [
              0.8888888888888888,
              "#fdca26"
             ],
             [
              1,
              "#f0f921"
             ]
            ],
            "type": "heatmap"
           }
          ],
          "heatmapgl": [
           {
            "colorbar": {
             "outlinewidth": 0,
             "ticks": ""
            },
            "colorscale": [
             [
              0,
              "#0d0887"
             ],
             [
              0.1111111111111111,
              "#46039f"
             ],
             [
              0.2222222222222222,
              "#7201a8"
             ],
             [
              0.3333333333333333,
              "#9c179e"
             ],
             [
              0.4444444444444444,
              "#bd3786"
             ],
             [
              0.5555555555555556,
              "#d8576b"
             ],
             [
              0.6666666666666666,
              "#ed7953"
             ],
             [
              0.7777777777777778,
              "#fb9f3a"
             ],
             [
              0.8888888888888888,
              "#fdca26"
             ],
             [
              1,
              "#f0f921"
             ]
            ],
            "type": "heatmapgl"
           }
          ],
          "histogram": [
           {
            "marker": {
             "colorbar": {
              "outlinewidth": 0,
              "ticks": ""
             }
            },
            "type": "histogram"
           }
          ],
          "histogram2d": [
           {
            "colorbar": {
             "outlinewidth": 0,
             "ticks": ""
            },
            "colorscale": [
             [
              0,
              "#0d0887"
             ],
             [
              0.1111111111111111,
              "#46039f"
             ],
             [
              0.2222222222222222,
              "#7201a8"
             ],
             [
              0.3333333333333333,
              "#9c179e"
             ],
             [
              0.4444444444444444,
              "#bd3786"
             ],
             [
              0.5555555555555556,
              "#d8576b"
             ],
             [
              0.6666666666666666,
              "#ed7953"
             ],
             [
              0.7777777777777778,
              "#fb9f3a"
             ],
             [
              0.8888888888888888,
              "#fdca26"
             ],
             [
              1,
              "#f0f921"
             ]
            ],
            "type": "histogram2d"
           }
          ],
          "histogram2dcontour": [
           {
            "colorbar": {
             "outlinewidth": 0,
             "ticks": ""
            },
            "colorscale": [
             [
              0,
              "#0d0887"
             ],
             [
              0.1111111111111111,
              "#46039f"
             ],
             [
              0.2222222222222222,
              "#7201a8"
             ],
             [
              0.3333333333333333,
              "#9c179e"
             ],
             [
              0.4444444444444444,
              "#bd3786"
             ],
             [
              0.5555555555555556,
              "#d8576b"
             ],
             [
              0.6666666666666666,
              "#ed7953"
             ],
             [
              0.7777777777777778,
              "#fb9f3a"
             ],
             [
              0.8888888888888888,
              "#fdca26"
             ],
             [
              1,
              "#f0f921"
             ]
            ],
            "type": "histogram2dcontour"
           }
          ],
          "mesh3d": [
           {
            "colorbar": {
             "outlinewidth": 0,
             "ticks": ""
            },
            "type": "mesh3d"
           }
          ],
          "parcoords": [
           {
            "line": {
             "colorbar": {
              "outlinewidth": 0,
              "ticks": ""
             }
            },
            "type": "parcoords"
           }
          ],
          "pie": [
           {
            "automargin": true,
            "type": "pie"
           }
          ],
          "scatter": [
           {
            "marker": {
             "colorbar": {
              "outlinewidth": 0,
              "ticks": ""
             }
            },
            "type": "scatter"
           }
          ],
          "scatter3d": [
           {
            "line": {
             "colorbar": {
              "outlinewidth": 0,
              "ticks": ""
             }
            },
            "marker": {
             "colorbar": {
              "outlinewidth": 0,
              "ticks": ""
             }
            },
            "type": "scatter3d"
           }
          ],
          "scattercarpet": [
           {
            "marker": {
             "colorbar": {
              "outlinewidth": 0,
              "ticks": ""
             }
            },
            "type": "scattercarpet"
           }
          ],
          "scattergeo": [
           {
            "marker": {
             "colorbar": {
              "outlinewidth": 0,
              "ticks": ""
             }
            },
            "type": "scattergeo"
           }
          ],
          "scattergl": [
           {
            "marker": {
             "colorbar": {
              "outlinewidth": 0,
              "ticks": ""
             }
            },
            "type": "scattergl"
           }
          ],
          "scattermapbox": [
           {
            "marker": {
             "colorbar": {
              "outlinewidth": 0,
              "ticks": ""
             }
            },
            "type": "scattermapbox"
           }
          ],
          "scatterpolar": [
           {
            "marker": {
             "colorbar": {
              "outlinewidth": 0,
              "ticks": ""
             }
            },
            "type": "scatterpolar"
           }
          ],
          "scatterpolargl": [
           {
            "marker": {
             "colorbar": {
              "outlinewidth": 0,
              "ticks": ""
             }
            },
            "type": "scatterpolargl"
           }
          ],
          "scatterternary": [
           {
            "marker": {
             "colorbar": {
              "outlinewidth": 0,
              "ticks": ""
             }
            },
            "type": "scatterternary"
           }
          ],
          "surface": [
           {
            "colorbar": {
             "outlinewidth": 0,
             "ticks": ""
            },
            "colorscale": [
             [
              0,
              "#0d0887"
             ],
             [
              0.1111111111111111,
              "#46039f"
             ],
             [
              0.2222222222222222,
              "#7201a8"
             ],
             [
              0.3333333333333333,
              "#9c179e"
             ],
             [
              0.4444444444444444,
              "#bd3786"
             ],
             [
              0.5555555555555556,
              "#d8576b"
             ],
             [
              0.6666666666666666,
              "#ed7953"
             ],
             [
              0.7777777777777778,
              "#fb9f3a"
             ],
             [
              0.8888888888888888,
              "#fdca26"
             ],
             [
              1,
              "#f0f921"
             ]
            ],
            "type": "surface"
           }
          ],
          "table": [
           {
            "cells": {
             "fill": {
              "color": "#EBF0F8"
             },
             "line": {
              "color": "white"
             }
            },
            "header": {
             "fill": {
              "color": "#C8D4E3"
             },
             "line": {
              "color": "white"
             }
            },
            "type": "table"
           }
          ]
         },
         "layout": {
          "annotationdefaults": {
           "arrowcolor": "#2a3f5f",
           "arrowhead": 0,
           "arrowwidth": 1
          },
          "autotypenumbers": "strict",
          "coloraxis": {
           "colorbar": {
            "outlinewidth": 0,
            "ticks": ""
           }
          },
          "colorscale": {
           "diverging": [
            [
             0,
             "#8e0152"
            ],
            [
             0.1,
             "#c51b7d"
            ],
            [
             0.2,
             "#de77ae"
            ],
            [
             0.3,
             "#f1b6da"
            ],
            [
             0.4,
             "#fde0ef"
            ],
            [
             0.5,
             "#f7f7f7"
            ],
            [
             0.6,
             "#e6f5d0"
            ],
            [
             0.7,
             "#b8e186"
            ],
            [
             0.8,
             "#7fbc41"
            ],
            [
             0.9,
             "#4d9221"
            ],
            [
             1,
             "#276419"
            ]
           ],
           "sequential": [
            [
             0,
             "#0d0887"
            ],
            [
             0.1111111111111111,
             "#46039f"
            ],
            [
             0.2222222222222222,
             "#7201a8"
            ],
            [
             0.3333333333333333,
             "#9c179e"
            ],
            [
             0.4444444444444444,
             "#bd3786"
            ],
            [
             0.5555555555555556,
             "#d8576b"
            ],
            [
             0.6666666666666666,
             "#ed7953"
            ],
            [
             0.7777777777777778,
             "#fb9f3a"
            ],
            [
             0.8888888888888888,
             "#fdca26"
            ],
            [
             1,
             "#f0f921"
            ]
           ],
           "sequentialminus": [
            [
             0,
             "#0d0887"
            ],
            [
             0.1111111111111111,
             "#46039f"
            ],
            [
             0.2222222222222222,
             "#7201a8"
            ],
            [
             0.3333333333333333,
             "#9c179e"
            ],
            [
             0.4444444444444444,
             "#bd3786"
            ],
            [
             0.5555555555555556,
             "#d8576b"
            ],
            [
             0.6666666666666666,
             "#ed7953"
            ],
            [
             0.7777777777777778,
             "#fb9f3a"
            ],
            [
             0.8888888888888888,
             "#fdca26"
            ],
            [
             1,
             "#f0f921"
            ]
           ]
          },
          "colorway": [
           "#636efa",
           "#EF553B",
           "#00cc96",
           "#ab63fa",
           "#FFA15A",
           "#19d3f3",
           "#FF6692",
           "#B6E880",
           "#FF97FF",
           "#FECB52"
          ],
          "font": {
           "color": "#2a3f5f"
          },
          "geo": {
           "bgcolor": "white",
           "lakecolor": "white",
           "landcolor": "#E5ECF6",
           "showlakes": true,
           "showland": true,
           "subunitcolor": "white"
          },
          "hoverlabel": {
           "align": "left"
          },
          "hovermode": "closest",
          "mapbox": {
           "style": "light"
          },
          "paper_bgcolor": "white",
          "plot_bgcolor": "#E5ECF6",
          "polar": {
           "angularaxis": {
            "gridcolor": "white",
            "linecolor": "white",
            "ticks": ""
           },
           "bgcolor": "#E5ECF6",
           "radialaxis": {
            "gridcolor": "white",
            "linecolor": "white",
            "ticks": ""
           }
          },
          "scene": {
           "xaxis": {
            "backgroundcolor": "#E5ECF6",
            "gridcolor": "white",
            "gridwidth": 2,
            "linecolor": "white",
            "showbackground": true,
            "ticks": "",
            "zerolinecolor": "white"
           },
           "yaxis": {
            "backgroundcolor": "#E5ECF6",
            "gridcolor": "white",
            "gridwidth": 2,
            "linecolor": "white",
            "showbackground": true,
            "ticks": "",
            "zerolinecolor": "white"
           },
           "zaxis": {
            "backgroundcolor": "#E5ECF6",
            "gridcolor": "white",
            "gridwidth": 2,
            "linecolor": "white",
            "showbackground": true,
            "ticks": "",
            "zerolinecolor": "white"
           }
          },
          "shapedefaults": {
           "line": {
            "color": "#2a3f5f"
           }
          },
          "ternary": {
           "aaxis": {
            "gridcolor": "white",
            "linecolor": "white",
            "ticks": ""
           },
           "baxis": {
            "gridcolor": "white",
            "linecolor": "white",
            "ticks": ""
           },
           "bgcolor": "#E5ECF6",
           "caxis": {
            "gridcolor": "white",
            "linecolor": "white",
            "ticks": ""
           }
          },
          "title": {
           "x": 0.05
          },
          "xaxis": {
           "automargin": true,
           "gridcolor": "white",
           "linecolor": "white",
           "ticks": "",
           "title": {
            "standoff": 15
           },
           "zerolinecolor": "white",
           "zerolinewidth": 2
          },
          "yaxis": {
           "automargin": true,
           "gridcolor": "white",
           "linecolor": "white",
           "ticks": "",
           "title": {
            "standoff": 15
           },
           "zerolinecolor": "white",
           "zerolinewidth": 2
          }
         }
        },
        "title": {
         "font": {
          "color": "#4D5663"
         }
        },
        "xaxis": {
         "autorange": true,
         "gridcolor": "#E1E5ED",
         "range": [
          -0.5,
          25.5
         ],
         "showgrid": true,
         "tickfont": {
          "color": "#4D5663"
         },
         "title": {
          "font": {
           "color": "#4D5663"
          },
          "text": ""
         },
         "type": "category",
         "zerolinecolor": "#E1E5ED"
        },
        "yaxis": {
         "autorange": true,
         "gridcolor": "#E1E5ED",
         "range": [
          0,
          1.0526315789473686
         ],
         "showgrid": true,
         "tickfont": {
          "color": "#4D5663"
         },
         "title": {
          "font": {
           "color": "#4D5663"
          },
          "text": ""
         },
         "type": "linear",
         "zerolinecolor": "#E1E5ED"
        }
       }
      },
      "image/png": "[encoded data removed]",
      "text/html": [
       "<div>                            <div id=\"87e783d2-8496-4ebd-b03e-132298be48dd\" class=\"plotly-graph-div\" style=\"height:525px; width:100%;\"></div>            <script type=\"text/javascript\">                require([\"plotly\"], function(Plotly) {                    window.PLOTLYENV=window.PLOTLYENV || {};\n",
       "                    window.PLOTLYENV.BASE_URL='https://plot.ly';                                    if (document.getElementById(\"87e783d2-8496-4ebd-b03e-132298be48dd\")) {                    Plotly.newPlot(                        \"87e783d2-8496-4ebd-b03e-132298be48dd\",                        [{\"marker\": {\"color\": \"rgba(255, 153, 51, 0.6)\", \"line\": {\"color\": \"rgba(255, 153, 51, 1.0)\", \"width\": 1}}, \"name\": \"Allthetopbananas.com\", \"orientation\": \"v\", \"text\": \"\", \"type\": \"bar\", \"x\": [\"2021-week_33\", \"2021-week_34\", \"2021-week_35\", \"2021-week_36\", \"2021-week_37\", \"2021-week_38\", \"2021-week_39\", \"2021-week_40\", \"2021-week_41\", \"2021-week_42\", \"2021-week_43\", \"2021-week_44\", \"2021-week_45\", \"2021-week_46\", \"2021-week_47\", \"2021-week_48\", \"2021-week_49\", \"2021-week_50\", \"2021-week_51\", \"2022-week_01\", \"2022-week_02\", \"2022-week_03\", \"2022-week_04\", \"2022-week_05\", \"2022-week_06\", \"2022-week_52\"], \"y\": [0.0004876010030649206, 0.00020875374017117806, 0.0004870242816391846, 0.0009728978457261987, 0.000764313507504169, 0.0009758137589740016, 0.000416204217536071, 0.0009718172983479105, 0.0006954102920723226, 0.0002782415136338342, 0.00020881186051367718, 0.0006993496048674732, 0.00110803324099723, 0.0007665505226480836, 0.00034717400361060965, 0.0004859761177450708, 0.0005579967915184488, 0.0005554012774229381, 0.00046856696602889497, 0.0004171011470281543, 0.0004853359217915829, 0.0005587762799469162, 0.0005568316280364725, 0.00034814092744743074, 0.00027799013135033706, 0.0008788449466415569]}, {\"marker\": {\"color\": \"rgba(55, 128, 191, 0.6)\", \"line\": {\"color\": \"rgba(55, 128, 191, 1.0)\", \"width\": 1}}, \"name\": \"Altammune\", \"orientation\": \"v\", \"text\": \"\", \"type\": \"bar\", \"x\": [\"2021-week_33\", \"2021-week_34\", \"2021-week_35\", \"2021-week_36\", \"2021-week_37\", \"2021-week_38\", \"2021-week_39\", \"2021-week_40\", \"2021-week_41\", \"2021-week_42\", \"2021-week_43\", \"2021-week_44\", \"2021-week_45\", \"2021-week_46\", \"2021-week_47\", \"2021-week_48\", \"2021-week_49\", \"2021-week_50\", \"2021-week_51\", \"2022-week_01\", \"2022-week_02\", \"2022-week_03\", \"2022-week_04\", \"2022-week_05\", \"2022-week_06\", \"2022-week_52\"], \"y\": [\"\", \"\", 6.957489737702637e-05, \"\", \"\", 6.970098278385725e-05, \"\", 0.00013883104262113008, \"\", 6.956037840845854e-05, \"\", \"\", \"\", \"\", \"\", \"\", \"\", \"\", \"\", \"\", \"\", \"\", \"\", \"\", \"\", \"\"]}, {\"marker\": {\"color\": \"rgba(50, 171, 96, 0.6)\", \"line\": {\"color\": \"rgba(50, 171, 96, 1.0)\", \"width\": 1}}, \"name\": \"Bizanga\", \"orientation\": \"v\", \"text\": \"\", \"type\": \"bar\", \"x\": [\"2021-week_33\", \"2021-week_34\", \"2021-week_35\", \"2021-week_36\", \"2021-week_37\", \"2021-week_38\", \"2021-week_39\", \"2021-week_40\", \"2021-week_41\", \"2021-week_42\", \"2021-week_43\", \"2021-week_44\", \"2021-week_45\", \"2021-week_46\", \"2021-week_47\", \"2021-week_48\", \"2021-week_49\", \"2021-week_50\", \"2021-week_51\", \"2022-week_01\", \"2022-week_02\", \"2022-week_03\", \"2022-week_04\", \"2022-week_05\", \"2022-week_06\", \"2022-week_52\"], \"y\": [0.007174700473669545, 0.006888873425648877, 0.005705141584916162, 0.005281445448227936, 0.005350194552529183, 0.005436676657140866, 0.004786348501664817, 0.004442593363876163, 0.005980528511821975, 0.006886477462437396, 0.004941880698823693, 0.004126162668718092, 0.004224376731301939, 0.006202090592334495, 0.007082349673656437, 0.006248264371008053, 0.0076724558833786705, 0.006803665648430992, 0.006794221007418977, 0.007438303788668752, 0.006378700686403661, 0.004540057274568694, 0.003758613489246189, 0.0034117810889848213, 0.003891861838904719, 0.006089139987445072]}, {\"marker\": {\"color\": \"rgba(128, 0, 128, 0.6)\", \"line\": {\"color\": \"rgba(128, 0, 128, 1.0)\", \"width\": 1}}, \"name\": \"Crescendo Networks\", \"orientation\": \"v\", \"text\": \"\", \"type\": \"bar\", \"x\": [\"2021-week_33\", \"2021-week_34\", \"2021-week_35\", \"2021-week_36\", \"2021-week_37\", \"2021-week_38\", \"2021-week_39\", \"2021-week_40\", \"2021-week_41\", \"2021-week_42\", \"2021-week_43\", \"2021-week_44\", \"2021-week_45\", \"2021-week_46\", \"2021-week_47\", \"2021-week_48\", \"2021-week_49\", \"2021-week_50\", \"2021-week_51\", \"2022-week_01\", \"2022-week_02\", \"2022-week_03\", \"2022-week_04\", \"2022-week_05\", \"2022-week_06\", \"2022-week_52\"], \"y\": [0.0030649205906937865, 0.0057059355646788676, 0.00480066791901482, 0.007366226546212648, 0.006183991106170094, 0.006482191398898725, 0.0054106548279689234, 0.017700957934194086, 0.006397774687065368, 0.0034084585420144685, 0.004106633256768985, 0.004685642352612071, 0.0033240997229916896, 0.010871080139372822, 0.003749479238994584, 0.003748958622604832, 0.004463974332147591, 0.003957234101638433, 0.006247559547051933, 0.0026416405978449773, 0.0033973514525410804, 0.002584340294754488, 0.0030625739542005986, 0.003342152903495335, 0.002084925985127528, 0.005712492153170119]}, {\"marker\": {\"color\": \"rgba(219, 64, 82, 0.6)\", \"line\": {\"color\": \"rgba(219, 64, 82, 1.0)\", \"width\": 1}}, \"name\": \"Cue\", \"orientation\": \"v\", \"text\": \"\", \"type\": \"bar\", \"x\": [\"2021-week_33\", \"2021-week_34\", \"2021-week_35\", \"2021-week_36\", \"2021-week_37\", \"2021-week_38\", \"2021-week_39\", \"2021-week_40\", \"2021-week_41\", \"2021-week_42\", \"2021-week_43\", \"2021-week_44\", \"2021-week_45\", \"2021-week_46\", \"2021-week_47\", \"2021-week_48\", \"2021-week_49\", \"2021-week_50\", \"2021-week_51\", \"2022-week_01\", \"2022-week_02\", \"2022-week_03\", \"2022-week_04\", \"2022-week_05\", \"2022-week_06\", \"2022-week_52\"], \"y\": [\"\", 6.958458005705935e-05, \"\", \"\", \"\", 0.0001394019655677145, \"\", 6.941552131056504e-05, \"\", \"\", \"\", \"\", \"\", \"\", \"\", \"\", \"\", \"\", \"\", \"\", \"\", \"\", \"\", \"\", \"\", \"\"]}, {\"marker\": {\"color\": \"rgba(0, 128, 128, 0.6)\", \"line\": {\"color\": \"rgba(0, 128, 128, 1.0)\", \"width\": 1}}, \"name\": \"Cuiker\", \"orientation\": \"v\", \"text\": \"\", \"type\": \"bar\", \"x\": [\"2021-week_33\", \"2021-week_34\", \"2021-week_35\", \"2021-week_36\", \"2021-week_37\", \"2021-week_38\", \"2021-week_39\", \"2021-week_40\", \"2021-week_41\", \"2021-week_42\", \"2021-week_43\", \"2021-week_44\", \"2021-week_45\", \"2021-week_46\", \"2021-week_47\", \"2021-week_48\", \"2021-week_49\", \"2021-week_50\", \"2021-week_51\", \"2022-week_01\", \"2022-week_02\", \"2022-week_03\", \"2022-week_04\", \"2022-week_05\", \"2022-week_06\", \"2022-week_52\"], \"y\": [6.965728615213152e-05, 6.958458005705935e-05, 6.957489737702637e-05, 6.949270326615705e-05, \"\", \"\", \"\", \"\", 6.954102920723227e-05, 6.956037840845854e-05, 6.960395350455906e-05, \"\", 6.925207756232688e-05, 6.968641114982578e-05, 0.00013886960144424384, \"\", 0.0002092487968194183, 0.00013885031935573453, 7.809449433814917e-05, 6.951685783802571e-05, 6.933370311308327e-05, 6.984703499336453e-05, \"\", \"\", 6.949753283758427e-05, 6.277463904582549e-05]}, {\"marker\": {\"color\": \"rgba(255, 255, 51, 0.6)\", \"line\": {\"color\": \"rgba(255, 255, 51, 1.0)\", \"width\": 1}}, \"name\": \"Derceto\", \"orientation\": \"v\", \"text\": \"\", \"type\": \"bar\", \"x\": [\"2021-week_33\", \"2021-week_34\", \"2021-week_35\", \"2021-week_36\", \"2021-week_37\", \"2021-week_38\", \"2021-week_39\", \"2021-week_40\", \"2021-week_41\", \"2021-week_42\", \"2021-week_43\", \"2021-week_44\", \"2021-week_45\", \"2021-week_46\", \"2021-week_47\", \"2021-week_48\", \"2021-week_49\", \"2021-week_50\", \"2021-week_51\", \"2022-week_01\", \"2022-week_02\", \"2022-week_03\", \"2022-week_04\", \"2022-week_05\", \"2022-week_06\", \"2022-week_52\"], \"y\": [\"\", \"\", \"\", \"\", 6.948304613674263e-05, \"\", \"\", \"\", \"\", \"\", \"\", \"\", \"\", \"\", \"\", \"\", \"\", \"\", \"\", \"\", \"\", \"\", \"\", \"\", \"\", \"\"]}, {\"marker\": {\"color\": \"rgba(128, 128, 0, 0.6)\", \"line\": {\"color\": \"rgba(128, 128, 0, 1.0)\", \"width\": 1}}, \"name\": \"Doctorfun Entertainment, Ltd\", \"orientation\": \"v\", \"text\": \"\", \"type\": \"bar\", \"x\": [\"2021-week_33\", \"2021-week_34\", \"2021-week_35\", \"2021-week_36\", \"2021-week_37\", \"2021-week_38\", \"2021-week_39\", \"2021-week_40\", \"2021-week_41\", \"2021-week_42\", \"2021-week_43\", \"2021-week_44\", \"2021-week_45\", \"2021-week_46\", \"2021-week_47\", \"2021-week_48\", \"2021-week_49\", \"2021-week_50\", \"2021-week_51\", \"2022-week_01\", \"2022-week_02\", \"2022-week_03\", \"2022-week_04\", \"2022-week_05\", \"2022-week_06\", \"2022-week_52\"], \"y\": [\"\", \"\", 0.0002782995895081055, 0.00048644892286309936, 0.0009032795997776543, 0.0010455147417578587, 0.0012486126526082132, 0.0009718172983479105, 0.0012517385257301808, 0.0017390094602114635, 0.0009744553490638268, 0.0009091544863277152, 6.925207756232688e-05, 6.968641114982578e-05, \"\", 0.00013885031935573453, 0.0002092487968194183, \"\", 7.809449433814917e-05, 6.951685783802571e-05, 0.0004853359217915829, 0.0007683173849270099, 0.0008352474420547087, 0.0007659100403843476, 0.0008339703940510112, 6.277463904582549e-05]}, {\"marker\": {\"color\": \"rgba(251, 128, 114, 0.6)\", \"line\": {\"color\": \"rgba(251, 128, 114, 1.0)\", \"width\": 1}}, \"name\": \"Earth Networks\", \"orientation\": \"v\", \"text\": \"\", \"type\": \"bar\", \"x\": [\"2021-week_33\", \"2021-week_34\", \"2021-week_35\", \"2021-week_36\", \"2021-week_37\", \"2021-week_38\", \"2021-week_39\", \"2021-week_40\", \"2021-week_41\", \"2021-week_42\", \"2021-week_43\", \"2021-week_44\", \"2021-week_45\", \"2021-week_46\", \"2021-week_47\", \"2021-week_48\", \"2021-week_49\", \"2021-week_50\", \"2021-week_51\", \"2022-week_01\", \"2022-week_02\", \"2022-week_03\", \"2022-week_04\", \"2022-week_05\", \"2022-week_06\", \"2022-week_52\"], \"y\": [\"\", \"\", 6.957489737702637e-05, 0.0001389854065323141, \"\", \"\", \"\", \"\", 6.954102920723227e-05, \"\", \"\", \"\", \"\", \"\", \"\", \"\", \"\", \"\", \"\", \"\", \"\", \"\", \"\", \"\", \"\", \"\"]}, {\"marker\": {\"color\": \"rgba(128, 177, 211, 0.6)\", \"line\": {\"color\": \"rgba(128, 177, 211, 1.0)\", \"width\": 1}}, \"name\": \"Extreme DA\", \"orientation\": \"v\", \"text\": \"\", \"type\": \"bar\", \"x\": [\"2021-week_33\", \"2021-week_34\", \"2021-week_35\", \"2021-week_36\", \"2021-week_37\", \"2021-week_38\", \"2021-week_39\", \"2021-week_40\", \"2021-week_41\", \"2021-week_42\", \"2021-week_43\", \"2021-week_44\", \"2021-week_45\", \"2021-week_46\", \"2021-week_47\", \"2021-week_48\", \"2021-week_49\", \"2021-week_50\", \"2021-week_51\", \"2022-week_01\", \"2022-week_02\", \"2022-week_03\", \"2022-week_04\", \"2022-week_05\", \"2022-week_06\", \"2022-week_52\"], \"y\": [0.03517692950682642, 0.08892909331292186, 0.09601335838029638, 0.09263377345378736, 0.0883129516397999, 0.14776608350177736, 0.170019422863485, 0.1646536165486603, 0.1588317107093185, 0.14322481914301613, 0.15653929143175332, 0.16791384012868033, 0.18421052631578946, 0.19658536585365854, 0.20844327176781002, 0.18286587059150236, 0.12582827648741018, 0.13843376839766733, 0.21288559156579462, 0.20208550573514078, 0.19663038202870414, 0.17531605783334497, 0.16906800306257394, 0.17156384904609387, 0.16686357634303983, 0.16064030131826743]}, {\"marker\": {\"color\": \"rgba(128, 177, 211, 0.6)\", \"line\": {\"color\": \"rgba(128, 177, 211, 0.8999999999999999)\", \"width\": 1}}, \"name\": \"Fancy\", \"orientation\": \"v\", \"text\": \"\", \"type\": \"bar\", \"x\": [\"2021-week_33\", \"2021-week_34\", \"2021-week_35\", \"2021-week_36\", \"2021-week_37\", \"2021-week_38\", \"2021-week_39\", \"2021-week_40\", \"2021-week_41\", \"2021-week_42\", \"2021-week_43\", \"2021-week_44\", \"2021-week_45\", \"2021-week_46\", \"2021-week_47\", \"2021-week_48\", \"2021-week_49\", \"2021-week_50\", \"2021-week_51\", \"2022-week_01\", \"2022-week_02\", \"2022-week_03\", \"2022-week_04\", \"2022-week_05\", \"2022-week_06\", \"2022-week_52\"], \"y\": [0.06485093340763444, 0.05260594252313687, 0.06129548458916023, 0.0739402362751911, 0.0821289605336298, 0.08106224297762599, 0.07450055493895671, 0.08322921005136749, 0.10069541029207232, 0.07957707289927657, 0.08561286281060765, 0.0904259039093643, 0.09217451523545707, 0.0713588850174216, 0.039786140813775864, 0.07025826159400167, 0.11494733905280044, 0.11170508192168842, 0.09160484185864896, 0.06743135210288495, 0.0704430423628926, 0.09170915694628763, 0.12382543328461057, 0.13681938448684028, 0.15671693654875252, 0.08242310106716887]}, {\"marker\": {\"color\": \"rgba(255, 153, 51, 0.6)\", \"line\": {\"color\": \"rgba(255, 153, 51, 0.8999999999999999)\", \"width\": 1}}, \"name\": \"FlagTap\", \"orientation\": \"v\", \"text\": \"\", \"type\": \"bar\", \"x\": [\"2021-week_33\", \"2021-week_34\", \"2021-week_35\", \"2021-week_36\", \"2021-week_37\", \"2021-week_38\", \"2021-week_39\", \"2021-week_40\", \"2021-week_41\", \"2021-week_42\", \"2021-week_43\", \"2021-week_44\", \"2021-week_45\", \"2021-week_46\", \"2021-week_47\", \"2021-week_48\", \"2021-week_49\", \"2021-week_50\", \"2021-week_51\", \"2022-week_01\", \"2022-week_02\", \"2022-week_03\", \"2022-week_04\", \"2022-week_05\", \"2022-week_06\", \"2022-week_52\"], \"y\": [0.00013931457230426304, \"\", \"\", \"\", \"\", \"\", \"\", \"\", \"\", \"\", \"\", \"\", \"\", \"\", \"\", \"\", \"\", \"\", \"\", \"\", \"\", \"\", \"\", \"\", \"\", \"\"]}, {\"marker\": {\"color\": \"rgba(55, 128, 191, 0.6)\", \"line\": {\"color\": \"rgba(55, 128, 191, 0.8999999999999999)\", \"width\": 1}}, \"name\": \"Fry Multimedia\", \"orientation\": \"v\", \"text\": \"\", \"type\": \"bar\", \"x\": [\"2021-week_33\", \"2021-week_34\", \"2021-week_35\", \"2021-week_36\", \"2021-week_37\", \"2021-week_38\", \"2021-week_39\", \"2021-week_40\", \"2021-week_41\", \"2021-week_42\", \"2021-week_43\", \"2021-week_44\", \"2021-week_45\", \"2021-week_46\", \"2021-week_47\", \"2021-week_48\", \"2021-week_49\", \"2021-week_50\", \"2021-week_51\", \"2022-week_01\", \"2022-week_02\", \"2022-week_03\", \"2022-week_04\", \"2022-week_05\", \"2022-week_06\", \"2022-week_52\"], \"y\": [0.01567288938422959, 0.017744067914550136, 0.017950323523272804, 0.01716469770674079, 0.017857142857142856, 0.01575242210915174, 0.014567147613762486, 0.018256282104678605, 0.0196105702364395, 0.0134251530328325, 0.012111087909793277, 0.01258829288761452, 0.010110803324099723, 0.00975609756097561, 0.011803916122760728, 0.014509858372674257, 0.012624677408104903, 0.009233546237156345, 0.01101132370167903, 0.016336461591936045, 0.016501421340913817, 0.014178948103653, 0.012041483956288717, 0.009956830524996518, 0.012162068246577246, 0.006528562460765851]}, {\"marker\": {\"color\": \"rgba(50, 171, 96, 0.6)\", \"line\": {\"color\": \"rgba(50, 171, 96, 0.8999999999999999)\", \"width\": 1}}, \"name\": \"G-mode\", \"orientation\": \"v\", \"text\": \"\", \"type\": \"bar\", \"x\": [\"2021-week_33\", \"2021-week_34\", \"2021-week_35\", \"2021-week_36\", \"2021-week_37\", \"2021-week_38\", \"2021-week_39\", \"2021-week_40\", \"2021-week_41\", \"2021-week_42\", \"2021-week_43\", \"2021-week_44\", \"2021-week_45\", \"2021-week_46\", \"2021-week_47\", \"2021-week_48\", \"2021-week_49\", \"2021-week_50\", \"2021-week_51\", \"2022-week_01\", \"2022-week_02\", \"2022-week_03\", \"2022-week_04\", \"2022-week_05\", \"2022-week_06\", \"2022-week_52\"], \"y\": [0.0026469768737809973, 0.0026442140421682556, 0.0030612954845891604, 0.005628908964558721, 0.005350194552529183, 0.002997142259705862, 0.004786348501664817, 0.004928502013050118, 0.005563282336578581, 0.0025041736227045075, 0.0021577225586413306, 0.002587593538009651, 0.004293628808864266, 0.0029965156794425087, 0.002846826829606999, 0.0036101083032490976, 0.00411522633744856, 0.002360455429047487, 0.004607575165950801, 0.0022940563086548487, 0.003328017749427997, 0.002374799189774394, 0.0027841581401823624, 0.002297730121153043, 0.0014594481895892695, 0.004331450094161958]}, {\"marker\": {\"color\": \"rgba(128, 0, 128, 0.6)\", \"line\": {\"color\": \"rgba(128, 0, 128, 0.8999999999999999)\", \"width\": 1}}, \"name\": \"Glory Medical\", \"orientation\": \"v\", \"text\": \"\", \"type\": \"bar\", \"x\": [\"2021-week_33\", \"2021-week_34\", \"2021-week_35\", \"2021-week_36\", \"2021-week_37\", \"2021-week_38\", \"2021-week_39\", \"2021-week_40\", \"2021-week_41\", \"2021-week_42\", \"2021-week_43\", \"2021-week_44\", \"2021-week_45\", \"2021-week_46\", \"2021-week_47\", \"2021-week_48\", \"2021-week_49\", \"2021-week_50\", \"2021-week_51\", \"2022-week_01\", \"2022-week_02\", \"2022-week_03\", \"2022-week_04\", \"2022-week_05\", \"2022-week_06\", \"2022-week_52\"], \"y\": [0.0034132070214544443, 0.0007654303806276529, 0.00013914979475405275, 0.0006254343293954135, 0.0002084491384102279, 0.00034850491391928625, 0.0002081021087680355, 0.00020824656393169514, 6.954102920723227e-05, 6.956037840845854e-05, 6.960395350455906e-05, 0.0003496748024337366, \"\", 0.00013937282229965157, 0.00020830440216636578, 0.00027770063871146905, 0.0004184975936388366, 0.0003471257983893363, 0.00031237797735259666, 0.00013903371567605143, 0.00013866740622616653, 6.984703499336453e-05, \"\", 0.0001392563709789723, \"\", 6.277463904582549e-05]}, {\"marker\": {\"color\": \"rgba(219, 64, 82, 0.6)\", \"line\": {\"color\": \"rgba(219, 64, 82, 0.8999999999999999)\", \"width\": 1}}, \"name\": \"Joules Clothing\", \"orientation\": \"v\", \"text\": \"\", \"type\": \"bar\", \"x\": [\"2021-week_33\", \"2021-week_34\", \"2021-week_35\", \"2021-week_36\", \"2021-week_37\", \"2021-week_38\", \"2021-week_39\", \"2021-week_40\", \"2021-week_41\", \"2021-week_42\", \"2021-week_43\", \"2021-week_44\", \"2021-week_45\", \"2021-week_46\", \"2021-week_47\", \"2021-week_48\", \"2021-week_49\", \"2021-week_50\", \"2021-week_51\", \"2022-week_01\", \"2022-week_02\", \"2022-week_03\", \"2022-week_04\", \"2022-week_05\", \"2022-week_06\", \"2022-week_52\"], \"y\": [0.00027862914460852607, 6.958458005705935e-05, 0.00034787448688513185, 0.00020847810979847116, \"\", 6.970098278385725e-05, \"\", \"\", 6.954102920723227e-05, 0.0001391207568169171, \"\", 0.00020980488146024197, 6.925207756232688e-05, 0.00013937282229965157, 6.943480072212192e-05, \"\", \"\", \"\", \"\", \"\", 6.933370311308327e-05, \"\", \"\", \"\", \"\", \"\"]}, {\"marker\": {\"color\": \"rgba(0, 128, 128, 0.6)\", \"line\": {\"color\": \"rgba(0, 128, 128, 0.8999999999999999)\", \"width\": 1}}, \"name\": \"Jun Group\", \"orientation\": \"v\", \"text\": \"\", \"type\": \"bar\", \"x\": [\"2021-week_33\", \"2021-week_34\", \"2021-week_35\", \"2021-week_36\", \"2021-week_37\", \"2021-week_38\", \"2021-week_39\", \"2021-week_40\", \"2021-week_41\", \"2021-week_42\", \"2021-week_43\", \"2021-week_44\", \"2021-week_45\", \"2021-week_46\", \"2021-week_47\", \"2021-week_48\", \"2021-week_49\", \"2021-week_50\", \"2021-week_51\", \"2022-week_01\", \"2022-week_02\", \"2022-week_03\", \"2022-week_04\", \"2022-week_05\", \"2022-week_06\", \"2022-week_52\"], \"y\": [\"\", \"\", \"\", \"\", \"\", \"\", \"\", \"\", \"\", \"\", \"\", 6.993496048674733e-05, \"\", \"\", \"\", \"\", \"\", \"\", 7.809449433814917e-05, \"\", \"\", \"\", 0.00013920790700911812, \"\", \"\", \"\"]}, {\"marker\": {\"color\": \"rgba(255, 255, 51, 0.6)\", \"line\": {\"color\": \"rgba(255, 255, 51, 0.8999999999999999)\", \"width\": 1}}, \"name\": \"LocalVox Media\", \"orientation\": \"v\", \"text\": \"\", \"type\": \"bar\", \"x\": [\"2021-week_33\", \"2021-week_34\", \"2021-week_35\", \"2021-week_36\", \"2021-week_37\", \"2021-week_38\", \"2021-week_39\", \"2021-week_40\", \"2021-week_41\", \"2021-week_42\", \"2021-week_43\", \"2021-week_44\", \"2021-week_45\", \"2021-week_46\", \"2021-week_47\", \"2021-week_48\", \"2021-week_49\", \"2021-week_50\", \"2021-week_51\", \"2022-week_01\", \"2022-week_02\", \"2022-week_03\", \"2022-week_04\", \"2022-week_05\", \"2022-week_06\", \"2022-week_52\"], \"y\": [0.015254945667316801, 0.020875374017117806, 0.01551520211507688, 0.01535788742182071, 0.01764869371873263, 0.015961525057503312, 0.013665371809100999, 0.016034985422740525, 0.015716272600834493, 0.011268781302170284, 0.009396533723115472, 0.014546471781243443, 0.017243767313019392, 0.016445993031358887, 0.017914178586307457, 0.01825881699527909, 0.02218037246285834, 0.016870313801721742, 0.01663412729402577, 0.016127911018421967, 0.01504541357553907, 0.011175525598938325, 0.0119022760492796, 0.011001253307338811, 0.010146639794287303, 0.021468926553672316]}, {\"marker\": {\"color\": \"rgba(128, 128, 0, 0.6)\", \"line\": {\"color\": \"rgba(128, 128, 0, 0.8999999999999999)\", \"width\": 1}}, \"name\": \"Marketo Japan\", \"orientation\": \"v\", \"text\": \"\", \"type\": \"bar\", \"x\": [\"2021-week_33\", \"2021-week_34\", \"2021-week_35\", \"2021-week_36\", \"2021-week_37\", \"2021-week_38\", \"2021-week_39\", \"2021-week_40\", \"2021-week_41\", \"2021-week_42\", \"2021-week_43\", \"2021-week_44\", \"2021-week_45\", \"2021-week_46\", \"2021-week_47\", \"2021-week_48\", \"2021-week_49\", \"2021-week_50\", \"2021-week_51\", \"2022-week_01\", \"2022-week_02\", \"2022-week_03\", \"2022-week_04\", \"2022-week_05\", \"2022-week_06\", \"2022-week_52\"], \"y\": [\"\", \"\", \"\", \"\", 6.948304613674263e-05, \"\", \"\", \"\", \"\", \"\", \"\", \"\", \"\", \"\", \"\", \"\", \"\", \"\", \"\", \"\", \"\", \"\", \"\", \"\", \"\", \"\"]}, {\"marker\": {\"color\": \"rgba(251, 128, 114, 0.6)\", \"line\": {\"color\": \"rgba(251, 128, 114, 0.8999999999999999)\", \"width\": 1}}, \"name\": \"Metranome\", \"orientation\": \"v\", \"text\": \"\", \"type\": \"bar\", \"x\": [\"2021-week_33\", \"2021-week_34\", \"2021-week_35\", \"2021-week_36\", \"2021-week_37\", \"2021-week_38\", \"2021-week_39\", \"2021-week_40\", \"2021-week_41\", \"2021-week_42\", \"2021-week_43\", \"2021-week_44\", \"2021-week_45\", \"2021-week_46\", \"2021-week_47\", \"2021-week_48\", \"2021-week_49\", \"2021-week_50\", \"2021-week_51\", \"2022-week_01\", \"2022-week_02\", \"2022-week_03\", \"2022-week_04\", \"2022-week_05\", \"2022-week_06\", \"2022-week_52\"], \"y\": [0.00027862914460852607, 0.00020875374017117806, 0.0002782995895081055, 0.00034746351633078526, 6.948304613674263e-05, 6.970098278385725e-05, 0.00013873473917869035, 0.00013883104262113008, \"\", \"\", \"\", 6.993496048674733e-05, \"\", 6.968641114982578e-05, \"\", \"\", 0.0001394991978796122, 0.00013885031935573453, 7.809449433814917e-05, \"\", \"\", \"\", 0.00013920790700911812, 6.962818548948615e-05, 6.949753283758427e-05, 6.277463904582549e-05]}, {\"marker\": {\"color\": \"rgba(251, 128, 114, 0.6)\", \"line\": {\"color\": \"rgba(251, 128, 114, 0.7999999999999998)\", \"width\": 1}}, \"name\": \"Mission Street Manufacturing\", \"orientation\": \"v\", \"text\": \"\", \"type\": \"bar\", \"x\": [\"2021-week_33\", \"2021-week_34\", \"2021-week_35\", \"2021-week_36\", \"2021-week_37\", \"2021-week_38\", \"2021-week_39\", \"2021-week_40\", \"2021-week_41\", \"2021-week_42\", \"2021-week_43\", \"2021-week_44\", \"2021-week_45\", \"2021-week_46\", \"2021-week_47\", \"2021-week_48\", \"2021-week_49\", \"2021-week_50\", \"2021-week_51\", \"2022-week_01\", \"2022-week_02\", \"2022-week_03\", \"2022-week_04\", \"2022-week_05\", \"2022-week_06\", \"2022-week_52\"], \"y\": [0.0009752020061298412, 0.0006958458005705936, 0.0010436234606553956, 0.00034746351633078526, 0.0003474152306837132, 0.0006273088450547153, 0.000416204217536071, 0.0003470776065528252, 0.0004172461752433936, 0.00041736227045075126, 0.00041762372102735435, 0.0009091544863277152, 0.0006232686980609418, 0.0005574912891986063, 0.0005554784057769754, 0.00041655095806720355, 0.0009067447862174793, 0.00041655095806720355, 0.0003904724716907458, 0.0003475842891901286, 0.00020800110933924982, 0.0004889292449535517, 6.960395350455906e-05, 0.00020888455646845844, 0.0005559802627006741, 0.00025109855618330194]}, {\"marker\": {\"color\": \"rgba(128, 177, 211, 0.6)\", \"line\": {\"color\": \"rgba(128, 177, 211, 0.7999999999999998)\", \"width\": 1}}, \"name\": \"MoJoe Brewing Company\", \"orientation\": \"v\", \"text\": \"\", \"type\": \"bar\", \"x\": [\"2021-week_33\", \"2021-week_34\", \"2021-week_35\", \"2021-week_36\", \"2021-week_37\", \"2021-week_38\", \"2021-week_39\", \"2021-week_40\", \"2021-week_41\", \"2021-week_42\", \"2021-week_43\", \"2021-week_44\", \"2021-week_45\", \"2021-week_46\", \"2021-week_47\", \"2021-week_48\", \"2021-week_49\", \"2021-week_50\", \"2021-week_51\", \"2022-week_01\", \"2022-week_02\", \"2022-week_03\", \"2022-week_04\", \"2022-week_05\", \"2022-week_06\", \"2022-week_52\"], \"y\": [0.09424630816383393, 0.07890891378470531, 0.10387532178390037, 0.08881167477414871, 0.09672040022234575, 0.0759740712344044, 0.08011931187569367, 0.07309454394002499, 0.05744089012517385, 0.041666666666666664, 0.0680030625739542, 0.06007413105811595, 0.056509695290858725, 0.09874564459930314, 0.0611026246354673, 0.13732296584282144, 0.0823045267489712, 0.12454873646209386, 0.07169074580242094, 0.07897115050399722, 0.08028842820495043, 0.10169728295033875, 0.06507969652676272, 0.08174348976465673, 0.06393773021057753, 0.14055241682360325]}, {\"marker\": {\"color\": \"rgba(255, 153, 51, 0.6)\", \"line\": {\"color\": \"rgba(255, 153, 51, 0.7999999999999998)\", \"width\": 1}}, \"name\": \"Modanisa\", \"orientation\": \"v\", \"text\": \"\", \"type\": \"bar\", \"x\": [\"2021-week_33\", \"2021-week_34\", \"2021-week_35\", \"2021-week_36\", \"2021-week_37\", \"2021-week_38\", \"2021-week_39\", \"2021-week_40\", \"2021-week_41\", \"2021-week_42\", \"2021-week_43\", \"2021-week_44\", \"2021-week_45\", \"2021-week_46\", \"2021-week_47\", \"2021-week_48\", \"2021-week_49\", \"2021-week_50\", \"2021-week_51\", \"2022-week_01\", \"2022-week_02\", \"2022-week_03\", \"2022-week_04\", \"2022-week_05\", \"2022-week_06\", \"2022-week_52\"], \"y\": [0.009055447199777097, 0.008141395866675945, 0.007583663814095874, 0.007157748436414177, 0.006461923290717065, 0.005854882553844009, 0.02746947835738069, 0.024711925586561156, 0.026564673157162728, 0.022746243739565943, 0.03048653163499687, 0.01594517099097839, 0.006232686980609419, 0.006480836236933798, 0.007290654075822803, 0.006525965009719522, 0.006277463904582548, 0.005762288253262983, 0.004919953143303397, 0.004449078901633646, 0.003328017749427997, 0.0034923517496682267, 0.0027841581401823624, 0.004108062943879683, 0.0025714087149906178, 0.004331450094161958]}, {\"marker\": {\"color\": \"rgba(55, 128, 191, 0.6)\", \"line\": {\"color\": \"rgba(55, 128, 191, 0.7999999999999998)\", \"width\": 1}}, \"name\": \"OpenDesks, Inc.\", \"orientation\": \"v\", \"text\": \"\", \"type\": \"bar\", \"x\": [\"2021-week_33\", \"2021-week_34\", \"2021-week_35\", \"2021-week_36\", \"2021-week_37\", \"2021-week_38\", \"2021-week_39\", \"2021-week_40\", \"2021-week_41\", \"2021-week_42\", \"2021-week_43\", \"2021-week_44\", \"2021-week_45\", \"2021-week_46\", \"2021-week_47\", \"2021-week_48\", \"2021-week_49\", \"2021-week_50\", \"2021-week_51\", \"2022-week_01\", \"2022-week_02\", \"2022-week_03\", \"2022-week_04\", \"2022-week_05\", \"2022-week_06\", \"2022-week_52\"], \"y\": [0.00041794371691278906, 0.0004175074803423561, 0.0004870242816391846, 0.001320361362056984, 0.0009032795997776543, 0.0012546176901094305, 0.00201165371809101, 0.0023601277245592113, 0.0018080667593880389, 0.0019476905954368391, 0.001113663256072945, 0.0018882439331421778, 0.001592797783933518, 0.0029965156794425087, 0.002569087626718511, 0.0014579283532352124, 0.0015344911766757342, 0.0008331019161344071, 0.002420929324482624, 0.00145985401459854, 0.0016640088747139985, 0.001187399594887197, 0.0009048513955592678, 0.0008355382258738338, 0.0009034679268885954, 0.0018832391713747645]}, {\"marker\": {\"color\": \"rgba(50, 171, 96, 0.6)\", \"line\": {\"color\": \"rgba(50, 171, 96, 0.7999999999999998)\", \"width\": 1}}, \"name\": \"PageBites\", \"orientation\": \"v\", \"text\": \"\", \"type\": \"bar\", \"x\": [\"2021-week_33\", \"2021-week_34\", \"2021-week_35\", \"2021-week_36\", \"2021-week_37\", \"2021-week_38\", \"2021-week_39\", \"2021-week_40\", \"2021-week_41\", \"2021-week_42\", \"2021-week_43\", \"2021-week_44\", \"2021-week_45\", \"2021-week_46\", \"2021-week_47\", \"2021-week_48\", \"2021-week_49\", \"2021-week_50\", \"2021-week_51\", \"2022-week_01\", \"2022-week_02\", \"2022-week_03\", \"2022-week_04\", \"2022-week_05\", \"2022-week_06\", \"2022-week_52\"], \"y\": [0.0016021175814990248, 0.0006958458005705936, 0.001113198358032422, 0.0008339124391938846, 0.0012506948304613673, 0.0007667108106224297, 0.00048557158712541623, 6.941552131056504e-05, 0.0004867872044506259, 0.0005564830272676684, 0.00027841581401823624, 0.00020980488146024197, \"\", \"\", \"\", \"\", \"\", \"\", \"\", \"\", 0.00013866740622616653, 0.0002095411049800936, 0.00020881186051367718, 0.00020888455646845844, 0.00027799013135033706, \"\"]}, {\"marker\": {\"color\": \"rgba(128, 0, 128, 0.6)\", \"line\": {\"color\": \"rgba(128, 0, 128, 0.7999999999999998)\", \"width\": 1}}, \"name\": \"Pole Star\", \"orientation\": \"v\", \"text\": \"\", \"type\": \"bar\", \"x\": [\"2021-week_33\", \"2021-week_34\", \"2021-week_35\", \"2021-week_36\", \"2021-week_37\", \"2021-week_38\", \"2021-week_39\", \"2021-week_40\", \"2021-week_41\", \"2021-week_42\", \"2021-week_43\", \"2021-week_44\", \"2021-week_45\", \"2021-week_46\", \"2021-week_47\", \"2021-week_48\", \"2021-week_49\", \"2021-week_50\", \"2021-week_51\", \"2022-week_01\", \"2022-week_02\", \"2022-week_03\", \"2022-week_04\", \"2022-week_05\", \"2022-week_06\", \"2022-week_52\"], \"y\": [0.0030649205906937865, 0.0017396145014264839, \"\", \"\", 6.948304613674263e-05, 6.970098278385725e-05, 0.00013873473917869035, 6.941552131056504e-05, 0.0011821974965229485, 0.00020868113522537563, 0.00020881186051367718, 0.0006294146443807259, 0.0017313019390581717, 0.0011149825783972125, \"\", \"\", 0.0001394991978796122, 6.942515967786726e-05, 7.809449433814917e-05, 0.0003475842891901286, 0.0003466685155654163, 0.00034923517496682265, 0.0015312869771002993, 0.001392563709789723, 0.0016679407881020224, 0.00012554927809165097]}, {\"marker\": {\"color\": \"rgba(219, 64, 82, 0.6)\", \"line\": {\"color\": \"rgba(219, 64, 82, 0.7999999999999998)\", \"width\": 1}}, \"name\": \"Puentes Company\", \"orientation\": \"v\", \"text\": \"\", \"type\": \"bar\", \"x\": [\"2021-week_33\", \"2021-week_34\", \"2021-week_35\", \"2021-week_36\", \"2021-week_37\", \"2021-week_38\", \"2021-week_39\", \"2021-week_40\", \"2021-week_41\", \"2021-week_42\", \"2021-week_43\", \"2021-week_44\", \"2021-week_45\", \"2021-week_46\", \"2021-week_47\", \"2021-week_48\", \"2021-week_49\", \"2021-week_50\", \"2021-week_51\", \"2022-week_01\", \"2022-week_02\", \"2022-week_03\", \"2022-week_04\", \"2022-week_05\", \"2022-week_06\", \"2022-week_52\"], \"y\": [0.09452493730844247, 0.08197063530721592, 0.07521046406456551, 0.07588603196664351, 0.07406892718176765, 0.0683069631281801, 0.06804938956714761, 0.06976259891711786, 0.08817802503477051, 0.07206455203116305, 0.06333959768914875, 0.07720819637736905, 0.10297783933518005, 0.0932404181184669, 0.09061241494236912, 0.0814357123021383, 0.09130222501220618, 0.08497639544570952, 0.10378758297540024, 0.09336114007646855, 0.09061914996879983, 0.06635468324369631, 0.05902415257186608, 0.05653808661746275, 0.0583084300507332, 0.06936597614563716]}, {\"marker\": {\"color\": \"rgba(0, 128, 128, 0.6)\", \"line\": {\"color\": \"rgba(0, 128, 128, 0.7999999999999998)\", \"width\": 1}}, \"name\": \"PureSafe water systems\", \"orientation\": \"v\", \"text\": \"\", \"type\": \"bar\", \"x\": [\"2021-week_33\", \"2021-week_34\", \"2021-week_35\", \"2021-week_36\", \"2021-week_37\", \"2021-week_38\", \"2021-week_39\", \"2021-week_40\", \"2021-week_41\", \"2021-week_42\", \"2021-week_43\", \"2021-week_44\", \"2021-week_45\", \"2021-week_46\", \"2021-week_47\", \"2021-week_48\", \"2021-week_49\", \"2021-week_50\", \"2021-week_51\", \"2022-week_01\", \"2022-week_02\", \"2022-week_03\", \"2022-week_04\", \"2022-week_05\", \"2022-week_06\", \"2022-week_52\"], \"y\": [\"\", \"\", \"\", \"\", \"\", \"\", \"\", \"\", \"\", \"\", \"\", \"\", \"\", \"\", \"\", \"\", \"\", \"\", \"\", \"\", \"\", \"\", \"\", 6.962818548948615e-05, \"\", \"\"]}, {\"marker\": {\"color\": \"rgba(255, 255, 51, 0.6)\", \"line\": {\"color\": \"rgba(255, 255, 51, 0.7999999999999998)\", \"width\": 1}}, \"name\": \"RelayFoods\", \"orientation\": \"v\", \"text\": \"\", \"type\": \"bar\", \"x\": [\"2021-week_33\", \"2021-week_34\", \"2021-week_35\", \"2021-week_36\", \"2021-week_37\", \"2021-week_38\", \"2021-week_39\", \"2021-week_40\", \"2021-week_41\", \"2021-week_42\", \"2021-week_43\", \"2021-week_44\", \"2021-week_45\", \"2021-week_46\", \"2021-week_47\", \"2021-week_48\", \"2021-week_49\", \"2021-week_50\", \"2021-week_51\", \"2022-week_01\", \"2022-week_02\", \"2022-week_03\", \"2022-week_04\", \"2022-week_05\", \"2022-week_06\", \"2022-week_52\"], \"y\": [0.10929228197269435, 0.06297404495163872, 0.06880957350587907, 0.06949270326615706, 0.06663424124513619, 0.06754025231755768, 0.052372364039955606, 0.04602249062890462, 0.05660639777468707, 0.2598775737340011, 0.24131690680030626, 0.2721169312539338, 0.3479224376731302, 0.31679442508710803, 0.3327315650604083, 0.2905442932518745, 0.32370788867964007, 0.3126214940294363, 0.28621632174931666, 0.26930830726451166, 0.2656867503293351, 0.24760773905147726, 0.247511658662212, 0.22629160284082997, 0.23650010424629925, 0.3747018204645323]}, {\"marker\": {\"color\": \"rgba(128, 128, 0, 0.6)\", \"line\": {\"color\": \"rgba(128, 128, 0, 0.7999999999999998)\", \"width\": 1}}, \"name\": \"SOLOMO365\", \"orientation\": \"v\", \"text\": \"\", \"type\": \"bar\", \"x\": [\"2021-week_33\", \"2021-week_34\", \"2021-week_35\", \"2021-week_36\", \"2021-week_37\", \"2021-week_38\", \"2021-week_39\", \"2021-week_40\", \"2021-week_41\", \"2021-week_42\", \"2021-week_43\", \"2021-week_44\", \"2021-week_45\", \"2021-week_46\", \"2021-week_47\", \"2021-week_48\", \"2021-week_49\", \"2021-week_50\", \"2021-week_51\", \"2022-week_01\", \"2022-week_02\", \"2022-week_03\", \"2022-week_04\", \"2022-week_05\", \"2022-week_06\", \"2022-week_52\"], \"y\": [0.05544719977709668, 0.06039941548952752, 0.05976483684686565, 0.05573314801945796, 0.055586436909394105, 0.05813061964173695, 0.049944506104328525, 0.014993752603082049, \"\", \"\", \"\", \"\", \"\", \"\", \"\", \"\", \"\", \"\", \"\", \"\", \"\", \"\", \"\", \"\", \"\", \"\"]}, {\"marker\": {\"color\": \"rgba(128, 128, 0, 0.6)\", \"line\": {\"color\": \"rgba(128, 128, 0, 0.7)\", \"width\": 1}}, \"name\": \"Search Million Culture\", \"orientation\": \"v\", \"text\": \"\", \"type\": \"bar\", \"x\": [\"2021-week_33\", \"2021-week_34\", \"2021-week_35\", \"2021-week_36\", \"2021-week_37\", \"2021-week_38\", \"2021-week_39\", \"2021-week_40\", \"2021-week_41\", \"2021-week_42\", \"2021-week_43\", \"2021-week_44\", \"2021-week_45\", \"2021-week_46\", \"2021-week_47\", \"2021-week_48\", \"2021-week_49\", \"2021-week_50\", \"2021-week_51\", \"2022-week_01\", \"2022-week_02\", \"2022-week_03\", \"2022-week_04\", \"2022-week_05\", \"2022-week_06\", \"2022-week_52\"], \"y\": [0.35218723878517694, 0.39043907870016004, 0.35030960829332775, 0.35392633773453785, 0.3494302390216787, 0.33372830556910854, 0.3140260821309656, 0.3306261280022213, 0.3364394993045897, 0.25994713411240955, 0.24110809493979257, 0.1897335478005455, 0.0853185595567867, 0.09337979094076655, 0.09665324260519373, 0.11538461538461539, 0.13287298598033062, 0.12350735906692585, 0.12526356891839124, 0.19443865137295793, 0.2046730915898218, 0.23342879094782426, 0.25440245005916334, 0.25163626235900294, 0.23816804503440128, 0.0743879472693032]}, {\"marker\": {\"color\": \"rgba(251, 128, 114, 0.6)\", \"line\": {\"color\": \"rgba(251, 128, 114, 0.7)\", \"width\": 1}}, \"name\": \"Sensor Tower\", \"orientation\": \"v\", \"text\": \"\", \"type\": \"bar\", \"x\": [\"2021-week_33\", \"2021-week_34\", \"2021-week_35\", \"2021-week_36\", \"2021-week_37\", \"2021-week_38\", \"2021-week_39\", \"2021-week_40\", \"2021-week_41\", \"2021-week_42\", \"2021-week_43\", \"2021-week_44\", \"2021-week_45\", \"2021-week_46\", \"2021-week_47\", \"2021-week_48\", \"2021-week_49\", \"2021-week_50\", \"2021-week_51\", \"2022-week_01\", \"2022-week_02\", \"2022-week_03\", \"2022-week_04\", \"2022-week_05\", \"2022-week_06\", \"2022-week_52\"], \"y\": [0.03629144608526052, 0.03374852132767379, 0.031308703819661866, 0.018763029881862403, 0.012854363535297387, 0.008712622847982156, 0.0076997780244173145, 0.006455643481882549, 0.00674547983310153, 0.006816917084028937, 0.005568316280364725, 0.005384991957479544, 0.00574792243767313, 0.004320557491289199, 0.004443827246215803, 0.005554012774229381, 0.007463207086559252, 0.004859761177450708, 0.003358063256540414, 0.003475842891901286, 0.0029813492338625807, 0.00447021023957533, 0.004315445117282661, 0.003899178387411224, 0.004169851970255056, 0.004205900816070308]}, {\"marker\": {\"color\": \"rgba(128, 177, 211, 0.6)\", \"line\": {\"color\": \"rgba(128, 177, 211, 0.7)\", \"width\": 1}}, \"name\": \"Tab Solutions\", \"orientation\": \"v\", \"text\": \"\", \"type\": \"bar\", \"x\": [\"2021-week_33\", \"2021-week_34\", \"2021-week_35\", \"2021-week_36\", \"2021-week_37\", \"2021-week_38\", \"2021-week_39\", \"2021-week_40\", \"2021-week_41\", \"2021-week_42\", \"2021-week_43\", \"2021-week_44\", \"2021-week_45\", \"2021-week_46\", \"2021-week_47\", \"2021-week_48\", \"2021-week_49\", \"2021-week_50\", \"2021-week_51\", \"2022-week_01\", \"2022-week_02\", \"2022-week_03\", \"2022-week_04\", \"2022-week_05\", \"2022-week_06\", \"2022-week_52\"], \"y\": [0.0672192811368069, 0.054345557024563354, 0.04981562652195088, 0.055524669909659485, 0.05885214007782101, 0.04000836411793406, 0.05292730299667037, 0.06774954879911148, 0.0672461752433936, 0.047996661101836396, 0.04719148047609104, 0.05063291139240506, 0.04113573407202216, 0.014355400696864112, 0.016594917372587142, 0.0197167453485143, 0.031317569923972936, 0.02256317689530686, 0.019992190550566186, 0.010983663538408064, 0.012618733966581155, 0.01494726548858001, 0.016565740934085055, 0.01392563709789723, 0.01709639307804573, 0.013998744507219083]}, {\"marker\": {\"color\": \"rgba(255, 153, 51, 0.6)\", \"line\": {\"color\": \"rgba(255, 153, 51, 0.7)\", \"width\": 1}}, \"name\": \"VarVee\", \"orientation\": \"v\", \"text\": \"\", \"type\": \"bar\", \"x\": [\"2021-week_33\", \"2021-week_34\", \"2021-week_35\", \"2021-week_36\", \"2021-week_37\", \"2021-week_38\", \"2021-week_39\", \"2021-week_40\", \"2021-week_41\", \"2021-week_42\", \"2021-week_43\", \"2021-week_44\", \"2021-week_45\", \"2021-week_46\", \"2021-week_47\", \"2021-week_48\", \"2021-week_49\", \"2021-week_50\", \"2021-week_51\", \"2022-week_01\", \"2022-week_02\", \"2022-week_03\", \"2022-week_04\", \"2022-week_05\", \"2022-week_06\", \"2022-week_52\"], \"y\": [0.00229869044302034, 0.004662166863822976, 0.004870242816391846, 0.006879777623349548, 0.0074346859366314615, 0.007179201226737297, 0.005063817980022198, 0.004789670970428988, 0.005563282336578581, 0.0023650528658875902, 0.0029929700006960393, 0.003217008182390377, 0.003601108033240997, 0.0024390243902439024, 0.002707957228162755, 0.0017356289919466814, 0.0004882471925786427, 0.0006248264371008053, 0.00046856696602889497, 0.00027806743135210286, 0.0006933370311308326, 0.0007683173849270099, 0.0010440593025683859, 0.0007659100403843476, 0.0006949753283758427, 0.0003766478342749529]}, {\"marker\": {\"color\": \"rgba(55, 128, 191, 0.6)\", \"line\": {\"color\": \"rgba(55, 128, 191, 0.7)\", \"width\": 1}}, \"name\": \"aPriori Technologies\", \"orientation\": \"v\", \"text\": \"\", \"type\": \"bar\", \"x\": [\"2021-week_33\", \"2021-week_34\", \"2021-week_35\", \"2021-week_36\", \"2021-week_37\", \"2021-week_38\", \"2021-week_39\", \"2021-week_40\", \"2021-week_41\", \"2021-week_42\", \"2021-week_43\", \"2021-week_44\", \"2021-week_45\", \"2021-week_46\", \"2021-week_47\", \"2021-week_48\", \"2021-week_49\", \"2021-week_50\", \"2021-week_51\", \"2022-week_01\", \"2022-week_02\", \"2022-week_03\", \"2022-week_04\", \"2022-week_05\", \"2022-week_06\", \"2022-week_52\"], \"y\": [0.002995263304541655, 0.0029225523623964927, 0.003965769150490503, 0.0029881862404447534, 0.0027098387993329627, 0.002439534397435004, 0.0039539400665926745, 0.004442593363876163, 0.0035465924895688454, 0.002295492487479132, 0.002853762093686921, 0.002307853696062662, 0.003670360110803324, 0.005156794425087108, 0.004999305651992779, 0.003262982504859761, 0.0034874799469903047, 0.00354068314357123, 0.004139008199921906, 0.0032672923183872087, 0.002010677390279415, 0.0017461758748341133, 0.0020881186051367718, 0.002297730121153043, 0.002015428452289944, 0.0038292529817953547]}, {\"marker\": {\"color\": \"rgba(50, 171, 96, 0.6)\", \"line\": {\"color\": \"rgba(50, 171, 96, 0.7)\", \"width\": 1}}, \"name\": \"iDreamsky Technology\", \"orientation\": \"v\", \"text\": \"\", \"type\": \"bar\", \"x\": [\"2021-week_33\", \"2021-week_34\", \"2021-week_35\", \"2021-week_36\", \"2021-week_37\", \"2021-week_38\", \"2021-week_39\", \"2021-week_40\", \"2021-week_41\", \"2021-week_42\", \"2021-week_43\", \"2021-week_44\", \"2021-week_45\", \"2021-week_46\", \"2021-week_47\", \"2021-week_48\", \"2021-week_49\", \"2021-week_50\", \"2021-week_51\", \"2022-week_01\", \"2022-week_02\", \"2022-week_03\", \"2022-week_04\", \"2022-week_05\", \"2022-week_06\", \"2022-week_52\"], \"y\": [0.021872387851769294, 0.021153712337346045, 0.035761497251791556, 0.04211257817929118, 0.04175931072818232, 0.05123022234613508, 0.04557436182019978, 0.042759961127308066, 0.032753824756606396, 0.018433500278241515, 0.018932275353240064, 0.020560878383103713, 0.0260387811634349, 0.04494773519163763, 0.08734897930842939, 0.036239933351846706, 0.02483085722257097, 0.02513190780338795, 0.026395939086294416, 0.024261383385470976, 0.021770782777508147, 0.01990640497310889, 0.016356929073571377, 0.016362623590029244, 0.018555841267634997, 0.02366603892027621]}],                        {\"barmode\": \"stack\", \"legend\": {\"bgcolor\": \"#F5F6F9\", \"font\": {\"color\": \"#4D5663\"}, \"traceorder\": \"normal\"}, \"paper_bgcolor\": \"#F5F6F9\", \"plot_bgcolor\": \"#F5F6F9\", \"template\": {\"data\": {\"bar\": [{\"error_x\": {\"color\": \"#2a3f5f\"}, \"error_y\": {\"color\": \"#2a3f5f\"}, \"marker\": {\"line\": {\"color\": \"#E5ECF6\", \"width\": 0.5}}, \"type\": \"bar\"}], \"barpolar\": [{\"marker\": {\"line\": {\"color\": \"#E5ECF6\", \"width\": 0.5}}, \"type\": \"barpolar\"}], \"carpet\": [{\"aaxis\": {\"endlinecolor\": \"#2a3f5f\", \"gridcolor\": \"white\", \"linecolor\": \"white\", \"minorgridcolor\": \"white\", \"startlinecolor\": \"#2a3f5f\"}, \"baxis\": {\"endlinecolor\": \"#2a3f5f\", \"gridcolor\": \"white\", \"linecolor\": \"white\", \"minorgridcolor\": \"white\", \"startlinecolor\": \"#2a3f5f\"}, \"type\": \"carpet\"}], \"choropleth\": [{\"colorbar\": {\"outlinewidth\": 0, \"ticks\": \"\"}, \"type\": \"choropleth\"}], \"contour\": [{\"colorbar\": {\"outlinewidth\": 0, \"ticks\": \"\"}, \"colorscale\": [[0.0, \"#0d0887\"], [0.1111111111111111, \"#46039f\"], [0.2222222222222222, \"#7201a8\"], [0.3333333333333333, \"#9c179e\"], [0.4444444444444444, \"#bd3786\"], [0.5555555555555556, \"#d8576b\"], [0.6666666666666666, \"#ed7953\"], [0.7777777777777778, \"#fb9f3a\"], [0.8888888888888888, \"#fdca26\"], [1.0, \"#f0f921\"]], \"type\": \"contour\"}], \"contourcarpet\": [{\"colorbar\": {\"outlinewidth\": 0, \"ticks\": \"\"}, \"type\": \"contourcarpet\"}], \"heatmap\": [{\"colorbar\": {\"outlinewidth\": 0, \"ticks\": \"\"}, \"colorscale\": [[0.0, \"#0d0887\"], [0.1111111111111111, \"#46039f\"], [0.2222222222222222, \"#7201a8\"], [0.3333333333333333, \"#9c179e\"], [0.4444444444444444, \"#bd3786\"], [0.5555555555555556, \"#d8576b\"], [0.6666666666666666, \"#ed7953\"], [0.7777777777777778, \"#fb9f3a\"], [0.8888888888888888, \"#fdca26\"], [1.0, \"#f0f921\"]], \"type\": \"heatmap\"}], \"heatmapgl\": [{\"colorbar\": {\"outlinewidth\": 0, \"ticks\": \"\"}, \"colorscale\": [[0.0, \"#0d0887\"], [0.1111111111111111, \"#46039f\"], [0.2222222222222222, \"#7201a8\"], [0.3333333333333333, \"#9c179e\"], [0.4444444444444444, \"#bd3786\"], [0.5555555555555556, \"#d8576b\"], [0.6666666666666666, \"#ed7953\"], [0.7777777777777778, \"#fb9f3a\"], [0.8888888888888888, \"#fdca26\"], [1.0, \"#f0f921\"]], \"type\": \"heatmapgl\"}], \"histogram\": [{\"marker\": {\"colorbar\": {\"outlinewidth\": 0, \"ticks\": \"\"}}, \"type\": \"histogram\"}], \"histogram2d\": [{\"colorbar\": {\"outlinewidth\": 0, \"ticks\": \"\"}, \"colorscale\": [[0.0, \"#0d0887\"], [0.1111111111111111, \"#46039f\"], [0.2222222222222222, \"#7201a8\"], [0.3333333333333333, \"#9c179e\"], [0.4444444444444444, \"#bd3786\"], [0.5555555555555556, \"#d8576b\"], [0.6666666666666666, \"#ed7953\"], [0.7777777777777778, \"#fb9f3a\"], [0.8888888888888888, \"#fdca26\"], [1.0, \"#f0f921\"]], \"type\": \"histogram2d\"}], \"histogram2dcontour\": [{\"colorbar\": {\"outlinewidth\": 0, \"ticks\": \"\"}, \"colorscale\": [[0.0, \"#0d0887\"], [0.1111111111111111, \"#46039f\"], [0.2222222222222222, \"#7201a8\"], [0.3333333333333333, \"#9c179e\"], [0.4444444444444444, \"#bd3786\"], [0.5555555555555556, \"#d8576b\"], [0.6666666666666666, \"#ed7953\"], [0.7777777777777778, \"#fb9f3a\"], [0.8888888888888888, \"#fdca26\"], [1.0, \"#f0f921\"]], \"type\": \"histogram2dcontour\"}], \"mesh3d\": [{\"colorbar\": {\"outlinewidth\": 0, \"ticks\": \"\"}, \"type\": \"mesh3d\"}], \"parcoords\": [{\"line\": {\"colorbar\": {\"outlinewidth\": 0, \"ticks\": \"\"}}, \"type\": \"parcoords\"}], \"pie\": [{\"automargin\": true, \"type\": \"pie\"}], \"scatter\": [{\"marker\": {\"colorbar\": {\"outlinewidth\": 0, \"ticks\": \"\"}}, \"type\": \"scatter\"}], \"scatter3d\": [{\"line\": {\"colorbar\": {\"outlinewidth\": 0, \"ticks\": \"\"}}, \"marker\": {\"colorbar\": {\"outlinewidth\": 0, \"ticks\": \"\"}}, \"type\": \"scatter3d\"}], \"scattercarpet\": [{\"marker\": {\"colorbar\": {\"outlinewidth\": 0, \"ticks\": \"\"}}, \"type\": \"scattercarpet\"}], \"scattergeo\": [{\"marker\": {\"colorbar\": {\"outlinewidth\": 0, \"ticks\": \"\"}}, \"type\": \"scattergeo\"}], \"scattergl\": [{\"marker\": {\"colorbar\": {\"outlinewidth\": 0, \"ticks\": \"\"}}, \"type\": \"scattergl\"}], \"scattermapbox\": [{\"marker\": {\"colorbar\": {\"outlinewidth\": 0, \"ticks\": \"\"}}, \"type\": \"scattermapbox\"}], \"scatterpolar\": [{\"marker\": {\"colorbar\": {\"outlinewidth\": 0, \"ticks\": \"\"}}, \"type\": \"scatterpolar\"}], \"scatterpolargl\": [{\"marker\": {\"colorbar\": {\"outlinewidth\": 0, \"ticks\": \"\"}}, \"type\": \"scatterpolargl\"}], \"scatterternary\": [{\"marker\": {\"colorbar\": {\"outlinewidth\": 0, \"ticks\": \"\"}}, \"type\": \"scatterternary\"}], \"surface\": [{\"colorbar\": {\"outlinewidth\": 0, \"ticks\": \"\"}, \"colorscale\": [[0.0, \"#0d0887\"], [0.1111111111111111, \"#46039f\"], [0.2222222222222222, \"#7201a8\"], [0.3333333333333333, \"#9c179e\"], [0.4444444444444444, \"#bd3786\"], [0.5555555555555556, \"#d8576b\"], [0.6666666666666666, \"#ed7953\"], [0.7777777777777778, \"#fb9f3a\"], [0.8888888888888888, \"#fdca26\"], [1.0, \"#f0f921\"]], \"type\": \"surface\"}], \"table\": [{\"cells\": {\"fill\": {\"color\": \"#EBF0F8\"}, \"line\": {\"color\": \"white\"}}, \"header\": {\"fill\": {\"color\": \"#C8D4E3\"}, \"line\": {\"color\": \"white\"}}, \"type\": \"table\"}]}, \"layout\": {\"annotationdefaults\": {\"arrowcolor\": \"#2a3f5f\", \"arrowhead\": 0, \"arrowwidth\": 1}, \"autotypenumbers\": \"strict\", \"coloraxis\": {\"colorbar\": {\"outlinewidth\": 0, \"ticks\": \"\"}}, \"colorscale\": {\"diverging\": [[0, \"#8e0152\"], [0.1, \"#c51b7d\"], [0.2, \"#de77ae\"], [0.3, \"#f1b6da\"], [0.4, \"#fde0ef\"], [0.5, \"#f7f7f7\"], [0.6, \"#e6f5d0\"], [0.7, \"#b8e186\"], [0.8, \"#7fbc41\"], [0.9, \"#4d9221\"], [1, \"#276419\"]], \"sequential\": [[0.0, \"#0d0887\"], [0.1111111111111111, \"#46039f\"], [0.2222222222222222, \"#7201a8\"], [0.3333333333333333, \"#9c179e\"], [0.4444444444444444, \"#bd3786\"], [0.5555555555555556, \"#d8576b\"], [0.6666666666666666, \"#ed7953\"], [0.7777777777777778, \"#fb9f3a\"], [0.8888888888888888, \"#fdca26\"], [1.0, \"#f0f921\"]], \"sequentialminus\": [[0.0, \"#0d0887\"], [0.1111111111111111, \"#46039f\"], [0.2222222222222222, \"#7201a8\"], [0.3333333333333333, \"#9c179e\"], [0.4444444444444444, \"#bd3786\"], [0.5555555555555556, \"#d8576b\"], [0.6666666666666666, \"#ed7953\"], [0.7777777777777778, \"#fb9f3a\"], [0.8888888888888888, \"#fdca26\"], [1.0, \"#f0f921\"]]}, \"colorway\": [\"#636efa\", \"#EF553B\", \"#00cc96\", \"#ab63fa\", \"#FFA15A\", \"#19d3f3\", \"#FF6692\", \"#B6E880\", \"#FF97FF\", \"#FECB52\"], \"font\": {\"color\": \"#2a3f5f\"}, \"geo\": {\"bgcolor\": \"white\", \"lakecolor\": \"white\", \"landcolor\": \"#E5ECF6\", \"showlakes\": true, \"showland\": true, \"subunitcolor\": \"white\"}, \"hoverlabel\": {\"align\": \"left\"}, \"hovermode\": \"closest\", \"mapbox\": {\"style\": \"light\"}, \"paper_bgcolor\": \"white\", \"plot_bgcolor\": \"#E5ECF6\", \"polar\": {\"angularaxis\": {\"gridcolor\": \"white\", \"linecolor\": \"white\", \"ticks\": \"\"}, \"bgcolor\": \"#E5ECF6\", \"radialaxis\": {\"gridcolor\": \"white\", \"linecolor\": \"white\", \"ticks\": \"\"}}, \"scene\": {\"xaxis\": {\"backgroundcolor\": \"#E5ECF6\", \"gridcolor\": \"white\", \"gridwidth\": 2, \"linecolor\": \"white\", \"showbackground\": true, \"ticks\": \"\", \"zerolinecolor\": \"white\"}, \"yaxis\": {\"backgroundcolor\": \"#E5ECF6\", \"gridcolor\": \"white\", \"gridwidth\": 2, \"linecolor\": \"white\", \"showbackground\": true, \"ticks\": \"\", \"zerolinecolor\": \"white\"}, \"zaxis\": {\"backgroundcolor\": \"#E5ECF6\", \"gridcolor\": \"white\", \"gridwidth\": 2, \"linecolor\": \"white\", \"showbackground\": true, \"ticks\": \"\", \"zerolinecolor\": \"white\"}}, \"shapedefaults\": {\"line\": {\"color\": \"#2a3f5f\"}}, \"ternary\": {\"aaxis\": {\"gridcolor\": \"white\", \"linecolor\": \"white\", \"ticks\": \"\"}, \"baxis\": {\"gridcolor\": \"white\", \"linecolor\": \"white\", \"ticks\": \"\"}, \"bgcolor\": \"#E5ECF6\", \"caxis\": {\"gridcolor\": \"white\", \"linecolor\": \"white\", \"ticks\": \"\"}}, \"title\": {\"x\": 0.05}, \"xaxis\": {\"automargin\": true, \"gridcolor\": \"white\", \"linecolor\": \"white\", \"ticks\": \"\", \"title\": {\"standoff\": 15}, \"zerolinecolor\": \"white\", \"zerolinewidth\": 2}, \"yaxis\": {\"automargin\": true, \"gridcolor\": \"white\", \"linecolor\": \"white\", \"ticks\": \"\", \"title\": {\"standoff\": 15}, \"zerolinecolor\": \"white\", \"zerolinewidth\": 2}}}, \"title\": {\"font\": {\"color\": \"#4D5663\"}}, \"xaxis\": {\"gridcolor\": \"#E1E5ED\", \"showgrid\": true, \"tickfont\": {\"color\": \"#4D5663\"}, \"title\": {\"font\": {\"color\": \"#4D5663\"}, \"text\": \"\"}, \"zerolinecolor\": \"#E1E5ED\"}, \"yaxis\": {\"gridcolor\": \"#E1E5ED\", \"showgrid\": true, \"tickfont\": {\"color\": \"#4D5663\"}, \"title\": {\"font\": {\"color\": \"#4D5663\"}, \"text\": \"\"}, \"zerolinecolor\": \"#E1E5ED\"}},                        {\"showLink\": true, \"linkText\": \"Export to plot.ly\", \"plotlyServerURL\": \"https://plot.ly\", \"responsive\": true}                    ).then(function(){\n",
       "                            \n",
       "var gd = document.getElementById('87e783d2-8496-4ebd-b03e-132298be48dd');\n",
       "var x = new MutationObserver(function (mutations, observer) {{\n",
       "        var display = window.getComputedStyle(gd).display;\n",
       "        if (!display || display === 'none') {{\n",
       "            console.log([gd, 'removed!']);\n",
       "            Plotly.purge(gd);\n",
       "            observer.disconnect();\n",
       "        }}\n",
       "}});\n",
       "\n",
       "// Listen for the removal of the full notebook cells\n",
       "var notebookContainer = gd.closest('#notebook-container');\n",
       "if (notebookContainer) {{\n",
       "    x.observe(notebookContainer, {childList: true});\n",
       "}}\n",
       "\n",
       "// Listen for the clearing of the current output cell\n",
       "var outputEl = gd.closest('.output');\n",
       "if (outputEl) {{\n",
       "    x.observe(outputEl, {childList: true});\n",
       "}}\n",
       "\n",
       "                        })                };                });            </script>        </div>"
      ]
     },
     "metadata": {},
     "output_type": "display_data"
    }
   ],
   "source": []
  },
  {
   "cell_type": "markdown",
   "id": "a0a44ecb-56c0-4341-94f7-0642ebf71d85",
   "metadata": {},
   "source": [
    "## Appendix"
   ]
  },
  {
   "cell_type": "markdown",
   "id": "0f8d9f04-e707-42ed-b09c-8edbf46a820e",
   "metadata": {},
   "source": [
    "Code to create weekly files:"
   ]
  },
  {
   "cell_type": "code",
   "execution_count": 67,
   "id": "4d91c99c-0649-459d-ae1c-5b7cce5a6177",
   "metadata": {},
   "outputs": [],
   "source": [
    "# for l in ad_recs_annotated.region.unique():\n",
    "#     for w in ad_recs_annotated.week_id.unique():\n",
    "#         w_id = w.split('_')[1]\n",
    "#         y = w.split('-')[0]\n",
    "#         query = f'week_id == \"{w}\" and region == \"{l}\"'\n",
    "#         sample_f_name = f'{y}_{w_id}_{l}__Sample.csv'\n",
    "#         ad_recs_annotated.query(query)[['week_id','ad_id','requester','region','recommendation_type', 'rec_provider']].to_csv(f'data/weekly/{sample_f_name}', index=False)\n",
    "#         for s in ad_recs_annotated.recommendation_type.unique():\n",
    "#             ann_f_name = f'{y}_{w_id}_{l}_{s}_annotation_result.csv'\n",
    "#             query = f'week_id == \"{w}\" and region == \"{l}\" and recommendation_type == \"{s}\"'\n",
    "#             sss = ad_recs_annotated.query(query)\n",
    "#             if sss.empty:\n",
    "#                 continue            \n",
    "#             sss[['region','ad_id','is_success','is_sever']].drop_duplicates(subset=['ad_id']).to_csv(f'data/weekly/{ann_f_name}', index=False)"
   ]
  }
 ],
 "metadata": {
  "kernelspec": {
   "display_name": "Python 3 (ipykernel)",
   "language": "python",
   "name": "python3"
  },
  "language_info": {
   "codemirror_mode": {
    "name": "ipython",
    "version": 3
   },
   "file_extension": ".py",
   "mimetype": "text/x-python",
   "name": "python",
   "nbconvert_exporter": "python",
   "pygments_lexer": "ipython3",
   "version": "3.9.13"
  }
 },
 "nbformat": 4,
 "nbformat_minor": 5
}
