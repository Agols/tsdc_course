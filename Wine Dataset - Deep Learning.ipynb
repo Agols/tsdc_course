{
 "cells": [
  {
   "cell_type": "code",
   "execution_count": 35,
   "id": "73f54613-2467-4491-a9c4-8c0d4b8fa250",
   "metadata": {},
   "outputs": [
    {
     "data": {
      "text/html": [
       "        <script type=\"text/javascript\">\n",
       "        window.PlotlyConfig = {MathJaxConfig: 'local'};\n",
       "        if (window.MathJax && window.MathJax.Hub && window.MathJax.Hub.Config) {window.MathJax.Hub.Config({SVG: {font: \"STIX-Web\"}});}\n",
       "        if (typeof require !== 'undefined') {\n",
       "        require.undef(\"plotly\");\n",
       "        requirejs.config({\n",
       "            paths: {\n",
       "                'plotly': ['https://cdn.plot.ly/plotly-2.18.0.min']\n",
       "            }\n",
       "        });\n",
       "        require(['plotly'], function(Plotly) {\n",
       "            window._Plotly = Plotly;\n",
       "        });\n",
       "        }\n",
       "        </script>\n",
       "        "
      ]
     },
     "metadata": {},
     "output_type": "display_data"
    }
   ],
   "source": [
    "from tensorflow.keras.models import Model\n",
    "from tensorflow.keras.layers import Input, Dense, Embedding, Concatenate, Flatten\n",
    "from tensorflow.keras.optimizers import Adam\n",
    "from tensorflow.keras.metrics import Accuracy\n",
    "from tensorflow.keras.losses import BinaryCrossentropy\n",
    "from tensorflow.keras.utils import to_categorical, plot_model\n",
    "from sklearn.model_selection import train_test_split, cross_val_score\n",
    "from sklearn.preprocessing import StandardScaler\n",
    "\n",
    "import pandas as pd\n",
    "import numpy as np\n",
    "import cufflinks as cf; cf.go_offline()\n",
    "from sklearn.model_selection import train_test_split\n",
    "from sklearn.feature_extraction.text import CountVectorizer\n",
    "from sklearn.feature_extraction.text import TfidfVectorizer\n",
    "from sklearn.pipeline import Pipeline\n",
    "from sklearn.metrics import roc_auc_score, precision_score, recall_score, accuracy_score\n",
    "from sklearn.linear_model import LogisticRegression\n",
    "from sklearn.linear_model import LogisticRegressionCV\n",
    "from sklearn.impute import SimpleImputer, KNNImputer\n",
    "from sklearn.compose import ColumnTransformer\n",
    "from sklearn.linear_model import Ridge, Lasso\n",
    "from sklearn.metrics import mean_squared_error, r2_score\n",
    "from sklearn.preprocessing import StandardScaler, OneHotEncoder, MinMaxScaler, RobustScaler"
   ]
  },
  {
   "cell_type": "code",
   "execution_count": 4,
   "id": "7da0ba18-6139-45e9-84c3-cf52bda0d3a5",
   "metadata": {},
   "outputs": [],
   "source": [
    "#%pip install pydot"
   ]
  },
  {
   "cell_type": "code",
   "execution_count": 2,
   "id": "74793baa-90e6-4355-9c14-732e1a3c37d4",
   "metadata": {},
   "outputs": [
    {
     "data": {
      "text/plain": [
       "(119924, 8)"
      ]
     },
     "execution_count": 2,
     "metadata": {},
     "output_type": "execute_result"
    }
   ],
   "source": [
    "wine_reviews = pd.read_csv(\"data/wine_reviews.csv\", index_col=0)\n",
    "wine_reviews.shape"
   ]
  },
  {
   "cell_type": "code",
   "execution_count": 3,
   "id": "cb76c8e0-a456-473c-87e2-9e1a359190ff",
   "metadata": {},
   "outputs": [
    {
     "data": {
      "text/plain": [
       "Index(['country', 'description', 'points', 'price', 'province', 'taster_name',\n",
       "       'variety', 'year'],\n",
       "      dtype='object')"
      ]
     },
     "execution_count": 3,
     "metadata": {},
     "output_type": "execute_result"
    }
   ],
   "source": [
    "wine_reviews.columns"
   ]
  },
  {
   "cell_type": "code",
   "execution_count": 3,
   "id": "752ec0c1-c9d1-46d8-82ed-72b91745de4d",
   "metadata": {},
   "outputs": [],
   "source": [
    "wine_reviews.variety.fillna(\"NA\", inplace=True)\n",
    "wine_reviews.taster_name.fillna(\"NA\", inplace=True)\n",
    "wine_reviews.year.fillna(wine_reviews.year.min(),inplace=True)\n",
    "wine_reviews.price.fillna(wine_reviews.price.median(), inplace=True)"
   ]
  },
  {
   "cell_type": "code",
   "execution_count": 37,
   "id": "1d3b5119-06df-4f2f-9ec3-1a0c32c168f9",
   "metadata": {},
   "outputs": [
    {
     "data": {
      "text/html": [
       "<div>\n",
       "<style scoped>\n",
       "    .dataframe tbody tr th:only-of-type {\n",
       "        vertical-align: middle;\n",
       "    }\n",
       "\n",
       "    .dataframe tbody tr th {\n",
       "        vertical-align: top;\n",
       "    }\n",
       "\n",
       "    .dataframe thead th {\n",
       "        text-align: right;\n",
       "    }\n",
       "</style>\n",
       "<table border=\"1\" class=\"dataframe\">\n",
       "  <thead>\n",
       "    <tr style=\"text-align: right;\">\n",
       "      <th></th>\n",
       "      <th>country</th>\n",
       "      <th>description</th>\n",
       "      <th>points</th>\n",
       "      <th>price</th>\n",
       "      <th>province</th>\n",
       "      <th>taster_name</th>\n",
       "      <th>variety</th>\n",
       "      <th>year</th>\n",
       "    </tr>\n",
       "  </thead>\n",
       "  <tbody>\n",
       "    <tr>\n",
       "      <th>115411</th>\n",
       "      <td>US</td>\n",
       "      <td>Fruity and forward with ripe blackberry and ch...</td>\n",
       "      <td>88</td>\n",
       "      <td>25.0</td>\n",
       "      <td>New York</td>\n",
       "      <td>Anna Lee C. Iijima</td>\n",
       "      <td>Red Blend</td>\n",
       "      <td>2010.0</td>\n",
       "    </tr>\n",
       "    <tr>\n",
       "      <th>109678</th>\n",
       "      <td>US</td>\n",
       "      <td>Menthol and pepper ride over dark cherry and s...</td>\n",
       "      <td>85</td>\n",
       "      <td>20.0</td>\n",
       "      <td>Virginia</td>\n",
       "      <td>Alexander Peartree</td>\n",
       "      <td>Bordeaux-style Red Blend</td>\n",
       "      <td>2013.0</td>\n",
       "    </tr>\n",
       "    <tr>\n",
       "      <th>53765</th>\n",
       "      <td>Germany</td>\n",
       "      <td>Sharp acidity offsets juicy white peach and ap...</td>\n",
       "      <td>90</td>\n",
       "      <td>19.0</td>\n",
       "      <td>Pfalz</td>\n",
       "      <td>Anna Lee C. Iijima</td>\n",
       "      <td>Riesling</td>\n",
       "      <td>2015.0</td>\n",
       "    </tr>\n",
       "    <tr>\n",
       "      <th>31885</th>\n",
       "      <td>US</td>\n",
       "      <td>Concannon's Reserve Petite swirls in plum, dar...</td>\n",
       "      <td>87</td>\n",
       "      <td>40.0</td>\n",
       "      <td>California</td>\n",
       "      <td>Virginie Boone</td>\n",
       "      <td>Petite Sirah</td>\n",
       "      <td>2008.0</td>\n",
       "    </tr>\n",
       "    <tr>\n",
       "      <th>107120</th>\n",
       "      <td>Italy</td>\n",
       "      <td>A blend of 60% Sangiovese and 40% Cabernet Sau...</td>\n",
       "      <td>89</td>\n",
       "      <td>65.0</td>\n",
       "      <td>Tuscany</td>\n",
       "      <td>Kerin O’Keefe</td>\n",
       "      <td>Red Blend</td>\n",
       "      <td>2009.0</td>\n",
       "    </tr>\n",
       "  </tbody>\n",
       "</table>\n",
       "</div>"
      ],
      "text/plain": [
       "        country                                        description  points  \\\n",
       "115411       US  Fruity and forward with ripe blackberry and ch...      88   \n",
       "109678       US  Menthol and pepper ride over dark cherry and s...      85   \n",
       "53765   Germany  Sharp acidity offsets juicy white peach and ap...      90   \n",
       "31885        US  Concannon's Reserve Petite swirls in plum, dar...      87   \n",
       "107120    Italy  A blend of 60% Sangiovese and 40% Cabernet Sau...      89   \n",
       "\n",
       "        price    province         taster_name                   variety  \\\n",
       "115411   25.0    New York  Anna Lee C. Iijima                 Red Blend   \n",
       "109678   20.0    Virginia  Alexander Peartree  Bordeaux-style Red Blend   \n",
       "53765    19.0       Pfalz  Anna Lee C. Iijima                  Riesling   \n",
       "31885    40.0  California      Virginie Boone              Petite Sirah   \n",
       "107120   65.0     Tuscany       Kerin O’Keefe                 Red Blend   \n",
       "\n",
       "          year  \n",
       "115411  2010.0  \n",
       "109678  2013.0  \n",
       "53765   2015.0  \n",
       "31885   2008.0  \n",
       "107120  2009.0  "
      ]
     },
     "execution_count": 37,
     "metadata": {},
     "output_type": "execute_result"
    }
   ],
   "source": [
    "wine_reviews.sample(5)"
   ]
  },
  {
   "cell_type": "code",
   "execution_count": 4,
   "id": "96ca5f65-3fba-4c12-ab3b-007080c46b9e",
   "metadata": {},
   "outputs": [
    {
     "data": {
      "text/html": [
       "<div>\n",
       "<style scoped>\n",
       "    .dataframe tbody tr th:only-of-type {\n",
       "        vertical-align: middle;\n",
       "    }\n",
       "\n",
       "    .dataframe tbody tr th {\n",
       "        vertical-align: top;\n",
       "    }\n",
       "\n",
       "    .dataframe thead th {\n",
       "        text-align: right;\n",
       "    }\n",
       "</style>\n",
       "<table border=\"1\" class=\"dataframe\">\n",
       "  <thead>\n",
       "    <tr style=\"text-align: right;\">\n",
       "      <th></th>\n",
       "      <th>country</th>\n",
       "      <th>description</th>\n",
       "      <th>points</th>\n",
       "      <th>price</th>\n",
       "      <th>province</th>\n",
       "      <th>taster_name</th>\n",
       "      <th>variety</th>\n",
       "      <th>year</th>\n",
       "    </tr>\n",
       "  </thead>\n",
       "  <tbody>\n",
       "  </tbody>\n",
       "</table>\n",
       "</div>"
      ],
      "text/plain": [
       "Empty DataFrame\n",
       "Columns: [country, description, points, price, province, taster_name, variety, year]\n",
       "Index: []"
      ]
     },
     "execution_count": 4,
     "metadata": {},
     "output_type": "execute_result"
    }
   ],
   "source": [
    "wine_reviews[wine_reviews.year.isna()]"
   ]
  },
  {
   "cell_type": "code",
   "execution_count": 5,
   "id": "21bee2d0-9499-4461-80e5-b5b944c3530e",
   "metadata": {},
   "outputs": [],
   "source": [
    "text_col = ['description']\n",
    "price_col_name = 'price'\n",
    "numerical_col = [price_col_name]\n",
    "categorical_col = ['country','province','taster_name','variety','year']\n",
    "\n",
    "X = wine_reviews[['description','price','country','province','taster_name','variety', 'year']].copy()\n",
    "y = wine_reviews['points'].copy()"
   ]
  },
  {
   "cell_type": "code",
   "execution_count": 6,
   "id": "67ee88c6-768f-4ea5-8dae-4b0c4d59c723",
   "metadata": {},
   "outputs": [],
   "source": [
    "# Convert categorical features to one-hot encoding\n",
    "for col in categorical_col:\n",
    "    X[col] = pd.Categorical(X[col])\n",
    "    X[col] = X[col].cat.codes"
   ]
  },
  {
   "cell_type": "code",
   "execution_count": 68,
   "id": "6ae63434-ef52-46d9-a727-5c7f8dd39b28",
   "metadata": {},
   "outputs": [
    {
     "data": {
      "text/html": [
       "<div>\n",
       "<style scoped>\n",
       "    .dataframe tbody tr th:only-of-type {\n",
       "        vertical-align: middle;\n",
       "    }\n",
       "\n",
       "    .dataframe tbody tr th {\n",
       "        vertical-align: top;\n",
       "    }\n",
       "\n",
       "    .dataframe thead th {\n",
       "        text-align: right;\n",
       "    }\n",
       "</style>\n",
       "<table border=\"1\" class=\"dataframe\">\n",
       "  <thead>\n",
       "    <tr style=\"text-align: right;\">\n",
       "      <th></th>\n",
       "      <th>description</th>\n",
       "      <th>price</th>\n",
       "      <th>country</th>\n",
       "      <th>province</th>\n",
       "      <th>taster_name</th>\n",
       "      <th>variety</th>\n",
       "      <th>year</th>\n",
       "    </tr>\n",
       "  </thead>\n",
       "  <tbody>\n",
       "    <tr>\n",
       "      <th>102242</th>\n",
       "      <td>New leather, wild berry, violet, white pepper ...</td>\n",
       "      <td>58.0</td>\n",
       "      <td>22</td>\n",
       "      <td>286</td>\n",
       "      <td>9</td>\n",
       "      <td>382</td>\n",
       "      <td>71</td>\n",
       "    </tr>\n",
       "    <tr>\n",
       "      <th>127785</th>\n",
       "      <td>Pungent aromas of field greens and citrus lead...</td>\n",
       "      <td>19.0</td>\n",
       "      <td>15</td>\n",
       "      <td>195</td>\n",
       "      <td>14</td>\n",
       "      <td>511</td>\n",
       "      <td>60</td>\n",
       "    </tr>\n",
       "    <tr>\n",
       "      <th>51628</th>\n",
       "      <td>From a very good if not great Champagne vintag...</td>\n",
       "      <td>139.0</td>\n",
       "      <td>15</td>\n",
       "      <td>75</td>\n",
       "      <td>16</td>\n",
       "      <td>121</td>\n",
       "      <td>67</td>\n",
       "    </tr>\n",
       "    <tr>\n",
       "      <th>16233</th>\n",
       "      <td>Aromas include dry apricot and papaya with a h...</td>\n",
       "      <td>18.0</td>\n",
       "      <td>37</td>\n",
       "      <td>132</td>\n",
       "      <td>12</td>\n",
       "      <td>7</td>\n",
       "      <td>71</td>\n",
       "    </tr>\n",
       "    <tr>\n",
       "      <th>76913</th>\n",
       "      <td>Produced in partnership between Schulz Cellars...</td>\n",
       "      <td>18.0</td>\n",
       "      <td>40</td>\n",
       "      <td>51</td>\n",
       "      <td>19</td>\n",
       "      <td>223</td>\n",
       "      <td>72</td>\n",
       "    </tr>\n",
       "  </tbody>\n",
       "</table>\n",
       "</div>"
      ],
      "text/plain": [
       "                                              description  price  country  \\\n",
       "102242  New leather, wild berry, violet, white pepper ...   58.0       22   \n",
       "127785  Pungent aromas of field greens and citrus lead...   19.0       15   \n",
       "51628   From a very good if not great Champagne vintag...  139.0       15   \n",
       "16233   Aromas include dry apricot and papaya with a h...   18.0       37   \n",
       "76913   Produced in partnership between Schulz Cellars...   18.0       40   \n",
       "\n",
       "        province  taster_name  variety  year  \n",
       "102242       286            9      382    71  \n",
       "127785       195           14      511    60  \n",
       "51628         75           16      121    67  \n",
       "16233        132           12        7    71  \n",
       "76913         51           19      223    72  "
      ]
     },
     "execution_count": 68,
     "metadata": {},
     "output_type": "execute_result"
    }
   ],
   "source": [
    "X.sample(5)"
   ]
  },
  {
   "cell_type": "code",
   "execution_count": 9,
   "id": "bcc23543-19b7-4dd3-841d-c9515a6ebd5a",
   "metadata": {},
   "outputs": [
    {
     "data": {
      "text/plain": [
       "1821.0"
      ]
     },
     "execution_count": 9,
     "metadata": {},
     "output_type": "execute_result"
    }
   ],
   "source": [
    "X.year.min()"
   ]
  },
  {
   "cell_type": "code",
   "execution_count": 73,
   "id": "c299890b-28a7-4be3-be06-def8143f749f",
   "metadata": {},
   "outputs": [
    {
     "data": {
      "text/html": [
       "<div>\n",
       "<style scoped>\n",
       "    .dataframe tbody tr th:only-of-type {\n",
       "        vertical-align: middle;\n",
       "    }\n",
       "\n",
       "    .dataframe tbody tr th {\n",
       "        vertical-align: top;\n",
       "    }\n",
       "\n",
       "    .dataframe thead th {\n",
       "        text-align: right;\n",
       "    }\n",
       "</style>\n",
       "<table border=\"1\" class=\"dataframe\">\n",
       "  <thead>\n",
       "    <tr style=\"text-align: right;\">\n",
       "      <th></th>\n",
       "      <th>description</th>\n",
       "      <th>price</th>\n",
       "      <th>country</th>\n",
       "      <th>province</th>\n",
       "      <th>taster_name</th>\n",
       "      <th>variety</th>\n",
       "      <th>year</th>\n",
       "    </tr>\n",
       "  </thead>\n",
       "  <tbody>\n",
       "  </tbody>\n",
       "</table>\n",
       "</div>"
      ],
      "text/plain": [
       "Empty DataFrame\n",
       "Columns: [description, price, country, province, taster_name, variety, year]\n",
       "Index: []"
      ]
     },
     "execution_count": 73,
     "metadata": {},
     "output_type": "execute_result"
    }
   ],
   "source": [
    "X[X.year.isnull()]"
   ]
  },
  {
   "cell_type": "code",
   "execution_count": 7,
   "id": "50596aac-d6e9-41e5-9a22-483bc118243a",
   "metadata": {},
   "outputs": [],
   "source": [
    "X['price'] = np.log(X['price'])\n",
    "scaler = StandardScaler()\n",
    "X[['price']] = scaler.fit_transform(X[['price']].values)"
   ]
  },
  {
   "cell_type": "code",
   "execution_count": 22,
   "id": "ec4c24a1-bf69-4373-830b-733273d7b917",
   "metadata": {},
   "outputs": [
    {
     "data": {
      "text/html": [
       "<div>\n",
       "<style scoped>\n",
       "    .dataframe tbody tr th:only-of-type {\n",
       "        vertical-align: middle;\n",
       "    }\n",
       "\n",
       "    .dataframe tbody tr th {\n",
       "        vertical-align: top;\n",
       "    }\n",
       "\n",
       "    .dataframe thead th {\n",
       "        text-align: right;\n",
       "    }\n",
       "</style>\n",
       "<table border=\"1\" class=\"dataframe\">\n",
       "  <thead>\n",
       "    <tr style=\"text-align: right;\">\n",
       "      <th></th>\n",
       "      <th>description</th>\n",
       "      <th>price</th>\n",
       "      <th>country</th>\n",
       "      <th>province</th>\n",
       "      <th>taster_name</th>\n",
       "      <th>variety</th>\n",
       "      <th>year</th>\n",
       "    </tr>\n",
       "  </thead>\n",
       "  <tbody>\n",
       "    <tr>\n",
       "      <th>11208</th>\n",
       "      <td>Very terroir-driven from chalk soil in this gr...</td>\n",
       "      <td>2.384253</td>\n",
       "      <td>15</td>\n",
       "      <td>47</td>\n",
       "      <td>16</td>\n",
       "      <td>437</td>\n",
       "      <td>2011.0</td>\n",
       "    </tr>\n",
       "    <tr>\n",
       "      <th>26805</th>\n",
       "      <td>Tangy and showing some good aging, this is a r...</td>\n",
       "      <td>-0.052160</td>\n",
       "      <td>31</td>\n",
       "      <td>294</td>\n",
       "      <td>16</td>\n",
       "      <td>446</td>\n",
       "      <td>1821.0</td>\n",
       "    </tr>\n",
       "    <tr>\n",
       "      <th>121534</th>\n",
       "      <td>A new wine for Aegerter, this is ripe and full...</td>\n",
       "      <td>-0.838306</td>\n",
       "      <td>15</td>\n",
       "      <td>183</td>\n",
       "      <td>16</td>\n",
       "      <td>125</td>\n",
       "      <td>2013.0</td>\n",
       "    </tr>\n",
       "    <tr>\n",
       "      <th>121029</th>\n",
       "      <td>Toffee, exotic spice, vanilla, raspberry and c...</td>\n",
       "      <td>0.734930</td>\n",
       "      <td>40</td>\n",
       "      <td>411</td>\n",
       "      <td>17</td>\n",
       "      <td>696</td>\n",
       "      <td>2012.0</td>\n",
       "    </tr>\n",
       "    <tr>\n",
       "      <th>43754</th>\n",
       "      <td>This wine is dense, tough and dark—a black plu...</td>\n",
       "      <td>-0.052160</td>\n",
       "      <td>31</td>\n",
       "      <td>294</td>\n",
       "      <td>16</td>\n",
       "      <td>446</td>\n",
       "      <td>2010.0</td>\n",
       "    </tr>\n",
       "  </tbody>\n",
       "</table>\n",
       "</div>"
      ],
      "text/plain": [
       "                                              description     price  country  \\\n",
       "11208   Very terroir-driven from chalk soil in this gr...  2.384253       15   \n",
       "26805   Tangy and showing some good aging, this is a r... -0.052160       31   \n",
       "121534  A new wine for Aegerter, this is ripe and full... -0.838306       15   \n",
       "121029  Toffee, exotic spice, vanilla, raspberry and c...  0.734930       40   \n",
       "43754   This wine is dense, tough and dark—a black plu... -0.052160       31   \n",
       "\n",
       "        province  taster_name  variety    year  \n",
       "11208         47           16      437  2011.0  \n",
       "26805        294           16      446  1821.0  \n",
       "121534       183           16      125  2013.0  \n",
       "121029       411           17      696  2012.0  \n",
       "43754        294           16      446  2010.0  "
      ]
     },
     "execution_count": 22,
     "metadata": {},
     "output_type": "execute_result"
    }
   ],
   "source": [
    "X.sample(5)"
   ]
  },
  {
   "cell_type": "code",
   "execution_count": 41,
   "id": "ce3fa575-ead2-4c10-b382-c45b0f52c163",
   "metadata": {},
   "outputs": [],
   "source": [
    "X_train, X_test, y_train, y_test = train_test_split(X, y, test_size=0.2, random_state=42)"
   ]
  },
  {
   "cell_type": "code",
   "execution_count": 8,
   "id": "7cb0e65d-3ed4-46f0-97e9-3e92ad37dddd",
   "metadata": {},
   "outputs": [],
   "source": [
    "country_len = wine_reviews.country.nunique()\n",
    "province_len = wine_reviews.province.nunique()\n",
    "tester_len = wine_reviews.taster_name.nunique()\n",
    "variety_len = wine_reviews.variety.nunique()\n",
    "year_len  = wine_reviews.year.nunique()"
   ]
  },
  {
   "cell_type": "markdown",
   "id": "b39beff1-76dd-4e15-95f9-ba08c2904a1d",
   "metadata": {
    "tags": []
   },
   "source": [
    "### Model without textual columns"
   ]
  },
  {
   "cell_type": "code",
   "execution_count": 9,
   "id": "53c64c5c-8738-4b57-abea-05b0c0cf2a84",
   "metadata": {},
   "outputs": [
    {
     "name": "stdout",
     "output_type": "stream",
     "text": [
      "country:43  province 425  tester 20  variety 701  year 78\n"
     ]
    }
   ],
   "source": [
    "print(f'country:{country_len}  province {province_len}  tester {tester_len}  variety {variety_len}  year {year_len}')"
   ]
  },
  {
   "cell_type": "code",
   "execution_count": 43,
   "id": "6dcae0b3-e742-44a0-a6af-a9edfa57ea23",
   "metadata": {},
   "outputs": [],
   "source": [
    "results_df = pd.DataFrame(columns=['name','classifier','alpha','reduction','train_r2','train_mse', 'test_r2', 'test_mse'])\n",
    "\n",
    "def append_to_results(name, classifier, alpha, reduction, y_test, y_predict, y_train, y_train_predicted):\n",
    "    test_r2 = r2_score(y_test, y_predicted), \n",
    "    test_mse = mean_squared_error(y_test, y_predicted)\n",
    "    train_r2 = r2_score(y_train, y_train_predicted)\n",
    "    train_mse = mean_squared_error(y_train, y_train_predicted)\n",
    "    \n",
    "    return results_df.append({'name':name, 'classifier':classifier, 'alpha': alpha, 'reduction':reduction, 'test_r2': test_r2, 'test_mse':test_mse, 'train_r2': train_r2, \"train_mse\": train_mse}, ignore_index=True)\n",
    "\n",
    "def append_row_to_results(name, classifier, alpha, reduction, test_r2, test_mse, train_r2, train_mse):\n",
    "    return results_df.append({'name':name, 'classifier':classifier, 'alpha': alpha, 'reduction':reduction, 'test_r2': test_r2, 'test_mse':test_mse, 'train_r2': train_r2, \"train_mse\": train_mse}, ignore_index=True)\n"
   ]
  },
  {
   "cell_type": "markdown",
   "id": "f6e84770-affa-4f5f-a9f4-dc973120cec3",
   "metadata": {
    "tags": []
   },
   "source": [
    "## Model With Text"
   ]
  },
  {
   "cell_type": "code",
   "execution_count": 14,
   "id": "47790cff-7d14-40e6-b161-27b68bd0c0c0",
   "metadata": {},
   "outputs": [],
   "source": [
    "import tensorflow as tf\n",
    "from tensorflow.keras.layers import TextVectorization # after TensorFlow 2.6\n",
    "from tensorflow.keras import layers"
   ]
  },
  {
   "cell_type": "code",
   "execution_count": 21,
   "id": "5513a058-320d-41c4-8a83-7bfc841583a9",
   "metadata": {},
   "outputs": [],
   "source": [
    "X_train, X_test, y_train, y_test = train_test_split(X, y, test_size=0.2, random_state=42)"
   ]
  },
  {
   "cell_type": "code",
   "execution_count": 56,
   "id": "08aad5f5-e23b-4d37-992a-c09186109b16",
   "metadata": {},
   "outputs": [
    {
     "data": {
      "text/html": [
       "<div>\n",
       "<style scoped>\n",
       "    .dataframe tbody tr th:only-of-type {\n",
       "        vertical-align: middle;\n",
       "    }\n",
       "\n",
       "    .dataframe tbody tr th {\n",
       "        vertical-align: top;\n",
       "    }\n",
       "\n",
       "    .dataframe thead th {\n",
       "        text-align: right;\n",
       "    }\n",
       "</style>\n",
       "<table border=\"1\" class=\"dataframe\">\n",
       "  <thead>\n",
       "    <tr style=\"text-align: right;\">\n",
       "      <th></th>\n",
       "      <th>description</th>\n",
       "      <th>price</th>\n",
       "      <th>country</th>\n",
       "      <th>province</th>\n",
       "      <th>taster_name</th>\n",
       "      <th>variety</th>\n",
       "      <th>year</th>\n",
       "    </tr>\n",
       "  </thead>\n",
       "  <tbody>\n",
       "    <tr>\n",
       "      <th>28171</th>\n",
       "      <td>This falls sbetween a rosé and an orange wine ...</td>\n",
       "      <td>0.034663</td>\n",
       "      <td>40</td>\n",
       "      <td>268</td>\n",
       "      <td>15</td>\n",
       "      <td>433</td>\n",
       "      <td>74</td>\n",
       "    </tr>\n",
       "    <tr>\n",
       "      <th>25907</th>\n",
       "      <td>Tight and structured, this wine has minerality...</td>\n",
       "      <td>-0.659546</td>\n",
       "      <td>15</td>\n",
       "      <td>47</td>\n",
       "      <td>16</td>\n",
       "      <td>125</td>\n",
       "      <td>74</td>\n",
       "    </tr>\n",
       "    <tr>\n",
       "      <th>86353</th>\n",
       "      <td>Prominent yet not overpowering oak smoke aroma...</td>\n",
       "      <td>-0.143399</td>\n",
       "      <td>40</td>\n",
       "      <td>51</td>\n",
       "      <td>11</td>\n",
       "      <td>125</td>\n",
       "      <td>72</td>\n",
       "    </tr>\n",
       "    <tr>\n",
       "      <th>87206</th>\n",
       "      <td>This wine is made to be enjoyed young and frui...</td>\n",
       "      <td>-1.170851</td>\n",
       "      <td>31</td>\n",
       "      <td>108</td>\n",
       "      <td>16</td>\n",
       "      <td>447</td>\n",
       "      <td>73</td>\n",
       "    </tr>\n",
       "    <tr>\n",
       "      <th>91790</th>\n",
       "      <td>Just too raisiny and stewed for real satisfact...</td>\n",
       "      <td>-0.417344</td>\n",
       "      <td>40</td>\n",
       "      <td>51</td>\n",
       "      <td>14</td>\n",
       "      <td>325</td>\n",
       "      <td>64</td>\n",
       "    </tr>\n",
       "  </tbody>\n",
       "</table>\n",
       "</div>"
      ],
      "text/plain": [
       "                                             description     price  country  \\\n",
       "28171  This falls sbetween a rosé and an orange wine ...  0.034663       40   \n",
       "25907  Tight and structured, this wine has minerality... -0.659546       15   \n",
       "86353  Prominent yet not overpowering oak smoke aroma... -0.143399       40   \n",
       "87206  This wine is made to be enjoyed young and frui... -1.170851       31   \n",
       "91790  Just too raisiny and stewed for real satisfact... -0.417344       40   \n",
       "\n",
       "       province  taster_name  variety  year  \n",
       "28171       268           15      433    74  \n",
       "25907        47           16      125    74  \n",
       "86353        51           11      125    72  \n",
       "87206       108           16      447    73  \n",
       "91790        51           14      325    64  "
      ]
     },
     "execution_count": 56,
     "metadata": {},
     "output_type": "execute_result"
    }
   ],
   "source": [
    "X_train.sample(5)"
   ]
  },
  {
   "cell_type": "markdown",
   "id": "c3ad4b57-7382-420f-8a33-ecd085f14625",
   "metadata": {
    "tags": []
   },
   "source": [
    "### Try to concatenate Categories as OneHotEncoder and text as Embeddings"
   ]
  },
  {
   "cell_type": "code",
   "execution_count": null,
   "id": "f549d17d-3b63-45de-8918-04ffcc15c032",
   "metadata": {},
   "outputs": [
    {
     "data": {
      "text/plain": [
       "<keras.layers.core.embedding.Embedding at 0x1f0968fa130>"
      ]
     },
     "execution_count": 17,
     "metadata": {},
     "output_type": "execute_result"
    }
   ],
   "source": [
    "tf.random.set_seed(42)\n",
    "from tensorflow.keras import layers\n",
    "\n",
    "embedding = layers.Embedding(input_dim=max_vocab_length, \n",
    "                             output_dim=128, \n",
    "                             embeddings_initializer=\"uniform\", \n",
    "                             input_length=max_length, \n",
    "                             name=\"embedding_1\") \n",
    "\n",
    "embedding"
   ]
  },
  {
   "cell_type": "code",
   "execution_count": 36,
   "id": "e4af9755-272a-487f-9b58-231759f01067",
   "metadata": {},
   "outputs": [],
   "source": [
    "categorical_col = ['country','province','taster_name','variety','year']\n",
    "\n",
    "ct = ColumnTransformer([\n",
    "    ('categorical', OneHotEncoder(handle_unknown=\"ignore\"), categorical_col)\n",
    "], remainder='passthrough')"
   ]
  },
  {
   "cell_type": "code",
   "execution_count": 15,
   "id": "d7f012af-439b-440a-add8-4f3f0ad4313a",
   "metadata": {},
   "outputs": [],
   "source": [
    "max_vocab_length = 10000 \n",
    "max_length = 50 # \n",
    "\n",
    "text_vectorizer = layers.TextVectorization(max_tokens=max_vocab_length,\n",
    "                                    output_mode=\"int\",\n",
    "                                    output_sequence_length=max_length)"
   ]
  },
  {
   "cell_type": "code",
   "execution_count": 62,
   "id": "0050db40-0a40-42a2-a706-ebb090f138f2",
   "metadata": {},
   "outputs": [],
   "source": [
    "X_test_categories = X_test.drop('description', axis=1)\n",
    "X_train_categories = X_train.drop('description', axis=1)\n",
    "X_test_cats = ct.transform(X_test_categories)\n",
    "X_train_cats = ct.transform(X_train_categories)\n",
    "\n",
    "X_test_cats = X_test_cats.toarray()\n",
    "X_train_cats = X_train_cats.toarray()"
   ]
  },
  {
   "cell_type": "code",
   "execution_count": 63,
   "id": "90d9f772-5f1f-4b63-8f12-6fd0fb7efc2d",
   "metadata": {},
   "outputs": [
    {
     "data": {
      "text/plain": [
       "((23985, 1220), (95939, 1220))"
      ]
     },
     "execution_count": 63,
     "metadata": {},
     "output_type": "execute_result"
    }
   ],
   "source": [
    "X_test_cats.shape, X_train_cats.shape"
   ]
  },
  {
   "cell_type": "code",
   "execution_count": 27,
   "id": "765c4435-d085-45c8-8744-9a591ce22727",
   "metadata": {},
   "outputs": [],
   "source": [
    "# Define the graph model\n",
    "# Categorical inputs\n",
    "# country"
   ]
  },
  {
   "cell_type": "code",
   "execution_count": 136,
   "id": "3cec65f0-6e50-4332-95fd-ee6cbf58aa23",
   "metadata": {},
   "outputs": [],
   "source": [
    "#text\n",
    "text_input = Input(shape=(1,), dtype=\"string\")\n",
    "text_vector = text_vectorizer(text_input)\n",
    "text_embedding = embedding(text_vector)\n",
    "#text_flatten = Flatten()(text_embedding)\n",
    "text_embedding = layers.LSTM(64)(text_embedding)\n",
    "\n",
    "cat_input = Input(shape=(1220,), dtype=\"float32\")\n",
    "# Numerical inputs\n",
    "#num_input = Input(shape=(1,))\n",
    "\n",
    "# Concatenate categorical embeddings with numerical inputs\n",
    "concatenated = Concatenate()([text_embedding, cat_input])\n",
    "#concatenated = Concatenate()([flat_embed_country, flat_embed_province, flat_embed_tester, flat_embed_variety, flat_embed_year, num_input])\n",
    "\n",
    "\n",
    "# Dense layers for classification\n",
    "x = Dense(16, activation='relu')(concatenated)\n",
    "x = Dense(8, activation='relu')(x)\n",
    "outputs = Dense(1, activation=\"linear\")(x)\n",
    "\n",
    "# Create the model\n",
    "#model = Model(inputs=[cat_input_country, cat_input_province, cat_input_tester, cat_input_variety, text_input, num_input], outputs=outputs)\n",
    "#model = Model(inputs=[cat_input_country, cat_input_province, cat_input_tester, cat_input_variety, cat_input_year, num_input], outputs=outputs)\n",
    "\n",
    "# Create the model\n",
    "model2 = tf.keras.Model(inputs=[text_input, cat_input], outputs = outputs)"
   ]
  },
  {
   "cell_type": "code",
   "execution_count": 138,
   "id": "66a437d4-e308-44c7-b634-3a68c311b96a",
   "metadata": {},
   "outputs": [],
   "source": [
    "model2.compile(loss=tf.keras.losses.mse,\n",
    "                          optimizer=tf.keras.optimizers.Adam(),\n",
    "                          metrics=['mse'])"
   ]
  },
  {
   "cell_type": "code",
   "execution_count": null,
   "id": "e5a376e0-fb54-46c8-ac05-78ece10aeca9",
   "metadata": {},
   "outputs": [],
   "source": [
    "train_X_data = [np.array(X_train['description']), X_train_cats]\n",
    "#train_X_data = [X_train['country'], X_train['province'], X_train['taster_name'], X_train['variety'], X_train[[price_col_name]]]\n",
    "\n",
    "#model.compile(optimizer=Adam(learning_rate=0.01),loss='mean_squared_error',metrics=[Accuracy()])\n",
    "\n",
    "# Train the model\n",
    "model2.fit([np.array(X_train['description']), X_train_cats], y_train,\n",
    "          batch_size=64,\n",
    "          epochs=10)\n",
    "\n",
    "# Evaluate the model\n",
    "loss, accuracy = model2.evaluate(train_X_data, y_train)\n",
    "print('Test Loss:', loss)\n",
    "print('Test Accuracy:', accuracy)\n"
   ]
  },
  {
   "cell_type": "markdown",
   "id": "24bb0533-841c-4903-86e6-0264972939c9",
   "metadata": {},
   "source": [
    "## Try Veriety + Price model"
   ]
  },
  {
   "cell_type": "code",
   "execution_count": 102,
   "id": "e4736fec-eb58-4cb4-a145-d9598bf97f9a",
   "metadata": {},
   "outputs": [
    {
     "name": "stdout",
     "output_type": "stream",
     "text": [
      "Model: \"model_5\"\n",
      "__________________________________________________________________________________________________\n",
      " Layer (type)                   Output Shape         Param #     Connected to                     \n",
      "==================================================================================================\n",
      " input_43 (InputLayer)          [(None, 1)]          0           []                               \n",
      "                                                                                                  \n",
      " embedding_18 (Embedding)       (None, 1, 8)         5608        ['input_43[0][0]']               \n",
      "                                                                                                  \n",
      " flatten_19 (Flatten)           (None, 8)            0           ['embedding_18[0][0]']           \n",
      "                                                                                                  \n",
      " input_44 (InputLayer)          [(None, 1)]          0           []                               \n",
      "                                                                                                  \n",
      " concatenate_10 (Concatenate)   (None, 9)            0           ['flatten_19[0][0]',             \n",
      "                                                                  'input_44[0][0]']               \n",
      "                                                                                                  \n",
      " dense_27 (Dense)               (None, 32)           320         ['concatenate_10[0][0]']         \n",
      "                                                                                                  \n",
      " dense_28 (Dense)               (None, 16)           528         ['dense_27[0][0]']               \n",
      "                                                                                                  \n",
      " dense_29 (Dense)               (None, 1)            17          ['dense_28[0][0]']               \n",
      "                                                                                                  \n",
      "==================================================================================================\n",
      "Total params: 6,473\n",
      "Trainable params: 6,473\n",
      "Non-trainable params: 0\n",
      "__________________________________________________________________________________________________\n"
     ]
    }
   ],
   "source": [
    "#variety\n",
    "cat_input_variety = Input(shape=(1,))\n",
    "embedding_variety = Embedding(input_dim=X.variety.nunique(), output_dim=8)(cat_input_variety)\n",
    "flat_embed_variety = Flatten()(embedding_variety)\n",
    "\n",
    "# Numerical inputs\n",
    "num_input = Input(shape=(1,))\n",
    "\n",
    "# Concatenate categorical embeddings with numerical inputs\n",
    "concatenated = Concatenate()([flat_embed_variety, num_input])\n",
    "\n",
    "# Dense layers for classification\n",
    "x = Dense(32, activation='tanh')(concatenated)\n",
    "x = Dense(16, activation='tanh')(x)\n",
    "outputs = Dense(1, activation=\"linear\")(x)\n",
    "\n",
    "# Create the model\n",
    "model = Model(inputs=[cat_input_variety, num_input], outputs=outputs)\n",
    "model.summary()\n"
   ]
  },
  {
   "cell_type": "code",
   "execution_count": 81,
   "id": "8d16603d-cf26-4e81-9e7d-27eadd98cea7",
   "metadata": {},
   "outputs": [
    {
     "data": {
      "text/plain": [
       "[125300    437\n",
       " 110511    610\n",
       " 87721     557\n",
       " 19638     581\n",
       " 8950      387\n",
       "          ... \n",
       " 118734    125\n",
       " 129926    557\n",
       " 111067    214\n",
       " 860        71\n",
       " 15929     610\n",
       " Name: variety, Length: 95939, dtype: int16,\n",
       " 125300    0.671731\n",
       " 110511    4.397961\n",
       " 87721    -0.659546\n",
       " 19638    -1.433326\n",
       " 8950     -0.344252\n",
       "             ...   \n",
       " 118734   -0.143399\n",
       " 129926    0.633869\n",
       " 111067   -1.583078\n",
       " 860       0.780133\n",
       " 15929     0.780133\n",
       " Name: price, Length: 95939, dtype: float64]"
      ]
     },
     "execution_count": 81,
     "metadata": {},
     "output_type": "execute_result"
    }
   ],
   "source": [
    "data = [X_train['variety'], X_train['price']]\n",
    "data"
   ]
  },
  {
   "cell_type": "code",
   "execution_count": 104,
   "id": "4305cbef-fd1d-48ae-9e2e-0562df33ec99",
   "metadata": {},
   "outputs": [],
   "source": [
    "from tensorflow.keras.callbacks import EarlyStopping\n",
    "early_stopping_monitor = EarlyStopping(\n",
    "    monitor='val_mean_squared_error',\n",
    "    min_delta=0.01,\n",
    "    patience=3,\n",
    "    verbose=0,\n",
    "    mode='min',\n",
    "    baseline=None,\n",
    "    restore_best_weights=True\n",
    ")"
   ]
  },
  {
   "cell_type": "code",
   "execution_count": 103,
   "id": "6015e0ae-bfae-4c72-8c00-015c0b53352f",
   "metadata": {},
   "outputs": [
    {
     "name": "stdout",
     "output_type": "stream",
     "text": [
      "Epoch 1/10\n",
      "5966/5997 [============================>.] - ETA: 0s - loss: 1996.9016 - accuracy: 0.0000e+00WARNING:tensorflow:Early stopping conditioned on metric `val_mean_squared_error` which is not available. Available metrics are: loss,accuracy\n",
      "5997/5997 [==============================] - 10s 2ms/step - loss: 1987.1123 - accuracy: 0.0000e+00\n",
      "Epoch 2/10\n",
      "5973/5997 [============================>.] - ETA: 0s - loss: 12.4110 - accuracy: 0.0000e+00WARNING:tensorflow:Early stopping conditioned on metric `val_mean_squared_error` which is not available. Available metrics are: loss,accuracy\n",
      "5997/5997 [==============================] - 9s 1ms/step - loss: 12.4012 - accuracy: 0.0000e+00\n",
      "Epoch 3/10\n",
      "5981/5997 [============================>.] - ETA: 0s - loss: 6.1142 - accuracy: 0.0000e+00WARNING:tensorflow:Early stopping conditioned on metric `val_mean_squared_error` which is not available. Available metrics are: loss,accuracy\n",
      "5997/5997 [==============================] - 9s 2ms/step - loss: 6.1135 - accuracy: 0.0000e+00\n",
      "Epoch 4/10\n",
      "5990/5997 [============================>.] - ETA: 0s - loss: 5.8054 - accuracy: 0.0000e+00WARNING:tensorflow:Early stopping conditioned on metric `val_mean_squared_error` which is not available. Available metrics are: loss,accuracy\n",
      "5997/5997 [==============================] - 9s 1ms/step - loss: 5.8059 - accuracy: 0.0000e+00\n",
      "Epoch 5/10\n",
      "5979/5997 [============================>.] - ETA: 0s - loss: 5.7721 - accuracy: 0.0000e+00WARNING:tensorflow:Early stopping conditioned on metric `val_mean_squared_error` which is not available. Available metrics are: loss,accuracy\n",
      "5997/5997 [==============================] - 9s 2ms/step - loss: 5.7734 - accuracy: 0.0000e+00\n",
      "Epoch 6/10\n",
      "5995/5997 [============================>.] - ETA: 0s - loss: 5.7540 - accuracy: 1.0425e-05WARNING:tensorflow:Early stopping conditioned on metric `val_mean_squared_error` which is not available. Available metrics are: loss,accuracy\n",
      "5997/5997 [==============================] - 9s 1ms/step - loss: 5.7544 - accuracy: 1.0423e-05\n",
      "Epoch 7/10\n",
      "5981/5997 [============================>.] - ETA: 0s - loss: 5.7371 - accuracy: 0.0000e+00WARNING:tensorflow:Early stopping conditioned on metric `val_mean_squared_error` which is not available. Available metrics are: loss,accuracy\n",
      "5997/5997 [==============================] - 9s 2ms/step - loss: 5.7358 - accuracy: 0.0000e+00\n",
      "Epoch 8/10\n",
      "5996/5997 [============================>.] - ETA: 0s - loss: 5.7264 - accuracy: 0.0000e+00WARNING:tensorflow:Early stopping conditioned on metric `val_mean_squared_error` which is not available. Available metrics are: loss,accuracy\n",
      "5997/5997 [==============================] - 9s 2ms/step - loss: 5.7263 - accuracy: 0.0000e+00\n",
      "Epoch 9/10\n",
      "5982/5997 [============================>.] - ETA: 0s - loss: 5.7167 - accuracy: 0.0000e+00WARNING:tensorflow:Early stopping conditioned on metric `val_mean_squared_error` which is not available. Available metrics are: loss,accuracy\n",
      "5997/5997 [==============================] - 9s 1ms/step - loss: 5.7162 - accuracy: 0.0000e+00\n",
      "Epoch 10/10\n",
      "5983/5997 [============================>.] - ETA: 0s - loss: 5.7095 - accuracy: 0.0000e+00WARNING:tensorflow:Early stopping conditioned on metric `val_mean_squared_error` which is not available. Available metrics are: loss,accuracy\n",
      "5997/5997 [==============================] - 10s 2ms/step - loss: 5.7090 - accuracy: 0.0000e+00\n",
      "2999/2999 [==============================] - 4s 1ms/step - loss: 5.6749 - accuracy: 0.0000e+00\n",
      "Test Loss: 5.674920558929443\n",
      "Test Accuracy: 0.0\n"
     ]
    }
   ],
   "source": [
    "X_train_small = X_train.head(100000) \n",
    "\n",
    "model.compile(optimizer=Adam(),\n",
    "              loss='mean_squared_error',\n",
    "              metrics=[Accuracy()])\n",
    "data = [X_train_small['variety'],  X_train_small[numerical_col]]\n",
    "# Train the model\n",
    "model.fit( data, y_train.head(100000),\n",
    "          batch_size=16,\n",
    "          epochs=10,\n",
    "          callbacks=[early_stopping_monitor])\n",
    "\n",
    "# Evaluate the model\n",
    "loss, accuracy = model.evaluate(data, y_train.head(100000))\n",
    "print('Test Loss:', loss)\n",
    "print('Test Accuracy:', accuracy)\n"
   ]
  },
  {
   "cell_type": "code",
   "execution_count": 105,
   "id": "c3ecc3a3-2658-4576-b6bb-17eff696d3fd",
   "metadata": {},
   "outputs": [
    {
     "name": "stdout",
     "output_type": "stream",
     "text": [
      "750/750 [==============================] - 1s 1ms/step\n"
     ]
    }
   ],
   "source": [
    "y_predict = model.predict([X_test['variety'],  X_test[numerical_col]])"
   ]
  },
  {
   "cell_type": "code",
   "execution_count": 106,
   "id": "83c8b249-101f-4e4f-831e-bd78c8d7e711",
   "metadata": {},
   "outputs": [
    {
     "name": "stdout",
     "output_type": "stream",
     "text": [
      "r2 score: 0.3896874386426289\n",
      "mse score:5.838069889308666\n"
     ]
    }
   ],
   "source": [
    "print(f'r2 score: {r2_score(y_test, y_predict)}')\n",
    "print(f'mse score:{mean_squared_error(y_test, y_predict)}')"
   ]
  },
  {
   "cell_type": "markdown",
   "id": "8047bd34-a27e-4b42-b8d5-0198b24344b3",
   "metadata": {},
   "source": [
    "## Try Country + tester + Veriety + Price"
   ]
  },
  {
   "cell_type": "code",
   "execution_count": 123,
   "id": "5357aa1d-93ed-4048-a589-6de93e1bd3bd",
   "metadata": {},
   "outputs": [
    {
     "name": "stdout",
     "output_type": "stream",
     "text": [
      "Model: \"model_11\"\n",
      "__________________________________________________________________________________________________\n",
      " Layer (type)                   Output Shape         Param #     Connected to                     \n",
      "==================================================================================================\n",
      " input_66 (InputLayer)          [(None, 1)]          0           []                               \n",
      "                                                                                                  \n",
      " input_67 (InputLayer)          [(None, 1)]          0           []                               \n",
      "                                                                                                  \n",
      " input_68 (InputLayer)          [(None, 1)]          0           []                               \n",
      "                                                                                                  \n",
      " embedding_35 (Embedding)       (None, 1, 5)         100         ['input_66[0][0]']               \n",
      "                                                                                                  \n",
      " embedding_36 (Embedding)       (None, 1, 7)         301         ['input_67[0][0]']               \n",
      "                                                                                                  \n",
      " embedding_37 (Embedding)       (None, 1, 8)         5608        ['input_68[0][0]']               \n",
      "                                                                                                  \n",
      " flatten_36 (Flatten)           (None, 5)            0           ['embedding_35[0][0]']           \n",
      "                                                                                                  \n",
      " flatten_37 (Flatten)           (None, 7)            0           ['embedding_36[0][0]']           \n",
      "                                                                                                  \n",
      " flatten_38 (Flatten)           (None, 8)            0           ['embedding_37[0][0]']           \n",
      "                                                                                                  \n",
      " input_69 (InputLayer)          [(None, 1)]          0           []                               \n",
      "                                                                                                  \n",
      " concatenate_16 (Concatenate)   (None, 21)           0           ['flatten_36[0][0]',             \n",
      "                                                                  'flatten_37[0][0]',             \n",
      "                                                                  'flatten_38[0][0]',             \n",
      "                                                                  'input_69[0][0]']               \n",
      "                                                                                                  \n",
      " dense_45 (Dense)               (None, 32)           704         ['concatenate_16[0][0]']         \n",
      "                                                                                                  \n",
      " dense_46 (Dense)               (None, 16)           528         ['dense_45[0][0]']               \n",
      "                                                                                                  \n",
      " dense_47 (Dense)               (None, 1)            17          ['dense_46[0][0]']               \n",
      "                                                                                                  \n",
      "==================================================================================================\n",
      "Total params: 7,258\n",
      "Trainable params: 7,258\n",
      "Non-trainable params: 0\n",
      "__________________________________________________________________________________________________\n"
     ]
    }
   ],
   "source": [
    "#taster_name\n",
    "cat_input_tester = Input(shape=(1,))\n",
    "embedding_tester = Embedding(input_dim=tester_len, output_dim=5)(cat_input_tester)\n",
    "flat_embed_tester = Flatten()(embedding_tester)\n",
    "\n",
    "#country\n",
    "cat_input_country = Input(shape=(1,))\n",
    "embedding_country = Embedding(input_dim=country_len, output_dim=7)(cat_input_country)\n",
    "flat_embed_country = Flatten()(embedding_country)\n",
    "\n",
    "#variety\n",
    "cat_input_variety = Input(shape=(1,))\n",
    "embedding_variety = Embedding(input_dim=X.variety.nunique(), output_dim=8)(cat_input_variety)\n",
    "flat_embed_variety = Flatten()(embedding_variety)\n",
    "\n",
    "# Numerical inputs\n",
    "num_input = Input(shape=(1,))\n",
    "\n",
    "# Concatenate categorical embeddings with numerical inputs\n",
    "concatenated = Concatenate()([flat_embed_tester, flat_embed_country, flat_embed_variety, num_input])\n",
    "\n",
    "# Dense layers for classification\n",
    "x = Dense(32, activation='selu')(concatenated)\n",
    "x = Dense(16, activation='tanh')(x)\n",
    "outputs = Dense(1, activation=\"linear\")(x)\n",
    "\n",
    "# Create the model\n",
    "model = Model(inputs=[cat_input_tester, cat_input_country, cat_input_variety, num_input], outputs=outputs)\n",
    "model.summary()"
   ]
  },
  {
   "cell_type": "code",
   "execution_count": 124,
   "id": "214b4382-2c38-44e0-9c29-b74cf2f7e07f",
   "metadata": {},
   "outputs": [
    {
     "name": "stdout",
     "output_type": "stream",
     "text": [
      "Epoch 1/10\n",
      "2974/2999 [============================>.] - ETA: 0s - loss: 3757.0098 - accuracy: 0.0000e+00WARNING:tensorflow:Early stopping conditioned on metric `val_mean_squared_error` which is not available. Available metrics are: loss,accuracy\n",
      "2999/2999 [==============================] - 6s 2ms/step - loss: 3738.6270 - accuracy: 0.0000e+00\n",
      "Epoch 2/10\n",
      "2972/2999 [============================>.] - ETA: 0s - loss: 544.7000 - accuracy: 0.0000e+00WARNING:tensorflow:Early stopping conditioned on metric `val_mean_squared_error` which is not available. Available metrics are: loss,accuracy\n",
      "2999/2999 [==============================] - 5s 2ms/step - loss: 540.5374 - accuracy: 0.0000e+00\n",
      "Epoch 3/10\n",
      "2982/2999 [============================>.] - ETA: 0s - loss: 18.2650 - accuracy: 0.0000e+00WARNING:tensorflow:Early stopping conditioned on metric `val_mean_squared_error` which is not available. Available metrics are: loss,accuracy\n",
      "2999/2999 [==============================] - 5s 2ms/step - loss: 18.2149 - accuracy: 0.0000e+00\n",
      "Epoch 4/10\n",
      "2987/2999 [============================>.] - ETA: 0s - loss: 9.3458 - accuracy: 0.0000e+00WARNING:tensorflow:Early stopping conditioned on metric `val_mean_squared_error` which is not available. Available metrics are: loss,accuracy\n",
      "2999/2999 [==============================] - 4s 1ms/step - loss: 9.3344 - accuracy: 0.0000e+00\n",
      "Epoch 5/10\n",
      "2997/2999 [============================>.] - ETA: 0s - loss: 5.6105 - accuracy: 0.0000e+00WARNING:tensorflow:Early stopping conditioned on metric `val_mean_squared_error` which is not available. Available metrics are: loss,accuracy\n",
      "2999/2999 [==============================] - 5s 2ms/step - loss: 5.6108 - accuracy: 0.0000e+00\n",
      "Epoch 6/10\n",
      "2980/2999 [============================>.] - ETA: 0s - loss: 5.4044 - accuracy: 0.0000e+00WARNING:tensorflow:Early stopping conditioned on metric `val_mean_squared_error` which is not available. Available metrics are: loss,accuracy\n",
      "2999/2999 [==============================] - 5s 2ms/step - loss: 5.4068 - accuracy: 0.0000e+00\n",
      "Epoch 7/10\n",
      "2999/2999 [==============================] - ETA: 0s - loss: 5.3092 - accuracy: 0.0000e+00WARNING:tensorflow:Early stopping conditioned on metric `val_mean_squared_error` which is not available. Available metrics are: loss,accuracy\n",
      "2999/2999 [==============================] - 4s 1ms/step - loss: 5.3092 - accuracy: 0.0000e+00\n",
      "Epoch 8/10\n",
      "2990/2999 [============================>.] - ETA: 0s - loss: 5.2635 - accuracy: 0.0000e+00WARNING:tensorflow:Early stopping conditioned on metric `val_mean_squared_error` which is not available. Available metrics are: loss,accuracy\n",
      "2999/2999 [==============================] - 5s 2ms/step - loss: 5.2625 - accuracy: 0.0000e+00\n",
      "Epoch 9/10\n",
      "2997/2999 [============================>.] - ETA: 0s - loss: 5.2339 - accuracy: 0.0000e+00WARNING:tensorflow:Early stopping conditioned on metric `val_mean_squared_error` which is not available. Available metrics are: loss,accuracy\n",
      "2999/2999 [==============================] - 5s 2ms/step - loss: 5.2338 - accuracy: 0.0000e+00\n",
      "Epoch 10/10\n",
      "2980/2999 [============================>.] - ETA: 0s - loss: 5.2148 - accuracy: 0.0000e+00WARNING:tensorflow:Early stopping conditioned on metric `val_mean_squared_error` which is not available. Available metrics are: loss,accuracy\n",
      "2999/2999 [==============================] - 5s 2ms/step - loss: 5.2146 - accuracy: 0.0000e+00\n",
      "2999/2999 [==============================] - 4s 1ms/step - loss: 5.1687 - accuracy: 0.0000e+00\n",
      "Test Loss: 5.168735027313232\n",
      "Test Accuracy: 0.0\n"
     ]
    }
   ],
   "source": [
    "\n",
    "model.compile(optimizer=Adam(),\n",
    "              loss='mean_squared_error',\n",
    "              metrics=[Accuracy()])\n",
    "data = [X_train['taster_name'], X_train['country'], X_train['variety'],  X_train[numerical_col]]\n",
    "# Train the model\n",
    "model.fit( data, y_train,\n",
    "          batch_size=32,\n",
    "          epochs=10,\n",
    "          callbacks=[early_stopping_monitor])\n",
    "\n",
    "# Evaluate the model\n",
    "loss, accuracy = model.evaluate(data, y_train.head(100000))\n",
    "print('Test Loss:', loss)\n",
    "print('Test Accuracy:', accuracy)"
   ]
  },
  {
   "cell_type": "code",
   "execution_count": 125,
   "id": "f6013c93-f6dd-4bde-bf5b-174feaee4e03",
   "metadata": {},
   "outputs": [
    {
     "name": "stdout",
     "output_type": "stream",
     "text": [
      "750/750 [==============================] - 1s 1ms/step\n",
      "r2 score: 0.4403039317981632\n",
      "mse score:5.353887450172057\n"
     ]
    }
   ],
   "source": [
    "y_predict = model.predict([X_test['taster_name'], X_test['country'], X_test['variety'],  X_test[numerical_col]])\n",
    "print(f'r2 score: {r2_score(y_test, y_predict)}')\n",
    "print(f'mse score:{mean_squared_error(y_test, y_predict)}')"
   ]
  },
  {
   "cell_type": "markdown",
   "id": "6a808920-3f22-4f0f-9522-072ae38c9ec7",
   "metadata": {},
   "source": [
    "## All Categories and Price"
   ]
  },
  {
   "cell_type": "code",
   "execution_count": 128,
   "id": "43ca75b2-33c0-4ea2-aead-6bcc85d1c315",
   "metadata": {},
   "outputs": [
    {
     "name": "stdout",
     "output_type": "stream",
     "text": [
      "Model: \"model_13\"\n",
      "__________________________________________________________________________________________________\n",
      " Layer (type)                   Output Shape         Param #     Connected to                     \n",
      "==================================================================================================\n",
      " input_76 (InputLayer)          [(None, 1)]          0           []                               \n",
      "                                                                                                  \n",
      " input_77 (InputLayer)          [(None, 1)]          0           []                               \n",
      "                                                                                                  \n",
      " input_78 (InputLayer)          [(None, 1)]          0           []                               \n",
      "                                                                                                  \n",
      " input_79 (InputLayer)          [(None, 1)]          0           []                               \n",
      "                                                                                                  \n",
      " input_80 (InputLayer)          [(None, 1)]          0           []                               \n",
      "                                                                                                  \n",
      " embedding_43 (Embedding)       (None, 1, 22)        9350        ['input_76[0][0]']               \n",
      "                                                                                                  \n",
      " embedding_44 (Embedding)       (None, 1, 9)         702         ['input_77[0][0]']               \n",
      "                                                                                                  \n",
      " embedding_45 (Embedding)       (None, 1, 5)         100         ['input_78[0][0]']               \n",
      "                                                                                                  \n",
      " embedding_46 (Embedding)       (None, 1, 7)         301         ['input_79[0][0]']               \n",
      "                                                                                                  \n",
      " embedding_47 (Embedding)       (None, 1, 8)         5608        ['input_80[0][0]']               \n",
      "                                                                                                  \n",
      " flatten_44 (Flatten)           (None, 22)           0           ['embedding_43[0][0]']           \n",
      "                                                                                                  \n",
      " flatten_45 (Flatten)           (None, 9)            0           ['embedding_44[0][0]']           \n",
      "                                                                                                  \n",
      " flatten_46 (Flatten)           (None, 5)            0           ['embedding_45[0][0]']           \n",
      "                                                                                                  \n",
      " flatten_47 (Flatten)           (None, 7)            0           ['embedding_46[0][0]']           \n",
      "                                                                                                  \n",
      " flatten_48 (Flatten)           (None, 8)            0           ['embedding_47[0][0]']           \n",
      "                                                                                                  \n",
      " input_81 (InputLayer)          [(None, 1)]          0           []                               \n",
      "                                                                                                  \n",
      " concatenate_18 (Concatenate)   (None, 52)           0           ['flatten_44[0][0]',             \n",
      "                                                                  'flatten_45[0][0]',             \n",
      "                                                                  'flatten_46[0][0]',             \n",
      "                                                                  'flatten_47[0][0]',             \n",
      "                                                                  'flatten_48[0][0]',             \n",
      "                                                                  'input_81[0][0]']               \n",
      "                                                                                                  \n",
      " dense_51 (Dense)               (None, 64)           3392        ['concatenate_18[0][0]']         \n",
      "                                                                                                  \n",
      " dense_52 (Dense)               (None, 32)           2080        ['dense_51[0][0]']               \n",
      "                                                                                                  \n",
      " dense_53 (Dense)               (None, 1)            33          ['dense_52[0][0]']               \n",
      "                                                                                                  \n",
      "==================================================================================================\n",
      "Total params: 21,566\n",
      "Trainable params: 21,566\n",
      "Non-trainable params: 0\n",
      "__________________________________________________________________________________________________\n"
     ]
    }
   ],
   "source": [
    "#province\n",
    "cat_input_province = Input(shape=(1,))\n",
    "embedding_province = Embedding(input_dim=province_len, output_dim=22)(cat_input_province)\n",
    "flat_embed_province = Flatten()(embedding_province)\n",
    "\n",
    "#year\n",
    "cat_input_year = Input(shape=(1,))\n",
    "embedding_year = Embedding(input_dim=year_len, output_dim=9)(cat_input_year)\n",
    "flat_embed_year = Flatten()(embedding_year)\n",
    "\n",
    "#taster_name\n",
    "cat_input_tester = Input(shape=(1,))\n",
    "embedding_tester = Embedding(input_dim=tester_len, output_dim=5)(cat_input_tester)\n",
    "flat_embed_tester = Flatten()(embedding_tester)\n",
    "\n",
    "#country\n",
    "cat_input_country = Input(shape=(1,))\n",
    "embedding_country = Embedding(input_dim=country_len, output_dim=7)(cat_input_country)\n",
    "flat_embed_country = Flatten()(embedding_country)\n",
    "\n",
    "#variety\n",
    "cat_input_variety = Input(shape=(1,))\n",
    "embedding_variety = Embedding(input_dim=X.variety.nunique(), output_dim=8)(cat_input_variety)\n",
    "flat_embed_variety = Flatten()(embedding_variety)\n",
    "\n",
    "# Numerical inputs\n",
    "num_input = Input(shape=(1,))\n",
    "\n",
    "# Concatenate categorical embeddings with numerical inputs\n",
    "concatenated = Concatenate()([flat_embed_province, flat_embed_year, flat_embed_tester, flat_embed_country, flat_embed_variety, num_input])\n",
    "\n",
    "# Dense layers for classification\n",
    "x = Dense(64, activation='tanh')(concatenated)\n",
    "x = Dense(32, activation='selu')(x)\n",
    "outputs = Dense(1, activation=\"linear\")(x)\n",
    "\n",
    "# Create the model\n",
    "model = Model(inputs=[cat_input_province, cat_input_year, cat_input_tester, cat_input_country, cat_input_variety, num_input], outputs=outputs)\n",
    "model.summary()"
   ]
  },
  {
   "cell_type": "code",
   "execution_count": 129,
   "id": "27dd12bc-d2e4-4126-899d-d70384009d2d",
   "metadata": {},
   "outputs": [
    {
     "name": "stdout",
     "output_type": "stream",
     "text": [
      "Epoch 1/10\n",
      "5987/5997 [============================>.] - ETA: 0s - loss: 123.8330 - accuracy: 0.0000e+00WARNING:tensorflow:Early stopping conditioned on metric `val_mean_squared_error` which is not available. Available metrics are: loss,accuracy\n",
      "5997/5997 [==============================] - 11s 2ms/step - loss: 123.6508 - accuracy: 0.0000e+00\n",
      "Epoch 2/10\n",
      "5985/5997 [============================>.] - ETA: 0s - loss: 5.5688 - accuracy: 0.0000e+00WARNING:tensorflow:Early stopping conditioned on metric `val_mean_squared_error` which is not available. Available metrics are: loss,accuracy\n",
      "5997/5997 [==============================] - 11s 2ms/step - loss: 5.5697 - accuracy: 0.0000e+00\n",
      "Epoch 3/10\n",
      "5988/5997 [============================>.] - ETA: 0s - loss: 5.4202 - accuracy: 0.0000e+00WARNING:tensorflow:Early stopping conditioned on metric `val_mean_squared_error` which is not available. Available metrics are: loss,accuracy\n",
      "5997/5997 [==============================] - 11s 2ms/step - loss: 5.4206 - accuracy: 0.0000e+00\n",
      "Epoch 4/10\n",
      "5969/5997 [============================>.] - ETA: 0s - loss: 5.3334 - accuracy: 0.0000e+00WARNING:tensorflow:Early stopping conditioned on metric `val_mean_squared_error` which is not available. Available metrics are: loss,accuracy\n",
      "5997/5997 [==============================] - 11s 2ms/step - loss: 5.3340 - accuracy: 0.0000e+00\n",
      "Epoch 5/10\n",
      "5985/5997 [============================>.] - ETA: 0s - loss: 5.2663 - accuracy: 0.0000e+00WARNING:tensorflow:Early stopping conditioned on metric `val_mean_squared_error` which is not available. Available metrics are: loss,accuracy\n",
      "5997/5997 [==============================] - 11s 2ms/step - loss: 5.2680 - accuracy: 0.0000e+00\n",
      "Epoch 6/10\n",
      "5987/5997 [============================>.] - ETA: 0s - loss: 5.2138 - accuracy: 0.0000e+00WARNING:tensorflow:Early stopping conditioned on metric `val_mean_squared_error` which is not available. Available metrics are: loss,accuracy\n",
      "5997/5997 [==============================] - 12s 2ms/step - loss: 5.2145 - accuracy: 0.0000e+00\n",
      "Epoch 7/10\n",
      "5997/5997 [==============================] - ETA: 0s - loss: 5.1871 - accuracy: 0.0000e+00WARNING:tensorflow:Early stopping conditioned on metric `val_mean_squared_error` which is not available. Available metrics are: loss,accuracy\n",
      "5997/5997 [==============================] - 13s 2ms/step - loss: 5.1871 - accuracy: 0.0000e+00\n",
      "Epoch 8/10\n",
      "5983/5997 [============================>.] - ETA: 0s - loss: 5.1325 - accuracy: 0.0000e+00WARNING:tensorflow:Early stopping conditioned on metric `val_mean_squared_error` which is not available. Available metrics are: loss,accuracy\n",
      "5997/5997 [==============================] - 13s 2ms/step - loss: 5.1323 - accuracy: 0.0000e+00\n",
      "Epoch 9/10\n",
      "5987/5997 [============================>.] - ETA: 0s - loss: 5.1046 - accuracy: 0.0000e+00WARNING:tensorflow:Early stopping conditioned on metric `val_mean_squared_error` which is not available. Available metrics are: loss,accuracy\n",
      "5997/5997 [==============================] - 12s 2ms/step - loss: 5.1054 - accuracy: 0.0000e+00\n",
      "Epoch 10/10\n",
      "5991/5997 [============================>.] - ETA: 0s - loss: 5.0674 - accuracy: 0.0000e+00WARNING:tensorflow:Early stopping conditioned on metric `val_mean_squared_error` which is not available. Available metrics are: loss,accuracy\n",
      "5997/5997 [==============================] - 13s 2ms/step - loss: 5.0659 - accuracy: 0.0000e+00\n",
      "2999/2999 [==============================] - 5s 2ms/step - loss: 4.8893 - accuracy: 0.0000e+00\n",
      "Test Loss: 4.889308452606201\n",
      "Test Accuracy: 0.0\n"
     ]
    }
   ],
   "source": [
    "data = [X_train['province'],  X_train['year'],X_train['taster_name'], X_train['country'], X_train['variety'], X_train[['price']]]\n",
    "\n",
    "model.compile(optimizer=Adam(),\n",
    "              loss='mean_squared_error',\n",
    "              metrics=[Accuracy()])\n",
    "\n",
    "# Train the model\n",
    "model.fit(data, y_train,\n",
    "          batch_size=16,\n",
    "          epochs=10,\n",
    "          callbacks=[early_stopping_monitor])\n",
    "\n",
    "# Evaluate the model\n",
    "loss, accuracy = model.evaluate(data, y_train)\n",
    "print('Test Loss:', loss)\n",
    "print('Test Accuracy:', accuracy)"
   ]
  },
  {
   "cell_type": "code",
   "execution_count": 130,
   "id": "a3795e79-4f1d-488f-b23d-94422d56c4a6",
   "metadata": {},
   "outputs": [
    {
     "name": "stdout",
     "output_type": "stream",
     "text": [
      "750/750 [==============================] - 1s 1ms/step\n",
      "r2 score: 0.45841018762273733\n",
      "mse score:5.180688349202432\n"
     ]
    }
   ],
   "source": [
    "y_predict = model.predict([X_test['province'],  X_test['year'], X_test['taster_name'], X_test['country'], X_test['variety'],  X_test[numerical_col]])\n",
    "print(f'r2 score: {r2_score(y_test, y_predict)}')\n",
    "print(f'mse score:{mean_squared_error(y_test, y_predict)}')"
   ]
  },
  {
   "cell_type": "code",
   "execution_count": 135,
   "id": "e1389454-b8be-49d1-8468-028f1f4e8032",
   "metadata": {},
   "outputs": [
    {
     "data": {
      "text/html": [
       "<div>\n",
       "<style scoped>\n",
       "    .dataframe tbody tr th:only-of-type {\n",
       "        vertical-align: middle;\n",
       "    }\n",
       "\n",
       "    .dataframe tbody tr th {\n",
       "        vertical-align: top;\n",
       "    }\n",
       "\n",
       "    .dataframe thead th {\n",
       "        text-align: right;\n",
       "    }\n",
       "</style>\n",
       "<table border=\"1\" class=\"dataframe\">\n",
       "  <thead>\n",
       "    <tr style=\"text-align: right;\">\n",
       "      <th></th>\n",
       "      <th>true</th>\n",
       "      <th>predicted</th>\n",
       "      <th>error</th>\n",
       "    </tr>\n",
       "  </thead>\n",
       "  <tbody>\n",
       "    <tr>\n",
       "      <th>16521</th>\n",
       "      <td>81</td>\n",
       "      <td>91.914276</td>\n",
       "      <td>10.914276</td>\n",
       "    </tr>\n",
       "    <tr>\n",
       "      <th>40928</th>\n",
       "      <td>83</td>\n",
       "      <td>93.628624</td>\n",
       "      <td>10.628624</td>\n",
       "    </tr>\n",
       "    <tr>\n",
       "      <th>109528</th>\n",
       "      <td>80</td>\n",
       "      <td>89.952042</td>\n",
       "      <td>9.952042</td>\n",
       "    </tr>\n",
       "    <tr>\n",
       "      <th>111758</th>\n",
       "      <td>99</td>\n",
       "      <td>89.216034</td>\n",
       "      <td>9.783966</td>\n",
       "    </tr>\n",
       "    <tr>\n",
       "      <th>116094</th>\n",
       "      <td>99</td>\n",
       "      <td>89.264656</td>\n",
       "      <td>9.735344</td>\n",
       "    </tr>\n",
       "    <tr>\n",
       "      <th>48895</th>\n",
       "      <td>98</td>\n",
       "      <td>88.606903</td>\n",
       "      <td>9.393097</td>\n",
       "    </tr>\n",
       "    <tr>\n",
       "      <th>56177</th>\n",
       "      <td>81</td>\n",
       "      <td>90.134567</td>\n",
       "      <td>9.134567</td>\n",
       "    </tr>\n",
       "    <tr>\n",
       "      <th>14733</th>\n",
       "      <td>81</td>\n",
       "      <td>90.134018</td>\n",
       "      <td>9.134018</td>\n",
       "    </tr>\n",
       "    <tr>\n",
       "      <th>111750</th>\n",
       "      <td>80</td>\n",
       "      <td>89.121658</td>\n",
       "      <td>9.121658</td>\n",
       "    </tr>\n",
       "    <tr>\n",
       "      <th>69200</th>\n",
       "      <td>94</td>\n",
       "      <td>84.882668</td>\n",
       "      <td>9.117332</td>\n",
       "    </tr>\n",
       "  </tbody>\n",
       "</table>\n",
       "</div>"
      ],
      "text/plain": [
       "        true  predicted      error\n",
       "16521     81  91.914276  10.914276\n",
       "40928     83  93.628624  10.628624\n",
       "109528    80  89.952042   9.952042\n",
       "111758    99  89.216034   9.783966\n",
       "116094    99  89.264656   9.735344\n",
       "48895     98  88.606903   9.393097\n",
       "56177     81  90.134567   9.134567\n",
       "14733     81  90.134018   9.134018\n",
       "111750    80  89.121658   9.121658\n",
       "69200     94  84.882668   9.117332"
      ]
     },
     "execution_count": 135,
     "metadata": {},
     "output_type": "execute_result"
    }
   ],
   "source": [
    "predicted_df1 = pd.DataFrame()\n",
    "predicted_df1[\"true\"] = y_test\n",
    "predicted_df1[\"predicted\"] = y_predict\n",
    "predicted_df1['error'] = abs(predicted_df1[\"true\"] - predicted_df1['predicted'])\n",
    "predicted_df1.sort_values(by=\"error\", ascending=False).head(10)\n"
   ]
  }
 ],
 "metadata": {
  "kernelspec": {
   "display_name": "Python 3 (ipykernel)",
   "language": "python",
   "name": "python3"
  },
  "language_info": {
   "codemirror_mode": {
    "name": "ipython",
    "version": 3
   },
   "file_extension": ".py",
   "mimetype": "text/x-python",
   "name": "python",
   "nbconvert_exporter": "python",
   "pygments_lexer": "ipython3",
   "version": "3.9.13"
  }
 },
 "nbformat": 4,
 "nbformat_minor": 5
}
