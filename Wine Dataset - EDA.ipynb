{
 "cells": [
  {
   "cell_type": "markdown",
   "metadata": {
    "tags": []
   },
   "source": [
    "# Wines Points prediction "
   ]
  },
  {
   "cell_type": "markdown",
   "metadata": {},
   "source": [
    "Submission Date : 3.6.2023\n",
    "Task: Predict the wine score given the inputs\n",
    "Instructions:\n",
    " * Use logistic regression as benchmark model\n",
    " * Use sklearn pipeliens + cv + grid search with sklearn models (e.g. KNNs, RandomForest, etc.)\n",
    " * Compare all models on proper metric (your choice)"
   ]
  },
  {
   "cell_type": "markdown",
   "metadata": {},
   "source": [
    "For DNN course project:\n",
    "* Use sklearn pipeliens with tensorflow models (w/wo embeddings, LSTMs, RNNs, Transformers etc.)\n",
    "* Compare all models on proper metric (your choice)"
   ]
  },
  {
   "cell_type": "code",
   "execution_count": 84,
   "metadata": {},
   "outputs": [],
   "source": [
    "#%load_ext autoreload\n",
    "#%autoreload 2\n",
    "#nltk.download('stopwords')\n",
    "#nltk.download('punkt')\n",
    "#nltk.download('averaged_perceptron_tagger')\n"
   ]
  },
  {
   "cell_type": "code",
   "execution_count": 174,
   "metadata": {},
   "outputs": [],
   "source": [
    "import nltk\n",
    "import sys; sys.path.append('../')"
   ]
  },
  {
   "cell_type": "code",
   "execution_count": 175,
   "metadata": {},
   "outputs": [],
   "source": [
    "import string\n",
    "import emoji\n",
    "import re as regex\n",
    "from pandas import * "
   ]
  },
  {
   "cell_type": "markdown",
   "metadata": {},
   "source": [
    "Here we will try to predict the points a wine will get based on known characteristics (i.e. features, in the ML terminology). The mine point in this stage is to establish a simple, ideally super cost effective, basline.\n",
    "In the real world there is a tradeoff between complexity and perforamnce, and the DS job, among others, is to present a tradeoff tables of what performance is achivalbel at what complexity level. \n",
    "\n",
    "to which models with increased complexity and resource demands will be compared. Complexity should then be translated into cost. For example:\n",
    " * Compute cost \n",
    " * Maintenance cost\n",
    " * Serving costs (i.e. is new platform needed?) \n",
    " "
   ]
  },
  {
   "cell_type": "markdown",
   "metadata": {
    "tags": []
   },
   "source": [
    "#### Loading the data"
   ]
  },
  {
   "cell_type": "code",
   "execution_count": 87,
   "metadata": {},
   "outputs": [
    {
     "data": {
      "text/html": [
       "        <script type=\"text/javascript\">\n",
       "        window.PlotlyConfig = {MathJaxConfig: 'local'};\n",
       "        if (window.MathJax && window.MathJax.Hub && window.MathJax.Hub.Config) {window.MathJax.Hub.Config({SVG: {font: \"STIX-Web\"}});}\n",
       "        if (typeof require !== 'undefined') {\n",
       "        require.undef(\"plotly\");\n",
       "        requirejs.config({\n",
       "            paths: {\n",
       "                'plotly': ['https://cdn.plot.ly/plotly-2.18.0.min']\n",
       "            }\n",
       "        });\n",
       "        require(['plotly'], function(Plotly) {\n",
       "            window._Plotly = Plotly;\n",
       "        });\n",
       "        }\n",
       "        </script>\n",
       "        "
      ]
     },
     "metadata": {},
     "output_type": "display_data"
    }
   ],
   "source": [
    "import pandas as pd\n",
    "import cufflinks as cf; cf.go_offline()\n",
    "from sklearn.model_selection import train_test_split\n",
    "from sklearn.feature_extraction.text import CountVectorizer\n",
    "from sklearn.feature_extraction.text import TfidfVectorizer\n",
    "import numpy as np\n",
    "from sklearn.model_selection import train_test_split, cross_val_score\n",
    "from sklearn.metrics import roc_auc_score, precision_score, recall_score, accuracy_score\n",
    "from sklearn.linear_model import LogisticRegression\n",
    "from sklearn.linear_model import LogisticRegressionCV\n",
    "from sklearn.impute import SimpleImputer, KNNImputer\n",
    "from sklearn.compose import ColumnTransformer\n",
    "from sklearn.linear_model import Ridge\n",
    "import seaborn as sns"
   ]
  },
  {
   "cell_type": "code",
   "execution_count": 176,
   "metadata": {},
   "outputs": [
    {
     "data": {
      "text/plain": [
       "(129971, 13)"
      ]
     },
     "execution_count": 176,
     "metadata": {},
     "output_type": "execute_result"
    }
   ],
   "source": [
    "wine_reviews = pd.read_csv(\"data/winemag-data-130k-v2.csv\", index_col=0)\n",
    "wine_reviews.shape"
   ]
  },
  {
   "cell_type": "code",
   "execution_count": 89,
   "metadata": {},
   "outputs": [
    {
     "data": {
      "text/html": [
       "<div>\n",
       "<style scoped>\n",
       "    .dataframe tbody tr th:only-of-type {\n",
       "        vertical-align: middle;\n",
       "    }\n",
       "\n",
       "    .dataframe tbody tr th {\n",
       "        vertical-align: top;\n",
       "    }\n",
       "\n",
       "    .dataframe thead th {\n",
       "        text-align: right;\n",
       "    }\n",
       "</style>\n",
       "<table border=\"1\" class=\"dataframe\">\n",
       "  <thead>\n",
       "    <tr style=\"text-align: right;\">\n",
       "      <th></th>\n",
       "      <th>country</th>\n",
       "      <th>description</th>\n",
       "      <th>designation</th>\n",
       "      <th>points</th>\n",
       "      <th>price</th>\n",
       "      <th>province</th>\n",
       "      <th>region_1</th>\n",
       "      <th>region_2</th>\n",
       "      <th>taster_name</th>\n",
       "      <th>taster_twitter_handle</th>\n",
       "      <th>title</th>\n",
       "      <th>variety</th>\n",
       "      <th>winery</th>\n",
       "    </tr>\n",
       "  </thead>\n",
       "  <tbody>\n",
       "    <tr>\n",
       "      <th>0</th>\n",
       "      <td>Italy</td>\n",
       "      <td>Aromas include tropical fruit, broom, brimston...</td>\n",
       "      <td>Vulkà Bianco</td>\n",
       "      <td>87</td>\n",
       "      <td>NaN</td>\n",
       "      <td>Sicily &amp; Sardinia</td>\n",
       "      <td>Etna</td>\n",
       "      <td>NaN</td>\n",
       "      <td>Kerin O’Keefe</td>\n",
       "      <td>@kerinokeefe</td>\n",
       "      <td>Nicosia 2013 Vulkà Bianco  (Etna)</td>\n",
       "      <td>White Blend</td>\n",
       "      <td>Nicosia</td>\n",
       "    </tr>\n",
       "    <tr>\n",
       "      <th>1</th>\n",
       "      <td>Portugal</td>\n",
       "      <td>This is ripe and fruity, a wine that is smooth...</td>\n",
       "      <td>Avidagos</td>\n",
       "      <td>87</td>\n",
       "      <td>15.0</td>\n",
       "      <td>Douro</td>\n",
       "      <td>NaN</td>\n",
       "      <td>NaN</td>\n",
       "      <td>Roger Voss</td>\n",
       "      <td>@vossroger</td>\n",
       "      <td>Quinta dos Avidagos 2011 Avidagos Red (Douro)</td>\n",
       "      <td>Portuguese Red</td>\n",
       "      <td>Quinta dos Avidagos</td>\n",
       "    </tr>\n",
       "    <tr>\n",
       "      <th>2</th>\n",
       "      <td>US</td>\n",
       "      <td>Tart and snappy, the flavors of lime flesh and...</td>\n",
       "      <td>NaN</td>\n",
       "      <td>87</td>\n",
       "      <td>14.0</td>\n",
       "      <td>Oregon</td>\n",
       "      <td>Willamette Valley</td>\n",
       "      <td>Willamette Valley</td>\n",
       "      <td>Paul Gregutt</td>\n",
       "      <td>@paulgwine</td>\n",
       "      <td>Rainstorm 2013 Pinot Gris (Willamette Valley)</td>\n",
       "      <td>Pinot Gris</td>\n",
       "      <td>Rainstorm</td>\n",
       "    </tr>\n",
       "    <tr>\n",
       "      <th>3</th>\n",
       "      <td>US</td>\n",
       "      <td>Pineapple rind, lemon pith and orange blossom ...</td>\n",
       "      <td>Reserve Late Harvest</td>\n",
       "      <td>87</td>\n",
       "      <td>13.0</td>\n",
       "      <td>Michigan</td>\n",
       "      <td>Lake Michigan Shore</td>\n",
       "      <td>NaN</td>\n",
       "      <td>Alexander Peartree</td>\n",
       "      <td>NaN</td>\n",
       "      <td>St. Julian 2013 Reserve Late Harvest Riesling ...</td>\n",
       "      <td>Riesling</td>\n",
       "      <td>St. Julian</td>\n",
       "    </tr>\n",
       "    <tr>\n",
       "      <th>4</th>\n",
       "      <td>US</td>\n",
       "      <td>Much like the regular bottling from 2012, this...</td>\n",
       "      <td>Vintner's Reserve Wild Child Block</td>\n",
       "      <td>87</td>\n",
       "      <td>65.0</td>\n",
       "      <td>Oregon</td>\n",
       "      <td>Willamette Valley</td>\n",
       "      <td>Willamette Valley</td>\n",
       "      <td>Paul Gregutt</td>\n",
       "      <td>@paulgwine</td>\n",
       "      <td>Sweet Cheeks 2012 Vintner's Reserve Wild Child...</td>\n",
       "      <td>Pinot Noir</td>\n",
       "      <td>Sweet Cheeks</td>\n",
       "    </tr>\n",
       "  </tbody>\n",
       "</table>\n",
       "</div>"
      ],
      "text/plain": [
       "    country                                        description  \\\n",
       "0     Italy  Aromas include tropical fruit, broom, brimston...   \n",
       "1  Portugal  This is ripe and fruity, a wine that is smooth...   \n",
       "2        US  Tart and snappy, the flavors of lime flesh and...   \n",
       "3        US  Pineapple rind, lemon pith and orange blossom ...   \n",
       "4        US  Much like the regular bottling from 2012, this...   \n",
       "\n",
       "                          designation  points  price           province  \\\n",
       "0                        Vulkà Bianco      87    NaN  Sicily & Sardinia   \n",
       "1                            Avidagos      87   15.0              Douro   \n",
       "2                                 NaN      87   14.0             Oregon   \n",
       "3                Reserve Late Harvest      87   13.0           Michigan   \n",
       "4  Vintner's Reserve Wild Child Block      87   65.0             Oregon   \n",
       "\n",
       "              region_1           region_2         taster_name  \\\n",
       "0                 Etna                NaN       Kerin O’Keefe   \n",
       "1                  NaN                NaN          Roger Voss   \n",
       "2    Willamette Valley  Willamette Valley        Paul Gregutt   \n",
       "3  Lake Michigan Shore                NaN  Alexander Peartree   \n",
       "4    Willamette Valley  Willamette Valley        Paul Gregutt   \n",
       "\n",
       "  taster_twitter_handle                                              title  \\\n",
       "0          @kerinokeefe                  Nicosia 2013 Vulkà Bianco  (Etna)   \n",
       "1            @vossroger      Quinta dos Avidagos 2011 Avidagos Red (Douro)   \n",
       "2           @paulgwine       Rainstorm 2013 Pinot Gris (Willamette Valley)   \n",
       "3                   NaN  St. Julian 2013 Reserve Late Harvest Riesling ...   \n",
       "4           @paulgwine   Sweet Cheeks 2012 Vintner's Reserve Wild Child...   \n",
       "\n",
       "          variety               winery  \n",
       "0     White Blend              Nicosia  \n",
       "1  Portuguese Red  Quinta dos Avidagos  \n",
       "2      Pinot Gris            Rainstorm  \n",
       "3        Riesling           St. Julian  \n",
       "4      Pinot Noir         Sweet Cheeks  "
      ]
     },
     "execution_count": 89,
     "metadata": {},
     "output_type": "execute_result"
    }
   ],
   "source": [
    "wine_reviews.head()"
   ]
  },
  {
   "cell_type": "code",
   "execution_count": 119,
   "metadata": {},
   "outputs": [
    {
     "data": {
      "text/html": [
       "<div>\n",
       "<style scoped>\n",
       "    .dataframe tbody tr th:only-of-type {\n",
       "        vertical-align: middle;\n",
       "    }\n",
       "\n",
       "    .dataframe tbody tr th {\n",
       "        vertical-align: top;\n",
       "    }\n",
       "\n",
       "    .dataframe thead th {\n",
       "        text-align: right;\n",
       "    }\n",
       "</style>\n",
       "<table border=\"1\" class=\"dataframe\">\n",
       "  <thead>\n",
       "    <tr style=\"text-align: right;\">\n",
       "      <th></th>\n",
       "      <th>count</th>\n",
       "      <th>unique</th>\n",
       "      <th>top</th>\n",
       "      <th>freq</th>\n",
       "      <th>mean</th>\n",
       "      <th>std</th>\n",
       "      <th>min</th>\n",
       "      <th>25%</th>\n",
       "      <th>50%</th>\n",
       "      <th>75%</th>\n",
       "      <th>max</th>\n",
       "    </tr>\n",
       "  </thead>\n",
       "  <tbody>\n",
       "    <tr>\n",
       "      <th>country</th>\n",
       "      <td>129908</td>\n",
       "      <td>43</td>\n",
       "      <td>US</td>\n",
       "      <td>54504</td>\n",
       "      <td>NaN</td>\n",
       "      <td>NaN</td>\n",
       "      <td>NaN</td>\n",
       "      <td>NaN</td>\n",
       "      <td>NaN</td>\n",
       "      <td>NaN</td>\n",
       "      <td>NaN</td>\n",
       "    </tr>\n",
       "    <tr>\n",
       "      <th>description</th>\n",
       "      <td>129971</td>\n",
       "      <td>119955</td>\n",
       "      <td>Seductively tart in lemon pith, cranberry and ...</td>\n",
       "      <td>3</td>\n",
       "      <td>NaN</td>\n",
       "      <td>NaN</td>\n",
       "      <td>NaN</td>\n",
       "      <td>NaN</td>\n",
       "      <td>NaN</td>\n",
       "      <td>NaN</td>\n",
       "      <td>NaN</td>\n",
       "    </tr>\n",
       "    <tr>\n",
       "      <th>designation</th>\n",
       "      <td>92506</td>\n",
       "      <td>37979</td>\n",
       "      <td>Reserve</td>\n",
       "      <td>2009</td>\n",
       "      <td>NaN</td>\n",
       "      <td>NaN</td>\n",
       "      <td>NaN</td>\n",
       "      <td>NaN</td>\n",
       "      <td>NaN</td>\n",
       "      <td>NaN</td>\n",
       "      <td>NaN</td>\n",
       "    </tr>\n",
       "    <tr>\n",
       "      <th>points</th>\n",
       "      <td>129971.0</td>\n",
       "      <td>NaN</td>\n",
       "      <td>NaN</td>\n",
       "      <td>NaN</td>\n",
       "      <td>88.447138</td>\n",
       "      <td>3.03973</td>\n",
       "      <td>80.0</td>\n",
       "      <td>86.0</td>\n",
       "      <td>88.0</td>\n",
       "      <td>91.0</td>\n",
       "      <td>100.0</td>\n",
       "    </tr>\n",
       "    <tr>\n",
       "      <th>price</th>\n",
       "      <td>120975.0</td>\n",
       "      <td>NaN</td>\n",
       "      <td>NaN</td>\n",
       "      <td>NaN</td>\n",
       "      <td>35.363389</td>\n",
       "      <td>41.022218</td>\n",
       "      <td>4.0</td>\n",
       "      <td>17.0</td>\n",
       "      <td>25.0</td>\n",
       "      <td>42.0</td>\n",
       "      <td>3300.0</td>\n",
       "    </tr>\n",
       "    <tr>\n",
       "      <th>province</th>\n",
       "      <td>129908</td>\n",
       "      <td>425</td>\n",
       "      <td>California</td>\n",
       "      <td>36247</td>\n",
       "      <td>NaN</td>\n",
       "      <td>NaN</td>\n",
       "      <td>NaN</td>\n",
       "      <td>NaN</td>\n",
       "      <td>NaN</td>\n",
       "      <td>NaN</td>\n",
       "      <td>NaN</td>\n",
       "    </tr>\n",
       "    <tr>\n",
       "      <th>region_1</th>\n",
       "      <td>108724</td>\n",
       "      <td>1229</td>\n",
       "      <td>Napa Valley</td>\n",
       "      <td>4480</td>\n",
       "      <td>NaN</td>\n",
       "      <td>NaN</td>\n",
       "      <td>NaN</td>\n",
       "      <td>NaN</td>\n",
       "      <td>NaN</td>\n",
       "      <td>NaN</td>\n",
       "      <td>NaN</td>\n",
       "    </tr>\n",
       "    <tr>\n",
       "      <th>region_2</th>\n",
       "      <td>50511</td>\n",
       "      <td>17</td>\n",
       "      <td>Central Coast</td>\n",
       "      <td>11065</td>\n",
       "      <td>NaN</td>\n",
       "      <td>NaN</td>\n",
       "      <td>NaN</td>\n",
       "      <td>NaN</td>\n",
       "      <td>NaN</td>\n",
       "      <td>NaN</td>\n",
       "      <td>NaN</td>\n",
       "    </tr>\n",
       "    <tr>\n",
       "      <th>taster_name</th>\n",
       "      <td>103727</td>\n",
       "      <td>19</td>\n",
       "      <td>Roger Voss</td>\n",
       "      <td>25514</td>\n",
       "      <td>NaN</td>\n",
       "      <td>NaN</td>\n",
       "      <td>NaN</td>\n",
       "      <td>NaN</td>\n",
       "      <td>NaN</td>\n",
       "      <td>NaN</td>\n",
       "      <td>NaN</td>\n",
       "    </tr>\n",
       "    <tr>\n",
       "      <th>taster_twitter_handle</th>\n",
       "      <td>98758</td>\n",
       "      <td>15</td>\n",
       "      <td>@vossroger</td>\n",
       "      <td>25514</td>\n",
       "      <td>NaN</td>\n",
       "      <td>NaN</td>\n",
       "      <td>NaN</td>\n",
       "      <td>NaN</td>\n",
       "      <td>NaN</td>\n",
       "      <td>NaN</td>\n",
       "      <td>NaN</td>\n",
       "    </tr>\n",
       "    <tr>\n",
       "      <th>title</th>\n",
       "      <td>129971</td>\n",
       "      <td>118840</td>\n",
       "      <td>Gloria Ferrer NV Sonoma Brut Sparkling (Sonoma...</td>\n",
       "      <td>11</td>\n",
       "      <td>NaN</td>\n",
       "      <td>NaN</td>\n",
       "      <td>NaN</td>\n",
       "      <td>NaN</td>\n",
       "      <td>NaN</td>\n",
       "      <td>NaN</td>\n",
       "      <td>NaN</td>\n",
       "    </tr>\n",
       "    <tr>\n",
       "      <th>variety</th>\n",
       "      <td>129970</td>\n",
       "      <td>707</td>\n",
       "      <td>Pinot Noir</td>\n",
       "      <td>13272</td>\n",
       "      <td>NaN</td>\n",
       "      <td>NaN</td>\n",
       "      <td>NaN</td>\n",
       "      <td>NaN</td>\n",
       "      <td>NaN</td>\n",
       "      <td>NaN</td>\n",
       "      <td>NaN</td>\n",
       "    </tr>\n",
       "    <tr>\n",
       "      <th>winery</th>\n",
       "      <td>129971</td>\n",
       "      <td>16757</td>\n",
       "      <td>Wines &amp; Winemakers</td>\n",
       "      <td>222</td>\n",
       "      <td>NaN</td>\n",
       "      <td>NaN</td>\n",
       "      <td>NaN</td>\n",
       "      <td>NaN</td>\n",
       "      <td>NaN</td>\n",
       "      <td>NaN</td>\n",
       "      <td>NaN</td>\n",
       "    </tr>\n",
       "  </tbody>\n",
       "</table>\n",
       "</div>"
      ],
      "text/plain": [
       "                          count  unique  \\\n",
       "country                  129908      43   \n",
       "description              129971  119955   \n",
       "designation               92506   37979   \n",
       "points                 129971.0     NaN   \n",
       "price                  120975.0     NaN   \n",
       "province                 129908     425   \n",
       "region_1                 108724    1229   \n",
       "region_2                  50511      17   \n",
       "taster_name              103727      19   \n",
       "taster_twitter_handle     98758      15   \n",
       "title                    129971  118840   \n",
       "variety                  129970     707   \n",
       "winery                   129971   16757   \n",
       "\n",
       "                                                                     top  \\\n",
       "country                                                               US   \n",
       "description            Seductively tart in lemon pith, cranberry and ...   \n",
       "designation                                                      Reserve   \n",
       "points                                                               NaN   \n",
       "price                                                                NaN   \n",
       "province                                                      California   \n",
       "region_1                                                     Napa Valley   \n",
       "region_2                                                   Central Coast   \n",
       "taster_name                                                   Roger Voss   \n",
       "taster_twitter_handle                                         @vossroger   \n",
       "title                  Gloria Ferrer NV Sonoma Brut Sparkling (Sonoma...   \n",
       "variety                                                       Pinot Noir   \n",
       "winery                                                Wines & Winemakers   \n",
       "\n",
       "                        freq       mean        std   min   25%   50%   75%  \\\n",
       "country                54504        NaN        NaN   NaN   NaN   NaN   NaN   \n",
       "description                3        NaN        NaN   NaN   NaN   NaN   NaN   \n",
       "designation             2009        NaN        NaN   NaN   NaN   NaN   NaN   \n",
       "points                   NaN  88.447138    3.03973  80.0  86.0  88.0  91.0   \n",
       "price                    NaN  35.363389  41.022218   4.0  17.0  25.0  42.0   \n",
       "province               36247        NaN        NaN   NaN   NaN   NaN   NaN   \n",
       "region_1                4480        NaN        NaN   NaN   NaN   NaN   NaN   \n",
       "region_2               11065        NaN        NaN   NaN   NaN   NaN   NaN   \n",
       "taster_name            25514        NaN        NaN   NaN   NaN   NaN   NaN   \n",
       "taster_twitter_handle  25514        NaN        NaN   NaN   NaN   NaN   NaN   \n",
       "title                     11        NaN        NaN   NaN   NaN   NaN   NaN   \n",
       "variety                13272        NaN        NaN   NaN   NaN   NaN   NaN   \n",
       "winery                   222        NaN        NaN   NaN   NaN   NaN   NaN   \n",
       "\n",
       "                          max  \n",
       "country                   NaN  \n",
       "description               NaN  \n",
       "designation               NaN  \n",
       "points                  100.0  \n",
       "price                  3300.0  \n",
       "province                  NaN  \n",
       "region_1                  NaN  \n",
       "region_2                  NaN  \n",
       "taster_name               NaN  \n",
       "taster_twitter_handle     NaN  \n",
       "title                     NaN  \n",
       "variety                   NaN  \n",
       "winery                    NaN  "
      ]
     },
     "execution_count": 119,
     "metadata": {},
     "output_type": "execute_result"
    }
   ],
   "source": [
    "wine_reviews.describe(include=\"all\").transpose()"
   ]
  },
  {
   "cell_type": "markdown",
   "metadata": {
    "tags": []
   },
   "source": [
    "#### Is the points normally distributed"
   ]
  },
  {
   "cell_type": "code",
   "execution_count": 91,
   "metadata": {},
   "outputs": [
    {
     "data": {
      "text/plain": [
       "(array([0.00305453, 0.00532426, 0.01412623, 0.02327442, 0.04985728,\n",
       "        0.07332405, 0.0969447 , 0.13028291, 0.13239107, 0.09406714,\n",
       "        0.11856491, 0.08739642, 0.07396265, 0.04992652, 0.02891414,\n",
       "        0.01181033, 0.00402397, 0.00176193, 0.00059244, 0.00040009]),\n",
       " array([ 80.,  81.,  82.,  83.,  84.,  85.,  86.,  87.,  88.,  89.,  90.,\n",
       "         91.,  92.,  93.,  94.,  95.,  96.,  97.,  98.,  99., 100.]),\n",
       " <BarContainer object of 20 artists>)"
      ]
     },
     "execution_count": 91,
     "metadata": {},
     "output_type": "execute_result"
    }
   ],
   "source": [
    "import matplotlib.pyplot as plt\n",
    "import seaborn as sns\n",
    "plt.hist(wine_reviews.points, edgecolor='black', bins=20, density=True)"
   ]
  },
  {
   "cell_type": "code",
   "execution_count": 92,
   "metadata": {},
   "outputs": [
    {
     "name": "stderr",
     "output_type": "stream",
     "text": [
      "C:\\ProgramData\\Anaconda3\\lib\\site-packages\\seaborn\\axisgrid.py:1242: RuntimeWarning:\n",
      "\n",
      "More than 20 figures have been opened. Figures created through the pyplot interface (`matplotlib.pyplot.figure`) are retained until explicitly closed and may consume too much memory. (To control this warning, see the rcParam `figure.max_open_warning`).\n",
      "\n"
     ]
    }
   ],
   "source": [
    "g = sns.pairplot(wine_reviews[['price','points']].sample(10000), kind=\"reg\", diag_kind=\"kde\")\n",
    "g.fig.set_size_inches(15,15)"
   ]
  },
  {
   "cell_type": "code",
   "execution_count": 93,
   "metadata": {},
   "outputs": [
    {
     "data": {
      "text/plain": [
       "ShapiroResult(statistic=0.9882988929748535, pvalue=3.716081664606463e-07)"
      ]
     },
     "execution_count": 93,
     "metadata": {},
     "output_type": "execute_result"
    }
   ],
   "source": [
    "from scipy.stats import shapiro \n",
    "import math\n",
    "#perform Shapiro-Wilk test for normality\n",
    "result = shapiro(wine_reviews.points.sample(1000))\n",
    "result"
   ]
  },
  {
   "cell_type": "markdown",
   "metadata": {},
   "source": [
    "If the p-value ≤ 0.05, then we reject the null hypothesis i.e. we assume the distribution of our variable is not normal/gaussian.\n",
    "Conclusion - the points are not distributed normally"
   ]
  },
  {
   "cell_type": "code",
   "execution_count": 94,
   "metadata": {},
   "outputs": [
    {
     "data": {
      "text/plain": [
       "8996"
      ]
     },
     "execution_count": 94,
     "metadata": {},
     "output_type": "execute_result"
    }
   ],
   "source": [
    "len(wine_reviews[wine_reviews.price.isna()])"
   ]
  },
  {
   "cell_type": "code",
   "execution_count": 177,
   "metadata": {},
   "outputs": [
    {
     "name": "stdout",
     "output_type": "stream",
     "text": [
      "med 25.0 mean 35.363389129985535\n"
     ]
    }
   ],
   "source": [
    "#replace the missing price with the midian\n",
    "med = wine_reviews.price.median()\n",
    "mean = wine_reviews.price.mean()\n",
    "print(f'med {med} mean {mean}')\n"
   ]
  },
  {
   "cell_type": "code",
   "execution_count": 178,
   "metadata": {},
   "outputs": [],
   "source": [
    "#replace price null with median\n",
    "price_nulls = wine_reviews.price.isna()\n",
    "wine_reviews[price_nulls].price = med"
   ]
  },
  {
   "cell_type": "markdown",
   "metadata": {
    "tags": []
   },
   "source": [
    "#### Analize categorical columns"
   ]
  },
  {
   "cell_type": "code",
   "execution_count": 97,
   "metadata": {},
   "outputs": [
    {
     "data": {
      "text/plain": [
       "country                      43\n",
       "description              119955\n",
       "designation               37979\n",
       "points                       21\n",
       "price                       390\n",
       "province                    425\n",
       "region_1                   1229\n",
       "region_2                     17\n",
       "taster_name                  19\n",
       "taster_twitter_handle        15\n",
       "title                    118840\n",
       "variety                     707\n",
       "winery                    16757\n",
       "dtype: int64"
      ]
     },
     "execution_count": 97,
     "metadata": {},
     "output_type": "execute_result"
    }
   ],
   "source": [
    "wine_reviews.nunique()"
   ]
  },
  {
   "cell_type": "code",
   "execution_count": 98,
   "metadata": {},
   "outputs": [
    {
     "name": "stdout",
     "output_type": "stream",
     "text": [
      "<class 'pandas.core.frame.DataFrame'>\n",
      "Int64Index: 129971 entries, 0 to 129970\n",
      "Data columns (total 13 columns):\n",
      " #   Column                 Non-Null Count   Dtype  \n",
      "---  ------                 --------------   -----  \n",
      " 0   country                129908 non-null  object \n",
      " 1   description            129971 non-null  object \n",
      " 2   designation            92506 non-null   object \n",
      " 3   points                 129971 non-null  int64  \n",
      " 4   price                  120975 non-null  float64\n",
      " 5   province               129908 non-null  object \n",
      " 6   region_1               108724 non-null  object \n",
      " 7   region_2               50511 non-null   object \n",
      " 8   taster_name            103727 non-null  object \n",
      " 9   taster_twitter_handle  98758 non-null   object \n",
      " 10  title                  129971 non-null  object \n",
      " 11  variety                129970 non-null  object \n",
      " 12  winery                 129971 non-null  object \n",
      "dtypes: float64(1), int64(1), object(11)\n",
      "memory usage: 13.9+ MB\n"
     ]
    }
   ],
   "source": [
    "wine_reviews.info()"
   ]
  },
  {
   "cell_type": "code",
   "execution_count": 99,
   "metadata": {},
   "outputs": [
    {
     "name": "stdout",
     "output_type": "stream",
     "text": [
      "(43,)\n"
     ]
    },
    {
     "data": {
      "text/plain": [
       "California          36247\n",
       "Washington           8639\n",
       "Bordeaux             5941\n",
       "Tuscany              5897\n",
       "Oregon               5373\n",
       "Burgundy             3980\n",
       "Northern Spain       3851\n",
       "Piedmont             3729\n",
       "Mendoza Province     3264\n",
       "Veneto               2716\n",
       "Name: province, dtype: int64"
      ]
     },
     "execution_count": 99,
     "metadata": {},
     "output_type": "execute_result"
    }
   ],
   "source": [
    "#country\n",
    "print(wine_reviews.country.value_counts().shape)\n",
    "country_count = wine_reviews.province.value_counts().sort_values(ascending=False)\n",
    "country_count.head(10)"
   ]
  },
  {
   "cell_type": "code",
   "execution_count": 100,
   "metadata": {},
   "outputs": [
    {
     "name": "stdout",
     "output_type": "stream",
     "text": [
      "(425,)\n"
     ]
    },
    {
     "data": {
      "text/plain": [
       "0.9111909967053607"
      ]
     },
     "execution_count": 100,
     "metadata": {},
     "output_type": "execute_result"
    }
   ],
   "source": [
    "#province\n",
    "print(wine_reviews.province.value_counts().shape)\n",
    "province_count = wine_reviews.province.value_counts().sort_values(ascending=False)\n",
    "province_count_sum = province_count.sum()\n",
    "#print(province_count.head(50))\n",
    "province_count.head(50).sum()/province_count_sum"
   ]
  },
  {
   "cell_type": "code",
   "execution_count": 101,
   "metadata": {},
   "outputs": [
    {
     "name": "stdout",
     "output_type": "stream",
     "text": [
      "(707,)\n"
     ]
    },
    {
     "data": {
      "text/plain": [
       "0.9471724244056321"
      ]
     },
     "execution_count": 101,
     "metadata": {},
     "output_type": "execute_result"
    }
   ],
   "source": [
    "#veriety\n",
    "print(wine_reviews.variety.value_counts().shape)\n",
    "veriety_count = wine_reviews.variety.value_counts().sort_values(ascending=False)\n",
    "veriety_count_sum = veriety_count.sum()\n",
    "#print(veriety_count.head(50))\n",
    "veriety_count.head(100).sum()/veriety_count_sum"
   ]
  },
  {
   "cell_type": "code",
   "execution_count": 102,
   "metadata": {},
   "outputs": [
    {
     "name": "stdout",
     "output_type": "stream",
     "text": [
      "(16757,)\n",
      "Wines & Winemakers            222\n",
      "Testarossa                    218\n",
      "DFJ Vinhos                    215\n",
      "Williams Selyem               211\n",
      "Louis Latour                  199\n",
      "Georges Duboeuf               196\n",
      "Chateau Ste. Michelle         194\n",
      "Concha y Toro                 164\n",
      "Columbia Crest                159\n",
      "Kendall-Jackson               130\n",
      "Siduri                        126\n",
      "Gary Farrell                  125\n",
      "Lynmar                        118\n",
      "Montes                        117\n",
      "Albert Bichot                 117\n",
      "Trapiche                      113\n",
      "Undurraga                     113\n",
      "Casa Santos Lima              113\n",
      "Jean-Luc and Paul Aegerter    113\n",
      "Santa Ema                     112\n",
      "Name: winery, dtype: int64\n",
      "1000 sum: 47584 all sum: 129971 percent: 0.3661124404674889\n"
     ]
    }
   ],
   "source": [
    "print(wine_reviews.winery.value_counts().shape)\n",
    "winery_count = wine_reviews.winery.value_counts().sort_values(ascending=False)\n",
    "print(winery_count.head(20))\n",
    "n = 1000\n",
    "print(f'{n} sum: {winery_count.head(n).sum()} all sum: {winery_count.sum()} percent: {winery_count.head(n).sum()/winery_count.sum()}')\n",
    "#there are many different values in the winery and small amount of reviews for each"
   ]
  },
  {
   "cell_type": "code",
   "execution_count": 103,
   "metadata": {},
   "outputs": [
    {
     "data": {
      "text/plain": [
       "Index(['country', 'description', 'designation', 'points', 'price', 'province',\n",
       "       'region_1', 'region_2', 'taster_name', 'taster_twitter_handle', 'title',\n",
       "       'variety', 'winery'],\n",
       "      dtype='object')"
      ]
     },
     "execution_count": 103,
     "metadata": {},
     "output_type": "execute_result"
    }
   ],
   "source": [
    "wine_reviews.columns"
   ]
  },
  {
   "cell_type": "markdown",
   "metadata": {},
   "source": [
    "#### Add the Year column"
   ]
  },
  {
   "cell_type": "code",
   "execution_count": 179,
   "metadata": {},
   "outputs": [
    {
     "data": {
      "text/html": [
       "<div>\n",
       "<style scoped>\n",
       "    .dataframe tbody tr th:only-of-type {\n",
       "        vertical-align: middle;\n",
       "    }\n",
       "\n",
       "    .dataframe tbody tr th {\n",
       "        vertical-align: top;\n",
       "    }\n",
       "\n",
       "    .dataframe thead th {\n",
       "        text-align: right;\n",
       "    }\n",
       "</style>\n",
       "<table border=\"1\" class=\"dataframe\">\n",
       "  <thead>\n",
       "    <tr style=\"text-align: right;\">\n",
       "      <th></th>\n",
       "      <th>country</th>\n",
       "      <th>description</th>\n",
       "      <th>designation</th>\n",
       "      <th>points</th>\n",
       "      <th>price</th>\n",
       "      <th>province</th>\n",
       "      <th>region_1</th>\n",
       "      <th>region_2</th>\n",
       "      <th>taster_name</th>\n",
       "      <th>taster_twitter_handle</th>\n",
       "      <th>title</th>\n",
       "      <th>variety</th>\n",
       "      <th>winery</th>\n",
       "      <th>year</th>\n",
       "    </tr>\n",
       "  </thead>\n",
       "  <tbody>\n",
       "    <tr>\n",
       "      <th>57894</th>\n",
       "      <td>France</td>\n",
       "      <td>A solid, structured wine, showing the fine tan...</td>\n",
       "      <td>NaN</td>\n",
       "      <td>89</td>\n",
       "      <td>20.0</td>\n",
       "      <td>Bordeaux</td>\n",
       "      <td>Lussac Saint-Émilion</td>\n",
       "      <td>NaN</td>\n",
       "      <td>Roger Voss</td>\n",
       "      <td>@vossroger</td>\n",
       "      <td>Château Bel-Air 2010  Lussac Saint-Émilion</td>\n",
       "      <td>Bordeaux-style Red Blend</td>\n",
       "      <td>Château Bel-Air</td>\n",
       "      <td>2010</td>\n",
       "    </tr>\n",
       "    <tr>\n",
       "      <th>96611</th>\n",
       "      <td>US</td>\n",
       "      <td>Nonvintage juice at an amazing price. It's not...</td>\n",
       "      <td>NaN</td>\n",
       "      <td>83</td>\n",
       "      <td>6.0</td>\n",
       "      <td>California</td>\n",
       "      <td>California</td>\n",
       "      <td>California Other</td>\n",
       "      <td>Paul Gregutt</td>\n",
       "      <td>@paulgwine</td>\n",
       "      <td>Barefoot Cellars NV Zinfandel (California)</td>\n",
       "      <td>Zinfandel</td>\n",
       "      <td>Barefoot Cellars</td>\n",
       "      <td>NaN</td>\n",
       "    </tr>\n",
       "    <tr>\n",
       "      <th>97198</th>\n",
       "      <td>France</td>\n",
       "      <td>This is only Brut in name, because it is actua...</td>\n",
       "      <td>Comte de Rinken Blanc de Blancs Brut</td>\n",
       "      <td>86</td>\n",
       "      <td>14.0</td>\n",
       "      <td>Alsace</td>\n",
       "      <td>Crémant d'Alsace</td>\n",
       "      <td>NaN</td>\n",
       "      <td>Roger Voss</td>\n",
       "      <td>@vossroger</td>\n",
       "      <td>Pierre and Charles Sparr NV Comte de Rinken Bl...</td>\n",
       "      <td>Pinot Blanc</td>\n",
       "      <td>Pierre and Charles Sparr</td>\n",
       "      <td>NaN</td>\n",
       "    </tr>\n",
       "    <tr>\n",
       "      <th>79466</th>\n",
       "      <td>US</td>\n",
       "      <td>This Pinot is a little heavy in the mouth. It'...</td>\n",
       "      <td>Finley Vineyard</td>\n",
       "      <td>86</td>\n",
       "      <td>29.0</td>\n",
       "      <td>California</td>\n",
       "      <td>Santa Cruz Mountains</td>\n",
       "      <td>Central Coast</td>\n",
       "      <td>NaN</td>\n",
       "      <td>NaN</td>\n",
       "      <td>Cooper-Garrod 2011 Finley Vineyard Pinot Noir ...</td>\n",
       "      <td>Pinot Noir</td>\n",
       "      <td>Cooper-Garrod</td>\n",
       "      <td>2011</td>\n",
       "    </tr>\n",
       "    <tr>\n",
       "      <th>73427</th>\n",
       "      <td>US</td>\n",
       "      <td>Black and green olive tapenade and ripe plum c...</td>\n",
       "      <td>Mitsuko's Vineyard</td>\n",
       "      <td>86</td>\n",
       "      <td>35.0</td>\n",
       "      <td>California</td>\n",
       "      <td>Carneros</td>\n",
       "      <td>Napa-Sonoma</td>\n",
       "      <td>Virginie Boone</td>\n",
       "      <td>@vboone</td>\n",
       "      <td>Clos Pegase 2010 Mitsuko's Vineyard Merlot (Ca...</td>\n",
       "      <td>Merlot</td>\n",
       "      <td>Clos Pegase</td>\n",
       "      <td>2010</td>\n",
       "    </tr>\n",
       "    <tr>\n",
       "      <th>44914</th>\n",
       "      <td>Chile</td>\n",
       "      <td>Chunky, meaty, saucy plum and berry aromas are...</td>\n",
       "      <td>Special Reserve</td>\n",
       "      <td>85</td>\n",
       "      <td>16.0</td>\n",
       "      <td>Colchagua Valley</td>\n",
       "      <td>NaN</td>\n",
       "      <td>NaN</td>\n",
       "      <td>Michael Schachner</td>\n",
       "      <td>@wineschach</td>\n",
       "      <td>Siegel 2013 Special Reserve Cabernet Sauvignon...</td>\n",
       "      <td>Cabernet Sauvignon</td>\n",
       "      <td>Siegel</td>\n",
       "      <td>2013</td>\n",
       "    </tr>\n",
       "    <tr>\n",
       "      <th>61265</th>\n",
       "      <td>US</td>\n",
       "      <td>A delicious Pinot Noir. Set it beside more exp...</td>\n",
       "      <td>NaN</td>\n",
       "      <td>87</td>\n",
       "      <td>14.0</td>\n",
       "      <td>California</td>\n",
       "      <td>Central Coast</td>\n",
       "      <td>Central Coast</td>\n",
       "      <td>NaN</td>\n",
       "      <td>NaN</td>\n",
       "      <td>Cupcake 2008 Pinot Noir (Central Coast)</td>\n",
       "      <td>Pinot Noir</td>\n",
       "      <td>Cupcake</td>\n",
       "      <td>2008</td>\n",
       "    </tr>\n",
       "    <tr>\n",
       "      <th>64277</th>\n",
       "      <td>France</td>\n",
       "      <td>A rich, sweet wine, showing the great improvem...</td>\n",
       "      <td>NaN</td>\n",
       "      <td>91</td>\n",
       "      <td>NaN</td>\n",
       "      <td>Bordeaux</td>\n",
       "      <td>Pomerol</td>\n",
       "      <td>NaN</td>\n",
       "      <td>Roger Voss</td>\n",
       "      <td>@vossroger</td>\n",
       "      <td>Château Petit-Village 2006  Pomerol</td>\n",
       "      <td>Bordeaux-style Red Blend</td>\n",
       "      <td>Château Petit-Village</td>\n",
       "      <td>2006</td>\n",
       "    </tr>\n",
       "    <tr>\n",
       "      <th>122667</th>\n",
       "      <td>France</td>\n",
       "      <td>French actor Gérard Depardieu, who has a viney...</td>\n",
       "      <td>Taille Princesse de Gérard Depardieu Rosé Brut</td>\n",
       "      <td>89</td>\n",
       "      <td>NaN</td>\n",
       "      <td>Loire Valley</td>\n",
       "      <td>Saumur</td>\n",
       "      <td>NaN</td>\n",
       "      <td>Roger Voss</td>\n",
       "      <td>@vossroger</td>\n",
       "      <td>Bouvet-Ladubay 2008 Taille Princesse de Gérard...</td>\n",
       "      <td>Sparkling Blend</td>\n",
       "      <td>Bouvet-Ladubay</td>\n",
       "      <td>2008</td>\n",
       "    </tr>\n",
       "    <tr>\n",
       "      <th>63500</th>\n",
       "      <td>Italy</td>\n",
       "      <td>A simple but well made Dolcetto, with aromas o...</td>\n",
       "      <td>Vigna Ciabot Russ</td>\n",
       "      <td>85</td>\n",
       "      <td>20.0</td>\n",
       "      <td>Piedmont</td>\n",
       "      <td>Dolcetto d'Alba</td>\n",
       "      <td>NaN</td>\n",
       "      <td>Kerin O’Keefe</td>\n",
       "      <td>@kerinokeefe</td>\n",
       "      <td>Mario Gagliasso 2011 Vigna Ciabot Russ  (Dolce...</td>\n",
       "      <td>Dolcetto</td>\n",
       "      <td>Mario Gagliasso</td>\n",
       "      <td>2011</td>\n",
       "    </tr>\n",
       "  </tbody>\n",
       "</table>\n",
       "</div>"
      ],
      "text/plain": [
       "       country                                        description  \\\n",
       "57894   France  A solid, structured wine, showing the fine tan...   \n",
       "96611       US  Nonvintage juice at an amazing price. It's not...   \n",
       "97198   France  This is only Brut in name, because it is actua...   \n",
       "79466       US  This Pinot is a little heavy in the mouth. It'...   \n",
       "73427       US  Black and green olive tapenade and ripe plum c...   \n",
       "44914    Chile  Chunky, meaty, saucy plum and berry aromas are...   \n",
       "61265       US  A delicious Pinot Noir. Set it beside more exp...   \n",
       "64277   France  A rich, sweet wine, showing the great improvem...   \n",
       "122667  France  French actor Gérard Depardieu, who has a viney...   \n",
       "63500    Italy  A simple but well made Dolcetto, with aromas o...   \n",
       "\n",
       "                                           designation  points  price  \\\n",
       "57894                                              NaN      89   20.0   \n",
       "96611                                              NaN      83    6.0   \n",
       "97198             Comte de Rinken Blanc de Blancs Brut      86   14.0   \n",
       "79466                                  Finley Vineyard      86   29.0   \n",
       "73427                               Mitsuko's Vineyard      86   35.0   \n",
       "44914                                  Special Reserve      85   16.0   \n",
       "61265                                              NaN      87   14.0   \n",
       "64277                                              NaN      91    NaN   \n",
       "122667  Taille Princesse de Gérard Depardieu Rosé Brut      89    NaN   \n",
       "63500                                Vigna Ciabot Russ      85   20.0   \n",
       "\n",
       "                province              region_1          region_2  \\\n",
       "57894           Bordeaux  Lussac Saint-Émilion               NaN   \n",
       "96611         California            California  California Other   \n",
       "97198             Alsace      Crémant d'Alsace               NaN   \n",
       "79466         California  Santa Cruz Mountains     Central Coast   \n",
       "73427         California              Carneros       Napa-Sonoma   \n",
       "44914   Colchagua Valley                   NaN               NaN   \n",
       "61265         California         Central Coast     Central Coast   \n",
       "64277           Bordeaux               Pomerol               NaN   \n",
       "122667      Loire Valley                Saumur               NaN   \n",
       "63500           Piedmont       Dolcetto d'Alba               NaN   \n",
       "\n",
       "              taster_name taster_twitter_handle  \\\n",
       "57894          Roger Voss            @vossroger   \n",
       "96611        Paul Gregutt           @paulgwine    \n",
       "97198          Roger Voss            @vossroger   \n",
       "79466                 NaN                   NaN   \n",
       "73427      Virginie Boone               @vboone   \n",
       "44914   Michael Schachner           @wineschach   \n",
       "61265                 NaN                   NaN   \n",
       "64277          Roger Voss            @vossroger   \n",
       "122667         Roger Voss            @vossroger   \n",
       "63500       Kerin O’Keefe          @kerinokeefe   \n",
       "\n",
       "                                                    title  \\\n",
       "57894          Château Bel-Air 2010  Lussac Saint-Émilion   \n",
       "96611          Barefoot Cellars NV Zinfandel (California)   \n",
       "97198   Pierre and Charles Sparr NV Comte de Rinken Bl...   \n",
       "79466   Cooper-Garrod 2011 Finley Vineyard Pinot Noir ...   \n",
       "73427   Clos Pegase 2010 Mitsuko's Vineyard Merlot (Ca...   \n",
       "44914   Siegel 2013 Special Reserve Cabernet Sauvignon...   \n",
       "61265             Cupcake 2008 Pinot Noir (Central Coast)   \n",
       "64277                 Château Petit-Village 2006  Pomerol   \n",
       "122667  Bouvet-Ladubay 2008 Taille Princesse de Gérard...   \n",
       "63500   Mario Gagliasso 2011 Vigna Ciabot Russ  (Dolce...   \n",
       "\n",
       "                         variety                    winery  year  \n",
       "57894   Bordeaux-style Red Blend           Château Bel-Air  2010  \n",
       "96611                  Zinfandel          Barefoot Cellars   NaN  \n",
       "97198                Pinot Blanc  Pierre and Charles Sparr   NaN  \n",
       "79466                 Pinot Noir             Cooper-Garrod  2011  \n",
       "73427                     Merlot               Clos Pegase  2010  \n",
       "44914         Cabernet Sauvignon                    Siegel  2013  \n",
       "61265                 Pinot Noir                   Cupcake  2008  \n",
       "64277   Bordeaux-style Red Blend     Château Petit-Village  2006  \n",
       "122667           Sparkling Blend            Bouvet-Ladubay  2008  \n",
       "63500                   Dolcetto           Mario Gagliasso  2011  "
      ]
     },
     "execution_count": 179,
     "metadata": {},
     "output_type": "execute_result"
    }
   ],
   "source": [
    "def get_year(title):\n",
    "    words = title.split(\" \")\n",
    "    for word in words:\n",
    "        if word.isnumeric():\n",
    "            num = int(word)\n",
    "            if num > 1800 and num<2100:\n",
    "                return num\n",
    "    return 'NaN'\n",
    "        \n",
    "wine_reviews['year']  = wine_reviews.title.apply(get_year)\n",
    "wine_reviews.sample(10)"
   ]
  },
  {
   "cell_type": "code",
   "execution_count": 180,
   "metadata": {},
   "outputs": [],
   "source": [
    "g = sns.pairplot(wine_reviews[['price','points', 'year']].sample(10000), kind=\"reg\", diag_kind=\"kde\")\n",
    "g.fig.set_size_inches(15,15)"
   ]
  },
  {
   "cell_type": "code",
   "execution_count": 181,
   "metadata": {},
   "outputs": [
    {
     "data": {
      "text/html": [
       "<div>\n",
       "<style scoped>\n",
       "    .dataframe tbody tr th:only-of-type {\n",
       "        vertical-align: middle;\n",
       "    }\n",
       "\n",
       "    .dataframe tbody tr th {\n",
       "        vertical-align: top;\n",
       "    }\n",
       "\n",
       "    .dataframe thead th {\n",
       "        text-align: right;\n",
       "    }\n",
       "</style>\n",
       "<table border=\"1\" class=\"dataframe\">\n",
       "  <thead>\n",
       "    <tr style=\"text-align: right;\">\n",
       "      <th></th>\n",
       "      <th>country</th>\n",
       "      <th>description</th>\n",
       "      <th>designation</th>\n",
       "      <th>points</th>\n",
       "      <th>price</th>\n",
       "      <th>province</th>\n",
       "      <th>region_1</th>\n",
       "      <th>region_2</th>\n",
       "      <th>taster_name</th>\n",
       "      <th>taster_twitter_handle</th>\n",
       "      <th>title</th>\n",
       "      <th>variety</th>\n",
       "      <th>winery</th>\n",
       "      <th>year</th>\n",
       "    </tr>\n",
       "  </thead>\n",
       "  <tbody>\n",
       "    <tr>\n",
       "      <th>81266</th>\n",
       "      <td>US</td>\n",
       "      <td>Shows a tightly wound structure, with big, har...</td>\n",
       "      <td>GOTT 7</td>\n",
       "      <td>94</td>\n",
       "      <td>50.0</td>\n",
       "      <td>California</td>\n",
       "      <td>Napa Valley</td>\n",
       "      <td>Napa</td>\n",
       "      <td>NaN</td>\n",
       "      <td>NaN</td>\n",
       "      <td>Joel Gott 2007 GOTT 7 Cabernet Sauvignon (Napa...</td>\n",
       "      <td>Cabernet Sauvignon</td>\n",
       "      <td>Joel Gott</td>\n",
       "      <td>2007</td>\n",
       "    </tr>\n",
       "    <tr>\n",
       "      <th>4422</th>\n",
       "      <td>US</td>\n",
       "      <td>Very dark in color, this robust wine has entic...</td>\n",
       "      <td>NaN</td>\n",
       "      <td>89</td>\n",
       "      <td>28.0</td>\n",
       "      <td>California</td>\n",
       "      <td>Sierra Foothills</td>\n",
       "      <td>Sierra Foothills</td>\n",
       "      <td>Jim Gordon</td>\n",
       "      <td>@gordone_cellars</td>\n",
       "      <td>Le Casque 2014 Petite Sirah (Sierra Foothills)</td>\n",
       "      <td>Petite Sirah</td>\n",
       "      <td>Le Casque</td>\n",
       "      <td>2014</td>\n",
       "    </tr>\n",
       "    <tr>\n",
       "      <th>120435</th>\n",
       "      <td>US</td>\n",
       "      <td>Quite light in the glass, this 50-50 blend fro...</td>\n",
       "      <td>Aloysius</td>\n",
       "      <td>93</td>\n",
       "      <td>39.0</td>\n",
       "      <td>California</td>\n",
       "      <td>Sta. Rita Hills</td>\n",
       "      <td>Central Coast</td>\n",
       "      <td>Matt Kettmann</td>\n",
       "      <td>@mattkettmann</td>\n",
       "      <td>Jamie Slone Wines 2014 Aloysius Chardonnay (St...</td>\n",
       "      <td>Chardonnay</td>\n",
       "      <td>Jamie Slone Wines</td>\n",
       "      <td>2014</td>\n",
       "    </tr>\n",
       "    <tr>\n",
       "      <th>2536</th>\n",
       "      <td>US</td>\n",
       "      <td>Dried blueberry fruit, asphalt, black plums an...</td>\n",
       "      <td>NaN</td>\n",
       "      <td>89</td>\n",
       "      <td>29.0</td>\n",
       "      <td>California</td>\n",
       "      <td>Santa Barbara County</td>\n",
       "      <td>Central Coast</td>\n",
       "      <td>Matt Kettmann</td>\n",
       "      <td>@mattkettmann</td>\n",
       "      <td>Jaffurs 2013 Syrah (Santa Barbara County)</td>\n",
       "      <td>Syrah</td>\n",
       "      <td>Jaffurs</td>\n",
       "      <td>2013</td>\n",
       "    </tr>\n",
       "    <tr>\n",
       "      <th>108827</th>\n",
       "      <td>Austria</td>\n",
       "      <td>There are just a few hints of pepper on this c...</td>\n",
       "      <td>NaN</td>\n",
       "      <td>87</td>\n",
       "      <td>15.0</td>\n",
       "      <td>Burgenland</td>\n",
       "      <td>NaN</td>\n",
       "      <td>NaN</td>\n",
       "      <td>Anne Krebiehl MW</td>\n",
       "      <td>@AnneInVino</td>\n",
       "      <td>Meinklang 2015 Grüner Veltliner (Burgenland)</td>\n",
       "      <td>Grüner Veltliner</td>\n",
       "      <td>Meinklang</td>\n",
       "      <td>2015</td>\n",
       "    </tr>\n",
       "  </tbody>\n",
       "</table>\n",
       "</div>"
      ],
      "text/plain": [
       "        country                                        description  \\\n",
       "81266        US  Shows a tightly wound structure, with big, har...   \n",
       "4422         US  Very dark in color, this robust wine has entic...   \n",
       "120435       US  Quite light in the glass, this 50-50 blend fro...   \n",
       "2536         US  Dried blueberry fruit, asphalt, black plums an...   \n",
       "108827  Austria  There are just a few hints of pepper on this c...   \n",
       "\n",
       "       designation  points  price    province              region_1  \\\n",
       "81266       GOTT 7      94   50.0  California           Napa Valley   \n",
       "4422           NaN      89   28.0  California      Sierra Foothills   \n",
       "120435    Aloysius      93   39.0  California       Sta. Rita Hills   \n",
       "2536           NaN      89   29.0  California  Santa Barbara County   \n",
       "108827         NaN      87   15.0  Burgenland                   NaN   \n",
       "\n",
       "                region_2       taster_name taster_twitter_handle  \\\n",
       "81266               Napa               NaN                   NaN   \n",
       "4422    Sierra Foothills        Jim Gordon      @gordone_cellars   \n",
       "120435     Central Coast     Matt Kettmann         @mattkettmann   \n",
       "2536       Central Coast     Matt Kettmann         @mattkettmann   \n",
       "108827               NaN  Anne Krebiehl MW           @AnneInVino   \n",
       "\n",
       "                                                    title             variety  \\\n",
       "81266   Joel Gott 2007 GOTT 7 Cabernet Sauvignon (Napa...  Cabernet Sauvignon   \n",
       "4422       Le Casque 2014 Petite Sirah (Sierra Foothills)        Petite Sirah   \n",
       "120435  Jamie Slone Wines 2014 Aloysius Chardonnay (St...          Chardonnay   \n",
       "2536            Jaffurs 2013 Syrah (Santa Barbara County)               Syrah   \n",
       "108827       Meinklang 2015 Grüner Veltliner (Burgenland)    Grüner Veltliner   \n",
       "\n",
       "                   winery  year  \n",
       "81266           Joel Gott  2007  \n",
       "4422            Le Casque  2014  \n",
       "120435  Jamie Slone Wines  2014  \n",
       "2536              Jaffurs  2013  \n",
       "108827          Meinklang  2015  "
      ]
     },
     "execution_count": 181,
     "metadata": {},
     "output_type": "execute_result"
    }
   ],
   "source": [
    "wine_reviews.year[wine_reviews.year.isna()] = 1800\n",
    "wine_reviews.sample(5)"
   ]
  },
  {
   "cell_type": "code",
   "execution_count": 182,
   "metadata": {},
   "outputs": [],
   "source": [
    "wine_reviews = wine_reviews.dropna(subset={'country', 'variety'})\n",
    "wine_reviews.drop(['taster_twitter_handle','title','designation','region_2','region_1'],axis=1, inplace=True)\n",
    "wine_reviews.drop(['winery'], axis = 1, inplace=True)"
   ]
  },
  {
   "cell_type": "code",
   "execution_count": 183,
   "metadata": {},
   "outputs": [],
   "source": [
    "wine_reviews.drop_duplicates(inplace=True)"
   ]
  },
  {
   "cell_type": "code",
   "execution_count": 184,
   "metadata": {},
   "outputs": [],
   "source": [
    "wine_reviews.to_csv(\"data/wine_reviews.csv\")"
   ]
  },
  {
   "cell_type": "markdown",
   "metadata": {
    "tags": []
   },
   "source": [
    "#### Remove categorical columns with too much categoris"
   ]
  },
  {
   "cell_type": "code",
   "execution_count": 108,
   "metadata": {},
   "outputs": [
    {
     "name": "stdout",
     "output_type": "stream",
     "text": [
      "California          36247\n",
      "unknown             11537\n",
      "Washington           8639\n",
      "Bordeaux             5941\n",
      "Tuscany              5897\n",
      "Oregon               5373\n",
      "Burgundy             3980\n",
      "Northern Spain       3851\n",
      "Piedmont             3729\n",
      "Mendoza Province     3264\n",
      "Name: province, dtype: int64\n",
      "Pinot Noir                  13269\n",
      "Chardonnay                  11750\n",
      "Cabernet Sauvignon           9470\n",
      "Red Blend                    8935\n",
      "Bordeaux-style Red Blend     6915\n",
      "unknown                      6845\n",
      "Riesling                     5188\n",
      "Sauvignon Blanc              4963\n",
      "Syrah                        4142\n",
      "Rosé                         3563\n",
      "Name: variety, dtype: int64\n"
     ]
    }
   ],
   "source": [
    "reviews = wine_reviews\n",
    "\n",
    "province_to_keep = province_count.head(50).index.array\n",
    "reviews.province = reviews.province.apply(lambda x: x if x in province_to_keep else 'unknown')\n",
    "\n",
    "veriety_to_keep = veriety_count.head(100).index.array\n",
    "reviews.variety = reviews.variety.apply(lambda x: x if x in veriety_to_keep else 'unknown')\n",
    "\n",
    "print(reviews.province.value_counts().sort_values(ascending=False).head(10))\n",
    "print(reviews.variety.value_counts().sort_values(ascending=False).head(10))"
   ]
  }
 ],
 "metadata": {
  "kernelspec": {
   "display_name": "Python 3 (ipykernel)",
   "language": "python",
   "name": "python3"
  },
  "language_info": {
   "codemirror_mode": {
    "name": "ipython",
    "version": 3
   },
   "file_extension": ".py",
   "mimetype": "text/x-python",
   "name": "python",
   "nbconvert_exporter": "python",
   "pygments_lexer": "ipython3",
   "version": "3.9.13"
  }
 },
 "nbformat": 4,
 "nbformat_minor": 4
}
